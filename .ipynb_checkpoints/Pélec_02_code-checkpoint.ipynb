{
 "cells": [
  {
   "cell_type": "markdown",
   "id": "ee05511e",
   "metadata": {},
   "source": [
    "# Recherche de modèles pour la prédiction de la consommation d'énergie et des émissions de gaz à effets de serre"
   ]
  },
  {
   "cell_type": "markdown",
   "id": "147e4a13",
   "metadata": {},
   "source": [
    "## Sommaire\n",
    "\n",
    "* [1 - Préparation du notebook](#chapter1)\n",
    "\n",
    "\n",
    "* [2 - Prédiction de la consommation d'énergie](#chapter2)\n",
    "    * [2.1. Création d'un modèle \"baseline\"](#section_2_1)\n",
    "        * [2.1.1. Préparation des données](#section_2_1_1)\n",
    "        * [2.1.2. Création d'un modèle de base](#section_2_1_2)\n",
    "        * [2.1.3. Evaluation du modèle avec le jeu de test](#section_2_1_3)\n",
    "    * [2.2. Choix du modèle le plus adapté](#section_2_2)\n",
    "    * [2.3. Choix des hyperparamètres](#section_2_3)\n",
    "    * [2.4. Analyses des erreurs](#section_2_4)\n",
    "    * [2.5. Bilan du modèle](#section_2_5)\n",
    "    * [2.6. Pipeline final](#section_2_6)\n",
    "    \n",
    "    \n",
    "* [3 - Prédiction des émissions de gaz à effets de serre](#chapter3)\n",
    "    * [3.1. Préparation des variables](#section_3_1)\n",
    "    * [3.2. Création d'un modèle \"baseline\"](#section_3_2)\n",
    "    * [3.3. Choix du modèle le plus adapté](#section_3_3)\n",
    "    * [3.4. Choix des hyperparamètres](#section_3_4)\n",
    "    * [3.5. Analyses des erreurs](#section_3_5)\n",
    "    * [3.6. Bilan du modèle](#section_3_6)\n",
    "    * [3.7. Pipeline finale](#section_3_7)\n",
    "    \n",
    "    \n",
    "* [4 - Prédiction des émissions de gaz à effets de serre à l'aide de l'ENERGYSTAR Score](#chapter4)\n",
    "    * [4.1. Préparation des variables](#section_4_1)\n",
    "    * [4.2. Création d'un modèle de base](#section_4_2)\n",
    "    * [4.3. Choix du modèle le plus adapté](#section_4_3)\n",
    "    * [4.4. Sélection des hyperparamètres](#section_4_4)\n",
    "    * [4.5. Analyses des erreurs](#section_4_5)\n",
    "    * [4.6. Bilan du modèle](#section_4_6)\n",
    "    * [4.7. Pipeline finale](#section_4_7)\n",
    "\n",
    "\n",
    "* [5 - Conclusion](#chapter5)\n",
    "\n",
    "\n",
    "* [Bonus : Prédiction à l'aide de réseau de neurones](#chapter6)\n",
    "    * [Prédiction de la consommation d'énergie](#section_6_1)\n",
    "    * [Prédiction des émissions de CO2 (sans score Energy Star)](#section_6_2)\n",
    "    * [Prédiction des émissions de CO2 (avec score Energy Star)](#section_6_3)\n",
    "    \n",
    "    \n",
    "* [Conclusion générale](#chapter7)"
   ]
  },
  {
   "cell_type": "markdown",
   "id": "f2780fda",
   "metadata": {},
   "source": [
    "# 1) Préparation du notebook <a class=\"anchor\" id=\"chapter1\"></a>"
   ]
  },
  {
   "cell_type": "code",
   "execution_count": 1,
   "id": "95a8b3ee",
   "metadata": {},
   "outputs": [],
   "source": [
    "# importation des librairies nécessaires aux tests de modèle\n",
    "import warnings\n",
    "warnings.filterwarnings(\"ignore\")\n",
    "\n",
    "import pandas as pd\n",
    "import numpy as np\n",
    "from scipy import stats\n",
    "import missingno as msno\n",
    "\n",
    "import matplotlib.pyplot as plt\n",
    "import seaborn as sns\n",
    "import sklearn\n",
    "from sklearn.preprocessing import OneHotEncoder, StandardScaler, RobustScaler\n",
    "from sklearn.impute import SimpleImputer\n",
    "from sklearn.metrics import mean_absolute_error, mean_squared_error, r2_score, mean_absolute_percentage_error\n",
    "from sklearn.model_selection import train_test_split\n",
    "from yellowbrick.regressor import ResidualsPlot, prediction_error"
   ]
  },
  {
   "cell_type": "code",
   "execution_count": 2,
   "id": "cf987a68",
   "metadata": {},
   "outputs": [],
   "source": [
    "# Paramétrage visuelle de Scikit-Learn\n",
    "sklearn.set_config(display=\"diagram\")"
   ]
  },
  {
   "cell_type": "code",
   "execution_count": 3,
   "id": "944d223a",
   "metadata": {},
   "outputs": [],
   "source": [
    "# Fonction permettant de calculer le RMSPE\n",
    "# source : https://stackoverflow.com/questions/53165807/how-to-calculate-rmspe-in-python-using-numpy\n",
    "def rmpse(y_true, y_pred):\n",
    "    '''\n",
    "    Compute Root Mean Square Percentage Error between two arrays.\n",
    "    '''\n",
    "    loss = np.sqrt(np.mean(np.square(((y_true - y_pred) / y_true))))\n",
    "\n",
    "    return loss"
   ]
  },
  {
   "cell_type": "code",
   "execution_count": 4,
   "id": "4b903131",
   "metadata": {},
   "outputs": [],
   "source": [
    "# Fonction d'évaluation des modèles de régression\n",
    "def regression_metrics(y_test, y_pred):\n",
    "    \"\"\"Function which contains differents metrics about regression\n",
    "    Input: y_test, prediction\n",
    "    \n",
    "    Output: MAE, MSE, RMSE, MAPE & R² score  \n",
    "    \"\"\"\n",
    "    mae = mean_absolute_error(y_test, y_pred)\n",
    "    mse = mean_squared_error(y_test, y_pred)\n",
    "    rmse = np.sqrt(mse)\n",
    "    rmpse_cal = rmpse(y_test, y_pred)\n",
    "    mape = mean_absolute_percentage_error(y_test, y_pred)\n",
    "    r_score = r2_score(y_test, y_pred, multioutput=\"variance_weighted\")\n",
    "    print(\"MAE: \",mae.round(5))\n",
    "    print(\"MSE: \", mse.round(5))\n",
    "    print(\"RMSE: \", rmse)\n",
    "    print(\"RMPSE: \", rmpse_cal.round(3))\n",
    "    print(\"MAPE: \", mape.round(5))\n",
    "    print(\"R²: \", r_score.round(5))"
   ]
  },
  {
   "cell_type": "code",
   "execution_count": 5,
   "id": "248a9458",
   "metadata": {},
   "outputs": [
    {
     "data": {
      "text/html": [
       "<div>\n",
       "<style scoped>\n",
       "    .dataframe tbody tr th:only-of-type {\n",
       "        vertical-align: middle;\n",
       "    }\n",
       "\n",
       "    .dataframe tbody tr th {\n",
       "        vertical-align: top;\n",
       "    }\n",
       "\n",
       "    .dataframe thead th {\n",
       "        text-align: right;\n",
       "    }\n",
       "</style>\n",
       "<table border=\"1\" class=\"dataframe\">\n",
       "  <thead>\n",
       "    <tr style=\"text-align: right;\">\n",
       "      <th></th>\n",
       "      <th>PrimaryPropertyType</th>\n",
       "      <th>Neighborhood</th>\n",
       "      <th>YearBuilt</th>\n",
       "      <th>NumberofBuildings</th>\n",
       "      <th>NumberofFloors</th>\n",
       "      <th>PropertyGFATotal</th>\n",
       "      <th>SecondLargestPropertyUseType</th>\n",
       "      <th>SecondLargestPropertyUseTypeGFA</th>\n",
       "      <th>ThirdLargestPropertyUseType</th>\n",
       "      <th>ThirdLargestPropertyUseTypeGFA</th>\n",
       "      <th>ENERGYSTARScore</th>\n",
       "      <th>SiteEnergyUse(kBtu)</th>\n",
       "      <th>TotalGHGEmissions</th>\n",
       "      <th>Latitude</th>\n",
       "      <th>Longitude</th>\n",
       "      <th>Age</th>\n",
       "      <th>degreeDaysH</th>\n",
       "      <th>HasParking</th>\n",
       "      <th>Clusters</th>\n",
       "    </tr>\n",
       "  </thead>\n",
       "  <tbody>\n",
       "    <tr>\n",
       "      <th>0</th>\n",
       "      <td>Hotel</td>\n",
       "      <td>Downtown</td>\n",
       "      <td>1927</td>\n",
       "      <td>1.0</td>\n",
       "      <td>12.0</td>\n",
       "      <td>88434</td>\n",
       "      <td>N.C.</td>\n",
       "      <td>NaN</td>\n",
       "      <td>N.C.</td>\n",
       "      <td>NaN</td>\n",
       "      <td>65.0</td>\n",
       "      <td>6981428.0</td>\n",
       "      <td>249.43</td>\n",
       "      <td>47.61220</td>\n",
       "      <td>-122.33799</td>\n",
       "      <td>88</td>\n",
       "      <td>4005</td>\n",
       "      <td>No</td>\n",
       "      <td>3</td>\n",
       "    </tr>\n",
       "    <tr>\n",
       "      <th>1</th>\n",
       "      <td>Hotel</td>\n",
       "      <td>Downtown</td>\n",
       "      <td>1927</td>\n",
       "      <td>1.0</td>\n",
       "      <td>12.0</td>\n",
       "      <td>88434</td>\n",
       "      <td>N.C.</td>\n",
       "      <td>NaN</td>\n",
       "      <td>N.C.</td>\n",
       "      <td>NaN</td>\n",
       "      <td>60.0</td>\n",
       "      <td>7226362.5</td>\n",
       "      <td>249.98</td>\n",
       "      <td>47.61220</td>\n",
       "      <td>-122.33799</td>\n",
       "      <td>89</td>\n",
       "      <td>4093</td>\n",
       "      <td>No</td>\n",
       "      <td>3</td>\n",
       "    </tr>\n",
       "    <tr>\n",
       "      <th>2</th>\n",
       "      <td>Hotel</td>\n",
       "      <td>Downtown</td>\n",
       "      <td>1996</td>\n",
       "      <td>1.0</td>\n",
       "      <td>11.0</td>\n",
       "      <td>103566</td>\n",
       "      <td>Parking</td>\n",
       "      <td>15064.0</td>\n",
       "      <td>Restaurant</td>\n",
       "      <td>4622.0</td>\n",
       "      <td>51.0</td>\n",
       "      <td>8354235.0</td>\n",
       "      <td>263.51</td>\n",
       "      <td>47.61317</td>\n",
       "      <td>-122.33393</td>\n",
       "      <td>19</td>\n",
       "      <td>4005</td>\n",
       "      <td>Yes</td>\n",
       "      <td>3</td>\n",
       "    </tr>\n",
       "  </tbody>\n",
       "</table>\n",
       "</div>"
      ],
      "text/plain": [
       "  PrimaryPropertyType Neighborhood  YearBuilt  NumberofBuildings  \\\n",
       "0               Hotel     Downtown       1927                1.0   \n",
       "1               Hotel     Downtown       1927                1.0   \n",
       "2               Hotel     Downtown       1996                1.0   \n",
       "\n",
       "   NumberofFloors  PropertyGFATotal SecondLargestPropertyUseType  \\\n",
       "0            12.0             88434                         N.C.   \n",
       "1            12.0             88434                         N.C.   \n",
       "2            11.0            103566                      Parking   \n",
       "\n",
       "   SecondLargestPropertyUseTypeGFA ThirdLargestPropertyUseType  \\\n",
       "0                              NaN                        N.C.   \n",
       "1                              NaN                        N.C.   \n",
       "2                          15064.0                  Restaurant   \n",
       "\n",
       "   ThirdLargestPropertyUseTypeGFA  ENERGYSTARScore  SiteEnergyUse(kBtu)  \\\n",
       "0                             NaN             65.0            6981428.0   \n",
       "1                             NaN             60.0            7226362.5   \n",
       "2                          4622.0             51.0            8354235.0   \n",
       "\n",
       "   TotalGHGEmissions  Latitude  Longitude  Age  degreeDaysH HasParking  \\\n",
       "0             249.43  47.61220 -122.33799   88         4005         No   \n",
       "1             249.98  47.61220 -122.33799   89         4093         No   \n",
       "2             263.51  47.61317 -122.33393   19         4005        Yes   \n",
       "\n",
       "   Clusters  \n",
       "0         3  \n",
       "1         3  \n",
       "2         3  "
      ]
     },
     "execution_count": 5,
     "metadata": {},
     "output_type": "execute_result"
    }
   ],
   "source": [
    "# importation des données\n",
    "data = pd.read_csv(\"datasets/benchmark_total.csv\")\n",
    "data.head(3)"
   ]
  },
  {
   "cell_type": "markdown",
   "id": "dee3feec",
   "metadata": {},
   "source": [
    "Une fois que l'on a chargé les données, on va pouvoir séparer notre jeu de données en deux parties : un train set et un test set. On ne va pas toucher aux données du test set car il nous servia pour la validation de notre modèle. C'est grâce à ce jeu de données que l'on pourra sortir les metrics nécessaires. Dans chaque jeu (entraînement et test), on supprime les variables qui ne seront pas utiles dans notre modélisation. \n",
    "\n",
    "Tout d'abord, on supprime les variables que l'on cherche à prédire. \"SiteEnergyUse(kBtu)\" et \"TotalGHGEmissions\" sont les deux cibles que l'on cherche à prédire, on les mettra donc dans une variable y. Ensuite, notre jeu de données comporte de nombreuses valeurs : certaines sont d'origine et d'autres proviennent d'une opération de feature engineering. On va donc supprimer les doublons pour éviter la fuite de donneés. \n",
    "- Le score ENERGYSTAR est enlevé car on ne va pas s'en servir pour prédire la consommation d'énergie. On regardera son impact dans la prédiction des effets de gaz à effets de serre dans un second temps. \n",
    "- L'année de construction des bâtiments est supprimée. On va lui préfére l'utilisation d'une variable \"Age\".\n",
    "- La variable \"degreeDayC\" a été supprimé car elle était fortement corréelée à la variable \"degreeDayH\". \n",
    "- Le quartier est supprimé ainsi que la longitude et la latitude. Ces informations concernent la localisation de la propriété. L'information de la localisation se trouve dans la variable \"Cluster\". Les explications de la création de cette variable se trouvent dans le notebook d'analyse. "
   ]
  },
  {
   "cell_type": "code",
   "execution_count": 6,
   "id": "6da648b4",
   "metadata": {},
   "outputs": [
    {
     "data": {
      "image/png": "[encoded data removed]",
      "text/plain": [
       "<Figure size 1800x720 with 2 Axes>"
      ]
     },
     "metadata": {},
     "output_type": "display_data"
    }
   ],
   "source": [
    "msno.matrix(data);"
   ]
  },
  {
   "cell_type": "code",
   "execution_count": 7,
   "id": "0aa3e315",
   "metadata": {},
   "outputs": [],
   "source": [
    "# Transformation logarithmique des variables cibles\n",
    "# L'analyse exploratoire a montré qu'elles ne suivaient pas une loi normale\n",
    "data[\"SiteEnergyUse(kBtu)_log\"] = np.log(data[\"SiteEnergyUse(kBtu)\"])\n",
    "data[\"TotalGHGEmissions_log\"] = np.log(data[\"TotalGHGEmissions\"])"
   ]
  },
  {
   "cell_type": "code",
   "execution_count": 8,
   "id": "70525bfc",
   "metadata": {},
   "outputs": [],
   "source": [
    "# Création d'un jeu d'entrainement (train set) et d'un jeu de test (test set)\n",
    "# Stratification sur la variable \"type de propriété\" (30% de bureau dans notre échantillon)\n",
    "train_set, test_set = train_test_split(data, test_size=0.2, random_state=42)\n",
    "\n",
    "y_train = train_set[[\"SiteEnergyUse(kBtu)_log\"]]\n",
    "y_test = test_set[[\"SiteEnergyUse(kBtu)_log\"]]\n",
    "X_train = train_set.drop([\"SiteEnergyUse(kBtu)\", \"SiteEnergyUse(kBtu)_log\", \"TotalGHGEmissions\", \"TotalGHGEmissions_log\", \"ENERGYSTARScore\", \"YearBuilt\", \"Neighborhood\", \"Latitude\", \"Longitude\"], axis=1)\n",
    "X_test = test_set.drop([\"SiteEnergyUse(kBtu)\", \"SiteEnergyUse(kBtu)_log\", \"TotalGHGEmissions\", \"TotalGHGEmissions_log\", \"ENERGYSTARScore\", \"YearBuilt\",\"Neighborhood\", \"Latitude\", \"Longitude\"], axis=1)"
   ]
  },
  {
   "cell_type": "markdown",
   "id": "6444b164",
   "metadata": {},
   "source": [
    "# 2) Prédiction de la consommation d'énergie <a class=\"anchor\" id=\"chapter2\"></a>"
   ]
  },
  {
   "cell_type": "markdown",
   "id": "e086d972",
   "metadata": {},
   "source": [
    "## 2.1) Création d'un modèle \"baseline\" <a class=\"anchor\" id=\"section_2_1\"></a>"
   ]
  },
  {
   "cell_type": "markdown",
   "id": "6a8cb4de",
   "metadata": {},
   "source": [
    "### 2.1.1) Préparation des données <a class=\"anchor\" id=\"section_2_1_1\"></a>"
   ]
  },
  {
   "cell_type": "markdown",
   "id": "7ce2fe53",
   "metadata": {},
   "source": [
    "On sépare les variables catégorielles des variables numériques. Pour pouvoir leur appliquer des traitements différents qui seront enregistrés dans un pipeline de préprocessing. \n",
    "Pour les variables catégorielles : \n",
    "- On complète les valeurs manquantes par le mode (celle qui est le plus fréquent)\n",
    "- On les transforme via un OneHotEncoding. Ainsi, elles seront transformées en valeur numérique compréhensible par notre modèles.\n",
    "\n",
    "Pour les variables numériques : \n",
    "- On complète les valeurs manquantes par la médiane. Il y a une grande diversité dans nos valeurs numériques sans que cela soit des anomalies. Néanmoins, elles vont faire varier notre moyenne, c'est pourquoi on choisit ici la médiane.\n",
    "- On standardise nos variables pour enlever les unités qui sont différents (degré Fahrenheit pour Degree Days Heating ; sq/ft² pour la taille de la propriété, etc.)."
   ]
  },
  {
   "cell_type": "code",
   "execution_count": 9,
   "id": "eb1a2553",
   "metadata": {},
   "outputs": [],
   "source": [
    "# Séparation des variables catégorielles et numériques\n",
    "cat_var = [\"PrimaryPropertyType\", \"Clusters\", \"SecondLargestPropertyUseType\", \"ThirdLargestPropertyUseType\", \"HasParking\"]\n",
    "num_var = [\"PropertyGFATotal\", \"degreeDaysH\", \"Age\", \"NumberofBuildings\", \"NumberofFloors\", \"SecondLargestPropertyUseTypeGFA\", \"ThirdLargestPropertyUseTypeGFA\"]"
   ]
  },
  {
   "cell_type": "code",
   "execution_count": 10,
   "id": "262498ce",
   "metadata": {},
   "outputs": [],
   "source": [
    "# Création d'un pipeline de transformation\n",
    "from sklearn.compose import ColumnTransformer\n",
    "from sklearn.pipeline import Pipeline\n",
    "\n",
    "cat_pipe = Pipeline([\n",
    "    ('imputer', SimpleImputer(strategy='most_frequent', fill_value='missing')),\n",
    "    ('encoder', OneHotEncoder(handle_unknown='ignore', sparse=False))\n",
    "])\n",
    "\n",
    "num_pipe = Pipeline([\n",
    "    ('imputer', SimpleImputer(strategy=\"median\", fill_value=\"missing\")),\n",
    "    ('scaler', RobustScaler())\n",
    "])\n",
    "\n",
    "preprocessor = ColumnTransformer(\n",
    "    transformers=[\n",
    "    ('cat', cat_pipe, cat_var),\n",
    "    ('num', num_pipe, num_var)\n",
    "])"
   ]
  },
  {
   "cell_type": "code",
   "execution_count": 11,
   "id": "a83754cb",
   "metadata": {},
   "outputs": [],
   "source": [
    "# transformation des variables\n",
    "X_train = preprocessor.fit_transform(X_train)"
   ]
  },
  {
   "cell_type": "markdown",
   "id": "6946918b",
   "metadata": {},
   "source": [
    "### 2.1.2) Création du modèle de base <a class=\"anchor\" id=\"section_2_1_2\"></a>"
   ]
  },
  {
   "cell_type": "markdown",
   "id": "2be7ca5e",
   "metadata": {},
   "source": [
    "Le modèle choisi pour obtenir une baseline est un modèle naïf. Ce type de modèle prédit la valeur médiane de la variable cible. Le but étant d'avoir une prédiction proche de ce que ferait un modèle basé sur le hasard. Les métriques qui sortiront de ce modèle serviront de base pour évaluer les performances d'autres modèles. "
   ]
  },
  {
   "cell_type": "code",
   "execution_count": 12,
   "id": "edc0ff20",
   "metadata": {
    "scrolled": true
   },
   "outputs": [
    {
     "data": {
      "text/html": [
       "<style>#sk-58926a13-d3d8-4550-95be-ea942f684894 {color: black;background-color: white;}#sk-58926a13-d3d8-4550-95be-ea942f684894 pre{padding: 0;}#sk-58926a13-d3d8-4550-95be-ea942f684894 div.sk-toggleable {background-color: white;}#sk-58926a13-d3d8-4550-95be-ea942f684894 label.sk-toggleable__label {cursor: pointer;display: block;width: 100%;margin-bottom: 0;padding: 0.2em 0.3em;box-sizing: border-box;text-align: center;}#sk-58926a13-d3d8-4550-95be-ea942f684894 div.sk-toggleable__content {max-height: 0;max-width: 0;overflow: hidden;text-align: left;background-color: #f0f8ff;}#sk-58926a13-d3d8-4550-95be-ea942f684894 div.sk-toggleable__content pre {margin: 0.2em;color: black;border-radius: 0.25em;background-color: #f0f8ff;}#sk-58926a13-d3d8-4550-95be-ea942f684894 input.sk-toggleable__control:checked~div.sk-toggleable__content {max-height: 200px;max-width: 100%;overflow: auto;}#sk-58926a13-d3d8-4550-95be-ea942f684894 div.sk-estimator input.sk-toggleable__control:checked~label.sk-toggleable__label {background-color: #d4ebff;}#sk-58926a13-d3d8-4550-95be-ea942f684894 div.sk-label input.sk-toggleable__control:checked~label.sk-toggleable__label {background-color: #d4ebff;}#sk-58926a13-d3d8-4550-95be-ea942f684894 input.sk-hidden--visually {border: 0;clip: rect(1px 1px 1px 1px);clip: rect(1px, 1px, 1px, 1px);height: 1px;margin: -1px;overflow: hidden;padding: 0;position: absolute;width: 1px;}#sk-58926a13-d3d8-4550-95be-ea942f684894 div.sk-estimator {font-family: monospace;background-color: #f0f8ff;margin: 0.25em 0.25em;border: 1px dotted black;border-radius: 0.25em;box-sizing: border-box;}#sk-58926a13-d3d8-4550-95be-ea942f684894 div.sk-estimator:hover {background-color: #d4ebff;}#sk-58926a13-d3d8-4550-95be-ea942f684894 div.sk-parallel-item::after {content: \"\";width: 100%;border-bottom: 1px solid gray;flex-grow: 1;}#sk-58926a13-d3d8-4550-95be-ea942f684894 div.sk-label:hover label.sk-toggleable__label {background-color: #d4ebff;}#sk-58926a13-d3d8-4550-95be-ea942f684894 div.sk-serial::before {content: \"\";position: absolute;border-left: 1px solid gray;box-sizing: border-box;top: 2em;bottom: 0;left: 50%;}#sk-58926a13-d3d8-4550-95be-ea942f684894 div.sk-serial {display: flex;flex-direction: column;align-items: center;background-color: white;}#sk-58926a13-d3d8-4550-95be-ea942f684894 div.sk-item {z-index: 1;}#sk-58926a13-d3d8-4550-95be-ea942f684894 div.sk-parallel {display: flex;align-items: stretch;justify-content: center;background-color: white;}#sk-58926a13-d3d8-4550-95be-ea942f684894 div.sk-parallel-item {display: flex;flex-direction: column;position: relative;background-color: white;}#sk-58926a13-d3d8-4550-95be-ea942f684894 div.sk-parallel-item:first-child::after {align-self: flex-end;width: 50%;}#sk-58926a13-d3d8-4550-95be-ea942f684894 div.sk-parallel-item:last-child::after {align-self: flex-start;width: 50%;}#sk-58926a13-d3d8-4550-95be-ea942f684894 div.sk-parallel-item:only-child::after {width: 0;}#sk-58926a13-d3d8-4550-95be-ea942f684894 div.sk-dashed-wrapped {border: 1px dashed gray;margin: 0.2em;box-sizing: border-box;padding-bottom: 0.1em;background-color: white;position: relative;}#sk-58926a13-d3d8-4550-95be-ea942f684894 div.sk-label label {font-family: monospace;font-weight: bold;background-color: white;display: inline-block;line-height: 1.2em;}#sk-58926a13-d3d8-4550-95be-ea942f684894 div.sk-label-container {position: relative;z-index: 2;text-align: center;}#sk-58926a13-d3d8-4550-95be-ea942f684894 div.sk-container {display: inline-block;position: relative;}</style><div id=\"sk-58926a13-d3d8-4550-95be-ea942f684894\" class\"sk-top-container\"><div class=\"sk-container\"><div class=\"sk-item\"><div class=\"sk-estimator sk-toggleable\"><input class=\"sk-toggleable__control sk-hidden--visually\" id=\"0c95489a-4b2f-4f6b-a0a6-b7c2bb29cd91\" type=\"checkbox\" checked><label class=\"sk-toggleable__label\" for=\"0c95489a-4b2f-4f6b-a0a6-b7c2bb29cd91\">DummyRegressor</label><div class=\"sk-toggleable__content\"><pre>DummyRegressor(strategy='median')</pre></div></div></div></div></div>"
      ],
      "text/plain": [
       "DummyRegressor(strategy='median')"
      ]
     },
     "execution_count": 12,
     "metadata": {},
     "output_type": "execute_result"
    }
   ],
   "source": [
    "from sklearn.dummy import DummyRegressor\n",
    "\n",
    "dummy_reg = DummyRegressor(strategy=\"median\")\n",
    "dummy_reg.fit(X_train, y_train)"
   ]
  },
  {
   "cell_type": "markdown",
   "id": "05749efe",
   "metadata": {},
   "source": [
    "### 2.1.3) Evaluation du modèle avec le jeu de test <a class=\"anchor\" id=\"section_2_1_3\"></a>"
   ]
  },
  {
   "cell_type": "code",
   "execution_count": 13,
   "id": "b733ab57",
   "metadata": {},
   "outputs": [
    {
     "name": "stdout",
     "output_type": "stream",
     "text": [
      "MAE:  1.01532\n",
      "MSE:  1.74934\n",
      "RMSE:  1.3226277670210922\n",
      "RMPSE:  0.084\n",
      "MAPE:  0.06662\n",
      "R²:  -0.0353\n"
     ]
    }
   ],
   "source": [
    "# Prédiction à l'aide de notre dummy regressor\n",
    "# Evaluation du modèle\n",
    "X_test = preprocessor.transform(X_test)\n",
    "y_pred = dummy_reg.predict(X_test)\n",
    "regression_metrics(np.array(y_test), y_pred)"
   ]
  },
  {
   "cell_type": "markdown",
   "id": "52ba91fb",
   "metadata": {},
   "source": [
    "Les mesures pour évaluer notre méthode sont le MAE, le MSE (qui s'exprime en log²), le RMSE (qui s'exprime en log), le RMSE, le RMPSE (% de RMSE pour mieux comparer), le MAPE et le coefficient de détermination R². "
   ]
  },
  {
   "cell_type": "markdown",
   "id": "0747ad66",
   "metadata": {},
   "source": [
    "## 2.2) Choix du modèle le plus performant <a class=\"anchor\" id=\"section_2_2\"></a>"
   ]
  },
  {
   "cell_type": "markdown",
   "id": "c9eb6164",
   "metadata": {},
   "source": [
    "Le problème à laquelle nous sommes confrontés est un problème de régression. On va donc choisir des modèles qui peuvent permettre de faire ce type de prédiction. On va choisir des méthodes linéaires : Régression linéaire et ses variantes régularisées (Ridge et Lasso), le Support Vecteur Machine et des méthodes non linéaires : la régression linéaire ridge avec noyau, des méthodes ensemblistes de bagging (Bagging, Random Forest) et de boosting (AdaBoost, Gradient Boosting, XGBoost)."
   ]
  },
  {
   "cell_type": "code",
   "execution_count": 14,
   "id": "90637e89",
   "metadata": {},
   "outputs": [],
   "source": [
    "# instanciation des différents modèles de régression\n",
    "from sklearn.linear_model import Ridge, Lasso, LinearRegression\n",
    "from sklearn.tree import DecisionTreeRegressor\n",
    "from sklearn.svm import SVR\n",
    "from sklearn.kernel_ridge import KernelRidge\n",
    "from sklearn.ensemble import AdaBoostRegressor, BaggingRegressor, GradientBoostingRegressor, RandomForestRegressor\n",
    "import xgboost as xgb\n",
    "\n",
    "dummy_reg = DummyRegressor(strategy=\"median\")\n",
    "lin_reg = LinearRegression()\n",
    "ridge = Ridge(random_state=42)\n",
    "lasso = Lasso(random_state=42)\n",
    "dt_reg =  DecisionTreeRegressor(random_state=42)\n",
    "svm_reg = SVR()\n",
    "ridge_kernel = KernelRidge()\n",
    "adaboost = AdaBoostRegressor(random_state=42)\n",
    "bagging = BaggingRegressor(random_state=42)\n",
    "gdboost = GradientBoostingRegressor(random_state=42)\n",
    "rdmforest = RandomForestRegressor(random_state=42)\n",
    "xgboost = xgb.XGBRegressor(random_state=42)"
   ]
  },
  {
   "cell_type": "code",
   "execution_count": 15,
   "id": "07d92221",
   "metadata": {},
   "outputs": [
    {
     "data": {
      "text/html": [
       "<div>\n",
       "<style scoped>\n",
       "    .dataframe tbody tr th:only-of-type {\n",
       "        vertical-align: middle;\n",
       "    }\n",
       "\n",
       "    .dataframe tbody tr th {\n",
       "        vertical-align: top;\n",
       "    }\n",
       "\n",
       "    .dataframe thead th {\n",
       "        text-align: right;\n",
       "    }\n",
       "</style>\n",
       "<table border=\"1\" class=\"dataframe\">\n",
       "  <thead>\n",
       "    <tr style=\"text-align: right;\">\n",
       "      <th></th>\n",
       "      <th>Dummy Regressor</th>\n",
       "      <th>Linear Regression</th>\n",
       "      <th>Ridge</th>\n",
       "      <th>Lasso</th>\n",
       "      <th>DecisionTree</th>\n",
       "      <th>SVM</th>\n",
       "      <th>Ridge Kernel</th>\n",
       "      <th>AdaBoost</th>\n",
       "      <th>Bagging</th>\n",
       "      <th>GradientBoosting</th>\n",
       "      <th>Random Forest</th>\n",
       "      <th>XGBoost</th>\n",
       "    </tr>\n",
       "  </thead>\n",
       "  <tbody>\n",
       "    <tr>\n",
       "      <th>MAE</th>\n",
       "      <td>1.015</td>\n",
       "      <td>2.238090e+02</td>\n",
       "      <td>0.691</td>\n",
       "      <td>0.876</td>\n",
       "      <td>0.336</td>\n",
       "      <td>0.940</td>\n",
       "      <td>0.695</td>\n",
       "      <td>0.553</td>\n",
       "      <td>0.358</td>\n",
       "      <td>0.454</td>\n",
       "      <td>0.340</td>\n",
       "      <td>0.361</td>\n",
       "    </tr>\n",
       "    <tr>\n",
       "      <th>MSE</th>\n",
       "      <td>1.749</td>\n",
       "      <td>1.615583e+07</td>\n",
       "      <td>1.906</td>\n",
       "      <td>1.309</td>\n",
       "      <td>0.389</td>\n",
       "      <td>1.504</td>\n",
       "      <td>1.935</td>\n",
       "      <td>0.528</td>\n",
       "      <td>0.278</td>\n",
       "      <td>0.373</td>\n",
       "      <td>0.241</td>\n",
       "      <td>0.268</td>\n",
       "    </tr>\n",
       "    <tr>\n",
       "      <th>RMSE</th>\n",
       "      <td>1.323</td>\n",
       "      <td>4.019431e+03</td>\n",
       "      <td>1.381</td>\n",
       "      <td>1.144</td>\n",
       "      <td>0.624</td>\n",
       "      <td>1.226</td>\n",
       "      <td>1.391</td>\n",
       "      <td>0.727</td>\n",
       "      <td>0.527</td>\n",
       "      <td>0.611</td>\n",
       "      <td>0.491</td>\n",
       "      <td>0.518</td>\n",
       "    </tr>\n",
       "    <tr>\n",
       "      <th>R²</th>\n",
       "      <td>-0.035</td>\n",
       "      <td>-9.561394e+06</td>\n",
       "      <td>-0.128</td>\n",
       "      <td>0.225</td>\n",
       "      <td>0.770</td>\n",
       "      <td>0.110</td>\n",
       "      <td>-0.145</td>\n",
       "      <td>0.688</td>\n",
       "      <td>0.836</td>\n",
       "      <td>0.779</td>\n",
       "      <td>0.857</td>\n",
       "      <td>0.841</td>\n",
       "    </tr>\n",
       "  </tbody>\n",
       "</table>\n",
       "</div>"
      ],
      "text/plain": [
       "      Dummy Regressor  Linear Regression  Ridge  Lasso  DecisionTree    SVM  \\\n",
       "MAE             1.015       2.238090e+02  0.691  0.876         0.336  0.940   \n",
       "MSE             1.749       1.615583e+07  1.906  1.309         0.389  1.504   \n",
       "RMSE            1.323       4.019431e+03  1.381  1.144         0.624  1.226   \n",
       "R²             -0.035      -9.561394e+06 -0.128  0.225         0.770  0.110   \n",
       "\n",
       "      Ridge Kernel  AdaBoost  Bagging  GradientBoosting  Random Forest  \\\n",
       "MAE          0.695     0.553    0.358             0.454          0.340   \n",
       "MSE          1.935     0.528    0.278             0.373          0.241   \n",
       "RMSE         1.391     0.727    0.527             0.611          0.491   \n",
       "R²          -0.145     0.688    0.836             0.779          0.857   \n",
       "\n",
       "      XGBoost  \n",
       "MAE     0.361  \n",
       "MSE     0.268  \n",
       "RMSE    0.518  \n",
       "R²      0.841  "
      ]
     },
     "execution_count": 15,
     "metadata": {},
     "output_type": "execute_result"
    }
   ],
   "source": [
    "# Entraînement des modèles sans paramètre spécifique\n",
    "# Sortie de 4 mesures : MAE, MSE, RMSE, R²\n",
    "model = [dummy_reg, lin_reg, ridge, lasso, dt_reg, svm_reg, ridge_kernel, adaboost, bagging, gdboost, rdmforest, xgboost]\n",
    "dict_model = {}\n",
    "\n",
    "for model in model:\n",
    "    model.fit(X_train, y_train)\n",
    "    y_pred = model.predict(X_test)\n",
    "    mae = mean_absolute_error(y_test, y_pred)\n",
    "    mse = mean_squared_error(y_test, y_pred)\n",
    "    rmse = np.sqrt(mse)\n",
    "    r_score = r2_score(y_test, y_pred, multioutput=\"variance_weighted\").round(3)\n",
    "    dict_model[model] = (mae.round(3), mse.round(3), rmse.round(3), r_score)\n",
    "\n",
    "eval_model = pd.DataFrame(dict_model, index=[\"MAE\", \"MSE\", \"RMSE\", \"R²\"])\n",
    "eval_model.columns = [\"Dummy Regressor\", \"Linear Regression\", \"Ridge\", \"Lasso\", \"DecisionTree\", \"SVM\", \"Ridge Kernel\",\n",
    "                      \"AdaBoost\", \"Bagging\", \"GradientBoosting\", \"Random Forest\", \"XGBoost\"]\n",
    "\n",
    "eval_model"
   ]
  },
  {
   "cell_type": "markdown",
   "id": "331df289",
   "metadata": {},
   "source": [
    "La régression naïve apparaît bien comme l'un des modèles les moins performants. On remarque que les modèles linéaires (Régression linéaire, Régression Ridge/Lasso et SVM) ont un coefficient de détermination aux alentours de 50%. Cela montre que notre problème n'est pas un problème linéaire. On va donc devoir se tourner vers des méthodes non-linéaires. Le modèle de Random Forest ainsi que l'algorithme de XGBoost sont ceux qui obtiennent les meilleures performances. On va donc s'orienter sur l'algorithme XGBoost. Ces hyperparamètres seront affinés pour obtenir la meilleure performance pour notre modèle. \n",
    "\n",
    "\n",
    "**Choix du modèle :** XGBoost"
   ]
  },
  {
   "cell_type": "markdown",
   "id": "ee95c155",
   "metadata": {},
   "source": [
    "## 2.3) Choix des hyperparamètres <a class=\"anchor\" id=\"section_2_3\"></a>"
   ]
  },
  {
   "cell_type": "markdown",
   "id": "0c69e3bf",
   "metadata": {},
   "source": [
    "On va commencer par définir quelques paramètres de notre algorithme de XGBoost. On va choisir de booster un modèle se basant sur des arbres de décision (gbtree), on va ensuite fixer sa racine aléatoire et on va ensuite choisir un nombre d'arbres dans notre algorithme. On sait que le nombre d'arbres améliore la performance de notre modèle. Plus il y a d'arbres, plus le modèle sera bon. Ce paramètre n'est pas un hyperparamètre et doit être ajusté en fonction des limitations matérielles. Ici, le nombre d'arbres fera fixé à 400."
   ]
  },
  {
   "cell_type": "code",
   "execution_count": 16,
   "id": "91ddfa35",
   "metadata": {},
   "outputs": [],
   "source": [
    "# instanciation du modèle avec paramètre de base \n",
    "forest_reg = RandomForestRegressor(n_estimators=400, max_features=\"auto\", random_state=42, n_jobs=-1)"
   ]
  },
  {
   "cell_type": "markdown",
   "id": "0f7ba0d9",
   "metadata": {},
   "source": [
    "Une fois le modèle choisi, on va pouvoir s'occuper de ces hyperparamètres. On va s'interesser à la profondeur des arbres, à son coût d'apprentissage, à son paramètre gamma et à la méthode utilisée pour le boostraping. "
   ]
  },
  {
   "cell_type": "markdown",
   "id": "84763c9a",
   "metadata": {},
   "source": [
    "La profondeur des arbres (**max_depth**) va correspondre au nombre \"d'étages\" de chacun de nos arbres. L'augmentation de ce paramètre va rendre notre modèle plus complexe et plus à même de faire du sur-apprentissage (ou *overfitting*). Le coût d'apprentissage (**learning_rate** ou $\\eta$) va venir contrebalancer les effets de sur-apprentissage (*overfitting*). L'hyperparamètre **gamma** ($\\gamma$) permet de minimiser la perte observée lors de chaque séparation des branches de l'arbre. Plus il sera grand, plus l'algorithme conservera sa perte. Le poids minimum des enfants (**min_child_weight**) détermine le nombre d'individus minimum pour que notre noeud puisse être constitué. Enfin, la méthode de bootstraping (**sampling_method**) désigne la méthode selon laquelle les différents échantillons sont crées pour entraîner chacun de nos arbres. Ici, on peut choisir entre une méthode uniforme où chaque élément a la même probabilité d'être tiré au sort ou une méthode se basant sur un gradient. "
   ]
  },
  {
   "cell_type": "code",
   "execution_count": 17,
   "id": "49e5ff70",
   "metadata": {},
   "outputs": [
    {
     "data": {
      "text/html": [
       "<style>#sk-ed12c6f4-666a-4a7f-9c3a-ee5a236b09f8 {color: black;background-color: white;}#sk-ed12c6f4-666a-4a7f-9c3a-ee5a236b09f8 pre{padding: 0;}#sk-ed12c6f4-666a-4a7f-9c3a-ee5a236b09f8 div.sk-toggleable {background-color: white;}#sk-ed12c6f4-666a-4a7f-9c3a-ee5a236b09f8 label.sk-toggleable__label {cursor: pointer;display: block;width: 100%;margin-bottom: 0;padding: 0.2em 0.3em;box-sizing: border-box;text-align: center;}#sk-ed12c6f4-666a-4a7f-9c3a-ee5a236b09f8 div.sk-toggleable__content {max-height: 0;max-width: 0;overflow: hidden;text-align: left;background-color: #f0f8ff;}#sk-ed12c6f4-666a-4a7f-9c3a-ee5a236b09f8 div.sk-toggleable__content pre {margin: 0.2em;color: black;border-radius: 0.25em;background-color: #f0f8ff;}#sk-ed12c6f4-666a-4a7f-9c3a-ee5a236b09f8 input.sk-toggleable__control:checked~div.sk-toggleable__content {max-height: 200px;max-width: 100%;overflow: auto;}#sk-ed12c6f4-666a-4a7f-9c3a-ee5a236b09f8 div.sk-estimator input.sk-toggleable__control:checked~label.sk-toggleable__label {background-color: #d4ebff;}#sk-ed12c6f4-666a-4a7f-9c3a-ee5a236b09f8 div.sk-label input.sk-toggleable__control:checked~label.sk-toggleable__label {background-color: #d4ebff;}#sk-ed12c6f4-666a-4a7f-9c3a-ee5a236b09f8 input.sk-hidden--visually {border: 0;clip: rect(1px 1px 1px 1px);clip: rect(1px, 1px, 1px, 1px);height: 1px;margin: -1px;overflow: hidden;padding: 0;position: absolute;width: 1px;}#sk-ed12c6f4-666a-4a7f-9c3a-ee5a236b09f8 div.sk-estimator {font-family: monospace;background-color: #f0f8ff;margin: 0.25em 0.25em;border: 1px dotted black;border-radius: 0.25em;box-sizing: border-box;}#sk-ed12c6f4-666a-4a7f-9c3a-ee5a236b09f8 div.sk-estimator:hover {background-color: #d4ebff;}#sk-ed12c6f4-666a-4a7f-9c3a-ee5a236b09f8 div.sk-parallel-item::after {content: \"\";width: 100%;border-bottom: 1px solid gray;flex-grow: 1;}#sk-ed12c6f4-666a-4a7f-9c3a-ee5a236b09f8 div.sk-label:hover label.sk-toggleable__label {background-color: #d4ebff;}#sk-ed12c6f4-666a-4a7f-9c3a-ee5a236b09f8 div.sk-serial::before {content: \"\";position: absolute;border-left: 1px solid gray;box-sizing: border-box;top: 2em;bottom: 0;left: 50%;}#sk-ed12c6f4-666a-4a7f-9c3a-ee5a236b09f8 div.sk-serial {display: flex;flex-direction: column;align-items: center;background-color: white;}#sk-ed12c6f4-666a-4a7f-9c3a-ee5a236b09f8 div.sk-item {z-index: 1;}#sk-ed12c6f4-666a-4a7f-9c3a-ee5a236b09f8 div.sk-parallel {display: flex;align-items: stretch;justify-content: center;background-color: white;}#sk-ed12c6f4-666a-4a7f-9c3a-ee5a236b09f8 div.sk-parallel-item {display: flex;flex-direction: column;position: relative;background-color: white;}#sk-ed12c6f4-666a-4a7f-9c3a-ee5a236b09f8 div.sk-parallel-item:first-child::after {align-self: flex-end;width: 50%;}#sk-ed12c6f4-666a-4a7f-9c3a-ee5a236b09f8 div.sk-parallel-item:last-child::after {align-self: flex-start;width: 50%;}#sk-ed12c6f4-666a-4a7f-9c3a-ee5a236b09f8 div.sk-parallel-item:only-child::after {width: 0;}#sk-ed12c6f4-666a-4a7f-9c3a-ee5a236b09f8 div.sk-dashed-wrapped {border: 1px dashed gray;margin: 0.2em;box-sizing: border-box;padding-bottom: 0.1em;background-color: white;position: relative;}#sk-ed12c6f4-666a-4a7f-9c3a-ee5a236b09f8 div.sk-label label {font-family: monospace;font-weight: bold;background-color: white;display: inline-block;line-height: 1.2em;}#sk-ed12c6f4-666a-4a7f-9c3a-ee5a236b09f8 div.sk-label-container {position: relative;z-index: 2;text-align: center;}#sk-ed12c6f4-666a-4a7f-9c3a-ee5a236b09f8 div.sk-container {display: inline-block;position: relative;}</style><div id=\"sk-ed12c6f4-666a-4a7f-9c3a-ee5a236b09f8\" class\"sk-top-container\"><div class=\"sk-container\"><div class=\"sk-item sk-dashed-wrapped\"><div class=\"sk-label-container\"><div class=\"sk-label sk-toggleable\"><input class=\"sk-toggleable__control sk-hidden--visually\" id=\"c5e0ddba-22c0-4478-810f-62b7f1615e0b\" type=\"checkbox\" ><label class=\"sk-toggleable__label\" for=\"c5e0ddba-22c0-4478-810f-62b7f1615e0b\">RandomizedSearchCV</label><div class=\"sk-toggleable__content\"><pre>RandomizedSearchCV(cv=5,\n",
       "                   estimator=RandomForestRegressor(n_estimators=400, n_jobs=-1,\n",
       "                                                   random_state=42),\n",
       "                   param_distributions={'max_depth': <scipy.stats._distn_infrastructure.rv_frozen object at 0x00000259C9B4FA60>,\n",
       "                                        'min_samples_leaf': <scipy.stats._distn_infrastructure.rv_frozen object at 0x00000259C9B4FEE0>,\n",
       "                                        'min_samples_split': <scipy.stats._distn_infrastructure.rv_frozen object at 0x00000259C9B4FC40>},\n",
       "                   random_state=42, scoring='neg_mean_squared_error')</pre></div></div></div><div class=\"sk-parallel\"><div class=\"sk-parallel-item\"><div class=\"sk-item\"><div class=\"sk-serial\"><div class=\"sk-item\"><div class=\"sk-estimator sk-toggleable\"><input class=\"sk-toggleable__control sk-hidden--visually\" id=\"d9002062-6b5a-440f-a8bc-42d7fd6c4637\" type=\"checkbox\" ><label class=\"sk-toggleable__label\" for=\"d9002062-6b5a-440f-a8bc-42d7fd6c4637\">RandomForestRegressor</label><div class=\"sk-toggleable__content\"><pre>RandomForestRegressor(n_estimators=400, n_jobs=-1, random_state=42)</pre></div></div></div></div></div></div></div></div></div></div>"
      ],
      "text/plain": [
       "RandomizedSearchCV(cv=5,\n",
       "                   estimator=RandomForestRegressor(n_estimators=400, n_jobs=-1,\n",
       "                                                   random_state=42),\n",
       "                   param_distributions={'max_depth': <scipy.stats._distn_infrastructure.rv_frozen object at 0x00000259C9B4FA60>,\n",
       "                                        'min_samples_leaf': <scipy.stats._distn_infrastructure.rv_frozen object at 0x00000259C9B4FEE0>,\n",
       "                                        'min_samples_split': <scipy.stats._distn_infrastructure.rv_frozen object at 0x00000259C9B4FC40>},\n",
       "                   random_state=42, scoring='neg_mean_squared_error')"
      ]
     },
     "execution_count": 17,
     "metadata": {},
     "output_type": "execute_result"
    }
   ],
   "source": [
    "from sklearn.model_selection import RandomizedSearchCV\n",
    "from scipy.stats import randint\n",
    "\n",
    "param_distribs = {\n",
    "        'max_depth': randint(low=1, high=12),\n",
    "        'min_samples_split' : randint(low=2, high=10),\n",
    "        'min_samples_leaf' : randint(low=2, high=10),\n",
    "    }\n",
    "\n",
    "rnd_search = RandomizedSearchCV(forest_reg, param_distributions=param_distribs,\n",
    "                                n_iter=10, cv=5, scoring='neg_mean_squared_error', random_state=42)\n",
    "rnd_search.fit(X_train, y_train)"
   ]
  },
  {
   "cell_type": "code",
   "execution_count": 18,
   "id": "462267d7",
   "metadata": {},
   "outputs": [
    {
     "name": "stdout",
     "output_type": "stream",
     "text": [
      "0.6812663532625891 {'max_depth': 7, 'min_samples_leaf': 5, 'min_samples_split': 6}\n",
      "0.6797015766086337 {'max_depth': 11, 'min_samples_leaf': 9, 'min_samples_split': 6}\n",
      "0.7170944509827288 {'max_depth': 5, 'min_samples_leaf': 8, 'min_samples_split': 3}\n",
      "0.7688037658805803 {'max_depth': 3, 'min_samples_leaf': 8, 'min_samples_split': 4}\n",
      "0.6797015766086337 {'max_depth': 11, 'min_samples_leaf': 9, 'min_samples_split': 6}\n",
      "0.7382854471525484 {'max_depth': 4, 'min_samples_leaf': 9, 'min_samples_split': 9}\n",
      "0.768178464330465 {'max_depth': 3, 'min_samples_leaf': 7, 'min_samples_split': 6}\n",
      "0.8482969042004656 {'max_depth': 2, 'min_samples_leaf': 9, 'min_samples_split': 5}\n",
      "0.6905586522756327 {'max_depth': 6, 'min_samples_leaf': 3, 'min_samples_split': 9}\n",
      "0.7099680079097431 {'max_depth': 5, 'min_samples_leaf': 2, 'min_samples_split': 5}\n"
     ]
    }
   ],
   "source": [
    "cvres = rnd_search.cv_results_\n",
    "for mean_score, params in zip(cvres[\"mean_test_score\"], cvres[\"params\"]):\n",
    "    print(np.sqrt(-mean_score), params)"
   ]
  },
  {
   "cell_type": "code",
   "execution_count": 19,
   "id": "cec48c1d",
   "metadata": {},
   "outputs": [
    {
     "data": {
      "text/html": [
       "<style>#sk-c6a2a73b-0719-43ac-b6a9-0f9416fc29ec {color: black;background-color: white;}#sk-c6a2a73b-0719-43ac-b6a9-0f9416fc29ec pre{padding: 0;}#sk-c6a2a73b-0719-43ac-b6a9-0f9416fc29ec div.sk-toggleable {background-color: white;}#sk-c6a2a73b-0719-43ac-b6a9-0f9416fc29ec label.sk-toggleable__label {cursor: pointer;display: block;width: 100%;margin-bottom: 0;padding: 0.2em 0.3em;box-sizing: border-box;text-align: center;}#sk-c6a2a73b-0719-43ac-b6a9-0f9416fc29ec div.sk-toggleable__content {max-height: 0;max-width: 0;overflow: hidden;text-align: left;background-color: #f0f8ff;}#sk-c6a2a73b-0719-43ac-b6a9-0f9416fc29ec div.sk-toggleable__content pre {margin: 0.2em;color: black;border-radius: 0.25em;background-color: #f0f8ff;}#sk-c6a2a73b-0719-43ac-b6a9-0f9416fc29ec input.sk-toggleable__control:checked~div.sk-toggleable__content {max-height: 200px;max-width: 100%;overflow: auto;}#sk-c6a2a73b-0719-43ac-b6a9-0f9416fc29ec div.sk-estimator input.sk-toggleable__control:checked~label.sk-toggleable__label {background-color: #d4ebff;}#sk-c6a2a73b-0719-43ac-b6a9-0f9416fc29ec div.sk-label input.sk-toggleable__control:checked~label.sk-toggleable__label {background-color: #d4ebff;}#sk-c6a2a73b-0719-43ac-b6a9-0f9416fc29ec input.sk-hidden--visually {border: 0;clip: rect(1px 1px 1px 1px);clip: rect(1px, 1px, 1px, 1px);height: 1px;margin: -1px;overflow: hidden;padding: 0;position: absolute;width: 1px;}#sk-c6a2a73b-0719-43ac-b6a9-0f9416fc29ec div.sk-estimator {font-family: monospace;background-color: #f0f8ff;margin: 0.25em 0.25em;border: 1px dotted black;border-radius: 0.25em;box-sizing: border-box;}#sk-c6a2a73b-0719-43ac-b6a9-0f9416fc29ec div.sk-estimator:hover {background-color: #d4ebff;}#sk-c6a2a73b-0719-43ac-b6a9-0f9416fc29ec div.sk-parallel-item::after {content: \"\";width: 100%;border-bottom: 1px solid gray;flex-grow: 1;}#sk-c6a2a73b-0719-43ac-b6a9-0f9416fc29ec div.sk-label:hover label.sk-toggleable__label {background-color: #d4ebff;}#sk-c6a2a73b-0719-43ac-b6a9-0f9416fc29ec div.sk-serial::before {content: \"\";position: absolute;border-left: 1px solid gray;box-sizing: border-box;top: 2em;bottom: 0;left: 50%;}#sk-c6a2a73b-0719-43ac-b6a9-0f9416fc29ec div.sk-serial {display: flex;flex-direction: column;align-items: center;background-color: white;}#sk-c6a2a73b-0719-43ac-b6a9-0f9416fc29ec div.sk-item {z-index: 1;}#sk-c6a2a73b-0719-43ac-b6a9-0f9416fc29ec div.sk-parallel {display: flex;align-items: stretch;justify-content: center;background-color: white;}#sk-c6a2a73b-0719-43ac-b6a9-0f9416fc29ec div.sk-parallel-item {display: flex;flex-direction: column;position: relative;background-color: white;}#sk-c6a2a73b-0719-43ac-b6a9-0f9416fc29ec div.sk-parallel-item:first-child::after {align-self: flex-end;width: 50%;}#sk-c6a2a73b-0719-43ac-b6a9-0f9416fc29ec div.sk-parallel-item:last-child::after {align-self: flex-start;width: 50%;}#sk-c6a2a73b-0719-43ac-b6a9-0f9416fc29ec div.sk-parallel-item:only-child::after {width: 0;}#sk-c6a2a73b-0719-43ac-b6a9-0f9416fc29ec div.sk-dashed-wrapped {border: 1px dashed gray;margin: 0.2em;box-sizing: border-box;padding-bottom: 0.1em;background-color: white;position: relative;}#sk-c6a2a73b-0719-43ac-b6a9-0f9416fc29ec div.sk-label label {font-family: monospace;font-weight: bold;background-color: white;display: inline-block;line-height: 1.2em;}#sk-c6a2a73b-0719-43ac-b6a9-0f9416fc29ec div.sk-label-container {position: relative;z-index: 2;text-align: center;}#sk-c6a2a73b-0719-43ac-b6a9-0f9416fc29ec div.sk-container {display: inline-block;position: relative;}</style><div id=\"sk-c6a2a73b-0719-43ac-b6a9-0f9416fc29ec\" class\"sk-top-container\"><div class=\"sk-container\"><div class=\"sk-item sk-dashed-wrapped\"><div class=\"sk-label-container\"><div class=\"sk-label sk-toggleable\"><input class=\"sk-toggleable__control sk-hidden--visually\" id=\"95752fd6-e0d1-4379-98a8-4d89059a28a6\" type=\"checkbox\" ><label class=\"sk-toggleable__label\" for=\"95752fd6-e0d1-4379-98a8-4d89059a28a6\">GridSearchCV</label><div class=\"sk-toggleable__content\"><pre>GridSearchCV(cv=5,\n",
       "             estimator=RandomForestRegressor(n_estimators=400, n_jobs=-1,\n",
       "                                             random_state=42),\n",
       "             param_grid=[{'max_depth': [10, 11, 12],\n",
       "                          'min_samples_leaf': [7, 8, 9, 10],\n",
       "                          'min_samples_split': [5, 6, 7]}],\n",
       "             scoring='neg_mean_squared_error')</pre></div></div></div><div class=\"sk-parallel\"><div class=\"sk-parallel-item\"><div class=\"sk-item\"><div class=\"sk-serial\"><div class=\"sk-item\"><div class=\"sk-estimator sk-toggleable\"><input class=\"sk-toggleable__control sk-hidden--visually\" id=\"e948915b-17b8-4050-8108-310b8cc8321e\" type=\"checkbox\" ><label class=\"sk-toggleable__label\" for=\"e948915b-17b8-4050-8108-310b8cc8321e\">RandomForestRegressor</label><div class=\"sk-toggleable__content\"><pre>RandomForestRegressor(n_estimators=400, n_jobs=-1, random_state=42)</pre></div></div></div></div></div></div></div></div></div></div>"
      ],
      "text/plain": [
       "GridSearchCV(cv=5,\n",
       "             estimator=RandomForestRegressor(n_estimators=400, n_jobs=-1,\n",
       "                                             random_state=42),\n",
       "             param_grid=[{'max_depth': [10, 11, 12],\n",
       "                          'min_samples_leaf': [7, 8, 9, 10],\n",
       "                          'min_samples_split': [5, 6, 7]}],\n",
       "             scoring='neg_mean_squared_error')"
      ]
     },
     "execution_count": 19,
     "metadata": {},
     "output_type": "execute_result"
    }
   ],
   "source": [
    "# Grille de recherche de la meilleure configuration d'hyperparamètre\n",
    "# Ajout d'une validation croisée pour diminuer les risques d'overfitting\n",
    "from sklearn.model_selection import GridSearchCV\n",
    "\n",
    "params = [{\"max_depth\" : [10, 11, 12],\n",
    "           \"min_samples_leaf\" : [7, 8, 9, 10],\n",
    "           \"min_samples_split\" : [5, 6, 7]\n",
    "}]\n",
    "\n",
    "grid_search = GridSearchCV(forest_reg, params, cv=5,\n",
    "                           scoring='neg_mean_squared_error')\n",
    "grid_search.fit(X_train, y_train)"
   ]
  },
  {
   "cell_type": "code",
   "execution_count": 20,
   "id": "508f8d9c",
   "metadata": {},
   "outputs": [
    {
     "data": {
      "text/plain": [
       "{'max_depth': 12, 'min_samples_leaf': 7, 'min_samples_split': 5}"
      ]
     },
     "execution_count": 20,
     "metadata": {},
     "output_type": "execute_result"
    }
   ],
   "source": [
    "# Visualisation des meilleurs paramètres\n",
    "grid_search.best_params_"
   ]
  },
  {
   "cell_type": "code",
   "execution_count": 21,
   "id": "203e075f",
   "metadata": {},
   "outputs": [
    {
     "data": {
      "text/html": [
       "<style>#sk-c1c55f0b-da94-49b5-b36d-4b5efd0c8329 {color: black;background-color: white;}#sk-c1c55f0b-da94-49b5-b36d-4b5efd0c8329 pre{padding: 0;}#sk-c1c55f0b-da94-49b5-b36d-4b5efd0c8329 div.sk-toggleable {background-color: white;}#sk-c1c55f0b-da94-49b5-b36d-4b5efd0c8329 label.sk-toggleable__label {cursor: pointer;display: block;width: 100%;margin-bottom: 0;padding: 0.2em 0.3em;box-sizing: border-box;text-align: center;}#sk-c1c55f0b-da94-49b5-b36d-4b5efd0c8329 div.sk-toggleable__content {max-height: 0;max-width: 0;overflow: hidden;text-align: left;background-color: #f0f8ff;}#sk-c1c55f0b-da94-49b5-b36d-4b5efd0c8329 div.sk-toggleable__content pre {margin: 0.2em;color: black;border-radius: 0.25em;background-color: #f0f8ff;}#sk-c1c55f0b-da94-49b5-b36d-4b5efd0c8329 input.sk-toggleable__control:checked~div.sk-toggleable__content {max-height: 200px;max-width: 100%;overflow: auto;}#sk-c1c55f0b-da94-49b5-b36d-4b5efd0c8329 div.sk-estimator input.sk-toggleable__control:checked~label.sk-toggleable__label {background-color: #d4ebff;}#sk-c1c55f0b-da94-49b5-b36d-4b5efd0c8329 div.sk-label input.sk-toggleable__control:checked~label.sk-toggleable__label {background-color: #d4ebff;}#sk-c1c55f0b-da94-49b5-b36d-4b5efd0c8329 input.sk-hidden--visually {border: 0;clip: rect(1px 1px 1px 1px);clip: rect(1px, 1px, 1px, 1px);height: 1px;margin: -1px;overflow: hidden;padding: 0;position: absolute;width: 1px;}#sk-c1c55f0b-da94-49b5-b36d-4b5efd0c8329 div.sk-estimator {font-family: monospace;background-color: #f0f8ff;margin: 0.25em 0.25em;border: 1px dotted black;border-radius: 0.25em;box-sizing: border-box;}#sk-c1c55f0b-da94-49b5-b36d-4b5efd0c8329 div.sk-estimator:hover {background-color: #d4ebff;}#sk-c1c55f0b-da94-49b5-b36d-4b5efd0c8329 div.sk-parallel-item::after {content: \"\";width: 100%;border-bottom: 1px solid gray;flex-grow: 1;}#sk-c1c55f0b-da94-49b5-b36d-4b5efd0c8329 div.sk-label:hover label.sk-toggleable__label {background-color: #d4ebff;}#sk-c1c55f0b-da94-49b5-b36d-4b5efd0c8329 div.sk-serial::before {content: \"\";position: absolute;border-left: 1px solid gray;box-sizing: border-box;top: 2em;bottom: 0;left: 50%;}#sk-c1c55f0b-da94-49b5-b36d-4b5efd0c8329 div.sk-serial {display: flex;flex-direction: column;align-items: center;background-color: white;}#sk-c1c55f0b-da94-49b5-b36d-4b5efd0c8329 div.sk-item {z-index: 1;}#sk-c1c55f0b-da94-49b5-b36d-4b5efd0c8329 div.sk-parallel {display: flex;align-items: stretch;justify-content: center;background-color: white;}#sk-c1c55f0b-da94-49b5-b36d-4b5efd0c8329 div.sk-parallel-item {display: flex;flex-direction: column;position: relative;background-color: white;}#sk-c1c55f0b-da94-49b5-b36d-4b5efd0c8329 div.sk-parallel-item:first-child::after {align-self: flex-end;width: 50%;}#sk-c1c55f0b-da94-49b5-b36d-4b5efd0c8329 div.sk-parallel-item:last-child::after {align-self: flex-start;width: 50%;}#sk-c1c55f0b-da94-49b5-b36d-4b5efd0c8329 div.sk-parallel-item:only-child::after {width: 0;}#sk-c1c55f0b-da94-49b5-b36d-4b5efd0c8329 div.sk-dashed-wrapped {border: 1px dashed gray;margin: 0.2em;box-sizing: border-box;padding-bottom: 0.1em;background-color: white;position: relative;}#sk-c1c55f0b-da94-49b5-b36d-4b5efd0c8329 div.sk-label label {font-family: monospace;font-weight: bold;background-color: white;display: inline-block;line-height: 1.2em;}#sk-c1c55f0b-da94-49b5-b36d-4b5efd0c8329 div.sk-label-container {position: relative;z-index: 2;text-align: center;}#sk-c1c55f0b-da94-49b5-b36d-4b5efd0c8329 div.sk-container {display: inline-block;position: relative;}</style><div id=\"sk-c1c55f0b-da94-49b5-b36d-4b5efd0c8329\" class\"sk-top-container\"><div class=\"sk-container\"><div class=\"sk-item\"><div class=\"sk-estimator sk-toggleable\"><input class=\"sk-toggleable__control sk-hidden--visually\" id=\"0e7a5970-5a4c-4ba9-87d2-d9992ace7d9d\" type=\"checkbox\" checked><label class=\"sk-toggleable__label\" for=\"0e7a5970-5a4c-4ba9-87d2-d9992ace7d9d\">RandomForestRegressor</label><div class=\"sk-toggleable__content\"><pre>RandomForestRegressor(max_depth=12, min_samples_leaf=7, min_samples_split=5,\n",
       "                      n_estimators=400, n_jobs=-1, random_state=42)</pre></div></div></div></div></div>"
      ],
      "text/plain": [
       "RandomForestRegressor(max_depth=12, min_samples_leaf=7, min_samples_split=5,\n",
       "                      n_estimators=400, n_jobs=-1, random_state=42)"
      ]
     },
     "execution_count": 21,
     "metadata": {},
     "output_type": "execute_result"
    }
   ],
   "source": [
    "grid_search.best_estimator_"
   ]
  },
  {
   "cell_type": "markdown",
   "id": "f4b4c81c",
   "metadata": {},
   "source": [
    "Notre modèle est enregistré dans la grille de recherche. On va ensuite l'affecter à une variable pour tester ces performances sur un jeu de test. "
   ]
  },
  {
   "cell_type": "markdown",
   "id": "5c2a2aa5",
   "metadata": {},
   "source": [
    "## 2.4) Analyse des erreurs du modèle <a class=\"anchor\" id=\"section_2_4\"></a>"
   ]
  },
  {
   "cell_type": "markdown",
   "id": "4a670805",
   "metadata": {},
   "source": [
    "Une fois le modèle sélectionné et les hyperparamètres choisis, on va pouvoir évaluer les performances du modèle sur un jeu qu'il n'a pas encore vu : le jeu de test. "
   ]
  },
  {
   "cell_type": "code",
   "execution_count": 22,
   "id": "089e5740",
   "metadata": {},
   "outputs": [],
   "source": [
    "# Attribution du modèle entraîné à une variable\n",
    "final_model_energy = grid_search.best_estimator_"
   ]
  },
  {
   "cell_type": "code",
   "execution_count": 23,
   "id": "e15ef406",
   "metadata": {},
   "outputs": [],
   "source": [
    "final_predictions_energy = final_model_energy.predict(X_test)"
   ]
  },
  {
   "cell_type": "code",
   "execution_count": 24,
   "id": "31346b6e",
   "metadata": {},
   "outputs": [
    {
     "name": "stdout",
     "output_type": "stream",
     "text": [
      "MAE:  0.45002\n",
      "MSE:  0.38182\n",
      "RMSE:  0.61791816134946\n",
      "RMPSE:  0.115\n",
      "MAPE:  0.03047\n",
      "R²:  0.77403\n"
     ]
    }
   ],
   "source": [
    "regression_metrics(np.array(y_test), final_predictions_energy)"
   ]
  },
  {
   "cell_type": "markdown",
   "id": "77ad6583",
   "metadata": {},
   "source": [
    "L'évaluation finale de notre modèle montre des scores plutôt bons. Notre modèle estime la consommation d'énergie avec une erreur de plus ou moins 0.11%. Il a un coefficient de détermination de 77%, c'est-à-dire qu'il permet d'expliquer 77% de la variance observée dans nos variables cibles. De plus, l'erreur moyenne est de 0.03% (MAPE)."
   ]
  },
  {
   "cell_type": "code",
   "execution_count": 25,
   "id": "286f2c9e",
   "metadata": {},
   "outputs": [
    {
     "data": {
      "image/png": "[encoded data removed]",
      "text/plain": [
       "<Figure size 576x396 with 2 Axes>"
      ]
     },
     "metadata": {},
     "output_type": "display_data"
    }
   ],
   "source": [
    "visualizer = ResidualsPlot(final_model_energy)\n",
    "visualizer.fit(np.array(X_train), np.array(y_train).reshape(2596,))\n",
    "visualizer.score(np.array(X_test), np.array(y_test).reshape(649,))\n",
    "visualizer.show();"
   ]
  },
  {
   "cell_type": "markdown",
   "id": "5f56e87e",
   "metadata": {},
   "source": [
    "Les distributions des résidus du jeu d'entraînement et du jeu de test semblent suivre une loi normale. La distribution des résidus du jeu de test est plus aplatie. Cela peut s'expliquer par le nombre de données moins importants (seulement 20% de l'échantillon). "
   ]
  },
  {
   "cell_type": "code",
   "execution_count": 26,
   "id": "c71ede24",
   "metadata": {},
   "outputs": [
    {
     "data": {
      "image/png": "[encoded data removed]",
      "text/plain": [
       "<Figure size 576x396 with 1 Axes>"
      ]
     },
     "metadata": {},
     "output_type": "display_data"
    }
   ],
   "source": [
    "visualizer = prediction_error(final_model_energy, np.array(X_train), np.array(y_train), np.array(X_test), np.array(y_test));"
   ]
  },
  {
   "cell_type": "markdown",
   "id": "d6c37a6c",
   "metadata": {},
   "source": [
    "L'analyse des erreurs de prédiction ne montre pas d'anomalie particulière dans notre modèle. On peut donc l'enregistrer dans un pipeline pour pouvoir le déployer le moment venu. "
   ]
  },
  {
   "cell_type": "markdown",
   "id": "b872f107",
   "metadata": {},
   "source": [
    "## 2.5) Bilan du modèle <a class=\"anchor\" id=\"section_2_5\"></a>"
   ]
  },
  {
   "cell_type": "code",
   "execution_count": 27,
   "id": "d9c4b22b",
   "metadata": {},
   "outputs": [],
   "source": [
    "feature_importance = grid_search.best_estimator_.feature_importances_"
   ]
  },
  {
   "cell_type": "code",
   "execution_count": 28,
   "id": "19b3f1c6",
   "metadata": {},
   "outputs": [],
   "source": [
    "cat_encoder = preprocessor.named_transformers_[\"cat\"]\n",
    "cat_one_hot_attribs = list(cat_encoder[1].categories_)\n",
    "cat_one = list(cat_one_hot_attribs[0])\n",
    "cat_two = list(cat_one_hot_attribs[1])\n",
    "cat_three = list(cat_one_hot_attribs[2])\n",
    "cat_four = list(cat_one_hot_attribs[3])\n",
    "cat_five = list(cat_one_hot_attribs[4])\n",
    "attributes = num_var + cat_one + cat_two + cat_three + cat_four + cat_five\n",
    "importances = pd.DataFrame(feature_importance.round(3), attributes).reset_index()\n",
    "importances.columns = [\"Features\", \"Features Importances\"]"
   ]
  },
  {
   "cell_type": "code",
   "execution_count": 29,
   "id": "f57db30c",
   "metadata": {},
   "outputs": [
    {
     "data": {
      "text/html": [
       "<div>\n",
       "<style scoped>\n",
       "    .dataframe tbody tr th:only-of-type {\n",
       "        vertical-align: middle;\n",
       "    }\n",
       "\n",
       "    .dataframe tbody tr th {\n",
       "        vertical-align: top;\n",
       "    }\n",
       "\n",
       "    .dataframe thead th {\n",
       "        text-align: right;\n",
       "    }\n",
       "</style>\n",
       "<table border=\"1\" class=\"dataframe\">\n",
       "  <thead>\n",
       "    <tr style=\"text-align: right;\">\n",
       "      <th></th>\n",
       "      <th>Features</th>\n",
       "      <th>Features Importances</th>\n",
       "    </tr>\n",
       "  </thead>\n",
       "  <tbody>\n",
       "    <tr>\n",
       "      <th>102</th>\n",
       "      <td>Supermarket/Store</td>\n",
       "      <td>0.759</td>\n",
       "    </tr>\n",
       "    <tr>\n",
       "      <th>14</th>\n",
       "      <td>Other</td>\n",
       "      <td>0.064</td>\n",
       "    </tr>\n",
       "    <tr>\n",
       "      <th>12</th>\n",
       "      <td>Mixed Use Property</td>\n",
       "      <td>0.036</td>\n",
       "    </tr>\n",
       "    <tr>\n",
       "      <th>104</th>\n",
       "      <td>Vocational School</td>\n",
       "      <td>0.035</td>\n",
       "    </tr>\n",
       "    <tr>\n",
       "      <th>107</th>\n",
       "      <td>No</td>\n",
       "      <td>0.016</td>\n",
       "    </tr>\n",
       "  </tbody>\n",
       "</table>\n",
       "</div>"
      ],
      "text/plain": [
       "               Features  Features Importances\n",
       "102   Supermarket/Store                 0.759\n",
       "14                Other                 0.064\n",
       "12   Mixed Use Property                 0.036\n",
       "104   Vocational School                 0.035\n",
       "107                  No                 0.016"
      ]
     },
     "execution_count": 29,
     "metadata": {},
     "output_type": "execute_result"
    }
   ],
   "source": [
    "importances.sort_values(\"Features Importances\", ascending=False).head()"
   ]
  },
  {
   "cell_type": "markdown",
   "id": "dc4a8f5d",
   "metadata": {},
   "source": [
    "## 2.6) Pipeline du modèle pour l'estimation de la consommation d'énergie <a class=\"anchor\" id=\"section_2_5\"></a>"
   ]
  },
  {
   "cell_type": "code",
   "execution_count": 30,
   "id": "9990b41b",
   "metadata": {},
   "outputs": [],
   "source": [
    "# création de pipeline contenant la transformation des variables et le modèle entraîné\n",
    "# elle peut être utilisée pour faire des prédictions sur de nouvelles variables\n",
    "\n",
    "full_pipeline_energy = Pipeline([\n",
    "    (\"preprocessing\", preprocessor),\n",
    "    (\"model\", final_model_energy)\n",
    "])"
   ]
  },
  {
   "cell_type": "markdown",
   "id": "e6c748c4",
   "metadata": {},
   "source": [
    "Le modèle choisi est prêt à être déployé pour pouvoir prédire la consommation d'énergie. Il pourra être intéressant de le réentraîner en ne faisant aucune modification logarithmique de notre cible. En effet, les modèles se basant sur des arbres de décisions ne sont pas impactés par le non-respect de la loi normale. "
   ]
  },
  {
   "cell_type": "markdown",
   "id": "931e1978",
   "metadata": {},
   "source": [
    "# 3) Prédiction des émissions de CO2 <a class=\"anchor\" id=\"chapter3\"></a>"
   ]
  },
  {
   "cell_type": "markdown",
   "id": "2458b3fe",
   "metadata": {},
   "source": [
    "Pour la prédiction des émissions de CO$_2$, la méthode est la même que pour la prédiction de la consommation d'énergie. Cette fois-ci, la méthodologie ne sera pas aussi détaillé que pour la consommation d'énergie. "
   ]
  },
  {
   "cell_type": "markdown",
   "id": "0c318db1",
   "metadata": {},
   "source": [
    "La prédiction des émissions de CO$_2$ se fera de deux manières : sans introduire le score ENERGYSTAR et en introduisant le score ENERGYSTAR."
   ]
  },
  {
   "cell_type": "markdown",
   "id": "94ed3978",
   "metadata": {},
   "source": [
    "## 3.1) Préparation des variables <a class=\"anchor\" id=\"section_3_1\"></a>"
   ]
  },
  {
   "cell_type": "code",
   "execution_count": 31,
   "id": "4d21e1b5",
   "metadata": {},
   "outputs": [],
   "source": [
    "# Création d'un jeu d'entrainement (train set) et d'un jeu de test (test set)\n",
    "# Stratification sur la variable \"type de propriété\" (80% de bureau dans notre échantillon)\n",
    "train_set, test_set = train_test_split(data, test_size=0.2, random_state=42)\n",
    "\n",
    "y_train = train_set[[\"TotalGHGEmissions_log\"]]\n",
    "y_test = test_set[[\"TotalGHGEmissions_log\"]]\n",
    "X_train = train_set.drop([\"SiteEnergyUse(kBtu)\", \"SiteEnergyUse(kBtu)_log\", \"TotalGHGEmissions\", \"SiteEnergyUse(kBtu)_log\", \"ENERGYSTARScore\", \"YearBuilt\", \"Neighborhood\", \"Latitude\", \"Longitude\"], axis=1)\n",
    "X_test = test_set.drop([\"SiteEnergyUse(kBtu)\", \"SiteEnergyUse(kBtu)_log\", \"TotalGHGEmissions\", \"SiteEnergyUse(kBtu)_log\", \"ENERGYSTARScore\", \"YearBuilt\",\"Neighborhood\", \"Latitude\", \"Longitude\"], axis=1)"
   ]
  },
  {
   "cell_type": "markdown",
   "id": "d1c03e08",
   "metadata": {},
   "source": [
    "La transformation des variables étant identiques à la méthode ci-dessus, on n'utilise le même pipeline. Cependant, ici il y aura un entraînement sur le nouveau jeu de données X_train pour que les imputations et autres transformations correspondent aux statistiques descriptions de cet échantillon. "
   ]
  },
  {
   "cell_type": "code",
   "execution_count": 32,
   "id": "cc8e42de",
   "metadata": {},
   "outputs": [],
   "source": [
    "X_train = preprocessor.fit_transform(X_train)\n",
    "X_test = preprocessor.transform(X_test)"
   ]
  },
  {
   "cell_type": "markdown",
   "id": "634a4e69",
   "metadata": {},
   "source": [
    "## 3.2) Création d'un modèle de base <a class=\"anchor\" id=\"section_3_2\"></a>"
   ]
  },
  {
   "cell_type": "code",
   "execution_count": 33,
   "id": "4c7cfb59",
   "metadata": {},
   "outputs": [
    {
     "data": {
      "text/html": [
       "<style>#sk-dceb768f-770c-4106-a2fb-ce51f04c98f1 {color: black;background-color: white;}#sk-dceb768f-770c-4106-a2fb-ce51f04c98f1 pre{padding: 0;}#sk-dceb768f-770c-4106-a2fb-ce51f04c98f1 div.sk-toggleable {background-color: white;}#sk-dceb768f-770c-4106-a2fb-ce51f04c98f1 label.sk-toggleable__label {cursor: pointer;display: block;width: 100%;margin-bottom: 0;padding: 0.2em 0.3em;box-sizing: border-box;text-align: center;}#sk-dceb768f-770c-4106-a2fb-ce51f04c98f1 div.sk-toggleable__content {max-height: 0;max-width: 0;overflow: hidden;text-align: left;background-color: #f0f8ff;}#sk-dceb768f-770c-4106-a2fb-ce51f04c98f1 div.sk-toggleable__content pre {margin: 0.2em;color: black;border-radius: 0.25em;background-color: #f0f8ff;}#sk-dceb768f-770c-4106-a2fb-ce51f04c98f1 input.sk-toggleable__control:checked~div.sk-toggleable__content {max-height: 200px;max-width: 100%;overflow: auto;}#sk-dceb768f-770c-4106-a2fb-ce51f04c98f1 div.sk-estimator input.sk-toggleable__control:checked~label.sk-toggleable__label {background-color: #d4ebff;}#sk-dceb768f-770c-4106-a2fb-ce51f04c98f1 div.sk-label input.sk-toggleable__control:checked~label.sk-toggleable__label {background-color: #d4ebff;}#sk-dceb768f-770c-4106-a2fb-ce51f04c98f1 input.sk-hidden--visually {border: 0;clip: rect(1px 1px 1px 1px);clip: rect(1px, 1px, 1px, 1px);height: 1px;margin: -1px;overflow: hidden;padding: 0;position: absolute;width: 1px;}#sk-dceb768f-770c-4106-a2fb-ce51f04c98f1 div.sk-estimator {font-family: monospace;background-color: #f0f8ff;margin: 0.25em 0.25em;border: 1px dotted black;border-radius: 0.25em;box-sizing: border-box;}#sk-dceb768f-770c-4106-a2fb-ce51f04c98f1 div.sk-estimator:hover {background-color: #d4ebff;}#sk-dceb768f-770c-4106-a2fb-ce51f04c98f1 div.sk-parallel-item::after {content: \"\";width: 100%;border-bottom: 1px solid gray;flex-grow: 1;}#sk-dceb768f-770c-4106-a2fb-ce51f04c98f1 div.sk-label:hover label.sk-toggleable__label {background-color: #d4ebff;}#sk-dceb768f-770c-4106-a2fb-ce51f04c98f1 div.sk-serial::before {content: \"\";position: absolute;border-left: 1px solid gray;box-sizing: border-box;top: 2em;bottom: 0;left: 50%;}#sk-dceb768f-770c-4106-a2fb-ce51f04c98f1 div.sk-serial {display: flex;flex-direction: column;align-items: center;background-color: white;}#sk-dceb768f-770c-4106-a2fb-ce51f04c98f1 div.sk-item {z-index: 1;}#sk-dceb768f-770c-4106-a2fb-ce51f04c98f1 div.sk-parallel {display: flex;align-items: stretch;justify-content: center;background-color: white;}#sk-dceb768f-770c-4106-a2fb-ce51f04c98f1 div.sk-parallel-item {display: flex;flex-direction: column;position: relative;background-color: white;}#sk-dceb768f-770c-4106-a2fb-ce51f04c98f1 div.sk-parallel-item:first-child::after {align-self: flex-end;width: 50%;}#sk-dceb768f-770c-4106-a2fb-ce51f04c98f1 div.sk-parallel-item:last-child::after {align-self: flex-start;width: 50%;}#sk-dceb768f-770c-4106-a2fb-ce51f04c98f1 div.sk-parallel-item:only-child::after {width: 0;}#sk-dceb768f-770c-4106-a2fb-ce51f04c98f1 div.sk-dashed-wrapped {border: 1px dashed gray;margin: 0.2em;box-sizing: border-box;padding-bottom: 0.1em;background-color: white;position: relative;}#sk-dceb768f-770c-4106-a2fb-ce51f04c98f1 div.sk-label label {font-family: monospace;font-weight: bold;background-color: white;display: inline-block;line-height: 1.2em;}#sk-dceb768f-770c-4106-a2fb-ce51f04c98f1 div.sk-label-container {position: relative;z-index: 2;text-align: center;}#sk-dceb768f-770c-4106-a2fb-ce51f04c98f1 div.sk-container {display: inline-block;position: relative;}</style><div id=\"sk-dceb768f-770c-4106-a2fb-ce51f04c98f1\" class\"sk-top-container\"><div class=\"sk-container\"><div class=\"sk-item\"><div class=\"sk-estimator sk-toggleable\"><input class=\"sk-toggleable__control sk-hidden--visually\" id=\"3e6400b1-7fd7-412f-964f-c19de1d357cd\" type=\"checkbox\" checked><label class=\"sk-toggleable__label\" for=\"3e6400b1-7fd7-412f-964f-c19de1d357cd\">DummyRegressor</label><div class=\"sk-toggleable__content\"><pre>DummyRegressor(strategy='median')</pre></div></div></div></div></div>"
      ],
      "text/plain": [
       "DummyRegressor(strategy='median')"
      ]
     },
     "execution_count": 33,
     "metadata": {},
     "output_type": "execute_result"
    }
   ],
   "source": [
    "dummy_reg = DummyRegressor(strategy=\"median\")\n",
    "dummy_reg.fit(X_train, y_train)"
   ]
  },
  {
   "cell_type": "code",
   "execution_count": 34,
   "id": "fa7017aa",
   "metadata": {},
   "outputs": [],
   "source": [
    "y_pred = dummy_reg.predict(X_test)"
   ]
  },
  {
   "cell_type": "code",
   "execution_count": 35,
   "id": "0296e9eb",
   "metadata": {},
   "outputs": [
    {
     "name": "stdout",
     "output_type": "stream",
     "text": [
      "MAE:  1.15152\n",
      "MSE:  2.28075\n",
      "RMSE:  1.5102164577706694\n",
      "RMPSE:  1.579\n",
      "MAPE:  0.48904\n",
      "R²:  -0.00807\n"
     ]
    }
   ],
   "source": [
    "regression_metrics(np.array(y_test), y_pred)"
   ]
  },
  {
   "cell_type": "markdown",
   "id": "31b57e62",
   "metadata": {},
   "source": [
    "## 3.3) Choix du modèle <a class=\"anchor\" id=\"section_3_3\"></a>"
   ]
  },
  {
   "cell_type": "code",
   "execution_count": 36,
   "id": "82a993b4",
   "metadata": {},
   "outputs": [],
   "source": [
    "dummy_reg = DummyRegressor(strategy=\"median\")\n",
    "lin_reg = LinearRegression()\n",
    "ridge = Ridge(random_state=42)\n",
    "lasso = Lasso(random_state=42)\n",
    "dt_reg =  DecisionTreeRegressor(random_state=42)\n",
    "svm_reg = SVR()\n",
    "ridge_kernel = KernelRidge()\n",
    "adaboost = AdaBoostRegressor(random_state=42)\n",
    "bagging = BaggingRegressor(random_state=42)\n",
    "gdboost = GradientBoostingRegressor(random_state=42)\n",
    "rdmforest = RandomForestRegressor(random_state=42)\n",
    "xgboost = xgb.XGBRegressor(random_state=42)"
   ]
  },
  {
   "cell_type": "code",
   "execution_count": 37,
   "id": "e2ce15ea",
   "metadata": {},
   "outputs": [
    {
     "data": {
      "text/html": [
       "<div>\n",
       "<style scoped>\n",
       "    .dataframe tbody tr th:only-of-type {\n",
       "        vertical-align: middle;\n",
       "    }\n",
       "\n",
       "    .dataframe tbody tr th {\n",
       "        vertical-align: top;\n",
       "    }\n",
       "\n",
       "    .dataframe thead th {\n",
       "        text-align: right;\n",
       "    }\n",
       "</style>\n",
       "<table border=\"1\" class=\"dataframe\">\n",
       "  <thead>\n",
       "    <tr style=\"text-align: right;\">\n",
       "      <th></th>\n",
       "      <th>Dummy Regressor</th>\n",
       "      <th>Linear Regression</th>\n",
       "      <th>Ridge</th>\n",
       "      <th>Lasso</th>\n",
       "      <th>DecisionTree</th>\n",
       "      <th>SVM</th>\n",
       "      <th>Ridge Kernel</th>\n",
       "      <th>AdaBoost</th>\n",
       "      <th>Bagging</th>\n",
       "      <th>GradientBoosting</th>\n",
       "      <th>Random Forest</th>\n",
       "      <th>XGBoost</th>\n",
       "    </tr>\n",
       "  </thead>\n",
       "  <tbody>\n",
       "    <tr>\n",
       "      <th>MAE</th>\n",
       "      <td>1.152</td>\n",
       "      <td>2.651170e+02</td>\n",
       "      <td>0.909</td>\n",
       "      <td>1.071</td>\n",
       "      <td>0.463</td>\n",
       "      <td>1.108</td>\n",
       "      <td>0.911</td>\n",
       "      <td>0.894</td>\n",
       "      <td>0.547</td>\n",
       "      <td>0.736</td>\n",
       "      <td>0.513</td>\n",
       "      <td>0.539</td>\n",
       "    </tr>\n",
       "    <tr>\n",
       "      <th>MSE</th>\n",
       "      <td>2.281</td>\n",
       "      <td>2.265419e+07</td>\n",
       "      <td>2.626</td>\n",
       "      <td>1.923</td>\n",
       "      <td>0.721</td>\n",
       "      <td>2.120</td>\n",
       "      <td>2.636</td>\n",
       "      <td>1.192</td>\n",
       "      <td>0.612</td>\n",
       "      <td>0.902</td>\n",
       "      <td>0.508</td>\n",
       "      <td>0.595</td>\n",
       "    </tr>\n",
       "    <tr>\n",
       "      <th>RMSE</th>\n",
       "      <td>1.510</td>\n",
       "      <td>4.759642e+03</td>\n",
       "      <td>1.621</td>\n",
       "      <td>1.387</td>\n",
       "      <td>0.849</td>\n",
       "      <td>1.456</td>\n",
       "      <td>1.624</td>\n",
       "      <td>1.092</td>\n",
       "      <td>0.782</td>\n",
       "      <td>0.949</td>\n",
       "      <td>0.712</td>\n",
       "      <td>0.771</td>\n",
       "    </tr>\n",
       "    <tr>\n",
       "      <th>R²</th>\n",
       "      <td>-0.008</td>\n",
       "      <td>-1.001287e+07</td>\n",
       "      <td>-0.161</td>\n",
       "      <td>0.150</td>\n",
       "      <td>0.681</td>\n",
       "      <td>0.063</td>\n",
       "      <td>-0.165</td>\n",
       "      <td>0.473</td>\n",
       "      <td>0.730</td>\n",
       "      <td>0.602</td>\n",
       "      <td>0.776</td>\n",
       "      <td>0.737</td>\n",
       "    </tr>\n",
       "  </tbody>\n",
       "</table>\n",
       "</div>"
      ],
      "text/plain": [
       "      Dummy Regressor  Linear Regression  Ridge  Lasso  DecisionTree    SVM  \\\n",
       "MAE             1.152       2.651170e+02  0.909  1.071         0.463  1.108   \n",
       "MSE             2.281       2.265419e+07  2.626  1.923         0.721  2.120   \n",
       "RMSE            1.510       4.759642e+03  1.621  1.387         0.849  1.456   \n",
       "R²             -0.008      -1.001287e+07 -0.161  0.150         0.681  0.063   \n",
       "\n",
       "      Ridge Kernel  AdaBoost  Bagging  GradientBoosting  Random Forest  \\\n",
       "MAE          0.911     0.894    0.547             0.736          0.513   \n",
       "MSE          2.636     1.192    0.612             0.902          0.508   \n",
       "RMSE         1.624     1.092    0.782             0.949          0.712   \n",
       "R²          -0.165     0.473    0.730             0.602          0.776   \n",
       "\n",
       "      XGBoost  \n",
       "MAE     0.539  \n",
       "MSE     0.595  \n",
       "RMSE    0.771  \n",
       "R²      0.737  "
      ]
     },
     "execution_count": 37,
     "metadata": {},
     "output_type": "execute_result"
    }
   ],
   "source": [
    "model = [dummy_reg, lin_reg, ridge, lasso, dt_reg, svm_reg, ridge_kernel, adaboost, bagging, gdboost, rdmforest, xgboost]\n",
    "dict_model = {}\n",
    "\n",
    "for model in model:\n",
    "    model.fit(X_train, y_train)\n",
    "    y_pred = model.predict(X_test)\n",
    "    mae = mean_absolute_error(y_test, y_pred)\n",
    "    mse = mean_squared_error(y_test, y_pred)\n",
    "    rmse = np.sqrt(mse)\n",
    "    r_score = r2_score(y_test, y_pred, multioutput=\"variance_weighted\").round(3)\n",
    "    dict_model[model] = (mae.round(3), mse.round(3), rmse.round(3), r_score)\n",
    "\n",
    "eval_model = pd.DataFrame(dict_model, index=[\"MAE\", \"MSE\", \"RMSE\", \"R²\"])\n",
    "eval_model.columns = [\"Dummy Regressor\", \"Linear Regression\", \"Ridge\", \"Lasso\", \"DecisionTree\", \"SVM\", \"Ridge Kernel\",\n",
    "                      \"AdaBoost\", \"Bagging\", \"GradientBoosting\", \"Random Forest\", \"XGBoost\"]\n",
    "\n",
    "eval_model"
   ]
  },
  {
   "cell_type": "markdown",
   "id": "b33f972e",
   "metadata": {},
   "source": [
    "Les modèles linéaires sont ceux avec les performances les moins bonnes ce qui montrent que le problème à laquelle nous sommes confrontés n'est pas linéaire. Les modèles ensemblistes sont ceux avec les meilleurs résultats. Ici, le choix a été fait d'améliorer les performances d'un XGBoost mais l'utilisation d'un Random Forest pourrait constituer une bonne alternative."
   ]
  },
  {
   "cell_type": "markdown",
   "id": "8cccc607",
   "metadata": {},
   "source": [
    "**Modèle choisi :** RandomForest"
   ]
  },
  {
   "cell_type": "markdown",
   "id": "d02385d2",
   "metadata": {},
   "source": [
    "## 3.4) Choix des hyperparamètres <a class=\"anchor\" id=\"section_3_4\"></a>"
   ]
  },
  {
   "cell_type": "code",
   "execution_count": 38,
   "id": "16015bea",
   "metadata": {},
   "outputs": [],
   "source": [
    "# instanciation du modèle avec paramètre de base \n",
    "forest_reg = RandomForestRegressor(n_estimators=400, max_features=\"auto\", random_state=42, n_jobs=-1)"
   ]
  },
  {
   "cell_type": "code",
   "execution_count": 39,
   "id": "33cd139f",
   "metadata": {},
   "outputs": [
    {
     "data": {
      "text/html": [
       "<style>#sk-2313e054-55b3-4c5f-9cc8-cfbbf3a888cd {color: black;background-color: white;}#sk-2313e054-55b3-4c5f-9cc8-cfbbf3a888cd pre{padding: 0;}#sk-2313e054-55b3-4c5f-9cc8-cfbbf3a888cd div.sk-toggleable {background-color: white;}#sk-2313e054-55b3-4c5f-9cc8-cfbbf3a888cd label.sk-toggleable__label {cursor: pointer;display: block;width: 100%;margin-bottom: 0;padding: 0.2em 0.3em;box-sizing: border-box;text-align: center;}#sk-2313e054-55b3-4c5f-9cc8-cfbbf3a888cd div.sk-toggleable__content {max-height: 0;max-width: 0;overflow: hidden;text-align: left;background-color: #f0f8ff;}#sk-2313e054-55b3-4c5f-9cc8-cfbbf3a888cd div.sk-toggleable__content pre {margin: 0.2em;color: black;border-radius: 0.25em;background-color: #f0f8ff;}#sk-2313e054-55b3-4c5f-9cc8-cfbbf3a888cd input.sk-toggleable__control:checked~div.sk-toggleable__content {max-height: 200px;max-width: 100%;overflow: auto;}#sk-2313e054-55b3-4c5f-9cc8-cfbbf3a888cd div.sk-estimator input.sk-toggleable__control:checked~label.sk-toggleable__label {background-color: #d4ebff;}#sk-2313e054-55b3-4c5f-9cc8-cfbbf3a888cd div.sk-label input.sk-toggleable__control:checked~label.sk-toggleable__label {background-color: #d4ebff;}#sk-2313e054-55b3-4c5f-9cc8-cfbbf3a888cd input.sk-hidden--visually {border: 0;clip: rect(1px 1px 1px 1px);clip: rect(1px, 1px, 1px, 1px);height: 1px;margin: -1px;overflow: hidden;padding: 0;position: absolute;width: 1px;}#sk-2313e054-55b3-4c5f-9cc8-cfbbf3a888cd div.sk-estimator {font-family: monospace;background-color: #f0f8ff;margin: 0.25em 0.25em;border: 1px dotted black;border-radius: 0.25em;box-sizing: border-box;}#sk-2313e054-55b3-4c5f-9cc8-cfbbf3a888cd div.sk-estimator:hover {background-color: #d4ebff;}#sk-2313e054-55b3-4c5f-9cc8-cfbbf3a888cd div.sk-parallel-item::after {content: \"\";width: 100%;border-bottom: 1px solid gray;flex-grow: 1;}#sk-2313e054-55b3-4c5f-9cc8-cfbbf3a888cd div.sk-label:hover label.sk-toggleable__label {background-color: #d4ebff;}#sk-2313e054-55b3-4c5f-9cc8-cfbbf3a888cd div.sk-serial::before {content: \"\";position: absolute;border-left: 1px solid gray;box-sizing: border-box;top: 2em;bottom: 0;left: 50%;}#sk-2313e054-55b3-4c5f-9cc8-cfbbf3a888cd div.sk-serial {display: flex;flex-direction: column;align-items: center;background-color: white;}#sk-2313e054-55b3-4c5f-9cc8-cfbbf3a888cd div.sk-item {z-index: 1;}#sk-2313e054-55b3-4c5f-9cc8-cfbbf3a888cd div.sk-parallel {display: flex;align-items: stretch;justify-content: center;background-color: white;}#sk-2313e054-55b3-4c5f-9cc8-cfbbf3a888cd div.sk-parallel-item {display: flex;flex-direction: column;position: relative;background-color: white;}#sk-2313e054-55b3-4c5f-9cc8-cfbbf3a888cd div.sk-parallel-item:first-child::after {align-self: flex-end;width: 50%;}#sk-2313e054-55b3-4c5f-9cc8-cfbbf3a888cd div.sk-parallel-item:last-child::after {align-self: flex-start;width: 50%;}#sk-2313e054-55b3-4c5f-9cc8-cfbbf3a888cd div.sk-parallel-item:only-child::after {width: 0;}#sk-2313e054-55b3-4c5f-9cc8-cfbbf3a888cd div.sk-dashed-wrapped {border: 1px dashed gray;margin: 0.2em;box-sizing: border-box;padding-bottom: 0.1em;background-color: white;position: relative;}#sk-2313e054-55b3-4c5f-9cc8-cfbbf3a888cd div.sk-label label {font-family: monospace;font-weight: bold;background-color: white;display: inline-block;line-height: 1.2em;}#sk-2313e054-55b3-4c5f-9cc8-cfbbf3a888cd div.sk-label-container {position: relative;z-index: 2;text-align: center;}#sk-2313e054-55b3-4c5f-9cc8-cfbbf3a888cd div.sk-container {display: inline-block;position: relative;}</style><div id=\"sk-2313e054-55b3-4c5f-9cc8-cfbbf3a888cd\" class\"sk-top-container\"><div class=\"sk-container\"><div class=\"sk-item sk-dashed-wrapped\"><div class=\"sk-label-container\"><div class=\"sk-label sk-toggleable\"><input class=\"sk-toggleable__control sk-hidden--visually\" id=\"760a1c40-08cd-4f07-b6c9-3314aa477501\" type=\"checkbox\" ><label class=\"sk-toggleable__label\" for=\"760a1c40-08cd-4f07-b6c9-3314aa477501\">RandomizedSearchCV</label><div class=\"sk-toggleable__content\"><pre>RandomizedSearchCV(cv=5,\n",
       "                   estimator=RandomForestRegressor(n_estimators=400, n_jobs=-1,\n",
       "                                                   random_state=42),\n",
       "                   param_distributions={'max_depth': <scipy.stats._distn_infrastructure.rv_frozen object at 0x00000259CBCBEA00>,\n",
       "                                        'min_samples_leaf': <scipy.stats._distn_infrastructure.rv_frozen object at 0x00000259CBDDDA30>,\n",
       "                                        'min_samples_split': <scipy.stats._distn_infrastructure.rv_frozen object at 0x00000259CC71CAF0>},\n",
       "                   random_state=42, scoring='neg_mean_squared_error')</pre></div></div></div><div class=\"sk-parallel\"><div class=\"sk-parallel-item\"><div class=\"sk-item\"><div class=\"sk-serial\"><div class=\"sk-item\"><div class=\"sk-estimator sk-toggleable\"><input class=\"sk-toggleable__control sk-hidden--visually\" id=\"2b1bca29-3f7a-47dc-9579-1d56def9d140\" type=\"checkbox\" ><label class=\"sk-toggleable__label\" for=\"2b1bca29-3f7a-47dc-9579-1d56def9d140\">RandomForestRegressor</label><div class=\"sk-toggleable__content\"><pre>RandomForestRegressor(n_estimators=400, n_jobs=-1, random_state=42)</pre></div></div></div></div></div></div></div></div></div></div>"
      ],
      "text/plain": [
       "RandomizedSearchCV(cv=5,\n",
       "                   estimator=RandomForestRegressor(n_estimators=400, n_jobs=-1,\n",
       "                                                   random_state=42),\n",
       "                   param_distributions={'max_depth': <scipy.stats._distn_infrastructure.rv_frozen object at 0x00000259CBCBEA00>,\n",
       "                                        'min_samples_leaf': <scipy.stats._distn_infrastructure.rv_frozen object at 0x00000259CBDDDA30>,\n",
       "                                        'min_samples_split': <scipy.stats._distn_infrastructure.rv_frozen object at 0x00000259CC71CAF0>},\n",
       "                   random_state=42, scoring='neg_mean_squared_error')"
      ]
     },
     "execution_count": 39,
     "metadata": {},
     "output_type": "execute_result"
    }
   ],
   "source": [
    "param_distribs = {\n",
    "        'max_depth': randint(low=1, high=12),\n",
    "        'min_samples_split' : randint(low=2, high=10),\n",
    "        'min_samples_leaf' : randint(low=2, high=10),\n",
    "    }\n",
    "\n",
    "rnd_search = RandomizedSearchCV(forest_reg, param_distributions=param_distribs,\n",
    "                                n_iter=10, cv=5, scoring='neg_mean_squared_error', random_state=42)\n",
    "rnd_search.fit(X_train, y_train)"
   ]
  },
  {
   "cell_type": "code",
   "execution_count": 40,
   "id": "68dfaa19",
   "metadata": {},
   "outputs": [
    {
     "name": "stdout",
     "output_type": "stream",
     "text": [
      "1.005297157517012 {'max_depth': 7, 'min_samples_leaf': 5, 'min_samples_split': 6}\n",
      "0.993623864441044 {'max_depth': 11, 'min_samples_leaf': 9, 'min_samples_split': 6}\n",
      "1.052778064622669 {'max_depth': 5, 'min_samples_leaf': 8, 'min_samples_split': 3}\n",
      "1.1161543140767936 {'max_depth': 3, 'min_samples_leaf': 8, 'min_samples_split': 4}\n",
      "0.993623864441044 {'max_depth': 11, 'min_samples_leaf': 9, 'min_samples_split': 6}\n",
      "1.078427731283579 {'max_depth': 4, 'min_samples_leaf': 9, 'min_samples_split': 9}\n",
      "1.1158637228767585 {'max_depth': 3, 'min_samples_leaf': 7, 'min_samples_split': 6}\n",
      "1.1843943397523955 {'max_depth': 2, 'min_samples_leaf': 9, 'min_samples_split': 5}\n",
      "1.0197369790098452 {'max_depth': 6, 'min_samples_leaf': 3, 'min_samples_split': 9}\n",
      "1.045346802004021 {'max_depth': 5, 'min_samples_leaf': 2, 'min_samples_split': 5}\n"
     ]
    }
   ],
   "source": [
    "cvres = rnd_search.cv_results_\n",
    "for mean_score, params in zip(cvres[\"mean_test_score\"], cvres[\"params\"]):\n",
    "    print(np.sqrt(-mean_score), params)"
   ]
  },
  {
   "cell_type": "code",
   "execution_count": 41,
   "id": "1335dc70",
   "metadata": {
    "scrolled": true
   },
   "outputs": [
    {
     "data": {
      "text/html": [
       "<style>#sk-bd171588-b20e-4de6-a99e-2da252847064 {color: black;background-color: white;}#sk-bd171588-b20e-4de6-a99e-2da252847064 pre{padding: 0;}#sk-bd171588-b20e-4de6-a99e-2da252847064 div.sk-toggleable {background-color: white;}#sk-bd171588-b20e-4de6-a99e-2da252847064 label.sk-toggleable__label {cursor: pointer;display: block;width: 100%;margin-bottom: 0;padding: 0.2em 0.3em;box-sizing: border-box;text-align: center;}#sk-bd171588-b20e-4de6-a99e-2da252847064 div.sk-toggleable__content {max-height: 0;max-width: 0;overflow: hidden;text-align: left;background-color: #f0f8ff;}#sk-bd171588-b20e-4de6-a99e-2da252847064 div.sk-toggleable__content pre {margin: 0.2em;color: black;border-radius: 0.25em;background-color: #f0f8ff;}#sk-bd171588-b20e-4de6-a99e-2da252847064 input.sk-toggleable__control:checked~div.sk-toggleable__content {max-height: 200px;max-width: 100%;overflow: auto;}#sk-bd171588-b20e-4de6-a99e-2da252847064 div.sk-estimator input.sk-toggleable__control:checked~label.sk-toggleable__label {background-color: #d4ebff;}#sk-bd171588-b20e-4de6-a99e-2da252847064 div.sk-label input.sk-toggleable__control:checked~label.sk-toggleable__label {background-color: #d4ebff;}#sk-bd171588-b20e-4de6-a99e-2da252847064 input.sk-hidden--visually {border: 0;clip: rect(1px 1px 1px 1px);clip: rect(1px, 1px, 1px, 1px);height: 1px;margin: -1px;overflow: hidden;padding: 0;position: absolute;width: 1px;}#sk-bd171588-b20e-4de6-a99e-2da252847064 div.sk-estimator {font-family: monospace;background-color: #f0f8ff;margin: 0.25em 0.25em;border: 1px dotted black;border-radius: 0.25em;box-sizing: border-box;}#sk-bd171588-b20e-4de6-a99e-2da252847064 div.sk-estimator:hover {background-color: #d4ebff;}#sk-bd171588-b20e-4de6-a99e-2da252847064 div.sk-parallel-item::after {content: \"\";width: 100%;border-bottom: 1px solid gray;flex-grow: 1;}#sk-bd171588-b20e-4de6-a99e-2da252847064 div.sk-label:hover label.sk-toggleable__label {background-color: #d4ebff;}#sk-bd171588-b20e-4de6-a99e-2da252847064 div.sk-serial::before {content: \"\";position: absolute;border-left: 1px solid gray;box-sizing: border-box;top: 2em;bottom: 0;left: 50%;}#sk-bd171588-b20e-4de6-a99e-2da252847064 div.sk-serial {display: flex;flex-direction: column;align-items: center;background-color: white;}#sk-bd171588-b20e-4de6-a99e-2da252847064 div.sk-item {z-index: 1;}#sk-bd171588-b20e-4de6-a99e-2da252847064 div.sk-parallel {display: flex;align-items: stretch;justify-content: center;background-color: white;}#sk-bd171588-b20e-4de6-a99e-2da252847064 div.sk-parallel-item {display: flex;flex-direction: column;position: relative;background-color: white;}#sk-bd171588-b20e-4de6-a99e-2da252847064 div.sk-parallel-item:first-child::after {align-self: flex-end;width: 50%;}#sk-bd171588-b20e-4de6-a99e-2da252847064 div.sk-parallel-item:last-child::after {align-self: flex-start;width: 50%;}#sk-bd171588-b20e-4de6-a99e-2da252847064 div.sk-parallel-item:only-child::after {width: 0;}#sk-bd171588-b20e-4de6-a99e-2da252847064 div.sk-dashed-wrapped {border: 1px dashed gray;margin: 0.2em;box-sizing: border-box;padding-bottom: 0.1em;background-color: white;position: relative;}#sk-bd171588-b20e-4de6-a99e-2da252847064 div.sk-label label {font-family: monospace;font-weight: bold;background-color: white;display: inline-block;line-height: 1.2em;}#sk-bd171588-b20e-4de6-a99e-2da252847064 div.sk-label-container {position: relative;z-index: 2;text-align: center;}#sk-bd171588-b20e-4de6-a99e-2da252847064 div.sk-container {display: inline-block;position: relative;}</style><div id=\"sk-bd171588-b20e-4de6-a99e-2da252847064\" class\"sk-top-container\"><div class=\"sk-container\"><div class=\"sk-item sk-dashed-wrapped\"><div class=\"sk-label-container\"><div class=\"sk-label sk-toggleable\"><input class=\"sk-toggleable__control sk-hidden--visually\" id=\"a33fbfb3-6a95-4540-bb5f-56a6d7abe6cf\" type=\"checkbox\" ><label class=\"sk-toggleable__label\" for=\"a33fbfb3-6a95-4540-bb5f-56a6d7abe6cf\">GridSearchCV</label><div class=\"sk-toggleable__content\"><pre>GridSearchCV(cv=5,\n",
       "             estimator=RandomForestRegressor(n_estimators=400, n_jobs=-1,\n",
       "                                             random_state=42),\n",
       "             param_grid=[{'max_depth': [10, 11, 12],\n",
       "                          'min_samples_leaf': [7, 8, 9, 10],\n",
       "                          'min_samples_split': [5, 6, 7]}],\n",
       "             scoring='neg_mean_squared_error')</pre></div></div></div><div class=\"sk-parallel\"><div class=\"sk-parallel-item\"><div class=\"sk-item\"><div class=\"sk-serial\"><div class=\"sk-item\"><div class=\"sk-estimator sk-toggleable\"><input class=\"sk-toggleable__control sk-hidden--visually\" id=\"e4a679d4-1668-4a17-ad87-fba779db18df\" type=\"checkbox\" ><label class=\"sk-toggleable__label\" for=\"e4a679d4-1668-4a17-ad87-fba779db18df\">RandomForestRegressor</label><div class=\"sk-toggleable__content\"><pre>RandomForestRegressor(n_estimators=400, n_jobs=-1, random_state=42)</pre></div></div></div></div></div></div></div></div></div></div>"
      ],
      "text/plain": [
       "GridSearchCV(cv=5,\n",
       "             estimator=RandomForestRegressor(n_estimators=400, n_jobs=-1,\n",
       "                                             random_state=42),\n",
       "             param_grid=[{'max_depth': [10, 11, 12],\n",
       "                          'min_samples_leaf': [7, 8, 9, 10],\n",
       "                          'min_samples_split': [5, 6, 7]}],\n",
       "             scoring='neg_mean_squared_error')"
      ]
     },
     "execution_count": 41,
     "metadata": {},
     "output_type": "execute_result"
    }
   ],
   "source": [
    "from sklearn.model_selection import GridSearchCV\n",
    "\n",
    "params = [{\"max_depth\" : [10, 11, 12],\n",
    "           \"min_samples_leaf\" : [7, 8, 9, 10],\n",
    "           \"min_samples_split\" : [5, 6, 7]\n",
    "}]\n",
    "\n",
    "grid_search = GridSearchCV(forest_reg, params, cv=5,\n",
    "                           scoring='neg_mean_squared_error')\n",
    "grid_search.fit(X_train, y_train)"
   ]
  },
  {
   "cell_type": "code",
   "execution_count": 42,
   "id": "993ecf15",
   "metadata": {},
   "outputs": [
    {
     "data": {
      "text/plain": [
       "{'max_depth': 12, 'min_samples_leaf': 7, 'min_samples_split': 5}"
      ]
     },
     "execution_count": 42,
     "metadata": {},
     "output_type": "execute_result"
    }
   ],
   "source": [
    "grid_search.best_params_"
   ]
  },
  {
   "cell_type": "markdown",
   "id": "dad1dd88",
   "metadata": {},
   "source": [
    "## 3.5) Analyse des erreurs du modèle <a class=\"anchor\" id=\"section_3_5\"></a>"
   ]
  },
  {
   "cell_type": "code",
   "execution_count": 43,
   "id": "f0a1bc63",
   "metadata": {},
   "outputs": [],
   "source": [
    "final_model_co2 = grid_search.best_estimator_"
   ]
  },
  {
   "cell_type": "code",
   "execution_count": 44,
   "id": "2224958b",
   "metadata": {},
   "outputs": [],
   "source": [
    "final_predictions_co2 = final_model_co2.predict(X_test)"
   ]
  },
  {
   "cell_type": "code",
   "execution_count": 45,
   "id": "c2251b10",
   "metadata": {},
   "outputs": [
    {
     "name": "stdout",
     "output_type": "stream",
     "text": [
      "MAE:  0.70272\n",
      "MSE:  0.85088\n",
      "RMSE:  0.9224307665281276\n",
      "RMPSE:  1.732\n",
      "MAPE:  0.30847\n",
      "R²:  0.62392\n"
     ]
    }
   ],
   "source": [
    "regression_metrics(np.array(y_test), final_predictions_co2)"
   ]
  },
  {
   "cell_type": "code",
   "execution_count": 46,
   "id": "175b1e6e",
   "metadata": {},
   "outputs": [
    {
     "data": {
      "image/png": "[encoded data removed]",
      "text/plain": [
       "<Figure size 576x396 with 2 Axes>"
      ]
     },
     "metadata": {},
     "output_type": "display_data"
    }
   ],
   "source": [
    "visualizer = ResidualsPlot(final_model_co2)\n",
    "visualizer.fit(np.array(X_train), np.array(y_train).reshape(2596,))\n",
    "visualizer.score(np.array(X_test), np.array(y_test).reshape(649,))\n",
    "visualizer.show();"
   ]
  },
  {
   "cell_type": "markdown",
   "id": "7dccf421",
   "metadata": {},
   "source": [
    "La différence entre le coefficient de détermination du jeu d'entraînement et du jeu de test montre qu'il y a overfitting de notre modèle malgré les précautions prises (validation croisée, contrainte du modèle en utilisant l'hypermètre $\\eta$). Les scores observées sont moins bons que pour la prédiction de la consommation d'énergie. En effet, notre modèle n'explique que 65% de la variance observée. De plus, son pourcentage d'erreur moyenne (MAPE) est de 0.31%. Si on se réfère au pourcentage de RMSE (RMSPE), notre modèle donne une prédiction avec une erreur de plus ou moins 1.7%."
   ]
  },
  {
   "cell_type": "code",
   "execution_count": 47,
   "id": "efe0e884",
   "metadata": {},
   "outputs": [
    {
     "data": {
      "image/png": "[encoded data removed]",
      "text/plain": [
       "<Figure size 576x396 with 1 Axes>"
      ]
     },
     "metadata": {},
     "output_type": "display_data"
    }
   ],
   "source": [
    "visualizer = prediction_error(final_model_co2, np.array(X_train), np.array(y_train), np.array(X_test), np.array(y_test));"
   ]
  },
  {
   "cell_type": "markdown",
   "id": "4d3efb50",
   "metadata": {},
   "source": [
    "La prédiction des émissions de CO$_2$ semble plus complexe que celle de la consommation d'énergie. Cela peut s'expliquer par le fait que nous ne disposons pas d'informations suffisantes pour faire cette prédiction. Contrairement à la consommation d'énergie, il est possible que d'autres variables interviennent dans notre modèle ce qui expliquerait, par exemple, que notre coefficient de détermination soit aussi faible. "
   ]
  },
  {
   "cell_type": "markdown",
   "id": "3b9b2293",
   "metadata": {},
   "source": [
    "## 3.6) Bilan du modèle <a class=\"anchor\" id=\"section_3_6\"></a>"
   ]
  },
  {
   "cell_type": "code",
   "execution_count": 48,
   "id": "90f2d67c",
   "metadata": {},
   "outputs": [],
   "source": [
    "feature_importance = grid_search.best_estimator_.feature_importances_"
   ]
  },
  {
   "cell_type": "code",
   "execution_count": 49,
   "id": "1bce7467",
   "metadata": {},
   "outputs": [],
   "source": [
    "cat_encoder = preprocessor.named_transformers_[\"cat\"]\n",
    "cat_one_hot_attribs = list(cat_encoder[1].categories_)\n",
    "cat_one = list(cat_one_hot_attribs[0])\n",
    "cat_two = list(cat_one_hot_attribs[1])\n",
    "cat_three = list(cat_one_hot_attribs[2])\n",
    "cat_four = list(cat_one_hot_attribs[3])\n",
    "cat_five = list(cat_one_hot_attribs[4])\n",
    "attributes = num_var + cat_one + cat_two + cat_three + cat_four + cat_five\n",
    "importances = pd.DataFrame(feature_importance.round(3), attributes).reset_index()\n",
    "importances.columns = [\"Features\", \"Features Importances\"]"
   ]
  },
  {
   "cell_type": "code",
   "execution_count": 50,
   "id": "7fbc28c4",
   "metadata": {},
   "outputs": [
    {
     "data": {
      "text/html": [
       "<div>\n",
       "<style scoped>\n",
       "    .dataframe tbody tr th:only-of-type {\n",
       "        vertical-align: middle;\n",
       "    }\n",
       "\n",
       "    .dataframe tbody tr th {\n",
       "        vertical-align: top;\n",
       "    }\n",
       "\n",
       "    .dataframe thead th {\n",
       "        text-align: right;\n",
       "    }\n",
       "</style>\n",
       "<table border=\"1\" class=\"dataframe\">\n",
       "  <thead>\n",
       "    <tr style=\"text-align: right;\">\n",
       "      <th></th>\n",
       "      <th>Features</th>\n",
       "      <th>Features Importances</th>\n",
       "    </tr>\n",
       "  </thead>\n",
       "  <tbody>\n",
       "    <tr>\n",
       "      <th>102</th>\n",
       "      <td>Supermarket/Store</td>\n",
       "      <td>0.603</td>\n",
       "    </tr>\n",
       "    <tr>\n",
       "      <th>14</th>\n",
       "      <td>Other</td>\n",
       "      <td>0.079</td>\n",
       "    </tr>\n",
       "    <tr>\n",
       "      <th>104</th>\n",
       "      <td>Vocational School</td>\n",
       "      <td>0.075</td>\n",
       "    </tr>\n",
       "    <tr>\n",
       "      <th>6</th>\n",
       "      <td>ThirdLargestPropertyUseTypeGFA</td>\n",
       "      <td>0.048</td>\n",
       "    </tr>\n",
       "    <tr>\n",
       "      <th>12</th>\n",
       "      <td>Mixed Use Property</td>\n",
       "      <td>0.033</td>\n",
       "    </tr>\n",
       "  </tbody>\n",
       "</table>\n",
       "</div>"
      ],
      "text/plain": [
       "                           Features  Features Importances\n",
       "102               Supermarket/Store                 0.603\n",
       "14                            Other                 0.079\n",
       "104               Vocational School                 0.075\n",
       "6    ThirdLargestPropertyUseTypeGFA                 0.048\n",
       "12               Mixed Use Property                 0.033"
      ]
     },
     "execution_count": 50,
     "metadata": {},
     "output_type": "execute_result"
    }
   ],
   "source": [
    "importances.sort_values(\"Features Importances\", ascending=False).head()"
   ]
  },
  {
   "cell_type": "markdown",
   "id": "2e972b3b",
   "metadata": {},
   "source": [
    "## 3.7) Pipeline du modèle pour l'estimation des émissions de CO2 <a class=\"anchor\" id=\"section_3_7\"></a>"
   ]
  },
  {
   "cell_type": "code",
   "execution_count": 51,
   "id": "93f5f8b0",
   "metadata": {},
   "outputs": [],
   "source": [
    "full_pipeline_co2 = Pipeline([\n",
    "    (\"preprocessing\", preprocessor),\n",
    "    (\"model\", final_model_co2)\n",
    "])"
   ]
  },
  {
   "cell_type": "markdown",
   "id": "d47cdc46",
   "metadata": {},
   "source": [
    "On enregistre tout de même ce modèle dans un pipeline. Malgré ses erreurs, il est utilisable pour obtenir une estimation des émissions de CO$_2$ mais il sera moins précis que l'estimation de la consommation d'énergie. "
   ]
  },
  {
   "cell_type": "markdown",
   "id": "2d74e8a9",
   "metadata": {},
   "source": [
    "# 4 - Prédiction des émissions de CO2 avec ENERGY STAR SCORE"
   ]
  },
  {
   "cell_type": "markdown",
   "id": "209cf75e",
   "metadata": {},
   "source": [
    "Cette fois-ci, on va regarder si l'ajout du score ENERGY STAR va permettre d'améliorer notre modèle. "
   ]
  },
  {
   "cell_type": "markdown",
   "id": "32059fc4",
   "metadata": {},
   "source": [
    "## 4.1) Préparation des variables <a class=\"anchor\" id=\"section_4_1\"></a>"
   ]
  },
  {
   "cell_type": "code",
   "execution_count": 52,
   "id": "a9b6d9a8",
   "metadata": {},
   "outputs": [],
   "source": [
    "# Création d'un jeu d'entrainement (train set) et d'un jeu de test (test set)\n",
    "train_set, test_set = train_test_split(data, test_size=0.2, random_state=42)\n",
    "\n",
    "y_train = train_set[[\"TotalGHGEmissions_log\"]]\n",
    "y_test = test_set[[\"TotalGHGEmissions_log\"]]\n",
    "X_train = train_set.drop([\"SiteEnergyUse(kBtu)\", \"SiteEnergyUse(kBtu)_log\", \"TotalGHGEmissions\", \"SiteEnergyUse(kBtu)_log\", \"YearBuilt\", \"Neighborhood\", \"Latitude\", \"Longitude\"], axis=1)\n",
    "X_test = test_set.drop([\"SiteEnergyUse(kBtu)\", \"SiteEnergyUse(kBtu)_log\", \"TotalGHGEmissions\", \"SiteEnergyUse(kBtu)_log\", \"YearBuilt\",\"Neighborhood\", \"Latitude\", \"Longitude\"], axis=1)"
   ]
  },
  {
   "cell_type": "code",
   "execution_count": 53,
   "id": "45a8cab3",
   "metadata": {},
   "outputs": [],
   "source": [
    "# Séparation des variables catégorielles et numériques\n",
    "cat_var = [\"PrimaryPropertyType\", \"Clusters\", \"HasParking\", \"SecondLargestPropertyUseType\", \"ThirdLargestPropertyUseType\"]\n",
    "num_var = [\"PropertyGFATotal\", \"degreeDaysH\", \"Age\", \"NumberofBuildings\", \"NumberofFloors\", \"SecondLargestPropertyUseTypeGFA\", \"ThirdLargestPropertyUseTypeGFA\", \"ENERGYSTARScore\"]"
   ]
  },
  {
   "cell_type": "code",
   "execution_count": 54,
   "id": "30e1fcf5",
   "metadata": {},
   "outputs": [],
   "source": [
    "# Création d'un pipeline de transformation\n",
    "\n",
    "cat_pipe = Pipeline([\n",
    "    ('imputer', SimpleImputer(strategy='most_frequent', fill_value='missing')),\n",
    "    ('encoder', OneHotEncoder(handle_unknown='ignore', sparse=False))\n",
    "])\n",
    "\n",
    "num_pipe = Pipeline([\n",
    "    ('imputer', SimpleImputer(strategy=\"median\", fill_value=\"missing\")),\n",
    "    ('scaler', RobustScaler())\n",
    "])\n",
    "\n",
    "preprocessor = ColumnTransformer(\n",
    "    transformers=[\n",
    "    ('cat', cat_pipe, cat_var),\n",
    "    ('num', num_pipe, num_var)\n",
    "])"
   ]
  },
  {
   "cell_type": "code",
   "execution_count": 55,
   "id": "c8b82fd5",
   "metadata": {},
   "outputs": [],
   "source": [
    "X_train = preprocessor.fit_transform(X_train)"
   ]
  },
  {
   "cell_type": "markdown",
   "id": "cf69b51a",
   "metadata": {},
   "source": [
    "## 4.2) Création d'un modèle de base <a class=\"anchor\" id=\"section_4_2\"></a>"
   ]
  },
  {
   "cell_type": "code",
   "execution_count": 56,
   "id": "139ead8d",
   "metadata": {
    "scrolled": true
   },
   "outputs": [
    {
     "data": {
      "text/html": [
       "<style>#sk-0209a2f5-ec8c-4af0-a10d-b8259a52be15 {color: black;background-color: white;}#sk-0209a2f5-ec8c-4af0-a10d-b8259a52be15 pre{padding: 0;}#sk-0209a2f5-ec8c-4af0-a10d-b8259a52be15 div.sk-toggleable {background-color: white;}#sk-0209a2f5-ec8c-4af0-a10d-b8259a52be15 label.sk-toggleable__label {cursor: pointer;display: block;width: 100%;margin-bottom: 0;padding: 0.2em 0.3em;box-sizing: border-box;text-align: center;}#sk-0209a2f5-ec8c-4af0-a10d-b8259a52be15 div.sk-toggleable__content {max-height: 0;max-width: 0;overflow: hidden;text-align: left;background-color: #f0f8ff;}#sk-0209a2f5-ec8c-4af0-a10d-b8259a52be15 div.sk-toggleable__content pre {margin: 0.2em;color: black;border-radius: 0.25em;background-color: #f0f8ff;}#sk-0209a2f5-ec8c-4af0-a10d-b8259a52be15 input.sk-toggleable__control:checked~div.sk-toggleable__content {max-height: 200px;max-width: 100%;overflow: auto;}#sk-0209a2f5-ec8c-4af0-a10d-b8259a52be15 div.sk-estimator input.sk-toggleable__control:checked~label.sk-toggleable__label {background-color: #d4ebff;}#sk-0209a2f5-ec8c-4af0-a10d-b8259a52be15 div.sk-label input.sk-toggleable__control:checked~label.sk-toggleable__label {background-color: #d4ebff;}#sk-0209a2f5-ec8c-4af0-a10d-b8259a52be15 input.sk-hidden--visually {border: 0;clip: rect(1px 1px 1px 1px);clip: rect(1px, 1px, 1px, 1px);height: 1px;margin: -1px;overflow: hidden;padding: 0;position: absolute;width: 1px;}#sk-0209a2f5-ec8c-4af0-a10d-b8259a52be15 div.sk-estimator {font-family: monospace;background-color: #f0f8ff;margin: 0.25em 0.25em;border: 1px dotted black;border-radius: 0.25em;box-sizing: border-box;}#sk-0209a2f5-ec8c-4af0-a10d-b8259a52be15 div.sk-estimator:hover {background-color: #d4ebff;}#sk-0209a2f5-ec8c-4af0-a10d-b8259a52be15 div.sk-parallel-item::after {content: \"\";width: 100%;border-bottom: 1px solid gray;flex-grow: 1;}#sk-0209a2f5-ec8c-4af0-a10d-b8259a52be15 div.sk-label:hover label.sk-toggleable__label {background-color: #d4ebff;}#sk-0209a2f5-ec8c-4af0-a10d-b8259a52be15 div.sk-serial::before {content: \"\";position: absolute;border-left: 1px solid gray;box-sizing: border-box;top: 2em;bottom: 0;left: 50%;}#sk-0209a2f5-ec8c-4af0-a10d-b8259a52be15 div.sk-serial {display: flex;flex-direction: column;align-items: center;background-color: white;}#sk-0209a2f5-ec8c-4af0-a10d-b8259a52be15 div.sk-item {z-index: 1;}#sk-0209a2f5-ec8c-4af0-a10d-b8259a52be15 div.sk-parallel {display: flex;align-items: stretch;justify-content: center;background-color: white;}#sk-0209a2f5-ec8c-4af0-a10d-b8259a52be15 div.sk-parallel-item {display: flex;flex-direction: column;position: relative;background-color: white;}#sk-0209a2f5-ec8c-4af0-a10d-b8259a52be15 div.sk-parallel-item:first-child::after {align-self: flex-end;width: 50%;}#sk-0209a2f5-ec8c-4af0-a10d-b8259a52be15 div.sk-parallel-item:last-child::after {align-self: flex-start;width: 50%;}#sk-0209a2f5-ec8c-4af0-a10d-b8259a52be15 div.sk-parallel-item:only-child::after {width: 0;}#sk-0209a2f5-ec8c-4af0-a10d-b8259a52be15 div.sk-dashed-wrapped {border: 1px dashed gray;margin: 0.2em;box-sizing: border-box;padding-bottom: 0.1em;background-color: white;position: relative;}#sk-0209a2f5-ec8c-4af0-a10d-b8259a52be15 div.sk-label label {font-family: monospace;font-weight: bold;background-color: white;display: inline-block;line-height: 1.2em;}#sk-0209a2f5-ec8c-4af0-a10d-b8259a52be15 div.sk-label-container {position: relative;z-index: 2;text-align: center;}#sk-0209a2f5-ec8c-4af0-a10d-b8259a52be15 div.sk-container {display: inline-block;position: relative;}</style><div id=\"sk-0209a2f5-ec8c-4af0-a10d-b8259a52be15\" class\"sk-top-container\"><div class=\"sk-container\"><div class=\"sk-item\"><div class=\"sk-estimator sk-toggleable\"><input class=\"sk-toggleable__control sk-hidden--visually\" id=\"4a124a3b-ac4c-4ced-a224-0f2cbec75fa2\" type=\"checkbox\" checked><label class=\"sk-toggleable__label\" for=\"4a124a3b-ac4c-4ced-a224-0f2cbec75fa2\">DummyRegressor</label><div class=\"sk-toggleable__content\"><pre>DummyRegressor(strategy='median')</pre></div></div></div></div></div>"
      ],
      "text/plain": [
       "DummyRegressor(strategy='median')"
      ]
     },
     "execution_count": 56,
     "metadata": {},
     "output_type": "execute_result"
    }
   ],
   "source": [
    "dummy_reg = DummyRegressor(strategy=\"median\")\n",
    "dummy_reg.fit(X_train, y_train)"
   ]
  },
  {
   "cell_type": "code",
   "execution_count": 57,
   "id": "29319aa7",
   "metadata": {},
   "outputs": [
    {
     "name": "stdout",
     "output_type": "stream",
     "text": [
      "MAE:  1.15152\n",
      "MSE:  2.28075\n",
      "RMSE:  1.5102164577706694\n",
      "RMPSE:  1.579\n",
      "MAPE:  0.48904\n",
      "R²:  -0.00807\n"
     ]
    }
   ],
   "source": [
    "X_test = preprocessor.transform(X_test)\n",
    "y_pred = dummy_reg.predict(X_test)\n",
    "regression_metrics(np.array(y_test), y_pred)"
   ]
  },
  {
   "cell_type": "markdown",
   "id": "a245a94f",
   "metadata": {},
   "source": [
    "## 4.3) Choix du modèle <a class=\"anchor\" id=\"section_4_3\"></a>"
   ]
  },
  {
   "cell_type": "code",
   "execution_count": 58,
   "id": "39a8cbce",
   "metadata": {},
   "outputs": [],
   "source": [
    "dummy_reg = DummyRegressor(strategy=\"median\")\n",
    "lin_reg = LinearRegression()\n",
    "ridge = Ridge(random_state=42)\n",
    "lasso = Lasso(random_state=42)\n",
    "dt_reg =  DecisionTreeRegressor(random_state=42)\n",
    "svm_reg = SVR()\n",
    "ridge_kernel = KernelRidge()\n",
    "adaboost = AdaBoostRegressor(random_state=42)\n",
    "bagging = BaggingRegressor(random_state=42)\n",
    "gdboost = GradientBoostingRegressor(random_state=42)\n",
    "rdmforest = RandomForestRegressor(random_state=42)\n",
    "xgboost = xgb.XGBRegressor(random_state=42)"
   ]
  },
  {
   "cell_type": "code",
   "execution_count": 59,
   "id": "2ca0fcac",
   "metadata": {},
   "outputs": [
    {
     "data": {
      "text/html": [
       "<div>\n",
       "<style scoped>\n",
       "    .dataframe tbody tr th:only-of-type {\n",
       "        vertical-align: middle;\n",
       "    }\n",
       "\n",
       "    .dataframe tbody tr th {\n",
       "        vertical-align: top;\n",
       "    }\n",
       "\n",
       "    .dataframe thead th {\n",
       "        text-align: right;\n",
       "    }\n",
       "</style>\n",
       "<table border=\"1\" class=\"dataframe\">\n",
       "  <thead>\n",
       "    <tr style=\"text-align: right;\">\n",
       "      <th></th>\n",
       "      <th>Dummy Regressor</th>\n",
       "      <th>Linear Regression</th>\n",
       "      <th>Ridge</th>\n",
       "      <th>Lasso</th>\n",
       "      <th>DecisionTree</th>\n",
       "      <th>SVM</th>\n",
       "      <th>Ridge Kernel</th>\n",
       "      <th>AdaBoost</th>\n",
       "      <th>Bagging</th>\n",
       "      <th>GradientBoosting</th>\n",
       "      <th>Random Forest</th>\n",
       "      <th>XGBoost</th>\n",
       "    </tr>\n",
       "  </thead>\n",
       "  <tbody>\n",
       "    <tr>\n",
       "      <th>MAE</th>\n",
       "      <td>1.152</td>\n",
       "      <td>121.662</td>\n",
       "      <td>0.879</td>\n",
       "      <td>1.071</td>\n",
       "      <td>0.496</td>\n",
       "      <td>1.108</td>\n",
       "      <td>0.881</td>\n",
       "      <td>0.859</td>\n",
       "      <td>0.515</td>\n",
       "      <td>0.700</td>\n",
       "      <td>0.502</td>\n",
       "      <td>0.516</td>\n",
       "    </tr>\n",
       "    <tr>\n",
       "      <th>MSE</th>\n",
       "      <td>2.281</td>\n",
       "      <td>4734961.652</td>\n",
       "      <td>2.579</td>\n",
       "      <td>1.923</td>\n",
       "      <td>0.697</td>\n",
       "      <td>2.120</td>\n",
       "      <td>2.589</td>\n",
       "      <td>1.108</td>\n",
       "      <td>0.509</td>\n",
       "      <td>0.792</td>\n",
       "      <td>0.454</td>\n",
       "      <td>0.491</td>\n",
       "    </tr>\n",
       "    <tr>\n",
       "      <th>RMSE</th>\n",
       "      <td>1.510</td>\n",
       "      <td>2175.997</td>\n",
       "      <td>1.606</td>\n",
       "      <td>1.387</td>\n",
       "      <td>0.835</td>\n",
       "      <td>1.456</td>\n",
       "      <td>1.609</td>\n",
       "      <td>1.053</td>\n",
       "      <td>0.714</td>\n",
       "      <td>0.890</td>\n",
       "      <td>0.674</td>\n",
       "      <td>0.701</td>\n",
       "    </tr>\n",
       "    <tr>\n",
       "      <th>R²</th>\n",
       "      <td>-0.008</td>\n",
       "      <td>-2092794.140</td>\n",
       "      <td>-0.140</td>\n",
       "      <td>0.150</td>\n",
       "      <td>0.692</td>\n",
       "      <td>0.063</td>\n",
       "      <td>-0.144</td>\n",
       "      <td>0.510</td>\n",
       "      <td>0.775</td>\n",
       "      <td>0.650</td>\n",
       "      <td>0.799</td>\n",
       "      <td>0.783</td>\n",
       "    </tr>\n",
       "  </tbody>\n",
       "</table>\n",
       "</div>"
      ],
      "text/plain": [
       "      Dummy Regressor  Linear Regression  Ridge  Lasso  DecisionTree    SVM  \\\n",
       "MAE             1.152            121.662  0.879  1.071         0.496  1.108   \n",
       "MSE             2.281        4734961.652  2.579  1.923         0.697  2.120   \n",
       "RMSE            1.510           2175.997  1.606  1.387         0.835  1.456   \n",
       "R²             -0.008       -2092794.140 -0.140  0.150         0.692  0.063   \n",
       "\n",
       "      Ridge Kernel  AdaBoost  Bagging  GradientBoosting  Random Forest  \\\n",
       "MAE          0.881     0.859    0.515             0.700          0.502   \n",
       "MSE          2.589     1.108    0.509             0.792          0.454   \n",
       "RMSE         1.609     1.053    0.714             0.890          0.674   \n",
       "R²          -0.144     0.510    0.775             0.650          0.799   \n",
       "\n",
       "      XGBoost  \n",
       "MAE     0.516  \n",
       "MSE     0.491  \n",
       "RMSE    0.701  \n",
       "R²      0.783  "
      ]
     },
     "execution_count": 59,
     "metadata": {},
     "output_type": "execute_result"
    }
   ],
   "source": [
    "model = [dummy_reg, lin_reg, ridge, lasso, dt_reg, svm_reg, ridge_kernel, adaboost, bagging, gdboost, rdmforest, xgboost]\n",
    "dict_model = {}\n",
    "\n",
    "for model in model:\n",
    "    model.fit(X_train, y_train)\n",
    "    y_pred = model.predict(X_test)\n",
    "    mae = mean_absolute_error(y_test, y_pred)\n",
    "    mse = mean_squared_error(y_test, y_pred)\n",
    "    rmse = np.sqrt(mse)\n",
    "    r_score = r2_score(y_test, y_pred, multioutput=\"variance_weighted\").round(3)\n",
    "    dict_model[model] = (mae.round(3), mse.round(3), rmse.round(3), r_score)\n",
    "\n",
    "eval_model = pd.DataFrame(dict_model, index=[\"MAE\", \"MSE\", \"RMSE\", \"R²\"])\n",
    "eval_model.columns = [\"Dummy Regressor\", \"Linear Regression\", \"Ridge\", \"Lasso\", \"DecisionTree\", \"SVM\", \"Ridge Kernel\",\n",
    "                      \"AdaBoost\", \"Bagging\", \"GradientBoosting\", \"Random Forest\", \"XGBoost\"]\n",
    "\n",
    "eval_model"
   ]
  },
  {
   "cell_type": "markdown",
   "id": "76ac5029",
   "metadata": {},
   "source": [
    "La variable cible étant la même et les variables explications presque identiques, on se retrouve avec des résultats qui sont proches de ce qui avait été vu auparavant. Les modèles linéaires ne sont pas adaptées à notre problème de régression. Le choix se portera sur des modèles ensemblistes et plus particulièrement, l'algorithme de XGBoost. "
   ]
  },
  {
   "cell_type": "markdown",
   "id": "34e0e8aa",
   "metadata": {},
   "source": [
    "**Modèle choisi** : RandomForest"
   ]
  },
  {
   "cell_type": "markdown",
   "id": "792acba8",
   "metadata": {},
   "source": [
    "## 4.4) Recherche des hyperparamètres <a class=\"anchor\" id=\"section_4_4\"></a>"
   ]
  },
  {
   "cell_type": "code",
   "execution_count": 60,
   "id": "ec925e67",
   "metadata": {},
   "outputs": [],
   "source": [
    "# instanciation du modèle avec paramètre de base \n",
    "forest_reg = RandomForestRegressor(n_estimators=400, max_features=\"auto\", random_state=42, n_jobs=-1)"
   ]
  },
  {
   "cell_type": "code",
   "execution_count": 61,
   "id": "aef6653c",
   "metadata": {},
   "outputs": [
    {
     "data": {
      "text/html": [
       "<style>#sk-4fb0056a-5730-49b6-b91a-998c8a920856 {color: black;background-color: white;}#sk-4fb0056a-5730-49b6-b91a-998c8a920856 pre{padding: 0;}#sk-4fb0056a-5730-49b6-b91a-998c8a920856 div.sk-toggleable {background-color: white;}#sk-4fb0056a-5730-49b6-b91a-998c8a920856 label.sk-toggleable__label {cursor: pointer;display: block;width: 100%;margin-bottom: 0;padding: 0.2em 0.3em;box-sizing: border-box;text-align: center;}#sk-4fb0056a-5730-49b6-b91a-998c8a920856 div.sk-toggleable__content {max-height: 0;max-width: 0;overflow: hidden;text-align: left;background-color: #f0f8ff;}#sk-4fb0056a-5730-49b6-b91a-998c8a920856 div.sk-toggleable__content pre {margin: 0.2em;color: black;border-radius: 0.25em;background-color: #f0f8ff;}#sk-4fb0056a-5730-49b6-b91a-998c8a920856 input.sk-toggleable__control:checked~div.sk-toggleable__content {max-height: 200px;max-width: 100%;overflow: auto;}#sk-4fb0056a-5730-49b6-b91a-998c8a920856 div.sk-estimator input.sk-toggleable__control:checked~label.sk-toggleable__label {background-color: #d4ebff;}#sk-4fb0056a-5730-49b6-b91a-998c8a920856 div.sk-label input.sk-toggleable__control:checked~label.sk-toggleable__label {background-color: #d4ebff;}#sk-4fb0056a-5730-49b6-b91a-998c8a920856 input.sk-hidden--visually {border: 0;clip: rect(1px 1px 1px 1px);clip: rect(1px, 1px, 1px, 1px);height: 1px;margin: -1px;overflow: hidden;padding: 0;position: absolute;width: 1px;}#sk-4fb0056a-5730-49b6-b91a-998c8a920856 div.sk-estimator {font-family: monospace;background-color: #f0f8ff;margin: 0.25em 0.25em;border: 1px dotted black;border-radius: 0.25em;box-sizing: border-box;}#sk-4fb0056a-5730-49b6-b91a-998c8a920856 div.sk-estimator:hover {background-color: #d4ebff;}#sk-4fb0056a-5730-49b6-b91a-998c8a920856 div.sk-parallel-item::after {content: \"\";width: 100%;border-bottom: 1px solid gray;flex-grow: 1;}#sk-4fb0056a-5730-49b6-b91a-998c8a920856 div.sk-label:hover label.sk-toggleable__label {background-color: #d4ebff;}#sk-4fb0056a-5730-49b6-b91a-998c8a920856 div.sk-serial::before {content: \"\";position: absolute;border-left: 1px solid gray;box-sizing: border-box;top: 2em;bottom: 0;left: 50%;}#sk-4fb0056a-5730-49b6-b91a-998c8a920856 div.sk-serial {display: flex;flex-direction: column;align-items: center;background-color: white;}#sk-4fb0056a-5730-49b6-b91a-998c8a920856 div.sk-item {z-index: 1;}#sk-4fb0056a-5730-49b6-b91a-998c8a920856 div.sk-parallel {display: flex;align-items: stretch;justify-content: center;background-color: white;}#sk-4fb0056a-5730-49b6-b91a-998c8a920856 div.sk-parallel-item {display: flex;flex-direction: column;position: relative;background-color: white;}#sk-4fb0056a-5730-49b6-b91a-998c8a920856 div.sk-parallel-item:first-child::after {align-self: flex-end;width: 50%;}#sk-4fb0056a-5730-49b6-b91a-998c8a920856 div.sk-parallel-item:last-child::after {align-self: flex-start;width: 50%;}#sk-4fb0056a-5730-49b6-b91a-998c8a920856 div.sk-parallel-item:only-child::after {width: 0;}#sk-4fb0056a-5730-49b6-b91a-998c8a920856 div.sk-dashed-wrapped {border: 1px dashed gray;margin: 0.2em;box-sizing: border-box;padding-bottom: 0.1em;background-color: white;position: relative;}#sk-4fb0056a-5730-49b6-b91a-998c8a920856 div.sk-label label {font-family: monospace;font-weight: bold;background-color: white;display: inline-block;line-height: 1.2em;}#sk-4fb0056a-5730-49b6-b91a-998c8a920856 div.sk-label-container {position: relative;z-index: 2;text-align: center;}#sk-4fb0056a-5730-49b6-b91a-998c8a920856 div.sk-container {display: inline-block;position: relative;}</style><div id=\"sk-4fb0056a-5730-49b6-b91a-998c8a920856\" class\"sk-top-container\"><div class=\"sk-container\"><div class=\"sk-item sk-dashed-wrapped\"><div class=\"sk-label-container\"><div class=\"sk-label sk-toggleable\"><input class=\"sk-toggleable__control sk-hidden--visually\" id=\"5e4c6224-4801-40a6-9201-6f74396fb6ed\" type=\"checkbox\" ><label class=\"sk-toggleable__label\" for=\"5e4c6224-4801-40a6-9201-6f74396fb6ed\">RandomizedSearchCV</label><div class=\"sk-toggleable__content\"><pre>RandomizedSearchCV(cv=5,\n",
       "                   estimator=RandomForestRegressor(n_estimators=400, n_jobs=-1,\n",
       "                                                   random_state=42),\n",
       "                   param_distributions={'max_depth': <scipy.stats._distn_infrastructure.rv_frozen object at 0x00000259CC771CD0>,\n",
       "                                        'min_samples_leaf': <scipy.stats._distn_infrastructure.rv_frozen object at 0x00000259CC76EC40>,\n",
       "                                        'min_samples_split': <scipy.stats._distn_infrastructure.rv_frozen object at 0x00000259CC5C2640>},\n",
       "                   random_state=42, scoring='neg_mean_squared_error')</pre></div></div></div><div class=\"sk-parallel\"><div class=\"sk-parallel-item\"><div class=\"sk-item\"><div class=\"sk-serial\"><div class=\"sk-item\"><div class=\"sk-estimator sk-toggleable\"><input class=\"sk-toggleable__control sk-hidden--visually\" id=\"ec82922b-33f6-4a49-a39e-87a69e961adb\" type=\"checkbox\" ><label class=\"sk-toggleable__label\" for=\"ec82922b-33f6-4a49-a39e-87a69e961adb\">RandomForestRegressor</label><div class=\"sk-toggleable__content\"><pre>RandomForestRegressor(n_estimators=400, n_jobs=-1, random_state=42)</pre></div></div></div></div></div></div></div></div></div></div>"
      ],
      "text/plain": [
       "RandomizedSearchCV(cv=5,\n",
       "                   estimator=RandomForestRegressor(n_estimators=400, n_jobs=-1,\n",
       "                                                   random_state=42),\n",
       "                   param_distributions={'max_depth': <scipy.stats._distn_infrastructure.rv_frozen object at 0x00000259CC771CD0>,\n",
       "                                        'min_samples_leaf': <scipy.stats._distn_infrastructure.rv_frozen object at 0x00000259CC76EC40>,\n",
       "                                        'min_samples_split': <scipy.stats._distn_infrastructure.rv_frozen object at 0x00000259CC5C2640>},\n",
       "                   random_state=42, scoring='neg_mean_squared_error')"
      ]
     },
     "execution_count": 61,
     "metadata": {},
     "output_type": "execute_result"
    }
   ],
   "source": [
    "param_distribs = {\n",
    "        'max_depth': randint(low=1, high=12),\n",
    "        'min_samples_split' : randint(low=2, high=10),\n",
    "        'min_samples_leaf' : randint(low=2, high=10),\n",
    "    }\n",
    "\n",
    "rnd_search = RandomizedSearchCV(forest_reg, param_distributions=param_distribs,\n",
    "                                n_iter=10, cv=5, scoring='neg_mean_squared_error', random_state=42)\n",
    "rnd_search.fit(X_train, y_train)"
   ]
  },
  {
   "cell_type": "code",
   "execution_count": 62,
   "id": "9bb6a494",
   "metadata": {},
   "outputs": [
    {
     "name": "stdout",
     "output_type": "stream",
     "text": [
      "0.9660875857349985 {'max_depth': 7, 'min_samples_leaf': 5, 'min_samples_split': 6}\n",
      "0.949597634159382 {'max_depth': 11, 'min_samples_leaf': 9, 'min_samples_split': 6}\n",
      "1.0239376093124886 {'max_depth': 5, 'min_samples_leaf': 8, 'min_samples_split': 3}\n",
      "1.1114052265653476 {'max_depth': 3, 'min_samples_leaf': 8, 'min_samples_split': 4}\n",
      "0.9495976341593819 {'max_depth': 11, 'min_samples_leaf': 9, 'min_samples_split': 6}\n",
      "1.0601810234402105 {'max_depth': 4, 'min_samples_leaf': 9, 'min_samples_split': 9}\n",
      "1.1114176018296162 {'max_depth': 3, 'min_samples_leaf': 7, 'min_samples_split': 6}\n",
      "1.1841153681650636 {'max_depth': 2, 'min_samples_leaf': 9, 'min_samples_split': 5}\n",
      "0.9872724290126382 {'max_depth': 6, 'min_samples_leaf': 3, 'min_samples_split': 9}\n",
      "1.018096229922607 {'max_depth': 5, 'min_samples_leaf': 2, 'min_samples_split': 5}\n"
     ]
    }
   ],
   "source": [
    "cvres = rnd_search.cv_results_\n",
    "for mean_score, params in zip(cvres[\"mean_test_score\"], cvres[\"params\"]):\n",
    "    print(np.sqrt(-mean_score), params)"
   ]
  },
  {
   "cell_type": "code",
   "execution_count": 63,
   "id": "32a70b2e",
   "metadata": {
    "scrolled": true
   },
   "outputs": [
    {
     "ename": "KeyboardInterrupt",
     "evalue": "",
     "output_type": "error",
     "traceback": [
      "\u001b[1;31m---------------------------------------------------------------------------\u001b[0m",
      "\u001b[1;31mKeyboardInterrupt\u001b[0m                         Traceback (most recent call last)",
      "\u001b[1;32m<ipython-input-63-67e40789045f>\u001b[0m in \u001b[0;36m<module>\u001b[1;34m\u001b[0m\n\u001b[0;32m      6\u001b[0m grid_search = GridSearchCV(forest_reg, params, cv=5,\n\u001b[0;32m      7\u001b[0m                            scoring='neg_mean_squared_error')\n\u001b[1;32m----> 8\u001b[1;33m \u001b[0mgrid_search\u001b[0m\u001b[1;33m.\u001b[0m\u001b[0mfit\u001b[0m\u001b[1;33m(\u001b[0m\u001b[0mX_train\u001b[0m\u001b[1;33m,\u001b[0m \u001b[0my_train\u001b[0m\u001b[1;33m)\u001b[0m\u001b[1;33m\u001b[0m\u001b[1;33m\u001b[0m\u001b[0m\n\u001b[0m",
      "\u001b[1;32m~\\anaconda3\\lib\\site-packages\\sklearn\\utils\\validation.py\u001b[0m in \u001b[0;36minner_f\u001b[1;34m(*args, **kwargs)\u001b[0m\n\u001b[0;32m     61\u001b[0m             \u001b[0mextra_args\u001b[0m \u001b[1;33m=\u001b[0m \u001b[0mlen\u001b[0m\u001b[1;33m(\u001b[0m\u001b[0margs\u001b[0m\u001b[1;33m)\u001b[0m \u001b[1;33m-\u001b[0m \u001b[0mlen\u001b[0m\u001b[1;33m(\u001b[0m\u001b[0mall_args\u001b[0m\u001b[1;33m)\u001b[0m\u001b[1;33m\u001b[0m\u001b[1;33m\u001b[0m\u001b[0m\n\u001b[0;32m     62\u001b[0m             \u001b[1;32mif\u001b[0m \u001b[0mextra_args\u001b[0m \u001b[1;33m<=\u001b[0m \u001b[1;36m0\u001b[0m\u001b[1;33m:\u001b[0m\u001b[1;33m\u001b[0m\u001b[1;33m\u001b[0m\u001b[0m\n\u001b[1;32m---> 63\u001b[1;33m                 \u001b[1;32mreturn\u001b[0m \u001b[0mf\u001b[0m\u001b[1;33m(\u001b[0m\u001b[1;33m*\u001b[0m\u001b[0margs\u001b[0m\u001b[1;33m,\u001b[0m \u001b[1;33m**\u001b[0m\u001b[0mkwargs\u001b[0m\u001b[1;33m)\u001b[0m\u001b[1;33m\u001b[0m\u001b[1;33m\u001b[0m\u001b[0m\n\u001b[0m\u001b[0;32m     64\u001b[0m \u001b[1;33m\u001b[0m\u001b[0m\n\u001b[0;32m     65\u001b[0m             \u001b[1;31m# extra_args > 0\u001b[0m\u001b[1;33m\u001b[0m\u001b[1;33m\u001b[0m\u001b[1;33m\u001b[0m\u001b[0m\n",
      "\u001b[1;32m~\\anaconda3\\lib\\site-packages\\sklearn\\model_selection\\_search.py\u001b[0m in \u001b[0;36mfit\u001b[1;34m(self, X, y, groups, **fit_params)\u001b[0m\n\u001b[0;32m    839\u001b[0m                 \u001b[1;32mreturn\u001b[0m \u001b[0mresults\u001b[0m\u001b[1;33m\u001b[0m\u001b[1;33m\u001b[0m\u001b[0m\n\u001b[0;32m    840\u001b[0m \u001b[1;33m\u001b[0m\u001b[0m\n\u001b[1;32m--> 841\u001b[1;33m             \u001b[0mself\u001b[0m\u001b[1;33m.\u001b[0m\u001b[0m_run_search\u001b[0m\u001b[1;33m(\u001b[0m\u001b[0mevaluate_candidates\u001b[0m\u001b[1;33m)\u001b[0m\u001b[1;33m\u001b[0m\u001b[1;33m\u001b[0m\u001b[0m\n\u001b[0m\u001b[0;32m    842\u001b[0m \u001b[1;33m\u001b[0m\u001b[0m\n\u001b[0;32m    843\u001b[0m             \u001b[1;31m# multimetric is determined here because in the case of a callable\u001b[0m\u001b[1;33m\u001b[0m\u001b[1;33m\u001b[0m\u001b[1;33m\u001b[0m\u001b[0m\n",
      "\u001b[1;32m~\\anaconda3\\lib\\site-packages\\sklearn\\model_selection\\_search.py\u001b[0m in \u001b[0;36m_run_search\u001b[1;34m(self, evaluate_candidates)\u001b[0m\n\u001b[0;32m   1294\u001b[0m     \u001b[1;32mdef\u001b[0m \u001b[0m_run_search\u001b[0m\u001b[1;33m(\u001b[0m\u001b[0mself\u001b[0m\u001b[1;33m,\u001b[0m \u001b[0mevaluate_candidates\u001b[0m\u001b[1;33m)\u001b[0m\u001b[1;33m:\u001b[0m\u001b[1;33m\u001b[0m\u001b[1;33m\u001b[0m\u001b[0m\n\u001b[0;32m   1295\u001b[0m         \u001b[1;34m\"\"\"Search all candidates in param_grid\"\"\"\u001b[0m\u001b[1;33m\u001b[0m\u001b[1;33m\u001b[0m\u001b[0m\n\u001b[1;32m-> 1296\u001b[1;33m         \u001b[0mevaluate_candidates\u001b[0m\u001b[1;33m(\u001b[0m\u001b[0mParameterGrid\u001b[0m\u001b[1;33m(\u001b[0m\u001b[0mself\u001b[0m\u001b[1;33m.\u001b[0m\u001b[0mparam_grid\u001b[0m\u001b[1;33m)\u001b[0m\u001b[1;33m)\u001b[0m\u001b[1;33m\u001b[0m\u001b[1;33m\u001b[0m\u001b[0m\n\u001b[0m\u001b[0;32m   1297\u001b[0m \u001b[1;33m\u001b[0m\u001b[0m\n\u001b[0;32m   1298\u001b[0m \u001b[1;33m\u001b[0m\u001b[0m\n",
      "\u001b[1;32m~\\anaconda3\\lib\\site-packages\\sklearn\\model_selection\\_search.py\u001b[0m in \u001b[0;36mevaluate_candidates\u001b[1;34m(candidate_params, cv, more_results)\u001b[0m\n\u001b[0;32m    793\u001b[0m                               n_splits, n_candidates, n_candidates * n_splits))\n\u001b[0;32m    794\u001b[0m \u001b[1;33m\u001b[0m\u001b[0m\n\u001b[1;32m--> 795\u001b[1;33m                 out = parallel(delayed(_fit_and_score)(clone(base_estimator),\n\u001b[0m\u001b[0;32m    796\u001b[0m                                                        \u001b[0mX\u001b[0m\u001b[1;33m,\u001b[0m \u001b[0my\u001b[0m\u001b[1;33m,\u001b[0m\u001b[1;33m\u001b[0m\u001b[1;33m\u001b[0m\u001b[0m\n\u001b[0;32m    797\u001b[0m                                                        \u001b[0mtrain\u001b[0m\u001b[1;33m=\u001b[0m\u001b[0mtrain\u001b[0m\u001b[1;33m,\u001b[0m \u001b[0mtest\u001b[0m\u001b[1;33m=\u001b[0m\u001b[0mtest\u001b[0m\u001b[1;33m,\u001b[0m\u001b[1;33m\u001b[0m\u001b[1;33m\u001b[0m\u001b[0m\n",
      "\u001b[1;32m~\\anaconda3\\lib\\site-packages\\joblib\\parallel.py\u001b[0m in \u001b[0;36m__call__\u001b[1;34m(self, iterable)\u001b[0m\n\u001b[0;32m   1042\u001b[0m                 \u001b[0mself\u001b[0m\u001b[1;33m.\u001b[0m\u001b[0m_iterating\u001b[0m \u001b[1;33m=\u001b[0m \u001b[0mself\u001b[0m\u001b[1;33m.\u001b[0m\u001b[0m_original_iterator\u001b[0m \u001b[1;32mis\u001b[0m \u001b[1;32mnot\u001b[0m \u001b[1;32mNone\u001b[0m\u001b[1;33m\u001b[0m\u001b[1;33m\u001b[0m\u001b[0m\n\u001b[0;32m   1043\u001b[0m \u001b[1;33m\u001b[0m\u001b[0m\n\u001b[1;32m-> 1044\u001b[1;33m             \u001b[1;32mwhile\u001b[0m \u001b[0mself\u001b[0m\u001b[1;33m.\u001b[0m\u001b[0mdispatch_one_batch\u001b[0m\u001b[1;33m(\u001b[0m\u001b[0miterator\u001b[0m\u001b[1;33m)\u001b[0m\u001b[1;33m:\u001b[0m\u001b[1;33m\u001b[0m\u001b[1;33m\u001b[0m\u001b[0m\n\u001b[0m\u001b[0;32m   1045\u001b[0m                 \u001b[1;32mpass\u001b[0m\u001b[1;33m\u001b[0m\u001b[1;33m\u001b[0m\u001b[0m\n\u001b[0;32m   1046\u001b[0m \u001b[1;33m\u001b[0m\u001b[0m\n",
      "\u001b[1;32m~\\anaconda3\\lib\\site-packages\\joblib\\parallel.py\u001b[0m in \u001b[0;36mdispatch_one_batch\u001b[1;34m(self, iterator)\u001b[0m\n\u001b[0;32m    857\u001b[0m                 \u001b[1;32mreturn\u001b[0m \u001b[1;32mFalse\u001b[0m\u001b[1;33m\u001b[0m\u001b[1;33m\u001b[0m\u001b[0m\n\u001b[0;32m    858\u001b[0m             \u001b[1;32melse\u001b[0m\u001b[1;33m:\u001b[0m\u001b[1;33m\u001b[0m\u001b[1;33m\u001b[0m\u001b[0m\n\u001b[1;32m--> 859\u001b[1;33m                 \u001b[0mself\u001b[0m\u001b[1;33m.\u001b[0m\u001b[0m_dispatch\u001b[0m\u001b[1;33m(\u001b[0m\u001b[0mtasks\u001b[0m\u001b[1;33m)\u001b[0m\u001b[1;33m\u001b[0m\u001b[1;33m\u001b[0m\u001b[0m\n\u001b[0m\u001b[0;32m    860\u001b[0m                 \u001b[1;32mreturn\u001b[0m \u001b[1;32mTrue\u001b[0m\u001b[1;33m\u001b[0m\u001b[1;33m\u001b[0m\u001b[0m\n\u001b[0;32m    861\u001b[0m \u001b[1;33m\u001b[0m\u001b[0m\n",
      "\u001b[1;32m~\\anaconda3\\lib\\site-packages\\joblib\\parallel.py\u001b[0m in \u001b[0;36m_dispatch\u001b[1;34m(self, batch)\u001b[0m\n\u001b[0;32m    775\u001b[0m         \u001b[1;32mwith\u001b[0m \u001b[0mself\u001b[0m\u001b[1;33m.\u001b[0m\u001b[0m_lock\u001b[0m\u001b[1;33m:\u001b[0m\u001b[1;33m\u001b[0m\u001b[1;33m\u001b[0m\u001b[0m\n\u001b[0;32m    776\u001b[0m             \u001b[0mjob_idx\u001b[0m \u001b[1;33m=\u001b[0m \u001b[0mlen\u001b[0m\u001b[1;33m(\u001b[0m\u001b[0mself\u001b[0m\u001b[1;33m.\u001b[0m\u001b[0m_jobs\u001b[0m\u001b[1;33m)\u001b[0m\u001b[1;33m\u001b[0m\u001b[1;33m\u001b[0m\u001b[0m\n\u001b[1;32m--> 777\u001b[1;33m             \u001b[0mjob\u001b[0m \u001b[1;33m=\u001b[0m \u001b[0mself\u001b[0m\u001b[1;33m.\u001b[0m\u001b[0m_backend\u001b[0m\u001b[1;33m.\u001b[0m\u001b[0mapply_async\u001b[0m\u001b[1;33m(\u001b[0m\u001b[0mbatch\u001b[0m\u001b[1;33m,\u001b[0m \u001b[0mcallback\u001b[0m\u001b[1;33m=\u001b[0m\u001b[0mcb\u001b[0m\u001b[1;33m)\u001b[0m\u001b[1;33m\u001b[0m\u001b[1;33m\u001b[0m\u001b[0m\n\u001b[0m\u001b[0;32m    778\u001b[0m             \u001b[1;31m# A job can complete so quickly than its callback is\u001b[0m\u001b[1;33m\u001b[0m\u001b[1;33m\u001b[0m\u001b[1;33m\u001b[0m\u001b[0m\n\u001b[0;32m    779\u001b[0m             \u001b[1;31m# called before we get here, causing self._jobs to\u001b[0m\u001b[1;33m\u001b[0m\u001b[1;33m\u001b[0m\u001b[1;33m\u001b[0m\u001b[0m\n",
      "\u001b[1;32m~\\anaconda3\\lib\\site-packages\\joblib\\_parallel_backends.py\u001b[0m in \u001b[0;36mapply_async\u001b[1;34m(self, func, callback)\u001b[0m\n\u001b[0;32m    206\u001b[0m     \u001b[1;32mdef\u001b[0m \u001b[0mapply_async\u001b[0m\u001b[1;33m(\u001b[0m\u001b[0mself\u001b[0m\u001b[1;33m,\u001b[0m \u001b[0mfunc\u001b[0m\u001b[1;33m,\u001b[0m \u001b[0mcallback\u001b[0m\u001b[1;33m=\u001b[0m\u001b[1;32mNone\u001b[0m\u001b[1;33m)\u001b[0m\u001b[1;33m:\u001b[0m\u001b[1;33m\u001b[0m\u001b[1;33m\u001b[0m\u001b[0m\n\u001b[0;32m    207\u001b[0m         \u001b[1;34m\"\"\"Schedule a func to be run\"\"\"\u001b[0m\u001b[1;33m\u001b[0m\u001b[1;33m\u001b[0m\u001b[0m\n\u001b[1;32m--> 208\u001b[1;33m         \u001b[0mresult\u001b[0m \u001b[1;33m=\u001b[0m \u001b[0mImmediateResult\u001b[0m\u001b[1;33m(\u001b[0m\u001b[0mfunc\u001b[0m\u001b[1;33m)\u001b[0m\u001b[1;33m\u001b[0m\u001b[1;33m\u001b[0m\u001b[0m\n\u001b[0m\u001b[0;32m    209\u001b[0m         \u001b[1;32mif\u001b[0m \u001b[0mcallback\u001b[0m\u001b[1;33m:\u001b[0m\u001b[1;33m\u001b[0m\u001b[1;33m\u001b[0m\u001b[0m\n\u001b[0;32m    210\u001b[0m             \u001b[0mcallback\u001b[0m\u001b[1;33m(\u001b[0m\u001b[0mresult\u001b[0m\u001b[1;33m)\u001b[0m\u001b[1;33m\u001b[0m\u001b[1;33m\u001b[0m\u001b[0m\n",
      "\u001b[1;32m~\\anaconda3\\lib\\site-packages\\joblib\\_parallel_backends.py\u001b[0m in \u001b[0;36m__init__\u001b[1;34m(self, batch)\u001b[0m\n\u001b[0;32m    570\u001b[0m         \u001b[1;31m# Don't delay the application, to avoid keeping the input\u001b[0m\u001b[1;33m\u001b[0m\u001b[1;33m\u001b[0m\u001b[1;33m\u001b[0m\u001b[0m\n\u001b[0;32m    571\u001b[0m         \u001b[1;31m# arguments in memory\u001b[0m\u001b[1;33m\u001b[0m\u001b[1;33m\u001b[0m\u001b[1;33m\u001b[0m\u001b[0m\n\u001b[1;32m--> 572\u001b[1;33m         \u001b[0mself\u001b[0m\u001b[1;33m.\u001b[0m\u001b[0mresults\u001b[0m \u001b[1;33m=\u001b[0m \u001b[0mbatch\u001b[0m\u001b[1;33m(\u001b[0m\u001b[1;33m)\u001b[0m\u001b[1;33m\u001b[0m\u001b[1;33m\u001b[0m\u001b[0m\n\u001b[0m\u001b[0;32m    573\u001b[0m \u001b[1;33m\u001b[0m\u001b[0m\n\u001b[0;32m    574\u001b[0m     \u001b[1;32mdef\u001b[0m \u001b[0mget\u001b[0m\u001b[1;33m(\u001b[0m\u001b[0mself\u001b[0m\u001b[1;33m)\u001b[0m\u001b[1;33m:\u001b[0m\u001b[1;33m\u001b[0m\u001b[1;33m\u001b[0m\u001b[0m\n",
      "\u001b[1;32m~\\anaconda3\\lib\\site-packages\\joblib\\parallel.py\u001b[0m in \u001b[0;36m__call__\u001b[1;34m(self)\u001b[0m\n\u001b[0;32m    260\u001b[0m         \u001b[1;31m# change the default number of processes to -1\u001b[0m\u001b[1;33m\u001b[0m\u001b[1;33m\u001b[0m\u001b[1;33m\u001b[0m\u001b[0m\n\u001b[0;32m    261\u001b[0m         \u001b[1;32mwith\u001b[0m \u001b[0mparallel_backend\u001b[0m\u001b[1;33m(\u001b[0m\u001b[0mself\u001b[0m\u001b[1;33m.\u001b[0m\u001b[0m_backend\u001b[0m\u001b[1;33m,\u001b[0m \u001b[0mn_jobs\u001b[0m\u001b[1;33m=\u001b[0m\u001b[0mself\u001b[0m\u001b[1;33m.\u001b[0m\u001b[0m_n_jobs\u001b[0m\u001b[1;33m)\u001b[0m\u001b[1;33m:\u001b[0m\u001b[1;33m\u001b[0m\u001b[1;33m\u001b[0m\u001b[0m\n\u001b[1;32m--> 262\u001b[1;33m             return [func(*args, **kwargs)\n\u001b[0m\u001b[0;32m    263\u001b[0m                     for func, args, kwargs in self.items]\n\u001b[0;32m    264\u001b[0m \u001b[1;33m\u001b[0m\u001b[0m\n",
      "\u001b[1;32m~\\anaconda3\\lib\\site-packages\\joblib\\parallel.py\u001b[0m in \u001b[0;36m<listcomp>\u001b[1;34m(.0)\u001b[0m\n\u001b[0;32m    260\u001b[0m         \u001b[1;31m# change the default number of processes to -1\u001b[0m\u001b[1;33m\u001b[0m\u001b[1;33m\u001b[0m\u001b[1;33m\u001b[0m\u001b[0m\n\u001b[0;32m    261\u001b[0m         \u001b[1;32mwith\u001b[0m \u001b[0mparallel_backend\u001b[0m\u001b[1;33m(\u001b[0m\u001b[0mself\u001b[0m\u001b[1;33m.\u001b[0m\u001b[0m_backend\u001b[0m\u001b[1;33m,\u001b[0m \u001b[0mn_jobs\u001b[0m\u001b[1;33m=\u001b[0m\u001b[0mself\u001b[0m\u001b[1;33m.\u001b[0m\u001b[0m_n_jobs\u001b[0m\u001b[1;33m)\u001b[0m\u001b[1;33m:\u001b[0m\u001b[1;33m\u001b[0m\u001b[1;33m\u001b[0m\u001b[0m\n\u001b[1;32m--> 262\u001b[1;33m             return [func(*args, **kwargs)\n\u001b[0m\u001b[0;32m    263\u001b[0m                     for func, args, kwargs in self.items]\n\u001b[0;32m    264\u001b[0m \u001b[1;33m\u001b[0m\u001b[0m\n",
      "\u001b[1;32m~\\anaconda3\\lib\\site-packages\\sklearn\\utils\\fixes.py\u001b[0m in \u001b[0;36m__call__\u001b[1;34m(self, *args, **kwargs)\u001b[0m\n\u001b[0;32m    220\u001b[0m     \u001b[1;32mdef\u001b[0m \u001b[0m__call__\u001b[0m\u001b[1;33m(\u001b[0m\u001b[0mself\u001b[0m\u001b[1;33m,\u001b[0m \u001b[1;33m*\u001b[0m\u001b[0margs\u001b[0m\u001b[1;33m,\u001b[0m \u001b[1;33m**\u001b[0m\u001b[0mkwargs\u001b[0m\u001b[1;33m)\u001b[0m\u001b[1;33m:\u001b[0m\u001b[1;33m\u001b[0m\u001b[1;33m\u001b[0m\u001b[0m\n\u001b[0;32m    221\u001b[0m         \u001b[1;32mwith\u001b[0m \u001b[0mconfig_context\u001b[0m\u001b[1;33m(\u001b[0m\u001b[1;33m**\u001b[0m\u001b[0mself\u001b[0m\u001b[1;33m.\u001b[0m\u001b[0mconfig\u001b[0m\u001b[1;33m)\u001b[0m\u001b[1;33m:\u001b[0m\u001b[1;33m\u001b[0m\u001b[1;33m\u001b[0m\u001b[0m\n\u001b[1;32m--> 222\u001b[1;33m             \u001b[1;32mreturn\u001b[0m \u001b[0mself\u001b[0m\u001b[1;33m.\u001b[0m\u001b[0mfunction\u001b[0m\u001b[1;33m(\u001b[0m\u001b[1;33m*\u001b[0m\u001b[0margs\u001b[0m\u001b[1;33m,\u001b[0m \u001b[1;33m**\u001b[0m\u001b[0mkwargs\u001b[0m\u001b[1;33m)\u001b[0m\u001b[1;33m\u001b[0m\u001b[1;33m\u001b[0m\u001b[0m\n\u001b[0m",
      "\u001b[1;32m~\\anaconda3\\lib\\site-packages\\sklearn\\model_selection\\_validation.py\u001b[0m in \u001b[0;36m_fit_and_score\u001b[1;34m(estimator, X, y, scorer, train, test, verbose, parameters, fit_params, return_train_score, return_parameters, return_n_test_samples, return_times, return_estimator, split_progress, candidate_progress, error_score)\u001b[0m\n\u001b[0;32m    596\u001b[0m             \u001b[0mestimator\u001b[0m\u001b[1;33m.\u001b[0m\u001b[0mfit\u001b[0m\u001b[1;33m(\u001b[0m\u001b[0mX_train\u001b[0m\u001b[1;33m,\u001b[0m \u001b[1;33m**\u001b[0m\u001b[0mfit_params\u001b[0m\u001b[1;33m)\u001b[0m\u001b[1;33m\u001b[0m\u001b[1;33m\u001b[0m\u001b[0m\n\u001b[0;32m    597\u001b[0m         \u001b[1;32melse\u001b[0m\u001b[1;33m:\u001b[0m\u001b[1;33m\u001b[0m\u001b[1;33m\u001b[0m\u001b[0m\n\u001b[1;32m--> 598\u001b[1;33m             \u001b[0mestimator\u001b[0m\u001b[1;33m.\u001b[0m\u001b[0mfit\u001b[0m\u001b[1;33m(\u001b[0m\u001b[0mX_train\u001b[0m\u001b[1;33m,\u001b[0m \u001b[0my_train\u001b[0m\u001b[1;33m,\u001b[0m \u001b[1;33m**\u001b[0m\u001b[0mfit_params\u001b[0m\u001b[1;33m)\u001b[0m\u001b[1;33m\u001b[0m\u001b[1;33m\u001b[0m\u001b[0m\n\u001b[0m\u001b[0;32m    599\u001b[0m \u001b[1;33m\u001b[0m\u001b[0m\n\u001b[0;32m    600\u001b[0m     \u001b[1;32mexcept\u001b[0m \u001b[0mException\u001b[0m \u001b[1;32mas\u001b[0m \u001b[0me\u001b[0m\u001b[1;33m:\u001b[0m\u001b[1;33m\u001b[0m\u001b[1;33m\u001b[0m\u001b[0m\n",
      "\u001b[1;32m~\\anaconda3\\lib\\site-packages\\sklearn\\ensemble\\_forest.py\u001b[0m in \u001b[0;36mfit\u001b[1;34m(self, X, y, sample_weight)\u001b[0m\n\u001b[0;32m    385\u001b[0m             \u001b[1;31m# parallel_backend contexts set at a higher level,\u001b[0m\u001b[1;33m\u001b[0m\u001b[1;33m\u001b[0m\u001b[1;33m\u001b[0m\u001b[0m\n\u001b[0;32m    386\u001b[0m             \u001b[1;31m# since correctness does not rely on using threads.\u001b[0m\u001b[1;33m\u001b[0m\u001b[1;33m\u001b[0m\u001b[1;33m\u001b[0m\u001b[0m\n\u001b[1;32m--> 387\u001b[1;33m             trees = Parallel(n_jobs=self.n_jobs, verbose=self.verbose,\n\u001b[0m\u001b[0;32m    388\u001b[0m                              \u001b[1;33m**\u001b[0m\u001b[0m_joblib_parallel_args\u001b[0m\u001b[1;33m(\u001b[0m\u001b[0mprefer\u001b[0m\u001b[1;33m=\u001b[0m\u001b[1;34m'threads'\u001b[0m\u001b[1;33m)\u001b[0m\u001b[1;33m)\u001b[0m\u001b[1;33m(\u001b[0m\u001b[1;33m\u001b[0m\u001b[1;33m\u001b[0m\u001b[0m\n\u001b[0;32m    389\u001b[0m                 delayed(_parallel_build_trees)(\n",
      "\u001b[1;32m~\\anaconda3\\lib\\site-packages\\joblib\\parallel.py\u001b[0m in \u001b[0;36m__call__\u001b[1;34m(self, iterable)\u001b[0m\n\u001b[0;32m   1052\u001b[0m \u001b[1;33m\u001b[0m\u001b[0m\n\u001b[0;32m   1053\u001b[0m             \u001b[1;32mwith\u001b[0m \u001b[0mself\u001b[0m\u001b[1;33m.\u001b[0m\u001b[0m_backend\u001b[0m\u001b[1;33m.\u001b[0m\u001b[0mretrieval_context\u001b[0m\u001b[1;33m(\u001b[0m\u001b[1;33m)\u001b[0m\u001b[1;33m:\u001b[0m\u001b[1;33m\u001b[0m\u001b[1;33m\u001b[0m\u001b[0m\n\u001b[1;32m-> 1054\u001b[1;33m                 \u001b[0mself\u001b[0m\u001b[1;33m.\u001b[0m\u001b[0mretrieve\u001b[0m\u001b[1;33m(\u001b[0m\u001b[1;33m)\u001b[0m\u001b[1;33m\u001b[0m\u001b[1;33m\u001b[0m\u001b[0m\n\u001b[0m\u001b[0;32m   1055\u001b[0m             \u001b[1;31m# Make sure that we get a last message telling us we are done\u001b[0m\u001b[1;33m\u001b[0m\u001b[1;33m\u001b[0m\u001b[1;33m\u001b[0m\u001b[0m\n\u001b[0;32m   1056\u001b[0m             \u001b[0melapsed_time\u001b[0m \u001b[1;33m=\u001b[0m \u001b[0mtime\u001b[0m\u001b[1;33m.\u001b[0m\u001b[0mtime\u001b[0m\u001b[1;33m(\u001b[0m\u001b[1;33m)\u001b[0m \u001b[1;33m-\u001b[0m \u001b[0mself\u001b[0m\u001b[1;33m.\u001b[0m\u001b[0m_start_time\u001b[0m\u001b[1;33m\u001b[0m\u001b[1;33m\u001b[0m\u001b[0m\n",
      "\u001b[1;32m~\\anaconda3\\lib\\site-packages\\joblib\\parallel.py\u001b[0m in \u001b[0;36mretrieve\u001b[1;34m(self)\u001b[0m\n\u001b[0;32m    931\u001b[0m             \u001b[1;32mtry\u001b[0m\u001b[1;33m:\u001b[0m\u001b[1;33m\u001b[0m\u001b[1;33m\u001b[0m\u001b[0m\n\u001b[0;32m    932\u001b[0m                 \u001b[1;32mif\u001b[0m \u001b[0mgetattr\u001b[0m\u001b[1;33m(\u001b[0m\u001b[0mself\u001b[0m\u001b[1;33m.\u001b[0m\u001b[0m_backend\u001b[0m\u001b[1;33m,\u001b[0m \u001b[1;34m'supports_timeout'\u001b[0m\u001b[1;33m,\u001b[0m \u001b[1;32mFalse\u001b[0m\u001b[1;33m)\u001b[0m\u001b[1;33m:\u001b[0m\u001b[1;33m\u001b[0m\u001b[1;33m\u001b[0m\u001b[0m\n\u001b[1;32m--> 933\u001b[1;33m                     \u001b[0mself\u001b[0m\u001b[1;33m.\u001b[0m\u001b[0m_output\u001b[0m\u001b[1;33m.\u001b[0m\u001b[0mextend\u001b[0m\u001b[1;33m(\u001b[0m\u001b[0mjob\u001b[0m\u001b[1;33m.\u001b[0m\u001b[0mget\u001b[0m\u001b[1;33m(\u001b[0m\u001b[0mtimeout\u001b[0m\u001b[1;33m=\u001b[0m\u001b[0mself\u001b[0m\u001b[1;33m.\u001b[0m\u001b[0mtimeout\u001b[0m\u001b[1;33m)\u001b[0m\u001b[1;33m)\u001b[0m\u001b[1;33m\u001b[0m\u001b[1;33m\u001b[0m\u001b[0m\n\u001b[0m\u001b[0;32m    934\u001b[0m                 \u001b[1;32melse\u001b[0m\u001b[1;33m:\u001b[0m\u001b[1;33m\u001b[0m\u001b[1;33m\u001b[0m\u001b[0m\n\u001b[0;32m    935\u001b[0m                     \u001b[0mself\u001b[0m\u001b[1;33m.\u001b[0m\u001b[0m_output\u001b[0m\u001b[1;33m.\u001b[0m\u001b[0mextend\u001b[0m\u001b[1;33m(\u001b[0m\u001b[0mjob\u001b[0m\u001b[1;33m.\u001b[0m\u001b[0mget\u001b[0m\u001b[1;33m(\u001b[0m\u001b[1;33m)\u001b[0m\u001b[1;33m)\u001b[0m\u001b[1;33m\u001b[0m\u001b[1;33m\u001b[0m\u001b[0m\n",
      "\u001b[1;32m~\\anaconda3\\lib\\site-packages\\joblib\\_parallel_backends.py\u001b[0m in \u001b[0;36mwrap_future_result\u001b[1;34m(future, timeout)\u001b[0m\n\u001b[0;32m    540\u001b[0m         AsyncResults.get from multiprocessing.\"\"\"\n\u001b[0;32m    541\u001b[0m         \u001b[1;32mtry\u001b[0m\u001b[1;33m:\u001b[0m\u001b[1;33m\u001b[0m\u001b[1;33m\u001b[0m\u001b[0m\n\u001b[1;32m--> 542\u001b[1;33m             \u001b[1;32mreturn\u001b[0m \u001b[0mfuture\u001b[0m\u001b[1;33m.\u001b[0m\u001b[0mresult\u001b[0m\u001b[1;33m(\u001b[0m\u001b[0mtimeout\u001b[0m\u001b[1;33m=\u001b[0m\u001b[0mtimeout\u001b[0m\u001b[1;33m)\u001b[0m\u001b[1;33m\u001b[0m\u001b[1;33m\u001b[0m\u001b[0m\n\u001b[0m\u001b[0;32m    543\u001b[0m         \u001b[1;32mexcept\u001b[0m \u001b[0mCfTimeoutError\u001b[0m \u001b[1;32mas\u001b[0m \u001b[0me\u001b[0m\u001b[1;33m:\u001b[0m\u001b[1;33m\u001b[0m\u001b[1;33m\u001b[0m\u001b[0m\n\u001b[0;32m    544\u001b[0m             \u001b[1;32mraise\u001b[0m \u001b[0mTimeoutError\u001b[0m \u001b[1;32mfrom\u001b[0m \u001b[0me\u001b[0m\u001b[1;33m\u001b[0m\u001b[1;33m\u001b[0m\u001b[0m\n",
      "\u001b[1;32m~\\anaconda3\\lib\\concurrent\\futures\\_base.py\u001b[0m in \u001b[0;36mresult\u001b[1;34m(self, timeout)\u001b[0m\n\u001b[0;32m    437\u001b[0m                     \u001b[1;32mreturn\u001b[0m \u001b[0mself\u001b[0m\u001b[1;33m.\u001b[0m\u001b[0m__get_result\u001b[0m\u001b[1;33m(\u001b[0m\u001b[1;33m)\u001b[0m\u001b[1;33m\u001b[0m\u001b[1;33m\u001b[0m\u001b[0m\n\u001b[0;32m    438\u001b[0m \u001b[1;33m\u001b[0m\u001b[0m\n\u001b[1;32m--> 439\u001b[1;33m                 \u001b[0mself\u001b[0m\u001b[1;33m.\u001b[0m\u001b[0m_condition\u001b[0m\u001b[1;33m.\u001b[0m\u001b[0mwait\u001b[0m\u001b[1;33m(\u001b[0m\u001b[0mtimeout\u001b[0m\u001b[1;33m)\u001b[0m\u001b[1;33m\u001b[0m\u001b[1;33m\u001b[0m\u001b[0m\n\u001b[0m\u001b[0;32m    440\u001b[0m \u001b[1;33m\u001b[0m\u001b[0m\n\u001b[0;32m    441\u001b[0m                 \u001b[1;32mif\u001b[0m \u001b[0mself\u001b[0m\u001b[1;33m.\u001b[0m\u001b[0m_state\u001b[0m \u001b[1;32min\u001b[0m \u001b[1;33m[\u001b[0m\u001b[0mCANCELLED\u001b[0m\u001b[1;33m,\u001b[0m \u001b[0mCANCELLED_AND_NOTIFIED\u001b[0m\u001b[1;33m]\u001b[0m\u001b[1;33m:\u001b[0m\u001b[1;33m\u001b[0m\u001b[1;33m\u001b[0m\u001b[0m\n",
      "\u001b[1;32m~\\anaconda3\\lib\\threading.py\u001b[0m in \u001b[0;36mwait\u001b[1;34m(self, timeout)\u001b[0m\n\u001b[0;32m    300\u001b[0m         \u001b[1;32mtry\u001b[0m\u001b[1;33m:\u001b[0m    \u001b[1;31m# restore state no matter what (e.g., KeyboardInterrupt)\u001b[0m\u001b[1;33m\u001b[0m\u001b[1;33m\u001b[0m\u001b[0m\n\u001b[0;32m    301\u001b[0m             \u001b[1;32mif\u001b[0m \u001b[0mtimeout\u001b[0m \u001b[1;32mis\u001b[0m \u001b[1;32mNone\u001b[0m\u001b[1;33m:\u001b[0m\u001b[1;33m\u001b[0m\u001b[1;33m\u001b[0m\u001b[0m\n\u001b[1;32m--> 302\u001b[1;33m                 \u001b[0mwaiter\u001b[0m\u001b[1;33m.\u001b[0m\u001b[0macquire\u001b[0m\u001b[1;33m(\u001b[0m\u001b[1;33m)\u001b[0m\u001b[1;33m\u001b[0m\u001b[1;33m\u001b[0m\u001b[0m\n\u001b[0m\u001b[0;32m    303\u001b[0m                 \u001b[0mgotit\u001b[0m \u001b[1;33m=\u001b[0m \u001b[1;32mTrue\u001b[0m\u001b[1;33m\u001b[0m\u001b[1;33m\u001b[0m\u001b[0m\n\u001b[0;32m    304\u001b[0m             \u001b[1;32melse\u001b[0m\u001b[1;33m:\u001b[0m\u001b[1;33m\u001b[0m\u001b[1;33m\u001b[0m\u001b[0m\n",
      "\u001b[1;31mKeyboardInterrupt\u001b[0m: "
     ]
    }
   ],
   "source": [
    "params = [{\"max_depth\" : [10, 11, 12],\n",
    "           \"min_samples_leaf\" : [7, 8, 9, 10],\n",
    "           \"min_samples_split\" : [5, 6, 7]\n",
    "}]\n",
    "\n",
    "grid_search = GridSearchCV(forest_reg, params, cv=5,\n",
    "                           scoring='neg_mean_squared_error')\n",
    "grid_search.fit(X_train, y_train)"
   ]
  },
  {
   "cell_type": "code",
   "execution_count": null,
   "id": "eaf59df4",
   "metadata": {},
   "outputs": [],
   "source": [
    "grid_search.best_params_"
   ]
  },
  {
   "cell_type": "code",
   "execution_count": null,
   "id": "f7b12728",
   "metadata": {},
   "outputs": [],
   "source": [
    "final_model_ghg = grid_search.best_estimator_"
   ]
  },
  {
   "cell_type": "code",
   "execution_count": null,
   "id": "d7eb03f5",
   "metadata": {},
   "outputs": [],
   "source": [
    "final_prediction_ghg = final_model_ghg.predict(X_test)"
   ]
  },
  {
   "cell_type": "markdown",
   "id": "806d4c1a",
   "metadata": {},
   "source": [
    "## 4.5) Evaluation du modèle"
   ]
  },
  {
   "cell_type": "code",
   "execution_count": null,
   "id": "b09c6d0d",
   "metadata": {},
   "outputs": [],
   "source": [
    "regression_metrics(np.array(y_test), final_prediction_ghg)"
   ]
  },
  {
   "cell_type": "code",
   "execution_count": null,
   "id": "4b57d02b",
   "metadata": {},
   "outputs": [],
   "source": [
    "visualizer = ResidualsPlot(final_model_ghg)\n",
    "visualizer.fit(np.array(X_train), np.array(y_train).reshape(2596,))\n",
    "visualizer.score(np.array(X_test), np.array(y_test).reshape(649,))\n",
    "visualizer.show();"
   ]
  },
  {
   "cell_type": "markdown",
   "id": "70d023d9",
   "metadata": {},
   "source": [
    "Comme pour la prédiction sans utiliser le score ENERGY STAR, on observe un effet important de surapprentissage. Notre coefficient de détermination est légèrement plus élevée montrant que notre modèle capture presque 68% de la variance du phénomène. Ensuite, les mesures des erreurs montrent que notre modèle effectue des prédictions avec 0.30% d'erreur (MAPE) contre 0.31% sans le score ENERGY STAR. "
   ]
  },
  {
   "cell_type": "code",
   "execution_count": null,
   "id": "a79004a0",
   "metadata": {},
   "outputs": [],
   "source": [
    "visualizer = prediction_error(final_model_ghg, np.array(X_train), np.array(y_train), np.array(X_test), np.array(y_test));"
   ]
  },
  {
   "cell_type": "markdown",
   "id": "8b880983",
   "metadata": {},
   "source": [
    "## 4.6) Bilan du modèle <a class=\"anchor\" id=\"section_4_6\"></a>"
   ]
  },
  {
   "cell_type": "code",
   "execution_count": null,
   "id": "694d9ab0",
   "metadata": {},
   "outputs": [],
   "source": [
    "feature_importance = grid_search.best_estimator_.feature_importances_"
   ]
  },
  {
   "cell_type": "code",
   "execution_count": null,
   "id": "9b61a96c",
   "metadata": {},
   "outputs": [],
   "source": [
    "cat_encoder = preprocessor.named_transformers_[\"cat\"]\n",
    "cat_one_hot_attribs = list(cat_encoder[1].categories_)\n",
    "cat_one = list(cat_one_hot_attribs[0])\n",
    "cat_two = list(cat_one_hot_attribs[1])\n",
    "cat_three = list(cat_one_hot_attribs[2])\n",
    "cat_four = list(cat_one_hot_attribs[3])\n",
    "cat_five = list(cat_one_hot_attribs[4])\n",
    "attributes = num_var + cat_one + cat_two + cat_three + cat_four + cat_five\n",
    "importances = pd.DataFrame(feature_importance.round(3), attributes).reset_index()\n",
    "importances.columns = [\"Features\", \"Features Importances\"]"
   ]
  },
  {
   "cell_type": "code",
   "execution_count": null,
   "id": "3c8a821e",
   "metadata": {},
   "outputs": [],
   "source": [
    "importances.sort_values(\"Features Importances\", ascending=False).head()"
   ]
  },
  {
   "cell_type": "markdown",
   "id": "8a32feab",
   "metadata": {},
   "source": [
    "L'ajout d'une variable supplémentaire permet de construire un modèle qui capture un peu plus de variance mais sans diminuer de manière importante les erreurs commises par notre modèle. De plus, il y a un grand nombre de valeurs manquantes pour le score ENERGY STAR et ces valeurs manquantes ont été remplacés par la médiane ce qui peut introduire un biais dans notre modèle.\n",
    "\n",
    "L'intérêt du score ENERGY STAR ne semble pas important dans notre modèle si on se réfère aux performances de ce dernier. "
   ]
  },
  {
   "cell_type": "markdown",
   "id": "36deeff9",
   "metadata": {},
   "source": [
    "## 4.7) Pipeline du modèle <a class=\"anchor\" id=\"section_4_7\"></a>"
   ]
  },
  {
   "cell_type": "code",
   "execution_count": null,
   "id": "d3854dc4",
   "metadata": {},
   "outputs": [],
   "source": [
    "full_pipeline_ghg = Pipeline([\n",
    "    (\"preprocessing\", preprocessor),\n",
    "    (\"model\", final_model_ghg)\n",
    "])"
   ]
  },
  {
   "cell_type": "markdown",
   "id": "df4520be",
   "metadata": {},
   "source": [
    "# 5 - Conclusion <a class=\"anchor\" id=\"chapter5\"></a>"
   ]
  },
  {
   "cell_type": "markdown",
   "id": "6930c25f",
   "metadata": {},
   "source": [
    "Les informations dont l'on dispose nous permette d'avoir une estimation correcte de la consommation d'énergie. On dispose d'un modèle qui capture les 3/4 de la variance de notre phénomène. Les erreurs de prédictions sont plutôt faibles (0.11% si on prend le RMSPE ou 0.03% avec le MAPE). \n",
    "\n",
    "Concernant la prédiction de CO2, il semblerait que nos informations ne soient pas suffisantes pour obtenir un coefficient de détermination dépassant les 70%. Il faudrait donc obtenir des informations supplémentaires pour pouvoir obtenir une meilleure prédiction. L'ajout du score ENERGY STAR permet d'améliorer la variance expliquée par notre modèle sans pour autant réduire significativement les erreurs de prédiction. "
   ]
  },
  {
   "cell_type": "markdown",
   "id": "a602ff02",
   "metadata": {},
   "source": [
    "# Bonus : Prédiction à l'aide de méthode de Deep Learning <a class=\"anchor\" id=\"chapter6\"></a>"
   ]
  },
  {
   "cell_type": "markdown",
   "id": "56424760",
   "metadata": {},
   "source": [
    "Cette partie n'était pas demandée mais des essais sur des réseaux de neurones ont été effectués pour voir s'il était possible d'améliorer les modèles présentés ci-dessus. "
   ]
  },
  {
   "cell_type": "markdown",
   "id": "d8cc4e5c",
   "metadata": {},
   "source": [
    "## Prédiction de la consommation d'énergie <a class=\"anchor\" id=\"section_6_1\"></a>"
   ]
  },
  {
   "cell_type": "markdown",
   "id": "1e2f662f",
   "metadata": {},
   "source": [
    "### Préparation des données"
   ]
  },
  {
   "cell_type": "code",
   "execution_count": null,
   "id": "7dbc38cf",
   "metadata": {},
   "outputs": [],
   "source": [
    "train_set, test_set = train_test_split(data, test_size=0.2, random_state=42)\n",
    "\n",
    "y_train = train_set[[\"SiteEnergyUse(kBtu)_log\"]]\n",
    "y_test = test_set[[\"SiteEnergyUse(kBtu)_log\"]]\n",
    "X_train = train_set.drop([\"SiteEnergyUse(kBtu)\", \"SiteEnergyUse(kBtu)_log\", \"TotalGHGEmissions\", \"TotalGHGEmissions_log\", \"ENERGYSTARScore\", \"YearBuilt\", \"Neighborhood\", \"Latitude\", \"Longitude\",], axis=1)\n",
    "X_test = test_set.drop([\"SiteEnergyUse(kBtu)\", \"SiteEnergyUse(kBtu)_log\", \"TotalGHGEmissions\", \"TotalGHGEmissions_log\", \"ENERGYSTARScore\", \"YearBuilt\",\"Neighborhood\", \"Latitude\", \"Longitude\"], axis=1)"
   ]
  },
  {
   "cell_type": "code",
   "execution_count": null,
   "id": "e24d6763",
   "metadata": {},
   "outputs": [],
   "source": [
    "cat_var = [\"PrimaryPropertyType\", \"HasParking\", \"Clusters\", \"SecondLargestPropertyUseType\", \"ThirdLargestPropertyUseType\"]\n",
    "num_var = [\"PropertyGFATotal\", \"degreeDaysH\", \"Age\", \"NumberofBuildings\", \"NumberofFloors\", \"SecondLargestPropertyUseTypeGFA\", \"ThirdLargestPropertyUseTypeGFA\"]"
   ]
  },
  {
   "cell_type": "code",
   "execution_count": null,
   "id": "b1e46f20",
   "metadata": {},
   "outputs": [],
   "source": [
    "# Création d'un pipeline de transformation\n",
    "cat_pipe = Pipeline([\n",
    "    ('imputer', SimpleImputer(strategy='most_frequent', fill_value='missing')),\n",
    "    ('encoder', OneHotEncoder(handle_unknown='ignore', sparse=False))\n",
    "])\n",
    "\n",
    "num_pipe = Pipeline([\n",
    "    ('imputer', SimpleImputer(strategy=\"median\", fill_value=\"missing\")),\n",
    "    ('scaler', RobustScaler())\n",
    "])\n",
    "\n",
    "preprocessor = ColumnTransformer(\n",
    "    transformers=[\n",
    "    ('cat', cat_pipe, cat_var),\n",
    "    ('num', num_pipe, num_var)\n",
    "])"
   ]
  },
  {
   "cell_type": "code",
   "execution_count": null,
   "id": "601da884",
   "metadata": {},
   "outputs": [],
   "source": [
    "X_train = preprocessor.fit_transform(X_train)\n",
    "X_test = preprocessor.transform(X_test)"
   ]
  },
  {
   "cell_type": "markdown",
   "id": "7f04c5fe",
   "metadata": {},
   "source": [
    "### Création du modèle"
   ]
  },
  {
   "cell_type": "markdown",
   "id": "4382d147",
   "metadata": {},
   "source": [
    "On va créer notre modèle en lui ajoutant deux couches cachées avec une fonction d'activation Rectified Linear Unit (ou **relu**). La mesure d'évaluation choisie ici sera le MAE. On choisit de ne mettre que deux couches cachées car notre jeu de données est petit et ainsi on va limiter l'overfitting de notre réseau de neurones. Le code utilisé pour la création du modèle, la mise en place de validation croisée et le choix du nombre d'epochs s'est inspiré du livre *Deep Learning with Python* de François Chollet."
   ]
  },
  {
   "cell_type": "code",
   "execution_count": null,
   "id": "2cd38ec5",
   "metadata": {},
   "outputs": [],
   "source": [
    "from tensorflow import keras\n",
    "\n",
    "def build_model():\n",
    "    model=keras.Sequential([\n",
    "        keras.layers.Dense(64, activation=\"relu\"),\n",
    "        keras.layers.Dense(64, activation=\"relu\"),\n",
    "        keras.layers.Dense(1)\n",
    "    ])\n",
    "    model.compile(loss=\"mse\", optimizer=\"rmsprop\", metrics=[\"mae\"])\n",
    "    return model"
   ]
  },
  {
   "cell_type": "markdown",
   "id": "cbccb445",
   "metadata": {},
   "source": [
    "- Mise en place d'une validation croisée avec K = 5"
   ]
  },
  {
   "cell_type": "code",
   "execution_count": null,
   "id": "69a46229",
   "metadata": {},
   "outputs": [],
   "source": [
    "k = 5\n",
    "num_val_samples = len(X_train)//k\n",
    "num_epochs = 100\n",
    "all_scores = []\n",
    "\n",
    "for i in range(k):\n",
    "    print(f\"Processing fold #{i}\")\n",
    "    val_data = X_train[i * num_val_samples: (i + 1) * num_val_samples]\n",
    "    val_targets = y_train[i * num_val_samples: (i + 1) * num_val_samples]\n",
    "    partial_train_data = np.concatenate(\n",
    "    [X_train[:i * num_val_samples],\n",
    "     X_train[(i + 1) * num_val_samples:]],\n",
    "    axis=0)\n",
    "    partial_train_targets = np.concatenate(\n",
    "    [y_train[:i * num_val_samples],\n",
    "     y_train[(i + 1) * num_val_samples:]],\n",
    "    axis=0)\n",
    "    model = build_model()\n",
    "    model.fit(partial_train_data, partial_train_targets,\n",
    "              epochs=num_epochs, batch_size=16, verbose=0)\n",
    "    val_mse, val_mae = model.evaluate(val_data, val_targets, verbose=0)\n",
    "    all_scores.append(val_mae)"
   ]
  },
  {
   "cell_type": "code",
   "execution_count": null,
   "id": "f0a754f1",
   "metadata": {},
   "outputs": [],
   "source": [
    "print(all_scores)\n",
    "print(\"MAE moyen:\", np.mean(all_scores).round(2))"
   ]
  },
  {
   "cell_type": "markdown",
   "id": "223abbc3",
   "metadata": {},
   "source": [
    "Le MAE moyen à l'issue de notre validation croisée est de 0.64. On va reproduire cette validation croisée en augmentant le nombre d'epochs afin de choisir le nombre optimal pour notre réseau. "
   ]
  },
  {
   "cell_type": "code",
   "execution_count": null,
   "id": "716481d5",
   "metadata": {},
   "outputs": [],
   "source": [
    "num_epochs = 500\n",
    "all_mae_histories = []\n",
    "for i in range(k):\n",
    "    print(f\"Processing fold #{i}\")\n",
    "    val_data = X_train[i * num_val_samples: (i + 1) * num_val_samples]\n",
    "    val_targets = y_train[i * num_val_samples: (i + 1) * num_val_samples]\n",
    "    partial_train_data = np.concatenate(\n",
    "    [X_train[:i * num_val_samples],\n",
    "     X_train[(i + 1) * num_val_samples:]],\n",
    "    axis=0)\n",
    "    partial_train_targets = np.concatenate(\n",
    "    [y_train[:i * num_val_samples],\n",
    "     y_train[(i + 1) * num_val_samples:]],\n",
    "    axis=0)\n",
    "    model = build_model()\n",
    "    history = model.fit(partial_train_data, partial_train_targets,\n",
    "                            validation_data=(val_data, val_targets),\n",
    "                            epochs=num_epochs, batch_size=16, verbose=0)\n",
    "    mae_history = history.history[\"val_mae\"]\n",
    "    all_mae_histories.append(mae_history)"
   ]
  },
  {
   "cell_type": "code",
   "execution_count": null,
   "id": "6302bd77",
   "metadata": {},
   "outputs": [],
   "source": [
    "average_mae_history = [np.mean([x[i] for x in all_mae_histories]) for i in range(num_epochs)]"
   ]
  },
  {
   "cell_type": "code",
   "execution_count": null,
   "id": "31431549",
   "metadata": {},
   "outputs": [],
   "source": [
    "plt.plot(range(1, len(average_mae_history) + 1), average_mae_history)\n",
    "plt.xlabel(\"Epochs\")\n",
    "plt.ylabel(\"Validation MAE\")\n",
    "plt.show()"
   ]
  },
  {
   "cell_type": "markdown",
   "id": "3f8b4366",
   "metadata": {},
   "source": [
    "Les premiers epochs montrent des scores très importants. On va donc les supprimer pour pouvoir regarder de plus près le moment où l'augmentation du MAE stagne. "
   ]
  },
  {
   "cell_type": "code",
   "execution_count": null,
   "id": "e45eebb9",
   "metadata": {},
   "outputs": [],
   "source": [
    "truncated_mae_history = average_mae_history[10:]\n",
    "plt.plot(range(1, len(truncated_mae_history) + 1), truncated_mae_history)\n",
    "plt.xlabel(\"Epochs\")\n",
    "plt.ylabel(\"Validation MAE\")\n",
    "plt.show()"
   ]
  },
  {
   "cell_type": "markdown",
   "id": "4be9d6a7",
   "metadata": {},
   "source": [
    "Le nombre d'epochs optimal semble se situer vers 120-130. On va donc choisir la valeur de 120 pour entraîner notre modèle."
   ]
  },
  {
   "cell_type": "code",
   "execution_count": null,
   "id": "033b9d03",
   "metadata": {},
   "outputs": [],
   "source": [
    "model = build_model()\n",
    "model.fit(X_train, y_train, \n",
    "          epochs=120, batch_size=16, verbose=0)"
   ]
  },
  {
   "cell_type": "markdown",
   "id": "02dc7f96",
   "metadata": {},
   "source": [
    "### Evaluation du modèle"
   ]
  },
  {
   "cell_type": "code",
   "execution_count": null,
   "id": "fe221aa1",
   "metadata": {},
   "outputs": [],
   "source": [
    "y_pred = model.predict(X_test)\n",
    "regression_metrics(np.array(y_test), y_pred)"
   ]
  },
  {
   "cell_type": "markdown",
   "id": "4b8df3f2",
   "metadata": {},
   "source": [
    "Les mesures d'évaluation du réseau de neurones sont les mêmes que pour les modèles de régression présentés plus haut. Cela permet d'effectuer une comparaison avec les mêmes variables sur la même unité. "
   ]
  },
  {
   "cell_type": "markdown",
   "id": "655eac50",
   "metadata": {},
   "source": [
    "Le coefficient de détermination est moins important que lors de l'utilisation de l'algorithme XGBoost (50% vs 76% pour l'algorithme XGBoost). Cependant, les autres variables sont meilleures qu'avec l'algorithme XGBoost. Les erreurs de prédiction sont de plus ou moins 0.06% (contre 0.11% pour l'algorithme XGBoost). "
   ]
  },
  {
   "cell_type": "markdown",
   "id": "56d7cbd4",
   "metadata": {},
   "source": [
    "## Prédiction des émissions de CO2 (sans ENERGY STAR Score) <a class=\"anchor\" id=\"section_6_2\"></a>"
   ]
  },
  {
   "cell_type": "markdown",
   "id": "1daa320b",
   "metadata": {},
   "source": [
    "La démarche est la même que celle détaillé dans la partie concernant la prédiction de la consommation d'énergie. Elle ne sera donc pas expliqué en détail. "
   ]
  },
  {
   "cell_type": "markdown",
   "id": "0dc155a5",
   "metadata": {},
   "source": [
    "### Préparation des données"
   ]
  },
  {
   "cell_type": "code",
   "execution_count": null,
   "id": "83984660",
   "metadata": {},
   "outputs": [],
   "source": [
    "train_set, test_set = train_test_split(data, test_size=0.2, random_state=42)\n",
    "\n",
    "y_train = train_set[[\"TotalGHGEmissions_log\"]]\n",
    "y_test = test_set[[\"TotalGHGEmissions_log\"]]\n",
    "X_train = train_set.drop([\"SiteEnergyUse(kBtu)\", \"SiteEnergyUse(kBtu)_log\", \"TotalGHGEmissions\", \"SiteEnergyUse(kBtu)_log\", \"ENERGYSTARScore\", \"YearBuilt\", \"Neighborhood\", \"Latitude\", \"Longitude\"], axis=1)\n",
    "X_test = test_set.drop([\"SiteEnergyUse(kBtu)\", \"SiteEnergyUse(kBtu)_log\", \"TotalGHGEmissions\", \"SiteEnergyUse(kBtu)_log\", \"ENERGYSTARScore\", \"YearBuilt\",\"Neighborhood\", \"Latitude\", \"Longitude\"], axis=1)"
   ]
  },
  {
   "cell_type": "code",
   "execution_count": null,
   "id": "0a8f799c",
   "metadata": {},
   "outputs": [],
   "source": [
    "X_train = preprocessor.fit_transform(X_train)\n",
    "X_test = preprocessor.transform(X_test)"
   ]
  },
  {
   "cell_type": "markdown",
   "id": "b8294087",
   "metadata": {},
   "source": [
    "### Création et validation croisée du modèle"
   ]
  },
  {
   "cell_type": "code",
   "execution_count": null,
   "id": "6d6727fc",
   "metadata": {},
   "outputs": [],
   "source": [
    "k = 5\n",
    "num_val_samples = len(X_train)//k\n",
    "num_epochs = 100\n",
    "all_scores = []\n",
    "for i in range(k):\n",
    "    print(f\"Processing fold #{i}\")\n",
    "    val_data = X_train[i * num_val_samples: (i + 1) * num_val_samples]\n",
    "    val_targets = y_train[i * num_val_samples: (i + 1) * num_val_samples]\n",
    "    partial_train_data = np.concatenate(\n",
    "    [X_train[:i * num_val_samples],\n",
    "     X_train[(i + 1) * num_val_samples:]],\n",
    "    axis=0)\n",
    "    partial_train_targets = np.concatenate(\n",
    "    [y_train[:i * num_val_samples],\n",
    "     y_train[(i + 1) * num_val_samples:]],\n",
    "    axis=0)\n",
    "    model = build_model()\n",
    "    model.fit(partial_train_data, partial_train_targets,\n",
    "              epochs=num_epochs, batch_size=16, verbose=0)\n",
    "    val_mse, val_mae = model.evaluate(val_data, val_targets, verbose=0)\n",
    "    all_scores.append(val_mae)"
   ]
  },
  {
   "cell_type": "code",
   "execution_count": null,
   "id": "4d80cb67",
   "metadata": {},
   "outputs": [],
   "source": [
    "print(all_scores)\n",
    "print(\"MAE moyen:\", np.mean(all_scores).round(2))"
   ]
  },
  {
   "cell_type": "code",
   "execution_count": null,
   "id": "bf12214b",
   "metadata": {},
   "outputs": [],
   "source": [
    "num_epochs = 500\n",
    "all_mae_histories = []\n",
    "for i in range(k):\n",
    "    print(f\"Processing fold #{i}\")\n",
    "    val_data = X_train[i * num_val_samples: (i + 1) * num_val_samples]\n",
    "    val_targets = y_train[i * num_val_samples: (i + 1) * num_val_samples]\n",
    "    partial_train_data = np.concatenate(\n",
    "    [X_train[:i * num_val_samples],\n",
    "     X_train[(i + 1) * num_val_samples:]],\n",
    "    axis=0)\n",
    "    partial_train_targets = np.concatenate(\n",
    "    [y_train[:i * num_val_samples],\n",
    "     y_train[(i + 1) * num_val_samples:]],\n",
    "    axis=0)\n",
    "    model = build_model()\n",
    "    history = model.fit(partial_train_data, partial_train_targets,\n",
    "                            validation_data=(val_data, val_targets),\n",
    "                            epochs=num_epochs, batch_size=16, verbose=0)\n",
    "    mae_history = history.history[\"val_mae\"]\n",
    "    all_mae_histories.append(mae_history)"
   ]
  },
  {
   "cell_type": "code",
   "execution_count": null,
   "id": "cffebd63",
   "metadata": {},
   "outputs": [],
   "source": [
    "average_mae_history = [np.mean([x[i] for x in all_mae_histories]) for i in range(num_epochs)]"
   ]
  },
  {
   "cell_type": "code",
   "execution_count": null,
   "id": "1ae393f9",
   "metadata": {},
   "outputs": [],
   "source": [
    "plt.plot(range(1, len(average_mae_history) + 1), average_mae_history)\n",
    "plt.xlabel(\"Epochs\")\n",
    "plt.ylabel(\"Validation MAE\")\n",
    "plt.show()"
   ]
  },
  {
   "cell_type": "code",
   "execution_count": null,
   "id": "9382fe51",
   "metadata": {},
   "outputs": [],
   "source": [
    "truncated_mae_history = average_mae_history[10:]\n",
    "plt.plot(range(1, len(truncated_mae_history) + 1), truncated_mae_history)\n",
    "plt.xlabel(\"Epochs\")\n",
    "plt.ylabel(\"Validation MAE\")\n",
    "plt.show()"
   ]
  },
  {
   "cell_type": "markdown",
   "id": "44ff1e14",
   "metadata": {},
   "source": [
    "### Entraînement du modèle"
   ]
  },
  {
   "cell_type": "code",
   "execution_count": null,
   "id": "7d497a05",
   "metadata": {},
   "outputs": [],
   "source": [
    "model = build_model()\n",
    "model.fit(X_train, y_train, \n",
    "          epochs=120, batch_size=16, verbose=0)"
   ]
  },
  {
   "cell_type": "markdown",
   "id": "1100c6d7",
   "metadata": {},
   "source": [
    "### Analyse des performances"
   ]
  },
  {
   "cell_type": "code",
   "execution_count": null,
   "id": "5afb8598",
   "metadata": {},
   "outputs": [],
   "source": [
    "y_pred = model.predict(X_test)\n",
    "regression_metrics(np.array(y_test), y_pred)"
   ]
  },
  {
   "cell_type": "markdown",
   "id": "31d6b6f3",
   "metadata": {},
   "source": [
    "Le coefficient de détermination de ce réseau de neurones est meilleur que celui obtenu avec l'algorithme de XGBoost (67% vs 64%). De plus, les scores évaluant le pourcentage d'erreur de prédiction sont meilleures (0.03% vs 0.31% pour le MAPE/ 0.05% vs 1.7% pour le RMSE). Ce modèle pourrait donc présenter une alternative à l'algorithme de XGBoost vu plus haut. "
   ]
  },
  {
   "cell_type": "markdown",
   "id": "04d1b8b1",
   "metadata": {},
   "source": [
    "## Prédiction des émissions de CO2 (avec ENERGY STAR Score)"
   ]
  },
  {
   "cell_type": "markdown",
   "id": "5d56deb0",
   "metadata": {},
   "source": [
    "On ajoute la variable score ENERGY STAR pour voir si les performances de notre modèle sont améliorés. "
   ]
  },
  {
   "cell_type": "markdown",
   "id": "b096e569",
   "metadata": {},
   "source": [
    "### Préparation des données"
   ]
  },
  {
   "cell_type": "code",
   "execution_count": null,
   "id": "28811e57",
   "metadata": {},
   "outputs": [],
   "source": [
    "train_set, test_set = train_test_split(data, test_size=0.2, random_state=42)\n",
    "\n",
    "y_train = train_set[[\"TotalGHGEmissions_log\"]]\n",
    "y_test = test_set[[\"TotalGHGEmissions_log\"]]\n",
    "X_train = train_set.drop([\"SiteEnergyUse(kBtu)\", \"SiteEnergyUse(kBtu)_log\", \"TotalGHGEmissions\", \"SiteEnergyUse(kBtu)_log\", \"YearBuilt\", \"Neighborhood\", \"Latitude\", \"Longitude\"], axis=1)\n",
    "X_test = test_set.drop([\"SiteEnergyUse(kBtu)\", \"SiteEnergyUse(kBtu)_log\", \"TotalGHGEmissions\", \"SiteEnergyUse(kBtu)_log\", \"YearBuilt\",\"Neighborhood\", \"Latitude\", \"Longitude\"], axis=1)"
   ]
  },
  {
   "cell_type": "code",
   "execution_count": null,
   "id": "6ca8eae5",
   "metadata": {},
   "outputs": [],
   "source": [
    "cat_var = [\"PrimaryPropertyType\", \"HasParking\", \"Clusters\", \"SecondLargestPropertyUseType\", \"ThirdLargestPropertyUseType\"]\n",
    "num_var = [\"PropertyGFATotal\", \"degreeDaysH\", \"Age\", \"NumberofBuildings\", \"NumberofFloors\", \"SecondLargestPropertyUseTypeGFA\", \"ThirdLargestPropertyUseTypeGFA\", \"ENERGYSTARScore\"]"
   ]
  },
  {
   "cell_type": "code",
   "execution_count": null,
   "id": "d12d8626",
   "metadata": {},
   "outputs": [],
   "source": [
    "cat_pipe = Pipeline([\n",
    "    ('imputer', SimpleImputer(strategy='most_frequent', fill_value='missing')),\n",
    "    ('encoder', OneHotEncoder(handle_unknown='ignore', sparse=False))\n",
    "])\n",
    "\n",
    "num_pipe = Pipeline([\n",
    "    ('imputer', SimpleImputer(strategy=\"median\", fill_value=\"missing\")),\n",
    "    ('scaler', StandardScaler())\n",
    "])\n",
    "\n",
    "preprocessor = ColumnTransformer(\n",
    "    transformers=[\n",
    "    ('cat', cat_pipe, cat_var),\n",
    "    ('num', num_pipe, num_var)\n",
    "])"
   ]
  },
  {
   "cell_type": "code",
   "execution_count": null,
   "id": "359832df",
   "metadata": {},
   "outputs": [],
   "source": [
    "X_train = preprocessor.fit_transform(X_train)\n",
    "X_test = preprocessor.transform(X_test)"
   ]
  },
  {
   "cell_type": "markdown",
   "id": "18275b9e",
   "metadata": {},
   "source": [
    "### Entraînement du modèle et mise en place d'une validation croisée"
   ]
  },
  {
   "cell_type": "code",
   "execution_count": null,
   "id": "4b1868cf",
   "metadata": {},
   "outputs": [],
   "source": [
    "k = 5\n",
    "num_val_samples = len(X_train)//k\n",
    "num_epochs = 100\n",
    "all_scores = []\n",
    "for i in range(k):\n",
    "    print(f\"Processing fold #{i}\")\n",
    "    val_data = X_train[i * num_val_samples: (i + 1) * num_val_samples]\n",
    "    val_targets = y_train[i * num_val_samples: (i + 1) * num_val_samples]\n",
    "    partial_train_data = np.concatenate(\n",
    "    [X_train[:i * num_val_samples],\n",
    "     X_train[(i + 1) * num_val_samples:]],\n",
    "    axis=0)\n",
    "    partial_train_targets = np.concatenate(\n",
    "    [y_train[:i * num_val_samples],\n",
    "     y_train[(i + 1) * num_val_samples:]],\n",
    "    axis=0)\n",
    "    model = build_model()\n",
    "    model.fit(partial_train_data, partial_train_targets,\n",
    "              epochs=num_epochs, batch_size=16, verbose=0)\n",
    "    val_mse, val_mae = model.evaluate(val_data, val_targets, verbose=0)\n",
    "    all_scores.append(val_mae)"
   ]
  },
  {
   "cell_type": "code",
   "execution_count": null,
   "id": "25f528f9",
   "metadata": {},
   "outputs": [],
   "source": [
    "print(all_scores)\n",
    "print(\"MAE moyen:\", np.mean(all_scores).round(2))"
   ]
  },
  {
   "cell_type": "code",
   "execution_count": null,
   "id": "509e9b26",
   "metadata": {},
   "outputs": [],
   "source": [
    "num_epochs = 500\n",
    "all_mae_histories = []\n",
    "for i in range(k):\n",
    "    print(f\"Processing fold #{i}\")\n",
    "    val_data = X_train[i * num_val_samples: (i + 1) * num_val_samples]\n",
    "    val_targets = y_train[i * num_val_samples: (i + 1) * num_val_samples]\n",
    "    partial_train_data = np.concatenate(\n",
    "    [X_train[:i * num_val_samples],\n",
    "     X_train[(i + 1) * num_val_samples:]],\n",
    "    axis=0)\n",
    "    partial_train_targets = np.concatenate(\n",
    "    [y_train[:i * num_val_samples],\n",
    "     y_train[(i + 1) * num_val_samples:]],\n",
    "    axis=0)\n",
    "    model = build_model()\n",
    "    history = model.fit(partial_train_data, partial_train_targets,\n",
    "                            validation_data=(val_data, val_targets),\n",
    "                            epochs=num_epochs, batch_size=16, verbose=0)\n",
    "    mae_history = history.history[\"val_mae\"]\n",
    "    all_mae_histories.append(mae_history)"
   ]
  },
  {
   "cell_type": "code",
   "execution_count": null,
   "id": "32368cd7",
   "metadata": {},
   "outputs": [],
   "source": [
    "average_mae_history = [np.mean([x[i] for x in all_mae_histories]) for i in range(num_epochs)]"
   ]
  },
  {
   "cell_type": "code",
   "execution_count": null,
   "id": "de9f1860",
   "metadata": {},
   "outputs": [],
   "source": [
    "plt.plot(range(1, len(average_mae_history) + 1), average_mae_history)\n",
    "plt.xlabel(\"Epochs\")\n",
    "plt.ylabel(\"Validation MAE\")\n",
    "plt.show()"
   ]
  },
  {
   "cell_type": "code",
   "execution_count": null,
   "id": "63e63e67",
   "metadata": {},
   "outputs": [],
   "source": [
    "truncated_mae_history = average_mae_history[10:]\n",
    "plt.plot(range(1, len(truncated_mae_history) + 1), truncated_mae_history)\n",
    "plt.xlabel(\"Epochs\")\n",
    "plt.ylabel(\"Validation MAE\")\n",
    "plt.show()"
   ]
  },
  {
   "cell_type": "code",
   "execution_count": null,
   "id": "ac14c1b1",
   "metadata": {},
   "outputs": [],
   "source": [
    "model = build_model()\n",
    "model.fit(X_train, y_train, \n",
    "          epochs=300, batch_size=16, verbose=0)"
   ]
  },
  {
   "cell_type": "markdown",
   "id": "3b8088b5",
   "metadata": {},
   "source": [
    "### Evaluation du modèle obtenu"
   ]
  },
  {
   "cell_type": "code",
   "execution_count": null,
   "id": "c8063605",
   "metadata": {},
   "outputs": [],
   "source": [
    "y_pred = model.predict(X_test)\n",
    "regression_metrics(np.array(y_test), y_pred)"
   ]
  },
  {
   "cell_type": "markdown",
   "id": "646358ed",
   "metadata": {},
   "source": [
    "Le coefficient de détermination est de 45%. Les scores d'évaluation du modèle sont moins bons que ceux obtenus avec l'algorithme de XGBoost mais aussi que ceux obtenus avec le réseau de neurones sans le score ENERGY STAR. "
   ]
  },
  {
   "cell_type": "markdown",
   "id": "96f35a7b",
   "metadata": {},
   "source": [
    "# Conclusion générale <a class=\"anchor\" id=\"chapter7\"></a>"
   ]
  },
  {
   "cell_type": "markdown",
   "id": "c02c27e6",
   "metadata": {},
   "source": [
    "Concernant la prédiction de la consommation d'énergie l'algorithme le plus performant est l'algorithme de XGBoost. Il permet d'expliquer 76% de la variance observée et a des pourcentages d'erreurs de prédiction très faibles (moins de 1%).\n",
    "\n",
    "\n",
    "Concernant la prédiction des émissions de CO2, il semblerait que les informations dont on dispose soit insuffisante pour pouvoir obtenir de bons scores avec des algorithmes de Machine Learning classique. Le score ENERGY STAR permet d'améliorer les performances de l'algorithme de XGBoost. L'utilisation de méthode de Deep Learning et de réseau de neurones permette d'avoir de meilleures performances pour cette prédiction. Les informations dont on dispose nous ont permis d'entraîner un réseau de neurones qui permet d'avoir de bonnes performances : 67% de variances expliquées par notre modèle et des pourcentages d'erreur de prédiction très faibles (moins de 1%). "
   ]
  },
  {
   "cell_type": "markdown",
   "id": "9bff27bc",
   "metadata": {},
   "source": [
    "**En utilisant uniquement les données du permis de construire et les transformations que l'on a pu effectuer, il pourrait être intéressants de déployer un algorithme de XGBoost pour prédire les consommations d'énergie d'un bâtiment non-résidentiels. Pour pouvoir prédire les émissions de CO$_2$ d'un bâtiment non-résidentiels à l'aide des mêmes informations, le réseau de neurones semble la solution la plus adaptée.**"
   ]
  }
 ],
 "metadata": {
  "interpreter": {
   "hash": "db691860837755bfd223dbb19bf59c90fd58faf4b85973e04a456a30cef6b76b"
  },
  "kernelspec": {
   "display_name": "Python 3",
   "language": "python",
   "name": "python3"
  },
  "language_info": {
   "codemirror_mode": {
    "name": "ipython",
    "version": 3
   },
   "file_extension": ".py",
   "mimetype": "text/x-python",
   "name": "python",
   "nbconvert_exporter": "python",
   "pygments_lexer": "ipython3",
   "version": "3.8.10"
  }
 },
 "nbformat": 4,
 "nbformat_minor": 5
}
