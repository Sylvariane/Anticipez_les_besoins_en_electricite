{
 "cells": [
  {
   "cell_type": "code",
   "execution_count": 1,
   "id": "d03e588c",
   "metadata": {},
   "outputs": [],
   "source": [
    "# importation des librairies nécessaires à l'exploration\n",
    "import warnings\n",
    "warnings.filterwarnings(\"ignore\")\n",
    "\n",
    "import pandas as pd\n",
    "import numpy as np\n",
    "from scipy import stats\n",
    "\n",
    "import matplotlib.pyplot as plt\n",
    "import seaborn as sns\n",
    "import sklearn\n",
    "from sklearn.metrics import mean_absolute_error, mean_squared_error, r2_score\n",
    "from sklearn.model_selection import train_test_split\n",
    "from yellowbrick.regressor import ResidualsPlot, prediction_error"
   ]
  },
  {
   "cell_type": "code",
   "execution_count": 2,
   "id": "fa2a74fd",
   "metadata": {},
   "outputs": [],
   "source": [
    "sklearn.set_config(display=\"diagram\")"
   ]
  },
  {
   "cell_type": "code",
   "execution_count": 3,
   "id": "9edf29ee",
   "metadata": {},
   "outputs": [],
   "source": [
    "def regression_metrics(y_test, y_pred):\n",
    "    \"\"\"Function which contains differents metrics about regression\n",
    "    Input: y_test, prediction\n",
    "    \n",
    "    Output: MAE, MSE, RMSE & R² score  \n",
    "    \"\"\"\n",
    "    mae = mean_absolute_error(y_test, y_pred)\n",
    "    mse = mean_squared_error(y_test, y_pred)\n",
    "    rmse = mse ** (1/2)\n",
    "    r_score = r2_score(y_test, y_pred)\n",
    "    print(\"MAE :\",mae.round(5))\n",
    "    print(\"MSE :\", mse.round(5))\n",
    "    print(\"RMSE :\", rmse.round(5))\n",
    "    print(\"R² :\", r_score.round(5))"
   ]
  },
  {
   "cell_type": "code",
   "execution_count": 4,
   "id": "81b931cb",
   "metadata": {},
   "outputs": [],
   "source": [
    "data = pd.read_csv(\"datasets/benchmark_total.csv\")"
   ]
  },
  {
   "cell_type": "code",
   "execution_count": 5,
   "id": "fe86c035",
   "metadata": {
    "scrolled": true
   },
   "outputs": [
    {
     "data": {
      "text/html": [
       "<div>\n",
       "<style scoped>\n",
       "    .dataframe tbody tr th:only-of-type {\n",
       "        vertical-align: middle;\n",
       "    }\n",
       "\n",
       "    .dataframe tbody tr th {\n",
       "        vertical-align: top;\n",
       "    }\n",
       "\n",
       "    .dataframe thead th {\n",
       "        text-align: right;\n",
       "    }\n",
       "</style>\n",
       "<table border=\"1\" class=\"dataframe\">\n",
       "  <thead>\n",
       "    <tr style=\"text-align: right;\">\n",
       "      <th></th>\n",
       "      <th>PrimaryPropertyType</th>\n",
       "      <th>Neighborhood</th>\n",
       "      <th>YearBuilt</th>\n",
       "      <th>NumberofBuildings</th>\n",
       "      <th>NumberofFloors</th>\n",
       "      <th>PropertyGFATotal</th>\n",
       "      <th>ENERGYSTARScore</th>\n",
       "      <th>SiteEnergyUse(kBtu)</th>\n",
       "      <th>TotalGHGEmissions</th>\n",
       "    </tr>\n",
       "  </thead>\n",
       "  <tbody>\n",
       "    <tr>\n",
       "      <th>0</th>\n",
       "      <td>Hotel</td>\n",
       "      <td>Downtown</td>\n",
       "      <td>1927</td>\n",
       "      <td>1.0</td>\n",
       "      <td>12.0</td>\n",
       "      <td>88434</td>\n",
       "      <td>65.0</td>\n",
       "      <td>6981428.0</td>\n",
       "      <td>249.43</td>\n",
       "    </tr>\n",
       "    <tr>\n",
       "      <th>1</th>\n",
       "      <td>Hotel</td>\n",
       "      <td>Downtown</td>\n",
       "      <td>1996</td>\n",
       "      <td>1.0</td>\n",
       "      <td>11.0</td>\n",
       "      <td>103566</td>\n",
       "      <td>51.0</td>\n",
       "      <td>8354235.0</td>\n",
       "      <td>263.51</td>\n",
       "    </tr>\n",
       "    <tr>\n",
       "      <th>2</th>\n",
       "      <td>Hotel</td>\n",
       "      <td>Downtown</td>\n",
       "      <td>1969</td>\n",
       "      <td>1.0</td>\n",
       "      <td>41.0</td>\n",
       "      <td>961990</td>\n",
       "      <td>18.0</td>\n",
       "      <td>73130656.0</td>\n",
       "      <td>2061.48</td>\n",
       "    </tr>\n",
       "  </tbody>\n",
       "</table>\n",
       "</div>"
      ],
      "text/plain": [
       "  PrimaryPropertyType Neighborhood  YearBuilt  NumberofBuildings  \\\n",
       "0               Hotel     Downtown       1927                1.0   \n",
       "1               Hotel     Downtown       1996                1.0   \n",
       "2               Hotel     Downtown       1969                1.0   \n",
       "\n",
       "   NumberofFloors  PropertyGFATotal  ENERGYSTARScore  SiteEnergyUse(kBtu)  \\\n",
       "0            12.0             88434             65.0            6981428.0   \n",
       "1            11.0            103566             51.0            8354235.0   \n",
       "2            41.0            961990             18.0           73130656.0   \n",
       "\n",
       "   TotalGHGEmissions  \n",
       "0             249.43  \n",
       "1             263.51  \n",
       "2            2061.48  "
      ]
     },
     "execution_count": 5,
     "metadata": {},
     "output_type": "execute_result"
    }
   ],
   "source": [
    "data.head(3)"
   ]
  },
  {
   "cell_type": "code",
   "execution_count": 6,
   "id": "33d05837",
   "metadata": {},
   "outputs": [],
   "source": [
    "y_energy = data[\"SiteEnergyUse(kBtu)\"].values\n",
    "y_ghg = data[\"TotalGHGEmissions\"].values\n",
    "X = data.drop([\"SiteEnergyUse(kBtu)\", \"TotalGHGEmissions\"], axis=1)"
   ]
  },
  {
   "cell_type": "code",
   "execution_count": 7,
   "id": "ab2a7391",
   "metadata": {},
   "outputs": [],
   "source": [
    "y_energy = np.log1p(y_energy)\n",
    "y_ghg = np.log1p(y_ghg)"
   ]
  },
  {
   "cell_type": "code",
   "execution_count": 8,
   "id": "3af2e278",
   "metadata": {},
   "outputs": [],
   "source": [
    "X_train, X_test, y_train, y_test = train_test_split(X, y_energy, test_size=0.2, random_state=42)"
   ]
  },
  {
   "cell_type": "code",
   "execution_count": 9,
   "id": "3055fa09",
   "metadata": {},
   "outputs": [],
   "source": [
    "y_train = y_train.reshape(-1,1)\n",
    "y_test = y_test.reshape(-1,1)"
   ]
  },
  {
   "cell_type": "markdown",
   "id": "d40ccf5d",
   "metadata": {},
   "source": [
    "# Prédiction de la consommation d'énergie"
   ]
  },
  {
   "cell_type": "markdown",
   "id": "64af3ad3",
   "metadata": {},
   "source": [
    "## Création d'un modèle \"baseline\""
   ]
  },
  {
   "cell_type": "markdown",
   "id": "5ceeb733",
   "metadata": {},
   "source": [
    "### Préparation des données"
   ]
  },
  {
   "cell_type": "code",
   "execution_count": 10,
   "id": "f3095f52",
   "metadata": {},
   "outputs": [],
   "source": [
    "cat_var = [\"PrimaryPropertyType\", \"Neighborhood\"]\n",
    "num_var = [\"YearBuilt\", \"NumberofBuildings\", \"NumberofFloors\", \"PropertyGFATotal\"]"
   ]
  },
  {
   "cell_type": "code",
   "execution_count": 11,
   "id": "261e8fc7",
   "metadata": {},
   "outputs": [
    {
     "data": {
      "text/html": [
       "<style>#sk-192e20cf-8be0-4bcd-af13-dc814c0c919d {color: black;background-color: white;}#sk-192e20cf-8be0-4bcd-af13-dc814c0c919d pre{padding: 0;}#sk-192e20cf-8be0-4bcd-af13-dc814c0c919d div.sk-toggleable {background-color: white;}#sk-192e20cf-8be0-4bcd-af13-dc814c0c919d label.sk-toggleable__label {cursor: pointer;display: block;width: 100%;margin-bottom: 0;padding: 0.2em 0.3em;box-sizing: border-box;text-align: center;}#sk-192e20cf-8be0-4bcd-af13-dc814c0c919d div.sk-toggleable__content {max-height: 0;max-width: 0;overflow: hidden;text-align: left;background-color: #f0f8ff;}#sk-192e20cf-8be0-4bcd-af13-dc814c0c919d div.sk-toggleable__content pre {margin: 0.2em;color: black;border-radius: 0.25em;background-color: #f0f8ff;}#sk-192e20cf-8be0-4bcd-af13-dc814c0c919d input.sk-toggleable__control:checked~div.sk-toggleable__content {max-height: 200px;max-width: 100%;overflow: auto;}#sk-192e20cf-8be0-4bcd-af13-dc814c0c919d div.sk-estimator input.sk-toggleable__control:checked~label.sk-toggleable__label {background-color: #d4ebff;}#sk-192e20cf-8be0-4bcd-af13-dc814c0c919d div.sk-label input.sk-toggleable__control:checked~label.sk-toggleable__label {background-color: #d4ebff;}#sk-192e20cf-8be0-4bcd-af13-dc814c0c919d input.sk-hidden--visually {border: 0;clip: rect(1px 1px 1px 1px);clip: rect(1px, 1px, 1px, 1px);height: 1px;margin: -1px;overflow: hidden;padding: 0;position: absolute;width: 1px;}#sk-192e20cf-8be0-4bcd-af13-dc814c0c919d div.sk-estimator {font-family: monospace;background-color: #f0f8ff;margin: 0.25em 0.25em;border: 1px dotted black;border-radius: 0.25em;box-sizing: border-box;}#sk-192e20cf-8be0-4bcd-af13-dc814c0c919d div.sk-estimator:hover {background-color: #d4ebff;}#sk-192e20cf-8be0-4bcd-af13-dc814c0c919d div.sk-parallel-item::after {content: \"\";width: 100%;border-bottom: 1px solid gray;flex-grow: 1;}#sk-192e20cf-8be0-4bcd-af13-dc814c0c919d div.sk-label:hover label.sk-toggleable__label {background-color: #d4ebff;}#sk-192e20cf-8be0-4bcd-af13-dc814c0c919d div.sk-serial::before {content: \"\";position: absolute;border-left: 1px solid gray;box-sizing: border-box;top: 2em;bottom: 0;left: 50%;}#sk-192e20cf-8be0-4bcd-af13-dc814c0c919d div.sk-serial {display: flex;flex-direction: column;align-items: center;background-color: white;}#sk-192e20cf-8be0-4bcd-af13-dc814c0c919d div.sk-item {z-index: 1;}#sk-192e20cf-8be0-4bcd-af13-dc814c0c919d div.sk-parallel {display: flex;align-items: stretch;justify-content: center;background-color: white;}#sk-192e20cf-8be0-4bcd-af13-dc814c0c919d div.sk-parallel-item {display: flex;flex-direction: column;position: relative;background-color: white;}#sk-192e20cf-8be0-4bcd-af13-dc814c0c919d div.sk-parallel-item:first-child::after {align-self: flex-end;width: 50%;}#sk-192e20cf-8be0-4bcd-af13-dc814c0c919d div.sk-parallel-item:last-child::after {align-self: flex-start;width: 50%;}#sk-192e20cf-8be0-4bcd-af13-dc814c0c919d div.sk-parallel-item:only-child::after {width: 0;}#sk-192e20cf-8be0-4bcd-af13-dc814c0c919d div.sk-dashed-wrapped {border: 1px dashed gray;margin: 0.2em;box-sizing: border-box;padding-bottom: 0.1em;background-color: white;position: relative;}#sk-192e20cf-8be0-4bcd-af13-dc814c0c919d div.sk-label label {font-family: monospace;font-weight: bold;background-color: white;display: inline-block;line-height: 1.2em;}#sk-192e20cf-8be0-4bcd-af13-dc814c0c919d div.sk-label-container {position: relative;z-index: 2;text-align: center;}#sk-192e20cf-8be0-4bcd-af13-dc814c0c919d div.sk-container {display: inline-block;position: relative;}</style><div id=\"sk-192e20cf-8be0-4bcd-af13-dc814c0c919d\" class\"sk-top-container\"><div class=\"sk-container\"><div class=\"sk-item\"><div class=\"sk-estimator sk-toggleable\"><input class=\"sk-toggleable__control sk-hidden--visually\" id=\"9d7f4fdd-fb1b-46a7-81ee-12798c863ac5\" type=\"checkbox\" checked><label class=\"sk-toggleable__label\" for=\"9d7f4fdd-fb1b-46a7-81ee-12798c863ac5\">SimpleImputer</label><div class=\"sk-toggleable__content\"><pre>SimpleImputer(strategy='most_frequent')</pre></div></div></div></div></div>"
      ],
      "text/plain": [
       "SimpleImputer(strategy='most_frequent')"
      ]
     },
     "execution_count": 11,
     "metadata": {},
     "output_type": "execute_result"
    }
   ],
   "source": [
    "from sklearn.impute import SimpleImputer\n",
    "\n",
    "\n",
    "imputer_cat = SimpleImputer(strategy=\"most_frequent\")\n",
    "imputer_cat.fit(X_train[cat_var])"
   ]
  },
  {
   "cell_type": "code",
   "execution_count": 12,
   "id": "3d5c0be6",
   "metadata": {},
   "outputs": [
    {
     "data": {
      "text/html": [
       "<style>#sk-f2481537-8a45-4fa4-83b7-a221b1e17c95 {color: black;background-color: white;}#sk-f2481537-8a45-4fa4-83b7-a221b1e17c95 pre{padding: 0;}#sk-f2481537-8a45-4fa4-83b7-a221b1e17c95 div.sk-toggleable {background-color: white;}#sk-f2481537-8a45-4fa4-83b7-a221b1e17c95 label.sk-toggleable__label {cursor: pointer;display: block;width: 100%;margin-bottom: 0;padding: 0.2em 0.3em;box-sizing: border-box;text-align: center;}#sk-f2481537-8a45-4fa4-83b7-a221b1e17c95 div.sk-toggleable__content {max-height: 0;max-width: 0;overflow: hidden;text-align: left;background-color: #f0f8ff;}#sk-f2481537-8a45-4fa4-83b7-a221b1e17c95 div.sk-toggleable__content pre {margin: 0.2em;color: black;border-radius: 0.25em;background-color: #f0f8ff;}#sk-f2481537-8a45-4fa4-83b7-a221b1e17c95 input.sk-toggleable__control:checked~div.sk-toggleable__content {max-height: 200px;max-width: 100%;overflow: auto;}#sk-f2481537-8a45-4fa4-83b7-a221b1e17c95 div.sk-estimator input.sk-toggleable__control:checked~label.sk-toggleable__label {background-color: #d4ebff;}#sk-f2481537-8a45-4fa4-83b7-a221b1e17c95 div.sk-label input.sk-toggleable__control:checked~label.sk-toggleable__label {background-color: #d4ebff;}#sk-f2481537-8a45-4fa4-83b7-a221b1e17c95 input.sk-hidden--visually {border: 0;clip: rect(1px 1px 1px 1px);clip: rect(1px, 1px, 1px, 1px);height: 1px;margin: -1px;overflow: hidden;padding: 0;position: absolute;width: 1px;}#sk-f2481537-8a45-4fa4-83b7-a221b1e17c95 div.sk-estimator {font-family: monospace;background-color: #f0f8ff;margin: 0.25em 0.25em;border: 1px dotted black;border-radius: 0.25em;box-sizing: border-box;}#sk-f2481537-8a45-4fa4-83b7-a221b1e17c95 div.sk-estimator:hover {background-color: #d4ebff;}#sk-f2481537-8a45-4fa4-83b7-a221b1e17c95 div.sk-parallel-item::after {content: \"\";width: 100%;border-bottom: 1px solid gray;flex-grow: 1;}#sk-f2481537-8a45-4fa4-83b7-a221b1e17c95 div.sk-label:hover label.sk-toggleable__label {background-color: #d4ebff;}#sk-f2481537-8a45-4fa4-83b7-a221b1e17c95 div.sk-serial::before {content: \"\";position: absolute;border-left: 1px solid gray;box-sizing: border-box;top: 2em;bottom: 0;left: 50%;}#sk-f2481537-8a45-4fa4-83b7-a221b1e17c95 div.sk-serial {display: flex;flex-direction: column;align-items: center;background-color: white;}#sk-f2481537-8a45-4fa4-83b7-a221b1e17c95 div.sk-item {z-index: 1;}#sk-f2481537-8a45-4fa4-83b7-a221b1e17c95 div.sk-parallel {display: flex;align-items: stretch;justify-content: center;background-color: white;}#sk-f2481537-8a45-4fa4-83b7-a221b1e17c95 div.sk-parallel-item {display: flex;flex-direction: column;position: relative;background-color: white;}#sk-f2481537-8a45-4fa4-83b7-a221b1e17c95 div.sk-parallel-item:first-child::after {align-self: flex-end;width: 50%;}#sk-f2481537-8a45-4fa4-83b7-a221b1e17c95 div.sk-parallel-item:last-child::after {align-self: flex-start;width: 50%;}#sk-f2481537-8a45-4fa4-83b7-a221b1e17c95 div.sk-parallel-item:only-child::after {width: 0;}#sk-f2481537-8a45-4fa4-83b7-a221b1e17c95 div.sk-dashed-wrapped {border: 1px dashed gray;margin: 0.2em;box-sizing: border-box;padding-bottom: 0.1em;background-color: white;position: relative;}#sk-f2481537-8a45-4fa4-83b7-a221b1e17c95 div.sk-label label {font-family: monospace;font-weight: bold;background-color: white;display: inline-block;line-height: 1.2em;}#sk-f2481537-8a45-4fa4-83b7-a221b1e17c95 div.sk-label-container {position: relative;z-index: 2;text-align: center;}#sk-f2481537-8a45-4fa4-83b7-a221b1e17c95 div.sk-container {display: inline-block;position: relative;}</style><div id=\"sk-f2481537-8a45-4fa4-83b7-a221b1e17c95\" class\"sk-top-container\"><div class=\"sk-container\"><div class=\"sk-item\"><div class=\"sk-estimator sk-toggleable\"><input class=\"sk-toggleable__control sk-hidden--visually\" id=\"601b769f-c3e3-4585-901a-548396c9c656\" type=\"checkbox\" checked><label class=\"sk-toggleable__label\" for=\"601b769f-c3e3-4585-901a-548396c9c656\">SimpleImputer</label><div class=\"sk-toggleable__content\"><pre>SimpleImputer(strategy='median')</pre></div></div></div></div></div>"
      ],
      "text/plain": [
       "SimpleImputer(strategy='median')"
      ]
     },
     "execution_count": 12,
     "metadata": {},
     "output_type": "execute_result"
    }
   ],
   "source": [
    "imputer_num = SimpleImputer(strategy=\"median\")\n",
    "imputer_num.fit(X_train[num_var])"
   ]
  },
  {
   "cell_type": "code",
   "execution_count": 13,
   "id": "e5cbf7df",
   "metadata": {},
   "outputs": [
    {
     "data": {
      "text/html": [
       "<style>#sk-6d69db5f-3677-4bc1-9443-e69e0c9a2fd0 {color: black;background-color: white;}#sk-6d69db5f-3677-4bc1-9443-e69e0c9a2fd0 pre{padding: 0;}#sk-6d69db5f-3677-4bc1-9443-e69e0c9a2fd0 div.sk-toggleable {background-color: white;}#sk-6d69db5f-3677-4bc1-9443-e69e0c9a2fd0 label.sk-toggleable__label {cursor: pointer;display: block;width: 100%;margin-bottom: 0;padding: 0.2em 0.3em;box-sizing: border-box;text-align: center;}#sk-6d69db5f-3677-4bc1-9443-e69e0c9a2fd0 div.sk-toggleable__content {max-height: 0;max-width: 0;overflow: hidden;text-align: left;background-color: #f0f8ff;}#sk-6d69db5f-3677-4bc1-9443-e69e0c9a2fd0 div.sk-toggleable__content pre {margin: 0.2em;color: black;border-radius: 0.25em;background-color: #f0f8ff;}#sk-6d69db5f-3677-4bc1-9443-e69e0c9a2fd0 input.sk-toggleable__control:checked~div.sk-toggleable__content {max-height: 200px;max-width: 100%;overflow: auto;}#sk-6d69db5f-3677-4bc1-9443-e69e0c9a2fd0 div.sk-estimator input.sk-toggleable__control:checked~label.sk-toggleable__label {background-color: #d4ebff;}#sk-6d69db5f-3677-4bc1-9443-e69e0c9a2fd0 div.sk-label input.sk-toggleable__control:checked~label.sk-toggleable__label {background-color: #d4ebff;}#sk-6d69db5f-3677-4bc1-9443-e69e0c9a2fd0 input.sk-hidden--visually {border: 0;clip: rect(1px 1px 1px 1px);clip: rect(1px, 1px, 1px, 1px);height: 1px;margin: -1px;overflow: hidden;padding: 0;position: absolute;width: 1px;}#sk-6d69db5f-3677-4bc1-9443-e69e0c9a2fd0 div.sk-estimator {font-family: monospace;background-color: #f0f8ff;margin: 0.25em 0.25em;border: 1px dotted black;border-radius: 0.25em;box-sizing: border-box;}#sk-6d69db5f-3677-4bc1-9443-e69e0c9a2fd0 div.sk-estimator:hover {background-color: #d4ebff;}#sk-6d69db5f-3677-4bc1-9443-e69e0c9a2fd0 div.sk-parallel-item::after {content: \"\";width: 100%;border-bottom: 1px solid gray;flex-grow: 1;}#sk-6d69db5f-3677-4bc1-9443-e69e0c9a2fd0 div.sk-label:hover label.sk-toggleable__label {background-color: #d4ebff;}#sk-6d69db5f-3677-4bc1-9443-e69e0c9a2fd0 div.sk-serial::before {content: \"\";position: absolute;border-left: 1px solid gray;box-sizing: border-box;top: 2em;bottom: 0;left: 50%;}#sk-6d69db5f-3677-4bc1-9443-e69e0c9a2fd0 div.sk-serial {display: flex;flex-direction: column;align-items: center;background-color: white;}#sk-6d69db5f-3677-4bc1-9443-e69e0c9a2fd0 div.sk-item {z-index: 1;}#sk-6d69db5f-3677-4bc1-9443-e69e0c9a2fd0 div.sk-parallel {display: flex;align-items: stretch;justify-content: center;background-color: white;}#sk-6d69db5f-3677-4bc1-9443-e69e0c9a2fd0 div.sk-parallel-item {display: flex;flex-direction: column;position: relative;background-color: white;}#sk-6d69db5f-3677-4bc1-9443-e69e0c9a2fd0 div.sk-parallel-item:first-child::after {align-self: flex-end;width: 50%;}#sk-6d69db5f-3677-4bc1-9443-e69e0c9a2fd0 div.sk-parallel-item:last-child::after {align-self: flex-start;width: 50%;}#sk-6d69db5f-3677-4bc1-9443-e69e0c9a2fd0 div.sk-parallel-item:only-child::after {width: 0;}#sk-6d69db5f-3677-4bc1-9443-e69e0c9a2fd0 div.sk-dashed-wrapped {border: 1px dashed gray;margin: 0.2em;box-sizing: border-box;padding-bottom: 0.1em;background-color: white;position: relative;}#sk-6d69db5f-3677-4bc1-9443-e69e0c9a2fd0 div.sk-label label {font-family: monospace;font-weight: bold;background-color: white;display: inline-block;line-height: 1.2em;}#sk-6d69db5f-3677-4bc1-9443-e69e0c9a2fd0 div.sk-label-container {position: relative;z-index: 2;text-align: center;}#sk-6d69db5f-3677-4bc1-9443-e69e0c9a2fd0 div.sk-container {display: inline-block;position: relative;}</style><div id=\"sk-6d69db5f-3677-4bc1-9443-e69e0c9a2fd0\" class\"sk-top-container\"><div class=\"sk-container\"><div class=\"sk-item\"><div class=\"sk-estimator sk-toggleable\"><input class=\"sk-toggleable__control sk-hidden--visually\" id=\"3f20c94c-2b43-4aa3-bd01-8684ebc49fb8\" type=\"checkbox\" checked><label class=\"sk-toggleable__label\" for=\"3f20c94c-2b43-4aa3-bd01-8684ebc49fb8\">StandardScaler</label><div class=\"sk-toggleable__content\"><pre>StandardScaler()</pre></div></div></div></div></div>"
      ],
      "text/plain": [
       "StandardScaler()"
      ]
     },
     "execution_count": 13,
     "metadata": {},
     "output_type": "execute_result"
    }
   ],
   "source": [
    "from sklearn.preprocessing import StandardScaler\n",
    "\n",
    "scaler = StandardScaler()\n",
    "scaler.fit(X_train[num_var])"
   ]
  },
  {
   "cell_type": "code",
   "execution_count": 14,
   "id": "964be20d",
   "metadata": {},
   "outputs": [],
   "source": [
    "X_train[num_var] = scaler.transform(X_train[num_var])\n",
    "X_train[num_var] = imputer_num.transform(X_train[num_var])\n",
    "X_train[cat_var] = imputer_cat.transform(X_train[cat_var])"
   ]
  },
  {
   "cell_type": "code",
   "execution_count": 15,
   "id": "574b3908",
   "metadata": {},
   "outputs": [],
   "source": [
    "from sklearn.preprocessing import OneHotEncoder\n",
    "\n",
    "enc = OneHotEncoder()\n",
    "enc.fit(X_train[cat_var])\n",
    "X_train = enc.transform(X_train[cat_var])"
   ]
  },
  {
   "cell_type": "markdown",
   "id": "10b913ba",
   "metadata": {},
   "source": [
    "### Création du modèle de base"
   ]
  },
  {
   "cell_type": "code",
   "execution_count": 16,
   "id": "d0e52a88",
   "metadata": {
    "scrolled": true
   },
   "outputs": [
    {
     "data": {
      "text/html": [
       "<style>#sk-99c62f38-4598-41f3-bbe8-eab6b9bf7ffe {color: black;background-color: white;}#sk-99c62f38-4598-41f3-bbe8-eab6b9bf7ffe pre{padding: 0;}#sk-99c62f38-4598-41f3-bbe8-eab6b9bf7ffe div.sk-toggleable {background-color: white;}#sk-99c62f38-4598-41f3-bbe8-eab6b9bf7ffe label.sk-toggleable__label {cursor: pointer;display: block;width: 100%;margin-bottom: 0;padding: 0.2em 0.3em;box-sizing: border-box;text-align: center;}#sk-99c62f38-4598-41f3-bbe8-eab6b9bf7ffe div.sk-toggleable__content {max-height: 0;max-width: 0;overflow: hidden;text-align: left;background-color: #f0f8ff;}#sk-99c62f38-4598-41f3-bbe8-eab6b9bf7ffe div.sk-toggleable__content pre {margin: 0.2em;color: black;border-radius: 0.25em;background-color: #f0f8ff;}#sk-99c62f38-4598-41f3-bbe8-eab6b9bf7ffe input.sk-toggleable__control:checked~div.sk-toggleable__content {max-height: 200px;max-width: 100%;overflow: auto;}#sk-99c62f38-4598-41f3-bbe8-eab6b9bf7ffe div.sk-estimator input.sk-toggleable__control:checked~label.sk-toggleable__label {background-color: #d4ebff;}#sk-99c62f38-4598-41f3-bbe8-eab6b9bf7ffe div.sk-label input.sk-toggleable__control:checked~label.sk-toggleable__label {background-color: #d4ebff;}#sk-99c62f38-4598-41f3-bbe8-eab6b9bf7ffe input.sk-hidden--visually {border: 0;clip: rect(1px 1px 1px 1px);clip: rect(1px, 1px, 1px, 1px);height: 1px;margin: -1px;overflow: hidden;padding: 0;position: absolute;width: 1px;}#sk-99c62f38-4598-41f3-bbe8-eab6b9bf7ffe div.sk-estimator {font-family: monospace;background-color: #f0f8ff;margin: 0.25em 0.25em;border: 1px dotted black;border-radius: 0.25em;box-sizing: border-box;}#sk-99c62f38-4598-41f3-bbe8-eab6b9bf7ffe div.sk-estimator:hover {background-color: #d4ebff;}#sk-99c62f38-4598-41f3-bbe8-eab6b9bf7ffe div.sk-parallel-item::after {content: \"\";width: 100%;border-bottom: 1px solid gray;flex-grow: 1;}#sk-99c62f38-4598-41f3-bbe8-eab6b9bf7ffe div.sk-label:hover label.sk-toggleable__label {background-color: #d4ebff;}#sk-99c62f38-4598-41f3-bbe8-eab6b9bf7ffe div.sk-serial::before {content: \"\";position: absolute;border-left: 1px solid gray;box-sizing: border-box;top: 2em;bottom: 0;left: 50%;}#sk-99c62f38-4598-41f3-bbe8-eab6b9bf7ffe div.sk-serial {display: flex;flex-direction: column;align-items: center;background-color: white;}#sk-99c62f38-4598-41f3-bbe8-eab6b9bf7ffe div.sk-item {z-index: 1;}#sk-99c62f38-4598-41f3-bbe8-eab6b9bf7ffe div.sk-parallel {display: flex;align-items: stretch;justify-content: center;background-color: white;}#sk-99c62f38-4598-41f3-bbe8-eab6b9bf7ffe div.sk-parallel-item {display: flex;flex-direction: column;position: relative;background-color: white;}#sk-99c62f38-4598-41f3-bbe8-eab6b9bf7ffe div.sk-parallel-item:first-child::after {align-self: flex-end;width: 50%;}#sk-99c62f38-4598-41f3-bbe8-eab6b9bf7ffe div.sk-parallel-item:last-child::after {align-self: flex-start;width: 50%;}#sk-99c62f38-4598-41f3-bbe8-eab6b9bf7ffe div.sk-parallel-item:only-child::after {width: 0;}#sk-99c62f38-4598-41f3-bbe8-eab6b9bf7ffe div.sk-dashed-wrapped {border: 1px dashed gray;margin: 0.2em;box-sizing: border-box;padding-bottom: 0.1em;background-color: white;position: relative;}#sk-99c62f38-4598-41f3-bbe8-eab6b9bf7ffe div.sk-label label {font-family: monospace;font-weight: bold;background-color: white;display: inline-block;line-height: 1.2em;}#sk-99c62f38-4598-41f3-bbe8-eab6b9bf7ffe div.sk-label-container {position: relative;z-index: 2;text-align: center;}#sk-99c62f38-4598-41f3-bbe8-eab6b9bf7ffe div.sk-container {display: inline-block;position: relative;}</style><div id=\"sk-99c62f38-4598-41f3-bbe8-eab6b9bf7ffe\" class\"sk-top-container\"><div class=\"sk-container\"><div class=\"sk-item\"><div class=\"sk-estimator sk-toggleable\"><input class=\"sk-toggleable__control sk-hidden--visually\" id=\"386b17ca-95d0-40fe-91f6-fdc7cbec1358\" type=\"checkbox\" checked><label class=\"sk-toggleable__label\" for=\"386b17ca-95d0-40fe-91f6-fdc7cbec1358\">LinearRegression</label><div class=\"sk-toggleable__content\"><pre>LinearRegression()</pre></div></div></div></div></div>"
      ],
      "text/plain": [
       "LinearRegression()"
      ]
     },
     "execution_count": 16,
     "metadata": {},
     "output_type": "execute_result"
    }
   ],
   "source": [
    "from sklearn.linear_model import LinearRegression\n",
    "\n",
    "lin_reg = LinearRegression()\n",
    "lin_reg.fit(X_train, y_train)"
   ]
  },
  {
   "cell_type": "markdown",
   "id": "72c1f17a",
   "metadata": {},
   "source": [
    "### Evaluation du modèle avec le jeu de test"
   ]
  },
  {
   "cell_type": "code",
   "execution_count": 17,
   "id": "7b4c88e6",
   "metadata": {},
   "outputs": [],
   "source": [
    "X_test[num_var] = imputer_num.transform(X_test[num_var])\n",
    "X_test[cat_var] = imputer_cat.transform(X_test[cat_var])"
   ]
  },
  {
   "cell_type": "code",
   "execution_count": 18,
   "id": "2f794ff1",
   "metadata": {},
   "outputs": [],
   "source": [
    "X_test = enc.transform(X_test[cat_var])"
   ]
  },
  {
   "cell_type": "code",
   "execution_count": 19,
   "id": "bc52fac1",
   "metadata": {},
   "outputs": [],
   "source": [
    "y_pred = lin_reg.predict(X_test)"
   ]
  },
  {
   "cell_type": "code",
   "execution_count": 20,
   "id": "03a7536c",
   "metadata": {},
   "outputs": [
    {
     "name": "stdout",
     "output_type": "stream",
     "text": [
      "MAE : 0.88197\n",
      "MSE : 1.53538\n",
      "RMSE : 1.23911\n",
      "R² : 0.21679\n"
     ]
    }
   ],
   "source": [
    "regression_metrics(y_test, y_pred)"
   ]
  },
  {
   "cell_type": "markdown",
   "id": "feac23ce",
   "metadata": {},
   "source": [
    "## Choix du modèle le plus performant"
   ]
  },
  {
   "cell_type": "code",
   "execution_count": 21,
   "id": "02455ae4",
   "metadata": {},
   "outputs": [],
   "source": [
    "from sklearn.linear_model import Ridge, Lasso, SGDRegressor\n",
    "from sklearn.tree import DecisionTreeRegressor\n",
    "from sklearn.svm import SVR\n",
    "from sklearn.kernel_ridge import KernelRidge\n",
    "from sklearn.ensemble import AdaBoostRegressor, BaggingRegressor, GradientBoostingRegressor, RandomForestRegressor\n",
    "import xgboost as xgb\n",
    "\n",
    "lin_reg = LinearRegression()\n",
    "ridge = Ridge(random_state=42)\n",
    "lasso = Lasso(random_state=42)\n",
    "sgd_reg = SGDRegressor(random_state=42)\n",
    "dt_reg =  DecisionTreeRegressor(random_state=42)\n",
    "svm_reg = SVR()\n",
    "ridge_kernel = KernelRidge()\n",
    "adaboost = AdaBoostRegressor(random_state=42)\n",
    "bagging = BaggingRegressor(random_state=42)\n",
    "gdboost = GradientBoostingRegressor(random_state=42)\n",
    "rdmforest = RandomForestRegressor(random_state=42)\n",
    "xgboost = xgb.XGBRegressor(random_state=42)"
   ]
  },
  {
   "cell_type": "code",
   "execution_count": 22,
   "id": "fd956402",
   "metadata": {},
   "outputs": [],
   "source": [
    "model = [lin_reg, ridge, lasso, sgd_reg, dt_reg, svm_reg, ridge_kernel, adaboost, bagging, gdboost, rdmforest, xgboost]\n",
    "dict_model = {}\n",
    "\n",
    "for model in model:\n",
    "    model.fit(X_train, y_train)\n",
    "    y_pred = model.predict(X_test)\n",
    "    mae = mean_absolute_error(y_test, y_pred)\n",
    "    mse = mean_squared_error(y_test, y_pred)\n",
    "    rmse = mse ** (1/2)\n",
    "    r_score = r2_score(y_test, y_pred)\n",
    "    dict_model[model] = (mae, mse, rmse, r_score)"
   ]
  },
  {
   "cell_type": "code",
   "execution_count": 23,
   "id": "da39dc04",
   "metadata": {},
   "outputs": [
    {
     "data": {
      "text/html": [
       "<div>\n",
       "<style scoped>\n",
       "    .dataframe tbody tr th:only-of-type {\n",
       "        vertical-align: middle;\n",
       "    }\n",
       "\n",
       "    .dataframe tbody tr th {\n",
       "        vertical-align: top;\n",
       "    }\n",
       "\n",
       "    .dataframe thead th {\n",
       "        text-align: right;\n",
       "    }\n",
       "</style>\n",
       "<table border=\"1\" class=\"dataframe\">\n",
       "  <thead>\n",
       "    <tr style=\"text-align: right;\">\n",
       "      <th></th>\n",
       "      <th>Linear Regression</th>\n",
       "      <th>Ridge</th>\n",
       "      <th>Lasso</th>\n",
       "      <th>SGDRegressor</th>\n",
       "      <th>DecisionTree</th>\n",
       "      <th>SVM</th>\n",
       "      <th>Ridge Kernel</th>\n",
       "      <th>AdaBoost</th>\n",
       "      <th>Bagging</th>\n",
       "      <th>GradientBoosting</th>\n",
       "      <th>Random Forest</th>\n",
       "      <th>XGBoost</th>\n",
       "    </tr>\n",
       "  </thead>\n",
       "  <tbody>\n",
       "    <tr>\n",
       "      <th>MAE</th>\n",
       "      <td>0.881971</td>\n",
       "      <td>0.882088</td>\n",
       "      <td>1.044332</td>\n",
       "      <td>0.909231</td>\n",
       "      <td>0.874902</td>\n",
       "      <td>0.856886</td>\n",
       "      <td>0.889525</td>\n",
       "      <td>1.133803</td>\n",
       "      <td>0.874927</td>\n",
       "      <td>0.866702</td>\n",
       "      <td>0.875727</td>\n",
       "      <td>0.873936</td>\n",
       "    </tr>\n",
       "    <tr>\n",
       "      <th>MSE</th>\n",
       "      <td>1.535382</td>\n",
       "      <td>1.534531</td>\n",
       "      <td>1.974720</td>\n",
       "      <td>1.631074</td>\n",
       "      <td>1.463919</td>\n",
       "      <td>1.486527</td>\n",
       "      <td>1.544304</td>\n",
       "      <td>2.324560</td>\n",
       "      <td>1.453389</td>\n",
       "      <td>1.472891</td>\n",
       "      <td>1.457998</td>\n",
       "      <td>1.461424</td>\n",
       "    </tr>\n",
       "    <tr>\n",
       "      <th>RMSE</th>\n",
       "      <td>1.239105</td>\n",
       "      <td>1.238762</td>\n",
       "      <td>1.405247</td>\n",
       "      <td>1.277135</td>\n",
       "      <td>1.209925</td>\n",
       "      <td>1.219232</td>\n",
       "      <td>1.242700</td>\n",
       "      <td>1.524651</td>\n",
       "      <td>1.205566</td>\n",
       "      <td>1.213627</td>\n",
       "      <td>1.207476</td>\n",
       "      <td>1.208894</td>\n",
       "    </tr>\n",
       "    <tr>\n",
       "      <th>R²</th>\n",
       "      <td>0.216786</td>\n",
       "      <td>0.217220</td>\n",
       "      <td>-0.007326</td>\n",
       "      <td>0.167972</td>\n",
       "      <td>0.253240</td>\n",
       "      <td>0.241707</td>\n",
       "      <td>0.212234</td>\n",
       "      <td>-0.185782</td>\n",
       "      <td>0.258611</td>\n",
       "      <td>0.248663</td>\n",
       "      <td>0.256260</td>\n",
       "      <td>0.254512</td>\n",
       "    </tr>\n",
       "  </tbody>\n",
       "</table>\n",
       "</div>"
      ],
      "text/plain": [
       "      Linear Regression     Ridge     Lasso  SGDRegressor  DecisionTree  \\\n",
       "MAE            0.881971  0.882088  1.044332      0.909231      0.874902   \n",
       "MSE            1.535382  1.534531  1.974720      1.631074      1.463919   \n",
       "RMSE           1.239105  1.238762  1.405247      1.277135      1.209925   \n",
       "R²             0.216786  0.217220 -0.007326      0.167972      0.253240   \n",
       "\n",
       "           SVM  Ridge Kernel  AdaBoost   Bagging  GradientBoosting  \\\n",
       "MAE   0.856886      0.889525  1.133803  0.874927          0.866702   \n",
       "MSE   1.486527      1.544304  2.324560  1.453389          1.472891   \n",
       "RMSE  1.219232      1.242700  1.524651  1.205566          1.213627   \n",
       "R²    0.241707      0.212234 -0.185782  0.258611          0.248663   \n",
       "\n",
       "      Random Forest   XGBoost  \n",
       "MAE        0.875727  0.873936  \n",
       "MSE        1.457998  1.461424  \n",
       "RMSE       1.207476  1.208894  \n",
       "R²         0.256260  0.254512  "
      ]
     },
     "execution_count": 23,
     "metadata": {},
     "output_type": "execute_result"
    }
   ],
   "source": [
    "eval_model = pd.DataFrame(dict_model, index=[\"MAE\", \"MSE\", \"RMSE\", \"R²\"])\n",
    "eval_model.columns = [\"Linear Regression\", \"Ridge\", \"Lasso\", \"SGDRegressor\", \"DecisionTree\", \"SVM\", \"Ridge Kernel\",\n",
    "                      \"AdaBoost\", \"Bagging\", \"GradientBoosting\", \"Random Forest\", \"XGBoost\"]\n",
    "\n",
    "eval_model"
   ]
  },
  {
   "cell_type": "markdown",
   "id": "8ccbe2b6",
   "metadata": {},
   "source": [
    "**Choix du modèle :** RandomForest"
   ]
  },
  {
   "cell_type": "markdown",
   "id": "6002ae1c",
   "metadata": {},
   "source": [
    "## Choix des hyperparamètres"
   ]
  },
  {
   "cell_type": "code",
   "execution_count": 24,
   "id": "09f061c3",
   "metadata": {},
   "outputs": [],
   "source": [
    "forest_reg = RandomForestRegressor(random_state=42)"
   ]
  },
  {
   "cell_type": "code",
   "execution_count": 25,
   "id": "07d89014",
   "metadata": {},
   "outputs": [
    {
     "data": {
      "text/html": [
       "<style>#sk-ba640d6e-ecb0-4b88-9d1b-5dc2945347f5 {color: black;background-color: white;}#sk-ba640d6e-ecb0-4b88-9d1b-5dc2945347f5 pre{padding: 0;}#sk-ba640d6e-ecb0-4b88-9d1b-5dc2945347f5 div.sk-toggleable {background-color: white;}#sk-ba640d6e-ecb0-4b88-9d1b-5dc2945347f5 label.sk-toggleable__label {cursor: pointer;display: block;width: 100%;margin-bottom: 0;padding: 0.2em 0.3em;box-sizing: border-box;text-align: center;}#sk-ba640d6e-ecb0-4b88-9d1b-5dc2945347f5 div.sk-toggleable__content {max-height: 0;max-width: 0;overflow: hidden;text-align: left;background-color: #f0f8ff;}#sk-ba640d6e-ecb0-4b88-9d1b-5dc2945347f5 div.sk-toggleable__content pre {margin: 0.2em;color: black;border-radius: 0.25em;background-color: #f0f8ff;}#sk-ba640d6e-ecb0-4b88-9d1b-5dc2945347f5 input.sk-toggleable__control:checked~div.sk-toggleable__content {max-height: 200px;max-width: 100%;overflow: auto;}#sk-ba640d6e-ecb0-4b88-9d1b-5dc2945347f5 div.sk-estimator input.sk-toggleable__control:checked~label.sk-toggleable__label {background-color: #d4ebff;}#sk-ba640d6e-ecb0-4b88-9d1b-5dc2945347f5 div.sk-label input.sk-toggleable__control:checked~label.sk-toggleable__label {background-color: #d4ebff;}#sk-ba640d6e-ecb0-4b88-9d1b-5dc2945347f5 input.sk-hidden--visually {border: 0;clip: rect(1px 1px 1px 1px);clip: rect(1px, 1px, 1px, 1px);height: 1px;margin: -1px;overflow: hidden;padding: 0;position: absolute;width: 1px;}#sk-ba640d6e-ecb0-4b88-9d1b-5dc2945347f5 div.sk-estimator {font-family: monospace;background-color: #f0f8ff;margin: 0.25em 0.25em;border: 1px dotted black;border-radius: 0.25em;box-sizing: border-box;}#sk-ba640d6e-ecb0-4b88-9d1b-5dc2945347f5 div.sk-estimator:hover {background-color: #d4ebff;}#sk-ba640d6e-ecb0-4b88-9d1b-5dc2945347f5 div.sk-parallel-item::after {content: \"\";width: 100%;border-bottom: 1px solid gray;flex-grow: 1;}#sk-ba640d6e-ecb0-4b88-9d1b-5dc2945347f5 div.sk-label:hover label.sk-toggleable__label {background-color: #d4ebff;}#sk-ba640d6e-ecb0-4b88-9d1b-5dc2945347f5 div.sk-serial::before {content: \"\";position: absolute;border-left: 1px solid gray;box-sizing: border-box;top: 2em;bottom: 0;left: 50%;}#sk-ba640d6e-ecb0-4b88-9d1b-5dc2945347f5 div.sk-serial {display: flex;flex-direction: column;align-items: center;background-color: white;}#sk-ba640d6e-ecb0-4b88-9d1b-5dc2945347f5 div.sk-item {z-index: 1;}#sk-ba640d6e-ecb0-4b88-9d1b-5dc2945347f5 div.sk-parallel {display: flex;align-items: stretch;justify-content: center;background-color: white;}#sk-ba640d6e-ecb0-4b88-9d1b-5dc2945347f5 div.sk-parallel-item {display: flex;flex-direction: column;position: relative;background-color: white;}#sk-ba640d6e-ecb0-4b88-9d1b-5dc2945347f5 div.sk-parallel-item:first-child::after {align-self: flex-end;width: 50%;}#sk-ba640d6e-ecb0-4b88-9d1b-5dc2945347f5 div.sk-parallel-item:last-child::after {align-self: flex-start;width: 50%;}#sk-ba640d6e-ecb0-4b88-9d1b-5dc2945347f5 div.sk-parallel-item:only-child::after {width: 0;}#sk-ba640d6e-ecb0-4b88-9d1b-5dc2945347f5 div.sk-dashed-wrapped {border: 1px dashed gray;margin: 0.2em;box-sizing: border-box;padding-bottom: 0.1em;background-color: white;position: relative;}#sk-ba640d6e-ecb0-4b88-9d1b-5dc2945347f5 div.sk-label label {font-family: monospace;font-weight: bold;background-color: white;display: inline-block;line-height: 1.2em;}#sk-ba640d6e-ecb0-4b88-9d1b-5dc2945347f5 div.sk-label-container {position: relative;z-index: 2;text-align: center;}#sk-ba640d6e-ecb0-4b88-9d1b-5dc2945347f5 div.sk-container {display: inline-block;position: relative;}</style><div id=\"sk-ba640d6e-ecb0-4b88-9d1b-5dc2945347f5\" class\"sk-top-container\"><div class=\"sk-container\"><div class=\"sk-item sk-dashed-wrapped\"><div class=\"sk-label-container\"><div class=\"sk-label sk-toggleable\"><input class=\"sk-toggleable__control sk-hidden--visually\" id=\"5045ed33-d646-4891-bb2d-62f87bb2d466\" type=\"checkbox\" ><label class=\"sk-toggleable__label\" for=\"5045ed33-d646-4891-bb2d-62f87bb2d466\">RandomizedSearchCV</label><div class=\"sk-toggleable__content\"><pre>RandomizedSearchCV(cv=5, estimator=RandomForestRegressor(random_state=42),\n",
       "                   param_distributions={'max_features': <scipy.stats._distn_infrastructure.rv_frozen object at 0x000001CAFD13C9D0>,\n",
       "                                        'n_estimators': <scipy.stats._distn_infrastructure.rv_frozen object at 0x000001CAFD13C4C0>},\n",
       "                   random_state=42, scoring='neg_mean_squared_error')</pre></div></div></div><div class=\"sk-parallel\"><div class=\"sk-parallel-item\"><div class=\"sk-item\"><div class=\"sk-serial\"><div class=\"sk-item\"><div class=\"sk-estimator sk-toggleable\"><input class=\"sk-toggleable__control sk-hidden--visually\" id=\"16cccd6b-e819-4c95-aec3-efd3196940b5\" type=\"checkbox\" ><label class=\"sk-toggleable__label\" for=\"16cccd6b-e819-4c95-aec3-efd3196940b5\">RandomForestRegressor</label><div class=\"sk-toggleable__content\"><pre>RandomForestRegressor(random_state=42)</pre></div></div></div></div></div></div></div></div></div></div>"
      ],
      "text/plain": [
       "RandomizedSearchCV(cv=5, estimator=RandomForestRegressor(random_state=42),\n",
       "                   param_distributions={'max_features': <scipy.stats._distn_infrastructure.rv_frozen object at 0x000001CAFD13C9D0>,\n",
       "                                        'n_estimators': <scipy.stats._distn_infrastructure.rv_frozen object at 0x000001CAFD13C4C0>},\n",
       "                   random_state=42, scoring='neg_mean_squared_error')"
      ]
     },
     "execution_count": 25,
     "metadata": {},
     "output_type": "execute_result"
    }
   ],
   "source": [
    "from sklearn.model_selection import RandomizedSearchCV\n",
    "from scipy.stats import randint\n",
    "\n",
    "param_distribs = {\n",
    "        'n_estimators': randint(low=1, high=500),\n",
    "        'max_features': randint(low=1, high=6),\n",
    "    }\n",
    "\n",
    "random_search = RandomizedSearchCV(forest_reg, param_distributions=param_distribs,\n",
    "                             n_iter=10, cv=5, scoring='neg_mean_squared_error', random_state=42)\n",
    "random_search.fit(X_train, y_train)"
   ]
  },
  {
   "cell_type": "code",
   "execution_count": 26,
   "id": "440cf50d",
   "metadata": {},
   "outputs": [
    {
     "name": "stdout",
     "output_type": "stream",
     "text": [
      "1.3174544361602065 {'max_features': 4, 'n_estimators': 349}\n",
      "1.3168536906482322 {'max_features': 3, 'n_estimators': 72}\n",
      "1.3175000008929365 {'max_features': 5, 'n_estimators': 21}\n",
      "1.317931193530902 {'max_features': 2, 'n_estimators': 467}\n",
      "1.31770683936195 {'max_features': 3, 'n_estimators': 459}\n",
      "1.3163801332336158 {'max_features': 5, 'n_estimators': 100}\n",
      "1.3167304080880127 {'max_features': 3, 'n_estimators': 150}\n",
      "1.317276979516911 {'max_features': 5, 'n_estimators': 258}\n",
      "1.3178607787980094 {'max_features': 4, 'n_estimators': 414}\n",
      "1.318314460550182 {'max_features': 2, 'n_estimators': 192}\n"
     ]
    }
   ],
   "source": [
    "cvres = random_search.cv_results_\n",
    "for mean_score, params in zip(cvres[\"mean_test_score\"], cvres[\"params\"]):\n",
    "    print(np.sqrt(-mean_score), params)"
   ]
  },
  {
   "cell_type": "code",
   "execution_count": 27,
   "id": "a3774fef",
   "metadata": {},
   "outputs": [
    {
     "data": {
      "text/html": [
       "<style>#sk-cd6dda69-ffaf-45e0-b603-bb3843e8492d {color: black;background-color: white;}#sk-cd6dda69-ffaf-45e0-b603-bb3843e8492d pre{padding: 0;}#sk-cd6dda69-ffaf-45e0-b603-bb3843e8492d div.sk-toggleable {background-color: white;}#sk-cd6dda69-ffaf-45e0-b603-bb3843e8492d label.sk-toggleable__label {cursor: pointer;display: block;width: 100%;margin-bottom: 0;padding: 0.2em 0.3em;box-sizing: border-box;text-align: center;}#sk-cd6dda69-ffaf-45e0-b603-bb3843e8492d div.sk-toggleable__content {max-height: 0;max-width: 0;overflow: hidden;text-align: left;background-color: #f0f8ff;}#sk-cd6dda69-ffaf-45e0-b603-bb3843e8492d div.sk-toggleable__content pre {margin: 0.2em;color: black;border-radius: 0.25em;background-color: #f0f8ff;}#sk-cd6dda69-ffaf-45e0-b603-bb3843e8492d input.sk-toggleable__control:checked~div.sk-toggleable__content {max-height: 200px;max-width: 100%;overflow: auto;}#sk-cd6dda69-ffaf-45e0-b603-bb3843e8492d div.sk-estimator input.sk-toggleable__control:checked~label.sk-toggleable__label {background-color: #d4ebff;}#sk-cd6dda69-ffaf-45e0-b603-bb3843e8492d div.sk-label input.sk-toggleable__control:checked~label.sk-toggleable__label {background-color: #d4ebff;}#sk-cd6dda69-ffaf-45e0-b603-bb3843e8492d input.sk-hidden--visually {border: 0;clip: rect(1px 1px 1px 1px);clip: rect(1px, 1px, 1px, 1px);height: 1px;margin: -1px;overflow: hidden;padding: 0;position: absolute;width: 1px;}#sk-cd6dda69-ffaf-45e0-b603-bb3843e8492d div.sk-estimator {font-family: monospace;background-color: #f0f8ff;margin: 0.25em 0.25em;border: 1px dotted black;border-radius: 0.25em;box-sizing: border-box;}#sk-cd6dda69-ffaf-45e0-b603-bb3843e8492d div.sk-estimator:hover {background-color: #d4ebff;}#sk-cd6dda69-ffaf-45e0-b603-bb3843e8492d div.sk-parallel-item::after {content: \"\";width: 100%;border-bottom: 1px solid gray;flex-grow: 1;}#sk-cd6dda69-ffaf-45e0-b603-bb3843e8492d div.sk-label:hover label.sk-toggleable__label {background-color: #d4ebff;}#sk-cd6dda69-ffaf-45e0-b603-bb3843e8492d div.sk-serial::before {content: \"\";position: absolute;border-left: 1px solid gray;box-sizing: border-box;top: 2em;bottom: 0;left: 50%;}#sk-cd6dda69-ffaf-45e0-b603-bb3843e8492d div.sk-serial {display: flex;flex-direction: column;align-items: center;background-color: white;}#sk-cd6dda69-ffaf-45e0-b603-bb3843e8492d div.sk-item {z-index: 1;}#sk-cd6dda69-ffaf-45e0-b603-bb3843e8492d div.sk-parallel {display: flex;align-items: stretch;justify-content: center;background-color: white;}#sk-cd6dda69-ffaf-45e0-b603-bb3843e8492d div.sk-parallel-item {display: flex;flex-direction: column;position: relative;background-color: white;}#sk-cd6dda69-ffaf-45e0-b603-bb3843e8492d div.sk-parallel-item:first-child::after {align-self: flex-end;width: 50%;}#sk-cd6dda69-ffaf-45e0-b603-bb3843e8492d div.sk-parallel-item:last-child::after {align-self: flex-start;width: 50%;}#sk-cd6dda69-ffaf-45e0-b603-bb3843e8492d div.sk-parallel-item:only-child::after {width: 0;}#sk-cd6dda69-ffaf-45e0-b603-bb3843e8492d div.sk-dashed-wrapped {border: 1px dashed gray;margin: 0.2em;box-sizing: border-box;padding-bottom: 0.1em;background-color: white;position: relative;}#sk-cd6dda69-ffaf-45e0-b603-bb3843e8492d div.sk-label label {font-family: monospace;font-weight: bold;background-color: white;display: inline-block;line-height: 1.2em;}#sk-cd6dda69-ffaf-45e0-b603-bb3843e8492d div.sk-label-container {position: relative;z-index: 2;text-align: center;}#sk-cd6dda69-ffaf-45e0-b603-bb3843e8492d div.sk-container {display: inline-block;position: relative;}</style><div id=\"sk-cd6dda69-ffaf-45e0-b603-bb3843e8492d\" class\"sk-top-container\"><div class=\"sk-container\"><div class=\"sk-item sk-dashed-wrapped\"><div class=\"sk-label-container\"><div class=\"sk-label sk-toggleable\"><input class=\"sk-toggleable__control sk-hidden--visually\" id=\"84172242-62fa-4adb-a4e8-6868e8ae228f\" type=\"checkbox\" ><label class=\"sk-toggleable__label\" for=\"84172242-62fa-4adb-a4e8-6868e8ae228f\">GridSearchCV</label><div class=\"sk-toggleable__content\"><pre>GridSearchCV(cv=5, estimator=RandomForestRegressor(random_state=42),\n",
       "             param_grid=[{'max_features': [3, 5],\n",
       "                          'n_estimators': [90, 100, 110, 120, 130, 140, 150]}],\n",
       "             scoring='neg_mean_squared_error')</pre></div></div></div><div class=\"sk-parallel\"><div class=\"sk-parallel-item\"><div class=\"sk-item\"><div class=\"sk-serial\"><div class=\"sk-item\"><div class=\"sk-estimator sk-toggleable\"><input class=\"sk-toggleable__control sk-hidden--visually\" id=\"252c1ee0-cbae-4d50-ba70-f42516c3335e\" type=\"checkbox\" ><label class=\"sk-toggleable__label\" for=\"252c1ee0-cbae-4d50-ba70-f42516c3335e\">RandomForestRegressor</label><div class=\"sk-toggleable__content\"><pre>RandomForestRegressor(random_state=42)</pre></div></div></div></div></div></div></div></div></div></div>"
      ],
      "text/plain": [
       "GridSearchCV(cv=5, estimator=RandomForestRegressor(random_state=42),\n",
       "             param_grid=[{'max_features': [3, 5],\n",
       "                          'n_estimators': [90, 100, 110, 120, 130, 140, 150]}],\n",
       "             scoring='neg_mean_squared_error')"
      ]
     },
     "execution_count": 27,
     "metadata": {},
     "output_type": "execute_result"
    }
   ],
   "source": [
    "from sklearn.model_selection import GridSearchCV\n",
    "\n",
    "params = [{'n_estimators' : [90, 100, 110, 120, 130, 140, 150],\n",
    "           'max_features' : [3, 5]}]\n",
    "\n",
    "grid_search = GridSearchCV(forest_reg, params, cv=5,\n",
    "                           scoring='neg_mean_squared_error')\n",
    "\n",
    "grid_search.fit(X_train, y_train)"
   ]
  },
  {
   "cell_type": "code",
   "execution_count": 28,
   "id": "6c4f486a",
   "metadata": {},
   "outputs": [
    {
     "data": {
      "text/plain": [
       "{'max_features': 3, 'n_estimators': 130}"
      ]
     },
     "execution_count": 28,
     "metadata": {},
     "output_type": "execute_result"
    }
   ],
   "source": [
    "grid_search.best_params_"
   ]
  },
  {
   "cell_type": "code",
   "execution_count": 29,
   "id": "46de431f",
   "metadata": {},
   "outputs": [
    {
     "data": {
      "text/html": [
       "<style>#sk-ea578ed1-6a80-4632-8bdf-86211ecf76f9 {color: black;background-color: white;}#sk-ea578ed1-6a80-4632-8bdf-86211ecf76f9 pre{padding: 0;}#sk-ea578ed1-6a80-4632-8bdf-86211ecf76f9 div.sk-toggleable {background-color: white;}#sk-ea578ed1-6a80-4632-8bdf-86211ecf76f9 label.sk-toggleable__label {cursor: pointer;display: block;width: 100%;margin-bottom: 0;padding: 0.2em 0.3em;box-sizing: border-box;text-align: center;}#sk-ea578ed1-6a80-4632-8bdf-86211ecf76f9 div.sk-toggleable__content {max-height: 0;max-width: 0;overflow: hidden;text-align: left;background-color: #f0f8ff;}#sk-ea578ed1-6a80-4632-8bdf-86211ecf76f9 div.sk-toggleable__content pre {margin: 0.2em;color: black;border-radius: 0.25em;background-color: #f0f8ff;}#sk-ea578ed1-6a80-4632-8bdf-86211ecf76f9 input.sk-toggleable__control:checked~div.sk-toggleable__content {max-height: 200px;max-width: 100%;overflow: auto;}#sk-ea578ed1-6a80-4632-8bdf-86211ecf76f9 div.sk-estimator input.sk-toggleable__control:checked~label.sk-toggleable__label {background-color: #d4ebff;}#sk-ea578ed1-6a80-4632-8bdf-86211ecf76f9 div.sk-label input.sk-toggleable__control:checked~label.sk-toggleable__label {background-color: #d4ebff;}#sk-ea578ed1-6a80-4632-8bdf-86211ecf76f9 input.sk-hidden--visually {border: 0;clip: rect(1px 1px 1px 1px);clip: rect(1px, 1px, 1px, 1px);height: 1px;margin: -1px;overflow: hidden;padding: 0;position: absolute;width: 1px;}#sk-ea578ed1-6a80-4632-8bdf-86211ecf76f9 div.sk-estimator {font-family: monospace;background-color: #f0f8ff;margin: 0.25em 0.25em;border: 1px dotted black;border-radius: 0.25em;box-sizing: border-box;}#sk-ea578ed1-6a80-4632-8bdf-86211ecf76f9 div.sk-estimator:hover {background-color: #d4ebff;}#sk-ea578ed1-6a80-4632-8bdf-86211ecf76f9 div.sk-parallel-item::after {content: \"\";width: 100%;border-bottom: 1px solid gray;flex-grow: 1;}#sk-ea578ed1-6a80-4632-8bdf-86211ecf76f9 div.sk-label:hover label.sk-toggleable__label {background-color: #d4ebff;}#sk-ea578ed1-6a80-4632-8bdf-86211ecf76f9 div.sk-serial::before {content: \"\";position: absolute;border-left: 1px solid gray;box-sizing: border-box;top: 2em;bottom: 0;left: 50%;}#sk-ea578ed1-6a80-4632-8bdf-86211ecf76f9 div.sk-serial {display: flex;flex-direction: column;align-items: center;background-color: white;}#sk-ea578ed1-6a80-4632-8bdf-86211ecf76f9 div.sk-item {z-index: 1;}#sk-ea578ed1-6a80-4632-8bdf-86211ecf76f9 div.sk-parallel {display: flex;align-items: stretch;justify-content: center;background-color: white;}#sk-ea578ed1-6a80-4632-8bdf-86211ecf76f9 div.sk-parallel-item {display: flex;flex-direction: column;position: relative;background-color: white;}#sk-ea578ed1-6a80-4632-8bdf-86211ecf76f9 div.sk-parallel-item:first-child::after {align-self: flex-end;width: 50%;}#sk-ea578ed1-6a80-4632-8bdf-86211ecf76f9 div.sk-parallel-item:last-child::after {align-self: flex-start;width: 50%;}#sk-ea578ed1-6a80-4632-8bdf-86211ecf76f9 div.sk-parallel-item:only-child::after {width: 0;}#sk-ea578ed1-6a80-4632-8bdf-86211ecf76f9 div.sk-dashed-wrapped {border: 1px dashed gray;margin: 0.2em;box-sizing: border-box;padding-bottom: 0.1em;background-color: white;position: relative;}#sk-ea578ed1-6a80-4632-8bdf-86211ecf76f9 div.sk-label label {font-family: monospace;font-weight: bold;background-color: white;display: inline-block;line-height: 1.2em;}#sk-ea578ed1-6a80-4632-8bdf-86211ecf76f9 div.sk-label-container {position: relative;z-index: 2;text-align: center;}#sk-ea578ed1-6a80-4632-8bdf-86211ecf76f9 div.sk-container {display: inline-block;position: relative;}</style><div id=\"sk-ea578ed1-6a80-4632-8bdf-86211ecf76f9\" class\"sk-top-container\"><div class=\"sk-container\"><div class=\"sk-item\"><div class=\"sk-estimator sk-toggleable\"><input class=\"sk-toggleable__control sk-hidden--visually\" id=\"f4738fd7-a345-4cd5-9a2e-49b6fc7f5614\" type=\"checkbox\" checked><label class=\"sk-toggleable__label\" for=\"f4738fd7-a345-4cd5-9a2e-49b6fc7f5614\">RandomForestRegressor</label><div class=\"sk-toggleable__content\"><pre>RandomForestRegressor(max_features=3, n_estimators=130, random_state=42)</pre></div></div></div></div></div>"
      ],
      "text/plain": [
       "RandomForestRegressor(max_features=3, n_estimators=130, random_state=42)"
      ]
     },
     "execution_count": 29,
     "metadata": {},
     "output_type": "execute_result"
    }
   ],
   "source": [
    "grid_search.best_estimator_"
   ]
  },
  {
   "cell_type": "markdown",
   "id": "22d06608",
   "metadata": {},
   "source": [
    "## Analyse des erreurs du modèle"
   ]
  },
  {
   "cell_type": "code",
   "execution_count": 30,
   "id": "339588cf",
   "metadata": {},
   "outputs": [],
   "source": [
    "final_model = grid_search.best_estimator_"
   ]
  },
  {
   "cell_type": "code",
   "execution_count": 31,
   "id": "19dc139e",
   "metadata": {},
   "outputs": [],
   "source": [
    "final_predictions = final_model.predict(X_test)"
   ]
  },
  {
   "cell_type": "code",
   "execution_count": 32,
   "id": "1edfbc6c",
   "metadata": {},
   "outputs": [
    {
     "name": "stdout",
     "output_type": "stream",
     "text": [
      "MAE : 0.87697\n",
      "MSE : 1.45851\n",
      "RMSE : 1.20769\n",
      "R² : 0.256\n"
     ]
    }
   ],
   "source": [
    "regression_metrics(y_test, final_predictions)"
   ]
  },
  {
   "cell_type": "code",
   "execution_count": 33,
   "id": "42f6a05a",
   "metadata": {},
   "outputs": [
    {
     "data": {
      "image/png": "[encoded data removed]",
      "text/plain": [
       "<Figure size 576x396 with 2 Axes>"
      ]
     },
     "metadata": {},
     "output_type": "display_data"
    }
   ],
   "source": [
    "visualizer = ResidualsPlot(final_model)\n",
    "visualizer.fit(X_train, y_train.reshape(2624,))\n",
    "visualizer.score(X_test, y_test.reshape(657,))\n",
    "visualizer.show();"
   ]
  },
  {
   "cell_type": "code",
   "execution_count": 34,
   "id": "eae225cd",
   "metadata": {},
   "outputs": [
    {
     "data": {
      "image/png": "[encoded data removed]",
      "text/plain": [
       "<Figure size 576x396 with 1 Axes>"
      ]
     },
     "metadata": {},
     "output_type": "display_data"
    }
   ],
   "source": [
    "visualizer = prediction_error(final_model, X_train, y_train, X_test, y_test);"
   ]
  },
  {
   "cell_type": "markdown",
   "id": "95d693ae",
   "metadata": {},
   "source": [
    "## Pipeline du modèle pour l'estimation de la consommation d'énergie"
   ]
  },
  {
   "cell_type": "markdown",
   "id": "00d4d8f6",
   "metadata": {},
   "source": [
    "from sklearn.pipeline import Pipeline\n",
    "from sklearn.compose import ColumnTransformer\n",
    "\n",
    "num_variables = list(num_var)\n",
    "cat_variables = list(cat_var)\n",
    "\n",
    "full_transformer = ColumnTransformer([\n",
    "    (\"num\", SimpleImputer(strategy=\"median\"), StandardScaler(), num_variables),\n",
    "    (\"cat\", SimpleImputer(strategy=\"most_frequent\"), OneHotEncoder(), cat_variables),\n",
    "])\n",
    "\n",
    "full_pipeline_with_model = Pipeline([\n",
    "    (\"preprocessing\", full_transformer),\n",
    "    (\"modeling\", RandomForestRegressor(max_features=3, n_estimators=130, random_state=42))\n",
    "])\n",
    "\n",
    "full_pipeline_with_model.fit(X_train, y_train)"
   ]
  },
  {
   "cell_type": "markdown",
   "id": "16790d6e",
   "metadata": {},
   "source": [
    "# Prédiction des émissions de CO2"
   ]
  },
  {
   "cell_type": "code",
   "execution_count": null,
   "id": "ae17c905",
   "metadata": {},
   "outputs": [],
   "source": []
  }
 ],
 "metadata": {
  "kernelspec": {
   "display_name": "Python 3",
   "language": "python",
   "name": "python3"
  },
  "language_info": {
   "codemirror_mode": {
    "name": "ipython",
    "version": 3
   },
   "file_extension": ".py",
   "mimetype": "text/x-python",
   "name": "python",
   "nbconvert_exporter": "python",
   "pygments_lexer": "ipython3",
   "version": "3.8.10"
  }
 },
 "nbformat": 4,
 "nbformat_minor": 5
}
