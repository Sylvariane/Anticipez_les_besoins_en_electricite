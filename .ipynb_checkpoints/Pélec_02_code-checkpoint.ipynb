{
 "cells": [
  {
   "cell_type": "markdown",
   "id": "ee05511e",
   "metadata": {},
   "source": [
    "# Recherche de modèles pour la prédiction de la consommation d'énergie et des émissions de gaz à effets de serre"
   ]
  },
  {
   "cell_type": "markdown",
   "id": "147e4a13",
   "metadata": {},
   "source": [
    "## Sommaire\n",
    "\n",
    "* [1 - Préparation du notebook](#chapter1)\n",
    "\n",
    "\n",
    "* [2 - Prédiction de la consommation d'énergie](#chapter2)\n",
    "    * [2.1. Création d'un modèle \"baseline\"](#section_2_1)\n",
    "        * [2.1.1. Préparation des données](#section_2_1_1)\n",
    "        * [2.1.2. Création d'un modèle de base](#section_2_1_2)\n",
    "        * [2.1.3. Evaluation du modèle avec le jeu de test](#section_2_1_3)\n",
    "    * [2.2. Choix du modèle le plus adapté](#section_2_2)\n",
    "    * [2.3. Choix des hyperparamètres](#section_2_3)\n",
    "    * [2.4. Analyses des erreurs](#section_2_4)\n",
    "    * [2.5. Bilan du modèle](#section_2_5)\n",
    "    * [2.6. Pipeline final](#section_2_6)\n",
    "    \n",
    "    \n",
    "* [3 - Prédiction des émissions de gaz à effets de serre](#chapter3)\n",
    "    * [3.1. Préparation des variables](#section_3_1)\n",
    "    * [3.2. Création d'un modèle \"baseline\"](#section_3_2)\n",
    "    * [3.3. Choix du modèle le plus adapté](#section_3_3)\n",
    "    * [3.4. Choix des hyperparamètres](#section_3_4)\n",
    "    * [3.5. Analyses des erreurs](#section_3_5)\n",
    "    * [3.6. Bilan du modèle](#section_3_6)\n",
    "    * [3.7. Pipeline finale](#section_3_7)\n",
    "    \n",
    "    \n",
    "* [4 - Prédiction des émissions de gaz à effets de serre à l'aide de l'ENERGYSTAR Score](#chapter4)\n",
    "    * [4.1. Préparation des variables](#section_4_1)\n",
    "    * [4.2. Création d'un modèle de base](#section_4_2)\n",
    "    * [4.3. Choix du modèle le plus adapté](#section_4_3)\n",
    "    * [4.4. Sélection des hyperparamètres](#section_4_4)\n",
    "    * [4.5. Analyses des erreurs](#section_4_5)\n",
    "    * [4.6. Bilan du modèle](#section_4_6)\n",
    "    * [4.7. Pipeline finale](#section_4_7)\n",
    "\n",
    "\n",
    "* [5 - Conclusion](#chapter5)\n",
    "\n",
    "\n",
    "* [Bonus : Prédiction à l'aide de réseau de neurones](#chapter6)\n",
    "    * [Prédiction de la consommation d'énergie](#section_6_1)\n",
    "    * [Prédiction des émissions de CO2 (sans score Energy Star)](#section_6_2)\n",
    "    * [Prédiction des émissions de CO2 (avec score Energy Star)](#section_6_3)\n",
    "    \n",
    "    \n",
    "* [Conclusion générale](#chapter7)"
   ]
  },
  {
   "cell_type": "markdown",
   "id": "f2780fda",
   "metadata": {},
   "source": [
    "# 1) Préparation du notebook <a class=\"anchor\" id=\"chapter1\"></a>"
   ]
  },
  {
   "cell_type": "code",
   "execution_count": 1,
   "id": "95a8b3ee",
   "metadata": {},
   "outputs": [],
   "source": [
    "# importation des librairies nécessaires aux tests de modèle\n",
    "import warnings\n",
    "warnings.filterwarnings(\"ignore\")\n",
    "\n",
    "import pandas as pd\n",
    "import numpy as np\n",
    "from scipy import stats\n",
    "import missingno as msno\n",
    "\n",
    "import matplotlib.pyplot as plt\n",
    "import seaborn as sns\n",
    "import sklearn\n",
    "from sklearn.preprocessing import OneHotEncoder, StandardScaler\n",
    "from sklearn.impute import SimpleImputer\n",
    "from sklearn.metrics import mean_absolute_error, mean_squared_error, r2_score, mean_absolute_percentage_error\n",
    "from sklearn.model_selection import train_test_split\n",
    "from yellowbrick.regressor import ResidualsPlot, prediction_error"
   ]
  },
  {
   "cell_type": "code",
   "execution_count": 2,
   "id": "cf987a68",
   "metadata": {},
   "outputs": [],
   "source": [
    "# Paramétrage visuelle de Scikit-Learn\n",
    "sklearn.set_config(display=\"diagram\")"
   ]
  },
  {
   "cell_type": "code",
   "execution_count": 3,
   "id": "944d223a",
   "metadata": {},
   "outputs": [],
   "source": [
    "# Fonction permettant de calculer le RMSPE\n",
    "# source : https://stackoverflow.com/questions/53165807/how-to-calculate-rmspe-in-python-using-numpy\n",
    "def rmpse(y_true, y_pred):\n",
    "    '''\n",
    "    Compute Root Mean Square Percentage Error between two arrays.\n",
    "    '''\n",
    "    loss = np.sqrt(np.mean(np.square(((y_true - y_pred) / y_true))))\n",
    "\n",
    "    return loss"
   ]
  },
  {
   "cell_type": "code",
   "execution_count": 4,
   "id": "4b903131",
   "metadata": {},
   "outputs": [],
   "source": [
    "# Fonction d'évaluation des modèles de régression\n",
    "def regression_metrics(y_test, y_pred):\n",
    "    \"\"\"Function which contains differents metrics about regression\n",
    "    Input: y_test, prediction\n",
    "    \n",
    "    Output: MAE, MSE, RMSE, MAPE & R² score  \n",
    "    \"\"\"\n",
    "    mae = mean_absolute_error(y_test, y_pred)\n",
    "    mse = mean_squared_error(y_test, y_pred)\n",
    "    rmse = np.sqrt(mse)\n",
    "    rmpse_cal = rmpse(y_test, y_pred)\n",
    "    mape = mean_absolute_percentage_error(y_test, y_pred)\n",
    "    r_score = r2_score(y_test, y_pred, multioutput=\"variance_weighted\")\n",
    "    print(\"MAE: \",mae.round(5))\n",
    "    print(\"MSE: \", mse.round(5))\n",
    "    print(\"RMSE: \", rmse)\n",
    "    print(\"RMPSE: \", rmpse_cal.round(3))\n",
    "    print(\"MAPE: \", mape.round(5))\n",
    "    print(\"R²: \", r_score.round(5))"
   ]
  },
  {
   "cell_type": "code",
   "execution_count": 5,
   "id": "248a9458",
   "metadata": {},
   "outputs": [
    {
     "data": {
      "text/html": [
       "<div>\n",
       "<style scoped>\n",
       "    .dataframe tbody tr th:only-of-type {\n",
       "        vertical-align: middle;\n",
       "    }\n",
       "\n",
       "    .dataframe tbody tr th {\n",
       "        vertical-align: top;\n",
       "    }\n",
       "\n",
       "    .dataframe thead th {\n",
       "        text-align: right;\n",
       "    }\n",
       "</style>\n",
       "<table border=\"1\" class=\"dataframe\">\n",
       "  <thead>\n",
       "    <tr style=\"text-align: right;\">\n",
       "      <th></th>\n",
       "      <th>PrimaryPropertyType</th>\n",
       "      <th>Neighborhood</th>\n",
       "      <th>YearBuilt</th>\n",
       "      <th>NumberofBuildings</th>\n",
       "      <th>NumberofFloors</th>\n",
       "      <th>PropertyGFATotal</th>\n",
       "      <th>SecondLargestPropertyUseType</th>\n",
       "      <th>SecondLargestPropertyUseTypeGFA</th>\n",
       "      <th>ThirdLargestPropertyUseType</th>\n",
       "      <th>ThirdLargestPropertyUseTypeGFA</th>\n",
       "      <th>ENERGYSTARScore</th>\n",
       "      <th>SiteEnergyUse(kBtu)</th>\n",
       "      <th>TotalGHGEmissions</th>\n",
       "      <th>Latitude</th>\n",
       "      <th>Longitude</th>\n",
       "      <th>Age</th>\n",
       "      <th>degreeDaysH</th>\n",
       "      <th>HasParking</th>\n",
       "      <th>Clusters</th>\n",
       "    </tr>\n",
       "  </thead>\n",
       "  <tbody>\n",
       "    <tr>\n",
       "      <th>0</th>\n",
       "      <td>Hotel</td>\n",
       "      <td>Downtown</td>\n",
       "      <td>1927</td>\n",
       "      <td>1.0</td>\n",
       "      <td>12.0</td>\n",
       "      <td>88434</td>\n",
       "      <td>N.C.</td>\n",
       "      <td>-1.0</td>\n",
       "      <td>N.C.</td>\n",
       "      <td>-1.0</td>\n",
       "      <td>65.0</td>\n",
       "      <td>6981428.0</td>\n",
       "      <td>249.43</td>\n",
       "      <td>47.61220</td>\n",
       "      <td>-122.33799</td>\n",
       "      <td>88</td>\n",
       "      <td>4005</td>\n",
       "      <td>No</td>\n",
       "      <td>1</td>\n",
       "    </tr>\n",
       "    <tr>\n",
       "      <th>1</th>\n",
       "      <td>Hotel</td>\n",
       "      <td>Downtown</td>\n",
       "      <td>1927</td>\n",
       "      <td>1.0</td>\n",
       "      <td>12.0</td>\n",
       "      <td>88434</td>\n",
       "      <td>N.C.</td>\n",
       "      <td>-1.0</td>\n",
       "      <td>N.C.</td>\n",
       "      <td>-1.0</td>\n",
       "      <td>60.0</td>\n",
       "      <td>7226362.5</td>\n",
       "      <td>249.98</td>\n",
       "      <td>47.61220</td>\n",
       "      <td>-122.33799</td>\n",
       "      <td>89</td>\n",
       "      <td>4093</td>\n",
       "      <td>No</td>\n",
       "      <td>1</td>\n",
       "    </tr>\n",
       "    <tr>\n",
       "      <th>2</th>\n",
       "      <td>Hotel</td>\n",
       "      <td>Downtown</td>\n",
       "      <td>1996</td>\n",
       "      <td>1.0</td>\n",
       "      <td>11.0</td>\n",
       "      <td>103566</td>\n",
       "      <td>Parking</td>\n",
       "      <td>15064.0</td>\n",
       "      <td>Restaurant</td>\n",
       "      <td>4622.0</td>\n",
       "      <td>51.0</td>\n",
       "      <td>8354235.0</td>\n",
       "      <td>263.51</td>\n",
       "      <td>47.61317</td>\n",
       "      <td>-122.33393</td>\n",
       "      <td>19</td>\n",
       "      <td>4005</td>\n",
       "      <td>Yes</td>\n",
       "      <td>1</td>\n",
       "    </tr>\n",
       "  </tbody>\n",
       "</table>\n",
       "</div>"
      ],
      "text/plain": [
       "  PrimaryPropertyType Neighborhood  YearBuilt  NumberofBuildings  \\\n",
       "0               Hotel     Downtown       1927                1.0   \n",
       "1               Hotel     Downtown       1927                1.0   \n",
       "2               Hotel     Downtown       1996                1.0   \n",
       "\n",
       "   NumberofFloors  PropertyGFATotal SecondLargestPropertyUseType  \\\n",
       "0            12.0             88434                         N.C.   \n",
       "1            12.0             88434                         N.C.   \n",
       "2            11.0            103566                      Parking   \n",
       "\n",
       "   SecondLargestPropertyUseTypeGFA ThirdLargestPropertyUseType  \\\n",
       "0                             -1.0                        N.C.   \n",
       "1                             -1.0                        N.C.   \n",
       "2                          15064.0                  Restaurant   \n",
       "\n",
       "   ThirdLargestPropertyUseTypeGFA  ENERGYSTARScore  SiteEnergyUse(kBtu)  \\\n",
       "0                            -1.0             65.0            6981428.0   \n",
       "1                            -1.0             60.0            7226362.5   \n",
       "2                          4622.0             51.0            8354235.0   \n",
       "\n",
       "   TotalGHGEmissions  Latitude  Longitude  Age  degreeDaysH HasParking  \\\n",
       "0             249.43  47.61220 -122.33799   88         4005         No   \n",
       "1             249.98  47.61220 -122.33799   89         4093         No   \n",
       "2             263.51  47.61317 -122.33393   19         4005        Yes   \n",
       "\n",
       "   Clusters  \n",
       "0         1  \n",
       "1         1  \n",
       "2         1  "
      ]
     },
     "execution_count": 5,
     "metadata": {},
     "output_type": "execute_result"
    }
   ],
   "source": [
    "# importation des données\n",
    "data = pd.read_csv(\"datasets/benchmark_total.csv\")\n",
    "data.head(3)"
   ]
  },
  {
   "cell_type": "markdown",
   "id": "dee3feec",
   "metadata": {},
   "source": [
    "Une fois que l'on a chargé les données, on va pouvoir séparer notre jeu de données en deux parties : un train set et un test set. On ne va pas toucher aux données du test set car il nous servia pour la validation de notre modèle. C'est grâce à ce jeu de données que l'on pourra sortir les metrics nécessaires. Dans chaque jeu (entraînement et test), on supprime les variables qui ne seront pas utiles dans notre modélisation. \n",
    "\n",
    "Tout d'abord, on supprime les variables que l'on cherche à prédire. \"SiteEnergyUse(kBtu)\" et \"TotalGHGEmissions\" sont les deux cibles que l'on cherche à prédire, on les mettra donc dans une variable y. Ensuite, notre jeu de données comporte de nombreuses valeurs : certaines sont d'origine et d'autres proviennent d'une opération de feature engineering. On va donc supprimer les doublons pour éviter la fuite de donneés. \n",
    "- Le score ENERGYSTAR est enlevé car on ne va pas s'en servir pour prédire la consommation d'énergie. On regardera son impact dans la prédiction des effets de gaz à effets de serre dans un second temps. \n",
    "- L'année de construction des bâtiments est supprimée. On va lui préfére l'utilisation d'une variable \"Age\".\n",
    "- La variable \"degreeDayC\" a été supprimé car elle était fortement corréelée à la variable \"degreeDayH\". \n",
    "- Le quartier est supprimé ainsi que la longitude et la latitude. Ces informations concernent la localisation de la propriété. L'information de la localisation se trouve dans la variable \"Cluster\". Les explications de la création de cette variable se trouvent dans le notebook d'analyse. "
   ]
  },
  {
   "cell_type": "code",
   "execution_count": 6,
   "id": "6da648b4",
   "metadata": {},
   "outputs": [
    {
     "data": {
      "image/png": "[encoded data removed]",
      "text/plain": [
       "<Figure size 1800x720 with 2 Axes>"
      ]
     },
     "metadata": {},
     "output_type": "display_data"
    }
   ],
   "source": [
    "msno.matrix(data);"
   ]
  },
  {
   "cell_type": "code",
   "execution_count": 7,
   "id": "0aa3e315",
   "metadata": {},
   "outputs": [],
   "source": [
    "# Transformation logarithmique des variables cibles\n",
    "# L'analyse exploratoire a montré qu'elles ne suivaient pas une loi normale\n",
    "data[\"SiteEnergyUse(kBtu)_log\"] = np.log(data[\"SiteEnergyUse(kBtu)\"])\n",
    "data[\"TotalGHGEmissions_log\"] = np.log(data[\"TotalGHGEmissions\"])"
   ]
  },
  {
   "cell_type": "code",
   "execution_count": 8,
   "id": "70525bfc",
   "metadata": {},
   "outputs": [],
   "source": [
    "# Création d'un jeu d'entrainement (train set) et d'un jeu de test (test set)\n",
    "# Stratification sur la variable \"type de propriété\" (30% de bureau dans notre échantillon)\n",
    "train_set, test_set = train_test_split(data, test_size=0.2, random_state=42, stratify=data[\"PrimaryPropertyType\"])\n",
    "\n",
    "y_train = train_set[[\"SiteEnergyUse(kBtu)_log\"]]\n",
    "y_test = test_set[[\"SiteEnergyUse(kBtu)_log\"]]\n",
    "X_train = train_set.drop([\"SiteEnergyUse(kBtu)\", \"SiteEnergyUse(kBtu)_log\", \"TotalGHGEmissions\", \"TotalGHGEmissions_log\", \"ENERGYSTARScore\", \"YearBuilt\", \"Neighborhood\", \"Latitude\", \"Longitude\"], axis=1)\n",
    "X_test = test_set.drop([\"SiteEnergyUse(kBtu)\", \"SiteEnergyUse(kBtu)_log\", \"TotalGHGEmissions\", \"TotalGHGEmissions_log\", \"ENERGYSTARScore\", \"YearBuilt\",\"Neighborhood\", \"Latitude\", \"Longitude\"], axis=1)"
   ]
  },
  {
   "cell_type": "markdown",
   "id": "6444b164",
   "metadata": {},
   "source": [
    "# 2) Prédiction de la consommation d'énergie <a class=\"anchor\" id=\"chapter2\"></a>"
   ]
  },
  {
   "cell_type": "markdown",
   "id": "e086d972",
   "metadata": {},
   "source": [
    "## 2.1) Création d'un modèle \"baseline\" <a class=\"anchor\" id=\"section_2_1\"></a>"
   ]
  },
  {
   "cell_type": "markdown",
   "id": "6a8cb4de",
   "metadata": {},
   "source": [
    "### 2.1.1) Préparation des données <a class=\"anchor\" id=\"section_2_1_1\"></a>"
   ]
  },
  {
   "cell_type": "markdown",
   "id": "7ce2fe53",
   "metadata": {},
   "source": [
    "On sépare les variables catégorielles des variables numériques. Pour pouvoir leur appliquer des traitements différents qui seront enregistrés dans un pipeline de préprocessing. \n",
    "Pour les variables catégorielles : \n",
    "- On complète les valeurs manquantes par le mode (celle qui est le plus fréquent)\n",
    "- On les transforme via un OneHotEncoding. Ainsi, elles seront transformées en valeur numérique compréhensible par notre modèles.\n",
    "\n",
    "Pour les variables numériques : \n",
    "- On complète les valeurs manquantes par la médiane. Il y a une grande diversité dans nos valeurs numériques sans que cela soit des anomalies. Néanmoins, elles vont faire varier notre moyenne, c'est pourquoi on choisit ici la médiane.\n",
    "- On standardise nos variables pour enlever les unités qui sont différents (degré Fahrenheit pour Degree Days Heating ; sq/ft² pour la taille de la propriété, etc.)."
   ]
  },
  {
   "cell_type": "code",
   "execution_count": 9,
   "id": "eb1a2553",
   "metadata": {},
   "outputs": [],
   "source": [
    "# Séparation des variables catégorielles et numériques\n",
    "cat_var = [\"PrimaryPropertyType\", \"Clusters\", \"SecondLargestPropertyUseType\", \"ThirdLargestPropertyUseType\", \"HasParking\"]\n",
    "num_var = [\"PropertyGFATotal\", \"degreeDaysH\", \"Age\", \"NumberofBuildings\", \"NumberofFloors\", \"SecondLargestPropertyUseTypeGFA\", \"ThirdLargestPropertyUseTypeGFA\"]"
   ]
  },
  {
   "cell_type": "code",
   "execution_count": 10,
   "id": "262498ce",
   "metadata": {},
   "outputs": [],
   "source": [
    "# Création d'un pipeline de transformation\n",
    "from sklearn.compose import ColumnTransformer\n",
    "from sklearn.pipeline import Pipeline\n",
    "\n",
    "cat_pipe = Pipeline([\n",
    "    ('imputer', SimpleImputer(strategy='most_frequent', fill_value='missing')),\n",
    "    ('encoder', OneHotEncoder(handle_unknown='ignore', sparse=False))\n",
    "])\n",
    "\n",
    "num_pipe = Pipeline([\n",
    "    ('imputer', SimpleImputer(strategy=\"median\", fill_value=\"missing\")),\n",
    "    ('scaler', StandardScaler())\n",
    "])\n",
    "\n",
    "preprocessor = ColumnTransformer(\n",
    "    transformers=[\n",
    "    ('cat', cat_pipe, cat_var),\n",
    "    ('num', num_pipe, num_var)\n",
    "])"
   ]
  },
  {
   "cell_type": "code",
   "execution_count": 11,
   "id": "a83754cb",
   "metadata": {},
   "outputs": [],
   "source": [
    "# transformation des variables\n",
    "X_train = preprocessor.fit_transform(X_train)"
   ]
  },
  {
   "cell_type": "markdown",
   "id": "6946918b",
   "metadata": {},
   "source": [
    "### 2.1.2) Création du modèle de base <a class=\"anchor\" id=\"section_2_1_2\"></a>"
   ]
  },
  {
   "cell_type": "markdown",
   "id": "2be7ca5e",
   "metadata": {},
   "source": [
    "Le modèle choisi pour obtenir une baseline est un modèle naïf. Ce type de modèle prédit la valeur médiane de la variable cible. Le but étant d'avoir une prédiction proche de ce que ferait un modèle basé sur le hasard. Les métriques qui sortiront de ce modèle serviront de base pour évaluer les performances d'autres modèles. "
   ]
  },
  {
   "cell_type": "code",
   "execution_count": 12,
   "id": "edc0ff20",
   "metadata": {
    "scrolled": true
   },
   "outputs": [
    {
     "data": {
      "text/html": [
       "<style>#sk-a9b3c645-7396-4d8c-a228-12e687f3316d {color: black;background-color: white;}#sk-a9b3c645-7396-4d8c-a228-12e687f3316d pre{padding: 0;}#sk-a9b3c645-7396-4d8c-a228-12e687f3316d div.sk-toggleable {background-color: white;}#sk-a9b3c645-7396-4d8c-a228-12e687f3316d label.sk-toggleable__label {cursor: pointer;display: block;width: 100%;margin-bottom: 0;padding: 0.2em 0.3em;box-sizing: border-box;text-align: center;}#sk-a9b3c645-7396-4d8c-a228-12e687f3316d div.sk-toggleable__content {max-height: 0;max-width: 0;overflow: hidden;text-align: left;background-color: #f0f8ff;}#sk-a9b3c645-7396-4d8c-a228-12e687f3316d div.sk-toggleable__content pre {margin: 0.2em;color: black;border-radius: 0.25em;background-color: #f0f8ff;}#sk-a9b3c645-7396-4d8c-a228-12e687f3316d input.sk-toggleable__control:checked~div.sk-toggleable__content {max-height: 200px;max-width: 100%;overflow: auto;}#sk-a9b3c645-7396-4d8c-a228-12e687f3316d div.sk-estimator input.sk-toggleable__control:checked~label.sk-toggleable__label {background-color: #d4ebff;}#sk-a9b3c645-7396-4d8c-a228-12e687f3316d div.sk-label input.sk-toggleable__control:checked~label.sk-toggleable__label {background-color: #d4ebff;}#sk-a9b3c645-7396-4d8c-a228-12e687f3316d input.sk-hidden--visually {border: 0;clip: rect(1px 1px 1px 1px);clip: rect(1px, 1px, 1px, 1px);height: 1px;margin: -1px;overflow: hidden;padding: 0;position: absolute;width: 1px;}#sk-a9b3c645-7396-4d8c-a228-12e687f3316d div.sk-estimator {font-family: monospace;background-color: #f0f8ff;margin: 0.25em 0.25em;border: 1px dotted black;border-radius: 0.25em;box-sizing: border-box;}#sk-a9b3c645-7396-4d8c-a228-12e687f3316d div.sk-estimator:hover {background-color: #d4ebff;}#sk-a9b3c645-7396-4d8c-a228-12e687f3316d div.sk-parallel-item::after {content: \"\";width: 100%;border-bottom: 1px solid gray;flex-grow: 1;}#sk-a9b3c645-7396-4d8c-a228-12e687f3316d div.sk-label:hover label.sk-toggleable__label {background-color: #d4ebff;}#sk-a9b3c645-7396-4d8c-a228-12e687f3316d div.sk-serial::before {content: \"\";position: absolute;border-left: 1px solid gray;box-sizing: border-box;top: 2em;bottom: 0;left: 50%;}#sk-a9b3c645-7396-4d8c-a228-12e687f3316d div.sk-serial {display: flex;flex-direction: column;align-items: center;background-color: white;}#sk-a9b3c645-7396-4d8c-a228-12e687f3316d div.sk-item {z-index: 1;}#sk-a9b3c645-7396-4d8c-a228-12e687f3316d div.sk-parallel {display: flex;align-items: stretch;justify-content: center;background-color: white;}#sk-a9b3c645-7396-4d8c-a228-12e687f3316d div.sk-parallel-item {display: flex;flex-direction: column;position: relative;background-color: white;}#sk-a9b3c645-7396-4d8c-a228-12e687f3316d div.sk-parallel-item:first-child::after {align-self: flex-end;width: 50%;}#sk-a9b3c645-7396-4d8c-a228-12e687f3316d div.sk-parallel-item:last-child::after {align-self: flex-start;width: 50%;}#sk-a9b3c645-7396-4d8c-a228-12e687f3316d div.sk-parallel-item:only-child::after {width: 0;}#sk-a9b3c645-7396-4d8c-a228-12e687f3316d div.sk-dashed-wrapped {border: 1px dashed gray;margin: 0.2em;box-sizing: border-box;padding-bottom: 0.1em;background-color: white;position: relative;}#sk-a9b3c645-7396-4d8c-a228-12e687f3316d div.sk-label label {font-family: monospace;font-weight: bold;background-color: white;display: inline-block;line-height: 1.2em;}#sk-a9b3c645-7396-4d8c-a228-12e687f3316d div.sk-label-container {position: relative;z-index: 2;text-align: center;}#sk-a9b3c645-7396-4d8c-a228-12e687f3316d div.sk-container {display: inline-block;position: relative;}</style><div id=\"sk-a9b3c645-7396-4d8c-a228-12e687f3316d\" class\"sk-top-container\"><div class=\"sk-container\"><div class=\"sk-item\"><div class=\"sk-estimator sk-toggleable\"><input class=\"sk-toggleable__control sk-hidden--visually\" id=\"48b53ae9-cbf8-4015-b315-afd6998e70c6\" type=\"checkbox\" checked><label class=\"sk-toggleable__label\" for=\"48b53ae9-cbf8-4015-b315-afd6998e70c6\">DummyRegressor</label><div class=\"sk-toggleable__content\"><pre>DummyRegressor(strategy='median')</pre></div></div></div></div></div>"
      ],
      "text/plain": [
       "DummyRegressor(strategy='median')"
      ]
     },
     "execution_count": 12,
     "metadata": {},
     "output_type": "execute_result"
    }
   ],
   "source": [
    "from sklearn.dummy import DummyRegressor\n",
    "\n",
    "dummy_reg = DummyRegressor(strategy=\"median\")\n",
    "dummy_reg.fit(X_train, y_train)"
   ]
  },
  {
   "cell_type": "markdown",
   "id": "05749efe",
   "metadata": {},
   "source": [
    "### 2.1.3) Evaluation du modèle avec le jeu de test <a class=\"anchor\" id=\"section_2_1_3\"></a>"
   ]
  },
  {
   "cell_type": "code",
   "execution_count": 13,
   "id": "b733ab57",
   "metadata": {},
   "outputs": [
    {
     "name": "stdout",
     "output_type": "stream",
     "text": [
      "MAE:  0.89523\n",
      "MSE:  1.30573\n",
      "RMSE:  1.1426860241657122\n",
      "RMPSE:  0.075\n",
      "MAPE:  0.06012\n",
      "R²:  -0.02827\n"
     ]
    }
   ],
   "source": [
    "# Prédiction à l'aide de notre dummy regressor\n",
    "# Evaluation du modèle\n",
    "X_test = preprocessor.transform(X_test)\n",
    "y_pred = dummy_reg.predict(X_test)\n",
    "regression_metrics(np.array(y_test), y_pred)"
   ]
  },
  {
   "cell_type": "markdown",
   "id": "52ba91fb",
   "metadata": {},
   "source": [
    "Les mesures pour évaluer notre méthode sont le MAE, le MSE (qui s'exprime en log²), le RMSE (qui s'exprime en log), le RMSE, le RMPSE (% de RMSE pour mieux comparer), le MAPE et le coefficient de détermination R². "
   ]
  },
  {
   "cell_type": "markdown",
   "id": "0747ad66",
   "metadata": {},
   "source": [
    "## 2.2) Choix du modèle le plus performant <a class=\"anchor\" id=\"section_2_2\"></a>"
   ]
  },
  {
   "cell_type": "markdown",
   "id": "c9eb6164",
   "metadata": {},
   "source": [
    "Le problème à laquelle nous sommes confrontés est un problème de régression. On va donc choisir des modèles qui peuvent permettre de faire ce type de prédiction. On va choisir des méthodes linéaires : Régression linéaire et ses variantes régularisées (Ridge et Lasso), le Support Vecteur Machine et des méthodes non linéaires : la régression linéaire ridge avec noyau, des méthodes ensemblistes de bagging (Bagging, Random Forest) et de boosting (AdaBoost, Gradient Boosting, XGBoost)."
   ]
  },
  {
   "cell_type": "code",
   "execution_count": 14,
   "id": "90637e89",
   "metadata": {},
   "outputs": [],
   "source": [
    "# instanciation des différents modèles de régression\n",
    "from sklearn.linear_model import Ridge, Lasso, LinearRegression\n",
    "from sklearn.tree import DecisionTreeRegressor\n",
    "from sklearn.svm import SVR\n",
    "from sklearn.kernel_ridge import KernelRidge\n",
    "from sklearn.ensemble import AdaBoostRegressor, BaggingRegressor, GradientBoostingRegressor, RandomForestRegressor\n",
    "import xgboost as xgb\n",
    "\n",
    "dummy_reg = DummyRegressor(strategy=\"median\")\n",
    "lin_reg = LinearRegression()\n",
    "ridge = Ridge(random_state=42)\n",
    "lasso = Lasso(random_state=42)\n",
    "dt_reg =  DecisionTreeRegressor(random_state=42)\n",
    "svm_reg = SVR()\n",
    "ridge_kernel = KernelRidge()\n",
    "adaboost = AdaBoostRegressor(random_state=42)\n",
    "bagging = BaggingRegressor(random_state=42)\n",
    "gdboost = GradientBoostingRegressor(random_state=42)\n",
    "rdmforest = RandomForestRegressor(random_state=42)\n",
    "xgboost = xgb.XGBRegressor(random_state=42)"
   ]
  },
  {
   "cell_type": "code",
   "execution_count": 15,
   "id": "07d92221",
   "metadata": {},
   "outputs": [
    {
     "data": {
      "text/html": [
       "<div>\n",
       "<style scoped>\n",
       "    .dataframe tbody tr th:only-of-type {\n",
       "        vertical-align: middle;\n",
       "    }\n",
       "\n",
       "    .dataframe tbody tr th {\n",
       "        vertical-align: top;\n",
       "    }\n",
       "\n",
       "    .dataframe thead th {\n",
       "        text-align: right;\n",
       "    }\n",
       "</style>\n",
       "<table border=\"1\" class=\"dataframe\">\n",
       "  <thead>\n",
       "    <tr style=\"text-align: right;\">\n",
       "      <th></th>\n",
       "      <th>Dummy Regressor</th>\n",
       "      <th>Linear Regression</th>\n",
       "      <th>Ridge</th>\n",
       "      <th>Lasso</th>\n",
       "      <th>DecisionTree</th>\n",
       "      <th>SVM</th>\n",
       "      <th>Ridge Kernel</th>\n",
       "      <th>AdaBoost</th>\n",
       "      <th>Bagging</th>\n",
       "      <th>GradientBoosting</th>\n",
       "      <th>Random Forest</th>\n",
       "      <th>XGBoost</th>\n",
       "    </tr>\n",
       "  </thead>\n",
       "  <tbody>\n",
       "    <tr>\n",
       "      <th>MAE</th>\n",
       "      <td>0.895</td>\n",
       "      <td>4.189360e+07</td>\n",
       "      <td>0.543</td>\n",
       "      <td>0.903</td>\n",
       "      <td>0.244</td>\n",
       "      <td>0.401</td>\n",
       "      <td>0.545</td>\n",
       "      <td>0.519</td>\n",
       "      <td>0.281</td>\n",
       "      <td>0.396</td>\n",
       "      <td>0.267</td>\n",
       "      <td>0.325</td>\n",
       "    </tr>\n",
       "    <tr>\n",
       "      <th>MSE</th>\n",
       "      <td>1.306</td>\n",
       "      <td>7.734025e+17</td>\n",
       "      <td>0.495</td>\n",
       "      <td>1.270</td>\n",
       "      <td>0.208</td>\n",
       "      <td>0.305</td>\n",
       "      <td>0.496</td>\n",
       "      <td>0.454</td>\n",
       "      <td>0.177</td>\n",
       "      <td>0.295</td>\n",
       "      <td>0.158</td>\n",
       "      <td>0.202</td>\n",
       "    </tr>\n",
       "    <tr>\n",
       "      <th>RMSE</th>\n",
       "      <td>1.143</td>\n",
       "      <td>8.794331e+08</td>\n",
       "      <td>0.703</td>\n",
       "      <td>1.127</td>\n",
       "      <td>0.456</td>\n",
       "      <td>0.553</td>\n",
       "      <td>0.704</td>\n",
       "      <td>0.673</td>\n",
       "      <td>0.420</td>\n",
       "      <td>0.543</td>\n",
       "      <td>0.398</td>\n",
       "      <td>0.449</td>\n",
       "    </tr>\n",
       "    <tr>\n",
       "      <th>R²</th>\n",
       "      <td>-0.028</td>\n",
       "      <td>-6.090599e+17</td>\n",
       "      <td>0.610</td>\n",
       "      <td>-0.001</td>\n",
       "      <td>0.836</td>\n",
       "      <td>0.759</td>\n",
       "      <td>0.609</td>\n",
       "      <td>0.643</td>\n",
       "      <td>0.861</td>\n",
       "      <td>0.768</td>\n",
       "      <td>0.876</td>\n",
       "      <td>0.841</td>\n",
       "    </tr>\n",
       "  </tbody>\n",
       "</table>\n",
       "</div>"
      ],
      "text/plain": [
       "      Dummy Regressor  Linear Regression  Ridge  Lasso  DecisionTree    SVM  \\\n",
       "MAE             0.895       4.189360e+07  0.543  0.903         0.244  0.401   \n",
       "MSE             1.306       7.734025e+17  0.495  1.270         0.208  0.305   \n",
       "RMSE            1.143       8.794331e+08  0.703  1.127         0.456  0.553   \n",
       "R²             -0.028      -6.090599e+17  0.610 -0.001         0.836  0.759   \n",
       "\n",
       "      Ridge Kernel  AdaBoost  Bagging  GradientBoosting  Random Forest  \\\n",
       "MAE          0.545     0.519    0.281             0.396          0.267   \n",
       "MSE          0.496     0.454    0.177             0.295          0.158   \n",
       "RMSE         0.704     0.673    0.420             0.543          0.398   \n",
       "R²           0.609     0.643    0.861             0.768          0.876   \n",
       "\n",
       "      XGBoost  \n",
       "MAE     0.325  \n",
       "MSE     0.202  \n",
       "RMSE    0.449  \n",
       "R²      0.841  "
      ]
     },
     "execution_count": 15,
     "metadata": {},
     "output_type": "execute_result"
    }
   ],
   "source": [
    "# Entraînement des modèles sans paramètre spécifique\n",
    "# Sortie de 4 mesures : MAE, MSE, RMSE, R²\n",
    "model = [dummy_reg, lin_reg, ridge, lasso, dt_reg, svm_reg, ridge_kernel, adaboost, bagging, gdboost, rdmforest, xgboost]\n",
    "dict_model = {}\n",
    "\n",
    "for model in model:\n",
    "    model.fit(X_train, y_train)\n",
    "    y_pred = model.predict(X_test)\n",
    "    mae = mean_absolute_error(y_test, y_pred)\n",
    "    mse = mean_squared_error(y_test, y_pred)\n",
    "    rmse = np.sqrt(mse)\n",
    "    r_score = r2_score(y_test, y_pred, multioutput=\"variance_weighted\").round(3)\n",
    "    dict_model[model] = (mae.round(3), mse.round(3), rmse.round(3), r_score)\n",
    "\n",
    "eval_model = pd.DataFrame(dict_model, index=[\"MAE\", \"MSE\", \"RMSE\", \"R²\"])\n",
    "eval_model.columns = [\"Dummy Regressor\", \"Linear Regression\", \"Ridge\", \"Lasso\", \"DecisionTree\", \"SVM\", \"Ridge Kernel\",\n",
    "                      \"AdaBoost\", \"Bagging\", \"GradientBoosting\", \"Random Forest\", \"XGBoost\"]\n",
    "\n",
    "eval_model"
   ]
  },
  {
   "cell_type": "markdown",
   "id": "331df289",
   "metadata": {},
   "source": [
    "La régression naïve apparaît bien comme l'un des modèles les moins performants. On remarque que les modèles linéaires (Régression linéaire, Régression Ridge/Lasso et SVM) ont un coefficient de détermination aux alentours de 50%. Cela montre que notre problème n'est pas un problème linéaire. On va donc devoir se tourner vers des méthodes non-linéaires. Le modèle de Random Forest ainsi que l'algorithme de XGBoost sont ceux qui obtiennent les meilleures performances. On va donc s'orienter sur l'algorithme du RandomForest. Ces hyperparamètres seront affinés pour obtenir la meilleure performance pour notre modèle. \n",
    "\n",
    "\n",
    "**Choix du modèle :** RandomForest"
   ]
  },
  {
   "cell_type": "markdown",
   "id": "ee95c155",
   "metadata": {},
   "source": [
    "## 2.3) Choix des hyperparamètres <a class=\"anchor\" id=\"section_2_3\"></a>"
   ]
  },
  {
   "cell_type": "markdown",
   "id": "0c69e3bf",
   "metadata": {},
   "source": [
    "On va commencer par instancier notre modèle de RandomForest. On va fixer la racine aléatoire et dire à l'algorithme qu'il peut utiliser tous les coeurs du CPU. "
   ]
  },
  {
   "cell_type": "code",
   "execution_count": 16,
   "id": "91ddfa35",
   "metadata": {},
   "outputs": [],
   "source": [
    "# instanciation du modèle avec paramètre de base \n",
    "forest_reg = RandomForestRegressor(random_state=42, n_jobs=-1)"
   ]
  },
  {
   "cell_type": "markdown",
   "id": "0f7ba0d9",
   "metadata": {},
   "source": [
    "Une fois notre modèle choisie et instanciée, on va pouvoir faire une recherche des hyperparamètres les plus adaptés. Pour cela, on va procéder en deux étapes : une recherche via une RandomGrid et une recherche via une SearchGrid. Chacune de ces grilles va permettre d'effectuer une validation croisée (k = 5). "
   ]
  },
  {
   "cell_type": "markdown",
   "id": "84763c9a",
   "metadata": {},
   "source": [
    "La recherche aléatoire (RandomGrid) va permettre d'obtenir un ordre de grandeur des différents hyperparamètres. La seconde recherche va permettre d'affiner les valeurs des hyperparamètres."
   ]
  },
  {
   "cell_type": "markdown",
   "id": "5369cd7f",
   "metadata": {},
   "source": [
    "On va s'intéresser à différents hyperparamètres : \n",
    "- **n_estimators** qui correspond aux nombres d'arbres à mettre dans notre forêt. Il peut être considérer comme un hyperparamètre ou non. En effet, plus le nombre d'arbres sera important plus le modèle sera efficace. Ici le choix a été fait de le mettre comme hyperparamètre à rechercher. \n",
    "- **max_features** qui va désigner le nombre de variables à prendre en compte dans notre modèle. En général, dans le cas d'une régression on estime que le nombre de features à prendre en compte correspond à toutes les features disponibles. On va donc tester le nombre de features disponibles mais aussi la racine carrée du nombre de features disponibles.\n",
    "- **max_depth** qui se rapporte à la profondeur de chacun de nos arbres. Plus un arbre sera profond et plus le modèle sera complexe. Il faudra donc faire attention à ce que cela ne génère pas d'overfitting. \n",
    "- **min_samples_split** correspond aux nombres d'individus minimum pour que puisse avoir la séparation d'un noeud. Ce paramètre a pour rôle de restreindre le modèle et de diminuer les risques d'overfitting.\n",
    "- **min_samples_leaf** correspond aux nombres d'individus minimum pour que puisse avoir la séparation d'une feuille.\n",
    "- **bootstrap** définit si chaque bootstrap se fait sur tout le jeu de donnée ou juste une partie."
   ]
  },
  {
   "cell_type": "code",
   "execution_count": 17,
   "id": "49e5ff70",
   "metadata": {},
   "outputs": [
    {
     "data": {
      "text/html": [
       "<style>#sk-81ec13d5-14aa-46b5-9869-d2338519bbe2 {color: black;background-color: white;}#sk-81ec13d5-14aa-46b5-9869-d2338519bbe2 pre{padding: 0;}#sk-81ec13d5-14aa-46b5-9869-d2338519bbe2 div.sk-toggleable {background-color: white;}#sk-81ec13d5-14aa-46b5-9869-d2338519bbe2 label.sk-toggleable__label {cursor: pointer;display: block;width: 100%;margin-bottom: 0;padding: 0.2em 0.3em;box-sizing: border-box;text-align: center;}#sk-81ec13d5-14aa-46b5-9869-d2338519bbe2 div.sk-toggleable__content {max-height: 0;max-width: 0;overflow: hidden;text-align: left;background-color: #f0f8ff;}#sk-81ec13d5-14aa-46b5-9869-d2338519bbe2 div.sk-toggleable__content pre {margin: 0.2em;color: black;border-radius: 0.25em;background-color: #f0f8ff;}#sk-81ec13d5-14aa-46b5-9869-d2338519bbe2 input.sk-toggleable__control:checked~div.sk-toggleable__content {max-height: 200px;max-width: 100%;overflow: auto;}#sk-81ec13d5-14aa-46b5-9869-d2338519bbe2 div.sk-estimator input.sk-toggleable__control:checked~label.sk-toggleable__label {background-color: #d4ebff;}#sk-81ec13d5-14aa-46b5-9869-d2338519bbe2 div.sk-label input.sk-toggleable__control:checked~label.sk-toggleable__label {background-color: #d4ebff;}#sk-81ec13d5-14aa-46b5-9869-d2338519bbe2 input.sk-hidden--visually {border: 0;clip: rect(1px 1px 1px 1px);clip: rect(1px, 1px, 1px, 1px);height: 1px;margin: -1px;overflow: hidden;padding: 0;position: absolute;width: 1px;}#sk-81ec13d5-14aa-46b5-9869-d2338519bbe2 div.sk-estimator {font-family: monospace;background-color: #f0f8ff;margin: 0.25em 0.25em;border: 1px dotted black;border-radius: 0.25em;box-sizing: border-box;}#sk-81ec13d5-14aa-46b5-9869-d2338519bbe2 div.sk-estimator:hover {background-color: #d4ebff;}#sk-81ec13d5-14aa-46b5-9869-d2338519bbe2 div.sk-parallel-item::after {content: \"\";width: 100%;border-bottom: 1px solid gray;flex-grow: 1;}#sk-81ec13d5-14aa-46b5-9869-d2338519bbe2 div.sk-label:hover label.sk-toggleable__label {background-color: #d4ebff;}#sk-81ec13d5-14aa-46b5-9869-d2338519bbe2 div.sk-serial::before {content: \"\";position: absolute;border-left: 1px solid gray;box-sizing: border-box;top: 2em;bottom: 0;left: 50%;}#sk-81ec13d5-14aa-46b5-9869-d2338519bbe2 div.sk-serial {display: flex;flex-direction: column;align-items: center;background-color: white;}#sk-81ec13d5-14aa-46b5-9869-d2338519bbe2 div.sk-item {z-index: 1;}#sk-81ec13d5-14aa-46b5-9869-d2338519bbe2 div.sk-parallel {display: flex;align-items: stretch;justify-content: center;background-color: white;}#sk-81ec13d5-14aa-46b5-9869-d2338519bbe2 div.sk-parallel-item {display: flex;flex-direction: column;position: relative;background-color: white;}#sk-81ec13d5-14aa-46b5-9869-d2338519bbe2 div.sk-parallel-item:first-child::after {align-self: flex-end;width: 50%;}#sk-81ec13d5-14aa-46b5-9869-d2338519bbe2 div.sk-parallel-item:last-child::after {align-self: flex-start;width: 50%;}#sk-81ec13d5-14aa-46b5-9869-d2338519bbe2 div.sk-parallel-item:only-child::after {width: 0;}#sk-81ec13d5-14aa-46b5-9869-d2338519bbe2 div.sk-dashed-wrapped {border: 1px dashed gray;margin: 0.2em;box-sizing: border-box;padding-bottom: 0.1em;background-color: white;position: relative;}#sk-81ec13d5-14aa-46b5-9869-d2338519bbe2 div.sk-label label {font-family: monospace;font-weight: bold;background-color: white;display: inline-block;line-height: 1.2em;}#sk-81ec13d5-14aa-46b5-9869-d2338519bbe2 div.sk-label-container {position: relative;z-index: 2;text-align: center;}#sk-81ec13d5-14aa-46b5-9869-d2338519bbe2 div.sk-container {display: inline-block;position: relative;}</style><div id=\"sk-81ec13d5-14aa-46b5-9869-d2338519bbe2\" class\"sk-top-container\"><div class=\"sk-container\"><div class=\"sk-item sk-dashed-wrapped\"><div class=\"sk-label-container\"><div class=\"sk-label sk-toggleable\"><input class=\"sk-toggleable__control sk-hidden--visually\" id=\"22077079-5414-4325-bc87-2709557b7d17\" type=\"checkbox\" ><label class=\"sk-toggleable__label\" for=\"22077079-5414-4325-bc87-2709557b7d17\">RandomizedSearchCV</label><div class=\"sk-toggleable__content\"><pre>RandomizedSearchCV(cv=5,\n",
       "                   estimator=RandomForestRegressor(n_jobs=-1, random_state=42),\n",
       "                   n_iter=100,\n",
       "                   param_distributions={'bootstrap': [True, False],\n",
       "                                        'max_depth': [5, 15, 26, 36, 47, 57, 68,\n",
       "                                                      78, 89, 99, 110],\n",
       "                                        'max_features': ['auto', 'sqrt'],\n",
       "                                        'min_samples_leaf': <scipy.stats._distn_infrastructure.rv_frozen object at 0x000001D1886E8D00>,\n",
       "                                        'min_samples_split': <scipy.stats._distn_infrastructure.rv_frozen object at 0x000001D1886E8850>,\n",
       "                                        'n_estimators': [200, 400, 600, 800,\n",
       "                                                         1000, 1200, 1400, 1600,\n",
       "                                                         1800, 2000]},\n",
       "                   random_state=42, scoring='neg_mean_squared_error')</pre></div></div></div><div class=\"sk-parallel\"><div class=\"sk-parallel-item\"><div class=\"sk-item\"><div class=\"sk-serial\"><div class=\"sk-item\"><div class=\"sk-estimator sk-toggleable\"><input class=\"sk-toggleable__control sk-hidden--visually\" id=\"d36a28ce-0629-4978-b9c4-d0fd13d73309\" type=\"checkbox\" ><label class=\"sk-toggleable__label\" for=\"d36a28ce-0629-4978-b9c4-d0fd13d73309\">RandomForestRegressor</label><div class=\"sk-toggleable__content\"><pre>RandomForestRegressor(n_jobs=-1, random_state=42)</pre></div></div></div></div></div></div></div></div></div></div>"
      ],
      "text/plain": [
       "RandomizedSearchCV(cv=5,\n",
       "                   estimator=RandomForestRegressor(n_jobs=-1, random_state=42),\n",
       "                   n_iter=100,\n",
       "                   param_distributions={'bootstrap': [True, False],\n",
       "                                        'max_depth': [5, 15, 26, 36, 47, 57, 68,\n",
       "                                                      78, 89, 99, 110],\n",
       "                                        'max_features': ['auto', 'sqrt'],\n",
       "                                        'min_samples_leaf': <scipy.stats._distn_infrastructure.rv_frozen object at 0x000001D1886E8D00>,\n",
       "                                        'min_samples_split': <scipy.stats._distn_infrastructure.rv_frozen object at 0x000001D1886E8850>,\n",
       "                                        'n_estimators': [200, 400, 600, 800,\n",
       "                                                         1000, 1200, 1400, 1600,\n",
       "                                                         1800, 2000]},\n",
       "                   random_state=42, scoring='neg_mean_squared_error')"
      ]
     },
     "execution_count": 17,
     "metadata": {},
     "output_type": "execute_result"
    }
   ],
   "source": [
    "from sklearn.model_selection import RandomizedSearchCV\n",
    "from scipy.stats import randint\n",
    "\n",
    "param_distribs = {\n",
    "        \"n_estimators\" : [int(x) for x in np.linspace(start=200, stop=2000, num=10)],\n",
    "        \"max_features\" : [\"auto\", \"sqrt\"],\n",
    "        \"max_depth\": [int(x) for x in np.linspace(start=5, stop=110, num=11)],\n",
    "        \"min_samples_split\" : randint(low=2, high=10),\n",
    "        \"min_samples_leaf\" : randint(low=2, high=10),\n",
    "        \"bootstrap\" : [True, False]\n",
    "    }\n",
    "\n",
    "rnd_search = RandomizedSearchCV(forest_reg, param_distributions=param_distribs,\n",
    "                                n_iter=100, cv=5, scoring='neg_mean_squared_error', random_state=42)\n",
    "rnd_search.fit(X_train, y_train)"
   ]
  },
  {
   "cell_type": "code",
   "execution_count": 18,
   "id": "d2cb92ad",
   "metadata": {},
   "outputs": [
    {
     "data": {
      "text/plain": [
       "{'bootstrap': True,\n",
       " 'max_depth': 110,\n",
       " 'max_features': 'auto',\n",
       " 'min_samples_leaf': 2,\n",
       " 'min_samples_split': 2,\n",
       " 'n_estimators': 600}"
      ]
     },
     "execution_count": 18,
     "metadata": {},
     "output_type": "execute_result"
    }
   ],
   "source": [
    "rnd_search.best_params_"
   ]
  },
  {
   "cell_type": "code",
   "execution_count": 19,
   "id": "cec48c1d",
   "metadata": {},
   "outputs": [
    {
     "data": {
      "text/html": [
       "<style>#sk-fd0d7579-0fbc-46b6-81dc-d5761e920b4f {color: black;background-color: white;}#sk-fd0d7579-0fbc-46b6-81dc-d5761e920b4f pre{padding: 0;}#sk-fd0d7579-0fbc-46b6-81dc-d5761e920b4f div.sk-toggleable {background-color: white;}#sk-fd0d7579-0fbc-46b6-81dc-d5761e920b4f label.sk-toggleable__label {cursor: pointer;display: block;width: 100%;margin-bottom: 0;padding: 0.2em 0.3em;box-sizing: border-box;text-align: center;}#sk-fd0d7579-0fbc-46b6-81dc-d5761e920b4f div.sk-toggleable__content {max-height: 0;max-width: 0;overflow: hidden;text-align: left;background-color: #f0f8ff;}#sk-fd0d7579-0fbc-46b6-81dc-d5761e920b4f div.sk-toggleable__content pre {margin: 0.2em;color: black;border-radius: 0.25em;background-color: #f0f8ff;}#sk-fd0d7579-0fbc-46b6-81dc-d5761e920b4f input.sk-toggleable__control:checked~div.sk-toggleable__content {max-height: 200px;max-width: 100%;overflow: auto;}#sk-fd0d7579-0fbc-46b6-81dc-d5761e920b4f div.sk-estimator input.sk-toggleable__control:checked~label.sk-toggleable__label {background-color: #d4ebff;}#sk-fd0d7579-0fbc-46b6-81dc-d5761e920b4f div.sk-label input.sk-toggleable__control:checked~label.sk-toggleable__label {background-color: #d4ebff;}#sk-fd0d7579-0fbc-46b6-81dc-d5761e920b4f input.sk-hidden--visually {border: 0;clip: rect(1px 1px 1px 1px);clip: rect(1px, 1px, 1px, 1px);height: 1px;margin: -1px;overflow: hidden;padding: 0;position: absolute;width: 1px;}#sk-fd0d7579-0fbc-46b6-81dc-d5761e920b4f div.sk-estimator {font-family: monospace;background-color: #f0f8ff;margin: 0.25em 0.25em;border: 1px dotted black;border-radius: 0.25em;box-sizing: border-box;}#sk-fd0d7579-0fbc-46b6-81dc-d5761e920b4f div.sk-estimator:hover {background-color: #d4ebff;}#sk-fd0d7579-0fbc-46b6-81dc-d5761e920b4f div.sk-parallel-item::after {content: \"\";width: 100%;border-bottom: 1px solid gray;flex-grow: 1;}#sk-fd0d7579-0fbc-46b6-81dc-d5761e920b4f div.sk-label:hover label.sk-toggleable__label {background-color: #d4ebff;}#sk-fd0d7579-0fbc-46b6-81dc-d5761e920b4f div.sk-serial::before {content: \"\";position: absolute;border-left: 1px solid gray;box-sizing: border-box;top: 2em;bottom: 0;left: 50%;}#sk-fd0d7579-0fbc-46b6-81dc-d5761e920b4f div.sk-serial {display: flex;flex-direction: column;align-items: center;background-color: white;}#sk-fd0d7579-0fbc-46b6-81dc-d5761e920b4f div.sk-item {z-index: 1;}#sk-fd0d7579-0fbc-46b6-81dc-d5761e920b4f div.sk-parallel {display: flex;align-items: stretch;justify-content: center;background-color: white;}#sk-fd0d7579-0fbc-46b6-81dc-d5761e920b4f div.sk-parallel-item {display: flex;flex-direction: column;position: relative;background-color: white;}#sk-fd0d7579-0fbc-46b6-81dc-d5761e920b4f div.sk-parallel-item:first-child::after {align-self: flex-end;width: 50%;}#sk-fd0d7579-0fbc-46b6-81dc-d5761e920b4f div.sk-parallel-item:last-child::after {align-self: flex-start;width: 50%;}#sk-fd0d7579-0fbc-46b6-81dc-d5761e920b4f div.sk-parallel-item:only-child::after {width: 0;}#sk-fd0d7579-0fbc-46b6-81dc-d5761e920b4f div.sk-dashed-wrapped {border: 1px dashed gray;margin: 0.2em;box-sizing: border-box;padding-bottom: 0.1em;background-color: white;position: relative;}#sk-fd0d7579-0fbc-46b6-81dc-d5761e920b4f div.sk-label label {font-family: monospace;font-weight: bold;background-color: white;display: inline-block;line-height: 1.2em;}#sk-fd0d7579-0fbc-46b6-81dc-d5761e920b4f div.sk-label-container {position: relative;z-index: 2;text-align: center;}#sk-fd0d7579-0fbc-46b6-81dc-d5761e920b4f div.sk-container {display: inline-block;position: relative;}</style><div id=\"sk-fd0d7579-0fbc-46b6-81dc-d5761e920b4f\" class\"sk-top-container\"><div class=\"sk-container\"><div class=\"sk-item sk-dashed-wrapped\"><div class=\"sk-label-container\"><div class=\"sk-label sk-toggleable\"><input class=\"sk-toggleable__control sk-hidden--visually\" id=\"46ab1b7b-a78d-44ac-9367-0355d06f460b\" type=\"checkbox\" ><label class=\"sk-toggleable__label\" for=\"46ab1b7b-a78d-44ac-9367-0355d06f460b\">GridSearchCV</label><div class=\"sk-toggleable__content\"><pre>GridSearchCV(cv=5, estimator=RandomForestRegressor(n_jobs=-1, random_state=42),\n",
       "             param_grid=[{'bootstrap': [True], 'max_depth': [80, 90, 100, 110],\n",
       "                          'max_features': ['auto'],\n",
       "                          'min_samples_leaf': [2, 3, 4],\n",
       "                          'min_samples_split': [2, 3, 4],\n",
       "                          'n_estimators': [550, 600, 650]}],\n",
       "             scoring='neg_mean_squared_error')</pre></div></div></div><div class=\"sk-parallel\"><div class=\"sk-parallel-item\"><div class=\"sk-item\"><div class=\"sk-serial\"><div class=\"sk-item\"><div class=\"sk-estimator sk-toggleable\"><input class=\"sk-toggleable__control sk-hidden--visually\" id=\"8c4caa27-ca95-4695-ac98-ed6549920a44\" type=\"checkbox\" ><label class=\"sk-toggleable__label\" for=\"8c4caa27-ca95-4695-ac98-ed6549920a44\">RandomForestRegressor</label><div class=\"sk-toggleable__content\"><pre>RandomForestRegressor(n_jobs=-1, random_state=42)</pre></div></div></div></div></div></div></div></div></div></div>"
      ],
      "text/plain": [
       "GridSearchCV(cv=5, estimator=RandomForestRegressor(n_jobs=-1, random_state=42),\n",
       "             param_grid=[{'bootstrap': [True], 'max_depth': [80, 90, 100, 110],\n",
       "                          'max_features': ['auto'],\n",
       "                          'min_samples_leaf': [2, 3, 4],\n",
       "                          'min_samples_split': [2, 3, 4],\n",
       "                          'n_estimators': [550, 600, 650]}],\n",
       "             scoring='neg_mean_squared_error')"
      ]
     },
     "execution_count": 19,
     "metadata": {},
     "output_type": "execute_result"
    }
   ],
   "source": [
    "# Grille de recherche de la meilleure configuration d'hyperparamètre\n",
    "# Ajout d'une validation croisée pour diminuer les risques d'overfitting\n",
    "from sklearn.model_selection import GridSearchCV\n",
    "\n",
    "params = [{\"bootstrap\":[True],\n",
    "           \"max_depth\" : [80, 90, 100, 110],\n",
    "           \"max_features\" : [\"auto\"],\n",
    "           \"min_samples_leaf\" : [2, 3, 4],\n",
    "           \"min_samples_split\" : [2, 3, 4],\n",
    "           \"n_estimators\" : [550, 600, 650]\n",
    "}]\n",
    "\n",
    "grid_search = GridSearchCV(forest_reg, params, cv=5,\n",
    "                           scoring='neg_mean_squared_error')\n",
    "grid_search.fit(X_train, y_train)"
   ]
  },
  {
   "cell_type": "code",
   "execution_count": 20,
   "id": "508f8d9c",
   "metadata": {},
   "outputs": [
    {
     "data": {
      "text/plain": [
       "{'bootstrap': True,\n",
       " 'max_depth': 100,\n",
       " 'max_features': 'auto',\n",
       " 'min_samples_leaf': 2,\n",
       " 'min_samples_split': 3,\n",
       " 'n_estimators': 550}"
      ]
     },
     "execution_count": 20,
     "metadata": {},
     "output_type": "execute_result"
    }
   ],
   "source": [
    "# Visualisation des meilleurs paramètres\n",
    "grid_search.best_params_"
   ]
  },
  {
   "cell_type": "code",
   "execution_count": 21,
   "id": "203e075f",
   "metadata": {},
   "outputs": [
    {
     "data": {
      "text/html": [
       "<style>#sk-746a05fb-56bb-4cf0-8abc-08872b81410b {color: black;background-color: white;}#sk-746a05fb-56bb-4cf0-8abc-08872b81410b pre{padding: 0;}#sk-746a05fb-56bb-4cf0-8abc-08872b81410b div.sk-toggleable {background-color: white;}#sk-746a05fb-56bb-4cf0-8abc-08872b81410b label.sk-toggleable__label {cursor: pointer;display: block;width: 100%;margin-bottom: 0;padding: 0.2em 0.3em;box-sizing: border-box;text-align: center;}#sk-746a05fb-56bb-4cf0-8abc-08872b81410b div.sk-toggleable__content {max-height: 0;max-width: 0;overflow: hidden;text-align: left;background-color: #f0f8ff;}#sk-746a05fb-56bb-4cf0-8abc-08872b81410b div.sk-toggleable__content pre {margin: 0.2em;color: black;border-radius: 0.25em;background-color: #f0f8ff;}#sk-746a05fb-56bb-4cf0-8abc-08872b81410b input.sk-toggleable__control:checked~div.sk-toggleable__content {max-height: 200px;max-width: 100%;overflow: auto;}#sk-746a05fb-56bb-4cf0-8abc-08872b81410b div.sk-estimator input.sk-toggleable__control:checked~label.sk-toggleable__label {background-color: #d4ebff;}#sk-746a05fb-56bb-4cf0-8abc-08872b81410b div.sk-label input.sk-toggleable__control:checked~label.sk-toggleable__label {background-color: #d4ebff;}#sk-746a05fb-56bb-4cf0-8abc-08872b81410b input.sk-hidden--visually {border: 0;clip: rect(1px 1px 1px 1px);clip: rect(1px, 1px, 1px, 1px);height: 1px;margin: -1px;overflow: hidden;padding: 0;position: absolute;width: 1px;}#sk-746a05fb-56bb-4cf0-8abc-08872b81410b div.sk-estimator {font-family: monospace;background-color: #f0f8ff;margin: 0.25em 0.25em;border: 1px dotted black;border-radius: 0.25em;box-sizing: border-box;}#sk-746a05fb-56bb-4cf0-8abc-08872b81410b div.sk-estimator:hover {background-color: #d4ebff;}#sk-746a05fb-56bb-4cf0-8abc-08872b81410b div.sk-parallel-item::after {content: \"\";width: 100%;border-bottom: 1px solid gray;flex-grow: 1;}#sk-746a05fb-56bb-4cf0-8abc-08872b81410b div.sk-label:hover label.sk-toggleable__label {background-color: #d4ebff;}#sk-746a05fb-56bb-4cf0-8abc-08872b81410b div.sk-serial::before {content: \"\";position: absolute;border-left: 1px solid gray;box-sizing: border-box;top: 2em;bottom: 0;left: 50%;}#sk-746a05fb-56bb-4cf0-8abc-08872b81410b div.sk-serial {display: flex;flex-direction: column;align-items: center;background-color: white;}#sk-746a05fb-56bb-4cf0-8abc-08872b81410b div.sk-item {z-index: 1;}#sk-746a05fb-56bb-4cf0-8abc-08872b81410b div.sk-parallel {display: flex;align-items: stretch;justify-content: center;background-color: white;}#sk-746a05fb-56bb-4cf0-8abc-08872b81410b div.sk-parallel-item {display: flex;flex-direction: column;position: relative;background-color: white;}#sk-746a05fb-56bb-4cf0-8abc-08872b81410b div.sk-parallel-item:first-child::after {align-self: flex-end;width: 50%;}#sk-746a05fb-56bb-4cf0-8abc-08872b81410b div.sk-parallel-item:last-child::after {align-self: flex-start;width: 50%;}#sk-746a05fb-56bb-4cf0-8abc-08872b81410b div.sk-parallel-item:only-child::after {width: 0;}#sk-746a05fb-56bb-4cf0-8abc-08872b81410b div.sk-dashed-wrapped {border: 1px dashed gray;margin: 0.2em;box-sizing: border-box;padding-bottom: 0.1em;background-color: white;position: relative;}#sk-746a05fb-56bb-4cf0-8abc-08872b81410b div.sk-label label {font-family: monospace;font-weight: bold;background-color: white;display: inline-block;line-height: 1.2em;}#sk-746a05fb-56bb-4cf0-8abc-08872b81410b div.sk-label-container {position: relative;z-index: 2;text-align: center;}#sk-746a05fb-56bb-4cf0-8abc-08872b81410b div.sk-container {display: inline-block;position: relative;}</style><div id=\"sk-746a05fb-56bb-4cf0-8abc-08872b81410b\" class\"sk-top-container\"><div class=\"sk-container\"><div class=\"sk-item\"><div class=\"sk-estimator sk-toggleable\"><input class=\"sk-toggleable__control sk-hidden--visually\" id=\"1de2b75b-126e-4def-9149-e6692330ebb9\" type=\"checkbox\" checked><label class=\"sk-toggleable__label\" for=\"1de2b75b-126e-4def-9149-e6692330ebb9\">RandomForestRegressor</label><div class=\"sk-toggleable__content\"><pre>RandomForestRegressor(max_depth=100, min_samples_leaf=2, min_samples_split=3,\n",
       "                      n_estimators=550, n_jobs=-1, random_state=42)</pre></div></div></div></div></div>"
      ],
      "text/plain": [
       "RandomForestRegressor(max_depth=100, min_samples_leaf=2, min_samples_split=3,\n",
       "                      n_estimators=550, n_jobs=-1, random_state=42)"
      ]
     },
     "execution_count": 21,
     "metadata": {},
     "output_type": "execute_result"
    }
   ],
   "source": [
    "grid_search.best_estimator_"
   ]
  },
  {
   "cell_type": "markdown",
   "id": "f4b4c81c",
   "metadata": {},
   "source": [
    "Notre modèle est enregistré dans la grille de recherche. On va ensuite l'affecter à une variable pour tester ces performances sur un jeu de test. "
   ]
  },
  {
   "cell_type": "markdown",
   "id": "5c2a2aa5",
   "metadata": {},
   "source": [
    "## 2.4) Analyse des erreurs du modèle <a class=\"anchor\" id=\"section_2_4\"></a>"
   ]
  },
  {
   "cell_type": "markdown",
   "id": "4a670805",
   "metadata": {},
   "source": [
    "Une fois le modèle sélectionné et les hyperparamètres choisis, on va pouvoir évaluer les performances du modèle sur un jeu qu'il n'a pas encore vu : le jeu de test. "
   ]
  },
  {
   "cell_type": "code",
   "execution_count": 22,
   "id": "089e5740",
   "metadata": {},
   "outputs": [],
   "source": [
    "# Attribution du modèle entraîné à une variable\n",
    "final_model_energy = grid_search.best_estimator_"
   ]
  },
  {
   "cell_type": "code",
   "execution_count": 23,
   "id": "e15ef406",
   "metadata": {},
   "outputs": [],
   "source": [
    "final_predictions_energy = final_model_energy.predict(X_test)"
   ]
  },
  {
   "cell_type": "code",
   "execution_count": 24,
   "id": "31346b6e",
   "metadata": {},
   "outputs": [
    {
     "name": "stdout",
     "output_type": "stream",
     "text": [
      "MAE:  0.29096\n",
      "MSE:  0.18225\n",
      "RMSE:  0.42690418289451754\n",
      "RMPSE:  0.102\n",
      "MAPE:  0.01992\n",
      "R²:  0.85648\n"
     ]
    }
   ],
   "source": [
    "regression_metrics(np.array(y_test), final_predictions_energy)"
   ]
  },
  {
   "cell_type": "markdown",
   "id": "77ad6583",
   "metadata": {},
   "source": [
    "L'évaluation finale de notre modèle montre des scores plutôt bons. Notre modèle estime la consommation d'énergie avec une erreur de plus ou moins 0.11%. Il a un coefficient de détermination de 77%, c'est-à-dire qu'il permet d'expliquer 77% de la variance observée dans nos variables cibles. De plus, l'erreur moyenne est de 0.03% (MAPE)."
   ]
  },
  {
   "cell_type": "code",
   "execution_count": 25,
   "id": "286f2c9e",
   "metadata": {},
   "outputs": [
    {
     "data": {
      "image/png": "[encoded data removed]",
      "text/plain": [
       "<Figure size 576x396 with 2 Axes>"
      ]
     },
     "metadata": {},
     "output_type": "display_data"
    }
   ],
   "source": [
    "visualizer = ResidualsPlot(final_model_energy)\n",
    "visualizer.fit(np.array(X_train), np.array(y_train).reshape(5285,))\n",
    "visualizer.score(np.array(X_test), np.array(y_test).reshape(1322,))\n",
    "visualizer.show();"
   ]
  },
  {
   "cell_type": "markdown",
   "id": "5f56e87e",
   "metadata": {},
   "source": [
    "Les distributions des résidus du jeu d'entraînement et du jeu de test semblent suivre une loi normale. La distribution des résidus du jeu de test est plus aplatie. Cela peut s'expliquer par le nombre de données moins importants (seulement 20% de l'échantillon). "
   ]
  },
  {
   "cell_type": "code",
   "execution_count": 26,
   "id": "c71ede24",
   "metadata": {},
   "outputs": [
    {
     "data": {
      "image/png": "[encoded data removed]",
      "text/plain": [
       "<Figure size 576x396 with 1 Axes>"
      ]
     },
     "metadata": {},
     "output_type": "display_data"
    }
   ],
   "source": [
    "visualizer = prediction_error(final_model_energy, np.array(X_train), np.array(y_train), np.array(X_test), np.array(y_test));"
   ]
  },
  {
   "cell_type": "markdown",
   "id": "d6c37a6c",
   "metadata": {},
   "source": [
    "L'analyse des erreurs de prédiction ne montre pas d'anomalie particulière dans notre modèle. On peut donc l'enregistrer dans un pipeline pour pouvoir le déployer le moment venu. "
   ]
  },
  {
   "cell_type": "markdown",
   "id": "b872f107",
   "metadata": {},
   "source": [
    "## 2.5) Bilan du modèle <a class=\"anchor\" id=\"section_2_5\"></a>"
   ]
  },
  {
   "cell_type": "code",
   "execution_count": 27,
   "id": "d9c4b22b",
   "metadata": {},
   "outputs": [],
   "source": [
    "feature_importance = grid_search.best_estimator_.feature_importances_"
   ]
  },
  {
   "cell_type": "code",
   "execution_count": 28,
   "id": "19b3f1c6",
   "metadata": {},
   "outputs": [],
   "source": [
    "cat_encoder = preprocessor.named_transformers_[\"cat\"]\n",
    "cat_one_hot_attribs = list(cat_encoder[1].categories_)\n",
    "cat_one = list(cat_one_hot_attribs[0])\n",
    "cat_two = list(cat_one_hot_attribs[1])\n",
    "cat_three = list(cat_one_hot_attribs[2])\n",
    "cat_four = list(cat_one_hot_attribs[3])\n",
    "cat_five = list(cat_one_hot_attribs[4])\n",
    "attributes = num_var + cat_one + cat_two + cat_three + cat_four + cat_five\n",
    "importances = pd.DataFrame(feature_importance.round(3), attributes).reset_index()\n",
    "importances.columns = [\"Features\", \"Features Importances\"]"
   ]
  },
  {
   "cell_type": "code",
   "execution_count": 29,
   "id": "f57db30c",
   "metadata": {},
   "outputs": [
    {
     "data": {
      "text/html": [
       "<div>\n",
       "<style scoped>\n",
       "    .dataframe tbody tr th:only-of-type {\n",
       "        vertical-align: middle;\n",
       "    }\n",
       "\n",
       "    .dataframe tbody tr th {\n",
       "        vertical-align: top;\n",
       "    }\n",
       "\n",
       "    .dataframe thead th {\n",
       "        text-align: right;\n",
       "    }\n",
       "</style>\n",
       "<table border=\"1\" class=\"dataframe\">\n",
       "  <thead>\n",
       "    <tr style=\"text-align: right;\">\n",
       "      <th></th>\n",
       "      <th>Features</th>\n",
       "      <th>Features Importances</th>\n",
       "    </tr>\n",
       "  </thead>\n",
       "  <tbody>\n",
       "    <tr>\n",
       "      <th>111</th>\n",
       "      <td>Supermarket/Store</td>\n",
       "      <td>0.724</td>\n",
       "    </tr>\n",
       "    <tr>\n",
       "      <th>113</th>\n",
       "      <td>Vocational School</td>\n",
       "      <td>0.064</td>\n",
       "    </tr>\n",
       "    <tr>\n",
       "      <th>116</th>\n",
       "      <td>No</td>\n",
       "      <td>0.022</td>\n",
       "    </tr>\n",
       "    <tr>\n",
       "      <th>6</th>\n",
       "      <td>ThirdLargestPropertyUseTypeGFA</td>\n",
       "      <td>0.022</td>\n",
       "    </tr>\n",
       "    <tr>\n",
       "      <th>16</th>\n",
       "      <td>Office</td>\n",
       "      <td>0.021</td>\n",
       "    </tr>\n",
       "  </tbody>\n",
       "</table>\n",
       "</div>"
      ],
      "text/plain": [
       "                           Features  Features Importances\n",
       "111               Supermarket/Store                 0.724\n",
       "113               Vocational School                 0.064\n",
       "116                              No                 0.022\n",
       "6    ThirdLargestPropertyUseTypeGFA                 0.022\n",
       "16                           Office                 0.021"
      ]
     },
     "execution_count": 29,
     "metadata": {},
     "output_type": "execute_result"
    }
   ],
   "source": [
    "importances.sort_values(\"Features Importances\", ascending=False).head()"
   ]
  },
  {
   "cell_type": "markdown",
   "id": "dc4a8f5d",
   "metadata": {},
   "source": [
    "## 2.6) Pipeline du modèle pour l'estimation de la consommation d'énergie <a class=\"anchor\" id=\"section_2_5\"></a>"
   ]
  },
  {
   "cell_type": "code",
   "execution_count": 30,
   "id": "9990b41b",
   "metadata": {},
   "outputs": [],
   "source": [
    "# création de pipeline contenant la transformation des variables et le modèle entraîné\n",
    "# elle peut être utilisée pour faire des prédictions sur de nouvelles variables\n",
    "\n",
    "full_pipeline_energy = Pipeline([\n",
    "    (\"preprocessing\", preprocessor),\n",
    "    (\"model\", final_model_energy)\n",
    "])"
   ]
  },
  {
   "cell_type": "markdown",
   "id": "e6c748c4",
   "metadata": {},
   "source": [
    "Le modèle choisi est prêt à être déployé pour pouvoir prédire la consommation d'énergie. Il pourra être intéressant de le réentraîner en ne faisant aucune modification logarithmique de notre cible. En effet, les modèles se basant sur des arbres de décisions ne sont pas impactés par le non-respect de la loi normale. "
   ]
  },
  {
   "cell_type": "markdown",
   "id": "931e1978",
   "metadata": {},
   "source": [
    "# 3) Prédiction des émissions de CO2 <a class=\"anchor\" id=\"chapter3\"></a>"
   ]
  },
  {
   "cell_type": "markdown",
   "id": "2458b3fe",
   "metadata": {},
   "source": [
    "Pour la prédiction des émissions de CO$_2$, la méthode est la même que pour la prédiction de la consommation d'énergie. Cette fois-ci, la méthodologie ne sera pas aussi détaillé que pour la consommation d'énergie. "
   ]
  },
  {
   "cell_type": "markdown",
   "id": "0c318db1",
   "metadata": {},
   "source": [
    "La prédiction des émissions de CO$_2$ se fera de deux manières : sans introduire le score ENERGYSTAR et en introduisant le score ENERGYSTAR."
   ]
  },
  {
   "cell_type": "markdown",
   "id": "94ed3978",
   "metadata": {},
   "source": [
    "## 3.1) Préparation des variables <a class=\"anchor\" id=\"section_3_1\"></a>"
   ]
  },
  {
   "cell_type": "code",
   "execution_count": 31,
   "id": "4d21e1b5",
   "metadata": {},
   "outputs": [],
   "source": [
    "# Création d'un jeu d'entrainement (train set) et d'un jeu de test (test set)\n",
    "# Stratification sur la variable \"type de propriété\" (80% de bureau dans notre échantillon)\n",
    "train_set, test_set = train_test_split(data, test_size=0.2, random_state=42)\n",
    "\n",
    "y_train = train_set[[\"TotalGHGEmissions_log\"]]\n",
    "y_test = test_set[[\"TotalGHGEmissions_log\"]]\n",
    "X_train = train_set.drop([\"SiteEnergyUse(kBtu)\", \"SiteEnergyUse(kBtu)_log\", \"TotalGHGEmissions\", \"SiteEnergyUse(kBtu)_log\", \"ENERGYSTARScore\", \"YearBuilt\", \"Neighborhood\", \"Latitude\", \"Longitude\"], axis=1)\n",
    "X_test = test_set.drop([\"SiteEnergyUse(kBtu)\", \"SiteEnergyUse(kBtu)_log\", \"TotalGHGEmissions\", \"SiteEnergyUse(kBtu)_log\", \"ENERGYSTARScore\", \"YearBuilt\",\"Neighborhood\", \"Latitude\", \"Longitude\"], axis=1)"
   ]
  },
  {
   "cell_type": "markdown",
   "id": "d1c03e08",
   "metadata": {},
   "source": [
    "La transformation des variables étant identiques à la méthode ci-dessus, on n'utilise le même pipeline. Cependant, ici il y aura un entraînement sur le nouveau jeu de données X_train pour que les imputations et autres transformations correspondent aux statistiques descriptions de cet échantillon. "
   ]
  },
  {
   "cell_type": "code",
   "execution_count": 32,
   "id": "cc8e42de",
   "metadata": {},
   "outputs": [],
   "source": [
    "X_train = preprocessor.fit_transform(X_train)\n",
    "X_test = preprocessor.transform(X_test)"
   ]
  },
  {
   "cell_type": "markdown",
   "id": "634a4e69",
   "metadata": {},
   "source": [
    "## 3.2) Création d'un modèle de base <a class=\"anchor\" id=\"section_3_2\"></a>"
   ]
  },
  {
   "cell_type": "code",
   "execution_count": 33,
   "id": "4c7cfb59",
   "metadata": {},
   "outputs": [
    {
     "data": {
      "text/html": [
       "<style>#sk-f6209286-4fef-4ce7-bb70-5d7c10842b86 {color: black;background-color: white;}#sk-f6209286-4fef-4ce7-bb70-5d7c10842b86 pre{padding: 0;}#sk-f6209286-4fef-4ce7-bb70-5d7c10842b86 div.sk-toggleable {background-color: white;}#sk-f6209286-4fef-4ce7-bb70-5d7c10842b86 label.sk-toggleable__label {cursor: pointer;display: block;width: 100%;margin-bottom: 0;padding: 0.2em 0.3em;box-sizing: border-box;text-align: center;}#sk-f6209286-4fef-4ce7-bb70-5d7c10842b86 div.sk-toggleable__content {max-height: 0;max-width: 0;overflow: hidden;text-align: left;background-color: #f0f8ff;}#sk-f6209286-4fef-4ce7-bb70-5d7c10842b86 div.sk-toggleable__content pre {margin: 0.2em;color: black;border-radius: 0.25em;background-color: #f0f8ff;}#sk-f6209286-4fef-4ce7-bb70-5d7c10842b86 input.sk-toggleable__control:checked~div.sk-toggleable__content {max-height: 200px;max-width: 100%;overflow: auto;}#sk-f6209286-4fef-4ce7-bb70-5d7c10842b86 div.sk-estimator input.sk-toggleable__control:checked~label.sk-toggleable__label {background-color: #d4ebff;}#sk-f6209286-4fef-4ce7-bb70-5d7c10842b86 div.sk-label input.sk-toggleable__control:checked~label.sk-toggleable__label {background-color: #d4ebff;}#sk-f6209286-4fef-4ce7-bb70-5d7c10842b86 input.sk-hidden--visually {border: 0;clip: rect(1px 1px 1px 1px);clip: rect(1px, 1px, 1px, 1px);height: 1px;margin: -1px;overflow: hidden;padding: 0;position: absolute;width: 1px;}#sk-f6209286-4fef-4ce7-bb70-5d7c10842b86 div.sk-estimator {font-family: monospace;background-color: #f0f8ff;margin: 0.25em 0.25em;border: 1px dotted black;border-radius: 0.25em;box-sizing: border-box;}#sk-f6209286-4fef-4ce7-bb70-5d7c10842b86 div.sk-estimator:hover {background-color: #d4ebff;}#sk-f6209286-4fef-4ce7-bb70-5d7c10842b86 div.sk-parallel-item::after {content: \"\";width: 100%;border-bottom: 1px solid gray;flex-grow: 1;}#sk-f6209286-4fef-4ce7-bb70-5d7c10842b86 div.sk-label:hover label.sk-toggleable__label {background-color: #d4ebff;}#sk-f6209286-4fef-4ce7-bb70-5d7c10842b86 div.sk-serial::before {content: \"\";position: absolute;border-left: 1px solid gray;box-sizing: border-box;top: 2em;bottom: 0;left: 50%;}#sk-f6209286-4fef-4ce7-bb70-5d7c10842b86 div.sk-serial {display: flex;flex-direction: column;align-items: center;background-color: white;}#sk-f6209286-4fef-4ce7-bb70-5d7c10842b86 div.sk-item {z-index: 1;}#sk-f6209286-4fef-4ce7-bb70-5d7c10842b86 div.sk-parallel {display: flex;align-items: stretch;justify-content: center;background-color: white;}#sk-f6209286-4fef-4ce7-bb70-5d7c10842b86 div.sk-parallel-item {display: flex;flex-direction: column;position: relative;background-color: white;}#sk-f6209286-4fef-4ce7-bb70-5d7c10842b86 div.sk-parallel-item:first-child::after {align-self: flex-end;width: 50%;}#sk-f6209286-4fef-4ce7-bb70-5d7c10842b86 div.sk-parallel-item:last-child::after {align-self: flex-start;width: 50%;}#sk-f6209286-4fef-4ce7-bb70-5d7c10842b86 div.sk-parallel-item:only-child::after {width: 0;}#sk-f6209286-4fef-4ce7-bb70-5d7c10842b86 div.sk-dashed-wrapped {border: 1px dashed gray;margin: 0.2em;box-sizing: border-box;padding-bottom: 0.1em;background-color: white;position: relative;}#sk-f6209286-4fef-4ce7-bb70-5d7c10842b86 div.sk-label label {font-family: monospace;font-weight: bold;background-color: white;display: inline-block;line-height: 1.2em;}#sk-f6209286-4fef-4ce7-bb70-5d7c10842b86 div.sk-label-container {position: relative;z-index: 2;text-align: center;}#sk-f6209286-4fef-4ce7-bb70-5d7c10842b86 div.sk-container {display: inline-block;position: relative;}</style><div id=\"sk-f6209286-4fef-4ce7-bb70-5d7c10842b86\" class\"sk-top-container\"><div class=\"sk-container\"><div class=\"sk-item\"><div class=\"sk-estimator sk-toggleable\"><input class=\"sk-toggleable__control sk-hidden--visually\" id=\"a4a165df-08c5-4485-b2e4-a1bd7dabf10e\" type=\"checkbox\" checked><label class=\"sk-toggleable__label\" for=\"a4a165df-08c5-4485-b2e4-a1bd7dabf10e\">DummyRegressor</label><div class=\"sk-toggleable__content\"><pre>DummyRegressor(strategy='median')</pre></div></div></div></div></div>"
      ],
      "text/plain": [
       "DummyRegressor(strategy='median')"
      ]
     },
     "execution_count": 33,
     "metadata": {},
     "output_type": "execute_result"
    }
   ],
   "source": [
    "dummy_reg = DummyRegressor(strategy=\"median\")\n",
    "dummy_reg.fit(X_train, y_train)"
   ]
  },
  {
   "cell_type": "code",
   "execution_count": 34,
   "id": "fa7017aa",
   "metadata": {},
   "outputs": [],
   "source": [
    "y_pred = dummy_reg.predict(X_test)"
   ]
  },
  {
   "cell_type": "code",
   "execution_count": 35,
   "id": "0296e9eb",
   "metadata": {},
   "outputs": [
    {
     "name": "stdout",
     "output_type": "stream",
     "text": [
      "MAE:  1.21882\n",
      "MSE:  2.22296\n",
      "RMSE:  1.490959193354224\n",
      "RMPSE:  2.409\n",
      "MAPE:  0.57965\n",
      "R²:  -0.00728\n"
     ]
    }
   ],
   "source": [
    "regression_metrics(np.array(y_test), y_pred)"
   ]
  },
  {
   "cell_type": "markdown",
   "id": "31b57e62",
   "metadata": {},
   "source": [
    "## 3.3) Choix du modèle <a class=\"anchor\" id=\"section_3_3\"></a>"
   ]
  },
  {
   "cell_type": "code",
   "execution_count": 36,
   "id": "82a993b4",
   "metadata": {},
   "outputs": [],
   "source": [
    "dummy_reg = DummyRegressor(strategy=\"median\")\n",
    "lin_reg = LinearRegression()\n",
    "ridge = Ridge(random_state=42)\n",
    "lasso = Lasso(random_state=42)\n",
    "dt_reg =  DecisionTreeRegressor(random_state=42)\n",
    "svm_reg = SVR()\n",
    "ridge_kernel = KernelRidge()\n",
    "adaboost = AdaBoostRegressor(random_state=42)\n",
    "bagging = BaggingRegressor(random_state=42)\n",
    "gdboost = GradientBoostingRegressor(random_state=42)\n",
    "rdmforest = RandomForestRegressor(random_state=42)\n",
    "xgboost = xgb.XGBRegressor(random_state=42)"
   ]
  },
  {
   "cell_type": "code",
   "execution_count": 37,
   "id": "e2ce15ea",
   "metadata": {},
   "outputs": [
    {
     "data": {
      "text/html": [
       "<div>\n",
       "<style scoped>\n",
       "    .dataframe tbody tr th:only-of-type {\n",
       "        vertical-align: middle;\n",
       "    }\n",
       "\n",
       "    .dataframe tbody tr th {\n",
       "        vertical-align: top;\n",
       "    }\n",
       "\n",
       "    .dataframe thead th {\n",
       "        text-align: right;\n",
       "    }\n",
       "</style>\n",
       "<table border=\"1\" class=\"dataframe\">\n",
       "  <thead>\n",
       "    <tr style=\"text-align: right;\">\n",
       "      <th></th>\n",
       "      <th>Dummy Regressor</th>\n",
       "      <th>Linear Regression</th>\n",
       "      <th>Ridge</th>\n",
       "      <th>Lasso</th>\n",
       "      <th>DecisionTree</th>\n",
       "      <th>SVM</th>\n",
       "      <th>Ridge Kernel</th>\n",
       "      <th>AdaBoost</th>\n",
       "      <th>Bagging</th>\n",
       "      <th>GradientBoosting</th>\n",
       "      <th>Random Forest</th>\n",
       "      <th>XGBoost</th>\n",
       "    </tr>\n",
       "  </thead>\n",
       "  <tbody>\n",
       "    <tr>\n",
       "      <th>MAE</th>\n",
       "      <td>1.219</td>\n",
       "      <td>1.538226e+08</td>\n",
       "      <td>0.894</td>\n",
       "      <td>1.221</td>\n",
       "      <td>0.426</td>\n",
       "      <td>0.711</td>\n",
       "      <td>0.894</td>\n",
       "      <td>0.920</td>\n",
       "      <td>0.487</td>\n",
       "      <td>0.722</td>\n",
       "      <td>0.474</td>\n",
       "      <td>0.554</td>\n",
       "    </tr>\n",
       "    <tr>\n",
       "      <th>MSE</th>\n",
       "      <td>2.223</td>\n",
       "      <td>6.256071e+18</td>\n",
       "      <td>1.258</td>\n",
       "      <td>2.228</td>\n",
       "      <td>0.669</td>\n",
       "      <td>0.909</td>\n",
       "      <td>1.261</td>\n",
       "      <td>1.226</td>\n",
       "      <td>0.496</td>\n",
       "      <td>0.853</td>\n",
       "      <td>0.452</td>\n",
       "      <td>0.563</td>\n",
       "    </tr>\n",
       "    <tr>\n",
       "      <th>RMSE</th>\n",
       "      <td>1.491</td>\n",
       "      <td>2.501214e+09</td>\n",
       "      <td>1.122</td>\n",
       "      <td>1.493</td>\n",
       "      <td>0.818</td>\n",
       "      <td>0.953</td>\n",
       "      <td>1.123</td>\n",
       "      <td>1.107</td>\n",
       "      <td>0.704</td>\n",
       "      <td>0.923</td>\n",
       "      <td>0.673</td>\n",
       "      <td>0.751</td>\n",
       "    </tr>\n",
       "    <tr>\n",
       "      <th>R²</th>\n",
       "      <td>-0.007</td>\n",
       "      <td>-2.834794e+18</td>\n",
       "      <td>0.430</td>\n",
       "      <td>-0.010</td>\n",
       "      <td>0.697</td>\n",
       "      <td>0.588</td>\n",
       "      <td>0.429</td>\n",
       "      <td>0.444</td>\n",
       "      <td>0.775</td>\n",
       "      <td>0.614</td>\n",
       "      <td>0.795</td>\n",
       "      <td>0.745</td>\n",
       "    </tr>\n",
       "  </tbody>\n",
       "</table>\n",
       "</div>"
      ],
      "text/plain": [
       "      Dummy Regressor  Linear Regression  Ridge  Lasso  DecisionTree    SVM  \\\n",
       "MAE             1.219       1.538226e+08  0.894  1.221         0.426  0.711   \n",
       "MSE             2.223       6.256071e+18  1.258  2.228         0.669  0.909   \n",
       "RMSE            1.491       2.501214e+09  1.122  1.493         0.818  0.953   \n",
       "R²             -0.007      -2.834794e+18  0.430 -0.010         0.697  0.588   \n",
       "\n",
       "      Ridge Kernel  AdaBoost  Bagging  GradientBoosting  Random Forest  \\\n",
       "MAE          0.894     0.920    0.487             0.722          0.474   \n",
       "MSE          1.261     1.226    0.496             0.853          0.452   \n",
       "RMSE         1.123     1.107    0.704             0.923          0.673   \n",
       "R²           0.429     0.444    0.775             0.614          0.795   \n",
       "\n",
       "      XGBoost  \n",
       "MAE     0.554  \n",
       "MSE     0.563  \n",
       "RMSE    0.751  \n",
       "R²      0.745  "
      ]
     },
     "execution_count": 37,
     "metadata": {},
     "output_type": "execute_result"
    }
   ],
   "source": [
    "model = [dummy_reg, lin_reg, ridge, lasso, dt_reg, svm_reg, ridge_kernel, adaboost, bagging, gdboost, rdmforest, xgboost]\n",
    "dict_model = {}\n",
    "\n",
    "for model in model:\n",
    "    model.fit(X_train, y_train)\n",
    "    y_pred = model.predict(X_test)\n",
    "    mae = mean_absolute_error(y_test, y_pred)\n",
    "    mse = mean_squared_error(y_test, y_pred)\n",
    "    rmse = np.sqrt(mse)\n",
    "    r_score = r2_score(y_test, y_pred, multioutput=\"variance_weighted\").round(3)\n",
    "    dict_model[model] = (mae.round(3), mse.round(3), rmse.round(3), r_score)\n",
    "\n",
    "eval_model = pd.DataFrame(dict_model, index=[\"MAE\", \"MSE\", \"RMSE\", \"R²\"])\n",
    "eval_model.columns = [\"Dummy Regressor\", \"Linear Regression\", \"Ridge\", \"Lasso\", \"DecisionTree\", \"SVM\", \"Ridge Kernel\",\n",
    "                      \"AdaBoost\", \"Bagging\", \"GradientBoosting\", \"Random Forest\", \"XGBoost\"]\n",
    "\n",
    "eval_model"
   ]
  },
  {
   "cell_type": "markdown",
   "id": "b33f972e",
   "metadata": {},
   "source": [
    "Les modèles linéaires sont ceux avec les performances les moins bonnes ce qui montrent que le problème à laquelle nous sommes confrontés n'est pas linéaire. Les modèles ensemblistes sont ceux avec les meilleurs résultats. Ici, le choix a été fait d'améliorer les performances d'un algorithme de RandomForest."
   ]
  },
  {
   "cell_type": "markdown",
   "id": "8cccc607",
   "metadata": {},
   "source": [
    "**Modèle choisi :** RandomForest"
   ]
  },
  {
   "cell_type": "markdown",
   "id": "d02385d2",
   "metadata": {},
   "source": [
    "## 3.4) Choix des hyperparamètres <a class=\"anchor\" id=\"section_3_4\"></a>"
   ]
  },
  {
   "cell_type": "code",
   "execution_count": 38,
   "id": "16015bea",
   "metadata": {},
   "outputs": [],
   "source": [
    "# instanciation du modèle avec paramètre de base \n",
    "forest_reg = RandomForestRegressor(random_state=42, n_jobs=-1)"
   ]
  },
  {
   "cell_type": "code",
   "execution_count": null,
   "id": "33cd139f",
   "metadata": {},
   "outputs": [],
   "source": [
    "param_distribs = {\n",
    "        \"n_estimators\" : [int(x) for x in np.linspace(start=200, stop=2000, num=10)],\n",
    "        \"max_features\" : [\"auto\", \"sqrt\"],\n",
    "        \"max_depth\": [int(x) for x in np.linspace(start=5, stop=110, num=11)],\n",
    "        \"min_samples_split\" : randint(low=2, high=10),\n",
    "        \"min_samples_leaf\" : randint(low=2, high=10),\n",
    "        \"bootstrap\" : [True, False]\n",
    "    }\n",
    "\n",
    "rnd_search = RandomizedSearchCV(forest_reg, param_distributions=param_distribs,\n",
    "                                n_iter=100, cv=5, scoring='neg_mean_squared_error', random_state=42)\n",
    "rnd_search.fit(X_train, y_train)"
   ]
  },
  {
   "cell_type": "code",
   "execution_count": null,
   "id": "68dfaa19",
   "metadata": {},
   "outputs": [],
   "source": [
    "rnd_search.best_params_"
   ]
  },
  {
   "cell_type": "code",
   "execution_count": null,
   "id": "1335dc70",
   "metadata": {
    "scrolled": true
   },
   "outputs": [],
   "source": [
    "from sklearn.model_selection import GridSearchCV\n",
    "\n",
    "params = [{\"bootstrap\":[True],\n",
    "           \"max_depth\" : [80, 90, 100, 110],\n",
    "           \"max_features\" : [\"auto\"],\n",
    "           \"min_samples_leaf\" : [2, 3, 4],\n",
    "           \"min_samples_split\" : [2, 3, 4],\n",
    "           \"n_estimators\" : [550, 600, 650]\n",
    "}]\n",
    "\n",
    "grid_search = GridSearchCV(forest_reg, params, cv=5,\n",
    "                           scoring='neg_mean_squared_error')\n",
    "grid_search.fit(X_train, y_train)"
   ]
  },
  {
   "cell_type": "code",
   "execution_count": null,
   "id": "993ecf15",
   "metadata": {},
   "outputs": [],
   "source": [
    "grid_search.best_params_"
   ]
  },
  {
   "cell_type": "markdown",
   "id": "dad1dd88",
   "metadata": {},
   "source": [
    "## 3.5) Analyse des erreurs du modèle <a class=\"anchor\" id=\"section_3_5\"></a>"
   ]
  },
  {
   "cell_type": "code",
   "execution_count": null,
   "id": "f0a1bc63",
   "metadata": {},
   "outputs": [],
   "source": [
    "final_model_co2 = grid_search.best_estimator_"
   ]
  },
  {
   "cell_type": "code",
   "execution_count": null,
   "id": "2224958b",
   "metadata": {},
   "outputs": [],
   "source": [
    "final_predictions_co2 = final_model_co2.predict(X_test)"
   ]
  },
  {
   "cell_type": "code",
   "execution_count": null,
   "id": "c2251b10",
   "metadata": {},
   "outputs": [],
   "source": [
    "regression_metrics(np.array(y_test), final_predictions_co2)"
   ]
  },
  {
   "cell_type": "code",
   "execution_count": null,
   "id": "175b1e6e",
   "metadata": {},
   "outputs": [],
   "source": [
    "visualizer = ResidualsPlot(final_model_co2)\n",
    "visualizer.fit(np.array(X_train), np.array(y_train).reshape(5285,))\n",
    "visualizer.score(np.array(X_test), np.array(y_test).reshape(1322,))\n",
    "visualizer.show();"
   ]
  },
  {
   "cell_type": "markdown",
   "id": "7dccf421",
   "metadata": {},
   "source": [
    "La différence entre le coefficient de détermination du jeu d'entraînement et du jeu de test montre qu'il y a overfitting de notre modèle malgré les précautions prises (validation croisée, contrainte du modèle en utilisant l'hypermètre $\\eta$). Les scores observées sont moins bons que pour la prédiction de la consommation d'énergie. En effet, notre modèle n'explique que 65% de la variance observée. De plus, son pourcentage d'erreur moyenne (MAPE) est de 0.31%. Si on se réfère au pourcentage de RMSE (RMSPE), notre modèle donne une prédiction avec une erreur de plus ou moins 1.7%."
   ]
  },
  {
   "cell_type": "code",
   "execution_count": null,
   "id": "efe0e884",
   "metadata": {},
   "outputs": [],
   "source": [
    "visualizer = prediction_error(final_model_co2, np.array(X_train), np.array(y_train), np.array(X_test), np.array(y_test));"
   ]
  },
  {
   "cell_type": "markdown",
   "id": "4d3efb50",
   "metadata": {},
   "source": [
    "La prédiction des émissions de CO$_2$ semble plus complexe que celle de la consommation d'énergie. Cela peut s'expliquer par le fait que nous ne disposons pas d'informations suffisantes pour faire cette prédiction. Contrairement à la consommation d'énergie, il est possible que d'autres variables interviennent dans notre modèle ce qui expliquerait, par exemple, que notre coefficient de détermination soit aussi faible. "
   ]
  },
  {
   "cell_type": "markdown",
   "id": "3b9b2293",
   "metadata": {},
   "source": [
    "## 3.6) Bilan du modèle <a class=\"anchor\" id=\"section_3_6\"></a>"
   ]
  },
  {
   "cell_type": "code",
   "execution_count": null,
   "id": "90f2d67c",
   "metadata": {},
   "outputs": [],
   "source": [
    "feature_importance = grid_search.best_estimator_.feature_importances_"
   ]
  },
  {
   "cell_type": "code",
   "execution_count": null,
   "id": "1bce7467",
   "metadata": {},
   "outputs": [],
   "source": [
    "cat_encoder = preprocessor.named_transformers_[\"cat\"]\n",
    "cat_one_hot_attribs = list(cat_encoder[1].categories_)\n",
    "cat_one = list(cat_one_hot_attribs[0])\n",
    "cat_two = list(cat_one_hot_attribs[1])\n",
    "cat_three = list(cat_one_hot_attribs[2])\n",
    "cat_four = list(cat_one_hot_attribs[3])\n",
    "cat_five = list(cat_one_hot_attribs[4])\n",
    "attributes = num_var + cat_one + cat_two + cat_three + cat_four + cat_five\n",
    "importances = pd.DataFrame(feature_importance.round(3), attributes).reset_index()\n",
    "importances.columns = [\"Features\", \"Features Importances\"]"
   ]
  },
  {
   "cell_type": "code",
   "execution_count": null,
   "id": "7fbc28c4",
   "metadata": {},
   "outputs": [],
   "source": [
    "importances.sort_values(\"Features Importances\", ascending=False).head()"
   ]
  },
  {
   "cell_type": "markdown",
   "id": "2e972b3b",
   "metadata": {},
   "source": [
    "## 3.7) Pipeline du modèle pour l'estimation des émissions de CO2 <a class=\"anchor\" id=\"section_3_7\"></a>"
   ]
  },
  {
   "cell_type": "code",
   "execution_count": null,
   "id": "93f5f8b0",
   "metadata": {},
   "outputs": [],
   "source": [
    "full_pipeline_co2 = Pipeline([\n",
    "    (\"preprocessing\", preprocessor),\n",
    "    (\"model\", final_model_co2)\n",
    "])"
   ]
  },
  {
   "cell_type": "markdown",
   "id": "d47cdc46",
   "metadata": {},
   "source": [
    "On enregistre tout de même ce modèle dans un pipeline. Malgré ses erreurs, il est utilisable pour obtenir une estimation des émissions de CO$_2$ mais il sera moins précis que l'estimation de la consommation d'énergie. "
   ]
  },
  {
   "cell_type": "markdown",
   "id": "2d74e8a9",
   "metadata": {},
   "source": [
    "# 4 - Prédiction des émissions de CO2 avec ENERGY STAR SCORE"
   ]
  },
  {
   "cell_type": "markdown",
   "id": "209cf75e",
   "metadata": {},
   "source": [
    "Cette fois-ci, on va regarder si l'ajout du score ENERGY STAR va permettre d'améliorer notre modèle. "
   ]
  },
  {
   "cell_type": "markdown",
   "id": "32059fc4",
   "metadata": {},
   "source": [
    "## 4.1) Préparation des variables <a class=\"anchor\" id=\"section_4_1\"></a>"
   ]
  },
  {
   "cell_type": "code",
   "execution_count": null,
   "id": "a9b6d9a8",
   "metadata": {},
   "outputs": [],
   "source": [
    "# Création d'un jeu d'entrainement (train set) et d'un jeu de test (test set)\n",
    "train_set, test_set = train_test_split(data, test_size=0.2, random_state=42)\n",
    "\n",
    "y_train = train_set[[\"TotalGHGEmissions_log\"]]\n",
    "y_test = test_set[[\"TotalGHGEmissions_log\"]]\n",
    "X_train = train_set.drop([\"SiteEnergyUse(kBtu)\", \"SiteEnergyUse(kBtu)_log\", \"TotalGHGEmissions\", \"SiteEnergyUse(kBtu)_log\", \"YearBuilt\", \"Neighborhood\", \"Latitude\", \"Longitude\"], axis=1)\n",
    "X_test = test_set.drop([\"SiteEnergyUse(kBtu)\", \"SiteEnergyUse(kBtu)_log\", \"TotalGHGEmissions\", \"SiteEnergyUse(kBtu)_log\", \"YearBuilt\",\"Neighborhood\", \"Latitude\", \"Longitude\"], axis=1)"
   ]
  },
  {
   "cell_type": "code",
   "execution_count": null,
   "id": "45a8cab3",
   "metadata": {},
   "outputs": [],
   "source": [
    "# Séparation des variables catégorielles et numériques\n",
    "cat_var = [\"PrimaryPropertyType\", \"Clusters\", \"HasParking\", \"SecondLargestPropertyUseType\", \"ThirdLargestPropertyUseType\"]\n",
    "num_var = [\"PropertyGFATotal\", \"degreeDaysH\", \"Age\", \"NumberofBuildings\", \"NumberofFloors\", \"SecondLargestPropertyUseTypeGFA\", \"ThirdLargestPropertyUseTypeGFA\", \"ENERGYSTARScore\"]"
   ]
  },
  {
   "cell_type": "code",
   "execution_count": null,
   "id": "30e1fcf5",
   "metadata": {},
   "outputs": [],
   "source": [
    "# Création d'un pipeline de transformation\n",
    "\n",
    "cat_pipe = Pipeline([\n",
    "    ('imputer', SimpleImputer(strategy='most_frequent', fill_value='missing')),\n",
    "    ('encoder', OneHotEncoder(handle_unknown='ignore', sparse=False))\n",
    "])\n",
    "\n",
    "num_pipe = Pipeline([\n",
    "    ('imputer', SimpleImputer(strategy=\"median\", fill_value=\"missing\")),\n",
    "    ('scaler', StandardScaler())\n",
    "])\n",
    "\n",
    "preprocessor = ColumnTransformer(\n",
    "    transformers=[\n",
    "    ('cat', cat_pipe, cat_var),\n",
    "    ('num', num_pipe, num_var)\n",
    "])"
   ]
  },
  {
   "cell_type": "code",
   "execution_count": null,
   "id": "c8b82fd5",
   "metadata": {},
   "outputs": [],
   "source": [
    "X_train = preprocessor.fit_transform(X_train)"
   ]
  },
  {
   "cell_type": "markdown",
   "id": "cf69b51a",
   "metadata": {},
   "source": [
    "## 4.2) Création d'un modèle de base <a class=\"anchor\" id=\"section_4_2\"></a>"
   ]
  },
  {
   "cell_type": "code",
   "execution_count": null,
   "id": "139ead8d",
   "metadata": {
    "scrolled": true
   },
   "outputs": [],
   "source": [
    "dummy_reg = DummyRegressor(strategy=\"median\")\n",
    "dummy_reg.fit(X_train, y_train)"
   ]
  },
  {
   "cell_type": "code",
   "execution_count": null,
   "id": "29319aa7",
   "metadata": {},
   "outputs": [],
   "source": [
    "X_test = preprocessor.transform(X_test)\n",
    "y_pred = dummy_reg.predict(X_test)\n",
    "regression_metrics(np.array(y_test), y_pred)"
   ]
  },
  {
   "cell_type": "markdown",
   "id": "a245a94f",
   "metadata": {},
   "source": [
    "## 4.3) Choix du modèle <a class=\"anchor\" id=\"section_4_3\"></a>"
   ]
  },
  {
   "cell_type": "code",
   "execution_count": null,
   "id": "39a8cbce",
   "metadata": {},
   "outputs": [],
   "source": [
    "dummy_reg = DummyRegressor(strategy=\"median\")\n",
    "lin_reg = LinearRegression()\n",
    "ridge = Ridge(random_state=42)\n",
    "lasso = Lasso(random_state=42)\n",
    "dt_reg =  DecisionTreeRegressor(random_state=42)\n",
    "svm_reg = SVR()\n",
    "ridge_kernel = KernelRidge()\n",
    "adaboost = AdaBoostRegressor(random_state=42)\n",
    "bagging = BaggingRegressor(random_state=42)\n",
    "gdboost = GradientBoostingRegressor(random_state=42)\n",
    "rdmforest = RandomForestRegressor(random_state=42)\n",
    "xgboost = xgb.XGBRegressor(random_state=42)"
   ]
  },
  {
   "cell_type": "code",
   "execution_count": null,
   "id": "2ca0fcac",
   "metadata": {},
   "outputs": [],
   "source": [
    "model = [dummy_reg, lin_reg, ridge, lasso, dt_reg, svm_reg, ridge_kernel, adaboost, bagging, gdboost, rdmforest, xgboost]\n",
    "dict_model = {}\n",
    "\n",
    "for model in model:\n",
    "    model.fit(X_train, y_train)\n",
    "    y_pred = model.predict(X_test)\n",
    "    mae = mean_absolute_error(y_test, y_pred)\n",
    "    mse = mean_squared_error(y_test, y_pred)\n",
    "    rmse = np.sqrt(mse)\n",
    "    r_score = r2_score(y_test, y_pred, multioutput=\"variance_weighted\").round(3)\n",
    "    dict_model[model] = (mae.round(3), mse.round(3), rmse.round(3), r_score)\n",
    "\n",
    "eval_model = pd.DataFrame(dict_model, index=[\"MAE\", \"MSE\", \"RMSE\", \"R²\"])\n",
    "eval_model.columns = [\"Dummy Regressor\", \"Linear Regression\", \"Ridge\", \"Lasso\", \"DecisionTree\", \"SVM\", \"Ridge Kernel\",\n",
    "                      \"AdaBoost\", \"Bagging\", \"GradientBoosting\", \"Random Forest\", \"XGBoost\"]\n",
    "\n",
    "eval_model"
   ]
  },
  {
   "cell_type": "markdown",
   "id": "76ac5029",
   "metadata": {},
   "source": [
    "La variable cible étant la même et les variables explications presque identiques, on se retrouve avec des résultats qui sont proches de ce qui avait été vu auparavant. Les modèles linéaires ne sont pas adaptées à notre problème de régression. Le choix se portera sur des modèles ensemblistes et plus particulièrement, l'algorithme de XGBoost. "
   ]
  },
  {
   "cell_type": "markdown",
   "id": "34e0e8aa",
   "metadata": {},
   "source": [
    "**Modèle choisi** : RandomForest"
   ]
  },
  {
   "cell_type": "markdown",
   "id": "792acba8",
   "metadata": {},
   "source": [
    "## 4.4) Recherche des hyperparamètres <a class=\"anchor\" id=\"section_4_4\"></a>"
   ]
  },
  {
   "cell_type": "code",
   "execution_count": null,
   "id": "ec925e67",
   "metadata": {},
   "outputs": [],
   "source": [
    "# instanciation du modèle avec paramètre de base \n",
    "forest_reg = RandomForestRegressor(random_state=42, n_jobs=-1)"
   ]
  },
  {
   "cell_type": "code",
   "execution_count": null,
   "id": "aef6653c",
   "metadata": {},
   "outputs": [],
   "source": [
    "param_distribs = {\n",
    "        \"n_estimators\" : [int(x) for x in np.linspace(start=200, stop=2000, num=10)],\n",
    "        \"max_features\" : [\"auto\", \"sqrt\"],\n",
    "        \"max_depth\": [int(x) for x in np.linspace(start=5, stop=110, num=11)],\n",
    "        \"min_samples_split\" : randint(low=2, high=10),\n",
    "        \"min_samples_leaf\" : randint(low=2, high=10),\n",
    "        \"bootstrap\" : [True, False]\n",
    "    }\n",
    "\n",
    "rnd_search = RandomizedSearchCV(forest_reg, param_distributions=param_distribs,\n",
    "                                n_iter=100, cv=5, scoring='neg_mean_squared_error', random_state=42)\n",
    "rnd_search.fit(X_train, y_train)"
   ]
  },
  {
   "cell_type": "code",
   "execution_count": null,
   "id": "9bb6a494",
   "metadata": {},
   "outputs": [],
   "source": [
    "rnd_search.best_params_"
   ]
  },
  {
   "cell_type": "code",
   "execution_count": null,
   "id": "32a70b2e",
   "metadata": {
    "scrolled": true
   },
   "outputs": [],
   "source": [
    "params = [{\"bootstrap\":[True],\n",
    "           \"max_depth\" : [80, 90, 100, 110],\n",
    "           \"max_features\" : [\"auto\"],\n",
    "           \"min_samples_leaf\" : [2, 3, 4],\n",
    "           \"min_samples_split\" : [2, 3, 4],\n",
    "           \"n_estimators\" : [550, 600, 650]\n",
    "}]\n",
    "\n",
    "grid_search = GridSearchCV(forest_reg, params, cv=5,\n",
    "                           scoring='neg_mean_squared_error')\n",
    "grid_search.fit(X_train, y_train)"
   ]
  },
  {
   "cell_type": "code",
   "execution_count": null,
   "id": "eaf59df4",
   "metadata": {},
   "outputs": [],
   "source": [
    "grid_search.best_params_"
   ]
  },
  {
   "cell_type": "code",
   "execution_count": null,
   "id": "f7b12728",
   "metadata": {},
   "outputs": [],
   "source": [
    "final_model_ghg = grid_search.best_estimator_"
   ]
  },
  {
   "cell_type": "code",
   "execution_count": null,
   "id": "d7eb03f5",
   "metadata": {},
   "outputs": [],
   "source": [
    "final_prediction_ghg = final_model_ghg.predict(X_test)"
   ]
  },
  {
   "cell_type": "markdown",
   "id": "806d4c1a",
   "metadata": {},
   "source": [
    "## 4.5) Evaluation du modèle"
   ]
  },
  {
   "cell_type": "code",
   "execution_count": null,
   "id": "b09c6d0d",
   "metadata": {},
   "outputs": [],
   "source": [
    "regression_metrics(np.array(y_test), final_prediction_ghg)"
   ]
  },
  {
   "cell_type": "code",
   "execution_count": null,
   "id": "4b57d02b",
   "metadata": {},
   "outputs": [],
   "source": [
    "visualizer = ResidualsPlot(final_model_ghg)\n",
    "visualizer.fit(np.array(X_train), np.array(y_train).reshape(5285,))\n",
    "visualizer.score(np.array(X_test), np.array(y_test).reshape(1322,))\n",
    "visualizer.show();"
   ]
  },
  {
   "cell_type": "markdown",
   "id": "70d023d9",
   "metadata": {},
   "source": [
    "Comme pour la prédiction sans utiliser le score ENERGY STAR, on observe un effet important de surapprentissage. Notre coefficient de détermination est légèrement plus élevée montrant que notre modèle capture presque 68% de la variance du phénomène. Ensuite, les mesures des erreurs montrent que notre modèle effectue des prédictions avec 0.30% d'erreur (MAPE) contre 0.31% sans le score ENERGY STAR. "
   ]
  },
  {
   "cell_type": "code",
   "execution_count": null,
   "id": "a79004a0",
   "metadata": {},
   "outputs": [],
   "source": [
    "visualizer = prediction_error(final_model_ghg, np.array(X_train), np.array(y_train), np.array(X_test), np.array(y_test));"
   ]
  },
  {
   "cell_type": "markdown",
   "id": "8b880983",
   "metadata": {},
   "source": [
    "## 4.6) Bilan du modèle <a class=\"anchor\" id=\"section_4_6\"></a>"
   ]
  },
  {
   "cell_type": "code",
   "execution_count": null,
   "id": "694d9ab0",
   "metadata": {},
   "outputs": [],
   "source": [
    "feature_importance = grid_search.best_estimator_.feature_importances_"
   ]
  },
  {
   "cell_type": "code",
   "execution_count": null,
   "id": "9b61a96c",
   "metadata": {},
   "outputs": [],
   "source": [
    "cat_encoder = preprocessor.named_transformers_[\"cat\"]\n",
    "cat_one_hot_attribs = list(cat_encoder[1].categories_)\n",
    "cat_one = list(cat_one_hot_attribs[0])\n",
    "cat_two = list(cat_one_hot_attribs[1])\n",
    "cat_three = list(cat_one_hot_attribs[2])\n",
    "cat_four = list(cat_one_hot_attribs[3])\n",
    "cat_five = list(cat_one_hot_attribs[4])\n",
    "attributes = num_var + cat_one + cat_two + cat_three + cat_four + cat_five\n",
    "importances = pd.DataFrame(feature_importance.round(3), attributes).reset_index()\n",
    "importances.columns = [\"Features\", \"Features Importances\"]"
   ]
  },
  {
   "cell_type": "code",
   "execution_count": null,
   "id": "3c8a821e",
   "metadata": {},
   "outputs": [],
   "source": [
    "importances.sort_values(\"Features Importances\", ascending=False).head()"
   ]
  },
  {
   "cell_type": "markdown",
   "id": "8a32feab",
   "metadata": {},
   "source": [
    "L'ajout d'une variable supplémentaire permet de construire un modèle qui capture un peu plus de variance mais sans diminuer de manière importante les erreurs commises par notre modèle. De plus, il y a un grand nombre de valeurs manquantes pour le score ENERGY STAR et ces valeurs manquantes ont été remplacés par la médiane ce qui peut introduire un biais dans notre modèle.\n",
    "\n",
    "L'intérêt du score ENERGY STAR ne semble pas important dans notre modèle si on se réfère aux performances de ce dernier. "
   ]
  },
  {
   "cell_type": "markdown",
   "id": "36deeff9",
   "metadata": {},
   "source": [
    "## 4.7) Pipeline du modèle <a class=\"anchor\" id=\"section_4_7\"></a>"
   ]
  },
  {
   "cell_type": "code",
   "execution_count": null,
   "id": "d3854dc4",
   "metadata": {},
   "outputs": [],
   "source": [
    "full_pipeline_ghg = Pipeline([\n",
    "    (\"preprocessing\", preprocessor),\n",
    "    (\"model\", final_model_ghg)\n",
    "])"
   ]
  },
  {
   "cell_type": "markdown",
   "id": "df4520be",
   "metadata": {},
   "source": [
    "# 5 - Conclusion <a class=\"anchor\" id=\"chapter5\"></a>"
   ]
  },
  {
   "cell_type": "markdown",
   "id": "6930c25f",
   "metadata": {},
   "source": [
    "Les informations dont l'on dispose nous permette d'avoir une estimation correcte de la consommation d'énergie. On dispose d'un modèle qui capture les 3/4 de la variance de notre phénomène. Les erreurs de prédictions sont plutôt faibles (0.11% si on prend le RMSPE ou 0.03% avec le MAPE). \n",
    "\n",
    "Concernant la prédiction de CO2, il semblerait que nos informations ne soient pas suffisantes pour obtenir un coefficient de détermination dépassant les 70%. Il faudrait donc obtenir des informations supplémentaires pour pouvoir obtenir une meilleure prédiction. L'ajout du score ENERGY STAR permet d'améliorer la variance expliquée par notre modèle sans pour autant réduire significativement les erreurs de prédiction. "
   ]
  },
  {
   "cell_type": "markdown",
   "id": "a602ff02",
   "metadata": {},
   "source": [
    "# Bonus : Prédiction à l'aide de méthode de Deep Learning <a class=\"anchor\" id=\"chapter6\"></a>"
   ]
  },
  {
   "cell_type": "markdown",
   "id": "56424760",
   "metadata": {},
   "source": [
    "Cette partie n'était pas demandée mais des essais sur des réseaux de neurones ont été effectués pour voir s'il était possible d'améliorer les modèles présentés ci-dessus. "
   ]
  },
  {
   "cell_type": "markdown",
   "id": "d8cc4e5c",
   "metadata": {},
   "source": [
    "## Prédiction de la consommation d'énergie <a class=\"anchor\" id=\"section_6_1\"></a>"
   ]
  },
  {
   "cell_type": "markdown",
   "id": "1e2f662f",
   "metadata": {},
   "source": [
    "### Préparation des données"
   ]
  },
  {
   "cell_type": "code",
   "execution_count": null,
   "id": "7dbc38cf",
   "metadata": {},
   "outputs": [],
   "source": [
    "train_set, test_set = train_test_split(data, test_size=0.2, random_state=42)\n",
    "\n",
    "y_train = train_set[[\"SiteEnergyUse(kBtu)_log\"]]\n",
    "y_test = test_set[[\"SiteEnergyUse(kBtu)_log\"]]\n",
    "X_train = train_set.drop([\"SiteEnergyUse(kBtu)\", \"SiteEnergyUse(kBtu)_log\", \"TotalGHGEmissions\", \"TotalGHGEmissions_log\", \"ENERGYSTARScore\", \"YearBuilt\", \"Neighborhood\", \"Latitude\", \"Longitude\",], axis=1)\n",
    "X_test = test_set.drop([\"SiteEnergyUse(kBtu)\", \"SiteEnergyUse(kBtu)_log\", \"TotalGHGEmissions\", \"TotalGHGEmissions_log\", \"ENERGYSTARScore\", \"YearBuilt\",\"Neighborhood\", \"Latitude\", \"Longitude\"], axis=1)"
   ]
  },
  {
   "cell_type": "code",
   "execution_count": null,
   "id": "e24d6763",
   "metadata": {},
   "outputs": [],
   "source": [
    "cat_var = [\"PrimaryPropertyType\", \"HasParking\", \"Clusters\", \"SecondLargestPropertyUseType\", \"ThirdLargestPropertyUseType\"]\n",
    "num_var = [\"PropertyGFATotal\", \"degreeDaysH\", \"Age\", \"NumberofBuildings\", \"NumberofFloors\", \"SecondLargestPropertyUseTypeGFA\", \"ThirdLargestPropertyUseTypeGFA\"]"
   ]
  },
  {
   "cell_type": "code",
   "execution_count": null,
   "id": "b1e46f20",
   "metadata": {},
   "outputs": [],
   "source": [
    "# Création d'un pipeline de transformation\n",
    "cat_pipe = Pipeline([\n",
    "    ('imputer', SimpleImputer(strategy='most_frequent', fill_value='missing')),\n",
    "    ('encoder', OneHotEncoder(handle_unknown='ignore', sparse=False))\n",
    "])\n",
    "\n",
    "num_pipe = Pipeline([\n",
    "    ('imputer', SimpleImputer(strategy=\"median\", fill_value=\"missing\")),\n",
    "    ('scaler', StandardScaler())\n",
    "])\n",
    "\n",
    "preprocessor = ColumnTransformer(\n",
    "    transformers=[\n",
    "    ('cat', cat_pipe, cat_var),\n",
    "    ('num', num_pipe, num_var)\n",
    "])"
   ]
  },
  {
   "cell_type": "code",
   "execution_count": null,
   "id": "601da884",
   "metadata": {},
   "outputs": [],
   "source": [
    "X_train = preprocessor.fit_transform(X_train)\n",
    "X_test = preprocessor.transform(X_test)"
   ]
  },
  {
   "cell_type": "markdown",
   "id": "7f04c5fe",
   "metadata": {},
   "source": [
    "### Création du modèle"
   ]
  },
  {
   "cell_type": "markdown",
   "id": "4382d147",
   "metadata": {},
   "source": [
    "On va créer notre modèle en lui ajoutant deux couches cachées avec une fonction d'activation Rectified Linear Unit (ou **relu**). La mesure d'évaluation choisie ici sera le MAE. On choisit de ne mettre que deux couches cachées car notre jeu de données est petit et ainsi on va limiter l'overfitting de notre réseau de neurones. Le code utilisé pour la création du modèle, la mise en place de validation croisée et le choix du nombre d'epochs s'est inspiré du livre *Deep Learning with Python* de François Chollet."
   ]
  },
  {
   "cell_type": "code",
   "execution_count": null,
   "id": "2cd38ec5",
   "metadata": {},
   "outputs": [],
   "source": [
    "from tensorflow import keras\n",
    "\n",
    "def build_model():\n",
    "    model=keras.Sequential([\n",
    "        keras.layers.Dense(64, activation=\"relu\"),\n",
    "        keras.layers.Dense(64, activation=\"relu\"),\n",
    "        keras.layers.Dense(1)\n",
    "    ])\n",
    "    model.compile(loss=\"mse\", optimizer=\"rmsprop\", metrics=[\"mae\"])\n",
    "    return model"
   ]
  },
  {
   "cell_type": "markdown",
   "id": "cbccb445",
   "metadata": {},
   "source": [
    "- Mise en place d'une validation croisée avec K = 5"
   ]
  },
  {
   "cell_type": "code",
   "execution_count": null,
   "id": "69a46229",
   "metadata": {},
   "outputs": [],
   "source": [
    "k = 5\n",
    "num_val_samples = len(X_train)//k\n",
    "num_epochs = 100\n",
    "all_scores = []\n",
    "\n",
    "for i in range(k):\n",
    "    print(f\"Processing fold #{i}\")\n",
    "    val_data = X_train[i * num_val_samples: (i + 1) * num_val_samples]\n",
    "    val_targets = y_train[i * num_val_samples: (i + 1) * num_val_samples]\n",
    "    partial_train_data = np.concatenate(\n",
    "    [X_train[:i * num_val_samples],\n",
    "     X_train[(i + 1) * num_val_samples:]],\n",
    "    axis=0)\n",
    "    partial_train_targets = np.concatenate(\n",
    "    [y_train[:i * num_val_samples],\n",
    "     y_train[(i + 1) * num_val_samples:]],\n",
    "    axis=0)\n",
    "    model = build_model()\n",
    "    model.fit(partial_train_data, partial_train_targets,\n",
    "              epochs=num_epochs, batch_size=16, verbose=0)\n",
    "    val_mse, val_mae = model.evaluate(val_data, val_targets, verbose=0)\n",
    "    all_scores.append(val_mae)"
   ]
  },
  {
   "cell_type": "code",
   "execution_count": null,
   "id": "f0a754f1",
   "metadata": {},
   "outputs": [],
   "source": [
    "print(all_scores)\n",
    "print(\"MAE moyen:\", np.mean(all_scores).round(2))"
   ]
  },
  {
   "cell_type": "markdown",
   "id": "223abbc3",
   "metadata": {},
   "source": [
    "Le MAE moyen à l'issue de notre validation croisée est de 0.64. On va reproduire cette validation croisée en augmentant le nombre d'epochs afin de choisir le nombre optimal pour notre réseau. "
   ]
  },
  {
   "cell_type": "code",
   "execution_count": null,
   "id": "716481d5",
   "metadata": {},
   "outputs": [],
   "source": [
    "num_epochs = 500\n",
    "all_mae_histories = []\n",
    "for i in range(k):\n",
    "    print(f\"Processing fold #{i}\")\n",
    "    val_data = X_train[i * num_val_samples: (i + 1) * num_val_samples]\n",
    "    val_targets = y_train[i * num_val_samples: (i + 1) * num_val_samples]\n",
    "    partial_train_data = np.concatenate(\n",
    "    [X_train[:i * num_val_samples],\n",
    "     X_train[(i + 1) * num_val_samples:]],\n",
    "    axis=0)\n",
    "    partial_train_targets = np.concatenate(\n",
    "    [y_train[:i * num_val_samples],\n",
    "     y_train[(i + 1) * num_val_samples:]],\n",
    "    axis=0)\n",
    "    model = build_model()\n",
    "    history = model.fit(partial_train_data, partial_train_targets,\n",
    "                            validation_data=(val_data, val_targets),\n",
    "                            epochs=num_epochs, batch_size=16, verbose=0)\n",
    "    mae_history = history.history[\"val_mae\"]\n",
    "    all_mae_histories.append(mae_history)"
   ]
  },
  {
   "cell_type": "code",
   "execution_count": null,
   "id": "6302bd77",
   "metadata": {},
   "outputs": [],
   "source": [
    "average_mae_history = [np.mean([x[i] for x in all_mae_histories]) for i in range(num_epochs)]"
   ]
  },
  {
   "cell_type": "code",
   "execution_count": null,
   "id": "31431549",
   "metadata": {},
   "outputs": [],
   "source": [
    "plt.plot(range(1, len(average_mae_history) + 1), average_mae_history)\n",
    "plt.xlabel(\"Epochs\")\n",
    "plt.ylabel(\"Validation MAE\")\n",
    "plt.show()"
   ]
  },
  {
   "cell_type": "markdown",
   "id": "3f8b4366",
   "metadata": {},
   "source": [
    "Les premiers epochs montrent des scores très importants. On va donc les supprimer pour pouvoir regarder de plus près le moment où l'augmentation du MAE stagne. "
   ]
  },
  {
   "cell_type": "code",
   "execution_count": null,
   "id": "e45eebb9",
   "metadata": {},
   "outputs": [],
   "source": [
    "truncated_mae_history = average_mae_history[10:]\n",
    "plt.plot(range(1, len(truncated_mae_history) + 1), truncated_mae_history)\n",
    "plt.xlabel(\"Epochs\")\n",
    "plt.ylabel(\"Validation MAE\")\n",
    "plt.show()"
   ]
  },
  {
   "cell_type": "markdown",
   "id": "4be9d6a7",
   "metadata": {},
   "source": [
    "Le nombre d'epochs optimal semble se situer vers 120-130. On va donc choisir la valeur de 120 pour entraîner notre modèle."
   ]
  },
  {
   "cell_type": "code",
   "execution_count": null,
   "id": "033b9d03",
   "metadata": {},
   "outputs": [],
   "source": [
    "model = build_model()\n",
    "model.fit(X_train, y_train, \n",
    "          epochs=120, batch_size=16, verbose=0)"
   ]
  },
  {
   "cell_type": "markdown",
   "id": "02dc7f96",
   "metadata": {},
   "source": [
    "### Evaluation du modèle"
   ]
  },
  {
   "cell_type": "code",
   "execution_count": null,
   "id": "fe221aa1",
   "metadata": {},
   "outputs": [],
   "source": [
    "y_pred = model.predict(X_test)\n",
    "regression_metrics(np.array(y_test), y_pred)"
   ]
  },
  {
   "cell_type": "markdown",
   "id": "4b8df3f2",
   "metadata": {},
   "source": [
    "Les mesures d'évaluation du réseau de neurones sont les mêmes que pour les modèles de régression présentés plus haut. Cela permet d'effectuer une comparaison avec les mêmes variables sur la même unité. "
   ]
  },
  {
   "cell_type": "markdown",
   "id": "655eac50",
   "metadata": {},
   "source": [
    "Le coefficient de détermination est moins important que lors de l'utilisation de l'algorithme XGBoost (50% vs 76% pour l'algorithme XGBoost). Cependant, les autres variables sont meilleures qu'avec l'algorithme XGBoost. Les erreurs de prédiction sont de plus ou moins 0.06% (contre 0.11% pour l'algorithme XGBoost). "
   ]
  },
  {
   "cell_type": "markdown",
   "id": "56d7cbd4",
   "metadata": {},
   "source": [
    "## Prédiction des émissions de CO2 (sans ENERGY STAR Score) <a class=\"anchor\" id=\"section_6_2\"></a>"
   ]
  },
  {
   "cell_type": "markdown",
   "id": "1daa320b",
   "metadata": {},
   "source": [
    "La démarche est la même que celle détaillé dans la partie concernant la prédiction de la consommation d'énergie. Elle ne sera donc pas expliqué en détail. "
   ]
  },
  {
   "cell_type": "markdown",
   "id": "0dc155a5",
   "metadata": {},
   "source": [
    "### Préparation des données"
   ]
  },
  {
   "cell_type": "code",
   "execution_count": null,
   "id": "83984660",
   "metadata": {},
   "outputs": [],
   "source": [
    "train_set, test_set = train_test_split(data, test_size=0.2, random_state=42)\n",
    "\n",
    "y_train = train_set[[\"TotalGHGEmissions_log\"]]\n",
    "y_test = test_set[[\"TotalGHGEmissions_log\"]]\n",
    "X_train = train_set.drop([\"SiteEnergyUse(kBtu)\", \"SiteEnergyUse(kBtu)_log\", \"TotalGHGEmissions\", \"SiteEnergyUse(kBtu)_log\", \"ENERGYSTARScore\", \"YearBuilt\", \"Neighborhood\", \"Latitude\", \"Longitude\"], axis=1)\n",
    "X_test = test_set.drop([\"SiteEnergyUse(kBtu)\", \"SiteEnergyUse(kBtu)_log\", \"TotalGHGEmissions\", \"SiteEnergyUse(kBtu)_log\", \"ENERGYSTARScore\", \"YearBuilt\",\"Neighborhood\", \"Latitude\", \"Longitude\"], axis=1)"
   ]
  },
  {
   "cell_type": "code",
   "execution_count": null,
   "id": "0a8f799c",
   "metadata": {},
   "outputs": [],
   "source": [
    "X_train = preprocessor.fit_transform(X_train)\n",
    "X_test = preprocessor.transform(X_test)"
   ]
  },
  {
   "cell_type": "markdown",
   "id": "b8294087",
   "metadata": {},
   "source": [
    "### Création et validation croisée du modèle"
   ]
  },
  {
   "cell_type": "code",
   "execution_count": null,
   "id": "6d6727fc",
   "metadata": {},
   "outputs": [],
   "source": [
    "k = 5\n",
    "num_val_samples = len(X_train)//k\n",
    "num_epochs = 100\n",
    "all_scores = []\n",
    "for i in range(k):\n",
    "    print(f\"Processing fold #{i}\")\n",
    "    val_data = X_train[i * num_val_samples: (i + 1) * num_val_samples]\n",
    "    val_targets = y_train[i * num_val_samples: (i + 1) * num_val_samples]\n",
    "    partial_train_data = np.concatenate(\n",
    "    [X_train[:i * num_val_samples],\n",
    "     X_train[(i + 1) * num_val_samples:]],\n",
    "    axis=0)\n",
    "    partial_train_targets = np.concatenate(\n",
    "    [y_train[:i * num_val_samples],\n",
    "     y_train[(i + 1) * num_val_samples:]],\n",
    "    axis=0)\n",
    "    model = build_model()\n",
    "    model.fit(partial_train_data, partial_train_targets,\n",
    "              epochs=num_epochs, batch_size=16, verbose=0)\n",
    "    val_mse, val_mae = model.evaluate(val_data, val_targets, verbose=0)\n",
    "    all_scores.append(val_mae)"
   ]
  },
  {
   "cell_type": "code",
   "execution_count": null,
   "id": "4d80cb67",
   "metadata": {},
   "outputs": [],
   "source": [
    "print(all_scores)\n",
    "print(\"MAE moyen:\", np.mean(all_scores).round(2))"
   ]
  },
  {
   "cell_type": "code",
   "execution_count": null,
   "id": "bf12214b",
   "metadata": {},
   "outputs": [],
   "source": [
    "num_epochs = 500\n",
    "all_mae_histories = []\n",
    "for i in range(k):\n",
    "    print(f\"Processing fold #{i}\")\n",
    "    val_data = X_train[i * num_val_samples: (i + 1) * num_val_samples]\n",
    "    val_targets = y_train[i * num_val_samples: (i + 1) * num_val_samples]\n",
    "    partial_train_data = np.concatenate(\n",
    "    [X_train[:i * num_val_samples],\n",
    "     X_train[(i + 1) * num_val_samples:]],\n",
    "    axis=0)\n",
    "    partial_train_targets = np.concatenate(\n",
    "    [y_train[:i * num_val_samples],\n",
    "     y_train[(i + 1) * num_val_samples:]],\n",
    "    axis=0)\n",
    "    model = build_model()\n",
    "    history = model.fit(partial_train_data, partial_train_targets,\n",
    "                            validation_data=(val_data, val_targets),\n",
    "                            epochs=num_epochs, batch_size=16, verbose=0)\n",
    "    mae_history = history.history[\"val_mae\"]\n",
    "    all_mae_histories.append(mae_history)"
   ]
  },
  {
   "cell_type": "code",
   "execution_count": null,
   "id": "cffebd63",
   "metadata": {},
   "outputs": [],
   "source": [
    "average_mae_history = [np.mean([x[i] for x in all_mae_histories]) for i in range(num_epochs)]"
   ]
  },
  {
   "cell_type": "code",
   "execution_count": null,
   "id": "1ae393f9",
   "metadata": {},
   "outputs": [],
   "source": [
    "plt.plot(range(1, len(average_mae_history) + 1), average_mae_history)\n",
    "plt.xlabel(\"Epochs\")\n",
    "plt.ylabel(\"Validation MAE\")\n",
    "plt.show()"
   ]
  },
  {
   "cell_type": "code",
   "execution_count": null,
   "id": "9382fe51",
   "metadata": {},
   "outputs": [],
   "source": [
    "truncated_mae_history = average_mae_history[10:]\n",
    "plt.plot(range(1, len(truncated_mae_history) + 1), truncated_mae_history)\n",
    "plt.xlabel(\"Epochs\")\n",
    "plt.ylabel(\"Validation MAE\")\n",
    "plt.show()"
   ]
  },
  {
   "cell_type": "markdown",
   "id": "44ff1e14",
   "metadata": {},
   "source": [
    "### Entraînement du modèle"
   ]
  },
  {
   "cell_type": "code",
   "execution_count": null,
   "id": "7d497a05",
   "metadata": {},
   "outputs": [],
   "source": [
    "model = build_model()\n",
    "model.fit(X_train, y_train, \n",
    "          epochs=120, batch_size=16, verbose=0)"
   ]
  },
  {
   "cell_type": "markdown",
   "id": "1100c6d7",
   "metadata": {},
   "source": [
    "### Analyse des performances"
   ]
  },
  {
   "cell_type": "code",
   "execution_count": null,
   "id": "5afb8598",
   "metadata": {},
   "outputs": [],
   "source": [
    "y_pred = model.predict(X_test)\n",
    "regression_metrics(np.array(y_test), y_pred)"
   ]
  },
  {
   "cell_type": "markdown",
   "id": "31d6b6f3",
   "metadata": {},
   "source": [
    "Le coefficient de détermination de ce réseau de neurones est meilleur que celui obtenu avec l'algorithme de XGBoost (67% vs 64%). De plus, les scores évaluant le pourcentage d'erreur de prédiction sont meilleures (0.03% vs 0.31% pour le MAPE/ 0.05% vs 1.7% pour le RMSE). Ce modèle pourrait donc présenter une alternative à l'algorithme de XGBoost vu plus haut. "
   ]
  },
  {
   "cell_type": "markdown",
   "id": "04d1b8b1",
   "metadata": {},
   "source": [
    "## Prédiction des émissions de CO2 (avec ENERGY STAR Score)"
   ]
  },
  {
   "cell_type": "markdown",
   "id": "5d56deb0",
   "metadata": {},
   "source": [
    "On ajoute la variable score ENERGY STAR pour voir si les performances de notre modèle sont améliorés. "
   ]
  },
  {
   "cell_type": "markdown",
   "id": "b096e569",
   "metadata": {},
   "source": [
    "### Préparation des données"
   ]
  },
  {
   "cell_type": "code",
   "execution_count": null,
   "id": "28811e57",
   "metadata": {},
   "outputs": [],
   "source": [
    "train_set, test_set = train_test_split(data, test_size=0.2, random_state=42)\n",
    "\n",
    "y_train = train_set[[\"TotalGHGEmissions_log\"]]\n",
    "y_test = test_set[[\"TotalGHGEmissions_log\"]]\n",
    "X_train = train_set.drop([\"SiteEnergyUse(kBtu)\", \"SiteEnergyUse(kBtu)_log\", \"TotalGHGEmissions\", \"SiteEnergyUse(kBtu)_log\", \"YearBuilt\", \"Neighborhood\", \"Latitude\", \"Longitude\"], axis=1)\n",
    "X_test = test_set.drop([\"SiteEnergyUse(kBtu)\", \"SiteEnergyUse(kBtu)_log\", \"TotalGHGEmissions\", \"SiteEnergyUse(kBtu)_log\", \"YearBuilt\",\"Neighborhood\", \"Latitude\", \"Longitude\"], axis=1)"
   ]
  },
  {
   "cell_type": "code",
   "execution_count": null,
   "id": "6ca8eae5",
   "metadata": {},
   "outputs": [],
   "source": [
    "cat_var = [\"PrimaryPropertyType\", \"HasParking\", \"Clusters\", \"SecondLargestPropertyUseType\", \"ThirdLargestPropertyUseType\"]\n",
    "num_var = [\"PropertyGFATotal\", \"degreeDaysH\", \"Age\", \"NumberofBuildings\", \"NumberofFloors\", \"SecondLargestPropertyUseTypeGFA\", \"ThirdLargestPropertyUseTypeGFA\", \"ENERGYSTARScore\"]"
   ]
  },
  {
   "cell_type": "code",
   "execution_count": null,
   "id": "d12d8626",
   "metadata": {},
   "outputs": [],
   "source": [
    "cat_pipe = Pipeline([\n",
    "    ('imputer', SimpleImputer(strategy='most_frequent', fill_value='missing')),\n",
    "    ('encoder', OneHotEncoder(handle_unknown='ignore', sparse=False))\n",
    "])\n",
    "\n",
    "num_pipe = Pipeline([\n",
    "    ('imputer', SimpleImputer(strategy=\"median\", fill_value=\"missing\")),\n",
    "    ('scaler', StandardScaler())\n",
    "])\n",
    "\n",
    "preprocessor = ColumnTransformer(\n",
    "    transformers=[\n",
    "    ('cat', cat_pipe, cat_var),\n",
    "    ('num', num_pipe, num_var)\n",
    "])"
   ]
  },
  {
   "cell_type": "code",
   "execution_count": null,
   "id": "359832df",
   "metadata": {},
   "outputs": [],
   "source": [
    "X_train = preprocessor.fit_transform(X_train)\n",
    "X_test = preprocessor.transform(X_test)"
   ]
  },
  {
   "cell_type": "markdown",
   "id": "18275b9e",
   "metadata": {},
   "source": [
    "### Entraînement du modèle et mise en place d'une validation croisée"
   ]
  },
  {
   "cell_type": "code",
   "execution_count": null,
   "id": "4b1868cf",
   "metadata": {},
   "outputs": [],
   "source": [
    "k = 5\n",
    "num_val_samples = len(X_train)//k\n",
    "num_epochs = 100\n",
    "all_scores = []\n",
    "for i in range(k):\n",
    "    print(f\"Processing fold #{i}\")\n",
    "    val_data = X_train[i * num_val_samples: (i + 1) * num_val_samples]\n",
    "    val_targets = y_train[i * num_val_samples: (i + 1) * num_val_samples]\n",
    "    partial_train_data = np.concatenate(\n",
    "    [X_train[:i * num_val_samples],\n",
    "     X_train[(i + 1) * num_val_samples:]],\n",
    "    axis=0)\n",
    "    partial_train_targets = np.concatenate(\n",
    "    [y_train[:i * num_val_samples],\n",
    "     y_train[(i + 1) * num_val_samples:]],\n",
    "    axis=0)\n",
    "    model = build_model()\n",
    "    model.fit(partial_train_data, partial_train_targets,\n",
    "              epochs=num_epochs, batch_size=16, verbose=0)\n",
    "    val_mse, val_mae = model.evaluate(val_data, val_targets, verbose=0)\n",
    "    all_scores.append(val_mae)"
   ]
  },
  {
   "cell_type": "code",
   "execution_count": null,
   "id": "25f528f9",
   "metadata": {},
   "outputs": [],
   "source": [
    "print(all_scores)\n",
    "print(\"MAE moyen:\", np.mean(all_scores).round(2))"
   ]
  },
  {
   "cell_type": "code",
   "execution_count": null,
   "id": "509e9b26",
   "metadata": {},
   "outputs": [],
   "source": [
    "num_epochs = 500\n",
    "all_mae_histories = []\n",
    "for i in range(k):\n",
    "    print(f\"Processing fold #{i}\")\n",
    "    val_data = X_train[i * num_val_samples: (i + 1) * num_val_samples]\n",
    "    val_targets = y_train[i * num_val_samples: (i + 1) * num_val_samples]\n",
    "    partial_train_data = np.concatenate(\n",
    "    [X_train[:i * num_val_samples],\n",
    "     X_train[(i + 1) * num_val_samples:]],\n",
    "    axis=0)\n",
    "    partial_train_targets = np.concatenate(\n",
    "    [y_train[:i * num_val_samples],\n",
    "     y_train[(i + 1) * num_val_samples:]],\n",
    "    axis=0)\n",
    "    model = build_model()\n",
    "    history = model.fit(partial_train_data, partial_train_targets,\n",
    "                            validation_data=(val_data, val_targets),\n",
    "                            epochs=num_epochs, batch_size=16, verbose=0)\n",
    "    mae_history = history.history[\"val_mae\"]\n",
    "    all_mae_histories.append(mae_history)"
   ]
  },
  {
   "cell_type": "code",
   "execution_count": null,
   "id": "32368cd7",
   "metadata": {},
   "outputs": [],
   "source": [
    "average_mae_history = [np.mean([x[i] for x in all_mae_histories]) for i in range(num_epochs)]"
   ]
  },
  {
   "cell_type": "code",
   "execution_count": null,
   "id": "de9f1860",
   "metadata": {},
   "outputs": [],
   "source": [
    "plt.plot(range(1, len(average_mae_history) + 1), average_mae_history)\n",
    "plt.xlabel(\"Epochs\")\n",
    "plt.ylabel(\"Validation MAE\")\n",
    "plt.show()"
   ]
  },
  {
   "cell_type": "code",
   "execution_count": null,
   "id": "63e63e67",
   "metadata": {},
   "outputs": [],
   "source": [
    "truncated_mae_history = average_mae_history[10:]\n",
    "plt.plot(range(1, len(truncated_mae_history) + 1), truncated_mae_history)\n",
    "plt.xlabel(\"Epochs\")\n",
    "plt.ylabel(\"Validation MAE\")\n",
    "plt.show()"
   ]
  },
  {
   "cell_type": "code",
   "execution_count": null,
   "id": "ac14c1b1",
   "metadata": {},
   "outputs": [],
   "source": [
    "model = build_model()\n",
    "model.fit(X_train, y_train, \n",
    "          epochs=300, batch_size=16, verbose=0)"
   ]
  },
  {
   "cell_type": "markdown",
   "id": "3b8088b5",
   "metadata": {},
   "source": [
    "### Evaluation du modèle obtenu"
   ]
  },
  {
   "cell_type": "code",
   "execution_count": null,
   "id": "c8063605",
   "metadata": {},
   "outputs": [],
   "source": [
    "y_pred = model.predict(X_test)\n",
    "regression_metrics(np.array(y_test), y_pred)"
   ]
  },
  {
   "cell_type": "markdown",
   "id": "646358ed",
   "metadata": {},
   "source": [
    "Le coefficient de détermination est de 45%. Les scores d'évaluation du modèle sont moins bons que ceux obtenus avec l'algorithme de XGBoost mais aussi que ceux obtenus avec le réseau de neurones sans le score ENERGY STAR. "
   ]
  },
  {
   "cell_type": "markdown",
   "id": "96f35a7b",
   "metadata": {},
   "source": [
    "# Conclusion générale <a class=\"anchor\" id=\"chapter7\"></a>"
   ]
  },
  {
   "cell_type": "markdown",
   "id": "c02c27e6",
   "metadata": {},
   "source": [
    "Concernant la prédiction de la consommation d'énergie l'algorithme le plus performant est l'algorithme de XGBoost. Il permet d'expliquer 76% de la variance observée et a des pourcentages d'erreurs de prédiction très faibles (moins de 1%).\n",
    "\n",
    "\n",
    "Concernant la prédiction des émissions de CO2, il semblerait que les informations dont on dispose soit insuffisante pour pouvoir obtenir de bons scores avec des algorithmes de Machine Learning classique. Le score ENERGY STAR permet d'améliorer les performances de l'algorithme de XGBoost. L'utilisation de méthode de Deep Learning et de réseau de neurones permette d'avoir de meilleures performances pour cette prédiction. Les informations dont on dispose nous ont permis d'entraîner un réseau de neurones qui permet d'avoir de bonnes performances : 67% de variances expliquées par notre modèle et des pourcentages d'erreur de prédiction très faibles (moins de 1%). "
   ]
  },
  {
   "cell_type": "markdown",
   "id": "9bff27bc",
   "metadata": {},
   "source": [
    "**En utilisant uniquement les données du permis de construire et les transformations que l'on a pu effectuer, il pourrait être intéressants de déployer un algorithme de XGBoost pour prédire les consommations d'énergie d'un bâtiment non-résidentiels. Pour pouvoir prédire les émissions de CO$_2$ d'un bâtiment non-résidentiels à l'aide des mêmes informations, le réseau de neurones semble la solution la plus adaptée.**"
   ]
  }
 ],
 "metadata": {
  "interpreter": {
   "hash": "db691860837755bfd223dbb19bf59c90fd58faf4b85973e04a456a30cef6b76b"
  },
  "kernelspec": {
   "display_name": "Python 3",
   "language": "python",
   "name": "python3"
  },
  "language_info": {
   "codemirror_mode": {
    "name": "ipython",
    "version": 3
   },
   "file_extension": ".py",
   "mimetype": "text/x-python",
   "name": "python",
   "nbconvert_exporter": "python",
   "pygments_lexer": "ipython3",
   "version": "3.8.10"
  }
 },
 "nbformat": 4,
 "nbformat_minor": 5
}
