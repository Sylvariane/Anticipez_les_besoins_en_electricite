{
 "cells": [
  {
   "cell_type": "code",
   "execution_count": 1,
   "id": "d55b907b",
   "metadata": {},
   "outputs": [],
   "source": [
    "import pandas as pd\n",
    "import numpy as np\n",
    "\n",
    "import matplotlib.pyplot as plt\n",
    "import seaborn as sns\n",
    "from sklearn.metrics import mean_absolute_error, mean_squared_error, r2_score"
   ]
  },
  {
   "cell_type": "code",
   "execution_count": 2,
   "id": "bba3f615",
   "metadata": {},
   "outputs": [],
   "source": [
    "def regression_metrics(y_pred, y_test):\n",
    "    \"\"\"Function which contains differents metrics about regression\n",
    "    Input: prediction, test/target\n",
    "    \n",
    "    Output: MAE, MSE, RMSE & R² score  \n",
    "    \"\"\"\n",
    "    mae=mean_absolute_error(y_pred, y_test)\n",
    "    mse=mean_squared_error(y_pred, y_test)\n",
    "    rmse=mse ** (1/2)\n",
    "    r_score = r2_score(y_pred, y_test)\n",
    "    print(\"MAE :\",mae.round(3))\n",
    "    print(\"MSE :\", mse.round(3))\n",
    "    print(\"RMSE :\", rmse.round(3))\n",
    "    print(\"R² :\", r_score.round(3))"
   ]
  },
  {
   "cell_type": "code",
   "execution_count": 3,
   "id": "d138348a",
   "metadata": {},
   "outputs": [],
   "source": [
    "test_set =  pd.read_csv(\"datasets/test_set.csv\")\n",
    "train_set = pd.read_csv(\"datasets/train_set.csv\")"
   ]
  },
  {
   "cell_type": "code",
   "execution_count": 4,
   "id": "973614fa",
   "metadata": {
    "scrolled": true
   },
   "outputs": [
    {
     "data": {
      "text/html": [
       "<div>\n",
       "<style scoped>\n",
       "    .dataframe tbody tr th:only-of-type {\n",
       "        vertical-align: middle;\n",
       "    }\n",
       "\n",
       "    .dataframe tbody tr th {\n",
       "        vertical-align: top;\n",
       "    }\n",
       "\n",
       "    .dataframe thead th {\n",
       "        text-align: right;\n",
       "    }\n",
       "</style>\n",
       "<table border=\"1\" class=\"dataframe\">\n",
       "  <thead>\n",
       "    <tr style=\"text-align: right;\">\n",
       "      <th></th>\n",
       "      <th>PrimaryPropertyType</th>\n",
       "      <th>Neighborhood</th>\n",
       "      <th>YearBuilt</th>\n",
       "      <th>NumberofBuildings</th>\n",
       "      <th>NumberofFloors</th>\n",
       "      <th>PropertyGFABuilding(s)</th>\n",
       "      <th>ENERGYSTARScore</th>\n",
       "      <th>TotalGHGEmissions</th>\n",
       "      <th>%SteamUse</th>\n",
       "      <th>%Electricity</th>\n",
       "      <th>%NaturalGas</th>\n",
       "      <th>%OtherFuelUse</th>\n",
       "    </tr>\n",
       "  </thead>\n",
       "  <tbody>\n",
       "    <tr>\n",
       "      <th>0</th>\n",
       "      <td>Office</td>\n",
       "      <td>Lake union</td>\n",
       "      <td>1986</td>\n",
       "      <td>1.0</td>\n",
       "      <td>4.0</td>\n",
       "      <td>35526</td>\n",
       "      <td>NaN</td>\n",
       "      <td>17.57</td>\n",
       "      <td>0.0</td>\n",
       "      <td>100.00</td>\n",
       "      <td>0.00</td>\n",
       "      <td>NaN</td>\n",
       "    </tr>\n",
       "    <tr>\n",
       "      <th>1</th>\n",
       "      <td>Office</td>\n",
       "      <td>Delridge</td>\n",
       "      <td>1988</td>\n",
       "      <td>1.0</td>\n",
       "      <td>2.0</td>\n",
       "      <td>30659</td>\n",
       "      <td>9.0</td>\n",
       "      <td>76.48</td>\n",
       "      <td>0.0</td>\n",
       "      <td>68.81</td>\n",
       "      <td>31.19</td>\n",
       "      <td>0.0</td>\n",
       "    </tr>\n",
       "    <tr>\n",
       "      <th>2</th>\n",
       "      <td>Other</td>\n",
       "      <td>Downtown</td>\n",
       "      <td>1991</td>\n",
       "      <td>1.0</td>\n",
       "      <td>2.0</td>\n",
       "      <td>26579</td>\n",
       "      <td>NaN</td>\n",
       "      <td>298.91</td>\n",
       "      <td>0.0</td>\n",
       "      <td>35.75</td>\n",
       "      <td>64.25</td>\n",
       "      <td>NaN</td>\n",
       "    </tr>\n",
       "  </tbody>\n",
       "</table>\n",
       "</div>"
      ],
      "text/plain": [
       "  PrimaryPropertyType Neighborhood  YearBuilt  NumberofBuildings  \\\n",
       "0              Office   Lake union       1986                1.0   \n",
       "1              Office     Delridge       1988                1.0   \n",
       "2               Other     Downtown       1991                1.0   \n",
       "\n",
       "   NumberofFloors  PropertyGFABuilding(s)  ENERGYSTARScore  TotalGHGEmissions  \\\n",
       "0             4.0                   35526              NaN              17.57   \n",
       "1             2.0                   30659              9.0              76.48   \n",
       "2             2.0                   26579              NaN             298.91   \n",
       "\n",
       "   %SteamUse  %Electricity  %NaturalGas  %OtherFuelUse  \n",
       "0        0.0        100.00         0.00            NaN  \n",
       "1        0.0         68.81        31.19            0.0  \n",
       "2        0.0         35.75        64.25            NaN  "
      ]
     },
     "execution_count": 4,
     "metadata": {},
     "output_type": "execute_result"
    }
   ],
   "source": [
    "train_set.head(3)"
   ]
  },
  {
   "cell_type": "code",
   "execution_count": 5,
   "id": "79c4dce7",
   "metadata": {},
   "outputs": [
    {
     "data": {
      "text/plain": [
       "PrimaryPropertyType        0.000000\n",
       "Neighborhood               0.000000\n",
       "YearBuilt                  0.000000\n",
       "NumberofBuildings          0.000000\n",
       "NumberofFloors             0.155280\n",
       "PropertyGFABuilding(s)     0.000000\n",
       "ENERGYSTARScore           31.987578\n",
       "TotalGHGEmissions          0.000000\n",
       "%SteamUse                  0.000000\n",
       "%Electricity               0.000000\n",
       "%NaturalGas                0.000000\n",
       "%OtherFuelUse             52.639752\n",
       "dtype: float64"
      ]
     },
     "execution_count": 5,
     "metadata": {},
     "output_type": "execute_result"
    }
   ],
   "source": [
    "train_set.isnull().mean() * 100"
   ]
  },
  {
   "cell_type": "code",
   "execution_count": 6,
   "id": "b46b2eb3",
   "metadata": {},
   "outputs": [],
   "source": [
    "cat_var = [\"PrimaryPropertyType\", \"Neighborhood\"]\n",
    "\n",
    "num_var = [\"YearBuilt\", \"NumberofBuildings\", \"NumberofFloors\", \"PropertyGFABuilding(s)\",\n",
    "           \"ENERGYSTARScore\", \"%SteamUse\", \"%Electricity\", \"%NaturalGas\",\n",
    "           \"%OtherFuelUse\", \"TotalGHGEmissions\"]"
   ]
  },
  {
   "cell_type": "code",
   "execution_count": 7,
   "id": "b9971e8d",
   "metadata": {},
   "outputs": [
    {
     "data": {
      "text/plain": [
       "SimpleImputer(strategy='most_frequent')"
      ]
     },
     "execution_count": 7,
     "metadata": {},
     "output_type": "execute_result"
    }
   ],
   "source": [
    "from sklearn.impute import SimpleImputer\n",
    "\n",
    "imputer_num = SimpleImputer(strategy=\"median\")\n",
    "imputer_cat = SimpleImputer(strategy=\"most_frequent\")\n",
    "imputer_num.fit(train_set[num_var])\n",
    "imputer_cat.fit(train_set[cat_var])"
   ]
  },
  {
   "cell_type": "code",
   "execution_count": 8,
   "id": "9ac4c6e7",
   "metadata": {},
   "outputs": [],
   "source": [
    "train_set[num_var] = imputer_num.transform(train_set[num_var])\n",
    "train_set[cat_var] = imputer_cat.transform(train_set[cat_var])"
   ]
  },
  {
   "cell_type": "code",
   "execution_count": 9,
   "id": "434332a1",
   "metadata": {},
   "outputs": [
    {
     "data": {
      "text/plain": [
       "PrimaryPropertyType       0.0\n",
       "Neighborhood              0.0\n",
       "YearBuilt                 0.0\n",
       "NumberofBuildings         0.0\n",
       "NumberofFloors            0.0\n",
       "PropertyGFABuilding(s)    0.0\n",
       "ENERGYSTARScore           0.0\n",
       "TotalGHGEmissions         0.0\n",
       "%SteamUse                 0.0\n",
       "%Electricity              0.0\n",
       "%NaturalGas               0.0\n",
       "%OtherFuelUse             0.0\n",
       "dtype: float64"
      ]
     },
     "execution_count": 9,
     "metadata": {},
     "output_type": "execute_result"
    }
   ],
   "source": [
    "train_set.isnull().mean() * 100"
   ]
  },
  {
   "cell_type": "code",
   "execution_count": 10,
   "id": "d9b5a8ba",
   "metadata": {},
   "outputs": [],
   "source": [
    "y_train = train_set[[\"ENERGYSTARScore\"]].values\n",
    "X_train = train_set.drop(\"ENERGYSTARScore\", axis=1)\n",
    "\n",
    "y_train = y_train.reshape(-1, 1)"
   ]
  },
  {
   "cell_type": "code",
   "execution_count": 11,
   "id": "74412112",
   "metadata": {},
   "outputs": [],
   "source": [
    "from sklearn.preprocessing import OneHotEncoder\n",
    "\n",
    "enc = OneHotEncoder()\n",
    "enc.fit(X_train[cat_var])\n",
    "X_train = enc.transform(X_train[cat_var])"
   ]
  },
  {
   "cell_type": "code",
   "execution_count": 12,
   "id": "52edd66e",
   "metadata": {
    "scrolled": true
   },
   "outputs": [
    {
     "data": {
      "text/plain": [
       "LinearRegression()"
      ]
     },
     "execution_count": 12,
     "metadata": {},
     "output_type": "execute_result"
    }
   ],
   "source": [
    "from sklearn.linear_model import LinearRegression\n",
    "\n",
    "linreg = LinearRegression()\n",
    "linreg.fit(X_train, y_train)"
   ]
  },
  {
   "cell_type": "code",
   "execution_count": 13,
   "id": "d7afc7c2",
   "metadata": {},
   "outputs": [],
   "source": [
    "test_set[num_var] = imputer_num.transform(test_set[num_var])\n",
    "test_set[cat_var] = imputer_cat.transform(test_set[cat_var])"
   ]
  },
  {
   "cell_type": "code",
   "execution_count": 14,
   "id": "b9125fec",
   "metadata": {},
   "outputs": [],
   "source": [
    "y_test = test_set[[\"ENERGYSTARScore\"]].values\n",
    "X_test = test_set.drop(\"ENERGYSTARScore\", axis=1)\n",
    "\n",
    "y_test = y_test.reshape(-1, 1)"
   ]
  },
  {
   "cell_type": "code",
   "execution_count": 15,
   "id": "fcec549f",
   "metadata": {},
   "outputs": [],
   "source": [
    "X_test = enc.transform(X_test[cat_var])"
   ]
  },
  {
   "cell_type": "code",
   "execution_count": 16,
   "id": "abc67997",
   "metadata": {},
   "outputs": [],
   "source": [
    "y_pred = linreg.predict(X_test)"
   ]
  },
  {
   "cell_type": "code",
   "execution_count": 17,
   "id": "3ac3f6fb",
   "metadata": {},
   "outputs": [
    {
     "name": "stdout",
     "output_type": "stream",
     "text": [
      "MAE : 16.667\n",
      "MSE : 537.516\n",
      "RMSE : 23.184\n",
      "R² : -5.867\n"
     ]
    }
   ],
   "source": [
    "regression_metrics(y_pred, y_test)"
   ]
  }
 ],
 "metadata": {
  "kernelspec": {
   "display_name": "Python 3",
   "language": "python",
   "name": "python3"
  },
  "language_info": {
   "codemirror_mode": {
    "name": "ipython",
    "version": 3
   },
   "file_extension": ".py",
   "mimetype": "text/x-python",
   "name": "python",
   "nbconvert_exporter": "python",
   "pygments_lexer": "ipython3",
   "version": "3.8.10"
  }
 },
 "nbformat": 4,
 "nbformat_minor": 5
}
