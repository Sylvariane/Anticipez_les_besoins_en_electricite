{
 "cells": [
  {
   "cell_type": "code",
   "execution_count": 1,
   "id": "d03e588c",
   "metadata": {},
   "outputs": [],
   "source": [
    "# importation des librairies nécessaires à l'exploration\n",
    "import warnings\n",
    "warnings.filterwarnings(\"ignore\")\n",
    "\n",
    "import pandas as pd\n",
    "import numpy as np\n",
    "\n",
    "import matplotlib.pyplot as plt\n",
    "import seaborn as sns\n",
    "import sklearn\n",
    "from sklearn.metrics import mean_absolute_error, mean_squared_error, r2_score\n",
    "from sklearn.model_selection import train_test_split"
   ]
  },
  {
   "cell_type": "code",
   "execution_count": 2,
   "id": "fa2a74fd",
   "metadata": {},
   "outputs": [],
   "source": [
    "sklearn.set_config(display=\"diagram\")"
   ]
  },
  {
   "cell_type": "code",
   "execution_count": 3,
   "id": "9edf29ee",
   "metadata": {},
   "outputs": [],
   "source": [
    "def regression_metrics(y_test, y_pred):\n",
    "    \"\"\"Function which contains differents metrics about regression\n",
    "    Input: prediction, test/target\n",
    "    \n",
    "    Output: MAE, MSE, RMSE & R² score  \n",
    "    \"\"\"\n",
    "    mae=mean_absolute_error(y_test, y_pred)\n",
    "    mse=mean_squared_error(y_test, y_pred)\n",
    "    rmse=mse ** (1/2)\n",
    "    r_score = r2_score(y_test, y_pred)\n",
    "    print(\"MAE :\",mae.round(3))\n",
    "    print(\"MSE :\", mse.round(3))\n",
    "    print(\"RMSE :\", rmse.round(3))\n",
    "    print(\"R² :\", r_score.round(3))"
   ]
  },
  {
   "cell_type": "code",
   "execution_count": 4,
   "id": "81b931cb",
   "metadata": {},
   "outputs": [],
   "source": [
    "data = pd.read_csv(\"datasets/benchmark_total.csv\")"
   ]
  },
  {
   "cell_type": "code",
   "execution_count": 5,
   "id": "fe86c035",
   "metadata": {
    "scrolled": true
   },
   "outputs": [
    {
     "data": {
      "text/html": [
       "<div>\n",
       "<style scoped>\n",
       "    .dataframe tbody tr th:only-of-type {\n",
       "        vertical-align: middle;\n",
       "    }\n",
       "\n",
       "    .dataframe tbody tr th {\n",
       "        vertical-align: top;\n",
       "    }\n",
       "\n",
       "    .dataframe thead th {\n",
       "        text-align: right;\n",
       "    }\n",
       "</style>\n",
       "<table border=\"1\" class=\"dataframe\">\n",
       "  <thead>\n",
       "    <tr style=\"text-align: right;\">\n",
       "      <th></th>\n",
       "      <th>PrimaryPropertyType</th>\n",
       "      <th>Neighborhood</th>\n",
       "      <th>YearBuilt</th>\n",
       "      <th>NumberofBuildings</th>\n",
       "      <th>NumberofFloors</th>\n",
       "      <th>PropertyGFATotal</th>\n",
       "      <th>ENERGYSTARScore</th>\n",
       "      <th>SiteEnergyUse(kBtu)</th>\n",
       "      <th>TotalGHGEmissions</th>\n",
       "    </tr>\n",
       "  </thead>\n",
       "  <tbody>\n",
       "    <tr>\n",
       "      <th>0</th>\n",
       "      <td>Hotel</td>\n",
       "      <td>Downtown</td>\n",
       "      <td>1927</td>\n",
       "      <td>1.0</td>\n",
       "      <td>12.0</td>\n",
       "      <td>88434</td>\n",
       "      <td>65.0</td>\n",
       "      <td>6981428.0</td>\n",
       "      <td>249.43</td>\n",
       "    </tr>\n",
       "    <tr>\n",
       "      <th>1</th>\n",
       "      <td>Hotel</td>\n",
       "      <td>Downtown</td>\n",
       "      <td>1996</td>\n",
       "      <td>1.0</td>\n",
       "      <td>11.0</td>\n",
       "      <td>103566</td>\n",
       "      <td>51.0</td>\n",
       "      <td>8354235.0</td>\n",
       "      <td>263.51</td>\n",
       "    </tr>\n",
       "    <tr>\n",
       "      <th>2</th>\n",
       "      <td>Hotel</td>\n",
       "      <td>Downtown</td>\n",
       "      <td>1969</td>\n",
       "      <td>1.0</td>\n",
       "      <td>41.0</td>\n",
       "      <td>961990</td>\n",
       "      <td>18.0</td>\n",
       "      <td>73130656.0</td>\n",
       "      <td>2061.48</td>\n",
       "    </tr>\n",
       "  </tbody>\n",
       "</table>\n",
       "</div>"
      ],
      "text/plain": [
       "  PrimaryPropertyType Neighborhood  YearBuilt  NumberofBuildings  \\\n",
       "0               Hotel     Downtown       1927                1.0   \n",
       "1               Hotel     Downtown       1996                1.0   \n",
       "2               Hotel     Downtown       1969                1.0   \n",
       "\n",
       "   NumberofFloors  PropertyGFATotal  ENERGYSTARScore  SiteEnergyUse(kBtu)  \\\n",
       "0            12.0             88434             65.0            6981428.0   \n",
       "1            11.0            103566             51.0            8354235.0   \n",
       "2            41.0            961990             18.0           73130656.0   \n",
       "\n",
       "   TotalGHGEmissions  \n",
       "0             249.43  \n",
       "1             263.51  \n",
       "2            2061.48  "
      ]
     },
     "execution_count": 5,
     "metadata": {},
     "output_type": "execute_result"
    }
   ],
   "source": [
    "data.head(3)"
   ]
  },
  {
   "cell_type": "code",
   "execution_count": 6,
   "id": "33d05837",
   "metadata": {},
   "outputs": [],
   "source": [
    "y_energy = data[\"SiteEnergyUse(kBtu)\"].values\n",
    "y_ghg = data[\"TotalGHGEmissions\"].values\n",
    "X = data.drop([\"SiteEnergyUse(kBtu)\", \"TotalGHGEmissions\"], axis=1)"
   ]
  },
  {
   "cell_type": "code",
   "execution_count": 7,
   "id": "ab2a7391",
   "metadata": {},
   "outputs": [],
   "source": [
    "y_energy = np.log1p(y_energy)\n",
    "y_ghg = np.log1p(y_ghg)"
   ]
  },
  {
   "cell_type": "code",
   "execution_count": 8,
   "id": "3af2e278",
   "metadata": {},
   "outputs": [],
   "source": [
    "X_train, X_test, y_train, y_test = train_test_split(X, y_energy, test_size=0.2, random_state=42)"
   ]
  },
  {
   "cell_type": "code",
   "execution_count": 9,
   "id": "3055fa09",
   "metadata": {},
   "outputs": [],
   "source": [
    "y_train = y_train.reshape(-1,1)\n",
    "y_test = y_test.reshape(-1,1)"
   ]
  },
  {
   "cell_type": "markdown",
   "id": "64af3ad3",
   "metadata": {},
   "source": [
    "# Création d'un modèle \"baseline\""
   ]
  },
  {
   "cell_type": "markdown",
   "id": "5ceeb733",
   "metadata": {},
   "source": [
    "## Préparation des données"
   ]
  },
  {
   "cell_type": "code",
   "execution_count": 10,
   "id": "f3095f52",
   "metadata": {},
   "outputs": [],
   "source": [
    "cat_var = [\"PrimaryPropertyType\", \"Neighborhood\"]\n",
    "num_var = [\"YearBuilt\", \"NumberofBuildings\", \"NumberofFloors\", \"PropertyGFATotal\"]"
   ]
  },
  {
   "cell_type": "code",
   "execution_count": 11,
   "id": "261e8fc7",
   "metadata": {},
   "outputs": [
    {
     "data": {
      "text/html": [
       "<style>#sk-db8f8dd3-2ef6-4e6b-8db7-294f76d8ae59 {color: black;background-color: white;}#sk-db8f8dd3-2ef6-4e6b-8db7-294f76d8ae59 pre{padding: 0;}#sk-db8f8dd3-2ef6-4e6b-8db7-294f76d8ae59 div.sk-toggleable {background-color: white;}#sk-db8f8dd3-2ef6-4e6b-8db7-294f76d8ae59 label.sk-toggleable__label {cursor: pointer;display: block;width: 100%;margin-bottom: 0;padding: 0.2em 0.3em;box-sizing: border-box;text-align: center;}#sk-db8f8dd3-2ef6-4e6b-8db7-294f76d8ae59 div.sk-toggleable__content {max-height: 0;max-width: 0;overflow: hidden;text-align: left;background-color: #f0f8ff;}#sk-db8f8dd3-2ef6-4e6b-8db7-294f76d8ae59 div.sk-toggleable__content pre {margin: 0.2em;color: black;border-radius: 0.25em;background-color: #f0f8ff;}#sk-db8f8dd3-2ef6-4e6b-8db7-294f76d8ae59 input.sk-toggleable__control:checked~div.sk-toggleable__content {max-height: 200px;max-width: 100%;overflow: auto;}#sk-db8f8dd3-2ef6-4e6b-8db7-294f76d8ae59 div.sk-estimator input.sk-toggleable__control:checked~label.sk-toggleable__label {background-color: #d4ebff;}#sk-db8f8dd3-2ef6-4e6b-8db7-294f76d8ae59 div.sk-label input.sk-toggleable__control:checked~label.sk-toggleable__label {background-color: #d4ebff;}#sk-db8f8dd3-2ef6-4e6b-8db7-294f76d8ae59 input.sk-hidden--visually {border: 0;clip: rect(1px 1px 1px 1px);clip: rect(1px, 1px, 1px, 1px);height: 1px;margin: -1px;overflow: hidden;padding: 0;position: absolute;width: 1px;}#sk-db8f8dd3-2ef6-4e6b-8db7-294f76d8ae59 div.sk-estimator {font-family: monospace;background-color: #f0f8ff;margin: 0.25em 0.25em;border: 1px dotted black;border-radius: 0.25em;box-sizing: border-box;}#sk-db8f8dd3-2ef6-4e6b-8db7-294f76d8ae59 div.sk-estimator:hover {background-color: #d4ebff;}#sk-db8f8dd3-2ef6-4e6b-8db7-294f76d8ae59 div.sk-parallel-item::after {content: \"\";width: 100%;border-bottom: 1px solid gray;flex-grow: 1;}#sk-db8f8dd3-2ef6-4e6b-8db7-294f76d8ae59 div.sk-label:hover label.sk-toggleable__label {background-color: #d4ebff;}#sk-db8f8dd3-2ef6-4e6b-8db7-294f76d8ae59 div.sk-serial::before {content: \"\";position: absolute;border-left: 1px solid gray;box-sizing: border-box;top: 2em;bottom: 0;left: 50%;}#sk-db8f8dd3-2ef6-4e6b-8db7-294f76d8ae59 div.sk-serial {display: flex;flex-direction: column;align-items: center;background-color: white;}#sk-db8f8dd3-2ef6-4e6b-8db7-294f76d8ae59 div.sk-item {z-index: 1;}#sk-db8f8dd3-2ef6-4e6b-8db7-294f76d8ae59 div.sk-parallel {display: flex;align-items: stretch;justify-content: center;background-color: white;}#sk-db8f8dd3-2ef6-4e6b-8db7-294f76d8ae59 div.sk-parallel-item {display: flex;flex-direction: column;position: relative;background-color: white;}#sk-db8f8dd3-2ef6-4e6b-8db7-294f76d8ae59 div.sk-parallel-item:first-child::after {align-self: flex-end;width: 50%;}#sk-db8f8dd3-2ef6-4e6b-8db7-294f76d8ae59 div.sk-parallel-item:last-child::after {align-self: flex-start;width: 50%;}#sk-db8f8dd3-2ef6-4e6b-8db7-294f76d8ae59 div.sk-parallel-item:only-child::after {width: 0;}#sk-db8f8dd3-2ef6-4e6b-8db7-294f76d8ae59 div.sk-dashed-wrapped {border: 1px dashed gray;margin: 0.2em;box-sizing: border-box;padding-bottom: 0.1em;background-color: white;position: relative;}#sk-db8f8dd3-2ef6-4e6b-8db7-294f76d8ae59 div.sk-label label {font-family: monospace;font-weight: bold;background-color: white;display: inline-block;line-height: 1.2em;}#sk-db8f8dd3-2ef6-4e6b-8db7-294f76d8ae59 div.sk-label-container {position: relative;z-index: 2;text-align: center;}#sk-db8f8dd3-2ef6-4e6b-8db7-294f76d8ae59 div.sk-container {display: inline-block;position: relative;}</style><div id=\"sk-db8f8dd3-2ef6-4e6b-8db7-294f76d8ae59\" class\"sk-top-container\"><div class=\"sk-container\"><div class=\"sk-item\"><div class=\"sk-estimator sk-toggleable\"><input class=\"sk-toggleable__control sk-hidden--visually\" id=\"24ccf558-d968-4075-8888-4bbab6e1dd86\" type=\"checkbox\" checked><label class=\"sk-toggleable__label\" for=\"24ccf558-d968-4075-8888-4bbab6e1dd86\">SimpleImputer</label><div class=\"sk-toggleable__content\"><pre>SimpleImputer(strategy='most_frequent')</pre></div></div></div></div></div>"
      ],
      "text/plain": [
       "SimpleImputer(strategy='most_frequent')"
      ]
     },
     "execution_count": 11,
     "metadata": {},
     "output_type": "execute_result"
    }
   ],
   "source": [
    "from sklearn.impute import SimpleImputer\n",
    "\n",
    "\n",
    "imputer_cat = SimpleImputer(strategy=\"most_frequent\")\n",
    "imputer_cat.fit(X_train[cat_var])"
   ]
  },
  {
   "cell_type": "code",
   "execution_count": 12,
   "id": "3d5c0be6",
   "metadata": {},
   "outputs": [
    {
     "data": {
      "text/html": [
       "<style>#sk-12f927a8-fe5d-4ce3-82ee-2aa6963498e8 {color: black;background-color: white;}#sk-12f927a8-fe5d-4ce3-82ee-2aa6963498e8 pre{padding: 0;}#sk-12f927a8-fe5d-4ce3-82ee-2aa6963498e8 div.sk-toggleable {background-color: white;}#sk-12f927a8-fe5d-4ce3-82ee-2aa6963498e8 label.sk-toggleable__label {cursor: pointer;display: block;width: 100%;margin-bottom: 0;padding: 0.2em 0.3em;box-sizing: border-box;text-align: center;}#sk-12f927a8-fe5d-4ce3-82ee-2aa6963498e8 div.sk-toggleable__content {max-height: 0;max-width: 0;overflow: hidden;text-align: left;background-color: #f0f8ff;}#sk-12f927a8-fe5d-4ce3-82ee-2aa6963498e8 div.sk-toggleable__content pre {margin: 0.2em;color: black;border-radius: 0.25em;background-color: #f0f8ff;}#sk-12f927a8-fe5d-4ce3-82ee-2aa6963498e8 input.sk-toggleable__control:checked~div.sk-toggleable__content {max-height: 200px;max-width: 100%;overflow: auto;}#sk-12f927a8-fe5d-4ce3-82ee-2aa6963498e8 div.sk-estimator input.sk-toggleable__control:checked~label.sk-toggleable__label {background-color: #d4ebff;}#sk-12f927a8-fe5d-4ce3-82ee-2aa6963498e8 div.sk-label input.sk-toggleable__control:checked~label.sk-toggleable__label {background-color: #d4ebff;}#sk-12f927a8-fe5d-4ce3-82ee-2aa6963498e8 input.sk-hidden--visually {border: 0;clip: rect(1px 1px 1px 1px);clip: rect(1px, 1px, 1px, 1px);height: 1px;margin: -1px;overflow: hidden;padding: 0;position: absolute;width: 1px;}#sk-12f927a8-fe5d-4ce3-82ee-2aa6963498e8 div.sk-estimator {font-family: monospace;background-color: #f0f8ff;margin: 0.25em 0.25em;border: 1px dotted black;border-radius: 0.25em;box-sizing: border-box;}#sk-12f927a8-fe5d-4ce3-82ee-2aa6963498e8 div.sk-estimator:hover {background-color: #d4ebff;}#sk-12f927a8-fe5d-4ce3-82ee-2aa6963498e8 div.sk-parallel-item::after {content: \"\";width: 100%;border-bottom: 1px solid gray;flex-grow: 1;}#sk-12f927a8-fe5d-4ce3-82ee-2aa6963498e8 div.sk-label:hover label.sk-toggleable__label {background-color: #d4ebff;}#sk-12f927a8-fe5d-4ce3-82ee-2aa6963498e8 div.sk-serial::before {content: \"\";position: absolute;border-left: 1px solid gray;box-sizing: border-box;top: 2em;bottom: 0;left: 50%;}#sk-12f927a8-fe5d-4ce3-82ee-2aa6963498e8 div.sk-serial {display: flex;flex-direction: column;align-items: center;background-color: white;}#sk-12f927a8-fe5d-4ce3-82ee-2aa6963498e8 div.sk-item {z-index: 1;}#sk-12f927a8-fe5d-4ce3-82ee-2aa6963498e8 div.sk-parallel {display: flex;align-items: stretch;justify-content: center;background-color: white;}#sk-12f927a8-fe5d-4ce3-82ee-2aa6963498e8 div.sk-parallel-item {display: flex;flex-direction: column;position: relative;background-color: white;}#sk-12f927a8-fe5d-4ce3-82ee-2aa6963498e8 div.sk-parallel-item:first-child::after {align-self: flex-end;width: 50%;}#sk-12f927a8-fe5d-4ce3-82ee-2aa6963498e8 div.sk-parallel-item:last-child::after {align-self: flex-start;width: 50%;}#sk-12f927a8-fe5d-4ce3-82ee-2aa6963498e8 div.sk-parallel-item:only-child::after {width: 0;}#sk-12f927a8-fe5d-4ce3-82ee-2aa6963498e8 div.sk-dashed-wrapped {border: 1px dashed gray;margin: 0.2em;box-sizing: border-box;padding-bottom: 0.1em;background-color: white;position: relative;}#sk-12f927a8-fe5d-4ce3-82ee-2aa6963498e8 div.sk-label label {font-family: monospace;font-weight: bold;background-color: white;display: inline-block;line-height: 1.2em;}#sk-12f927a8-fe5d-4ce3-82ee-2aa6963498e8 div.sk-label-container {position: relative;z-index: 2;text-align: center;}#sk-12f927a8-fe5d-4ce3-82ee-2aa6963498e8 div.sk-container {display: inline-block;position: relative;}</style><div id=\"sk-12f927a8-fe5d-4ce3-82ee-2aa6963498e8\" class\"sk-top-container\"><div class=\"sk-container\"><div class=\"sk-item\"><div class=\"sk-estimator sk-toggleable\"><input class=\"sk-toggleable__control sk-hidden--visually\" id=\"10e70985-7e9e-413c-9697-d4546fcedf31\" type=\"checkbox\" checked><label class=\"sk-toggleable__label\" for=\"10e70985-7e9e-413c-9697-d4546fcedf31\">SimpleImputer</label><div class=\"sk-toggleable__content\"><pre>SimpleImputer(strategy='median')</pre></div></div></div></div></div>"
      ],
      "text/plain": [
       "SimpleImputer(strategy='median')"
      ]
     },
     "execution_count": 12,
     "metadata": {},
     "output_type": "execute_result"
    }
   ],
   "source": [
    "imputer_num = SimpleImputer(strategy=\"median\")\n",
    "imputer_num.fit(X_train[num_var])"
   ]
  },
  {
   "cell_type": "code",
   "execution_count": 13,
   "id": "e5cbf7df",
   "metadata": {},
   "outputs": [
    {
     "data": {
      "text/html": [
       "<style>#sk-eb47ec24-15d8-4a4f-95b5-2b45a4fd2bdc {color: black;background-color: white;}#sk-eb47ec24-15d8-4a4f-95b5-2b45a4fd2bdc pre{padding: 0;}#sk-eb47ec24-15d8-4a4f-95b5-2b45a4fd2bdc div.sk-toggleable {background-color: white;}#sk-eb47ec24-15d8-4a4f-95b5-2b45a4fd2bdc label.sk-toggleable__label {cursor: pointer;display: block;width: 100%;margin-bottom: 0;padding: 0.2em 0.3em;box-sizing: border-box;text-align: center;}#sk-eb47ec24-15d8-4a4f-95b5-2b45a4fd2bdc div.sk-toggleable__content {max-height: 0;max-width: 0;overflow: hidden;text-align: left;background-color: #f0f8ff;}#sk-eb47ec24-15d8-4a4f-95b5-2b45a4fd2bdc div.sk-toggleable__content pre {margin: 0.2em;color: black;border-radius: 0.25em;background-color: #f0f8ff;}#sk-eb47ec24-15d8-4a4f-95b5-2b45a4fd2bdc input.sk-toggleable__control:checked~div.sk-toggleable__content {max-height: 200px;max-width: 100%;overflow: auto;}#sk-eb47ec24-15d8-4a4f-95b5-2b45a4fd2bdc div.sk-estimator input.sk-toggleable__control:checked~label.sk-toggleable__label {background-color: #d4ebff;}#sk-eb47ec24-15d8-4a4f-95b5-2b45a4fd2bdc div.sk-label input.sk-toggleable__control:checked~label.sk-toggleable__label {background-color: #d4ebff;}#sk-eb47ec24-15d8-4a4f-95b5-2b45a4fd2bdc input.sk-hidden--visually {border: 0;clip: rect(1px 1px 1px 1px);clip: rect(1px, 1px, 1px, 1px);height: 1px;margin: -1px;overflow: hidden;padding: 0;position: absolute;width: 1px;}#sk-eb47ec24-15d8-4a4f-95b5-2b45a4fd2bdc div.sk-estimator {font-family: monospace;background-color: #f0f8ff;margin: 0.25em 0.25em;border: 1px dotted black;border-radius: 0.25em;box-sizing: border-box;}#sk-eb47ec24-15d8-4a4f-95b5-2b45a4fd2bdc div.sk-estimator:hover {background-color: #d4ebff;}#sk-eb47ec24-15d8-4a4f-95b5-2b45a4fd2bdc div.sk-parallel-item::after {content: \"\";width: 100%;border-bottom: 1px solid gray;flex-grow: 1;}#sk-eb47ec24-15d8-4a4f-95b5-2b45a4fd2bdc div.sk-label:hover label.sk-toggleable__label {background-color: #d4ebff;}#sk-eb47ec24-15d8-4a4f-95b5-2b45a4fd2bdc div.sk-serial::before {content: \"\";position: absolute;border-left: 1px solid gray;box-sizing: border-box;top: 2em;bottom: 0;left: 50%;}#sk-eb47ec24-15d8-4a4f-95b5-2b45a4fd2bdc div.sk-serial {display: flex;flex-direction: column;align-items: center;background-color: white;}#sk-eb47ec24-15d8-4a4f-95b5-2b45a4fd2bdc div.sk-item {z-index: 1;}#sk-eb47ec24-15d8-4a4f-95b5-2b45a4fd2bdc div.sk-parallel {display: flex;align-items: stretch;justify-content: center;background-color: white;}#sk-eb47ec24-15d8-4a4f-95b5-2b45a4fd2bdc div.sk-parallel-item {display: flex;flex-direction: column;position: relative;background-color: white;}#sk-eb47ec24-15d8-4a4f-95b5-2b45a4fd2bdc div.sk-parallel-item:first-child::after {align-self: flex-end;width: 50%;}#sk-eb47ec24-15d8-4a4f-95b5-2b45a4fd2bdc div.sk-parallel-item:last-child::after {align-self: flex-start;width: 50%;}#sk-eb47ec24-15d8-4a4f-95b5-2b45a4fd2bdc div.sk-parallel-item:only-child::after {width: 0;}#sk-eb47ec24-15d8-4a4f-95b5-2b45a4fd2bdc div.sk-dashed-wrapped {border: 1px dashed gray;margin: 0.2em;box-sizing: border-box;padding-bottom: 0.1em;background-color: white;position: relative;}#sk-eb47ec24-15d8-4a4f-95b5-2b45a4fd2bdc div.sk-label label {font-family: monospace;font-weight: bold;background-color: white;display: inline-block;line-height: 1.2em;}#sk-eb47ec24-15d8-4a4f-95b5-2b45a4fd2bdc div.sk-label-container {position: relative;z-index: 2;text-align: center;}#sk-eb47ec24-15d8-4a4f-95b5-2b45a4fd2bdc div.sk-container {display: inline-block;position: relative;}</style><div id=\"sk-eb47ec24-15d8-4a4f-95b5-2b45a4fd2bdc\" class\"sk-top-container\"><div class=\"sk-container\"><div class=\"sk-item\"><div class=\"sk-estimator sk-toggleable\"><input class=\"sk-toggleable__control sk-hidden--visually\" id=\"be4a2ffd-7b48-4431-939b-03a7707c3281\" type=\"checkbox\" checked><label class=\"sk-toggleable__label\" for=\"be4a2ffd-7b48-4431-939b-03a7707c3281\">StandardScaler</label><div class=\"sk-toggleable__content\"><pre>StandardScaler()</pre></div></div></div></div></div>"
      ],
      "text/plain": [
       "StandardScaler()"
      ]
     },
     "execution_count": 13,
     "metadata": {},
     "output_type": "execute_result"
    }
   ],
   "source": [
    "from sklearn.preprocessing import StandardScaler\n",
    "\n",
    "scaler = StandardScaler()\n",
    "scaler.fit(X_train[num_var])"
   ]
  },
  {
   "cell_type": "code",
   "execution_count": 14,
   "id": "964be20d",
   "metadata": {},
   "outputs": [],
   "source": [
    "X_train[num_var] = scaler.transform(X_train[num_var])\n",
    "X_train[num_var] = imputer_num.transform(X_train[num_var])\n",
    "X_train[cat_var] = imputer_cat.transform(X_train[cat_var])"
   ]
  },
  {
   "cell_type": "markdown",
   "id": "c177b03b",
   "metadata": {},
   "source": [
    "### Encodage des variables catégorielles"
   ]
  },
  {
   "cell_type": "code",
   "execution_count": 15,
   "id": "574b3908",
   "metadata": {},
   "outputs": [],
   "source": [
    "from sklearn.preprocessing import OneHotEncoder\n",
    "\n",
    "enc = OneHotEncoder()\n",
    "enc.fit(X_train[cat_var])\n",
    "X_train = enc.transform(X_train[cat_var])"
   ]
  },
  {
   "cell_type": "markdown",
   "id": "10b913ba",
   "metadata": {},
   "source": [
    "## Création du modèle"
   ]
  },
  {
   "cell_type": "code",
   "execution_count": 16,
   "id": "d0e52a88",
   "metadata": {
    "scrolled": true
   },
   "outputs": [
    {
     "data": {
      "text/html": [
       "<style>#sk-9dc8c71d-12a9-4acc-a570-586bd98116f1 {color: black;background-color: white;}#sk-9dc8c71d-12a9-4acc-a570-586bd98116f1 pre{padding: 0;}#sk-9dc8c71d-12a9-4acc-a570-586bd98116f1 div.sk-toggleable {background-color: white;}#sk-9dc8c71d-12a9-4acc-a570-586bd98116f1 label.sk-toggleable__label {cursor: pointer;display: block;width: 100%;margin-bottom: 0;padding: 0.2em 0.3em;box-sizing: border-box;text-align: center;}#sk-9dc8c71d-12a9-4acc-a570-586bd98116f1 div.sk-toggleable__content {max-height: 0;max-width: 0;overflow: hidden;text-align: left;background-color: #f0f8ff;}#sk-9dc8c71d-12a9-4acc-a570-586bd98116f1 div.sk-toggleable__content pre {margin: 0.2em;color: black;border-radius: 0.25em;background-color: #f0f8ff;}#sk-9dc8c71d-12a9-4acc-a570-586bd98116f1 input.sk-toggleable__control:checked~div.sk-toggleable__content {max-height: 200px;max-width: 100%;overflow: auto;}#sk-9dc8c71d-12a9-4acc-a570-586bd98116f1 div.sk-estimator input.sk-toggleable__control:checked~label.sk-toggleable__label {background-color: #d4ebff;}#sk-9dc8c71d-12a9-4acc-a570-586bd98116f1 div.sk-label input.sk-toggleable__control:checked~label.sk-toggleable__label {background-color: #d4ebff;}#sk-9dc8c71d-12a9-4acc-a570-586bd98116f1 input.sk-hidden--visually {border: 0;clip: rect(1px 1px 1px 1px);clip: rect(1px, 1px, 1px, 1px);height: 1px;margin: -1px;overflow: hidden;padding: 0;position: absolute;width: 1px;}#sk-9dc8c71d-12a9-4acc-a570-586bd98116f1 div.sk-estimator {font-family: monospace;background-color: #f0f8ff;margin: 0.25em 0.25em;border: 1px dotted black;border-radius: 0.25em;box-sizing: border-box;}#sk-9dc8c71d-12a9-4acc-a570-586bd98116f1 div.sk-estimator:hover {background-color: #d4ebff;}#sk-9dc8c71d-12a9-4acc-a570-586bd98116f1 div.sk-parallel-item::after {content: \"\";width: 100%;border-bottom: 1px solid gray;flex-grow: 1;}#sk-9dc8c71d-12a9-4acc-a570-586bd98116f1 div.sk-label:hover label.sk-toggleable__label {background-color: #d4ebff;}#sk-9dc8c71d-12a9-4acc-a570-586bd98116f1 div.sk-serial::before {content: \"\";position: absolute;border-left: 1px solid gray;box-sizing: border-box;top: 2em;bottom: 0;left: 50%;}#sk-9dc8c71d-12a9-4acc-a570-586bd98116f1 div.sk-serial {display: flex;flex-direction: column;align-items: center;background-color: white;}#sk-9dc8c71d-12a9-4acc-a570-586bd98116f1 div.sk-item {z-index: 1;}#sk-9dc8c71d-12a9-4acc-a570-586bd98116f1 div.sk-parallel {display: flex;align-items: stretch;justify-content: center;background-color: white;}#sk-9dc8c71d-12a9-4acc-a570-586bd98116f1 div.sk-parallel-item {display: flex;flex-direction: column;position: relative;background-color: white;}#sk-9dc8c71d-12a9-4acc-a570-586bd98116f1 div.sk-parallel-item:first-child::after {align-self: flex-end;width: 50%;}#sk-9dc8c71d-12a9-4acc-a570-586bd98116f1 div.sk-parallel-item:last-child::after {align-self: flex-start;width: 50%;}#sk-9dc8c71d-12a9-4acc-a570-586bd98116f1 div.sk-parallel-item:only-child::after {width: 0;}#sk-9dc8c71d-12a9-4acc-a570-586bd98116f1 div.sk-dashed-wrapped {border: 1px dashed gray;margin: 0.2em;box-sizing: border-box;padding-bottom: 0.1em;background-color: white;position: relative;}#sk-9dc8c71d-12a9-4acc-a570-586bd98116f1 div.sk-label label {font-family: monospace;font-weight: bold;background-color: white;display: inline-block;line-height: 1.2em;}#sk-9dc8c71d-12a9-4acc-a570-586bd98116f1 div.sk-label-container {position: relative;z-index: 2;text-align: center;}#sk-9dc8c71d-12a9-4acc-a570-586bd98116f1 div.sk-container {display: inline-block;position: relative;}</style><div id=\"sk-9dc8c71d-12a9-4acc-a570-586bd98116f1\" class\"sk-top-container\"><div class=\"sk-container\"><div class=\"sk-item\"><div class=\"sk-estimator sk-toggleable\"><input class=\"sk-toggleable__control sk-hidden--visually\" id=\"a34a22ef-fb8c-40c0-a4f7-4ef054adcebb\" type=\"checkbox\" checked><label class=\"sk-toggleable__label\" for=\"a34a22ef-fb8c-40c0-a4f7-4ef054adcebb\">LinearRegression</label><div class=\"sk-toggleable__content\"><pre>LinearRegression()</pre></div></div></div></div></div>"
      ],
      "text/plain": [
       "LinearRegression()"
      ]
     },
     "execution_count": 16,
     "metadata": {},
     "output_type": "execute_result"
    }
   ],
   "source": [
    "from sklearn.linear_model import LinearRegression\n",
    "\n",
    "lin_reg = LinearRegression()\n",
    "lin_reg.fit(X_train, y_train)"
   ]
  },
  {
   "cell_type": "markdown",
   "id": "72c1f17a",
   "metadata": {},
   "source": [
    "## Evaluation du modèle avec le jeu de test"
   ]
  },
  {
   "cell_type": "code",
   "execution_count": 17,
   "id": "7b4c88e6",
   "metadata": {},
   "outputs": [],
   "source": [
    "X_test[num_var] = imputer_num.transform(X_test[num_var])\n",
    "X_test[cat_var] = imputer_cat.transform(X_test[cat_var])"
   ]
  },
  {
   "cell_type": "code",
   "execution_count": 18,
   "id": "2f794ff1",
   "metadata": {},
   "outputs": [],
   "source": [
    "X_test = enc.transform(X_test[cat_var])"
   ]
  },
  {
   "cell_type": "code",
   "execution_count": 19,
   "id": "bc52fac1",
   "metadata": {},
   "outputs": [],
   "source": [
    "y_pred = lin_reg.predict(X_test)"
   ]
  },
  {
   "cell_type": "code",
   "execution_count": 20,
   "id": "03a7536c",
   "metadata": {},
   "outputs": [
    {
     "name": "stdout",
     "output_type": "stream",
     "text": [
      "MAE : 0.882\n",
      "MSE : 1.535\n",
      "RMSE : 1.239\n",
      "R² : 0.217\n"
     ]
    }
   ],
   "source": [
    "regression_metrics(y_test, y_pred)"
   ]
  },
  {
   "cell_type": "markdown",
   "id": "feac23ce",
   "metadata": {},
   "source": [
    "## Test de plusieurs modèles"
   ]
  },
  {
   "cell_type": "code",
   "execution_count": null,
   "id": "02455ae4",
   "metadata": {},
   "outputs": [],
   "source": [
    "from sklearn.linear_model import Ridge, Lasso, SGDRegressor\n",
    "from sklearn.tree import DecisionTreeRegressor\n",
    "from sklearn.svm import SVR\n",
    "from sklearn.kernel_ridge import KernelRidge\n",
    "from sklearn.ensemble import AdaBoostRegressor, BaggingRegressor, GradientBoostingRegressor, RandomForestRegressor\n",
    "import xgboost\n"
   ]
  }
 ],
 "metadata": {
  "kernelspec": {
   "display_name": "Python 3",
   "language": "python",
   "name": "python3"
  },
  "language_info": {
   "codemirror_mode": {
    "name": "ipython",
    "version": 3
   },
   "file_extension": ".py",
   "mimetype": "text/x-python",
   "name": "python",
   "nbconvert_exporter": "python",
   "pygments_lexer": "ipython3",
   "version": "3.8.10"
  }
 },
 "nbformat": 4,
 "nbformat_minor": 5
}
