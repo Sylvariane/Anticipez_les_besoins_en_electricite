{
 "cells": [
  {
   "cell_type": "markdown",
   "id": "ee05511e",
   "metadata": {},
   "source": [
    "# Recherche de modèles pour la prédiction de la consommation d'énergie et des émissions de gaz à effets de serre"
   ]
  },
  {
   "cell_type": "markdown",
   "id": "147e4a13",
   "metadata": {},
   "source": [
    "## Sommaire\n",
    "\n",
    "* [1 - Préparation du notebook](#chapter1)\n",
    "\n",
    "\n",
    "* [2 - Prédiction de la consommation d'énergie](#chapter2)\n",
    "    * [2.1. Création d'un modèle \"baseline\"](#section_2_1)\n",
    "        * [2.1.1. Préparation des données](#section_2_1_1)\n",
    "        * [2.1.2. Création d'un modèle de base](#section_2_1_2)\n",
    "        * [2.1.3. Evaluation du modèle avec le jeu de test](#section_2_1_3)\n",
    "    * [2.2. Choix du modèle le plus adapté](#section_2_2)\n",
    "    * [2.3. Choix des hyperparamètres](#section_2_3)\n",
    "    * [2.4. Analyses des erreurs](#section_2_4)\n",
    "    * [2.5. Pipeline final](#section_2_5)\n",
    "    \n",
    "    \n",
    "* [3 - Prédiction des émissions de gaz à effets de serre](#chapter3)\n",
    "    * [3.1. Préparation des variables](#section_3_1)\n",
    "    * [3.2. Création d'un modèle \"baseline\"](#section_3_2)\n",
    "    * [3.3. Choix du modèle le plus adapté](#section_3_3)\n",
    "    * [3.4. Choix des hyperparamètres](#section_3_4)\n",
    "    * [3.5. Analyses des erreurs](#section_3_5)\n",
    "    * [3.6. Pipeline finale](#section_3_6)\n",
    "    \n",
    "* [4 - Prédiction des émissions de gaz à effets de serre à l'aide de l'ENERGYSTAR Score](#chapter4)\n",
    "\n",
    "* [5 - Conclusion](#chapter5)"
   ]
  },
  {
   "cell_type": "markdown",
   "id": "f2780fda",
   "metadata": {},
   "source": [
    "# 1) Préparation du notebook <a class=\"anchor\" id=\"chapter1\"></a>"
   ]
  },
  {
   "cell_type": "code",
   "execution_count": 1,
   "id": "95a8b3ee",
   "metadata": {},
   "outputs": [],
   "source": [
    "# importation des librairies nécessaires aux tests de modèle\n",
    "import warnings\n",
    "warnings.filterwarnings(\"ignore\")\n",
    "\n",
    "import pandas as pd\n",
    "import numpy as np\n",
    "from scipy import stats\n",
    "\n",
    "import matplotlib.pyplot as plt\n",
    "import seaborn as sns\n",
    "import sklearn\n",
    "from sklearn.preprocessing import OneHotEncoder, StandardScaler\n",
    "from sklearn.impute import SimpleImputer\n",
    "from sklearn.metrics import mean_absolute_error, mean_squared_error, r2_score, mean_absolute_percentage_error\n",
    "from sklearn.model_selection import train_test_split\n",
    "from yellowbrick.regressor import ResidualsPlot, prediction_error"
   ]
  },
  {
   "cell_type": "code",
   "execution_count": 2,
   "id": "cf987a68",
   "metadata": {},
   "outputs": [],
   "source": [
    "# Paramétrage visuelle de Scikit-Learn\n",
    "sklearn.set_config(display=\"diagram\")"
   ]
  },
  {
   "cell_type": "code",
   "execution_count": 3,
   "id": "4b903131",
   "metadata": {},
   "outputs": [],
   "source": [
    "# Fonction créée pour l'évaluation des modèles\n",
    "def regression_metrics(y_test, y_pred):\n",
    "    \"\"\"Function which contains differents metrics about regression\n",
    "    Input: y_test, prediction\n",
    "    \n",
    "    Output: MAE, MSE, RMSE, MAPE & R² score  \n",
    "    \"\"\"\n",
    "    mae = mean_absolute_error(y_test, y_pred)\n",
    "    mse = mean_squared_error(y_test, y_pred)\n",
    "    rmse = np.sqrt(mse)\n",
    "    mape = mean_absolute_percentage_error(y_test, y_pred)\n",
    "    r_score = r2_score(y_test, y_pred, multioutput=\"variance_weighted\")\n",
    "    print(\"MAE: \",mae.round(5))\n",
    "    print(\"MSE: \", mse.round(5))\n",
    "    print(\"RMSE: \", rmse)\n",
    "    print(\"MAPE: \", mape.round(5))\n",
    "    print(\"R²: \", r_score.round(5))"
   ]
  },
  {
   "cell_type": "code",
   "execution_count": 4,
   "id": "248a9458",
   "metadata": {},
   "outputs": [
    {
     "data": {
      "text/html": [
       "<div>\n",
       "<style scoped>\n",
       "    .dataframe tbody tr th:only-of-type {\n",
       "        vertical-align: middle;\n",
       "    }\n",
       "\n",
       "    .dataframe tbody tr th {\n",
       "        vertical-align: top;\n",
       "    }\n",
       "\n",
       "    .dataframe thead th {\n",
       "        text-align: right;\n",
       "    }\n",
       "</style>\n",
       "<table border=\"1\" class=\"dataframe\">\n",
       "  <thead>\n",
       "    <tr style=\"text-align: right;\">\n",
       "      <th></th>\n",
       "      <th>PrimaryPropertyType</th>\n",
       "      <th>Neighborhood</th>\n",
       "      <th>YearBuilt</th>\n",
       "      <th>NumberofBuildings</th>\n",
       "      <th>NumberofFloors</th>\n",
       "      <th>PropertyGFATotal</th>\n",
       "      <th>ENERGYSTARScore</th>\n",
       "      <th>SiteEnergyUse(kBtu)</th>\n",
       "      <th>TotalGHGEmissions</th>\n",
       "      <th>Latitude</th>\n",
       "      <th>Longitude</th>\n",
       "      <th>NbofFloors</th>\n",
       "      <th>NbofBuildings</th>\n",
       "      <th>Age</th>\n",
       "      <th>Bins_Age</th>\n",
       "      <th>degreeDaysH</th>\n",
       "      <th>degreeDaysC</th>\n",
       "      <th>HasParking</th>\n",
       "      <th>Clusters</th>\n",
       "    </tr>\n",
       "  </thead>\n",
       "  <tbody>\n",
       "    <tr>\n",
       "      <th>0</th>\n",
       "      <td>Hotel</td>\n",
       "      <td>Downtown</td>\n",
       "      <td>1927</td>\n",
       "      <td>1.0</td>\n",
       "      <td>12.0</td>\n",
       "      <td>88434</td>\n",
       "      <td>65.0</td>\n",
       "      <td>6981428.0</td>\n",
       "      <td>249.43</td>\n",
       "      <td>47.61220</td>\n",
       "      <td>-122.33799</td>\n",
       "      <td>2+f</td>\n",
       "      <td>1b</td>\n",
       "      <td>88</td>\n",
       "      <td>Very Old</td>\n",
       "      <td>4005</td>\n",
       "      <td>409</td>\n",
       "      <td>No</td>\n",
       "      <td>1</td>\n",
       "    </tr>\n",
       "    <tr>\n",
       "      <th>1</th>\n",
       "      <td>Hotel</td>\n",
       "      <td>Downtown</td>\n",
       "      <td>1927</td>\n",
       "      <td>1.0</td>\n",
       "      <td>12.0</td>\n",
       "      <td>88434</td>\n",
       "      <td>60.0</td>\n",
       "      <td>7226362.5</td>\n",
       "      <td>249.98</td>\n",
       "      <td>47.61220</td>\n",
       "      <td>-122.33799</td>\n",
       "      <td>2+f</td>\n",
       "      <td>1b</td>\n",
       "      <td>89</td>\n",
       "      <td>Very Old</td>\n",
       "      <td>4093</td>\n",
       "      <td>252</td>\n",
       "      <td>No</td>\n",
       "      <td>1</td>\n",
       "    </tr>\n",
       "    <tr>\n",
       "      <th>2</th>\n",
       "      <td>Hotel</td>\n",
       "      <td>Downtown</td>\n",
       "      <td>1996</td>\n",
       "      <td>1.0</td>\n",
       "      <td>11.0</td>\n",
       "      <td>103566</td>\n",
       "      <td>51.0</td>\n",
       "      <td>8354235.0</td>\n",
       "      <td>263.51</td>\n",
       "      <td>47.61317</td>\n",
       "      <td>-122.33393</td>\n",
       "      <td>2+f</td>\n",
       "      <td>1b</td>\n",
       "      <td>19</td>\n",
       "      <td>Recent</td>\n",
       "      <td>4005</td>\n",
       "      <td>409</td>\n",
       "      <td>Yes</td>\n",
       "      <td>1</td>\n",
       "    </tr>\n",
       "  </tbody>\n",
       "</table>\n",
       "</div>"
      ],
      "text/plain": [
       "  PrimaryPropertyType Neighborhood  YearBuilt  NumberofBuildings  \\\n",
       "0               Hotel     Downtown       1927                1.0   \n",
       "1               Hotel     Downtown       1927                1.0   \n",
       "2               Hotel     Downtown       1996                1.0   \n",
       "\n",
       "   NumberofFloors  PropertyGFATotal  ENERGYSTARScore  SiteEnergyUse(kBtu)  \\\n",
       "0            12.0             88434             65.0            6981428.0   \n",
       "1            12.0             88434             60.0            7226362.5   \n",
       "2            11.0            103566             51.0            8354235.0   \n",
       "\n",
       "   TotalGHGEmissions  Latitude  Longitude NbofFloors NbofBuildings  Age  \\\n",
       "0             249.43  47.61220 -122.33799        2+f            1b   88   \n",
       "1             249.98  47.61220 -122.33799        2+f            1b   89   \n",
       "2             263.51  47.61317 -122.33393        2+f            1b   19   \n",
       "\n",
       "   Bins_Age  degreeDaysH  degreeDaysC HasParking  Clusters  \n",
       "0  Very Old         4005          409         No         1  \n",
       "1  Very Old         4093          252         No         1  \n",
       "2    Recent         4005          409        Yes         1  "
      ]
     },
     "execution_count": 4,
     "metadata": {},
     "output_type": "execute_result"
    }
   ],
   "source": [
    "# importation des données\n",
    "data = pd.read_csv(\"datasets/benchmark_total.csv\")\n",
    "data.head(3)"
   ]
  },
  {
   "cell_type": "markdown",
   "id": "dee3feec",
   "metadata": {},
   "source": [
    "Une fois que l'on a chargé les données, on va pouvoir séparer notre jeu de données en deux parties : un train set et un test set. On ne va pas toucher aux données du test set car il nous servia pour la validation de notre modèle. C'est grâce à ce jeu de données que l'on pourra sortir les metrics nécessaires. Dans chaque jeu (entraînement et test), on supprime les variables qui ne seront pas utiles dans notre modélisation. \n",
    "\n",
    "Tout d'abord, on supprime les variables que l'on cherche à prédire. \"SiteEnergyUse(kBtu)\" et \"TotalGHGEmissions\" sont les deux cibles que l'on cherche à prédire, on les mettra donc dans une variable y. Ensuite, notre jeu de données comporte de nombreuses valeurs : certaines sont d'origine et d'autres proviennent d'une opération de feature engineering. On va donc supprimer les doublons pour éviter la fuite de donneés. \n",
    "- Le score ENERGYSTAR est enlevé car on ne va pas s'en servir pour prédire la consommation d'énergie. On regardera son impact dans la prédiction des effets de gaz à effets de serre dans un second temps. \n",
    "- L'âge et l'année de construction des bâtiments sont supprimées. On va leur préférence l'utilisation d'une variable catégorielle en 4 modalités pour avoir cette information. La construction de cette variable est expliquée dans la partie \"Analyse\".\n",
    "- Le nombre de bâtiments est supprimé et est remplacé par une variable catégorielle qui indique s'il y a 0, 1 ou 2 et plus de bâtiments sur la propriété. Ainsi la compréhension du modèle sera simpligiée par la suite.\n",
    "- Pour le nombre d'étages, la logique est identique à celle du nombre de bâtiments. Ces simplifications permettent aussi de palier à la \"mauvaise\" distribution de nos variables. \n",
    "- Le quartier est supprimé ainsi que la longitude et la latitude. Ces informations concernent la localisation de la propriété. L'information de la localisation se trouve dans la variable \"Cluster\". Les explications de la création de cette variable se trouvent dans le notebook d'analyse. "
   ]
  },
  {
   "cell_type": "code",
   "execution_count": 5,
   "id": "0aa3e315",
   "metadata": {},
   "outputs": [],
   "source": [
    "data[\"SiteEnergyUse(kBtu)_log\"] = np.log(data[\"SiteEnergyUse(kBtu)\"])\n",
    "data[\"TotalGHGEmissions_log\"] = np.log(data[\"TotalGHGEmissions\"])"
   ]
  },
  {
   "cell_type": "code",
   "execution_count": 6,
   "id": "70525bfc",
   "metadata": {},
   "outputs": [],
   "source": [
    "# Création d'un jeu d'entrainement (train set) et d'un jeu de test (test set)\n",
    "train_set, test_set = train_test_split(data, test_size=0.2, random_state=42, stratify=data[\"PrimaryPropertyType\"])\n",
    "\n",
    "y_train = train_set[[\"SiteEnergyUse(kBtu)_log\"]]\n",
    "y_test = test_set[[\"SiteEnergyUse(kBtu)_log\"]]\n",
    "X_train = train_set.drop([\"SiteEnergyUse(kBtu)\", \"SiteEnergyUse(kBtu)_log\", \"TotalGHGEmissions\", \"TotalGHGEmissions_log\", \"ENERGYSTARScore\", \"Age\", \"YearBuilt\", \"NumberofBuildings\", \"NumberofFloors\", \"Neighborhood\", \"Latitude\", \"Longitude\"], axis=1)\n",
    "X_test = test_set.drop([\"SiteEnergyUse(kBtu)\", \"SiteEnergyUse(kBtu)_log\", \"TotalGHGEmissions\", \"TotalGHGEmissions_log\", \"ENERGYSTARScore\", \"Age\", \"YearBuilt\", \"NumberofBuildings\", \"NumberofFloors\",\"Neighborhood\", \"Latitude\", \"Longitude\"], axis=1)"
   ]
  },
  {
   "cell_type": "markdown",
   "id": "6444b164",
   "metadata": {},
   "source": [
    "# 2) Prédiction de la consommation d'énergie <a class=\"anchor\" id=\"chapter2\"></a>"
   ]
  },
  {
   "cell_type": "markdown",
   "id": "e086d972",
   "metadata": {},
   "source": [
    "## 2.1) Création d'un modèle \"baseline\" <a class=\"anchor\" id=\"section_2_1\"></a>"
   ]
  },
  {
   "cell_type": "markdown",
   "id": "6a8cb4de",
   "metadata": {},
   "source": [
    "### 2.1.1) Préparation des données <a class=\"anchor\" id=\"section_2_1_1\"></a>"
   ]
  },
  {
   "cell_type": "markdown",
   "id": "7ce2fe53",
   "metadata": {},
   "source": [
    "On sépare les variables catégorielles des variables numériques. Pour pouvoir leur appliquer des traitements différents qui seront enregistrés dans un pipeline de préprocessing. \n",
    "Pour les variables catégorielles : \n",
    "- On complète les valeurs manquantes par le mode (celle qui est le plus fréquent)\n",
    "- On les transforme via un OneHotEncoding. Ainsi, elles seront transformées en valeur numérique compréhensible par notre modèles.\n",
    "\n",
    "Pour les variables numériques : \n",
    "- On complète les valeurs manquantes par la médiane. Il y a une grande diversité dans nos valeurs numériques sans que cela soit des anomalies. Néanmoins, elles vont faire varier notre moyenne, c'est pourquoi on choisi ici la médiane.\n",
    "- On standardise nos variables pour enlever les unités qui sont différents (degré Fahrenheit pour Degree Days Heating & Cooling ; sq/ft² pour la taille de la propriété)."
   ]
  },
  {
   "cell_type": "code",
   "execution_count": 7,
   "id": "eb1a2553",
   "metadata": {},
   "outputs": [],
   "source": [
    "# Séparation des variables catégorielles et numériques\n",
    "\n",
    "cat_var = [\"PrimaryPropertyType\", \"NbofFloors\", \"NbofBuildings\", \"HasParking\", \"Clusters\", \"Bins_Age\"]\n",
    "num_var = [\"PropertyGFATotal\", \"degreeDaysH\", \"degreeDaysC\"]"
   ]
  },
  {
   "cell_type": "code",
   "execution_count": 8,
   "id": "262498ce",
   "metadata": {},
   "outputs": [],
   "source": [
    "# Création d'un pipeline de transformation\n",
    "from sklearn.compose import ColumnTransformer\n",
    "from sklearn.pipeline import Pipeline\n",
    "\n",
    "cat_pipe = Pipeline([\n",
    "    ('imputer', SimpleImputer(strategy='most_frequent', fill_value='missing')),\n",
    "    ('encoder', OneHotEncoder(handle_unknown='ignore', sparse=False))\n",
    "])\n",
    "\n",
    "num_pipe = Pipeline([\n",
    "    ('imputer', SimpleImputer(strategy=\"median\", fill_value=\"missing\")),\n",
    "    ('scaler', StandardScaler())\n",
    "])\n",
    "\n",
    "preprocessor = ColumnTransformer(\n",
    "    transformers=[\n",
    "    ('cat', cat_pipe, cat_var),\n",
    "    ('num', num_pipe, num_var)\n",
    "])"
   ]
  },
  {
   "cell_type": "code",
   "execution_count": 9,
   "id": "a83754cb",
   "metadata": {},
   "outputs": [],
   "source": [
    "X_train = preprocessor.fit_transform(X_train)"
   ]
  },
  {
   "cell_type": "markdown",
   "id": "6946918b",
   "metadata": {},
   "source": [
    "### 2.1.2) Création du modèle de base <a class=\"anchor\" id=\"section_2_1_2\"></a>"
   ]
  },
  {
   "cell_type": "markdown",
   "id": "2be7ca5e",
   "metadata": {},
   "source": [
    "Le modèle choisi pour obtenir une baseline est un modèle naïf. Ce type de modèle prédit la valeur médiane de la variable cible. Le but étant d'avoir une prédiction proche de ce que ferait un modèle basé sur le hasard. Les métriques qui sortiront de ce modèle serviront de base pour évaluer les performances d'autres modèles. "
   ]
  },
  {
   "cell_type": "code",
   "execution_count": 10,
   "id": "edc0ff20",
   "metadata": {
    "scrolled": true
   },
   "outputs": [
    {
     "data": {
      "text/html": [
       "<style>#sk-0cf4cc20-b3b6-4281-be39-b3692c0d9544 {color: black;background-color: white;}#sk-0cf4cc20-b3b6-4281-be39-b3692c0d9544 pre{padding: 0;}#sk-0cf4cc20-b3b6-4281-be39-b3692c0d9544 div.sk-toggleable {background-color: white;}#sk-0cf4cc20-b3b6-4281-be39-b3692c0d9544 label.sk-toggleable__label {cursor: pointer;display: block;width: 100%;margin-bottom: 0;padding: 0.2em 0.3em;box-sizing: border-box;text-align: center;}#sk-0cf4cc20-b3b6-4281-be39-b3692c0d9544 div.sk-toggleable__content {max-height: 0;max-width: 0;overflow: hidden;text-align: left;background-color: #f0f8ff;}#sk-0cf4cc20-b3b6-4281-be39-b3692c0d9544 div.sk-toggleable__content pre {margin: 0.2em;color: black;border-radius: 0.25em;background-color: #f0f8ff;}#sk-0cf4cc20-b3b6-4281-be39-b3692c0d9544 input.sk-toggleable__control:checked~div.sk-toggleable__content {max-height: 200px;max-width: 100%;overflow: auto;}#sk-0cf4cc20-b3b6-4281-be39-b3692c0d9544 div.sk-estimator input.sk-toggleable__control:checked~label.sk-toggleable__label {background-color: #d4ebff;}#sk-0cf4cc20-b3b6-4281-be39-b3692c0d9544 div.sk-label input.sk-toggleable__control:checked~label.sk-toggleable__label {background-color: #d4ebff;}#sk-0cf4cc20-b3b6-4281-be39-b3692c0d9544 input.sk-hidden--visually {border: 0;clip: rect(1px 1px 1px 1px);clip: rect(1px, 1px, 1px, 1px);height: 1px;margin: -1px;overflow: hidden;padding: 0;position: absolute;width: 1px;}#sk-0cf4cc20-b3b6-4281-be39-b3692c0d9544 div.sk-estimator {font-family: monospace;background-color: #f0f8ff;margin: 0.25em 0.25em;border: 1px dotted black;border-radius: 0.25em;box-sizing: border-box;}#sk-0cf4cc20-b3b6-4281-be39-b3692c0d9544 div.sk-estimator:hover {background-color: #d4ebff;}#sk-0cf4cc20-b3b6-4281-be39-b3692c0d9544 div.sk-parallel-item::after {content: \"\";width: 100%;border-bottom: 1px solid gray;flex-grow: 1;}#sk-0cf4cc20-b3b6-4281-be39-b3692c0d9544 div.sk-label:hover label.sk-toggleable__label {background-color: #d4ebff;}#sk-0cf4cc20-b3b6-4281-be39-b3692c0d9544 div.sk-serial::before {content: \"\";position: absolute;border-left: 1px solid gray;box-sizing: border-box;top: 2em;bottom: 0;left: 50%;}#sk-0cf4cc20-b3b6-4281-be39-b3692c0d9544 div.sk-serial {display: flex;flex-direction: column;align-items: center;background-color: white;}#sk-0cf4cc20-b3b6-4281-be39-b3692c0d9544 div.sk-item {z-index: 1;}#sk-0cf4cc20-b3b6-4281-be39-b3692c0d9544 div.sk-parallel {display: flex;align-items: stretch;justify-content: center;background-color: white;}#sk-0cf4cc20-b3b6-4281-be39-b3692c0d9544 div.sk-parallel-item {display: flex;flex-direction: column;position: relative;background-color: white;}#sk-0cf4cc20-b3b6-4281-be39-b3692c0d9544 div.sk-parallel-item:first-child::after {align-self: flex-end;width: 50%;}#sk-0cf4cc20-b3b6-4281-be39-b3692c0d9544 div.sk-parallel-item:last-child::after {align-self: flex-start;width: 50%;}#sk-0cf4cc20-b3b6-4281-be39-b3692c0d9544 div.sk-parallel-item:only-child::after {width: 0;}#sk-0cf4cc20-b3b6-4281-be39-b3692c0d9544 div.sk-dashed-wrapped {border: 1px dashed gray;margin: 0.2em;box-sizing: border-box;padding-bottom: 0.1em;background-color: white;position: relative;}#sk-0cf4cc20-b3b6-4281-be39-b3692c0d9544 div.sk-label label {font-family: monospace;font-weight: bold;background-color: white;display: inline-block;line-height: 1.2em;}#sk-0cf4cc20-b3b6-4281-be39-b3692c0d9544 div.sk-label-container {position: relative;z-index: 2;text-align: center;}#sk-0cf4cc20-b3b6-4281-be39-b3692c0d9544 div.sk-container {display: inline-block;position: relative;}</style><div id=\"sk-0cf4cc20-b3b6-4281-be39-b3692c0d9544\" class\"sk-top-container\"><div class=\"sk-container\"><div class=\"sk-item\"><div class=\"sk-estimator sk-toggleable\"><input class=\"sk-toggleable__control sk-hidden--visually\" id=\"2831e0e1-0983-4c96-95bc-2804e0821701\" type=\"checkbox\" checked><label class=\"sk-toggleable__label\" for=\"2831e0e1-0983-4c96-95bc-2804e0821701\">DummyRegressor</label><div class=\"sk-toggleable__content\"><pre>DummyRegressor(strategy='median')</pre></div></div></div></div></div>"
      ],
      "text/plain": [
       "DummyRegressor(strategy='median')"
      ]
     },
     "execution_count": 10,
     "metadata": {},
     "output_type": "execute_result"
    }
   ],
   "source": [
    "from sklearn.dummy import DummyRegressor\n",
    "\n",
    "dummy_reg = DummyRegressor(strategy=\"median\")\n",
    "dummy_reg.fit(X_train, y_train)"
   ]
  },
  {
   "cell_type": "markdown",
   "id": "05749efe",
   "metadata": {},
   "source": [
    "### 2.1.3) Evaluation du modèle avec le jeu de test <a class=\"anchor\" id=\"section_2_1_3\"></a>"
   ]
  },
  {
   "cell_type": "code",
   "execution_count": 11,
   "id": "b733ab57",
   "metadata": {},
   "outputs": [
    {
     "name": "stdout",
     "output_type": "stream",
     "text": [
      "MAE:  0.98081\n",
      "MSE:  1.5836\n",
      "RMSE:  1.258410344163992\n",
      "MAPE:  0.0661\n",
      "R²:  -4e-05\n"
     ]
    }
   ],
   "source": [
    "X_test = preprocessor.transform(X_test)\n",
    "y_pred = dummy_reg.predict(X_test)\n",
    "regression_metrics(y_test, y_pred)"
   ]
  },
  {
   "cell_type": "markdown",
   "id": "52ba91fb",
   "metadata": {},
   "source": [
    "Les métriques choisis sont le (R)MSE, le MAE et le R²."
   ]
  },
  {
   "cell_type": "markdown",
   "id": "0747ad66",
   "metadata": {},
   "source": [
    "## 2.2) Choix du modèle le plus performant <a class=\"anchor\" id=\"section_2_2\"></a>"
   ]
  },
  {
   "cell_type": "markdown",
   "id": "c9eb6164",
   "metadata": {},
   "source": [
    "Le problème à laquelle nous sommes confrontés est un problème de régression. On va donc choisir des modèles qui peuvent permettre de faire ce type de prédiction. On va choisir des méthodes linéaires : Régression linéaire et ses variantes régularisées (Ridge et Lasso), le Support Vecteur Machine et des méthodes non linéaires : la régression linéaire ridge avec noyau, des méthodes ensemblistes de bagging (Bagging, Random Forest) et de boosting (AdaBoost, Gradient Boosting, XGBoost)."
   ]
  },
  {
   "cell_type": "code",
   "execution_count": 12,
   "id": "90637e89",
   "metadata": {},
   "outputs": [],
   "source": [
    "from sklearn.linear_model import Ridge, Lasso, LinearRegression\n",
    "from sklearn.tree import DecisionTreeRegressor\n",
    "from sklearn.svm import SVR\n",
    "from sklearn.kernel_ridge import KernelRidge\n",
    "from sklearn.ensemble import AdaBoostRegressor, BaggingRegressor, GradientBoostingRegressor, RandomForestRegressor\n",
    "from sklearn.neural_network import MLPRegressor\n",
    "import xgboost as xgb\n",
    "\n",
    "dummy_reg = DummyRegressor(strategy=\"median\")\n",
    "lin_reg = LinearRegression()\n",
    "ridge = Ridge(random_state=42)\n",
    "lasso = Lasso(random_state=42)\n",
    "dt_reg =  DecisionTreeRegressor(random_state=42)\n",
    "svm_reg = SVR()\n",
    "ridge_kernel = KernelRidge()\n",
    "adaboost = AdaBoostRegressor(random_state=42)\n",
    "bagging = BaggingRegressor(random_state=42)\n",
    "gdboost = GradientBoostingRegressor(random_state=42)\n",
    "rdmforest = RandomForestRegressor(random_state=42)\n",
    "xgboost = xgb.XGBRegressor(random_state=42)\n",
    "mlp_reg = MLPRegressor(random_state=42)"
   ]
  },
  {
   "cell_type": "code",
   "execution_count": 13,
   "id": "07d92221",
   "metadata": {},
   "outputs": [
    {
     "data": {
      "text/html": [
       "<div>\n",
       "<style scoped>\n",
       "    .dataframe tbody tr th:only-of-type {\n",
       "        vertical-align: middle;\n",
       "    }\n",
       "\n",
       "    .dataframe tbody tr th {\n",
       "        vertical-align: top;\n",
       "    }\n",
       "\n",
       "    .dataframe thead th {\n",
       "        text-align: right;\n",
       "    }\n",
       "</style>\n",
       "<table border=\"1\" class=\"dataframe\">\n",
       "  <thead>\n",
       "    <tr style=\"text-align: right;\">\n",
       "      <th></th>\n",
       "      <th>Dummy Regressor</th>\n",
       "      <th>Linear Regression</th>\n",
       "      <th>Ridge</th>\n",
       "      <th>Lasso</th>\n",
       "      <th>DecisionTree</th>\n",
       "      <th>SVM</th>\n",
       "      <th>Ridge Kernel</th>\n",
       "      <th>AdaBoost</th>\n",
       "      <th>Bagging</th>\n",
       "      <th>GradientBoosting</th>\n",
       "      <th>Random Forest</th>\n",
       "      <th>XGBoost</th>\n",
       "      <th>MLP</th>\n",
       "    </tr>\n",
       "  </thead>\n",
       "  <tbody>\n",
       "    <tr>\n",
       "      <th>MAE</th>\n",
       "      <td>0.981</td>\n",
       "      <td>0.715</td>\n",
       "      <td>0.711</td>\n",
       "      <td>1.008</td>\n",
       "      <td>0.328</td>\n",
       "      <td>0.547</td>\n",
       "      <td>0.712</td>\n",
       "      <td>0.606</td>\n",
       "      <td>0.366</td>\n",
       "      <td>0.460</td>\n",
       "      <td>0.350</td>\n",
       "      <td>0.345</td>\n",
       "      <td>0.518</td>\n",
       "    </tr>\n",
       "    <tr>\n",
       "      <th>MSE</th>\n",
       "      <td>1.584</td>\n",
       "      <td>0.826</td>\n",
       "      <td>0.822</td>\n",
       "      <td>1.605</td>\n",
       "      <td>0.336</td>\n",
       "      <td>0.528</td>\n",
       "      <td>0.822</td>\n",
       "      <td>0.653</td>\n",
       "      <td>0.271</td>\n",
       "      <td>0.397</td>\n",
       "      <td>0.247</td>\n",
       "      <td>0.229</td>\n",
       "      <td>0.477</td>\n",
       "    </tr>\n",
       "    <tr>\n",
       "      <th>RMSE</th>\n",
       "      <td>1.258</td>\n",
       "      <td>0.909</td>\n",
       "      <td>0.907</td>\n",
       "      <td>1.267</td>\n",
       "      <td>0.579</td>\n",
       "      <td>0.727</td>\n",
       "      <td>0.907</td>\n",
       "      <td>0.808</td>\n",
       "      <td>0.521</td>\n",
       "      <td>0.630</td>\n",
       "      <td>0.497</td>\n",
       "      <td>0.479</td>\n",
       "      <td>0.690</td>\n",
       "    </tr>\n",
       "    <tr>\n",
       "      <th>R²</th>\n",
       "      <td>-0.000</td>\n",
       "      <td>0.478</td>\n",
       "      <td>0.481</td>\n",
       "      <td>-0.013</td>\n",
       "      <td>0.788</td>\n",
       "      <td>0.666</td>\n",
       "      <td>0.481</td>\n",
       "      <td>0.588</td>\n",
       "      <td>0.829</td>\n",
       "      <td>0.749</td>\n",
       "      <td>0.844</td>\n",
       "      <td>0.855</td>\n",
       "      <td>0.699</td>\n",
       "    </tr>\n",
       "  </tbody>\n",
       "</table>\n",
       "</div>"
      ],
      "text/plain": [
       "      Dummy Regressor  Linear Regression  Ridge  Lasso  DecisionTree    SVM  \\\n",
       "MAE             0.981              0.715  0.711  1.008         0.328  0.547   \n",
       "MSE             1.584              0.826  0.822  1.605         0.336  0.528   \n",
       "RMSE            1.258              0.909  0.907  1.267         0.579  0.727   \n",
       "R²             -0.000              0.478  0.481 -0.013         0.788  0.666   \n",
       "\n",
       "      Ridge Kernel  AdaBoost  Bagging  GradientBoosting  Random Forest  \\\n",
       "MAE          0.712     0.606    0.366             0.460          0.350   \n",
       "MSE          0.822     0.653    0.271             0.397          0.247   \n",
       "RMSE         0.907     0.808    0.521             0.630          0.497   \n",
       "R²           0.481     0.588    0.829             0.749          0.844   \n",
       "\n",
       "      XGBoost    MLP  \n",
       "MAE     0.345  0.518  \n",
       "MSE     0.229  0.477  \n",
       "RMSE    0.479  0.690  \n",
       "R²      0.855  0.699  "
      ]
     },
     "execution_count": 13,
     "metadata": {},
     "output_type": "execute_result"
    }
   ],
   "source": [
    "model = [dummy_reg, lin_reg, ridge, lasso, dt_reg, svm_reg, ridge_kernel, adaboost, bagging, gdboost, rdmforest, xgboost, mlp_reg]\n",
    "dict_model = {}\n",
    "\n",
    "for model in model:\n",
    "    model.fit(X_train, y_train)\n",
    "    y_pred = model.predict(X_test)\n",
    "    mae = mean_absolute_error(y_test, y_pred)\n",
    "    mse = mean_squared_error(y_test, y_pred)\n",
    "    rmse = np.sqrt(mse)\n",
    "    r_score = r2_score(y_test, y_pred, multioutput=\"variance_weighted\").round(3)\n",
    "    dict_model[model] = (mae.round(3), mse.round(3), rmse.round(3), r_score)\n",
    "\n",
    "eval_model = pd.DataFrame(dict_model, index=[\"MAE\", \"MSE\", \"RMSE\", \"R²\"])\n",
    "eval_model.columns = [\"Dummy Regressor\", \"Linear Regression\", \"Ridge\", \"Lasso\", \"DecisionTree\", \"SVM\", \"Ridge Kernel\",\n",
    "                      \"AdaBoost\", \"Bagging\", \"GradientBoosting\", \"Random Forest\", \"XGBoost\", \"MLP\"]\n",
    "\n",
    "eval_model"
   ]
  },
  {
   "cell_type": "markdown",
   "id": "331df289",
   "metadata": {},
   "source": [
    "La régression naïve apparaît bien comme l'un des modèles les moins performant. On remarque que les modèles linéaires (Régression linéaire, Régression Ridge/Lasso et SVM) ont un coefficient de détermination aux alentours de 50%. Cela montre que notre problème n'est pas un problème linéaire. On va donc devoir se tourner vers des méthodes linéaires. Le modèle de Random Forest et celui de XGBoost sont ceux qui performent le mieux. On va donc s'orienter sur un modèle de XGBoost. Ces hyperparamètres seront affinés pour obtenir la meilleure performance de notre modèle. \n",
    "\n",
    "\n",
    "**Choix du modèle :** XGBoost"
   ]
  },
  {
   "cell_type": "markdown",
   "id": "ee95c155",
   "metadata": {},
   "source": [
    "## 2.3) Choix des hyperparamètres <a class=\"anchor\" id=\"section_2_3\"></a>"
   ]
  },
  {
   "cell_type": "markdown",
   "id": "0c69e3bf",
   "metadata": {},
   "source": [
    "On va déjà définir quelques paramètres de notre algorithme de XGBoost. On va choisir de booster un modèle se basant sur des arbres de décision (gbtree), on va ensuite fixer sa racine aléatoire et on va fixer un nombre d'arbres dans notre algorithme. On choisit d'utiliser 400 arbres. "
   ]
  },
  {
   "cell_type": "code",
   "execution_count": 14,
   "id": "60e1ab4f",
   "metadata": {},
   "outputs": [],
   "source": [
    "xgboost_energy = xgb.XGBRegressor(objective=\"reg:squarederror\", booster=\"gbtree\", \n",
    "                               random_state=42, n_estimators=400, tree_method=\"hist\", n_jobs=-1)"
   ]
  },
  {
   "cell_type": "markdown",
   "id": "0f7ba0d9",
   "metadata": {},
   "source": [
    "Une fois le modèle choisi, on va pouvoir s'occuper de ces hyperparamètres. On va s'interesser à la profondeur des arbres, à son coût d'apprentissage, à son paramètre gamma et à la méthode utilisée pour le boostraping. "
   ]
  },
  {
   "cell_type": "code",
   "execution_count": 15,
   "id": "cec48c1d",
   "metadata": {},
   "outputs": [
    {
     "data": {
      "text/html": [
       "<style>#sk-54018a32-d806-4232-9564-6330db72e495 {color: black;background-color: white;}#sk-54018a32-d806-4232-9564-6330db72e495 pre{padding: 0;}#sk-54018a32-d806-4232-9564-6330db72e495 div.sk-toggleable {background-color: white;}#sk-54018a32-d806-4232-9564-6330db72e495 label.sk-toggleable__label {cursor: pointer;display: block;width: 100%;margin-bottom: 0;padding: 0.2em 0.3em;box-sizing: border-box;text-align: center;}#sk-54018a32-d806-4232-9564-6330db72e495 div.sk-toggleable__content {max-height: 0;max-width: 0;overflow: hidden;text-align: left;background-color: #f0f8ff;}#sk-54018a32-d806-4232-9564-6330db72e495 div.sk-toggleable__content pre {margin: 0.2em;color: black;border-radius: 0.25em;background-color: #f0f8ff;}#sk-54018a32-d806-4232-9564-6330db72e495 input.sk-toggleable__control:checked~div.sk-toggleable__content {max-height: 200px;max-width: 100%;overflow: auto;}#sk-54018a32-d806-4232-9564-6330db72e495 div.sk-estimator input.sk-toggleable__control:checked~label.sk-toggleable__label {background-color: #d4ebff;}#sk-54018a32-d806-4232-9564-6330db72e495 div.sk-label input.sk-toggleable__control:checked~label.sk-toggleable__label {background-color: #d4ebff;}#sk-54018a32-d806-4232-9564-6330db72e495 input.sk-hidden--visually {border: 0;clip: rect(1px 1px 1px 1px);clip: rect(1px, 1px, 1px, 1px);height: 1px;margin: -1px;overflow: hidden;padding: 0;position: absolute;width: 1px;}#sk-54018a32-d806-4232-9564-6330db72e495 div.sk-estimator {font-family: monospace;background-color: #f0f8ff;margin: 0.25em 0.25em;border: 1px dotted black;border-radius: 0.25em;box-sizing: border-box;}#sk-54018a32-d806-4232-9564-6330db72e495 div.sk-estimator:hover {background-color: #d4ebff;}#sk-54018a32-d806-4232-9564-6330db72e495 div.sk-parallel-item::after {content: \"\";width: 100%;border-bottom: 1px solid gray;flex-grow: 1;}#sk-54018a32-d806-4232-9564-6330db72e495 div.sk-label:hover label.sk-toggleable__label {background-color: #d4ebff;}#sk-54018a32-d806-4232-9564-6330db72e495 div.sk-serial::before {content: \"\";position: absolute;border-left: 1px solid gray;box-sizing: border-box;top: 2em;bottom: 0;left: 50%;}#sk-54018a32-d806-4232-9564-6330db72e495 div.sk-serial {display: flex;flex-direction: column;align-items: center;background-color: white;}#sk-54018a32-d806-4232-9564-6330db72e495 div.sk-item {z-index: 1;}#sk-54018a32-d806-4232-9564-6330db72e495 div.sk-parallel {display: flex;align-items: stretch;justify-content: center;background-color: white;}#sk-54018a32-d806-4232-9564-6330db72e495 div.sk-parallel-item {display: flex;flex-direction: column;position: relative;background-color: white;}#sk-54018a32-d806-4232-9564-6330db72e495 div.sk-parallel-item:first-child::after {align-self: flex-end;width: 50%;}#sk-54018a32-d806-4232-9564-6330db72e495 div.sk-parallel-item:last-child::after {align-self: flex-start;width: 50%;}#sk-54018a32-d806-4232-9564-6330db72e495 div.sk-parallel-item:only-child::after {width: 0;}#sk-54018a32-d806-4232-9564-6330db72e495 div.sk-dashed-wrapped {border: 1px dashed gray;margin: 0.2em;box-sizing: border-box;padding-bottom: 0.1em;background-color: white;position: relative;}#sk-54018a32-d806-4232-9564-6330db72e495 div.sk-label label {font-family: monospace;font-weight: bold;background-color: white;display: inline-block;line-height: 1.2em;}#sk-54018a32-d806-4232-9564-6330db72e495 div.sk-label-container {position: relative;z-index: 2;text-align: center;}#sk-54018a32-d806-4232-9564-6330db72e495 div.sk-container {display: inline-block;position: relative;}</style><div id=\"sk-54018a32-d806-4232-9564-6330db72e495\" class\"sk-top-container\"><div class=\"sk-container\"><div class=\"sk-item sk-dashed-wrapped\"><div class=\"sk-label-container\"><div class=\"sk-label sk-toggleable\"><input class=\"sk-toggleable__control sk-hidden--visually\" id=\"65528890-69a7-4afb-9e0b-e8ae7e18d9d8\" type=\"checkbox\" ><label class=\"sk-toggleable__label\" for=\"65528890-69a7-4afb-9e0b-e8ae7e18d9d8\">GridSearchCV</label><div class=\"sk-toggleable__content\"><pre>GridSearchCV(cv=5,\n",
       "             estimator=XGBRegressor(base_score=None, booster='gbtree',\n",
       "                                    colsample_bylevel=None,\n",
       "                                    colsample_bynode=None,\n",
       "                                    colsample_bytree=None, gamma=None,\n",
       "                                    gpu_id=None, importance_type='gain',\n",
       "                                    interaction_constraints=None,\n",
       "                                    learning_rate=None, max_delta_step=None,\n",
       "                                    max_depth=None, min_child_weight=None,\n",
       "                                    missing=nan, monotone_constraints=None,\n",
       "                                    n_estimators=400, n_j...\n",
       "                                    num_parallel_tree=None, random_state=42,\n",
       "                                    reg_alpha=None, reg_lambda=None,\n",
       "                                    scale_pos_weight=None, subsample=None,\n",
       "                                    tree_method='hist',\n",
       "                                    validate_parameters=None, verbosity=None),\n",
       "             param_grid=[{'gamma': [3, 4, 5],\n",
       "                          'learning_rate': [0.01, 0.05, 0.1, 0.15, 0.2, 0.25,\n",
       "                                            0.3],\n",
       "                          'max_depth': [7, 8, 9, 10, 11, 12],\n",
       "                          'min_child_weight': [2, 3, 4, 5],\n",
       "                          'sampling_method': ['uniform', 'gradient_based']}],\n",
       "             scoring='neg_mean_squared_error')</pre></div></div></div><div class=\"sk-parallel\"><div class=\"sk-parallel-item\"><div class=\"sk-item\"><div class=\"sk-serial\"><div class=\"sk-item\"><div class=\"sk-estimator sk-toggleable\"><input class=\"sk-toggleable__control sk-hidden--visually\" id=\"51c11ae1-a50a-44dc-8a6b-37eaa3f09dab\" type=\"checkbox\" ><label class=\"sk-toggleable__label\" for=\"51c11ae1-a50a-44dc-8a6b-37eaa3f09dab\">XGBRegressor</label><div class=\"sk-toggleable__content\"><pre>XGBRegressor(base_score=None, booster='gbtree', colsample_bylevel=None,\n",
       "             colsample_bynode=None, colsample_bytree=None, gamma=None,\n",
       "             gpu_id=None, importance_type='gain', interaction_constraints=None,\n",
       "             learning_rate=None, max_delta_step=None, max_depth=None,\n",
       "             min_child_weight=None, missing=nan, monotone_constraints=None,\n",
       "             n_estimators=400, n_jobs=-1, num_parallel_tree=None,\n",
       "             random_state=42, reg_alpha=None, reg_lambda=None,\n",
       "             scale_pos_weight=None, subsample=None, tree_method='hist',\n",
       "             validate_parameters=None, verbosity=None)</pre></div></div></div></div></div></div></div></div></div></div>"
      ],
      "text/plain": [
       "GridSearchCV(cv=5,\n",
       "             estimator=XGBRegressor(base_score=None, booster='gbtree',\n",
       "                                    colsample_bylevel=None,\n",
       "                                    colsample_bynode=None,\n",
       "                                    colsample_bytree=None, gamma=None,\n",
       "                                    gpu_id=None, importance_type='gain',\n",
       "                                    interaction_constraints=None,\n",
       "                                    learning_rate=None, max_delta_step=None,\n",
       "                                    max_depth=None, min_child_weight=None,\n",
       "                                    missing=nan, monotone_constraints=None,\n",
       "                                    n_estimators=400, n_j...\n",
       "                                    num_parallel_tree=None, random_state=42,\n",
       "                                    reg_alpha=None, reg_lambda=None,\n",
       "                                    scale_pos_weight=None, subsample=None,\n",
       "                                    tree_method='hist',\n",
       "                                    validate_parameters=None, verbosity=None),\n",
       "             param_grid=[{'gamma': [3, 4, 5],\n",
       "                          'learning_rate': [0.01, 0.05, 0.1, 0.15, 0.2, 0.25,\n",
       "                                            0.3],\n",
       "                          'max_depth': [7, 8, 9, 10, 11, 12],\n",
       "                          'min_child_weight': [2, 3, 4, 5],\n",
       "                          'sampling_method': ['uniform', 'gradient_based']}],\n",
       "             scoring='neg_mean_squared_error')"
      ]
     },
     "execution_count": 15,
     "metadata": {},
     "output_type": "execute_result"
    }
   ],
   "source": [
    "from sklearn.model_selection import GridSearchCV\n",
    "\n",
    "params = [{\"max_depth\" : [7, 8, 9, 10, 11, 12],\n",
    "           \"learning_rate\" : [0.01, 0.05, 0.1, 0.15, 0.2, 0.25, 0.3],\n",
    "           \"gamma\" : [3, 4, 5],\n",
    "           \"min_child_weight\" : [2, 3, 4, 5], \n",
    "           \"sampling_method\" : [\"uniform\", \"gradient_based\"]\n",
    "}]\n",
    "\n",
    "grid_search = GridSearchCV(xgboost_energy, params, cv=5,\n",
    "                           scoring='neg_mean_squared_error')\n",
    "grid_search.fit(X_train, y_train)"
   ]
  },
  {
   "cell_type": "code",
   "execution_count": 16,
   "id": "508f8d9c",
   "metadata": {},
   "outputs": [
    {
     "data": {
      "text/plain": [
       "{'gamma': 3,\n",
       " 'learning_rate': 0.25,\n",
       " 'max_depth': 12,\n",
       " 'min_child_weight': 2,\n",
       " 'sampling_method': 'uniform'}"
      ]
     },
     "execution_count": 16,
     "metadata": {},
     "output_type": "execute_result"
    }
   ],
   "source": [
    "grid_search.best_params_"
   ]
  },
  {
   "cell_type": "code",
   "execution_count": 17,
   "id": "203e075f",
   "metadata": {},
   "outputs": [
    {
     "data": {
      "text/html": [
       "<style>#sk-15b0ec7f-1662-4662-b445-ceaba1cf2946 {color: black;background-color: white;}#sk-15b0ec7f-1662-4662-b445-ceaba1cf2946 pre{padding: 0;}#sk-15b0ec7f-1662-4662-b445-ceaba1cf2946 div.sk-toggleable {background-color: white;}#sk-15b0ec7f-1662-4662-b445-ceaba1cf2946 label.sk-toggleable__label {cursor: pointer;display: block;width: 100%;margin-bottom: 0;padding: 0.2em 0.3em;box-sizing: border-box;text-align: center;}#sk-15b0ec7f-1662-4662-b445-ceaba1cf2946 div.sk-toggleable__content {max-height: 0;max-width: 0;overflow: hidden;text-align: left;background-color: #f0f8ff;}#sk-15b0ec7f-1662-4662-b445-ceaba1cf2946 div.sk-toggleable__content pre {margin: 0.2em;color: black;border-radius: 0.25em;background-color: #f0f8ff;}#sk-15b0ec7f-1662-4662-b445-ceaba1cf2946 input.sk-toggleable__control:checked~div.sk-toggleable__content {max-height: 200px;max-width: 100%;overflow: auto;}#sk-15b0ec7f-1662-4662-b445-ceaba1cf2946 div.sk-estimator input.sk-toggleable__control:checked~label.sk-toggleable__label {background-color: #d4ebff;}#sk-15b0ec7f-1662-4662-b445-ceaba1cf2946 div.sk-label input.sk-toggleable__control:checked~label.sk-toggleable__label {background-color: #d4ebff;}#sk-15b0ec7f-1662-4662-b445-ceaba1cf2946 input.sk-hidden--visually {border: 0;clip: rect(1px 1px 1px 1px);clip: rect(1px, 1px, 1px, 1px);height: 1px;margin: -1px;overflow: hidden;padding: 0;position: absolute;width: 1px;}#sk-15b0ec7f-1662-4662-b445-ceaba1cf2946 div.sk-estimator {font-family: monospace;background-color: #f0f8ff;margin: 0.25em 0.25em;border: 1px dotted black;border-radius: 0.25em;box-sizing: border-box;}#sk-15b0ec7f-1662-4662-b445-ceaba1cf2946 div.sk-estimator:hover {background-color: #d4ebff;}#sk-15b0ec7f-1662-4662-b445-ceaba1cf2946 div.sk-parallel-item::after {content: \"\";width: 100%;border-bottom: 1px solid gray;flex-grow: 1;}#sk-15b0ec7f-1662-4662-b445-ceaba1cf2946 div.sk-label:hover label.sk-toggleable__label {background-color: #d4ebff;}#sk-15b0ec7f-1662-4662-b445-ceaba1cf2946 div.sk-serial::before {content: \"\";position: absolute;border-left: 1px solid gray;box-sizing: border-box;top: 2em;bottom: 0;left: 50%;}#sk-15b0ec7f-1662-4662-b445-ceaba1cf2946 div.sk-serial {display: flex;flex-direction: column;align-items: center;background-color: white;}#sk-15b0ec7f-1662-4662-b445-ceaba1cf2946 div.sk-item {z-index: 1;}#sk-15b0ec7f-1662-4662-b445-ceaba1cf2946 div.sk-parallel {display: flex;align-items: stretch;justify-content: center;background-color: white;}#sk-15b0ec7f-1662-4662-b445-ceaba1cf2946 div.sk-parallel-item {display: flex;flex-direction: column;position: relative;background-color: white;}#sk-15b0ec7f-1662-4662-b445-ceaba1cf2946 div.sk-parallel-item:first-child::after {align-self: flex-end;width: 50%;}#sk-15b0ec7f-1662-4662-b445-ceaba1cf2946 div.sk-parallel-item:last-child::after {align-self: flex-start;width: 50%;}#sk-15b0ec7f-1662-4662-b445-ceaba1cf2946 div.sk-parallel-item:only-child::after {width: 0;}#sk-15b0ec7f-1662-4662-b445-ceaba1cf2946 div.sk-dashed-wrapped {border: 1px dashed gray;margin: 0.2em;box-sizing: border-box;padding-bottom: 0.1em;background-color: white;position: relative;}#sk-15b0ec7f-1662-4662-b445-ceaba1cf2946 div.sk-label label {font-family: monospace;font-weight: bold;background-color: white;display: inline-block;line-height: 1.2em;}#sk-15b0ec7f-1662-4662-b445-ceaba1cf2946 div.sk-label-container {position: relative;z-index: 2;text-align: center;}#sk-15b0ec7f-1662-4662-b445-ceaba1cf2946 div.sk-container {display: inline-block;position: relative;}</style><div id=\"sk-15b0ec7f-1662-4662-b445-ceaba1cf2946\" class\"sk-top-container\"><div class=\"sk-container\"><div class=\"sk-item\"><div class=\"sk-estimator sk-toggleable\"><input class=\"sk-toggleable__control sk-hidden--visually\" id=\"260f49b0-d620-4e9f-8da4-8b9f1e18acb8\" type=\"checkbox\" checked><label class=\"sk-toggleable__label\" for=\"260f49b0-d620-4e9f-8da4-8b9f1e18acb8\">XGBRegressor</label><div class=\"sk-toggleable__content\"><pre>XGBRegressor(base_score=0.5, booster='gbtree', colsample_bylevel=1,\n",
       "             colsample_bynode=1, colsample_bytree=1, gamma=3, gpu_id=-1,\n",
       "             importance_type='gain', interaction_constraints='',\n",
       "             learning_rate=0.25, max_delta_step=0, max_depth=12,\n",
       "             min_child_weight=2, missing=nan, monotone_constraints='()',\n",
       "             n_estimators=400, n_jobs=-1, num_parallel_tree=1, random_state=42,\n",
       "             reg_alpha=0, reg_lambda=1, sampling_method='uniform',\n",
       "             scale_pos_weight=1, subsample=1, tree_method='hist',\n",
       "             validate_parameters=1, verbosity=None)</pre></div></div></div></div></div>"
      ],
      "text/plain": [
       "XGBRegressor(base_score=0.5, booster='gbtree', colsample_bylevel=1,\n",
       "             colsample_bynode=1, colsample_bytree=1, gamma=3, gpu_id=-1,\n",
       "             importance_type='gain', interaction_constraints='',\n",
       "             learning_rate=0.25, max_delta_step=0, max_depth=12,\n",
       "             min_child_weight=2, missing=nan, monotone_constraints='()',\n",
       "             n_estimators=400, n_jobs=-1, num_parallel_tree=1, random_state=42,\n",
       "             reg_alpha=0, reg_lambda=1, sampling_method='uniform',\n",
       "             scale_pos_weight=1, subsample=1, tree_method='hist',\n",
       "             validate_parameters=1, verbosity=None)"
      ]
     },
     "execution_count": 17,
     "metadata": {},
     "output_type": "execute_result"
    }
   ],
   "source": [
    "grid_search.best_estimator_"
   ]
  },
  {
   "cell_type": "markdown",
   "id": "f4b4c81c",
   "metadata": {},
   "source": [
    "Notre modèle est enregistré dans la grille de recherche. On va ensuite l'affecter à une variable pour tester ces performances sur un jeu de test. "
   ]
  },
  {
   "cell_type": "markdown",
   "id": "5c2a2aa5",
   "metadata": {},
   "source": [
    "## 2.4) Analyse des erreurs du modèle <a class=\"anchor\" id=\"section_2_4\"></a>"
   ]
  },
  {
   "cell_type": "markdown",
   "id": "4a670805",
   "metadata": {},
   "source": [
    "Une fois le modèle sélectionné et les hyperparamètres choisis, on va pouvoir évaluer les performances du modèle sur un jeu qu'il n'a pas encore vu : le jeu de test. "
   ]
  },
  {
   "cell_type": "code",
   "execution_count": 18,
   "id": "089e5740",
   "metadata": {},
   "outputs": [],
   "source": [
    "final_model_energy = grid_search.best_estimator_"
   ]
  },
  {
   "cell_type": "code",
   "execution_count": 19,
   "id": "e15ef406",
   "metadata": {},
   "outputs": [],
   "source": [
    "final_predictions_energy = final_model_energy.predict(X_test)"
   ]
  },
  {
   "cell_type": "code",
   "execution_count": 20,
   "id": "31346b6e",
   "metadata": {},
   "outputs": [
    {
     "name": "stdout",
     "output_type": "stream",
     "text": [
      "MAE:  0.45395\n",
      "MSE:  0.38069\n",
      "RMSE:  0.6170013002980482\n",
      "MAPE:  0.03118\n",
      "R²:  0.75959\n"
     ]
    }
   ],
   "source": [
    "regression_metrics(y_test, final_predictions_energy)"
   ]
  },
  {
   "cell_type": "code",
   "execution_count": 23,
   "id": "286f2c9e",
   "metadata": {},
   "outputs": [
    {
     "data": {
      "image/png": "[encoded data removed]",
      "text/plain": [
       "<Figure size 576x396 with 2 Axes>"
      ]
     },
     "metadata": {},
     "output_type": "display_data"
    }
   ],
   "source": [
    "visualizer = ResidualsPlot(final_model_energy)\n",
    "visualizer.fit(np.array(X_train), np.array(y_train).reshape(2596,))\n",
    "visualizer.score(np.array(X_test), np.array(y_test).reshape(649,))\n",
    "visualizer.show();"
   ]
  },
  {
   "cell_type": "markdown",
   "id": "5f56e87e",
   "metadata": {},
   "source": [
    "Les distributions des résidus du jeu d'entraînement et du jeu de test semblent suivre une loi normale. La distribution des résidus du jeu de test est plus aplatie. Cela peut s'expliquer par le nombre de données moins importants (seulement 20% de l'échantillon). "
   ]
  },
  {
   "cell_type": "code",
   "execution_count": 24,
   "id": "c71ede24",
   "metadata": {},
   "outputs": [
    {
     "data": {
      "image/png": "[encoded data removed]",
      "text/plain": [
       "<Figure size 576x396 with 1 Axes>"
      ]
     },
     "metadata": {},
     "output_type": "display_data"
    }
   ],
   "source": [
    "visualizer = prediction_error(final_model_energy, np.array(X_train), np.array(y_train), np.array(X_test), np.array(y_test));"
   ]
  },
  {
   "cell_type": "markdown",
   "id": "dc4a8f5d",
   "metadata": {},
   "source": [
    "## 2.5) Pipeline du modèle pour l'estimation de la consommation d'énergie <a class=\"anchor\" id=\"section_2_5\"></a>"
   ]
  },
  {
   "cell_type": "code",
   "execution_count": 25,
   "id": "9990b41b",
   "metadata": {},
   "outputs": [],
   "source": [
    "from sklearn.pipeline import Pipeline\n",
    "\n",
    "full_pipeline_energy = Pipeline([\n",
    "    (\"preprocessing\", preprocessor),\n",
    "    (\"model\", final_model_energy)\n",
    "])"
   ]
  },
  {
   "cell_type": "markdown",
   "id": "931e1978",
   "metadata": {},
   "source": [
    "# 3) Prédiction des émissions de CO2 <a class=\"anchor\" id=\"chapter3\"></a>"
   ]
  },
  {
   "cell_type": "markdown",
   "id": "2458b3fe",
   "metadata": {},
   "source": [
    "Pour la prédiction des émissions de CO2, la méthode est la même que pour la prédiction de la consommation d'énergie."
   ]
  },
  {
   "cell_type": "markdown",
   "id": "94ed3978",
   "metadata": {},
   "source": [
    "## 3.1) Préparation des variables <a class=\"anchor\" id=\"section_3_1\"></a>"
   ]
  },
  {
   "cell_type": "code",
   "execution_count": 26,
   "id": "4d21e1b5",
   "metadata": {},
   "outputs": [],
   "source": [
    "# Création d'un jeu d'entrainement (train set) et d'un jeu de test (test set)\n",
    "train_set, test_set = train_test_split(data, test_size=0.2, random_state=42, stratify=data[\"PrimaryPropertyType\"])\n",
    "\n",
    "y_train = train_set[[\"TotalGHGEmissions_log\"]]\n",
    "y_test = test_set[[\"TotalGHGEmissions_log\"]]\n",
    "X_train = train_set.drop([\"SiteEnergyUse(kBtu)\", \"SiteEnergyUse(kBtu)_log\", \"TotalGHGEmissions\", \"TotalGHGEmissions_log\", \"ENERGYSTARScore\", \"Age\", \"YearBuilt\", \"NumberofBuildings\", \"NumberofFloors\", \"Neighborhood\", \"Latitude\", \"Longitude\"], axis=1)\n",
    "X_test = test_set.drop([\"SiteEnergyUse(kBtu)\", \"SiteEnergyUse(kBtu)_log\", \"TotalGHGEmissions\", \"TotalGHGEmissions_log\", \"ENERGYSTARScore\", \"Age\", \"YearBuilt\", \"NumberofBuildings\", \"NumberofFloors\",\"Neighborhood\", \"Latitude\", \"Longitude\"], axis=1)"
   ]
  },
  {
   "cell_type": "code",
   "execution_count": 27,
   "id": "cc8e42de",
   "metadata": {},
   "outputs": [],
   "source": [
    "X_train = preprocessor.fit_transform(X_train)\n",
    "X_test = preprocessor.transform(X_test)"
   ]
  },
  {
   "cell_type": "markdown",
   "id": "634a4e69",
   "metadata": {},
   "source": [
    "## 3.2) Création d'un modèle de base <a class=\"anchor\" id=\"section_3_2\"></a>"
   ]
  },
  {
   "cell_type": "code",
   "execution_count": 28,
   "id": "4c7cfb59",
   "metadata": {},
   "outputs": [
    {
     "data": {
      "text/html": [
       "<style>#sk-7df48a73-79c7-4bb5-96a8-f881ed6abc28 {color: black;background-color: white;}#sk-7df48a73-79c7-4bb5-96a8-f881ed6abc28 pre{padding: 0;}#sk-7df48a73-79c7-4bb5-96a8-f881ed6abc28 div.sk-toggleable {background-color: white;}#sk-7df48a73-79c7-4bb5-96a8-f881ed6abc28 label.sk-toggleable__label {cursor: pointer;display: block;width: 100%;margin-bottom: 0;padding: 0.2em 0.3em;box-sizing: border-box;text-align: center;}#sk-7df48a73-79c7-4bb5-96a8-f881ed6abc28 div.sk-toggleable__content {max-height: 0;max-width: 0;overflow: hidden;text-align: left;background-color: #f0f8ff;}#sk-7df48a73-79c7-4bb5-96a8-f881ed6abc28 div.sk-toggleable__content pre {margin: 0.2em;color: black;border-radius: 0.25em;background-color: #f0f8ff;}#sk-7df48a73-79c7-4bb5-96a8-f881ed6abc28 input.sk-toggleable__control:checked~div.sk-toggleable__content {max-height: 200px;max-width: 100%;overflow: auto;}#sk-7df48a73-79c7-4bb5-96a8-f881ed6abc28 div.sk-estimator input.sk-toggleable__control:checked~label.sk-toggleable__label {background-color: #d4ebff;}#sk-7df48a73-79c7-4bb5-96a8-f881ed6abc28 div.sk-label input.sk-toggleable__control:checked~label.sk-toggleable__label {background-color: #d4ebff;}#sk-7df48a73-79c7-4bb5-96a8-f881ed6abc28 input.sk-hidden--visually {border: 0;clip: rect(1px 1px 1px 1px);clip: rect(1px, 1px, 1px, 1px);height: 1px;margin: -1px;overflow: hidden;padding: 0;position: absolute;width: 1px;}#sk-7df48a73-79c7-4bb5-96a8-f881ed6abc28 div.sk-estimator {font-family: monospace;background-color: #f0f8ff;margin: 0.25em 0.25em;border: 1px dotted black;border-radius: 0.25em;box-sizing: border-box;}#sk-7df48a73-79c7-4bb5-96a8-f881ed6abc28 div.sk-estimator:hover {background-color: #d4ebff;}#sk-7df48a73-79c7-4bb5-96a8-f881ed6abc28 div.sk-parallel-item::after {content: \"\";width: 100%;border-bottom: 1px solid gray;flex-grow: 1;}#sk-7df48a73-79c7-4bb5-96a8-f881ed6abc28 div.sk-label:hover label.sk-toggleable__label {background-color: #d4ebff;}#sk-7df48a73-79c7-4bb5-96a8-f881ed6abc28 div.sk-serial::before {content: \"\";position: absolute;border-left: 1px solid gray;box-sizing: border-box;top: 2em;bottom: 0;left: 50%;}#sk-7df48a73-79c7-4bb5-96a8-f881ed6abc28 div.sk-serial {display: flex;flex-direction: column;align-items: center;background-color: white;}#sk-7df48a73-79c7-4bb5-96a8-f881ed6abc28 div.sk-item {z-index: 1;}#sk-7df48a73-79c7-4bb5-96a8-f881ed6abc28 div.sk-parallel {display: flex;align-items: stretch;justify-content: center;background-color: white;}#sk-7df48a73-79c7-4bb5-96a8-f881ed6abc28 div.sk-parallel-item {display: flex;flex-direction: column;position: relative;background-color: white;}#sk-7df48a73-79c7-4bb5-96a8-f881ed6abc28 div.sk-parallel-item:first-child::after {align-self: flex-end;width: 50%;}#sk-7df48a73-79c7-4bb5-96a8-f881ed6abc28 div.sk-parallel-item:last-child::after {align-self: flex-start;width: 50%;}#sk-7df48a73-79c7-4bb5-96a8-f881ed6abc28 div.sk-parallel-item:only-child::after {width: 0;}#sk-7df48a73-79c7-4bb5-96a8-f881ed6abc28 div.sk-dashed-wrapped {border: 1px dashed gray;margin: 0.2em;box-sizing: border-box;padding-bottom: 0.1em;background-color: white;position: relative;}#sk-7df48a73-79c7-4bb5-96a8-f881ed6abc28 div.sk-label label {font-family: monospace;font-weight: bold;background-color: white;display: inline-block;line-height: 1.2em;}#sk-7df48a73-79c7-4bb5-96a8-f881ed6abc28 div.sk-label-container {position: relative;z-index: 2;text-align: center;}#sk-7df48a73-79c7-4bb5-96a8-f881ed6abc28 div.sk-container {display: inline-block;position: relative;}</style><div id=\"sk-7df48a73-79c7-4bb5-96a8-f881ed6abc28\" class\"sk-top-container\"><div class=\"sk-container\"><div class=\"sk-item\"><div class=\"sk-estimator sk-toggleable\"><input class=\"sk-toggleable__control sk-hidden--visually\" id=\"5a2f98e7-0789-43fc-a8d7-aec856d72b05\" type=\"checkbox\" checked><label class=\"sk-toggleable__label\" for=\"5a2f98e7-0789-43fc-a8d7-aec856d72b05\">DummyRegressor</label><div class=\"sk-toggleable__content\"><pre>DummyRegressor(strategy='median')</pre></div></div></div></div></div>"
      ],
      "text/plain": [
       "DummyRegressor(strategy='median')"
      ]
     },
     "execution_count": 28,
     "metadata": {},
     "output_type": "execute_result"
    }
   ],
   "source": [
    "dummy_reg = DummyRegressor(strategy=\"median\")\n",
    "dummy_reg.fit(X_train, y_train)"
   ]
  },
  {
   "cell_type": "code",
   "execution_count": 29,
   "id": "fa7017aa",
   "metadata": {},
   "outputs": [],
   "source": [
    "y_pred = dummy_reg.predict(X_test)"
   ]
  },
  {
   "cell_type": "code",
   "execution_count": 30,
   "id": "0296e9eb",
   "metadata": {},
   "outputs": [
    {
     "name": "stdout",
     "output_type": "stream",
     "text": [
      "MAE:  1.1754\n",
      "MSE:  2.26512\n",
      "RMSE:  1.5050313263804256\n",
      "MAPE:  0.56556\n",
      "R²:  -0.00404\n"
     ]
    }
   ],
   "source": [
    "regression_metrics(y_test, y_pred)"
   ]
  },
  {
   "cell_type": "markdown",
   "id": "31b57e62",
   "metadata": {},
   "source": [
    "## 3.3) Choix du modèle <a class=\"anchor\" id=\"section_3_3\"></a>"
   ]
  },
  {
   "cell_type": "code",
   "execution_count": 31,
   "id": "82a993b4",
   "metadata": {},
   "outputs": [],
   "source": [
    "dummy_reg = DummyRegressor(strategy=\"median\")\n",
    "lin_reg = LinearRegression()\n",
    "ridge = Ridge(random_state=42)\n",
    "lasso = Lasso(random_state=42)\n",
    "dt_reg =  DecisionTreeRegressor(random_state=42)\n",
    "svm_reg = SVR()\n",
    "ridge_kernel = KernelRidge()\n",
    "adaboost = AdaBoostRegressor(random_state=42)\n",
    "bagging = BaggingRegressor(random_state=42)\n",
    "gdboost = GradientBoostingRegressor(random_state=42)\n",
    "rdmforest = RandomForestRegressor(random_state=42)\n",
    "xgboost = xgb.XGBRegressor(random_state=42)\n",
    "mlp = MLPRegressor(random_state=42)"
   ]
  },
  {
   "cell_type": "code",
   "execution_count": 32,
   "id": "e2ce15ea",
   "metadata": {},
   "outputs": [
    {
     "data": {
      "text/html": [
       "<div>\n",
       "<style scoped>\n",
       "    .dataframe tbody tr th:only-of-type {\n",
       "        vertical-align: middle;\n",
       "    }\n",
       "\n",
       "    .dataframe tbody tr th {\n",
       "        vertical-align: top;\n",
       "    }\n",
       "\n",
       "    .dataframe thead th {\n",
       "        text-align: right;\n",
       "    }\n",
       "</style>\n",
       "<table border=\"1\" class=\"dataframe\">\n",
       "  <thead>\n",
       "    <tr style=\"text-align: right;\">\n",
       "      <th></th>\n",
       "      <th>Dummy Regressor</th>\n",
       "      <th>Linear Regression</th>\n",
       "      <th>Ridge</th>\n",
       "      <th>Lasso</th>\n",
       "      <th>DecisionTree</th>\n",
       "      <th>SVM</th>\n",
       "      <th>Ridge Kernel</th>\n",
       "      <th>AdaBoost</th>\n",
       "      <th>Bagging</th>\n",
       "      <th>GradientBoosting</th>\n",
       "      <th>Random Forest</th>\n",
       "      <th>XGBoost</th>\n",
       "      <th>MLP</th>\n",
       "    </tr>\n",
       "  </thead>\n",
       "  <tbody>\n",
       "    <tr>\n",
       "      <th>MAE</th>\n",
       "      <td>1.175</td>\n",
       "      <td>0.936</td>\n",
       "      <td>0.934</td>\n",
       "      <td>1.180</td>\n",
       "      <td>0.543</td>\n",
       "      <td>0.803</td>\n",
       "      <td>0.934</td>\n",
       "      <td>0.909</td>\n",
       "      <td>0.611</td>\n",
       "      <td>0.758</td>\n",
       "      <td>0.569</td>\n",
       "      <td>0.582</td>\n",
       "      <td>0.781</td>\n",
       "    </tr>\n",
       "    <tr>\n",
       "      <th>MSE</th>\n",
       "      <td>2.265</td>\n",
       "      <td>1.444</td>\n",
       "      <td>1.435</td>\n",
       "      <td>2.276</td>\n",
       "      <td>0.868</td>\n",
       "      <td>1.146</td>\n",
       "      <td>1.434</td>\n",
       "      <td>1.289</td>\n",
       "      <td>0.704</td>\n",
       "      <td>0.945</td>\n",
       "      <td>0.615</td>\n",
       "      <td>0.617</td>\n",
       "      <td>1.041</td>\n",
       "    </tr>\n",
       "    <tr>\n",
       "      <th>RMSE</th>\n",
       "      <td>1.505</td>\n",
       "      <td>1.202</td>\n",
       "      <td>1.198</td>\n",
       "      <td>1.509</td>\n",
       "      <td>0.931</td>\n",
       "      <td>1.070</td>\n",
       "      <td>1.198</td>\n",
       "      <td>1.135</td>\n",
       "      <td>0.839</td>\n",
       "      <td>0.972</td>\n",
       "      <td>0.784</td>\n",
       "      <td>0.786</td>\n",
       "      <td>1.020</td>\n",
       "    </tr>\n",
       "    <tr>\n",
       "      <th>R²</th>\n",
       "      <td>-0.004</td>\n",
       "      <td>0.360</td>\n",
       "      <td>0.364</td>\n",
       "      <td>-0.009</td>\n",
       "      <td>0.615</td>\n",
       "      <td>0.492</td>\n",
       "      <td>0.364</td>\n",
       "      <td>0.429</td>\n",
       "      <td>0.688</td>\n",
       "      <td>0.581</td>\n",
       "      <td>0.728</td>\n",
       "      <td>0.726</td>\n",
       "      <td>0.539</td>\n",
       "    </tr>\n",
       "  </tbody>\n",
       "</table>\n",
       "</div>"
      ],
      "text/plain": [
       "      Dummy Regressor  Linear Regression  Ridge  Lasso  DecisionTree    SVM  \\\n",
       "MAE             1.175              0.936  0.934  1.180         0.543  0.803   \n",
       "MSE             2.265              1.444  1.435  2.276         0.868  1.146   \n",
       "RMSE            1.505              1.202  1.198  1.509         0.931  1.070   \n",
       "R²             -0.004              0.360  0.364 -0.009         0.615  0.492   \n",
       "\n",
       "      Ridge Kernel  AdaBoost  Bagging  GradientBoosting  Random Forest  \\\n",
       "MAE          0.934     0.909    0.611             0.758          0.569   \n",
       "MSE          1.434     1.289    0.704             0.945          0.615   \n",
       "RMSE         1.198     1.135    0.839             0.972          0.784   \n",
       "R²           0.364     0.429    0.688             0.581          0.728   \n",
       "\n",
       "      XGBoost    MLP  \n",
       "MAE     0.582  0.781  \n",
       "MSE     0.617  1.041  \n",
       "RMSE    0.786  1.020  \n",
       "R²      0.726  0.539  "
      ]
     },
     "execution_count": 32,
     "metadata": {},
     "output_type": "execute_result"
    }
   ],
   "source": [
    "model = [dummy_reg, lin_reg, ridge, lasso, dt_reg, svm_reg, ridge_kernel, adaboost, bagging, gdboost, rdmforest, xgboost, mlp]\n",
    "dict_model = {}\n",
    "\n",
    "for model in model:\n",
    "    model.fit(X_train, y_train)\n",
    "    y_pred = model.predict(X_test)\n",
    "    mae = mean_absolute_error(y_test, y_pred)\n",
    "    mse = mean_squared_error(y_test, y_pred)\n",
    "    rmse = np.sqrt(mse)\n",
    "    r_score = r2_score(y_test, y_pred, multioutput=\"variance_weighted\").round(3)\n",
    "    dict_model[model] = (mae.round(3), mse.round(3), rmse.round(3), r_score)\n",
    "\n",
    "eval_model = pd.DataFrame(dict_model, index=[\"MAE\", \"MSE\", \"RMSE\", \"R²\"])\n",
    "eval_model.columns = [\"Dummy Regressor\", \"Linear Regression\", \"Ridge\", \"Lasso\", \"DecisionTree\", \"SVM\", \"Ridge Kernel\",\n",
    "                      \"AdaBoost\", \"Bagging\", \"GradientBoosting\", \"Random Forest\", \"XGBoost\", \"MLP\"]\n",
    "\n",
    "eval_model"
   ]
  },
  {
   "cell_type": "markdown",
   "id": "8cccc607",
   "metadata": {},
   "source": [
    "**Modèle choisi :** XGBoost"
   ]
  },
  {
   "cell_type": "markdown",
   "id": "d02385d2",
   "metadata": {},
   "source": [
    "## 3.4) Choix des hyperparamètres <a class=\"anchor\" id=\"section_3_4\"></a>"
   ]
  },
  {
   "cell_type": "code",
   "execution_count": 33,
   "id": "16015bea",
   "metadata": {},
   "outputs": [],
   "source": [
    "xgboost_co2 = xgb.XGBRegressor(objective=\"reg:squarederror\", booster=\"gbtree\", \n",
    "                               random_state=42, n_estimators=400, tree_method=\"hist\", n_jobs=-1)"
   ]
  },
  {
   "cell_type": "code",
   "execution_count": 34,
   "id": "1335dc70",
   "metadata": {},
   "outputs": [
    {
     "ename": "KeyboardInterrupt",
     "evalue": "",
     "output_type": "error",
     "traceback": [
      "\u001b[1;31m---------------------------------------------------------------------------\u001b[0m",
      "\u001b[1;31mKeyboardInterrupt\u001b[0m                         Traceback (most recent call last)",
      "\u001b[1;32m<ipython-input-34-0dc71475251c>\u001b[0m in \u001b[0;36m<module>\u001b[1;34m\u001b[0m\n\u001b[0;32m      8\u001b[0m grid_search = GridSearchCV(xgboost_co2, params, cv=5,\n\u001b[0;32m      9\u001b[0m                            scoring='neg_mean_squared_error')\n\u001b[1;32m---> 10\u001b[1;33m \u001b[0mgrid_search\u001b[0m\u001b[1;33m.\u001b[0m\u001b[0mfit\u001b[0m\u001b[1;33m(\u001b[0m\u001b[0mX_train\u001b[0m\u001b[1;33m,\u001b[0m \u001b[0my_train\u001b[0m\u001b[1;33m)\u001b[0m\u001b[1;33m\u001b[0m\u001b[1;33m\u001b[0m\u001b[0m\n\u001b[0m",
      "\u001b[1;32m~\\anaconda3\\lib\\site-packages\\sklearn\\utils\\validation.py\u001b[0m in \u001b[0;36minner_f\u001b[1;34m(*args, **kwargs)\u001b[0m\n\u001b[0;32m     61\u001b[0m             \u001b[0mextra_args\u001b[0m \u001b[1;33m=\u001b[0m \u001b[0mlen\u001b[0m\u001b[1;33m(\u001b[0m\u001b[0margs\u001b[0m\u001b[1;33m)\u001b[0m \u001b[1;33m-\u001b[0m \u001b[0mlen\u001b[0m\u001b[1;33m(\u001b[0m\u001b[0mall_args\u001b[0m\u001b[1;33m)\u001b[0m\u001b[1;33m\u001b[0m\u001b[1;33m\u001b[0m\u001b[0m\n\u001b[0;32m     62\u001b[0m             \u001b[1;32mif\u001b[0m \u001b[0mextra_args\u001b[0m \u001b[1;33m<=\u001b[0m \u001b[1;36m0\u001b[0m\u001b[1;33m:\u001b[0m\u001b[1;33m\u001b[0m\u001b[1;33m\u001b[0m\u001b[0m\n\u001b[1;32m---> 63\u001b[1;33m                 \u001b[1;32mreturn\u001b[0m \u001b[0mf\u001b[0m\u001b[1;33m(\u001b[0m\u001b[1;33m*\u001b[0m\u001b[0margs\u001b[0m\u001b[1;33m,\u001b[0m \u001b[1;33m**\u001b[0m\u001b[0mkwargs\u001b[0m\u001b[1;33m)\u001b[0m\u001b[1;33m\u001b[0m\u001b[1;33m\u001b[0m\u001b[0m\n\u001b[0m\u001b[0;32m     64\u001b[0m \u001b[1;33m\u001b[0m\u001b[0m\n\u001b[0;32m     65\u001b[0m             \u001b[1;31m# extra_args > 0\u001b[0m\u001b[1;33m\u001b[0m\u001b[1;33m\u001b[0m\u001b[1;33m\u001b[0m\u001b[0m\n",
      "\u001b[1;32m~\\anaconda3\\lib\\site-packages\\sklearn\\model_selection\\_search.py\u001b[0m in \u001b[0;36mfit\u001b[1;34m(self, X, y, groups, **fit_params)\u001b[0m\n\u001b[0;32m    839\u001b[0m                 \u001b[1;32mreturn\u001b[0m \u001b[0mresults\u001b[0m\u001b[1;33m\u001b[0m\u001b[1;33m\u001b[0m\u001b[0m\n\u001b[0;32m    840\u001b[0m \u001b[1;33m\u001b[0m\u001b[0m\n\u001b[1;32m--> 841\u001b[1;33m             \u001b[0mself\u001b[0m\u001b[1;33m.\u001b[0m\u001b[0m_run_search\u001b[0m\u001b[1;33m(\u001b[0m\u001b[0mevaluate_candidates\u001b[0m\u001b[1;33m)\u001b[0m\u001b[1;33m\u001b[0m\u001b[1;33m\u001b[0m\u001b[0m\n\u001b[0m\u001b[0;32m    842\u001b[0m \u001b[1;33m\u001b[0m\u001b[0m\n\u001b[0;32m    843\u001b[0m             \u001b[1;31m# multimetric is determined here because in the case of a callable\u001b[0m\u001b[1;33m\u001b[0m\u001b[1;33m\u001b[0m\u001b[1;33m\u001b[0m\u001b[0m\n",
      "\u001b[1;32m~\\anaconda3\\lib\\site-packages\\sklearn\\model_selection\\_search.py\u001b[0m in \u001b[0;36m_run_search\u001b[1;34m(self, evaluate_candidates)\u001b[0m\n\u001b[0;32m   1294\u001b[0m     \u001b[1;32mdef\u001b[0m \u001b[0m_run_search\u001b[0m\u001b[1;33m(\u001b[0m\u001b[0mself\u001b[0m\u001b[1;33m,\u001b[0m \u001b[0mevaluate_candidates\u001b[0m\u001b[1;33m)\u001b[0m\u001b[1;33m:\u001b[0m\u001b[1;33m\u001b[0m\u001b[1;33m\u001b[0m\u001b[0m\n\u001b[0;32m   1295\u001b[0m         \u001b[1;34m\"\"\"Search all candidates in param_grid\"\"\"\u001b[0m\u001b[1;33m\u001b[0m\u001b[1;33m\u001b[0m\u001b[0m\n\u001b[1;32m-> 1296\u001b[1;33m         \u001b[0mevaluate_candidates\u001b[0m\u001b[1;33m(\u001b[0m\u001b[0mParameterGrid\u001b[0m\u001b[1;33m(\u001b[0m\u001b[0mself\u001b[0m\u001b[1;33m.\u001b[0m\u001b[0mparam_grid\u001b[0m\u001b[1;33m)\u001b[0m\u001b[1;33m)\u001b[0m\u001b[1;33m\u001b[0m\u001b[1;33m\u001b[0m\u001b[0m\n\u001b[0m\u001b[0;32m   1297\u001b[0m \u001b[1;33m\u001b[0m\u001b[0m\n\u001b[0;32m   1298\u001b[0m \u001b[1;33m\u001b[0m\u001b[0m\n",
      "\u001b[1;32m~\\anaconda3\\lib\\site-packages\\sklearn\\model_selection\\_search.py\u001b[0m in \u001b[0;36mevaluate_candidates\u001b[1;34m(candidate_params, cv, more_results)\u001b[0m\n\u001b[0;32m    793\u001b[0m                               n_splits, n_candidates, n_candidates * n_splits))\n\u001b[0;32m    794\u001b[0m \u001b[1;33m\u001b[0m\u001b[0m\n\u001b[1;32m--> 795\u001b[1;33m                 out = parallel(delayed(_fit_and_score)(clone(base_estimator),\n\u001b[0m\u001b[0;32m    796\u001b[0m                                                        \u001b[0mX\u001b[0m\u001b[1;33m,\u001b[0m \u001b[0my\u001b[0m\u001b[1;33m,\u001b[0m\u001b[1;33m\u001b[0m\u001b[1;33m\u001b[0m\u001b[0m\n\u001b[0;32m    797\u001b[0m                                                        \u001b[0mtrain\u001b[0m\u001b[1;33m=\u001b[0m\u001b[0mtrain\u001b[0m\u001b[1;33m,\u001b[0m \u001b[0mtest\u001b[0m\u001b[1;33m=\u001b[0m\u001b[0mtest\u001b[0m\u001b[1;33m,\u001b[0m\u001b[1;33m\u001b[0m\u001b[1;33m\u001b[0m\u001b[0m\n",
      "\u001b[1;32m~\\anaconda3\\lib\\site-packages\\joblib\\parallel.py\u001b[0m in \u001b[0;36m__call__\u001b[1;34m(self, iterable)\u001b[0m\n\u001b[0;32m   1042\u001b[0m                 \u001b[0mself\u001b[0m\u001b[1;33m.\u001b[0m\u001b[0m_iterating\u001b[0m \u001b[1;33m=\u001b[0m \u001b[0mself\u001b[0m\u001b[1;33m.\u001b[0m\u001b[0m_original_iterator\u001b[0m \u001b[1;32mis\u001b[0m \u001b[1;32mnot\u001b[0m \u001b[1;32mNone\u001b[0m\u001b[1;33m\u001b[0m\u001b[1;33m\u001b[0m\u001b[0m\n\u001b[0;32m   1043\u001b[0m \u001b[1;33m\u001b[0m\u001b[0m\n\u001b[1;32m-> 1044\u001b[1;33m             \u001b[1;32mwhile\u001b[0m \u001b[0mself\u001b[0m\u001b[1;33m.\u001b[0m\u001b[0mdispatch_one_batch\u001b[0m\u001b[1;33m(\u001b[0m\u001b[0miterator\u001b[0m\u001b[1;33m)\u001b[0m\u001b[1;33m:\u001b[0m\u001b[1;33m\u001b[0m\u001b[1;33m\u001b[0m\u001b[0m\n\u001b[0m\u001b[0;32m   1045\u001b[0m                 \u001b[1;32mpass\u001b[0m\u001b[1;33m\u001b[0m\u001b[1;33m\u001b[0m\u001b[0m\n\u001b[0;32m   1046\u001b[0m \u001b[1;33m\u001b[0m\u001b[0m\n",
      "\u001b[1;32m~\\anaconda3\\lib\\site-packages\\joblib\\parallel.py\u001b[0m in \u001b[0;36mdispatch_one_batch\u001b[1;34m(self, iterator)\u001b[0m\n\u001b[0;32m    857\u001b[0m                 \u001b[1;32mreturn\u001b[0m \u001b[1;32mFalse\u001b[0m\u001b[1;33m\u001b[0m\u001b[1;33m\u001b[0m\u001b[0m\n\u001b[0;32m    858\u001b[0m             \u001b[1;32melse\u001b[0m\u001b[1;33m:\u001b[0m\u001b[1;33m\u001b[0m\u001b[1;33m\u001b[0m\u001b[0m\n\u001b[1;32m--> 859\u001b[1;33m                 \u001b[0mself\u001b[0m\u001b[1;33m.\u001b[0m\u001b[0m_dispatch\u001b[0m\u001b[1;33m(\u001b[0m\u001b[0mtasks\u001b[0m\u001b[1;33m)\u001b[0m\u001b[1;33m\u001b[0m\u001b[1;33m\u001b[0m\u001b[0m\n\u001b[0m\u001b[0;32m    860\u001b[0m                 \u001b[1;32mreturn\u001b[0m \u001b[1;32mTrue\u001b[0m\u001b[1;33m\u001b[0m\u001b[1;33m\u001b[0m\u001b[0m\n\u001b[0;32m    861\u001b[0m \u001b[1;33m\u001b[0m\u001b[0m\n",
      "\u001b[1;32m~\\anaconda3\\lib\\site-packages\\joblib\\parallel.py\u001b[0m in \u001b[0;36m_dispatch\u001b[1;34m(self, batch)\u001b[0m\n\u001b[0;32m    775\u001b[0m         \u001b[1;32mwith\u001b[0m \u001b[0mself\u001b[0m\u001b[1;33m.\u001b[0m\u001b[0m_lock\u001b[0m\u001b[1;33m:\u001b[0m\u001b[1;33m\u001b[0m\u001b[1;33m\u001b[0m\u001b[0m\n\u001b[0;32m    776\u001b[0m             \u001b[0mjob_idx\u001b[0m \u001b[1;33m=\u001b[0m \u001b[0mlen\u001b[0m\u001b[1;33m(\u001b[0m\u001b[0mself\u001b[0m\u001b[1;33m.\u001b[0m\u001b[0m_jobs\u001b[0m\u001b[1;33m)\u001b[0m\u001b[1;33m\u001b[0m\u001b[1;33m\u001b[0m\u001b[0m\n\u001b[1;32m--> 777\u001b[1;33m             \u001b[0mjob\u001b[0m \u001b[1;33m=\u001b[0m \u001b[0mself\u001b[0m\u001b[1;33m.\u001b[0m\u001b[0m_backend\u001b[0m\u001b[1;33m.\u001b[0m\u001b[0mapply_async\u001b[0m\u001b[1;33m(\u001b[0m\u001b[0mbatch\u001b[0m\u001b[1;33m,\u001b[0m \u001b[0mcallback\u001b[0m\u001b[1;33m=\u001b[0m\u001b[0mcb\u001b[0m\u001b[1;33m)\u001b[0m\u001b[1;33m\u001b[0m\u001b[1;33m\u001b[0m\u001b[0m\n\u001b[0m\u001b[0;32m    778\u001b[0m             \u001b[1;31m# A job can complete so quickly than its callback is\u001b[0m\u001b[1;33m\u001b[0m\u001b[1;33m\u001b[0m\u001b[1;33m\u001b[0m\u001b[0m\n\u001b[0;32m    779\u001b[0m             \u001b[1;31m# called before we get here, causing self._jobs to\u001b[0m\u001b[1;33m\u001b[0m\u001b[1;33m\u001b[0m\u001b[1;33m\u001b[0m\u001b[0m\n",
      "\u001b[1;32m~\\anaconda3\\lib\\site-packages\\joblib\\_parallel_backends.py\u001b[0m in \u001b[0;36mapply_async\u001b[1;34m(self, func, callback)\u001b[0m\n\u001b[0;32m    206\u001b[0m     \u001b[1;32mdef\u001b[0m \u001b[0mapply_async\u001b[0m\u001b[1;33m(\u001b[0m\u001b[0mself\u001b[0m\u001b[1;33m,\u001b[0m \u001b[0mfunc\u001b[0m\u001b[1;33m,\u001b[0m \u001b[0mcallback\u001b[0m\u001b[1;33m=\u001b[0m\u001b[1;32mNone\u001b[0m\u001b[1;33m)\u001b[0m\u001b[1;33m:\u001b[0m\u001b[1;33m\u001b[0m\u001b[1;33m\u001b[0m\u001b[0m\n\u001b[0;32m    207\u001b[0m         \u001b[1;34m\"\"\"Schedule a func to be run\"\"\"\u001b[0m\u001b[1;33m\u001b[0m\u001b[1;33m\u001b[0m\u001b[0m\n\u001b[1;32m--> 208\u001b[1;33m         \u001b[0mresult\u001b[0m \u001b[1;33m=\u001b[0m \u001b[0mImmediateResult\u001b[0m\u001b[1;33m(\u001b[0m\u001b[0mfunc\u001b[0m\u001b[1;33m)\u001b[0m\u001b[1;33m\u001b[0m\u001b[1;33m\u001b[0m\u001b[0m\n\u001b[0m\u001b[0;32m    209\u001b[0m         \u001b[1;32mif\u001b[0m \u001b[0mcallback\u001b[0m\u001b[1;33m:\u001b[0m\u001b[1;33m\u001b[0m\u001b[1;33m\u001b[0m\u001b[0m\n\u001b[0;32m    210\u001b[0m             \u001b[0mcallback\u001b[0m\u001b[1;33m(\u001b[0m\u001b[0mresult\u001b[0m\u001b[1;33m)\u001b[0m\u001b[1;33m\u001b[0m\u001b[1;33m\u001b[0m\u001b[0m\n",
      "\u001b[1;32m~\\anaconda3\\lib\\site-packages\\joblib\\_parallel_backends.py\u001b[0m in \u001b[0;36m__init__\u001b[1;34m(self, batch)\u001b[0m\n\u001b[0;32m    570\u001b[0m         \u001b[1;31m# Don't delay the application, to avoid keeping the input\u001b[0m\u001b[1;33m\u001b[0m\u001b[1;33m\u001b[0m\u001b[1;33m\u001b[0m\u001b[0m\n\u001b[0;32m    571\u001b[0m         \u001b[1;31m# arguments in memory\u001b[0m\u001b[1;33m\u001b[0m\u001b[1;33m\u001b[0m\u001b[1;33m\u001b[0m\u001b[0m\n\u001b[1;32m--> 572\u001b[1;33m         \u001b[0mself\u001b[0m\u001b[1;33m.\u001b[0m\u001b[0mresults\u001b[0m \u001b[1;33m=\u001b[0m \u001b[0mbatch\u001b[0m\u001b[1;33m(\u001b[0m\u001b[1;33m)\u001b[0m\u001b[1;33m\u001b[0m\u001b[1;33m\u001b[0m\u001b[0m\n\u001b[0m\u001b[0;32m    573\u001b[0m \u001b[1;33m\u001b[0m\u001b[0m\n\u001b[0;32m    574\u001b[0m     \u001b[1;32mdef\u001b[0m \u001b[0mget\u001b[0m\u001b[1;33m(\u001b[0m\u001b[0mself\u001b[0m\u001b[1;33m)\u001b[0m\u001b[1;33m:\u001b[0m\u001b[1;33m\u001b[0m\u001b[1;33m\u001b[0m\u001b[0m\n",
      "\u001b[1;32m~\\anaconda3\\lib\\site-packages\\joblib\\parallel.py\u001b[0m in \u001b[0;36m__call__\u001b[1;34m(self)\u001b[0m\n\u001b[0;32m    260\u001b[0m         \u001b[1;31m# change the default number of processes to -1\u001b[0m\u001b[1;33m\u001b[0m\u001b[1;33m\u001b[0m\u001b[1;33m\u001b[0m\u001b[0m\n\u001b[0;32m    261\u001b[0m         \u001b[1;32mwith\u001b[0m \u001b[0mparallel_backend\u001b[0m\u001b[1;33m(\u001b[0m\u001b[0mself\u001b[0m\u001b[1;33m.\u001b[0m\u001b[0m_backend\u001b[0m\u001b[1;33m,\u001b[0m \u001b[0mn_jobs\u001b[0m\u001b[1;33m=\u001b[0m\u001b[0mself\u001b[0m\u001b[1;33m.\u001b[0m\u001b[0m_n_jobs\u001b[0m\u001b[1;33m)\u001b[0m\u001b[1;33m:\u001b[0m\u001b[1;33m\u001b[0m\u001b[1;33m\u001b[0m\u001b[0m\n\u001b[1;32m--> 262\u001b[1;33m             return [func(*args, **kwargs)\n\u001b[0m\u001b[0;32m    263\u001b[0m                     for func, args, kwargs in self.items]\n\u001b[0;32m    264\u001b[0m \u001b[1;33m\u001b[0m\u001b[0m\n",
      "\u001b[1;32m~\\anaconda3\\lib\\site-packages\\joblib\\parallel.py\u001b[0m in \u001b[0;36m<listcomp>\u001b[1;34m(.0)\u001b[0m\n\u001b[0;32m    260\u001b[0m         \u001b[1;31m# change the default number of processes to -1\u001b[0m\u001b[1;33m\u001b[0m\u001b[1;33m\u001b[0m\u001b[1;33m\u001b[0m\u001b[0m\n\u001b[0;32m    261\u001b[0m         \u001b[1;32mwith\u001b[0m \u001b[0mparallel_backend\u001b[0m\u001b[1;33m(\u001b[0m\u001b[0mself\u001b[0m\u001b[1;33m.\u001b[0m\u001b[0m_backend\u001b[0m\u001b[1;33m,\u001b[0m \u001b[0mn_jobs\u001b[0m\u001b[1;33m=\u001b[0m\u001b[0mself\u001b[0m\u001b[1;33m.\u001b[0m\u001b[0m_n_jobs\u001b[0m\u001b[1;33m)\u001b[0m\u001b[1;33m:\u001b[0m\u001b[1;33m\u001b[0m\u001b[1;33m\u001b[0m\u001b[0m\n\u001b[1;32m--> 262\u001b[1;33m             return [func(*args, **kwargs)\n\u001b[0m\u001b[0;32m    263\u001b[0m                     for func, args, kwargs in self.items]\n\u001b[0;32m    264\u001b[0m \u001b[1;33m\u001b[0m\u001b[0m\n",
      "\u001b[1;32m~\\anaconda3\\lib\\site-packages\\sklearn\\utils\\fixes.py\u001b[0m in \u001b[0;36m__call__\u001b[1;34m(self, *args, **kwargs)\u001b[0m\n\u001b[0;32m    220\u001b[0m     \u001b[1;32mdef\u001b[0m \u001b[0m__call__\u001b[0m\u001b[1;33m(\u001b[0m\u001b[0mself\u001b[0m\u001b[1;33m,\u001b[0m \u001b[1;33m*\u001b[0m\u001b[0margs\u001b[0m\u001b[1;33m,\u001b[0m \u001b[1;33m**\u001b[0m\u001b[0mkwargs\u001b[0m\u001b[1;33m)\u001b[0m\u001b[1;33m:\u001b[0m\u001b[1;33m\u001b[0m\u001b[1;33m\u001b[0m\u001b[0m\n\u001b[0;32m    221\u001b[0m         \u001b[1;32mwith\u001b[0m \u001b[0mconfig_context\u001b[0m\u001b[1;33m(\u001b[0m\u001b[1;33m**\u001b[0m\u001b[0mself\u001b[0m\u001b[1;33m.\u001b[0m\u001b[0mconfig\u001b[0m\u001b[1;33m)\u001b[0m\u001b[1;33m:\u001b[0m\u001b[1;33m\u001b[0m\u001b[1;33m\u001b[0m\u001b[0m\n\u001b[1;32m--> 222\u001b[1;33m             \u001b[1;32mreturn\u001b[0m \u001b[0mself\u001b[0m\u001b[1;33m.\u001b[0m\u001b[0mfunction\u001b[0m\u001b[1;33m(\u001b[0m\u001b[1;33m*\u001b[0m\u001b[0margs\u001b[0m\u001b[1;33m,\u001b[0m \u001b[1;33m**\u001b[0m\u001b[0mkwargs\u001b[0m\u001b[1;33m)\u001b[0m\u001b[1;33m\u001b[0m\u001b[1;33m\u001b[0m\u001b[0m\n\u001b[0m",
      "\u001b[1;32m~\\anaconda3\\lib\\site-packages\\sklearn\\model_selection\\_validation.py\u001b[0m in \u001b[0;36m_fit_and_score\u001b[1;34m(estimator, X, y, scorer, train, test, verbose, parameters, fit_params, return_train_score, return_parameters, return_n_test_samples, return_times, return_estimator, split_progress, candidate_progress, error_score)\u001b[0m\n\u001b[0;32m    596\u001b[0m             \u001b[0mestimator\u001b[0m\u001b[1;33m.\u001b[0m\u001b[0mfit\u001b[0m\u001b[1;33m(\u001b[0m\u001b[0mX_train\u001b[0m\u001b[1;33m,\u001b[0m \u001b[1;33m**\u001b[0m\u001b[0mfit_params\u001b[0m\u001b[1;33m)\u001b[0m\u001b[1;33m\u001b[0m\u001b[1;33m\u001b[0m\u001b[0m\n\u001b[0;32m    597\u001b[0m         \u001b[1;32melse\u001b[0m\u001b[1;33m:\u001b[0m\u001b[1;33m\u001b[0m\u001b[1;33m\u001b[0m\u001b[0m\n\u001b[1;32m--> 598\u001b[1;33m             \u001b[0mestimator\u001b[0m\u001b[1;33m.\u001b[0m\u001b[0mfit\u001b[0m\u001b[1;33m(\u001b[0m\u001b[0mX_train\u001b[0m\u001b[1;33m,\u001b[0m \u001b[0my_train\u001b[0m\u001b[1;33m,\u001b[0m \u001b[1;33m**\u001b[0m\u001b[0mfit_params\u001b[0m\u001b[1;33m)\u001b[0m\u001b[1;33m\u001b[0m\u001b[1;33m\u001b[0m\u001b[0m\n\u001b[0m\u001b[0;32m    599\u001b[0m \u001b[1;33m\u001b[0m\u001b[0m\n\u001b[0;32m    600\u001b[0m     \u001b[1;32mexcept\u001b[0m \u001b[0mException\u001b[0m \u001b[1;32mas\u001b[0m \u001b[0me\u001b[0m\u001b[1;33m:\u001b[0m\u001b[1;33m\u001b[0m\u001b[1;33m\u001b[0m\u001b[0m\n",
      "\u001b[1;32m~\\anaconda3\\lib\\site-packages\\xgboost\\core.py\u001b[0m in \u001b[0;36minner_f\u001b[1;34m(*args, **kwargs)\u001b[0m\n\u001b[0;32m    434\u001b[0m         \u001b[1;32mfor\u001b[0m \u001b[0mk\u001b[0m\u001b[1;33m,\u001b[0m \u001b[0marg\u001b[0m \u001b[1;32min\u001b[0m \u001b[0mzip\u001b[0m\u001b[1;33m(\u001b[0m\u001b[0msig\u001b[0m\u001b[1;33m.\u001b[0m\u001b[0mparameters\u001b[0m\u001b[1;33m,\u001b[0m \u001b[0margs\u001b[0m\u001b[1;33m)\u001b[0m\u001b[1;33m:\u001b[0m\u001b[1;33m\u001b[0m\u001b[1;33m\u001b[0m\u001b[0m\n\u001b[0;32m    435\u001b[0m             \u001b[0mkwargs\u001b[0m\u001b[1;33m[\u001b[0m\u001b[0mk\u001b[0m\u001b[1;33m]\u001b[0m \u001b[1;33m=\u001b[0m \u001b[0marg\u001b[0m\u001b[1;33m\u001b[0m\u001b[1;33m\u001b[0m\u001b[0m\n\u001b[1;32m--> 436\u001b[1;33m         \u001b[1;32mreturn\u001b[0m \u001b[0mf\u001b[0m\u001b[1;33m(\u001b[0m\u001b[1;33m**\u001b[0m\u001b[0mkwargs\u001b[0m\u001b[1;33m)\u001b[0m\u001b[1;33m\u001b[0m\u001b[1;33m\u001b[0m\u001b[0m\n\u001b[0m\u001b[0;32m    437\u001b[0m \u001b[1;33m\u001b[0m\u001b[0m\n\u001b[0;32m    438\u001b[0m     \u001b[1;32mreturn\u001b[0m \u001b[0minner_f\u001b[0m\u001b[1;33m\u001b[0m\u001b[1;33m\u001b[0m\u001b[0m\n",
      "\u001b[1;32m~\\anaconda3\\lib\\site-packages\\xgboost\\sklearn.py\u001b[0m in \u001b[0;36mfit\u001b[1;34m(self, X, y, sample_weight, base_margin, eval_set, eval_metric, early_stopping_rounds, verbose, xgb_model, sample_weight_eval_set, base_margin_eval_set, feature_weights, callbacks)\u001b[0m\n\u001b[0;32m    734\u001b[0m \u001b[1;33m\u001b[0m\u001b[0m\n\u001b[0;32m    735\u001b[0m         \u001b[0mmodel\u001b[0m\u001b[1;33m,\u001b[0m \u001b[0mfeval\u001b[0m\u001b[1;33m,\u001b[0m \u001b[0mparams\u001b[0m \u001b[1;33m=\u001b[0m \u001b[0mself\u001b[0m\u001b[1;33m.\u001b[0m\u001b[0m_configure_fit\u001b[0m\u001b[1;33m(\u001b[0m\u001b[0mxgb_model\u001b[0m\u001b[1;33m,\u001b[0m \u001b[0meval_metric\u001b[0m\u001b[1;33m,\u001b[0m \u001b[0mparams\u001b[0m\u001b[1;33m)\u001b[0m\u001b[1;33m\u001b[0m\u001b[1;33m\u001b[0m\u001b[0m\n\u001b[1;32m--> 736\u001b[1;33m         self._Booster = train(\n\u001b[0m\u001b[0;32m    737\u001b[0m             \u001b[0mparams\u001b[0m\u001b[1;33m,\u001b[0m\u001b[1;33m\u001b[0m\u001b[1;33m\u001b[0m\u001b[0m\n\u001b[0;32m    738\u001b[0m             \u001b[0mtrain_dmatrix\u001b[0m\u001b[1;33m,\u001b[0m\u001b[1;33m\u001b[0m\u001b[1;33m\u001b[0m\u001b[0m\n",
      "\u001b[1;32m~\\anaconda3\\lib\\site-packages\\xgboost\\training.py\u001b[0m in \u001b[0;36mtrain\u001b[1;34m(params, dtrain, num_boost_round, evals, obj, feval, maximize, early_stopping_rounds, evals_result, verbose_eval, xgb_model, callbacks)\u001b[0m\n\u001b[0;32m    187\u001b[0m     \u001b[0mBooster\u001b[0m \u001b[1;33m:\u001b[0m \u001b[0ma\u001b[0m \u001b[0mtrained\u001b[0m \u001b[0mbooster\u001b[0m \u001b[0mmodel\u001b[0m\u001b[1;33m\u001b[0m\u001b[1;33m\u001b[0m\u001b[0m\n\u001b[0;32m    188\u001b[0m     \"\"\"\n\u001b[1;32m--> 189\u001b[1;33m     bst = _train_internal(params, dtrain,\n\u001b[0m\u001b[0;32m    190\u001b[0m                           \u001b[0mnum_boost_round\u001b[0m\u001b[1;33m=\u001b[0m\u001b[0mnum_boost_round\u001b[0m\u001b[1;33m,\u001b[0m\u001b[1;33m\u001b[0m\u001b[1;33m\u001b[0m\u001b[0m\n\u001b[0;32m    191\u001b[0m                           \u001b[0mevals\u001b[0m\u001b[1;33m=\u001b[0m\u001b[0mevals\u001b[0m\u001b[1;33m,\u001b[0m\u001b[1;33m\u001b[0m\u001b[1;33m\u001b[0m\u001b[0m\n",
      "\u001b[1;32m~\\anaconda3\\lib\\site-packages\\xgboost\\training.py\u001b[0m in \u001b[0;36m_train_internal\u001b[1;34m(params, dtrain, num_boost_round, evals, obj, feval, xgb_model, callbacks, evals_result, maximize, verbose_eval, early_stopping_rounds)\u001b[0m\n\u001b[0;32m    108\u001b[0m     \u001b[1;31m# Copy to serialise and unserialise booster to reset state and free\u001b[0m\u001b[1;33m\u001b[0m\u001b[1;33m\u001b[0m\u001b[1;33m\u001b[0m\u001b[0m\n\u001b[0;32m    109\u001b[0m     \u001b[1;31m# training memory\u001b[0m\u001b[1;33m\u001b[0m\u001b[1;33m\u001b[0m\u001b[1;33m\u001b[0m\u001b[0m\n\u001b[1;32m--> 110\u001b[1;33m     \u001b[1;32mreturn\u001b[0m \u001b[0mbst\u001b[0m\u001b[1;33m.\u001b[0m\u001b[0mcopy\u001b[0m\u001b[1;33m(\u001b[0m\u001b[1;33m)\u001b[0m\u001b[1;33m\u001b[0m\u001b[1;33m\u001b[0m\u001b[0m\n\u001b[0m\u001b[0;32m    111\u001b[0m \u001b[1;33m\u001b[0m\u001b[0m\n\u001b[0;32m    112\u001b[0m \u001b[1;33m\u001b[0m\u001b[0m\n",
      "\u001b[1;32m~\\anaconda3\\lib\\site-packages\\xgboost\\core.py\u001b[0m in \u001b[0;36mcopy\u001b[1;34m(self)\u001b[0m\n\u001b[0;32m   1349\u001b[0m             \u001b[0ma\u001b[0m \u001b[0mcopied\u001b[0m \u001b[0mbooster\u001b[0m \u001b[0mmodel\u001b[0m\u001b[1;33m\u001b[0m\u001b[1;33m\u001b[0m\u001b[0m\n\u001b[0;32m   1350\u001b[0m         \"\"\"\n\u001b[1;32m-> 1351\u001b[1;33m         \u001b[1;32mreturn\u001b[0m \u001b[0mself\u001b[0m\u001b[1;33m.\u001b[0m\u001b[0m__copy__\u001b[0m\u001b[1;33m(\u001b[0m\u001b[1;33m)\u001b[0m\u001b[1;33m\u001b[0m\u001b[1;33m\u001b[0m\u001b[0m\n\u001b[0m\u001b[0;32m   1352\u001b[0m \u001b[1;33m\u001b[0m\u001b[0m\n\u001b[0;32m   1353\u001b[0m     \u001b[1;32mdef\u001b[0m \u001b[0mattr\u001b[0m\u001b[1;33m(\u001b[0m\u001b[0mself\u001b[0m\u001b[1;33m,\u001b[0m \u001b[0mkey\u001b[0m\u001b[1;33m)\u001b[0m\u001b[1;33m:\u001b[0m\u001b[1;33m\u001b[0m\u001b[1;33m\u001b[0m\u001b[0m\n",
      "\u001b[1;32m~\\anaconda3\\lib\\site-packages\\xgboost\\core.py\u001b[0m in \u001b[0;36m__copy__\u001b[1;34m(self)\u001b[0m\n\u001b[0;32m   1335\u001b[0m \u001b[1;33m\u001b[0m\u001b[0m\n\u001b[0;32m   1336\u001b[0m     \u001b[1;32mdef\u001b[0m \u001b[0m__copy__\u001b[0m\u001b[1;33m(\u001b[0m\u001b[0mself\u001b[0m\u001b[1;33m)\u001b[0m\u001b[1;33m:\u001b[0m\u001b[1;33m\u001b[0m\u001b[1;33m\u001b[0m\u001b[0m\n\u001b[1;32m-> 1337\u001b[1;33m         \u001b[1;32mreturn\u001b[0m \u001b[0mself\u001b[0m\u001b[1;33m.\u001b[0m\u001b[0m__deepcopy__\u001b[0m\u001b[1;33m(\u001b[0m\u001b[1;32mNone\u001b[0m\u001b[1;33m)\u001b[0m\u001b[1;33m\u001b[0m\u001b[1;33m\u001b[0m\u001b[0m\n\u001b[0m\u001b[0;32m   1338\u001b[0m \u001b[1;33m\u001b[0m\u001b[0m\n\u001b[0;32m   1339\u001b[0m     \u001b[1;32mdef\u001b[0m \u001b[0m__deepcopy__\u001b[0m\u001b[1;33m(\u001b[0m\u001b[0mself\u001b[0m\u001b[1;33m,\u001b[0m \u001b[0m_\u001b[0m\u001b[1;33m)\u001b[0m\u001b[1;33m:\u001b[0m\u001b[1;33m\u001b[0m\u001b[1;33m\u001b[0m\u001b[0m\n",
      "\u001b[1;32m~\\anaconda3\\lib\\site-packages\\xgboost\\core.py\u001b[0m in \u001b[0;36m__deepcopy__\u001b[1;34m(self, _)\u001b[0m\n\u001b[0;32m   1339\u001b[0m     \u001b[1;32mdef\u001b[0m \u001b[0m__deepcopy__\u001b[0m\u001b[1;33m(\u001b[0m\u001b[0mself\u001b[0m\u001b[1;33m,\u001b[0m \u001b[0m_\u001b[0m\u001b[1;33m)\u001b[0m\u001b[1;33m:\u001b[0m\u001b[1;33m\u001b[0m\u001b[1;33m\u001b[0m\u001b[0m\n\u001b[0;32m   1340\u001b[0m         \u001b[1;34m'''Return a copy of booster.'''\u001b[0m\u001b[1;33m\u001b[0m\u001b[1;33m\u001b[0m\u001b[0m\n\u001b[1;32m-> 1341\u001b[1;33m         \u001b[1;32mreturn\u001b[0m \u001b[0mBooster\u001b[0m\u001b[1;33m(\u001b[0m\u001b[0mmodel_file\u001b[0m\u001b[1;33m=\u001b[0m\u001b[0mself\u001b[0m\u001b[1;33m)\u001b[0m\u001b[1;33m\u001b[0m\u001b[1;33m\u001b[0m\u001b[0m\n\u001b[0m\u001b[0;32m   1342\u001b[0m \u001b[1;33m\u001b[0m\u001b[0m\n\u001b[0;32m   1343\u001b[0m     \u001b[1;32mdef\u001b[0m \u001b[0mcopy\u001b[0m\u001b[1;33m(\u001b[0m\u001b[0mself\u001b[0m\u001b[1;33m)\u001b[0m\u001b[1;33m:\u001b[0m\u001b[1;33m\u001b[0m\u001b[1;33m\u001b[0m\u001b[0m\n",
      "\u001b[1;32m~\\anaconda3\\lib\\site-packages\\xgboost\\core.py\u001b[0m in \u001b[0;36m__init__\u001b[1;34m(self, params, cache, model_file)\u001b[0m\n\u001b[0;32m   1211\u001b[0m             \u001b[1;31m# We use the pickle interface for getting memory snapshot from\u001b[0m\u001b[1;33m\u001b[0m\u001b[1;33m\u001b[0m\u001b[1;33m\u001b[0m\u001b[0m\n\u001b[0;32m   1212\u001b[0m             \u001b[1;31m# another model, and load the snapshot with this booster.\u001b[0m\u001b[1;33m\u001b[0m\u001b[1;33m\u001b[0m\u001b[1;33m\u001b[0m\u001b[0m\n\u001b[1;32m-> 1213\u001b[1;33m             \u001b[0mstate\u001b[0m \u001b[1;33m=\u001b[0m \u001b[0mmodel_file\u001b[0m\u001b[1;33m.\u001b[0m\u001b[0m__getstate__\u001b[0m\u001b[1;33m(\u001b[0m\u001b[1;33m)\u001b[0m\u001b[1;33m\u001b[0m\u001b[1;33m\u001b[0m\u001b[0m\n\u001b[0m\u001b[0;32m   1214\u001b[0m             \u001b[0mhandle\u001b[0m \u001b[1;33m=\u001b[0m \u001b[0mstate\u001b[0m\u001b[1;33m[\u001b[0m\u001b[1;34m'handle'\u001b[0m\u001b[1;33m]\u001b[0m\u001b[1;33m\u001b[0m\u001b[1;33m\u001b[0m\u001b[0m\n\u001b[0;32m   1215\u001b[0m             \u001b[1;32mdel\u001b[0m \u001b[0mstate\u001b[0m\u001b[1;33m[\u001b[0m\u001b[1;34m'handle'\u001b[0m\u001b[1;33m]\u001b[0m\u001b[1;33m\u001b[0m\u001b[1;33m\u001b[0m\u001b[0m\n",
      "\u001b[1;32m~\\anaconda3\\lib\\site-packages\\xgboost\\core.py\u001b[0m in \u001b[0;36m__getstate__\u001b[1;34m(self)\u001b[0m\n\u001b[0;32m   1249\u001b[0m             \u001b[0mlength\u001b[0m \u001b[1;33m=\u001b[0m \u001b[0mc_bst_ulong\u001b[0m\u001b[1;33m(\u001b[0m\u001b[1;33m)\u001b[0m\u001b[1;33m\u001b[0m\u001b[1;33m\u001b[0m\u001b[0m\n\u001b[0;32m   1250\u001b[0m             \u001b[0mcptr\u001b[0m \u001b[1;33m=\u001b[0m \u001b[0mctypes\u001b[0m\u001b[1;33m.\u001b[0m\u001b[0mPOINTER\u001b[0m\u001b[1;33m(\u001b[0m\u001b[0mctypes\u001b[0m\u001b[1;33m.\u001b[0m\u001b[0mc_char\u001b[0m\u001b[1;33m)\u001b[0m\u001b[1;33m(\u001b[0m\u001b[1;33m)\u001b[0m\u001b[1;33m\u001b[0m\u001b[1;33m\u001b[0m\u001b[0m\n\u001b[1;32m-> 1251\u001b[1;33m             _check_call(_LIB.XGBoosterSerializeToBuffer(self.handle,\n\u001b[0m\u001b[0;32m   1252\u001b[0m                                                         \u001b[0mctypes\u001b[0m\u001b[1;33m.\u001b[0m\u001b[0mbyref\u001b[0m\u001b[1;33m(\u001b[0m\u001b[0mlength\u001b[0m\u001b[1;33m)\u001b[0m\u001b[1;33m,\u001b[0m\u001b[1;33m\u001b[0m\u001b[1;33m\u001b[0m\u001b[0m\n\u001b[0;32m   1253\u001b[0m                                                         ctypes.byref(cptr)))\n",
      "\u001b[1;31mKeyboardInterrupt\u001b[0m: "
     ]
    }
   ],
   "source": [
    "params = [{\"max_depth\" : [7, 8, 9, 10, 11, 12],\n",
    "           \"learning_rate\" : [0.01, 0.05, 0.1, 0.15, 0.2, 0.25, 0.3],\n",
    "           \"gamma\" : [3, 4, 5, 6],\n",
    "           \"min_child_weight\" : [2, 3, 4, 5, 6],\n",
    "           \"sampling_method\" : [\"uniform\", \"gradient_based\"]\n",
    "}]\n",
    "\n",
    "grid_search = GridSearchCV(xgboost_co2, params, cv=5,\n",
    "                           scoring='neg_mean_squared_error')\n",
    "grid_search.fit(X_train, y_train)"
   ]
  },
  {
   "cell_type": "code",
   "execution_count": null,
   "id": "993ecf15",
   "metadata": {},
   "outputs": [],
   "source": [
    "grid_search.best_params_"
   ]
  },
  {
   "cell_type": "markdown",
   "id": "dad1dd88",
   "metadata": {},
   "source": [
    "## 3.5) Analyse des erreurs du modèle <a class=\"anchor\" id=\"section_3_5\"></a>"
   ]
  },
  {
   "cell_type": "code",
   "execution_count": null,
   "id": "f0a1bc63",
   "metadata": {},
   "outputs": [],
   "source": [
    "final_model_co2 = grid_search.best_estimator_"
   ]
  },
  {
   "cell_type": "code",
   "execution_count": null,
   "id": "2224958b",
   "metadata": {},
   "outputs": [],
   "source": [
    "final_predictions_co2 = final_model_co2.predict(X_test)"
   ]
  },
  {
   "cell_type": "code",
   "execution_count": null,
   "id": "c2251b10",
   "metadata": {},
   "outputs": [],
   "source": [
    "regression_metrics(y_test, final_predictions_co2)"
   ]
  },
  {
   "cell_type": "code",
   "execution_count": null,
   "id": "175b1e6e",
   "metadata": {},
   "outputs": [],
   "source": [
    "visualizer = ResidualsPlot(final_model_co2)\n",
    "visualizer.fit(np.array(X_train), np.array(y_train).reshape(2596,))\n",
    "visualizer.score(np.array(X_test), np.array(y_test).reshape(649,))\n",
    "visualizer.show();"
   ]
  },
  {
   "cell_type": "code",
   "execution_count": null,
   "id": "efe0e884",
   "metadata": {},
   "outputs": [],
   "source": [
    "visualizer = prediction_error(final_model_co2, np.array(X_train), np.array(y_train), np.array(X_test), np.array(y_test));"
   ]
  },
  {
   "cell_type": "markdown",
   "id": "2e972b3b",
   "metadata": {},
   "source": [
    "## 3.6) Pipeline du modèle pour l'estimation des émissions de CO2 <a class=\"anchor\" id=\"section_3_6\"></a>"
   ]
  },
  {
   "cell_type": "code",
   "execution_count": null,
   "id": "93f5f8b0",
   "metadata": {},
   "outputs": [],
   "source": [
    "full_pipeline_co2 = Pipeline([\n",
    "    (\"preprocessing\", preprocessor),\n",
    "    (\"model\", final_model_co2)\n",
    "])"
   ]
  },
  {
   "cell_type": "markdown",
   "id": "2d74e8a9",
   "metadata": {},
   "source": [
    "# 4 - Prédiction des émissions de CO2 avec ENERGY STAR SCORE"
   ]
  },
  {
   "cell_type": "code",
   "execution_count": null,
   "id": "a9b6d9a8",
   "metadata": {},
   "outputs": [],
   "source": [
    "# Création d'un jeu d'entrainement (train set) et d'un jeu de test (test set)\n",
    "train_set, test_set = train_test_split(data, test_size=0.2, random_state=42, stratify=data[\"PrimaryPropertyType\"])\n",
    "\n",
    "y_train = train_set[[\"TotalGHGEmissions_log\"]]\n",
    "y_test = test_set[[\"TotalGHGEmissions_log\"]]\n",
    "X_train = train_set.drop([\"SiteEnergyUse(kBtu)\", \"SiteEnergyUse(kBtu)_log\", \"TotalGHGEmissions\", \"TotalGHGEmissions_log\", \"Age\", \"YearBuilt\", \"NumberofBuildings\", \"NumberofFloors\", \"Neighborhood\", \"Latitude\", \"Longitude\"], axis=1)\n",
    "X_test = test_set.drop([\"SiteEnergyUse(kBtu)\", \"SiteEnergyUse(kBtu)_log\", \"TotalGHGEmissions\", \"TotalGHGEmissions_log\", \"Age\", \"YearBuilt\", \"NumberofBuildings\", \"NumberofFloors\",\"Neighborhood\", \"Latitude\", \"Longitude\"], axis=1)"
   ]
  },
  {
   "cell_type": "code",
   "execution_count": null,
   "id": "45a8cab3",
   "metadata": {},
   "outputs": [],
   "source": [
    "# Séparation des variables catégorielles et numériques\n",
    "\n",
    "cat_var = [\"PrimaryPropertyType\", \"NbofFloors\", \"NbofBuildings\", \"HasParking\", \"Clusters\", \"Bins_Age\"]\n",
    "num_var = [\"PropertyGFATotal\", \"degreeDaysH\", \"degreeDaysC\", \"ENERGYSTARScore\"]"
   ]
  },
  {
   "cell_type": "code",
   "execution_count": null,
   "id": "30e1fcf5",
   "metadata": {},
   "outputs": [],
   "source": [
    "# Création d'un pipeline de transformation\n",
    "\n",
    "from sklearn.compose import ColumnTransformer\n",
    "from sklearn.pipeline import Pipeline\n",
    "\n",
    "cat_pipe = Pipeline([\n",
    "    ('imputer', SimpleImputer(strategy='most_frequent', fill_value='missing')),\n",
    "    ('encoder', OneHotEncoder(handle_unknown='ignore', sparse=False))\n",
    "])\n",
    "\n",
    "num_pipe = Pipeline([\n",
    "    ('imputer', SimpleImputer(strategy=\"median\", fill_value=\"missing\")),\n",
    "    ('scaler', StandardScaler())\n",
    "])\n",
    "\n",
    "preprocessor = ColumnTransformer(\n",
    "    transformers=[\n",
    "    ('cat', cat_pipe, cat_var),\n",
    "    ('num', num_pipe, num_var)\n",
    "])"
   ]
  },
  {
   "cell_type": "code",
   "execution_count": null,
   "id": "c8b82fd5",
   "metadata": {},
   "outputs": [],
   "source": [
    "X_train = preprocessor.fit_transform(X_train)"
   ]
  },
  {
   "cell_type": "code",
   "execution_count": null,
   "id": "139ead8d",
   "metadata": {
    "scrolled": true
   },
   "outputs": [],
   "source": [
    "dummy_reg = DummyRegressor(strategy=\"median\")\n",
    "dummy_reg.fit(X_train, y_train)"
   ]
  },
  {
   "cell_type": "code",
   "execution_count": null,
   "id": "29319aa7",
   "metadata": {},
   "outputs": [],
   "source": [
    "X_test = preprocessor.transform(X_test)\n",
    "y_pred = dummy_reg.predict(X_test)\n",
    "regression_metrics(y_test, y_pred)"
   ]
  },
  {
   "cell_type": "code",
   "execution_count": null,
   "id": "39a8cbce",
   "metadata": {},
   "outputs": [],
   "source": [
    "dummy_reg = DummyRegressor(strategy=\"median\")\n",
    "lin_reg = LinearRegression()\n",
    "ridge = Ridge(random_state=42)\n",
    "lasso = Lasso(random_state=42)\n",
    "dt_reg =  DecisionTreeRegressor(random_state=42)\n",
    "svm_reg = SVR()\n",
    "ridge_kernel = KernelRidge()\n",
    "adaboost = AdaBoostRegressor(random_state=42)\n",
    "bagging = BaggingRegressor(random_state=42)\n",
    "gdboost = GradientBoostingRegressor(random_state=42)\n",
    "rdmforest = RandomForestRegressor(random_state=42)\n",
    "xgboost = xgb.XGBRegressor(random_state=42)\n",
    "mlp_reg = MLPRegressor(random_state=42)"
   ]
  },
  {
   "cell_type": "code",
   "execution_count": null,
   "id": "2ca0fcac",
   "metadata": {},
   "outputs": [],
   "source": [
    "model = [dummy_reg, lin_reg, ridge, lasso, dt_reg, svm_reg, ridge_kernel, adaboost, bagging, gdboost, rdmforest, xgboost, mlp]\n",
    "dict_model = {}\n",
    "\n",
    "for model in model:\n",
    "    model.fit(X_train, y_train)\n",
    "    y_pred = model.predict(X_test)\n",
    "    mae = mean_absolute_error(y_test, y_pred)\n",
    "    mse = mean_squared_error(y_test, y_pred)\n",
    "    rmse = np.sqrt(mse)\n",
    "    r_score = r2_score(y_test, y_pred, multioutput=\"variance_weighted\").round(3)\n",
    "    dict_model[model] = (mae.round(3), mse.round(3), rmse.round(3), r_score)\n",
    "\n",
    "eval_model = pd.DataFrame(dict_model, index=[\"MAE\", \"MSE\", \"RMSE\", \"R²\"])\n",
    "eval_model.columns = [\"Dummy Regressor\", \"Linear Regression\", \"Ridge\", \"Lasso\", \"DecisionTree\", \"SVM\", \"Ridge Kernel\",\n",
    "                      \"AdaBoost\", \"Bagging\", \"GradientBoosting\", \"Random Forest\", \"XGBoost\", \"MLP\"]\n",
    "\n",
    "eval_model"
   ]
  },
  {
   "cell_type": "code",
   "execution_count": null,
   "id": "ec925e67",
   "metadata": {},
   "outputs": [],
   "source": [
    "xgboost_ghg_energystar = xgb.XGBRegressor(objective=\"reg:squarederror\", booster=\"gbtree\", \n",
    "                               random_state=42, n_estimators=400, tree_method=\"hist\", n_jobs=-1)"
   ]
  },
  {
   "cell_type": "code",
   "execution_count": null,
   "id": "32a70b2e",
   "metadata": {},
   "outputs": [],
   "source": [
    "params = [{\"max_depth\" : [7, 8, 9, 10, 11, 12],\n",
    "           \"learning_rate\" : [0.01, 0.05, 0.1, 0.15, 0.2, 0.25, 0.3],\n",
    "           \"gamma\" : [3, 4, 5, 6],\n",
    "           \"min_child_weight\" : [2, 3, 4, 5, 6],\n",
    "           \"sampling_method\" : [\"uniform\", \"gradient_based\"]\n",
    "}]\n",
    "\n",
    "grid_search = GridSearchCV(xgboost_co2, params, cv=5,\n",
    "                           scoring='neg_mean_squared_error')\n",
    "grid_search.fit(X_train, y_train)"
   ]
  },
  {
   "cell_type": "code",
   "execution_count": null,
   "id": "eaf59df4",
   "metadata": {},
   "outputs": [],
   "source": [
    "grid_search.best_params_"
   ]
  },
  {
   "cell_type": "code",
   "execution_count": null,
   "id": "f7b12728",
   "metadata": {},
   "outputs": [],
   "source": [
    "final_model_ghg = grid_search.best_estimator_"
   ]
  },
  {
   "cell_type": "code",
   "execution_count": null,
   "id": "d7eb03f5",
   "metadata": {},
   "outputs": [],
   "source": [
    "final_prediction_ghg = final_model_ghg.predict(X_test)"
   ]
  },
  {
   "cell_type": "code",
   "execution_count": null,
   "id": "b09c6d0d",
   "metadata": {},
   "outputs": [],
   "source": [
    "regression_metrics(y_test, final_prediction_ghg)"
   ]
  },
  {
   "cell_type": "code",
   "execution_count": null,
   "id": "4b57d02b",
   "metadata": {},
   "outputs": [],
   "source": [
    "visualizer = ResidualsPlot(final_model_ghg)\n",
    "visualizer.fit(np.array(X_train), np.array(y_train).reshape(2596,))\n",
    "visualizer.score(np.array(X_test), np.array(y_test).reshape(649,))\n",
    "visualizer.show();"
   ]
  },
  {
   "cell_type": "code",
   "execution_count": null,
   "id": "a79004a0",
   "metadata": {},
   "outputs": [],
   "source": [
    "visualizer = prediction_error(final_model_ghg, np.array(X_train), np.array(y_train), np.array(X_test), np.array(y_test));"
   ]
  },
  {
   "cell_type": "code",
   "execution_count": null,
   "id": "d3854dc4",
   "metadata": {},
   "outputs": [],
   "source": [
    "full_pipeline_ghg = Pipeline([\n",
    "    (\"preprocessing\", preprocessor),\n",
    "    (\"model\", final_model_ghg)\n",
    "])"
   ]
  },
  {
   "cell_type": "markdown",
   "id": "df4520be",
   "metadata": {},
   "source": [
    "# 5 - Conclusion <a class=\"anchor\" id=\"chapter1\"></a>"
   ]
  }
 ],
 "metadata": {
  "interpreter": {
   "hash": "db691860837755bfd223dbb19bf59c90fd58faf4b85973e04a456a30cef6b76b"
  },
  "kernelspec": {
   "display_name": "Python 3",
   "language": "python",
   "name": "python3"
  },
  "language_info": {
   "codemirror_mode": {
    "name": "ipython",
    "version": 3
   },
   "file_extension": ".py",
   "mimetype": "text/x-python",
   "name": "python",
   "nbconvert_exporter": "python",
   "pygments_lexer": "ipython3",
   "version": "3.8.10"
  }
 },
 "nbformat": 4,
 "nbformat_minor": 5
}
