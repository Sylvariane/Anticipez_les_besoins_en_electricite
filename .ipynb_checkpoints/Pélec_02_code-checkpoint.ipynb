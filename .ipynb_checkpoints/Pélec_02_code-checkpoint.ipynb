{
 "cells": [
  {
   "cell_type": "code",
   "execution_count": 1,
   "id": "d03e588c",
   "metadata": {},
   "outputs": [],
   "source": [
    "# importation des librairies nécessaires à l'exploration\n",
    "import warnings\n",
    "warnings.filterwarnings(\"ignore\")\n",
    "\n",
    "import pandas as pd\n",
    "import numpy as np\n",
    "from scipy import stats\n",
    "\n",
    "import matplotlib.pyplot as plt\n",
    "import seaborn as sns\n",
    "import sklearn\n",
    "from sklearn.metrics import mean_absolute_error, mean_squared_error, r2_score\n",
    "from sklearn.model_selection import train_test_split\n",
    "from yellowbrick.regressor import ResidualsPlot, prediction_error"
   ]
  },
  {
   "cell_type": "code",
   "execution_count": 2,
   "id": "fa2a74fd",
   "metadata": {},
   "outputs": [],
   "source": [
    "sklearn.set_config(display=\"diagram\")"
   ]
  },
  {
   "cell_type": "code",
   "execution_count": 3,
   "id": "9edf29ee",
   "metadata": {},
   "outputs": [],
   "source": [
    "def regression_metrics(y_test, y_pred):\n",
    "    \"\"\"Function which contains differents metrics about regression\n",
    "    Input: y_test, prediction\n",
    "    \n",
    "    Output: MAE, MSE, RMSE & R² score  \n",
    "    \"\"\"\n",
    "    mae = mean_absolute_error(y_test, y_pred)\n",
    "    mse = mean_squared_error(y_test, y_pred)\n",
    "    rmse = mse ** (1/2)\n",
    "    r_score = r2_score(y_test, y_pred)\n",
    "    print(\"MAE :\",mae.round(5))\n",
    "    print(\"MSE :\", mse.round(5))\n",
    "    print(\"RMSE :\", rmse.round(5))\n",
    "    print(\"R² :\", r_score.round(5))"
   ]
  },
  {
   "cell_type": "code",
   "execution_count": 4,
   "id": "81b931cb",
   "metadata": {},
   "outputs": [],
   "source": [
    "data = pd.read_csv(\"datasets/benchmark_total.csv\")"
   ]
  },
  {
   "cell_type": "code",
   "execution_count": 5,
   "id": "fe86c035",
   "metadata": {
    "scrolled": true
   },
   "outputs": [
    {
     "data": {
      "text/html": [
       "<div>\n",
       "<style scoped>\n",
       "    .dataframe tbody tr th:only-of-type {\n",
       "        vertical-align: middle;\n",
       "    }\n",
       "\n",
       "    .dataframe tbody tr th {\n",
       "        vertical-align: top;\n",
       "    }\n",
       "\n",
       "    .dataframe thead th {\n",
       "        text-align: right;\n",
       "    }\n",
       "</style>\n",
       "<table border=\"1\" class=\"dataframe\">\n",
       "  <thead>\n",
       "    <tr style=\"text-align: right;\">\n",
       "      <th></th>\n",
       "      <th>PrimaryPropertyType</th>\n",
       "      <th>Neighborhood</th>\n",
       "      <th>YearBuilt</th>\n",
       "      <th>NumberofBuildings</th>\n",
       "      <th>NumberofFloors</th>\n",
       "      <th>PropertyGFATotal</th>\n",
       "      <th>ENERGYSTARScore</th>\n",
       "      <th>SiteEnergyUse(kBtu)</th>\n",
       "      <th>TotalGHGEmissions</th>\n",
       "    </tr>\n",
       "  </thead>\n",
       "  <tbody>\n",
       "    <tr>\n",
       "      <th>0</th>\n",
       "      <td>Hotel</td>\n",
       "      <td>Downtown</td>\n",
       "      <td>1927</td>\n",
       "      <td>1.0</td>\n",
       "      <td>12.0</td>\n",
       "      <td>88434</td>\n",
       "      <td>65.0</td>\n",
       "      <td>6981428.0</td>\n",
       "      <td>249.43</td>\n",
       "    </tr>\n",
       "    <tr>\n",
       "      <th>1</th>\n",
       "      <td>Hotel</td>\n",
       "      <td>Downtown</td>\n",
       "      <td>1996</td>\n",
       "      <td>1.0</td>\n",
       "      <td>11.0</td>\n",
       "      <td>103566</td>\n",
       "      <td>51.0</td>\n",
       "      <td>8354235.0</td>\n",
       "      <td>263.51</td>\n",
       "    </tr>\n",
       "    <tr>\n",
       "      <th>2</th>\n",
       "      <td>Hotel</td>\n",
       "      <td>Downtown</td>\n",
       "      <td>1969</td>\n",
       "      <td>1.0</td>\n",
       "      <td>41.0</td>\n",
       "      <td>961990</td>\n",
       "      <td>18.0</td>\n",
       "      <td>73130656.0</td>\n",
       "      <td>2061.48</td>\n",
       "    </tr>\n",
       "  </tbody>\n",
       "</table>\n",
       "</div>"
      ],
      "text/plain": [
       "  PrimaryPropertyType Neighborhood  YearBuilt  NumberofBuildings  \\\n",
       "0               Hotel     Downtown       1927                1.0   \n",
       "1               Hotel     Downtown       1996                1.0   \n",
       "2               Hotel     Downtown       1969                1.0   \n",
       "\n",
       "   NumberofFloors  PropertyGFATotal  ENERGYSTARScore  SiteEnergyUse(kBtu)  \\\n",
       "0            12.0             88434             65.0            6981428.0   \n",
       "1            11.0            103566             51.0            8354235.0   \n",
       "2            41.0            961990             18.0           73130656.0   \n",
       "\n",
       "   TotalGHGEmissions  \n",
       "0             249.43  \n",
       "1             263.51  \n",
       "2            2061.48  "
      ]
     },
     "execution_count": 5,
     "metadata": {},
     "output_type": "execute_result"
    }
   ],
   "source": [
    "data.head(3)"
   ]
  },
  {
   "cell_type": "code",
   "execution_count": 6,
   "id": "33d05837",
   "metadata": {},
   "outputs": [],
   "source": [
    "y_energy = data[\"SiteEnergyUse(kBtu)\"].values\n",
    "y_ghg = data[\"TotalGHGEmissions\"].values\n",
    "X = data.drop([\"SiteEnergyUse(kBtu)\", \"TotalGHGEmissions\"], axis=1)"
   ]
  },
  {
   "cell_type": "code",
   "execution_count": 7,
   "id": "ab2a7391",
   "metadata": {},
   "outputs": [],
   "source": [
    "y_energy = np.log1p(y_energy)\n",
    "y_ghg = np.log1p(y_ghg)"
   ]
  },
  {
   "cell_type": "code",
   "execution_count": 8,
   "id": "3af2e278",
   "metadata": {},
   "outputs": [],
   "source": [
    "X_train, X_test, y_train, y_test = train_test_split(X, y_energy, test_size=0.2, random_state=42)"
   ]
  },
  {
   "cell_type": "code",
   "execution_count": 9,
   "id": "3055fa09",
   "metadata": {},
   "outputs": [],
   "source": [
    "y_train = y_train.reshape(-1,1)\n",
    "y_test = y_test.reshape(-1,1)"
   ]
  },
  {
   "cell_type": "markdown",
   "id": "d40ccf5d",
   "metadata": {},
   "source": [
    "# Prédiction de la consommation d'énergie"
   ]
  },
  {
   "cell_type": "markdown",
   "id": "64af3ad3",
   "metadata": {},
   "source": [
    "## Création d'un modèle \"baseline\""
   ]
  },
  {
   "cell_type": "markdown",
   "id": "5ceeb733",
   "metadata": {},
   "source": [
    "### Préparation des données"
   ]
  },
  {
   "cell_type": "code",
   "execution_count": 10,
   "id": "f3095f52",
   "metadata": {},
   "outputs": [],
   "source": [
    "cat_var = [\"PrimaryPropertyType\", \"Neighborhood\"]\n",
    "num_var = [\"YearBuilt\", \"NumberofBuildings\", \"NumberofFloors\", \"PropertyGFATotal\"]"
   ]
  },
  {
   "cell_type": "code",
   "execution_count": 11,
   "id": "261e8fc7",
   "metadata": {},
   "outputs": [
    {
     "data": {
      "text/html": [
       "<style>#sk-20301f56-17d8-4d51-9c32-f382b7413e76 {color: black;background-color: white;}#sk-20301f56-17d8-4d51-9c32-f382b7413e76 pre{padding: 0;}#sk-20301f56-17d8-4d51-9c32-f382b7413e76 div.sk-toggleable {background-color: white;}#sk-20301f56-17d8-4d51-9c32-f382b7413e76 label.sk-toggleable__label {cursor: pointer;display: block;width: 100%;margin-bottom: 0;padding: 0.2em 0.3em;box-sizing: border-box;text-align: center;}#sk-20301f56-17d8-4d51-9c32-f382b7413e76 div.sk-toggleable__content {max-height: 0;max-width: 0;overflow: hidden;text-align: left;background-color: #f0f8ff;}#sk-20301f56-17d8-4d51-9c32-f382b7413e76 div.sk-toggleable__content pre {margin: 0.2em;color: black;border-radius: 0.25em;background-color: #f0f8ff;}#sk-20301f56-17d8-4d51-9c32-f382b7413e76 input.sk-toggleable__control:checked~div.sk-toggleable__content {max-height: 200px;max-width: 100%;overflow: auto;}#sk-20301f56-17d8-4d51-9c32-f382b7413e76 div.sk-estimator input.sk-toggleable__control:checked~label.sk-toggleable__label {background-color: #d4ebff;}#sk-20301f56-17d8-4d51-9c32-f382b7413e76 div.sk-label input.sk-toggleable__control:checked~label.sk-toggleable__label {background-color: #d4ebff;}#sk-20301f56-17d8-4d51-9c32-f382b7413e76 input.sk-hidden--visually {border: 0;clip: rect(1px 1px 1px 1px);clip: rect(1px, 1px, 1px, 1px);height: 1px;margin: -1px;overflow: hidden;padding: 0;position: absolute;width: 1px;}#sk-20301f56-17d8-4d51-9c32-f382b7413e76 div.sk-estimator {font-family: monospace;background-color: #f0f8ff;margin: 0.25em 0.25em;border: 1px dotted black;border-radius: 0.25em;box-sizing: border-box;}#sk-20301f56-17d8-4d51-9c32-f382b7413e76 div.sk-estimator:hover {background-color: #d4ebff;}#sk-20301f56-17d8-4d51-9c32-f382b7413e76 div.sk-parallel-item::after {content: \"\";width: 100%;border-bottom: 1px solid gray;flex-grow: 1;}#sk-20301f56-17d8-4d51-9c32-f382b7413e76 div.sk-label:hover label.sk-toggleable__label {background-color: #d4ebff;}#sk-20301f56-17d8-4d51-9c32-f382b7413e76 div.sk-serial::before {content: \"\";position: absolute;border-left: 1px solid gray;box-sizing: border-box;top: 2em;bottom: 0;left: 50%;}#sk-20301f56-17d8-4d51-9c32-f382b7413e76 div.sk-serial {display: flex;flex-direction: column;align-items: center;background-color: white;}#sk-20301f56-17d8-4d51-9c32-f382b7413e76 div.sk-item {z-index: 1;}#sk-20301f56-17d8-4d51-9c32-f382b7413e76 div.sk-parallel {display: flex;align-items: stretch;justify-content: center;background-color: white;}#sk-20301f56-17d8-4d51-9c32-f382b7413e76 div.sk-parallel-item {display: flex;flex-direction: column;position: relative;background-color: white;}#sk-20301f56-17d8-4d51-9c32-f382b7413e76 div.sk-parallel-item:first-child::after {align-self: flex-end;width: 50%;}#sk-20301f56-17d8-4d51-9c32-f382b7413e76 div.sk-parallel-item:last-child::after {align-self: flex-start;width: 50%;}#sk-20301f56-17d8-4d51-9c32-f382b7413e76 div.sk-parallel-item:only-child::after {width: 0;}#sk-20301f56-17d8-4d51-9c32-f382b7413e76 div.sk-dashed-wrapped {border: 1px dashed gray;margin: 0.2em;box-sizing: border-box;padding-bottom: 0.1em;background-color: white;position: relative;}#sk-20301f56-17d8-4d51-9c32-f382b7413e76 div.sk-label label {font-family: monospace;font-weight: bold;background-color: white;display: inline-block;line-height: 1.2em;}#sk-20301f56-17d8-4d51-9c32-f382b7413e76 div.sk-label-container {position: relative;z-index: 2;text-align: center;}#sk-20301f56-17d8-4d51-9c32-f382b7413e76 div.sk-container {display: inline-block;position: relative;}</style><div id=\"sk-20301f56-17d8-4d51-9c32-f382b7413e76\" class\"sk-top-container\"><div class=\"sk-container\"><div class=\"sk-item\"><div class=\"sk-estimator sk-toggleable\"><input class=\"sk-toggleable__control sk-hidden--visually\" id=\"1cb48437-f4cd-4606-9393-12fcd0465674\" type=\"checkbox\" checked><label class=\"sk-toggleable__label\" for=\"1cb48437-f4cd-4606-9393-12fcd0465674\">SimpleImputer</label><div class=\"sk-toggleable__content\"><pre>SimpleImputer(strategy='most_frequent')</pre></div></div></div></div></div>"
      ],
      "text/plain": [
       "SimpleImputer(strategy='most_frequent')"
      ]
     },
     "execution_count": 11,
     "metadata": {},
     "output_type": "execute_result"
    }
   ],
   "source": [
    "from sklearn.impute import SimpleImputer\n",
    "\n",
    "\n",
    "imputer_cat = SimpleImputer(strategy=\"most_frequent\")\n",
    "imputer_cat.fit(X_train[cat_var])"
   ]
  },
  {
   "cell_type": "code",
   "execution_count": 12,
   "id": "3d5c0be6",
   "metadata": {},
   "outputs": [
    {
     "data": {
      "text/html": [
       "<style>#sk-1848a5e2-0a22-43d1-8e45-1856f4bce1c1 {color: black;background-color: white;}#sk-1848a5e2-0a22-43d1-8e45-1856f4bce1c1 pre{padding: 0;}#sk-1848a5e2-0a22-43d1-8e45-1856f4bce1c1 div.sk-toggleable {background-color: white;}#sk-1848a5e2-0a22-43d1-8e45-1856f4bce1c1 label.sk-toggleable__label {cursor: pointer;display: block;width: 100%;margin-bottom: 0;padding: 0.2em 0.3em;box-sizing: border-box;text-align: center;}#sk-1848a5e2-0a22-43d1-8e45-1856f4bce1c1 div.sk-toggleable__content {max-height: 0;max-width: 0;overflow: hidden;text-align: left;background-color: #f0f8ff;}#sk-1848a5e2-0a22-43d1-8e45-1856f4bce1c1 div.sk-toggleable__content pre {margin: 0.2em;color: black;border-radius: 0.25em;background-color: #f0f8ff;}#sk-1848a5e2-0a22-43d1-8e45-1856f4bce1c1 input.sk-toggleable__control:checked~div.sk-toggleable__content {max-height: 200px;max-width: 100%;overflow: auto;}#sk-1848a5e2-0a22-43d1-8e45-1856f4bce1c1 div.sk-estimator input.sk-toggleable__control:checked~label.sk-toggleable__label {background-color: #d4ebff;}#sk-1848a5e2-0a22-43d1-8e45-1856f4bce1c1 div.sk-label input.sk-toggleable__control:checked~label.sk-toggleable__label {background-color: #d4ebff;}#sk-1848a5e2-0a22-43d1-8e45-1856f4bce1c1 input.sk-hidden--visually {border: 0;clip: rect(1px 1px 1px 1px);clip: rect(1px, 1px, 1px, 1px);height: 1px;margin: -1px;overflow: hidden;padding: 0;position: absolute;width: 1px;}#sk-1848a5e2-0a22-43d1-8e45-1856f4bce1c1 div.sk-estimator {font-family: monospace;background-color: #f0f8ff;margin: 0.25em 0.25em;border: 1px dotted black;border-radius: 0.25em;box-sizing: border-box;}#sk-1848a5e2-0a22-43d1-8e45-1856f4bce1c1 div.sk-estimator:hover {background-color: #d4ebff;}#sk-1848a5e2-0a22-43d1-8e45-1856f4bce1c1 div.sk-parallel-item::after {content: \"\";width: 100%;border-bottom: 1px solid gray;flex-grow: 1;}#sk-1848a5e2-0a22-43d1-8e45-1856f4bce1c1 div.sk-label:hover label.sk-toggleable__label {background-color: #d4ebff;}#sk-1848a5e2-0a22-43d1-8e45-1856f4bce1c1 div.sk-serial::before {content: \"\";position: absolute;border-left: 1px solid gray;box-sizing: border-box;top: 2em;bottom: 0;left: 50%;}#sk-1848a5e2-0a22-43d1-8e45-1856f4bce1c1 div.sk-serial {display: flex;flex-direction: column;align-items: center;background-color: white;}#sk-1848a5e2-0a22-43d1-8e45-1856f4bce1c1 div.sk-item {z-index: 1;}#sk-1848a5e2-0a22-43d1-8e45-1856f4bce1c1 div.sk-parallel {display: flex;align-items: stretch;justify-content: center;background-color: white;}#sk-1848a5e2-0a22-43d1-8e45-1856f4bce1c1 div.sk-parallel-item {display: flex;flex-direction: column;position: relative;background-color: white;}#sk-1848a5e2-0a22-43d1-8e45-1856f4bce1c1 div.sk-parallel-item:first-child::after {align-self: flex-end;width: 50%;}#sk-1848a5e2-0a22-43d1-8e45-1856f4bce1c1 div.sk-parallel-item:last-child::after {align-self: flex-start;width: 50%;}#sk-1848a5e2-0a22-43d1-8e45-1856f4bce1c1 div.sk-parallel-item:only-child::after {width: 0;}#sk-1848a5e2-0a22-43d1-8e45-1856f4bce1c1 div.sk-dashed-wrapped {border: 1px dashed gray;margin: 0.2em;box-sizing: border-box;padding-bottom: 0.1em;background-color: white;position: relative;}#sk-1848a5e2-0a22-43d1-8e45-1856f4bce1c1 div.sk-label label {font-family: monospace;font-weight: bold;background-color: white;display: inline-block;line-height: 1.2em;}#sk-1848a5e2-0a22-43d1-8e45-1856f4bce1c1 div.sk-label-container {position: relative;z-index: 2;text-align: center;}#sk-1848a5e2-0a22-43d1-8e45-1856f4bce1c1 div.sk-container {display: inline-block;position: relative;}</style><div id=\"sk-1848a5e2-0a22-43d1-8e45-1856f4bce1c1\" class\"sk-top-container\"><div class=\"sk-container\"><div class=\"sk-item\"><div class=\"sk-estimator sk-toggleable\"><input class=\"sk-toggleable__control sk-hidden--visually\" id=\"d77a065c-7004-42be-9943-1bf330d9efa1\" type=\"checkbox\" checked><label class=\"sk-toggleable__label\" for=\"d77a065c-7004-42be-9943-1bf330d9efa1\">SimpleImputer</label><div class=\"sk-toggleable__content\"><pre>SimpleImputer(strategy='median')</pre></div></div></div></div></div>"
      ],
      "text/plain": [
       "SimpleImputer(strategy='median')"
      ]
     },
     "execution_count": 12,
     "metadata": {},
     "output_type": "execute_result"
    }
   ],
   "source": [
    "imputer_num = SimpleImputer(strategy=\"median\")\n",
    "imputer_num.fit(X_train[num_var])"
   ]
  },
  {
   "cell_type": "code",
   "execution_count": 13,
   "id": "e5cbf7df",
   "metadata": {},
   "outputs": [
    {
     "data": {
      "text/html": [
       "<style>#sk-7c5c93c9-d6ca-41cb-a09c-b49d86c9022e {color: black;background-color: white;}#sk-7c5c93c9-d6ca-41cb-a09c-b49d86c9022e pre{padding: 0;}#sk-7c5c93c9-d6ca-41cb-a09c-b49d86c9022e div.sk-toggleable {background-color: white;}#sk-7c5c93c9-d6ca-41cb-a09c-b49d86c9022e label.sk-toggleable__label {cursor: pointer;display: block;width: 100%;margin-bottom: 0;padding: 0.2em 0.3em;box-sizing: border-box;text-align: center;}#sk-7c5c93c9-d6ca-41cb-a09c-b49d86c9022e div.sk-toggleable__content {max-height: 0;max-width: 0;overflow: hidden;text-align: left;background-color: #f0f8ff;}#sk-7c5c93c9-d6ca-41cb-a09c-b49d86c9022e div.sk-toggleable__content pre {margin: 0.2em;color: black;border-radius: 0.25em;background-color: #f0f8ff;}#sk-7c5c93c9-d6ca-41cb-a09c-b49d86c9022e input.sk-toggleable__control:checked~div.sk-toggleable__content {max-height: 200px;max-width: 100%;overflow: auto;}#sk-7c5c93c9-d6ca-41cb-a09c-b49d86c9022e div.sk-estimator input.sk-toggleable__control:checked~label.sk-toggleable__label {background-color: #d4ebff;}#sk-7c5c93c9-d6ca-41cb-a09c-b49d86c9022e div.sk-label input.sk-toggleable__control:checked~label.sk-toggleable__label {background-color: #d4ebff;}#sk-7c5c93c9-d6ca-41cb-a09c-b49d86c9022e input.sk-hidden--visually {border: 0;clip: rect(1px 1px 1px 1px);clip: rect(1px, 1px, 1px, 1px);height: 1px;margin: -1px;overflow: hidden;padding: 0;position: absolute;width: 1px;}#sk-7c5c93c9-d6ca-41cb-a09c-b49d86c9022e div.sk-estimator {font-family: monospace;background-color: #f0f8ff;margin: 0.25em 0.25em;border: 1px dotted black;border-radius: 0.25em;box-sizing: border-box;}#sk-7c5c93c9-d6ca-41cb-a09c-b49d86c9022e div.sk-estimator:hover {background-color: #d4ebff;}#sk-7c5c93c9-d6ca-41cb-a09c-b49d86c9022e div.sk-parallel-item::after {content: \"\";width: 100%;border-bottom: 1px solid gray;flex-grow: 1;}#sk-7c5c93c9-d6ca-41cb-a09c-b49d86c9022e div.sk-label:hover label.sk-toggleable__label {background-color: #d4ebff;}#sk-7c5c93c9-d6ca-41cb-a09c-b49d86c9022e div.sk-serial::before {content: \"\";position: absolute;border-left: 1px solid gray;box-sizing: border-box;top: 2em;bottom: 0;left: 50%;}#sk-7c5c93c9-d6ca-41cb-a09c-b49d86c9022e div.sk-serial {display: flex;flex-direction: column;align-items: center;background-color: white;}#sk-7c5c93c9-d6ca-41cb-a09c-b49d86c9022e div.sk-item {z-index: 1;}#sk-7c5c93c9-d6ca-41cb-a09c-b49d86c9022e div.sk-parallel {display: flex;align-items: stretch;justify-content: center;background-color: white;}#sk-7c5c93c9-d6ca-41cb-a09c-b49d86c9022e div.sk-parallel-item {display: flex;flex-direction: column;position: relative;background-color: white;}#sk-7c5c93c9-d6ca-41cb-a09c-b49d86c9022e div.sk-parallel-item:first-child::after {align-self: flex-end;width: 50%;}#sk-7c5c93c9-d6ca-41cb-a09c-b49d86c9022e div.sk-parallel-item:last-child::after {align-self: flex-start;width: 50%;}#sk-7c5c93c9-d6ca-41cb-a09c-b49d86c9022e div.sk-parallel-item:only-child::after {width: 0;}#sk-7c5c93c9-d6ca-41cb-a09c-b49d86c9022e div.sk-dashed-wrapped {border: 1px dashed gray;margin: 0.2em;box-sizing: border-box;padding-bottom: 0.1em;background-color: white;position: relative;}#sk-7c5c93c9-d6ca-41cb-a09c-b49d86c9022e div.sk-label label {font-family: monospace;font-weight: bold;background-color: white;display: inline-block;line-height: 1.2em;}#sk-7c5c93c9-d6ca-41cb-a09c-b49d86c9022e div.sk-label-container {position: relative;z-index: 2;text-align: center;}#sk-7c5c93c9-d6ca-41cb-a09c-b49d86c9022e div.sk-container {display: inline-block;position: relative;}</style><div id=\"sk-7c5c93c9-d6ca-41cb-a09c-b49d86c9022e\" class\"sk-top-container\"><div class=\"sk-container\"><div class=\"sk-item\"><div class=\"sk-estimator sk-toggleable\"><input class=\"sk-toggleable__control sk-hidden--visually\" id=\"be309222-623d-46fe-bfb6-955ff35ea89a\" type=\"checkbox\" checked><label class=\"sk-toggleable__label\" for=\"be309222-623d-46fe-bfb6-955ff35ea89a\">StandardScaler</label><div class=\"sk-toggleable__content\"><pre>StandardScaler()</pre></div></div></div></div></div>"
      ],
      "text/plain": [
       "StandardScaler()"
      ]
     },
     "execution_count": 13,
     "metadata": {},
     "output_type": "execute_result"
    }
   ],
   "source": [
    "from sklearn.preprocessing import StandardScaler\n",
    "\n",
    "scaler = StandardScaler()\n",
    "scaler.fit(X_train[num_var])"
   ]
  },
  {
   "cell_type": "code",
   "execution_count": 14,
   "id": "964be20d",
   "metadata": {},
   "outputs": [],
   "source": [
    "X_train[num_var] = scaler.transform(X_train[num_var])\n",
    "X_train[num_var] = imputer_num.transform(X_train[num_var])\n",
    "X_train[cat_var] = imputer_cat.transform(X_train[cat_var])"
   ]
  },
  {
   "cell_type": "code",
   "execution_count": 15,
   "id": "574b3908",
   "metadata": {},
   "outputs": [],
   "source": [
    "from sklearn.preprocessing import OneHotEncoder\n",
    "\n",
    "enc = OneHotEncoder()\n",
    "enc.fit(X_train[cat_var])\n",
    "X_train = enc.transform(X_train[cat_var])"
   ]
  },
  {
   "cell_type": "markdown",
   "id": "10b913ba",
   "metadata": {},
   "source": [
    "### Création du modèle de base"
   ]
  },
  {
   "cell_type": "code",
   "execution_count": 16,
   "id": "d0e52a88",
   "metadata": {
    "scrolled": true
   },
   "outputs": [
    {
     "data": {
      "text/html": [
       "<style>#sk-5966f4d0-41ee-40b4-a778-d3e67018c709 {color: black;background-color: white;}#sk-5966f4d0-41ee-40b4-a778-d3e67018c709 pre{padding: 0;}#sk-5966f4d0-41ee-40b4-a778-d3e67018c709 div.sk-toggleable {background-color: white;}#sk-5966f4d0-41ee-40b4-a778-d3e67018c709 label.sk-toggleable__label {cursor: pointer;display: block;width: 100%;margin-bottom: 0;padding: 0.2em 0.3em;box-sizing: border-box;text-align: center;}#sk-5966f4d0-41ee-40b4-a778-d3e67018c709 div.sk-toggleable__content {max-height: 0;max-width: 0;overflow: hidden;text-align: left;background-color: #f0f8ff;}#sk-5966f4d0-41ee-40b4-a778-d3e67018c709 div.sk-toggleable__content pre {margin: 0.2em;color: black;border-radius: 0.25em;background-color: #f0f8ff;}#sk-5966f4d0-41ee-40b4-a778-d3e67018c709 input.sk-toggleable__control:checked~div.sk-toggleable__content {max-height: 200px;max-width: 100%;overflow: auto;}#sk-5966f4d0-41ee-40b4-a778-d3e67018c709 div.sk-estimator input.sk-toggleable__control:checked~label.sk-toggleable__label {background-color: #d4ebff;}#sk-5966f4d0-41ee-40b4-a778-d3e67018c709 div.sk-label input.sk-toggleable__control:checked~label.sk-toggleable__label {background-color: #d4ebff;}#sk-5966f4d0-41ee-40b4-a778-d3e67018c709 input.sk-hidden--visually {border: 0;clip: rect(1px 1px 1px 1px);clip: rect(1px, 1px, 1px, 1px);height: 1px;margin: -1px;overflow: hidden;padding: 0;position: absolute;width: 1px;}#sk-5966f4d0-41ee-40b4-a778-d3e67018c709 div.sk-estimator {font-family: monospace;background-color: #f0f8ff;margin: 0.25em 0.25em;border: 1px dotted black;border-radius: 0.25em;box-sizing: border-box;}#sk-5966f4d0-41ee-40b4-a778-d3e67018c709 div.sk-estimator:hover {background-color: #d4ebff;}#sk-5966f4d0-41ee-40b4-a778-d3e67018c709 div.sk-parallel-item::after {content: \"\";width: 100%;border-bottom: 1px solid gray;flex-grow: 1;}#sk-5966f4d0-41ee-40b4-a778-d3e67018c709 div.sk-label:hover label.sk-toggleable__label {background-color: #d4ebff;}#sk-5966f4d0-41ee-40b4-a778-d3e67018c709 div.sk-serial::before {content: \"\";position: absolute;border-left: 1px solid gray;box-sizing: border-box;top: 2em;bottom: 0;left: 50%;}#sk-5966f4d0-41ee-40b4-a778-d3e67018c709 div.sk-serial {display: flex;flex-direction: column;align-items: center;background-color: white;}#sk-5966f4d0-41ee-40b4-a778-d3e67018c709 div.sk-item {z-index: 1;}#sk-5966f4d0-41ee-40b4-a778-d3e67018c709 div.sk-parallel {display: flex;align-items: stretch;justify-content: center;background-color: white;}#sk-5966f4d0-41ee-40b4-a778-d3e67018c709 div.sk-parallel-item {display: flex;flex-direction: column;position: relative;background-color: white;}#sk-5966f4d0-41ee-40b4-a778-d3e67018c709 div.sk-parallel-item:first-child::after {align-self: flex-end;width: 50%;}#sk-5966f4d0-41ee-40b4-a778-d3e67018c709 div.sk-parallel-item:last-child::after {align-self: flex-start;width: 50%;}#sk-5966f4d0-41ee-40b4-a778-d3e67018c709 div.sk-parallel-item:only-child::after {width: 0;}#sk-5966f4d0-41ee-40b4-a778-d3e67018c709 div.sk-dashed-wrapped {border: 1px dashed gray;margin: 0.2em;box-sizing: border-box;padding-bottom: 0.1em;background-color: white;position: relative;}#sk-5966f4d0-41ee-40b4-a778-d3e67018c709 div.sk-label label {font-family: monospace;font-weight: bold;background-color: white;display: inline-block;line-height: 1.2em;}#sk-5966f4d0-41ee-40b4-a778-d3e67018c709 div.sk-label-container {position: relative;z-index: 2;text-align: center;}#sk-5966f4d0-41ee-40b4-a778-d3e67018c709 div.sk-container {display: inline-block;position: relative;}</style><div id=\"sk-5966f4d0-41ee-40b4-a778-d3e67018c709\" class\"sk-top-container\"><div class=\"sk-container\"><div class=\"sk-item\"><div class=\"sk-estimator sk-toggleable\"><input class=\"sk-toggleable__control sk-hidden--visually\" id=\"58a5f53d-eb2c-4b33-8e5a-f84841e7aa98\" type=\"checkbox\" checked><label class=\"sk-toggleable__label\" for=\"58a5f53d-eb2c-4b33-8e5a-f84841e7aa98\">DummyRegressor</label><div class=\"sk-toggleable__content\"><pre>DummyRegressor(strategy='median')</pre></div></div></div></div></div>"
      ],
      "text/plain": [
       "DummyRegressor(strategy='median')"
      ]
     },
     "execution_count": 16,
     "metadata": {},
     "output_type": "execute_result"
    }
   ],
   "source": [
    "from sklearn.dummy import DummyRegressor\n",
    "\n",
    "dummy_reg = DummyRegressor(strategy=\"median\")\n",
    "dummy_reg.fit(X_train, y_train)"
   ]
  },
  {
   "cell_type": "markdown",
   "id": "72c1f17a",
   "metadata": {},
   "source": [
    "### Evaluation du modèle avec le jeu de test"
   ]
  },
  {
   "cell_type": "code",
   "execution_count": 17,
   "id": "7b4c88e6",
   "metadata": {},
   "outputs": [],
   "source": [
    "X_test[num_var] = imputer_num.transform(X_test[num_var])\n",
    "X_test[cat_var] = imputer_cat.transform(X_test[cat_var])"
   ]
  },
  {
   "cell_type": "code",
   "execution_count": 18,
   "id": "2f794ff1",
   "metadata": {},
   "outputs": [],
   "source": [
    "X_test = enc.transform(X_test[cat_var])"
   ]
  },
  {
   "cell_type": "code",
   "execution_count": 19,
   "id": "bc52fac1",
   "metadata": {},
   "outputs": [],
   "source": [
    "y_pred = dummy_reg.predict(X_test)"
   ]
  },
  {
   "cell_type": "code",
   "execution_count": 20,
   "id": "03a7536c",
   "metadata": {},
   "outputs": [
    {
     "name": "stdout",
     "output_type": "stream",
     "text": [
      "MAE : 1.04956\n",
      "MSE : 2.02761\n",
      "RMSE : 1.42394\n",
      "R² : -0.03431\n"
     ]
    }
   ],
   "source": [
    "regression_metrics(y_test, y_pred)"
   ]
  },
  {
   "cell_type": "markdown",
   "id": "feac23ce",
   "metadata": {},
   "source": [
    "## Choix du modèle le plus performant"
   ]
  },
  {
   "cell_type": "code",
   "execution_count": 21,
   "id": "02455ae4",
   "metadata": {},
   "outputs": [],
   "source": [
    "from sklearn.linear_model import Ridge, Lasso, LinearRegression\n",
    "from sklearn.tree import DecisionTreeRegressor\n",
    "from sklearn.svm import SVR\n",
    "from sklearn.kernel_ridge import KernelRidge\n",
    "from sklearn.ensemble import AdaBoostRegressor, BaggingRegressor, GradientBoostingRegressor, RandomForestRegressor\n",
    "import xgboost as xgb\n",
    "\n",
    "dummy_reg = DummyRegressor(strategy=\"median\")\n",
    "lin_reg = LinearRegression()\n",
    "ridge = Ridge(random_state=42)\n",
    "lasso = Lasso(random_state=42)\n",
    "dt_reg =  DecisionTreeRegressor(random_state=42)\n",
    "svm_reg = SVR()\n",
    "ridge_kernel = KernelRidge()\n",
    "adaboost = AdaBoostRegressor(random_state=42)\n",
    "bagging = BaggingRegressor(random_state=42)\n",
    "gdboost = GradientBoostingRegressor(random_state=42)\n",
    "rdmforest = RandomForestRegressor(random_state=42)\n",
    "xgboost = xgb.XGBRegressor(random_state=42)"
   ]
  },
  {
   "cell_type": "code",
   "execution_count": 22,
   "id": "fd956402",
   "metadata": {},
   "outputs": [
    {
     "data": {
      "text/html": [
       "<div>\n",
       "<style scoped>\n",
       "    .dataframe tbody tr th:only-of-type {\n",
       "        vertical-align: middle;\n",
       "    }\n",
       "\n",
       "    .dataframe tbody tr th {\n",
       "        vertical-align: top;\n",
       "    }\n",
       "\n",
       "    .dataframe thead th {\n",
       "        text-align: right;\n",
       "    }\n",
       "</style>\n",
       "<table border=\"1\" class=\"dataframe\">\n",
       "  <thead>\n",
       "    <tr style=\"text-align: right;\">\n",
       "      <th></th>\n",
       "      <th>Dummy Regressor</th>\n",
       "      <th>Linear Regression</th>\n",
       "      <th>Ridge</th>\n",
       "      <th>Lasso</th>\n",
       "      <th>DecisionTree</th>\n",
       "      <th>SVM</th>\n",
       "      <th>Ridge Kernel</th>\n",
       "      <th>AdaBoost</th>\n",
       "      <th>Bagging</th>\n",
       "      <th>GradientBoosting</th>\n",
       "      <th>Random Forest</th>\n",
       "      <th>XGBoost</th>\n",
       "    </tr>\n",
       "  </thead>\n",
       "  <tbody>\n",
       "    <tr>\n",
       "      <th>MAE</th>\n",
       "      <td>1.049557</td>\n",
       "      <td>0.881971</td>\n",
       "      <td>0.882088</td>\n",
       "      <td>1.044332</td>\n",
       "      <td>0.874902</td>\n",
       "      <td>0.856886</td>\n",
       "      <td>0.889525</td>\n",
       "      <td>1.133803</td>\n",
       "      <td>0.874927</td>\n",
       "      <td>0.866702</td>\n",
       "      <td>0.875727</td>\n",
       "      <td>0.873936</td>\n",
       "    </tr>\n",
       "    <tr>\n",
       "      <th>MSE</th>\n",
       "      <td>2.027613</td>\n",
       "      <td>1.535382</td>\n",
       "      <td>1.534531</td>\n",
       "      <td>1.974720</td>\n",
       "      <td>1.463919</td>\n",
       "      <td>1.486527</td>\n",
       "      <td>1.544304</td>\n",
       "      <td>2.324560</td>\n",
       "      <td>1.453389</td>\n",
       "      <td>1.472891</td>\n",
       "      <td>1.457998</td>\n",
       "      <td>1.461424</td>\n",
       "    </tr>\n",
       "    <tr>\n",
       "      <th>RMSE</th>\n",
       "      <td>1.423943</td>\n",
       "      <td>1.239105</td>\n",
       "      <td>1.238762</td>\n",
       "      <td>1.405247</td>\n",
       "      <td>1.209925</td>\n",
       "      <td>1.219232</td>\n",
       "      <td>1.242700</td>\n",
       "      <td>1.524651</td>\n",
       "      <td>1.205566</td>\n",
       "      <td>1.213627</td>\n",
       "      <td>1.207476</td>\n",
       "      <td>1.208894</td>\n",
       "    </tr>\n",
       "    <tr>\n",
       "      <th>R²</th>\n",
       "      <td>-0.034307</td>\n",
       "      <td>0.216786</td>\n",
       "      <td>0.217220</td>\n",
       "      <td>-0.007326</td>\n",
       "      <td>0.253240</td>\n",
       "      <td>0.241707</td>\n",
       "      <td>0.212234</td>\n",
       "      <td>-0.185782</td>\n",
       "      <td>0.258611</td>\n",
       "      <td>0.248663</td>\n",
       "      <td>0.256260</td>\n",
       "      <td>0.254512</td>\n",
       "    </tr>\n",
       "  </tbody>\n",
       "</table>\n",
       "</div>"
      ],
      "text/plain": [
       "      Dummy Regressor  Linear Regression     Ridge     Lasso  DecisionTree  \\\n",
       "MAE          1.049557           0.881971  0.882088  1.044332      0.874902   \n",
       "MSE          2.027613           1.535382  1.534531  1.974720      1.463919   \n",
       "RMSE         1.423943           1.239105  1.238762  1.405247      1.209925   \n",
       "R²          -0.034307           0.216786  0.217220 -0.007326      0.253240   \n",
       "\n",
       "           SVM  Ridge Kernel  AdaBoost   Bagging  GradientBoosting  \\\n",
       "MAE   0.856886      0.889525  1.133803  0.874927          0.866702   \n",
       "MSE   1.486527      1.544304  2.324560  1.453389          1.472891   \n",
       "RMSE  1.219232      1.242700  1.524651  1.205566          1.213627   \n",
       "R²    0.241707      0.212234 -0.185782  0.258611          0.248663   \n",
       "\n",
       "      Random Forest   XGBoost  \n",
       "MAE        0.875727  0.873936  \n",
       "MSE        1.457998  1.461424  \n",
       "RMSE       1.207476  1.208894  \n",
       "R²         0.256260  0.254512  "
      ]
     },
     "execution_count": 22,
     "metadata": {},
     "output_type": "execute_result"
    }
   ],
   "source": [
    "model = [dummy_reg, lin_reg, ridge, lasso, dt_reg, svm_reg, ridge_kernel, adaboost, bagging, gdboost, rdmforest, xgboost]\n",
    "dict_model = {}\n",
    "\n",
    "for model in model:\n",
    "    model.fit(X_train, y_train)\n",
    "    y_pred = model.predict(X_test)\n",
    "    mae = mean_absolute_error(y_test, y_pred)\n",
    "    mse = mean_squared_error(y_test, y_pred)\n",
    "    rmse = mse ** (1/2)\n",
    "    r_score = r2_score(y_test, y_pred)\n",
    "    dict_model[model] = (mae, mse, rmse, r_score)\n",
    "\n",
    "eval_model = pd.DataFrame(dict_model, index=[\"MAE\", \"MSE\", \"RMSE\", \"R²\"])\n",
    "eval_model.columns = [\"Dummy Regressor\", \"Linear Regression\", \"Ridge\", \"Lasso\", \"DecisionTree\", \"SVM\", \"Ridge Kernel\",\n",
    "                      \"AdaBoost\", \"Bagging\", \"GradientBoosting\", \"Random Forest\", \"XGBoost\"]\n",
    "\n",
    "eval_model"
   ]
  },
  {
   "cell_type": "markdown",
   "id": "8ccbe2b6",
   "metadata": {},
   "source": [
    "**Choix du modèle :** RandomForest"
   ]
  },
  {
   "cell_type": "markdown",
   "id": "6002ae1c",
   "metadata": {},
   "source": [
    "## Choix des hyperparamètres"
   ]
  },
  {
   "cell_type": "code",
   "execution_count": 23,
   "id": "09f061c3",
   "metadata": {},
   "outputs": [],
   "source": [
    "forest_reg = RandomForestRegressor(random_state=42)"
   ]
  },
  {
   "cell_type": "code",
   "execution_count": 24,
   "id": "07d89014",
   "metadata": {},
   "outputs": [
    {
     "data": {
      "text/html": [
       "<style>#sk-1271e5ee-c6b6-4a20-8a54-16cc8785068f {color: black;background-color: white;}#sk-1271e5ee-c6b6-4a20-8a54-16cc8785068f pre{padding: 0;}#sk-1271e5ee-c6b6-4a20-8a54-16cc8785068f div.sk-toggleable {background-color: white;}#sk-1271e5ee-c6b6-4a20-8a54-16cc8785068f label.sk-toggleable__label {cursor: pointer;display: block;width: 100%;margin-bottom: 0;padding: 0.2em 0.3em;box-sizing: border-box;text-align: center;}#sk-1271e5ee-c6b6-4a20-8a54-16cc8785068f div.sk-toggleable__content {max-height: 0;max-width: 0;overflow: hidden;text-align: left;background-color: #f0f8ff;}#sk-1271e5ee-c6b6-4a20-8a54-16cc8785068f div.sk-toggleable__content pre {margin: 0.2em;color: black;border-radius: 0.25em;background-color: #f0f8ff;}#sk-1271e5ee-c6b6-4a20-8a54-16cc8785068f input.sk-toggleable__control:checked~div.sk-toggleable__content {max-height: 200px;max-width: 100%;overflow: auto;}#sk-1271e5ee-c6b6-4a20-8a54-16cc8785068f div.sk-estimator input.sk-toggleable__control:checked~label.sk-toggleable__label {background-color: #d4ebff;}#sk-1271e5ee-c6b6-4a20-8a54-16cc8785068f div.sk-label input.sk-toggleable__control:checked~label.sk-toggleable__label {background-color: #d4ebff;}#sk-1271e5ee-c6b6-4a20-8a54-16cc8785068f input.sk-hidden--visually {border: 0;clip: rect(1px 1px 1px 1px);clip: rect(1px, 1px, 1px, 1px);height: 1px;margin: -1px;overflow: hidden;padding: 0;position: absolute;width: 1px;}#sk-1271e5ee-c6b6-4a20-8a54-16cc8785068f div.sk-estimator {font-family: monospace;background-color: #f0f8ff;margin: 0.25em 0.25em;border: 1px dotted black;border-radius: 0.25em;box-sizing: border-box;}#sk-1271e5ee-c6b6-4a20-8a54-16cc8785068f div.sk-estimator:hover {background-color: #d4ebff;}#sk-1271e5ee-c6b6-4a20-8a54-16cc8785068f div.sk-parallel-item::after {content: \"\";width: 100%;border-bottom: 1px solid gray;flex-grow: 1;}#sk-1271e5ee-c6b6-4a20-8a54-16cc8785068f div.sk-label:hover label.sk-toggleable__label {background-color: #d4ebff;}#sk-1271e5ee-c6b6-4a20-8a54-16cc8785068f div.sk-serial::before {content: \"\";position: absolute;border-left: 1px solid gray;box-sizing: border-box;top: 2em;bottom: 0;left: 50%;}#sk-1271e5ee-c6b6-4a20-8a54-16cc8785068f div.sk-serial {display: flex;flex-direction: column;align-items: center;background-color: white;}#sk-1271e5ee-c6b6-4a20-8a54-16cc8785068f div.sk-item {z-index: 1;}#sk-1271e5ee-c6b6-4a20-8a54-16cc8785068f div.sk-parallel {display: flex;align-items: stretch;justify-content: center;background-color: white;}#sk-1271e5ee-c6b6-4a20-8a54-16cc8785068f div.sk-parallel-item {display: flex;flex-direction: column;position: relative;background-color: white;}#sk-1271e5ee-c6b6-4a20-8a54-16cc8785068f div.sk-parallel-item:first-child::after {align-self: flex-end;width: 50%;}#sk-1271e5ee-c6b6-4a20-8a54-16cc8785068f div.sk-parallel-item:last-child::after {align-self: flex-start;width: 50%;}#sk-1271e5ee-c6b6-4a20-8a54-16cc8785068f div.sk-parallel-item:only-child::after {width: 0;}#sk-1271e5ee-c6b6-4a20-8a54-16cc8785068f div.sk-dashed-wrapped {border: 1px dashed gray;margin: 0.2em;box-sizing: border-box;padding-bottom: 0.1em;background-color: white;position: relative;}#sk-1271e5ee-c6b6-4a20-8a54-16cc8785068f div.sk-label label {font-family: monospace;font-weight: bold;background-color: white;display: inline-block;line-height: 1.2em;}#sk-1271e5ee-c6b6-4a20-8a54-16cc8785068f div.sk-label-container {position: relative;z-index: 2;text-align: center;}#sk-1271e5ee-c6b6-4a20-8a54-16cc8785068f div.sk-container {display: inline-block;position: relative;}</style><div id=\"sk-1271e5ee-c6b6-4a20-8a54-16cc8785068f\" class\"sk-top-container\"><div class=\"sk-container\"><div class=\"sk-item sk-dashed-wrapped\"><div class=\"sk-label-container\"><div class=\"sk-label sk-toggleable\"><input class=\"sk-toggleable__control sk-hidden--visually\" id=\"9d0c685e-6db8-4509-93e0-a77f8e2edfdd\" type=\"checkbox\" ><label class=\"sk-toggleable__label\" for=\"9d0c685e-6db8-4509-93e0-a77f8e2edfdd\">RandomizedSearchCV</label><div class=\"sk-toggleable__content\"><pre>RandomizedSearchCV(cv=5, estimator=RandomForestRegressor(random_state=42),\n",
       "                   param_distributions={'max_features': <scipy.stats._distn_infrastructure.rv_frozen object at 0x0000016B552FCDF0>,\n",
       "                                        'n_estimators': <scipy.stats._distn_infrastructure.rv_frozen object at 0x0000016B555FC490>},\n",
       "                   random_state=42, scoring='neg_mean_squared_error')</pre></div></div></div><div class=\"sk-parallel\"><div class=\"sk-parallel-item\"><div class=\"sk-item\"><div class=\"sk-serial\"><div class=\"sk-item\"><div class=\"sk-estimator sk-toggleable\"><input class=\"sk-toggleable__control sk-hidden--visually\" id=\"25e9708a-6ba7-4108-8204-c98caf903ab9\" type=\"checkbox\" ><label class=\"sk-toggleable__label\" for=\"25e9708a-6ba7-4108-8204-c98caf903ab9\">RandomForestRegressor</label><div class=\"sk-toggleable__content\"><pre>RandomForestRegressor(random_state=42)</pre></div></div></div></div></div></div></div></div></div></div>"
      ],
      "text/plain": [
       "RandomizedSearchCV(cv=5, estimator=RandomForestRegressor(random_state=42),\n",
       "                   param_distributions={'max_features': <scipy.stats._distn_infrastructure.rv_frozen object at 0x0000016B552FCDF0>,\n",
       "                                        'n_estimators': <scipy.stats._distn_infrastructure.rv_frozen object at 0x0000016B555FC490>},\n",
       "                   random_state=42, scoring='neg_mean_squared_error')"
      ]
     },
     "execution_count": 24,
     "metadata": {},
     "output_type": "execute_result"
    }
   ],
   "source": [
    "from sklearn.model_selection import RandomizedSearchCV\n",
    "from scipy.stats import randint\n",
    "\n",
    "param_distribs = {\n",
    "        'n_estimators': randint(low=1, high=500),\n",
    "        'max_features': randint(low=1, high=6),\n",
    "    }\n",
    "\n",
    "random_search = RandomizedSearchCV(forest_reg, param_distributions=param_distribs,\n",
    "                             n_iter=10, cv=5, scoring='neg_mean_squared_error', random_state=42)\n",
    "random_search.fit(X_train, y_train)"
   ]
  },
  {
   "cell_type": "code",
   "execution_count": 25,
   "id": "440cf50d",
   "metadata": {},
   "outputs": [
    {
     "name": "stdout",
     "output_type": "stream",
     "text": [
      "1.3174544361602065 {'max_features': 4, 'n_estimators': 349}\n",
      "1.3168536906482322 {'max_features': 3, 'n_estimators': 72}\n",
      "1.3175000008929365 {'max_features': 5, 'n_estimators': 21}\n",
      "1.317931193530902 {'max_features': 2, 'n_estimators': 467}\n",
      "1.31770683936195 {'max_features': 3, 'n_estimators': 459}\n",
      "1.3163801332336158 {'max_features': 5, 'n_estimators': 100}\n",
      "1.3167304080880127 {'max_features': 3, 'n_estimators': 150}\n",
      "1.317276979516911 {'max_features': 5, 'n_estimators': 258}\n",
      "1.3178607787980094 {'max_features': 4, 'n_estimators': 414}\n",
      "1.318314460550182 {'max_features': 2, 'n_estimators': 192}\n"
     ]
    }
   ],
   "source": [
    "cvres = random_search.cv_results_\n",
    "for mean_score, params in zip(cvres[\"mean_test_score\"], cvres[\"params\"]):\n",
    "    print(np.sqrt(-mean_score), params)"
   ]
  },
  {
   "cell_type": "code",
   "execution_count": 26,
   "id": "a3774fef",
   "metadata": {},
   "outputs": [
    {
     "data": {
      "text/html": [
       "<style>#sk-d9c96b3d-ea48-4bab-b299-8e56fbd4a14f {color: black;background-color: white;}#sk-d9c96b3d-ea48-4bab-b299-8e56fbd4a14f pre{padding: 0;}#sk-d9c96b3d-ea48-4bab-b299-8e56fbd4a14f div.sk-toggleable {background-color: white;}#sk-d9c96b3d-ea48-4bab-b299-8e56fbd4a14f label.sk-toggleable__label {cursor: pointer;display: block;width: 100%;margin-bottom: 0;padding: 0.2em 0.3em;box-sizing: border-box;text-align: center;}#sk-d9c96b3d-ea48-4bab-b299-8e56fbd4a14f div.sk-toggleable__content {max-height: 0;max-width: 0;overflow: hidden;text-align: left;background-color: #f0f8ff;}#sk-d9c96b3d-ea48-4bab-b299-8e56fbd4a14f div.sk-toggleable__content pre {margin: 0.2em;color: black;border-radius: 0.25em;background-color: #f0f8ff;}#sk-d9c96b3d-ea48-4bab-b299-8e56fbd4a14f input.sk-toggleable__control:checked~div.sk-toggleable__content {max-height: 200px;max-width: 100%;overflow: auto;}#sk-d9c96b3d-ea48-4bab-b299-8e56fbd4a14f div.sk-estimator input.sk-toggleable__control:checked~label.sk-toggleable__label {background-color: #d4ebff;}#sk-d9c96b3d-ea48-4bab-b299-8e56fbd4a14f div.sk-label input.sk-toggleable__control:checked~label.sk-toggleable__label {background-color: #d4ebff;}#sk-d9c96b3d-ea48-4bab-b299-8e56fbd4a14f input.sk-hidden--visually {border: 0;clip: rect(1px 1px 1px 1px);clip: rect(1px, 1px, 1px, 1px);height: 1px;margin: -1px;overflow: hidden;padding: 0;position: absolute;width: 1px;}#sk-d9c96b3d-ea48-4bab-b299-8e56fbd4a14f div.sk-estimator {font-family: monospace;background-color: #f0f8ff;margin: 0.25em 0.25em;border: 1px dotted black;border-radius: 0.25em;box-sizing: border-box;}#sk-d9c96b3d-ea48-4bab-b299-8e56fbd4a14f div.sk-estimator:hover {background-color: #d4ebff;}#sk-d9c96b3d-ea48-4bab-b299-8e56fbd4a14f div.sk-parallel-item::after {content: \"\";width: 100%;border-bottom: 1px solid gray;flex-grow: 1;}#sk-d9c96b3d-ea48-4bab-b299-8e56fbd4a14f div.sk-label:hover label.sk-toggleable__label {background-color: #d4ebff;}#sk-d9c96b3d-ea48-4bab-b299-8e56fbd4a14f div.sk-serial::before {content: \"\";position: absolute;border-left: 1px solid gray;box-sizing: border-box;top: 2em;bottom: 0;left: 50%;}#sk-d9c96b3d-ea48-4bab-b299-8e56fbd4a14f div.sk-serial {display: flex;flex-direction: column;align-items: center;background-color: white;}#sk-d9c96b3d-ea48-4bab-b299-8e56fbd4a14f div.sk-item {z-index: 1;}#sk-d9c96b3d-ea48-4bab-b299-8e56fbd4a14f div.sk-parallel {display: flex;align-items: stretch;justify-content: center;background-color: white;}#sk-d9c96b3d-ea48-4bab-b299-8e56fbd4a14f div.sk-parallel-item {display: flex;flex-direction: column;position: relative;background-color: white;}#sk-d9c96b3d-ea48-4bab-b299-8e56fbd4a14f div.sk-parallel-item:first-child::after {align-self: flex-end;width: 50%;}#sk-d9c96b3d-ea48-4bab-b299-8e56fbd4a14f div.sk-parallel-item:last-child::after {align-self: flex-start;width: 50%;}#sk-d9c96b3d-ea48-4bab-b299-8e56fbd4a14f div.sk-parallel-item:only-child::after {width: 0;}#sk-d9c96b3d-ea48-4bab-b299-8e56fbd4a14f div.sk-dashed-wrapped {border: 1px dashed gray;margin: 0.2em;box-sizing: border-box;padding-bottom: 0.1em;background-color: white;position: relative;}#sk-d9c96b3d-ea48-4bab-b299-8e56fbd4a14f div.sk-label label {font-family: monospace;font-weight: bold;background-color: white;display: inline-block;line-height: 1.2em;}#sk-d9c96b3d-ea48-4bab-b299-8e56fbd4a14f div.sk-label-container {position: relative;z-index: 2;text-align: center;}#sk-d9c96b3d-ea48-4bab-b299-8e56fbd4a14f div.sk-container {display: inline-block;position: relative;}</style><div id=\"sk-d9c96b3d-ea48-4bab-b299-8e56fbd4a14f\" class\"sk-top-container\"><div class=\"sk-container\"><div class=\"sk-item sk-dashed-wrapped\"><div class=\"sk-label-container\"><div class=\"sk-label sk-toggleable\"><input class=\"sk-toggleable__control sk-hidden--visually\" id=\"7521302a-7fe8-479b-a32d-731574a06e07\" type=\"checkbox\" ><label class=\"sk-toggleable__label\" for=\"7521302a-7fe8-479b-a32d-731574a06e07\">GridSearchCV</label><div class=\"sk-toggleable__content\"><pre>GridSearchCV(cv=5, estimator=RandomForestRegressor(random_state=42),\n",
       "             param_grid=[{'max_features': [3, 5],\n",
       "                          'n_estimators': [90, 100, 110, 120, 130, 140, 150]}],\n",
       "             scoring='neg_mean_squared_error')</pre></div></div></div><div class=\"sk-parallel\"><div class=\"sk-parallel-item\"><div class=\"sk-item\"><div class=\"sk-serial\"><div class=\"sk-item\"><div class=\"sk-estimator sk-toggleable\"><input class=\"sk-toggleable__control sk-hidden--visually\" id=\"7dde3845-fbaf-4953-b8d3-e1eef884e8aa\" type=\"checkbox\" ><label class=\"sk-toggleable__label\" for=\"7dde3845-fbaf-4953-b8d3-e1eef884e8aa\">RandomForestRegressor</label><div class=\"sk-toggleable__content\"><pre>RandomForestRegressor(random_state=42)</pre></div></div></div></div></div></div></div></div></div></div>"
      ],
      "text/plain": [
       "GridSearchCV(cv=5, estimator=RandomForestRegressor(random_state=42),\n",
       "             param_grid=[{'max_features': [3, 5],\n",
       "                          'n_estimators': [90, 100, 110, 120, 130, 140, 150]}],\n",
       "             scoring='neg_mean_squared_error')"
      ]
     },
     "execution_count": 26,
     "metadata": {},
     "output_type": "execute_result"
    }
   ],
   "source": [
    "from sklearn.model_selection import GridSearchCV\n",
    "\n",
    "params = [{'n_estimators' : [90, 100, 110, 120, 130, 140, 150],\n",
    "           'max_features' : [3, 5]}]\n",
    "\n",
    "grid_search = GridSearchCV(forest_reg, params, cv=5,\n",
    "                           scoring='neg_mean_squared_error')\n",
    "\n",
    "grid_search.fit(X_train, y_train)"
   ]
  },
  {
   "cell_type": "code",
   "execution_count": 27,
   "id": "6c4f486a",
   "metadata": {},
   "outputs": [
    {
     "data": {
      "text/plain": [
       "{'max_features': 3, 'n_estimators': 130}"
      ]
     },
     "execution_count": 27,
     "metadata": {},
     "output_type": "execute_result"
    }
   ],
   "source": [
    "grid_search.best_params_"
   ]
  },
  {
   "cell_type": "code",
   "execution_count": 28,
   "id": "46de431f",
   "metadata": {},
   "outputs": [
    {
     "data": {
      "text/html": [
       "<style>#sk-f2901aea-ffaf-4ca7-ab4d-9a0845b87c62 {color: black;background-color: white;}#sk-f2901aea-ffaf-4ca7-ab4d-9a0845b87c62 pre{padding: 0;}#sk-f2901aea-ffaf-4ca7-ab4d-9a0845b87c62 div.sk-toggleable {background-color: white;}#sk-f2901aea-ffaf-4ca7-ab4d-9a0845b87c62 label.sk-toggleable__label {cursor: pointer;display: block;width: 100%;margin-bottom: 0;padding: 0.2em 0.3em;box-sizing: border-box;text-align: center;}#sk-f2901aea-ffaf-4ca7-ab4d-9a0845b87c62 div.sk-toggleable__content {max-height: 0;max-width: 0;overflow: hidden;text-align: left;background-color: #f0f8ff;}#sk-f2901aea-ffaf-4ca7-ab4d-9a0845b87c62 div.sk-toggleable__content pre {margin: 0.2em;color: black;border-radius: 0.25em;background-color: #f0f8ff;}#sk-f2901aea-ffaf-4ca7-ab4d-9a0845b87c62 input.sk-toggleable__control:checked~div.sk-toggleable__content {max-height: 200px;max-width: 100%;overflow: auto;}#sk-f2901aea-ffaf-4ca7-ab4d-9a0845b87c62 div.sk-estimator input.sk-toggleable__control:checked~label.sk-toggleable__label {background-color: #d4ebff;}#sk-f2901aea-ffaf-4ca7-ab4d-9a0845b87c62 div.sk-label input.sk-toggleable__control:checked~label.sk-toggleable__label {background-color: #d4ebff;}#sk-f2901aea-ffaf-4ca7-ab4d-9a0845b87c62 input.sk-hidden--visually {border: 0;clip: rect(1px 1px 1px 1px);clip: rect(1px, 1px, 1px, 1px);height: 1px;margin: -1px;overflow: hidden;padding: 0;position: absolute;width: 1px;}#sk-f2901aea-ffaf-4ca7-ab4d-9a0845b87c62 div.sk-estimator {font-family: monospace;background-color: #f0f8ff;margin: 0.25em 0.25em;border: 1px dotted black;border-radius: 0.25em;box-sizing: border-box;}#sk-f2901aea-ffaf-4ca7-ab4d-9a0845b87c62 div.sk-estimator:hover {background-color: #d4ebff;}#sk-f2901aea-ffaf-4ca7-ab4d-9a0845b87c62 div.sk-parallel-item::after {content: \"\";width: 100%;border-bottom: 1px solid gray;flex-grow: 1;}#sk-f2901aea-ffaf-4ca7-ab4d-9a0845b87c62 div.sk-label:hover label.sk-toggleable__label {background-color: #d4ebff;}#sk-f2901aea-ffaf-4ca7-ab4d-9a0845b87c62 div.sk-serial::before {content: \"\";position: absolute;border-left: 1px solid gray;box-sizing: border-box;top: 2em;bottom: 0;left: 50%;}#sk-f2901aea-ffaf-4ca7-ab4d-9a0845b87c62 div.sk-serial {display: flex;flex-direction: column;align-items: center;background-color: white;}#sk-f2901aea-ffaf-4ca7-ab4d-9a0845b87c62 div.sk-item {z-index: 1;}#sk-f2901aea-ffaf-4ca7-ab4d-9a0845b87c62 div.sk-parallel {display: flex;align-items: stretch;justify-content: center;background-color: white;}#sk-f2901aea-ffaf-4ca7-ab4d-9a0845b87c62 div.sk-parallel-item {display: flex;flex-direction: column;position: relative;background-color: white;}#sk-f2901aea-ffaf-4ca7-ab4d-9a0845b87c62 div.sk-parallel-item:first-child::after {align-self: flex-end;width: 50%;}#sk-f2901aea-ffaf-4ca7-ab4d-9a0845b87c62 div.sk-parallel-item:last-child::after {align-self: flex-start;width: 50%;}#sk-f2901aea-ffaf-4ca7-ab4d-9a0845b87c62 div.sk-parallel-item:only-child::after {width: 0;}#sk-f2901aea-ffaf-4ca7-ab4d-9a0845b87c62 div.sk-dashed-wrapped {border: 1px dashed gray;margin: 0.2em;box-sizing: border-box;padding-bottom: 0.1em;background-color: white;position: relative;}#sk-f2901aea-ffaf-4ca7-ab4d-9a0845b87c62 div.sk-label label {font-family: monospace;font-weight: bold;background-color: white;display: inline-block;line-height: 1.2em;}#sk-f2901aea-ffaf-4ca7-ab4d-9a0845b87c62 div.sk-label-container {position: relative;z-index: 2;text-align: center;}#sk-f2901aea-ffaf-4ca7-ab4d-9a0845b87c62 div.sk-container {display: inline-block;position: relative;}</style><div id=\"sk-f2901aea-ffaf-4ca7-ab4d-9a0845b87c62\" class\"sk-top-container\"><div class=\"sk-container\"><div class=\"sk-item\"><div class=\"sk-estimator sk-toggleable\"><input class=\"sk-toggleable__control sk-hidden--visually\" id=\"f9364540-5c97-4105-8a06-18a0cc775664\" type=\"checkbox\" checked><label class=\"sk-toggleable__label\" for=\"f9364540-5c97-4105-8a06-18a0cc775664\">RandomForestRegressor</label><div class=\"sk-toggleable__content\"><pre>RandomForestRegressor(max_features=3, n_estimators=130, random_state=42)</pre></div></div></div></div></div>"
      ],
      "text/plain": [
       "RandomForestRegressor(max_features=3, n_estimators=130, random_state=42)"
      ]
     },
     "execution_count": 28,
     "metadata": {},
     "output_type": "execute_result"
    }
   ],
   "source": [
    "grid_search.best_estimator_"
   ]
  },
  {
   "cell_type": "markdown",
   "id": "22d06608",
   "metadata": {},
   "source": [
    "## Analyse des erreurs du modèle"
   ]
  },
  {
   "cell_type": "code",
   "execution_count": 29,
   "id": "339588cf",
   "metadata": {},
   "outputs": [],
   "source": [
    "final_model = grid_search.best_estimator_"
   ]
  },
  {
   "cell_type": "code",
   "execution_count": 30,
   "id": "19dc139e",
   "metadata": {},
   "outputs": [],
   "source": [
    "final_predictions = final_model.predict(X_test)"
   ]
  },
  {
   "cell_type": "code",
   "execution_count": 31,
   "id": "1edfbc6c",
   "metadata": {},
   "outputs": [
    {
     "name": "stdout",
     "output_type": "stream",
     "text": [
      "MAE : 0.87697\n",
      "MSE : 1.45851\n",
      "RMSE : 1.20769\n",
      "R² : 0.256\n"
     ]
    }
   ],
   "source": [
    "regression_metrics(y_test, final_predictions)"
   ]
  },
  {
   "cell_type": "code",
   "execution_count": 32,
   "id": "42f6a05a",
   "metadata": {},
   "outputs": [
    {
     "data": {
      "image/png": "[encoded data removed]",
      "text/plain": [
       "<Figure size 576x396 with 2 Axes>"
      ]
     },
     "metadata": {},
     "output_type": "display_data"
    }
   ],
   "source": [
    "visualizer = ResidualsPlot(final_model)\n",
    "visualizer.fit(X_train, y_train.reshape(2624,))\n",
    "visualizer.score(X_test, y_test.reshape(657,))\n",
    "visualizer.show();"
   ]
  },
  {
   "cell_type": "code",
   "execution_count": 33,
   "id": "eae225cd",
   "metadata": {},
   "outputs": [
    {
     "data": {
      "image/png": "[encoded data removed]",
      "text/plain": [
       "<Figure size 576x396 with 1 Axes>"
      ]
     },
     "metadata": {},
     "output_type": "display_data"
    }
   ],
   "source": [
    "visualizer = prediction_error(final_model, X_train, y_train, X_test, y_test);"
   ]
  },
  {
   "cell_type": "markdown",
   "id": "95d693ae",
   "metadata": {},
   "source": [
    "## Pipeline du modèle pour l'estimation de la consommation d'énergie"
   ]
  },
  {
   "cell_type": "markdown",
   "id": "00d4d8f6",
   "metadata": {},
   "source": [
    "from sklearn.pipeline import Pipeline\n",
    "from sklearn.compose import ColumnTransformer\n",
    "\n",
    "num_variables = list(num_var)\n",
    "cat_variables = list(cat_var)\n",
    "\n",
    "full_transformer = ColumnTransformer([\n",
    "    (\"num\", SimpleImputer(strategy=\"median\"), StandardScaler(), num_variables),\n",
    "    (\"cat\", SimpleImputer(strategy=\"most_frequent\"), OneHotEncoder(), cat_variables),\n",
    "])\n",
    "\n",
    "full_pipeline_with_model = Pipeline([\n",
    "    (\"preprocessing\", full_transformer),\n",
    "    (\"modeling\", RandomForestRegressor(max_features=3, n_estimators=130, random_state=42))\n",
    "])\n",
    "\n",
    "full_pipeline_with_model.fit(X_train, y_train)"
   ]
  },
  {
   "cell_type": "markdown",
   "id": "16790d6e",
   "metadata": {},
   "source": [
    "# Prédiction des émissions de CO2"
   ]
  },
  {
   "cell_type": "markdown",
   "id": "59098a09",
   "metadata": {},
   "source": [
    "## Préparation des variables"
   ]
  },
  {
   "cell_type": "code",
   "execution_count": 34,
   "id": "ae17c905",
   "metadata": {},
   "outputs": [],
   "source": [
    "X_train, X_test, y_train, y_test = train_test_split(X, y_ghg, test_size=0.2, random_state=42)\n",
    "y_train = y_train.reshape(-1,1)\n",
    "y_test = y_test.reshape(-1,1)"
   ]
  },
  {
   "cell_type": "code",
   "execution_count": 35,
   "id": "04acf6f0",
   "metadata": {},
   "outputs": [
    {
     "data": {
      "text/html": [
       "<style>#sk-4c6dcef3-fb5f-496d-8276-0c4af40c34f3 {color: black;background-color: white;}#sk-4c6dcef3-fb5f-496d-8276-0c4af40c34f3 pre{padding: 0;}#sk-4c6dcef3-fb5f-496d-8276-0c4af40c34f3 div.sk-toggleable {background-color: white;}#sk-4c6dcef3-fb5f-496d-8276-0c4af40c34f3 label.sk-toggleable__label {cursor: pointer;display: block;width: 100%;margin-bottom: 0;padding: 0.2em 0.3em;box-sizing: border-box;text-align: center;}#sk-4c6dcef3-fb5f-496d-8276-0c4af40c34f3 div.sk-toggleable__content {max-height: 0;max-width: 0;overflow: hidden;text-align: left;background-color: #f0f8ff;}#sk-4c6dcef3-fb5f-496d-8276-0c4af40c34f3 div.sk-toggleable__content pre {margin: 0.2em;color: black;border-radius: 0.25em;background-color: #f0f8ff;}#sk-4c6dcef3-fb5f-496d-8276-0c4af40c34f3 input.sk-toggleable__control:checked~div.sk-toggleable__content {max-height: 200px;max-width: 100%;overflow: auto;}#sk-4c6dcef3-fb5f-496d-8276-0c4af40c34f3 div.sk-estimator input.sk-toggleable__control:checked~label.sk-toggleable__label {background-color: #d4ebff;}#sk-4c6dcef3-fb5f-496d-8276-0c4af40c34f3 div.sk-label input.sk-toggleable__control:checked~label.sk-toggleable__label {background-color: #d4ebff;}#sk-4c6dcef3-fb5f-496d-8276-0c4af40c34f3 input.sk-hidden--visually {border: 0;clip: rect(1px 1px 1px 1px);clip: rect(1px, 1px, 1px, 1px);height: 1px;margin: -1px;overflow: hidden;padding: 0;position: absolute;width: 1px;}#sk-4c6dcef3-fb5f-496d-8276-0c4af40c34f3 div.sk-estimator {font-family: monospace;background-color: #f0f8ff;margin: 0.25em 0.25em;border: 1px dotted black;border-radius: 0.25em;box-sizing: border-box;}#sk-4c6dcef3-fb5f-496d-8276-0c4af40c34f3 div.sk-estimator:hover {background-color: #d4ebff;}#sk-4c6dcef3-fb5f-496d-8276-0c4af40c34f3 div.sk-parallel-item::after {content: \"\";width: 100%;border-bottom: 1px solid gray;flex-grow: 1;}#sk-4c6dcef3-fb5f-496d-8276-0c4af40c34f3 div.sk-label:hover label.sk-toggleable__label {background-color: #d4ebff;}#sk-4c6dcef3-fb5f-496d-8276-0c4af40c34f3 div.sk-serial::before {content: \"\";position: absolute;border-left: 1px solid gray;box-sizing: border-box;top: 2em;bottom: 0;left: 50%;}#sk-4c6dcef3-fb5f-496d-8276-0c4af40c34f3 div.sk-serial {display: flex;flex-direction: column;align-items: center;background-color: white;}#sk-4c6dcef3-fb5f-496d-8276-0c4af40c34f3 div.sk-item {z-index: 1;}#sk-4c6dcef3-fb5f-496d-8276-0c4af40c34f3 div.sk-parallel {display: flex;align-items: stretch;justify-content: center;background-color: white;}#sk-4c6dcef3-fb5f-496d-8276-0c4af40c34f3 div.sk-parallel-item {display: flex;flex-direction: column;position: relative;background-color: white;}#sk-4c6dcef3-fb5f-496d-8276-0c4af40c34f3 div.sk-parallel-item:first-child::after {align-self: flex-end;width: 50%;}#sk-4c6dcef3-fb5f-496d-8276-0c4af40c34f3 div.sk-parallel-item:last-child::after {align-self: flex-start;width: 50%;}#sk-4c6dcef3-fb5f-496d-8276-0c4af40c34f3 div.sk-parallel-item:only-child::after {width: 0;}#sk-4c6dcef3-fb5f-496d-8276-0c4af40c34f3 div.sk-dashed-wrapped {border: 1px dashed gray;margin: 0.2em;box-sizing: border-box;padding-bottom: 0.1em;background-color: white;position: relative;}#sk-4c6dcef3-fb5f-496d-8276-0c4af40c34f3 div.sk-label label {font-family: monospace;font-weight: bold;background-color: white;display: inline-block;line-height: 1.2em;}#sk-4c6dcef3-fb5f-496d-8276-0c4af40c34f3 div.sk-label-container {position: relative;z-index: 2;text-align: center;}#sk-4c6dcef3-fb5f-496d-8276-0c4af40c34f3 div.sk-container {display: inline-block;position: relative;}</style><div id=\"sk-4c6dcef3-fb5f-496d-8276-0c4af40c34f3\" class\"sk-top-container\"><div class=\"sk-container\"><div class=\"sk-item\"><div class=\"sk-estimator sk-toggleable\"><input class=\"sk-toggleable__control sk-hidden--visually\" id=\"235fcf87-e119-4b7f-b39b-ec34eb722f45\" type=\"checkbox\" checked><label class=\"sk-toggleable__label\" for=\"235fcf87-e119-4b7f-b39b-ec34eb722f45\">SimpleImputer</label><div class=\"sk-toggleable__content\"><pre>SimpleImputer(strategy='most_frequent')</pre></div></div></div></div></div>"
      ],
      "text/plain": [
       "SimpleImputer(strategy='most_frequent')"
      ]
     },
     "execution_count": 35,
     "metadata": {},
     "output_type": "execute_result"
    }
   ],
   "source": [
    "imputer_cat = SimpleImputer(strategy=\"most_frequent\")\n",
    "imputer_cat.fit(X_train[cat_var])"
   ]
  },
  {
   "cell_type": "code",
   "execution_count": 36,
   "id": "ccd5e80d",
   "metadata": {},
   "outputs": [
    {
     "data": {
      "text/html": [
       "<style>#sk-7b93c53e-50da-4d61-8066-24f33f438d37 {color: black;background-color: white;}#sk-7b93c53e-50da-4d61-8066-24f33f438d37 pre{padding: 0;}#sk-7b93c53e-50da-4d61-8066-24f33f438d37 div.sk-toggleable {background-color: white;}#sk-7b93c53e-50da-4d61-8066-24f33f438d37 label.sk-toggleable__label {cursor: pointer;display: block;width: 100%;margin-bottom: 0;padding: 0.2em 0.3em;box-sizing: border-box;text-align: center;}#sk-7b93c53e-50da-4d61-8066-24f33f438d37 div.sk-toggleable__content {max-height: 0;max-width: 0;overflow: hidden;text-align: left;background-color: #f0f8ff;}#sk-7b93c53e-50da-4d61-8066-24f33f438d37 div.sk-toggleable__content pre {margin: 0.2em;color: black;border-radius: 0.25em;background-color: #f0f8ff;}#sk-7b93c53e-50da-4d61-8066-24f33f438d37 input.sk-toggleable__control:checked~div.sk-toggleable__content {max-height: 200px;max-width: 100%;overflow: auto;}#sk-7b93c53e-50da-4d61-8066-24f33f438d37 div.sk-estimator input.sk-toggleable__control:checked~label.sk-toggleable__label {background-color: #d4ebff;}#sk-7b93c53e-50da-4d61-8066-24f33f438d37 div.sk-label input.sk-toggleable__control:checked~label.sk-toggleable__label {background-color: #d4ebff;}#sk-7b93c53e-50da-4d61-8066-24f33f438d37 input.sk-hidden--visually {border: 0;clip: rect(1px 1px 1px 1px);clip: rect(1px, 1px, 1px, 1px);height: 1px;margin: -1px;overflow: hidden;padding: 0;position: absolute;width: 1px;}#sk-7b93c53e-50da-4d61-8066-24f33f438d37 div.sk-estimator {font-family: monospace;background-color: #f0f8ff;margin: 0.25em 0.25em;border: 1px dotted black;border-radius: 0.25em;box-sizing: border-box;}#sk-7b93c53e-50da-4d61-8066-24f33f438d37 div.sk-estimator:hover {background-color: #d4ebff;}#sk-7b93c53e-50da-4d61-8066-24f33f438d37 div.sk-parallel-item::after {content: \"\";width: 100%;border-bottom: 1px solid gray;flex-grow: 1;}#sk-7b93c53e-50da-4d61-8066-24f33f438d37 div.sk-label:hover label.sk-toggleable__label {background-color: #d4ebff;}#sk-7b93c53e-50da-4d61-8066-24f33f438d37 div.sk-serial::before {content: \"\";position: absolute;border-left: 1px solid gray;box-sizing: border-box;top: 2em;bottom: 0;left: 50%;}#sk-7b93c53e-50da-4d61-8066-24f33f438d37 div.sk-serial {display: flex;flex-direction: column;align-items: center;background-color: white;}#sk-7b93c53e-50da-4d61-8066-24f33f438d37 div.sk-item {z-index: 1;}#sk-7b93c53e-50da-4d61-8066-24f33f438d37 div.sk-parallel {display: flex;align-items: stretch;justify-content: center;background-color: white;}#sk-7b93c53e-50da-4d61-8066-24f33f438d37 div.sk-parallel-item {display: flex;flex-direction: column;position: relative;background-color: white;}#sk-7b93c53e-50da-4d61-8066-24f33f438d37 div.sk-parallel-item:first-child::after {align-self: flex-end;width: 50%;}#sk-7b93c53e-50da-4d61-8066-24f33f438d37 div.sk-parallel-item:last-child::after {align-self: flex-start;width: 50%;}#sk-7b93c53e-50da-4d61-8066-24f33f438d37 div.sk-parallel-item:only-child::after {width: 0;}#sk-7b93c53e-50da-4d61-8066-24f33f438d37 div.sk-dashed-wrapped {border: 1px dashed gray;margin: 0.2em;box-sizing: border-box;padding-bottom: 0.1em;background-color: white;position: relative;}#sk-7b93c53e-50da-4d61-8066-24f33f438d37 div.sk-label label {font-family: monospace;font-weight: bold;background-color: white;display: inline-block;line-height: 1.2em;}#sk-7b93c53e-50da-4d61-8066-24f33f438d37 div.sk-label-container {position: relative;z-index: 2;text-align: center;}#sk-7b93c53e-50da-4d61-8066-24f33f438d37 div.sk-container {display: inline-block;position: relative;}</style><div id=\"sk-7b93c53e-50da-4d61-8066-24f33f438d37\" class\"sk-top-container\"><div class=\"sk-container\"><div class=\"sk-item\"><div class=\"sk-estimator sk-toggleable\"><input class=\"sk-toggleable__control sk-hidden--visually\" id=\"5b2a5007-72e5-4b7b-81c7-4e89b5c63f2c\" type=\"checkbox\" checked><label class=\"sk-toggleable__label\" for=\"5b2a5007-72e5-4b7b-81c7-4e89b5c63f2c\">SimpleImputer</label><div class=\"sk-toggleable__content\"><pre>SimpleImputer(strategy='median')</pre></div></div></div></div></div>"
      ],
      "text/plain": [
       "SimpleImputer(strategy='median')"
      ]
     },
     "execution_count": 36,
     "metadata": {},
     "output_type": "execute_result"
    }
   ],
   "source": [
    "imputer_num = SimpleImputer(strategy=\"median\")\n",
    "imputer_num.fit(X_train[num_var])"
   ]
  },
  {
   "cell_type": "code",
   "execution_count": 37,
   "id": "5c25802b",
   "metadata": {},
   "outputs": [
    {
     "data": {
      "text/html": [
       "<style>#sk-601d8913-da2d-4e4c-8f2a-1c4f7bdabe32 {color: black;background-color: white;}#sk-601d8913-da2d-4e4c-8f2a-1c4f7bdabe32 pre{padding: 0;}#sk-601d8913-da2d-4e4c-8f2a-1c4f7bdabe32 div.sk-toggleable {background-color: white;}#sk-601d8913-da2d-4e4c-8f2a-1c4f7bdabe32 label.sk-toggleable__label {cursor: pointer;display: block;width: 100%;margin-bottom: 0;padding: 0.2em 0.3em;box-sizing: border-box;text-align: center;}#sk-601d8913-da2d-4e4c-8f2a-1c4f7bdabe32 div.sk-toggleable__content {max-height: 0;max-width: 0;overflow: hidden;text-align: left;background-color: #f0f8ff;}#sk-601d8913-da2d-4e4c-8f2a-1c4f7bdabe32 div.sk-toggleable__content pre {margin: 0.2em;color: black;border-radius: 0.25em;background-color: #f0f8ff;}#sk-601d8913-da2d-4e4c-8f2a-1c4f7bdabe32 input.sk-toggleable__control:checked~div.sk-toggleable__content {max-height: 200px;max-width: 100%;overflow: auto;}#sk-601d8913-da2d-4e4c-8f2a-1c4f7bdabe32 div.sk-estimator input.sk-toggleable__control:checked~label.sk-toggleable__label {background-color: #d4ebff;}#sk-601d8913-da2d-4e4c-8f2a-1c4f7bdabe32 div.sk-label input.sk-toggleable__control:checked~label.sk-toggleable__label {background-color: #d4ebff;}#sk-601d8913-da2d-4e4c-8f2a-1c4f7bdabe32 input.sk-hidden--visually {border: 0;clip: rect(1px 1px 1px 1px);clip: rect(1px, 1px, 1px, 1px);height: 1px;margin: -1px;overflow: hidden;padding: 0;position: absolute;width: 1px;}#sk-601d8913-da2d-4e4c-8f2a-1c4f7bdabe32 div.sk-estimator {font-family: monospace;background-color: #f0f8ff;margin: 0.25em 0.25em;border: 1px dotted black;border-radius: 0.25em;box-sizing: border-box;}#sk-601d8913-da2d-4e4c-8f2a-1c4f7bdabe32 div.sk-estimator:hover {background-color: #d4ebff;}#sk-601d8913-da2d-4e4c-8f2a-1c4f7bdabe32 div.sk-parallel-item::after {content: \"\";width: 100%;border-bottom: 1px solid gray;flex-grow: 1;}#sk-601d8913-da2d-4e4c-8f2a-1c4f7bdabe32 div.sk-label:hover label.sk-toggleable__label {background-color: #d4ebff;}#sk-601d8913-da2d-4e4c-8f2a-1c4f7bdabe32 div.sk-serial::before {content: \"\";position: absolute;border-left: 1px solid gray;box-sizing: border-box;top: 2em;bottom: 0;left: 50%;}#sk-601d8913-da2d-4e4c-8f2a-1c4f7bdabe32 div.sk-serial {display: flex;flex-direction: column;align-items: center;background-color: white;}#sk-601d8913-da2d-4e4c-8f2a-1c4f7bdabe32 div.sk-item {z-index: 1;}#sk-601d8913-da2d-4e4c-8f2a-1c4f7bdabe32 div.sk-parallel {display: flex;align-items: stretch;justify-content: center;background-color: white;}#sk-601d8913-da2d-4e4c-8f2a-1c4f7bdabe32 div.sk-parallel-item {display: flex;flex-direction: column;position: relative;background-color: white;}#sk-601d8913-da2d-4e4c-8f2a-1c4f7bdabe32 div.sk-parallel-item:first-child::after {align-self: flex-end;width: 50%;}#sk-601d8913-da2d-4e4c-8f2a-1c4f7bdabe32 div.sk-parallel-item:last-child::after {align-self: flex-start;width: 50%;}#sk-601d8913-da2d-4e4c-8f2a-1c4f7bdabe32 div.sk-parallel-item:only-child::after {width: 0;}#sk-601d8913-da2d-4e4c-8f2a-1c4f7bdabe32 div.sk-dashed-wrapped {border: 1px dashed gray;margin: 0.2em;box-sizing: border-box;padding-bottom: 0.1em;background-color: white;position: relative;}#sk-601d8913-da2d-4e4c-8f2a-1c4f7bdabe32 div.sk-label label {font-family: monospace;font-weight: bold;background-color: white;display: inline-block;line-height: 1.2em;}#sk-601d8913-da2d-4e4c-8f2a-1c4f7bdabe32 div.sk-label-container {position: relative;z-index: 2;text-align: center;}#sk-601d8913-da2d-4e4c-8f2a-1c4f7bdabe32 div.sk-container {display: inline-block;position: relative;}</style><div id=\"sk-601d8913-da2d-4e4c-8f2a-1c4f7bdabe32\" class\"sk-top-container\"><div class=\"sk-container\"><div class=\"sk-item\"><div class=\"sk-estimator sk-toggleable\"><input class=\"sk-toggleable__control sk-hidden--visually\" id=\"b9de6afc-26bd-47da-be30-8752e667ddd6\" type=\"checkbox\" checked><label class=\"sk-toggleable__label\" for=\"b9de6afc-26bd-47da-be30-8752e667ddd6\">StandardScaler</label><div class=\"sk-toggleable__content\"><pre>StandardScaler()</pre></div></div></div></div></div>"
      ],
      "text/plain": [
       "StandardScaler()"
      ]
     },
     "execution_count": 37,
     "metadata": {},
     "output_type": "execute_result"
    }
   ],
   "source": [
    "scaler = StandardScaler()\n",
    "scaler.fit(X_train[num_var])"
   ]
  },
  {
   "cell_type": "code",
   "execution_count": 38,
   "id": "57ef426b",
   "metadata": {},
   "outputs": [],
   "source": [
    "X_train[num_var] = scaler.transform(X_train[num_var])\n",
    "X_train[num_var] = imputer_num.transform(X_train[num_var])\n",
    "X_train[cat_var] = imputer_cat.transform(X_train[cat_var])"
   ]
  },
  {
   "cell_type": "code",
   "execution_count": 39,
   "id": "a44f8259",
   "metadata": {},
   "outputs": [],
   "source": [
    "encoder = OneHotEncoder()\n",
    "encoder.fit(X_train[cat_var])\n",
    "X_train = encoder.transform(X_train[cat_var])"
   ]
  },
  {
   "cell_type": "markdown",
   "id": "56e4027d",
   "metadata": {},
   "source": [
    "## Création d'un modèle de base"
   ]
  },
  {
   "cell_type": "code",
   "execution_count": 40,
   "id": "a4ed4385",
   "metadata": {},
   "outputs": [
    {
     "data": {
      "text/html": [
       "<style>#sk-6e06571f-5ece-473e-ab36-445cfad0333b {color: black;background-color: white;}#sk-6e06571f-5ece-473e-ab36-445cfad0333b pre{padding: 0;}#sk-6e06571f-5ece-473e-ab36-445cfad0333b div.sk-toggleable {background-color: white;}#sk-6e06571f-5ece-473e-ab36-445cfad0333b label.sk-toggleable__label {cursor: pointer;display: block;width: 100%;margin-bottom: 0;padding: 0.2em 0.3em;box-sizing: border-box;text-align: center;}#sk-6e06571f-5ece-473e-ab36-445cfad0333b div.sk-toggleable__content {max-height: 0;max-width: 0;overflow: hidden;text-align: left;background-color: #f0f8ff;}#sk-6e06571f-5ece-473e-ab36-445cfad0333b div.sk-toggleable__content pre {margin: 0.2em;color: black;border-radius: 0.25em;background-color: #f0f8ff;}#sk-6e06571f-5ece-473e-ab36-445cfad0333b input.sk-toggleable__control:checked~div.sk-toggleable__content {max-height: 200px;max-width: 100%;overflow: auto;}#sk-6e06571f-5ece-473e-ab36-445cfad0333b div.sk-estimator input.sk-toggleable__control:checked~label.sk-toggleable__label {background-color: #d4ebff;}#sk-6e06571f-5ece-473e-ab36-445cfad0333b div.sk-label input.sk-toggleable__control:checked~label.sk-toggleable__label {background-color: #d4ebff;}#sk-6e06571f-5ece-473e-ab36-445cfad0333b input.sk-hidden--visually {border: 0;clip: rect(1px 1px 1px 1px);clip: rect(1px, 1px, 1px, 1px);height: 1px;margin: -1px;overflow: hidden;padding: 0;position: absolute;width: 1px;}#sk-6e06571f-5ece-473e-ab36-445cfad0333b div.sk-estimator {font-family: monospace;background-color: #f0f8ff;margin: 0.25em 0.25em;border: 1px dotted black;border-radius: 0.25em;box-sizing: border-box;}#sk-6e06571f-5ece-473e-ab36-445cfad0333b div.sk-estimator:hover {background-color: #d4ebff;}#sk-6e06571f-5ece-473e-ab36-445cfad0333b div.sk-parallel-item::after {content: \"\";width: 100%;border-bottom: 1px solid gray;flex-grow: 1;}#sk-6e06571f-5ece-473e-ab36-445cfad0333b div.sk-label:hover label.sk-toggleable__label {background-color: #d4ebff;}#sk-6e06571f-5ece-473e-ab36-445cfad0333b div.sk-serial::before {content: \"\";position: absolute;border-left: 1px solid gray;box-sizing: border-box;top: 2em;bottom: 0;left: 50%;}#sk-6e06571f-5ece-473e-ab36-445cfad0333b div.sk-serial {display: flex;flex-direction: column;align-items: center;background-color: white;}#sk-6e06571f-5ece-473e-ab36-445cfad0333b div.sk-item {z-index: 1;}#sk-6e06571f-5ece-473e-ab36-445cfad0333b div.sk-parallel {display: flex;align-items: stretch;justify-content: center;background-color: white;}#sk-6e06571f-5ece-473e-ab36-445cfad0333b div.sk-parallel-item {display: flex;flex-direction: column;position: relative;background-color: white;}#sk-6e06571f-5ece-473e-ab36-445cfad0333b div.sk-parallel-item:first-child::after {align-self: flex-end;width: 50%;}#sk-6e06571f-5ece-473e-ab36-445cfad0333b div.sk-parallel-item:last-child::after {align-self: flex-start;width: 50%;}#sk-6e06571f-5ece-473e-ab36-445cfad0333b div.sk-parallel-item:only-child::after {width: 0;}#sk-6e06571f-5ece-473e-ab36-445cfad0333b div.sk-dashed-wrapped {border: 1px dashed gray;margin: 0.2em;box-sizing: border-box;padding-bottom: 0.1em;background-color: white;position: relative;}#sk-6e06571f-5ece-473e-ab36-445cfad0333b div.sk-label label {font-family: monospace;font-weight: bold;background-color: white;display: inline-block;line-height: 1.2em;}#sk-6e06571f-5ece-473e-ab36-445cfad0333b div.sk-label-container {position: relative;z-index: 2;text-align: center;}#sk-6e06571f-5ece-473e-ab36-445cfad0333b div.sk-container {display: inline-block;position: relative;}</style><div id=\"sk-6e06571f-5ece-473e-ab36-445cfad0333b\" class\"sk-top-container\"><div class=\"sk-container\"><div class=\"sk-item\"><div class=\"sk-estimator sk-toggleable\"><input class=\"sk-toggleable__control sk-hidden--visually\" id=\"42a1b585-e6a7-40b0-ab46-82a0b9f8d8c5\" type=\"checkbox\" checked><label class=\"sk-toggleable__label\" for=\"42a1b585-e6a7-40b0-ab46-82a0b9f8d8c5\">DummyRegressor</label><div class=\"sk-toggleable__content\"><pre>DummyRegressor(strategy='median')</pre></div></div></div></div></div>"
      ],
      "text/plain": [
       "DummyRegressor(strategy='median')"
      ]
     },
     "execution_count": 40,
     "metadata": {},
     "output_type": "execute_result"
    }
   ],
   "source": [
    "dummy_reg = DummyRegressor(strategy=\"median\")\n",
    "dummy_reg.fit(X_train, y_train)"
   ]
  },
  {
   "cell_type": "code",
   "execution_count": 41,
   "id": "0291e482",
   "metadata": {},
   "outputs": [],
   "source": [
    "X_test[num_var] = imputer_num.transform(X_test[num_var])\n",
    "X_test[cat_var] = imputer_cat.transform(X_test[cat_var])"
   ]
  },
  {
   "cell_type": "code",
   "execution_count": 42,
   "id": "0f52acf8",
   "metadata": {},
   "outputs": [],
   "source": [
    "X_test = encoder.transform(X_test[cat_var])"
   ]
  },
  {
   "cell_type": "code",
   "execution_count": 43,
   "id": "3082f4b6",
   "metadata": {},
   "outputs": [],
   "source": [
    "y_pred = dummy_reg.predict(X_test)"
   ]
  },
  {
   "cell_type": "code",
   "execution_count": 44,
   "id": "8a7940a2",
   "metadata": {},
   "outputs": [
    {
     "name": "stdout",
     "output_type": "stream",
     "text": [
      "MAE : 1.13086\n",
      "MSE : 2.03477\n",
      "RMSE : 1.42645\n",
      "R² : -0.00724\n"
     ]
    }
   ],
   "source": [
    "regression_metrics(y_test, y_pred)"
   ]
  },
  {
   "cell_type": "markdown",
   "id": "d9effbf6",
   "metadata": {},
   "source": [
    "## Choix du modèle"
   ]
  },
  {
   "cell_type": "code",
   "execution_count": 45,
   "id": "a0d5d7d3",
   "metadata": {},
   "outputs": [],
   "source": [
    "dummy_reg = DummyRegressor(strategy=\"median\")\n",
    "lin_reg = LinearRegression()\n",
    "ridge = Ridge(random_state=42)\n",
    "lasso = Lasso(random_state=42)\n",
    "dt_reg =  DecisionTreeRegressor(random_state=42)\n",
    "svm_reg = SVR()\n",
    "ridge_kernel = KernelRidge()\n",
    "adaboost = AdaBoostRegressor(random_state=42)\n",
    "bagging = BaggingRegressor(random_state=42)\n",
    "gdboost = GradientBoostingRegressor(random_state=42)\n",
    "rdmforest = RandomForestRegressor(random_state=42)\n",
    "xgboost = xgb.XGBRegressor(random_state=42)"
   ]
  },
  {
   "cell_type": "code",
   "execution_count": 46,
   "id": "75693f85",
   "metadata": {},
   "outputs": [
    {
     "data": {
      "text/html": [
       "<div>\n",
       "<style scoped>\n",
       "    .dataframe tbody tr th:only-of-type {\n",
       "        vertical-align: middle;\n",
       "    }\n",
       "\n",
       "    .dataframe tbody tr th {\n",
       "        vertical-align: top;\n",
       "    }\n",
       "\n",
       "    .dataframe thead th {\n",
       "        text-align: right;\n",
       "    }\n",
       "</style>\n",
       "<table border=\"1\" class=\"dataframe\">\n",
       "  <thead>\n",
       "    <tr style=\"text-align: right;\">\n",
       "      <th></th>\n",
       "      <th>Dummy Regressor</th>\n",
       "      <th>Linear Regression</th>\n",
       "      <th>Ridge</th>\n",
       "      <th>Lasso</th>\n",
       "      <th>DecisionTree</th>\n",
       "      <th>SVM</th>\n",
       "      <th>Ridge Kernel</th>\n",
       "      <th>AdaBoost</th>\n",
       "      <th>Bagging</th>\n",
       "      <th>GradientBoosting</th>\n",
       "      <th>Random Forest</th>\n",
       "      <th>XGBoost</th>\n",
       "    </tr>\n",
       "  </thead>\n",
       "  <tbody>\n",
       "    <tr>\n",
       "      <th>MAE</th>\n",
       "      <td>1.130862</td>\n",
       "      <td>0.988276</td>\n",
       "      <td>0.988854</td>\n",
       "      <td>1.130112</td>\n",
       "      <td>0.964245</td>\n",
       "      <td>0.965385</td>\n",
       "      <td>0.990234</td>\n",
       "      <td>1.084881</td>\n",
       "      <td>0.960988</td>\n",
       "      <td>0.966426</td>\n",
       "      <td>0.962401</td>\n",
       "      <td>0.960895</td>\n",
       "    </tr>\n",
       "    <tr>\n",
       "      <th>MSE</th>\n",
       "      <td>2.034765</td>\n",
       "      <td>1.636029</td>\n",
       "      <td>1.634558</td>\n",
       "      <td>2.022685</td>\n",
       "      <td>1.520524</td>\n",
       "      <td>1.562008</td>\n",
       "      <td>1.635533</td>\n",
       "      <td>1.859135</td>\n",
       "      <td>1.520691</td>\n",
       "      <td>1.531501</td>\n",
       "      <td>1.515940</td>\n",
       "      <td>1.513529</td>\n",
       "    </tr>\n",
       "    <tr>\n",
       "      <th>RMSE</th>\n",
       "      <td>1.426452</td>\n",
       "      <td>1.279074</td>\n",
       "      <td>1.278498</td>\n",
       "      <td>1.422211</td>\n",
       "      <td>1.233095</td>\n",
       "      <td>1.249803</td>\n",
       "      <td>1.278879</td>\n",
       "      <td>1.363501</td>\n",
       "      <td>1.233163</td>\n",
       "      <td>1.237538</td>\n",
       "      <td>1.231235</td>\n",
       "      <td>1.230256</td>\n",
       "    </tr>\n",
       "    <tr>\n",
       "      <th>R²</th>\n",
       "      <td>-0.007240</td>\n",
       "      <td>0.190141</td>\n",
       "      <td>0.190869</td>\n",
       "      <td>-0.001260</td>\n",
       "      <td>0.247317</td>\n",
       "      <td>0.226782</td>\n",
       "      <td>0.190386</td>\n",
       "      <td>0.079700</td>\n",
       "      <td>0.247235</td>\n",
       "      <td>0.241884</td>\n",
       "      <td>0.249586</td>\n",
       "      <td>0.250780</td>\n",
       "    </tr>\n",
       "  </tbody>\n",
       "</table>\n",
       "</div>"
      ],
      "text/plain": [
       "      Dummy Regressor  Linear Regression     Ridge     Lasso  DecisionTree  \\\n",
       "MAE          1.130862           0.988276  0.988854  1.130112      0.964245   \n",
       "MSE          2.034765           1.636029  1.634558  2.022685      1.520524   \n",
       "RMSE         1.426452           1.279074  1.278498  1.422211      1.233095   \n",
       "R²          -0.007240           0.190141  0.190869 -0.001260      0.247317   \n",
       "\n",
       "           SVM  Ridge Kernel  AdaBoost   Bagging  GradientBoosting  \\\n",
       "MAE   0.965385      0.990234  1.084881  0.960988          0.966426   \n",
       "MSE   1.562008      1.635533  1.859135  1.520691          1.531501   \n",
       "RMSE  1.249803      1.278879  1.363501  1.233163          1.237538   \n",
       "R²    0.226782      0.190386  0.079700  0.247235          0.241884   \n",
       "\n",
       "      Random Forest   XGBoost  \n",
       "MAE        0.962401  0.960895  \n",
       "MSE        1.515940  1.513529  \n",
       "RMSE       1.231235  1.230256  \n",
       "R²         0.249586  0.250780  "
      ]
     },
     "execution_count": 46,
     "metadata": {},
     "output_type": "execute_result"
    }
   ],
   "source": [
    "model = [dummy_reg, lin_reg, ridge, lasso, dt_reg, svm_reg, ridge_kernel, adaboost, bagging, gdboost, rdmforest, xgboost]\n",
    "dict_model = {}\n",
    "\n",
    "for model in model:\n",
    "    model.fit(X_train, y_train)\n",
    "    y_pred = model.predict(X_test)\n",
    "    mae = mean_absolute_error(y_test, y_pred)\n",
    "    mse = mean_squared_error(y_test, y_pred)\n",
    "    rmse = mse ** (1/2)\n",
    "    r_score = r2_score(y_test, y_pred)\n",
    "    dict_model[model] = (mae, mse, rmse, r_score)\n",
    "\n",
    "eval_model = pd.DataFrame(dict_model, index=[\"MAE\", \"MSE\", \"RMSE\", \"R²\"])\n",
    "eval_model.columns = [\"Dummy Regressor\", \"Linear Regression\", \"Ridge\", \"Lasso\", \"DecisionTree\", \"SVM\", \"Ridge Kernel\",\n",
    "                      \"AdaBoost\", \"Bagging\", \"GradientBoosting\", \"Random Forest\", \"XGBoost\"]\n",
    "\n",
    "eval_model"
   ]
  },
  {
   "cell_type": "markdown",
   "id": "fe3cac8d",
   "metadata": {},
   "source": [
    "**Modèle choisi :** XGBoost"
   ]
  },
  {
   "cell_type": "markdown",
   "id": "495a4892",
   "metadata": {},
   "source": [
    "## Ajustement des hyperparamètres"
   ]
  },
  {
   "cell_type": "code",
   "execution_count": 47,
   "id": "04c19bc7",
   "metadata": {},
   "outputs": [],
   "source": [
    "model = xgb.XGBRegressor(booster=\"gbtree\", random_state=42)"
   ]
  },
  {
   "cell_type": "code",
   "execution_count": 48,
   "id": "22e0e148",
   "metadata": {},
   "outputs": [
    {
     "data": {
      "text/html": [
       "<style>#sk-6499f242-da60-40e8-818b-eeb9006d59ea {color: black;background-color: white;}#sk-6499f242-da60-40e8-818b-eeb9006d59ea pre{padding: 0;}#sk-6499f242-da60-40e8-818b-eeb9006d59ea div.sk-toggleable {background-color: white;}#sk-6499f242-da60-40e8-818b-eeb9006d59ea label.sk-toggleable__label {cursor: pointer;display: block;width: 100%;margin-bottom: 0;padding: 0.2em 0.3em;box-sizing: border-box;text-align: center;}#sk-6499f242-da60-40e8-818b-eeb9006d59ea div.sk-toggleable__content {max-height: 0;max-width: 0;overflow: hidden;text-align: left;background-color: #f0f8ff;}#sk-6499f242-da60-40e8-818b-eeb9006d59ea div.sk-toggleable__content pre {margin: 0.2em;color: black;border-radius: 0.25em;background-color: #f0f8ff;}#sk-6499f242-da60-40e8-818b-eeb9006d59ea input.sk-toggleable__control:checked~div.sk-toggleable__content {max-height: 200px;max-width: 100%;overflow: auto;}#sk-6499f242-da60-40e8-818b-eeb9006d59ea div.sk-estimator input.sk-toggleable__control:checked~label.sk-toggleable__label {background-color: #d4ebff;}#sk-6499f242-da60-40e8-818b-eeb9006d59ea div.sk-label input.sk-toggleable__control:checked~label.sk-toggleable__label {background-color: #d4ebff;}#sk-6499f242-da60-40e8-818b-eeb9006d59ea input.sk-hidden--visually {border: 0;clip: rect(1px 1px 1px 1px);clip: rect(1px, 1px, 1px, 1px);height: 1px;margin: -1px;overflow: hidden;padding: 0;position: absolute;width: 1px;}#sk-6499f242-da60-40e8-818b-eeb9006d59ea div.sk-estimator {font-family: monospace;background-color: #f0f8ff;margin: 0.25em 0.25em;border: 1px dotted black;border-radius: 0.25em;box-sizing: border-box;}#sk-6499f242-da60-40e8-818b-eeb9006d59ea div.sk-estimator:hover {background-color: #d4ebff;}#sk-6499f242-da60-40e8-818b-eeb9006d59ea div.sk-parallel-item::after {content: \"\";width: 100%;border-bottom: 1px solid gray;flex-grow: 1;}#sk-6499f242-da60-40e8-818b-eeb9006d59ea div.sk-label:hover label.sk-toggleable__label {background-color: #d4ebff;}#sk-6499f242-da60-40e8-818b-eeb9006d59ea div.sk-serial::before {content: \"\";position: absolute;border-left: 1px solid gray;box-sizing: border-box;top: 2em;bottom: 0;left: 50%;}#sk-6499f242-da60-40e8-818b-eeb9006d59ea div.sk-serial {display: flex;flex-direction: column;align-items: center;background-color: white;}#sk-6499f242-da60-40e8-818b-eeb9006d59ea div.sk-item {z-index: 1;}#sk-6499f242-da60-40e8-818b-eeb9006d59ea div.sk-parallel {display: flex;align-items: stretch;justify-content: center;background-color: white;}#sk-6499f242-da60-40e8-818b-eeb9006d59ea div.sk-parallel-item {display: flex;flex-direction: column;position: relative;background-color: white;}#sk-6499f242-da60-40e8-818b-eeb9006d59ea div.sk-parallel-item:first-child::after {align-self: flex-end;width: 50%;}#sk-6499f242-da60-40e8-818b-eeb9006d59ea div.sk-parallel-item:last-child::after {align-self: flex-start;width: 50%;}#sk-6499f242-da60-40e8-818b-eeb9006d59ea div.sk-parallel-item:only-child::after {width: 0;}#sk-6499f242-da60-40e8-818b-eeb9006d59ea div.sk-dashed-wrapped {border: 1px dashed gray;margin: 0.2em;box-sizing: border-box;padding-bottom: 0.1em;background-color: white;position: relative;}#sk-6499f242-da60-40e8-818b-eeb9006d59ea div.sk-label label {font-family: monospace;font-weight: bold;background-color: white;display: inline-block;line-height: 1.2em;}#sk-6499f242-da60-40e8-818b-eeb9006d59ea div.sk-label-container {position: relative;z-index: 2;text-align: center;}#sk-6499f242-da60-40e8-818b-eeb9006d59ea div.sk-container {display: inline-block;position: relative;}</style><div id=\"sk-6499f242-da60-40e8-818b-eeb9006d59ea\" class\"sk-top-container\"><div class=\"sk-container\"><div class=\"sk-item sk-dashed-wrapped\"><div class=\"sk-label-container\"><div class=\"sk-label sk-toggleable\"><input class=\"sk-toggleable__control sk-hidden--visually\" id=\"7306c224-3c19-4621-bffd-576d728d5a2d\" type=\"checkbox\" ><label class=\"sk-toggleable__label\" for=\"7306c224-3c19-4621-bffd-576d728d5a2d\">GridSearchCV</label><div class=\"sk-toggleable__content\"><pre>GridSearchCV(cv=5,\n",
       "             estimator=XGBRegressor(base_score=None, booster='gbtree',\n",
       "                                    colsample_bylevel=None,\n",
       "                                    colsample_bynode=None,\n",
       "                                    colsample_bytree=None, gamma=None,\n",
       "                                    gpu_id=None, importance_type='gain',\n",
       "                                    interaction_constraints=None,\n",
       "                                    learning_rate=None, max_delta_step=None,\n",
       "                                    max_depth=None, min_child_weight=None,\n",
       "                                    missing=nan, monotone_constraints=None,\n",
       "                                    n_estimators=100, n_jobs=None,\n",
       "                                    num_parallel_tree=None, random_state=42,\n",
       "                                    reg_alpha=None, reg_lambda=None,\n",
       "                                    scale_pos_weight=None, subsample=None,\n",
       "                                    tree_method=None, validate_parameters=None,\n",
       "                                    verbosity=None),\n",
       "             param_grid={'eta': [0.1, 0.2, 0.3, 0.4, 0.5, 0.6],\n",
       "                         'gamma': [0, 1, 2, 3, 4, 5], 'max_depth': [6, 7, 8]},\n",
       "             scoring='neg_mean_squared_error')</pre></div></div></div><div class=\"sk-parallel\"><div class=\"sk-parallel-item\"><div class=\"sk-item\"><div class=\"sk-serial\"><div class=\"sk-item\"><div class=\"sk-estimator sk-toggleable\"><input class=\"sk-toggleable__control sk-hidden--visually\" id=\"c2f28c51-0982-4af9-9ff3-6cff1801b9be\" type=\"checkbox\" ><label class=\"sk-toggleable__label\" for=\"c2f28c51-0982-4af9-9ff3-6cff1801b9be\">XGBRegressor</label><div class=\"sk-toggleable__content\"><pre>XGBRegressor(base_score=None, booster='gbtree', colsample_bylevel=None,\n",
       "             colsample_bynode=None, colsample_bytree=None, gamma=None,\n",
       "             gpu_id=None, importance_type='gain', interaction_constraints=None,\n",
       "             learning_rate=None, max_delta_step=None, max_depth=None,\n",
       "             min_child_weight=None, missing=nan, monotone_constraints=None,\n",
       "             n_estimators=100, n_jobs=None, num_parallel_tree=None,\n",
       "             random_state=42, reg_alpha=None, reg_lambda=None,\n",
       "             scale_pos_weight=None, subsample=None, tree_method=None,\n",
       "             validate_parameters=None, verbosity=None)</pre></div></div></div></div></div></div></div></div></div></div>"
      ],
      "text/plain": [
       "GridSearchCV(cv=5,\n",
       "             estimator=XGBRegressor(base_score=None, booster='gbtree',\n",
       "                                    colsample_bylevel=None,\n",
       "                                    colsample_bynode=None,\n",
       "                                    colsample_bytree=None, gamma=None,\n",
       "                                    gpu_id=None, importance_type='gain',\n",
       "                                    interaction_constraints=None,\n",
       "                                    learning_rate=None, max_delta_step=None,\n",
       "                                    max_depth=None, min_child_weight=None,\n",
       "                                    missing=nan, monotone_constraints=None,\n",
       "                                    n_estimators=100, n_jobs=None,\n",
       "                                    num_parallel_tree=None, random_state=42,\n",
       "                                    reg_alpha=None, reg_lambda=None,\n",
       "                                    scale_pos_weight=None, subsample=None,\n",
       "                                    tree_method=None, validate_parameters=None,\n",
       "                                    verbosity=None),\n",
       "             param_grid={'eta': [0.1, 0.2, 0.3, 0.4, 0.5, 0.6],\n",
       "                         'gamma': [0, 1, 2, 3, 4, 5], 'max_depth': [6, 7, 8]},\n",
       "             scoring='neg_mean_squared_error')"
      ]
     },
     "execution_count": 48,
     "metadata": {},
     "output_type": "execute_result"
    }
   ],
   "source": [
    "params = {'eta': [0.1, 0.2, 0.3, 0.4, 0.5, 0.6],\n",
    "        'gamma':[0, 1, 2, 3, 4, 5],\n",
    "        'max_depth' : [6, 7, 8]}\n",
    "\n",
    "grid_search = GridSearchCV(model, params, cv=5, scoring='neg_mean_squared_error')\n",
    "grid_search.fit(X_train, y_train)"
   ]
  },
  {
   "cell_type": "code",
   "execution_count": 49,
   "id": "ce04704d",
   "metadata": {},
   "outputs": [
    {
     "data": {
      "text/plain": [
       "{'eta': 0.2, 'gamma': 1, 'max_depth': 8}"
      ]
     },
     "execution_count": 49,
     "metadata": {},
     "output_type": "execute_result"
    }
   ],
   "source": [
    "grid_search.best_params_"
   ]
  },
  {
   "cell_type": "code",
   "execution_count": 50,
   "id": "60d7e178",
   "metadata": {},
   "outputs": [
    {
     "data": {
      "text/html": [
       "<style>#sk-d20f2b98-0f31-4933-a69c-8c40f2f73bf0 {color: black;background-color: white;}#sk-d20f2b98-0f31-4933-a69c-8c40f2f73bf0 pre{padding: 0;}#sk-d20f2b98-0f31-4933-a69c-8c40f2f73bf0 div.sk-toggleable {background-color: white;}#sk-d20f2b98-0f31-4933-a69c-8c40f2f73bf0 label.sk-toggleable__label {cursor: pointer;display: block;width: 100%;margin-bottom: 0;padding: 0.2em 0.3em;box-sizing: border-box;text-align: center;}#sk-d20f2b98-0f31-4933-a69c-8c40f2f73bf0 div.sk-toggleable__content {max-height: 0;max-width: 0;overflow: hidden;text-align: left;background-color: #f0f8ff;}#sk-d20f2b98-0f31-4933-a69c-8c40f2f73bf0 div.sk-toggleable__content pre {margin: 0.2em;color: black;border-radius: 0.25em;background-color: #f0f8ff;}#sk-d20f2b98-0f31-4933-a69c-8c40f2f73bf0 input.sk-toggleable__control:checked~div.sk-toggleable__content {max-height: 200px;max-width: 100%;overflow: auto;}#sk-d20f2b98-0f31-4933-a69c-8c40f2f73bf0 div.sk-estimator input.sk-toggleable__control:checked~label.sk-toggleable__label {background-color: #d4ebff;}#sk-d20f2b98-0f31-4933-a69c-8c40f2f73bf0 div.sk-label input.sk-toggleable__control:checked~label.sk-toggleable__label {background-color: #d4ebff;}#sk-d20f2b98-0f31-4933-a69c-8c40f2f73bf0 input.sk-hidden--visually {border: 0;clip: rect(1px 1px 1px 1px);clip: rect(1px, 1px, 1px, 1px);height: 1px;margin: -1px;overflow: hidden;padding: 0;position: absolute;width: 1px;}#sk-d20f2b98-0f31-4933-a69c-8c40f2f73bf0 div.sk-estimator {font-family: monospace;background-color: #f0f8ff;margin: 0.25em 0.25em;border: 1px dotted black;border-radius: 0.25em;box-sizing: border-box;}#sk-d20f2b98-0f31-4933-a69c-8c40f2f73bf0 div.sk-estimator:hover {background-color: #d4ebff;}#sk-d20f2b98-0f31-4933-a69c-8c40f2f73bf0 div.sk-parallel-item::after {content: \"\";width: 100%;border-bottom: 1px solid gray;flex-grow: 1;}#sk-d20f2b98-0f31-4933-a69c-8c40f2f73bf0 div.sk-label:hover label.sk-toggleable__label {background-color: #d4ebff;}#sk-d20f2b98-0f31-4933-a69c-8c40f2f73bf0 div.sk-serial::before {content: \"\";position: absolute;border-left: 1px solid gray;box-sizing: border-box;top: 2em;bottom: 0;left: 50%;}#sk-d20f2b98-0f31-4933-a69c-8c40f2f73bf0 div.sk-serial {display: flex;flex-direction: column;align-items: center;background-color: white;}#sk-d20f2b98-0f31-4933-a69c-8c40f2f73bf0 div.sk-item {z-index: 1;}#sk-d20f2b98-0f31-4933-a69c-8c40f2f73bf0 div.sk-parallel {display: flex;align-items: stretch;justify-content: center;background-color: white;}#sk-d20f2b98-0f31-4933-a69c-8c40f2f73bf0 div.sk-parallel-item {display: flex;flex-direction: column;position: relative;background-color: white;}#sk-d20f2b98-0f31-4933-a69c-8c40f2f73bf0 div.sk-parallel-item:first-child::after {align-self: flex-end;width: 50%;}#sk-d20f2b98-0f31-4933-a69c-8c40f2f73bf0 div.sk-parallel-item:last-child::after {align-self: flex-start;width: 50%;}#sk-d20f2b98-0f31-4933-a69c-8c40f2f73bf0 div.sk-parallel-item:only-child::after {width: 0;}#sk-d20f2b98-0f31-4933-a69c-8c40f2f73bf0 div.sk-dashed-wrapped {border: 1px dashed gray;margin: 0.2em;box-sizing: border-box;padding-bottom: 0.1em;background-color: white;position: relative;}#sk-d20f2b98-0f31-4933-a69c-8c40f2f73bf0 div.sk-label label {font-family: monospace;font-weight: bold;background-color: white;display: inline-block;line-height: 1.2em;}#sk-d20f2b98-0f31-4933-a69c-8c40f2f73bf0 div.sk-label-container {position: relative;z-index: 2;text-align: center;}#sk-d20f2b98-0f31-4933-a69c-8c40f2f73bf0 div.sk-container {display: inline-block;position: relative;}</style><div id=\"sk-d20f2b98-0f31-4933-a69c-8c40f2f73bf0\" class\"sk-top-container\"><div class=\"sk-container\"><div class=\"sk-item\"><div class=\"sk-estimator sk-toggleable\"><input class=\"sk-toggleable__control sk-hidden--visually\" id=\"c8910191-5064-45a3-9f5f-2b90de3149fb\" type=\"checkbox\" checked><label class=\"sk-toggleable__label\" for=\"c8910191-5064-45a3-9f5f-2b90de3149fb\">XGBRegressor</label><div class=\"sk-toggleable__content\"><pre>XGBRegressor(base_score=0.5, booster='gbtree', colsample_bylevel=1,\n",
       "             colsample_bynode=1, colsample_bytree=1, eta=0.2, gamma=1,\n",
       "             gpu_id=-1, importance_type='gain', interaction_constraints='',\n",
       "             learning_rate=0.200000003, max_delta_step=0, max_depth=8,\n",
       "             min_child_weight=1, missing=nan, monotone_constraints='()',\n",
       "             n_estimators=100, n_jobs=16, num_parallel_tree=1, random_state=42,\n",
       "             reg_alpha=0, reg_lambda=1, scale_pos_weight=1, subsample=1,\n",
       "             tree_method='exact', validate_parameters=1, verbosity=None)</pre></div></div></div></div></div>"
      ],
      "text/plain": [
       "XGBRegressor(base_score=0.5, booster='gbtree', colsample_bylevel=1,\n",
       "             colsample_bynode=1, colsample_bytree=1, eta=0.2, gamma=1,\n",
       "             gpu_id=-1, importance_type='gain', interaction_constraints='',\n",
       "             learning_rate=0.200000003, max_delta_step=0, max_depth=8,\n",
       "             min_child_weight=1, missing=nan, monotone_constraints='()',\n",
       "             n_estimators=100, n_jobs=16, num_parallel_tree=1, random_state=42,\n",
       "             reg_alpha=0, reg_lambda=1, scale_pos_weight=1, subsample=1,\n",
       "             tree_method='exact', validate_parameters=1, verbosity=None)"
      ]
     },
     "execution_count": 50,
     "metadata": {},
     "output_type": "execute_result"
    }
   ],
   "source": [
    "grid_search.best_estimator_"
   ]
  },
  {
   "cell_type": "markdown",
   "id": "c3f245f9",
   "metadata": {},
   "source": [
    "## Analyse des erreurs du modèle"
   ]
  },
  {
   "cell_type": "code",
   "execution_count": 51,
   "id": "b888c677",
   "metadata": {},
   "outputs": [],
   "source": [
    "final_model = grid_search.best_estimator_"
   ]
  },
  {
   "cell_type": "code",
   "execution_count": 52,
   "id": "6c91892b",
   "metadata": {},
   "outputs": [],
   "source": [
    "final_predictions = final_model.predict(X_test)"
   ]
  },
  {
   "cell_type": "code",
   "execution_count": 53,
   "id": "017635d8",
   "metadata": {},
   "outputs": [
    {
     "name": "stdout",
     "output_type": "stream",
     "text": [
      "MAE : 0.95597\n",
      "MSE : 1.49634\n",
      "RMSE : 1.22325\n",
      "R² : 0.25929\n"
     ]
    }
   ],
   "source": [
    "regression_metrics(y_test, final_predictions)"
   ]
  },
  {
   "cell_type": "code",
   "execution_count": 54,
   "id": "1c3bce66",
   "metadata": {},
   "outputs": [
    {
     "data": {
      "image/png": "[encoded data removed]",
      "text/plain": [
       "<Figure size 576x396 with 2 Axes>"
      ]
     },
     "metadata": {},
     "output_type": "display_data"
    }
   ],
   "source": [
    "visualizer = ResidualsPlot(final_model)\n",
    "visualizer.fit(X_train, y_train.reshape(2624,))\n",
    "visualizer.score(X_test, y_test.reshape(657,))\n",
    "visualizer.show();"
   ]
  },
  {
   "cell_type": "code",
   "execution_count": 55,
   "id": "86702b58",
   "metadata": {},
   "outputs": [
    {
     "data": {
      "image/png": "[encoded data removed]",
      "text/plain": [
       "<Figure size 576x396 with 1 Axes>"
      ]
     },
     "metadata": {},
     "output_type": "display_data"
    }
   ],
   "source": [
    "visualizer = prediction_error(final_model, X_train, y_train, X_test, y_test);"
   ]
  },
  {
   "cell_type": "markdown",
   "id": "e82bcf7c",
   "metadata": {},
   "source": [
    "## Pipeline du modèle pour l'estimation des émissions de CO2"
   ]
  },
  {
   "cell_type": "markdown",
   "id": "55b1dea5",
   "metadata": {},
   "source": [
    "from sklearn.pipeline import Pipeline\n",
    "from sklearn.compose import ColumnTransformer\n",
    "\n",
    "num_variables = list(num_var)\n",
    "cat_variables = list(cat_var)\n",
    "\n",
    "full_transformer = ColumnTransformer([\n",
    "    (\"num\", SimpleImputer(strategy=\"median\"), StandardScaler(), num_variables),\n",
    "    (\"cat\", SimpleImputer(strategy=\"most_frequent\"), OneHotEncoder(), cat_variables),\n",
    "])\n",
    "\n",
    "full_pipeline_with_model = Pipeline([\n",
    "    (\"preprocessing\", full_transformer),\n",
    "    (\"modeling\", RandomForestRegressor(max_features=3, n_estimators=130, random_state=42))\n",
    "])\n",
    "\n",
    "full_pipeline_with_model.fit(X_train, y_train)"
   ]
  }
 ],
 "metadata": {
  "kernelspec": {
   "display_name": "Python 3",
   "language": "python",
   "name": "python3"
  },
  "language_info": {
   "codemirror_mode": {
    "name": "ipython",
    "version": 3
   },
   "file_extension": ".py",
   "mimetype": "text/x-python",
   "name": "python",
   "nbconvert_exporter": "python",
   "pygments_lexer": "ipython3",
   "version": "3.8.10"
  }
 },
 "nbformat": 4,
 "nbformat_minor": 5
}
