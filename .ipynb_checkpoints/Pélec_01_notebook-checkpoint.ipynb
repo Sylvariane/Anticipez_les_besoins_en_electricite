{
 "cells": [
  {
   "cell_type": "markdown",
   "id": "be4a6d4d",
   "metadata": {},
   "source": [
    "# Exploration des relevés de données des bâtiments "
   ]
  },
  {
   "cell_type": "code",
   "execution_count": 1,
   "id": "03aff4be",
   "metadata": {},
   "outputs": [],
   "source": [
    "# importation des librairies nécessaires à l'exploration\n",
    "import warnings\n",
    "warnings.filterwarnings(\"ignore\")\n",
    "\n",
    "import pandas as pd\n",
    "import numpy as np \n",
    "\n",
    "import matplotlib as mpl\n",
    "import matplotlib.pyplot as plt\n",
    "%matplotlib inline\n",
    "\n",
    "import seaborn as sns\n",
    "import pingouin as pg"
   ]
  },
  {
   "cell_type": "code",
   "execution_count": 2,
   "id": "4b3304bd",
   "metadata": {},
   "outputs": [],
   "source": [
    "# Paramétrage visuel\n",
    "sns.set_palette(\"Pastel2\")"
   ]
  },
  {
   "cell_type": "markdown",
   "id": "e0d4168f",
   "metadata": {},
   "source": [
    "- **SiteEUIWN :** Weather Normalized (WN) Site Energy Use Intensity (EUI) is a property's WN Site Energy divided by its gross floor area (in square feet). WN Site Energy is the Site Energy Use the property would have consumed during 30-year average weather conditions. WN Site EUI is measured in measured in thousands of British thermal units (kBtu) per square foot.\n",
    "- **SourceEUIWN :** Weather Normalized (WN) Source Energy Use Intensity (EUI) is a property's WN Source Energy divided by its gross floor area. WN Source Energy is the Source Energy Use the property would have consumed during 30-year average weather conditions. WN Source EUI is measured in measured in thousands of British thermal units (kBtu) per square foot.\n",
    "- **SiteEnergyUse :** The annual amount of energy consumed by the property from all sources of energy.\n",
    "- **GHGEmissions :** The total amount of greenhouse gas emissions, including carbon dioxide, methane, and nitrous oxide gases released into the atmosphere as a result of energy consumption at the property, measured in metric tons of carbon dioxide equivalent. This calculation uses a GHG emissions factor from Seattle CIty Light's portfolio of generating resources. This uses Seattle City Light's 2015 emissions factor of 52.44 lbs CO2e/MWh. Enwave steam factor = 170.17 lbs CO2e/MMBtu. Gas factor sourced from EPA Portfolio Manager = 53.11 kg CO2e/MBtu. \n",
    "- **GHGEmissions Intensity :** Total Greenhouse Gas Emissions divided by property's gross floor area, measured in kilograms of carbon dioxide equivalent per square foot. This calculation uses a GHG emissions factor from Seattle City Light's portfolio of generating resources.\n",
    "\n",
    "*Source* : [Ville de Seattle](!https://data.seattle.gov/dataset/2015-Building-Energy-Benchmarking/h7rm-fz6m)"
   ]
  },
  {
   "cell_type": "markdown",
   "id": "2cd93b4f",
   "metadata": {},
   "source": [
    "*Autres sources :*\n",
    "\n",
    "- [Différence entre source et site](!https://www.energystar.gov/buildings/benchmark/understand_metrics/source_site_difference)\n",
    "- [Définition de l'EUI](!https://www.energystar.gov/buildings/benchmark/understand_metrics/what_eui)\n",
    "- [Energy Star Score](!https://www.energystar.gov/buildings/benchmark/analyze_benchmarking_results)\n",
    "- [Définition des types de bâtiments](!https://portfoliomanager.energystar.gov/pm/glossary)"
   ]
  },
  {
   "cell_type": "markdown",
   "id": "28bdb490",
   "metadata": {},
   "source": [
    "## Traitement des données de 2015"
   ]
  },
  {
   "cell_type": "code",
   "execution_count": 3,
   "id": "b5bbcd26",
   "metadata": {
    "scrolled": true
   },
   "outputs": [
    {
     "data": {
      "text/html": [
       "<div>\n",
       "<style scoped>\n",
       "    .dataframe tbody tr th:only-of-type {\n",
       "        vertical-align: middle;\n",
       "    }\n",
       "\n",
       "    .dataframe tbody tr th {\n",
       "        vertical-align: top;\n",
       "    }\n",
       "\n",
       "    .dataframe thead th {\n",
       "        text-align: right;\n",
       "    }\n",
       "</style>\n",
       "<table border=\"1\" class=\"dataframe\">\n",
       "  <thead>\n",
       "    <tr style=\"text-align: right;\">\n",
       "      <th></th>\n",
       "      <th>OSEBuildingID</th>\n",
       "      <th>DataYear</th>\n",
       "      <th>BuildingType</th>\n",
       "      <th>PrimaryPropertyType</th>\n",
       "      <th>PropertyName</th>\n",
       "      <th>TaxParcelIdentificationNumber</th>\n",
       "      <th>Location</th>\n",
       "      <th>CouncilDistrictCode</th>\n",
       "      <th>Neighborhood</th>\n",
       "      <th>YearBuilt</th>\n",
       "      <th>...</th>\n",
       "      <th>GHGEmissionsIntensity(kgCO2e/ft2)</th>\n",
       "      <th>DefaultData</th>\n",
       "      <th>Comment</th>\n",
       "      <th>ComplianceStatus</th>\n",
       "      <th>Outlier</th>\n",
       "      <th>2010 Census Tracts</th>\n",
       "      <th>Seattle Police Department Micro Community Policing Plan Areas</th>\n",
       "      <th>City Council Districts</th>\n",
       "      <th>SPD Beats</th>\n",
       "      <th>Zip Codes</th>\n",
       "    </tr>\n",
       "  </thead>\n",
       "  <tbody>\n",
       "    <tr>\n",
       "      <th>0</th>\n",
       "      <td>1</td>\n",
       "      <td>2015</td>\n",
       "      <td>NonResidential</td>\n",
       "      <td>Hotel</td>\n",
       "      <td>MAYFLOWER PARK HOTEL</td>\n",
       "      <td>659000030</td>\n",
       "      <td>{'latitude': '47.61219025', 'longitude': '-122...</td>\n",
       "      <td>7</td>\n",
       "      <td>DOWNTOWN</td>\n",
       "      <td>1927</td>\n",
       "      <td>...</td>\n",
       "      <td>2.64</td>\n",
       "      <td>No</td>\n",
       "      <td>NaN</td>\n",
       "      <td>Compliant</td>\n",
       "      <td>NaN</td>\n",
       "      <td>NaN</td>\n",
       "      <td>14.0</td>\n",
       "      <td>NaN</td>\n",
       "      <td>31.0</td>\n",
       "      <td>18081</td>\n",
       "    </tr>\n",
       "    <tr>\n",
       "      <th>1</th>\n",
       "      <td>2</td>\n",
       "      <td>2015</td>\n",
       "      <td>NonResidential</td>\n",
       "      <td>Hotel</td>\n",
       "      <td>PARAMOUNT HOTEL</td>\n",
       "      <td>659000220</td>\n",
       "      <td>{'latitude': '47.61310583', 'longitude': '-122...</td>\n",
       "      <td>7</td>\n",
       "      <td>DOWNTOWN</td>\n",
       "      <td>1996</td>\n",
       "      <td>...</td>\n",
       "      <td>2.38</td>\n",
       "      <td>No</td>\n",
       "      <td>NaN</td>\n",
       "      <td>Compliant</td>\n",
       "      <td>NaN</td>\n",
       "      <td>NaN</td>\n",
       "      <td>14.0</td>\n",
       "      <td>NaN</td>\n",
       "      <td>31.0</td>\n",
       "      <td>18081</td>\n",
       "    </tr>\n",
       "    <tr>\n",
       "      <th>2</th>\n",
       "      <td>3</td>\n",
       "      <td>2015</td>\n",
       "      <td>NonResidential</td>\n",
       "      <td>Hotel</td>\n",
       "      <td>WESTIN HOTEL</td>\n",
       "      <td>659000475</td>\n",
       "      <td>{'latitude': '47.61334897', 'longitude': '-122...</td>\n",
       "      <td>7</td>\n",
       "      <td>DOWNTOWN</td>\n",
       "      <td>1969</td>\n",
       "      <td>...</td>\n",
       "      <td>1.92</td>\n",
       "      <td>Yes</td>\n",
       "      <td>NaN</td>\n",
       "      <td>Compliant</td>\n",
       "      <td>NaN</td>\n",
       "      <td>NaN</td>\n",
       "      <td>56.0</td>\n",
       "      <td>NaN</td>\n",
       "      <td>31.0</td>\n",
       "      <td>18081</td>\n",
       "    </tr>\n",
       "  </tbody>\n",
       "</table>\n",
       "<p>3 rows × 47 columns</p>\n",
       "</div>"
      ],
      "text/plain": [
       "   OSEBuildingID  DataYear    BuildingType PrimaryPropertyType  \\\n",
       "0              1      2015  NonResidential               Hotel   \n",
       "1              2      2015  NonResidential               Hotel   \n",
       "2              3      2015  NonResidential               Hotel   \n",
       "\n",
       "           PropertyName TaxParcelIdentificationNumber  \\\n",
       "0  MAYFLOWER PARK HOTEL                     659000030   \n",
       "1       PARAMOUNT HOTEL                     659000220   \n",
       "2          WESTIN HOTEL                     659000475   \n",
       "\n",
       "                                            Location  CouncilDistrictCode  \\\n",
       "0  {'latitude': '47.61219025', 'longitude': '-122...                    7   \n",
       "1  {'latitude': '47.61310583', 'longitude': '-122...                    7   \n",
       "2  {'latitude': '47.61334897', 'longitude': '-122...                    7   \n",
       "\n",
       "  Neighborhood  YearBuilt  ...  GHGEmissionsIntensity(kgCO2e/ft2)  \\\n",
       "0     DOWNTOWN       1927  ...                               2.64   \n",
       "1     DOWNTOWN       1996  ...                               2.38   \n",
       "2     DOWNTOWN       1969  ...                               1.92   \n",
       "\n",
       "   DefaultData  Comment  ComplianceStatus  Outlier 2010 Census Tracts  \\\n",
       "0           No      NaN         Compliant      NaN                NaN   \n",
       "1           No      NaN         Compliant      NaN                NaN   \n",
       "2          Yes      NaN         Compliant      NaN                NaN   \n",
       "\n",
       "  Seattle Police Department Micro Community Policing Plan Areas  \\\n",
       "0                                               14.0              \n",
       "1                                               14.0              \n",
       "2                                               56.0              \n",
       "\n",
       "   City Council Districts SPD Beats  Zip Codes  \n",
       "0                     NaN      31.0      18081  \n",
       "1                     NaN      31.0      18081  \n",
       "2                     NaN      31.0      18081  \n",
       "\n",
       "[3 rows x 47 columns]"
      ]
     },
     "execution_count": 3,
     "metadata": {},
     "output_type": "execute_result"
    }
   ],
   "source": [
    "# Chargement du fichier de 2015\n",
    "filepath_2015 = 'datasets/2015-building-energy-benchmarking.csv'\n",
    "df_2015 = pd.read_csv(filepath_2015)\n",
    "df_2015.head(3)"
   ]
  },
  {
   "cell_type": "code",
   "execution_count": 4,
   "id": "e11bb27b",
   "metadata": {},
   "outputs": [],
   "source": [
    "# Passage des chaînes de caractères en minuscule\n",
    "df_2015['PropertyName'] = df_2015[\"PropertyName\"].str.capitalize()\n",
    "df_2015['Neighborhood'] = df_2015[\"Neighborhood\"].str.capitalize()"
   ]
  },
  {
   "cell_type": "code",
   "execution_count": 5,
   "id": "75a8145c",
   "metadata": {},
   "outputs": [
    {
     "data": {
      "text/plain": [
       "Index(['OSEBuildingID', 'DataYear', 'BuildingType', 'PrimaryPropertyType',\n",
       "       'PropertyName', 'TaxParcelIdentificationNumber', 'Location',\n",
       "       'CouncilDistrictCode', 'Neighborhood', 'YearBuilt', 'NumberofBuildings',\n",
       "       'NumberofFloors', 'PropertyGFATotal', 'PropertyGFAParking',\n",
       "       'PropertyGFABuilding(s)', 'ListOfAllPropertyUseTypes',\n",
       "       'LargestPropertyUseType', 'LargestPropertyUseTypeGFA',\n",
       "       'SecondLargestPropertyUseType', 'SecondLargestPropertyUseTypeGFA',\n",
       "       'ThirdLargestPropertyUseType', 'ThirdLargestPropertyUseTypeGFA',\n",
       "       'YearsENERGYSTARCertified', 'ENERGYSTARScore', 'SiteEUI(kBtu/sf)',\n",
       "       'SiteEUIWN(kBtu/sf)', 'SourceEUI(kBtu/sf)', 'SourceEUIWN(kBtu/sf)',\n",
       "       'SiteEnergyUse(kBtu)', 'SiteEnergyUseWN(kBtu)', 'SteamUse(kBtu)',\n",
       "       'Electricity(kWh)', 'Electricity(kBtu)', 'NaturalGas(therms)',\n",
       "       'NaturalGas(kBtu)', 'OtherFuelUse(kBtu)',\n",
       "       'GHGEmissions(MetricTonsCO2e)', 'GHGEmissionsIntensity(kgCO2e/ft2)',\n",
       "       'DefaultData', 'Comment', 'ComplianceStatus', 'Outlier',\n",
       "       '2010 Census Tracts',\n",
       "       'Seattle Police Department Micro Community Policing Plan Areas',\n",
       "       'City Council Districts', 'SPD Beats', 'Zip Codes'],\n",
       "      dtype='object')"
      ]
     },
     "execution_count": 5,
     "metadata": {},
     "output_type": "execute_result"
    }
   ],
   "source": [
    "df_2015.columns"
   ]
  },
  {
   "cell_type": "code",
   "execution_count": 6,
   "id": "54c028e2",
   "metadata": {},
   "outputs": [
    {
     "data": {
      "text/plain": [
       "High Outlier    46\n",
       "Low Outlier     38\n",
       "Name: Outlier, dtype: int64"
      ]
     },
     "execution_count": 6,
     "metadata": {},
     "output_type": "execute_result"
    }
   ],
   "source": [
    "df_2015[\"Outlier\"].value_counts()"
   ]
  },
  {
   "cell_type": "code",
   "execution_count": 7,
   "id": "1da1fc18",
   "metadata": {},
   "outputs": [],
   "source": [
    "# Retrait des valeurs \"outlier\"\n",
    "df_2015 = df_2015.loc[~(df_2015[\"Outlier\"] == \"High Outlier\") |\n",
    "                      ~(df_2015[\"Outlier\"] == \"Low Outlier\")]"
   ]
  },
  {
   "cell_type": "code",
   "execution_count": 8,
   "id": "06792bf4",
   "metadata": {},
   "outputs": [
    {
     "data": {
      "text/plain": [
       "OSEBuildingID                                                     0.000000\n",
       "DataYear                                                          0.000000\n",
       "BuildingType                                                      0.000000\n",
       "PrimaryPropertyType                                               0.000000\n",
       "PropertyName                                                      0.000000\n",
       "TaxParcelIdentificationNumber                                     0.059880\n",
       "Location                                                          0.000000\n",
       "CouncilDistrictCode                                               0.000000\n",
       "Neighborhood                                                      0.000000\n",
       "YearBuilt                                                         0.000000\n",
       "NumberofBuildings                                                 0.000000\n",
       "NumberofFloors                                                    0.239521\n",
       "PropertyGFATotal                                                  0.000000\n",
       "PropertyGFAParking                                                0.000000\n",
       "PropertyGFABuilding(s)                                            0.000000\n",
       "ListOfAllPropertyUseTypes                                         3.802395\n",
       "LargestPropertyUseType                                            4.071856\n",
       "LargestPropertyUseTypeGFA                                         4.071856\n",
       "SecondLargestPropertyUseType                                     53.323353\n",
       "SecondLargestPropertyUseTypeGFA                                  53.323353\n",
       "ThirdLargestPropertyUseType                                      83.233533\n",
       "ThirdLargestPropertyUseTypeGFA                                   83.233533\n",
       "YearsENERGYSTARCertified                                         96.706587\n",
       "ENERGYSTARScore                                                  23.353293\n",
       "SiteEUI(kBtu/sf)                                                  0.299401\n",
       "SiteEUIWN(kBtu/sf)                                                0.299401\n",
       "SourceEUI(kBtu/sf)                                                0.299401\n",
       "SourceEUIWN(kBtu/sf)                                              0.299401\n",
       "SiteEnergyUse(kBtu)                                               0.299401\n",
       "SiteEnergyUseWN(kBtu)                                             0.299401\n",
       "SteamUse(kBtu)                                                    0.299401\n",
       "Electricity(kWh)                                                  0.299401\n",
       "Electricity(kBtu)                                                 0.299401\n",
       "NaturalGas(therms)                                                0.299401\n",
       "NaturalGas(kBtu)                                                  0.299401\n",
       "OtherFuelUse(kBtu)                                                0.299401\n",
       "GHGEmissions(MetricTonsCO2e)                                      0.299401\n",
       "GHGEmissionsIntensity(kgCO2e/ft2)                                 0.299401\n",
       "DefaultData                                                       0.029940\n",
       "Comment                                                          99.610778\n",
       "ComplianceStatus                                                  0.000000\n",
       "Outlier                                                          97.485030\n",
       "2010 Census Tracts                                               93.293413\n",
       "Seattle Police Department Micro Community Policing Plan Areas     0.059880\n",
       "City Council Districts                                           93.622754\n",
       "SPD Beats                                                         0.059880\n",
       "Zip Codes                                                         0.000000\n",
       "dtype: float64"
      ]
     },
     "execution_count": 8,
     "metadata": {},
     "output_type": "execute_result"
    }
   ],
   "source": [
    "df_2015.isnull().mean() * 100"
   ]
  },
  {
   "cell_type": "code",
   "execution_count": 9,
   "id": "7cc0101a",
   "metadata": {},
   "outputs": [],
   "source": [
    "# Suppression des colonnes avec plus de 50% de valeurs manquantes\n",
    "# Suppression des lignes avec plus de 4 NaN\n",
    "df_2015 = df_2015.loc[:, df_2015.isnull().mean() <.50]\n",
    "df_2015.dropna(thresh=4, inplace=True)"
   ]
  },
  {
   "cell_type": "code",
   "execution_count": 10,
   "id": "6ce169bd",
   "metadata": {},
   "outputs": [],
   "source": [
    "# Suppression des colonnes dont les informations n'auront pas d'utilité dans la suite de l'étude\n",
    "df_2015.drop([\"TaxParcelIdentificationNumber\",\"Location\",\"CouncilDistrictCode\",\n",
    "              \"ListOfAllPropertyUseTypes\", \"LargestPropertyUseType\", \"PropertyGFAParking\",\n",
    "              \"DefaultData\", \"ComplianceStatus\", \n",
    "              \"Seattle Police Department Micro Community Policing Plan Areas\",\"SPD Beats\", \"Zip Codes\"], axis = 1, inplace=True) "
   ]
  },
  {
   "cell_type": "code",
   "execution_count": 11,
   "id": "5cf376d1",
   "metadata": {},
   "outputs": [],
   "source": [
    "# Harmonisation des noms de colonnes avec le dataset de 2016\n",
    "df_2015.rename(columns={\"GHGEmissions(MetricTonsCO2e)\":\"TotalGHGEmissions\",\n",
    "                        \"GHGEmissionsIntensity(kgCO2e/ft2)\" : \"GHGEmissionsIntensity\"}, inplace=True)"
   ]
  },
  {
   "cell_type": "markdown",
   "id": "b448df6c",
   "metadata": {},
   "source": [
    "## Traitement des données de 2016"
   ]
  },
  {
   "cell_type": "markdown",
   "id": "8be71418",
   "metadata": {},
   "source": [
    "Les données de 2016 sont traitées de la même manière que celle de 2015 pour permettre de pouvoir réunir les deux datasets ensemble. Les colonnes supprimées pour le dataset de 2015 ont été supprimés pour celui de 2016. "
   ]
  },
  {
   "cell_type": "code",
   "execution_count": 12,
   "id": "ec777e0d",
   "metadata": {},
   "outputs": [
    {
     "data": {
      "text/html": [
       "<div>\n",
       "<style scoped>\n",
       "    .dataframe tbody tr th:only-of-type {\n",
       "        vertical-align: middle;\n",
       "    }\n",
       "\n",
       "    .dataframe tbody tr th {\n",
       "        vertical-align: top;\n",
       "    }\n",
       "\n",
       "    .dataframe thead th {\n",
       "        text-align: right;\n",
       "    }\n",
       "</style>\n",
       "<table border=\"1\" class=\"dataframe\">\n",
       "  <thead>\n",
       "    <tr style=\"text-align: right;\">\n",
       "      <th></th>\n",
       "      <th>OSEBuildingID</th>\n",
       "      <th>DataYear</th>\n",
       "      <th>BuildingType</th>\n",
       "      <th>PrimaryPropertyType</th>\n",
       "      <th>PropertyName</th>\n",
       "      <th>Address</th>\n",
       "      <th>City</th>\n",
       "      <th>State</th>\n",
       "      <th>ZipCode</th>\n",
       "      <th>TaxParcelIdentificationNumber</th>\n",
       "      <th>...</th>\n",
       "      <th>Electricity(kWh)</th>\n",
       "      <th>Electricity(kBtu)</th>\n",
       "      <th>NaturalGas(therms)</th>\n",
       "      <th>NaturalGas(kBtu)</th>\n",
       "      <th>DefaultData</th>\n",
       "      <th>Comments</th>\n",
       "      <th>ComplianceStatus</th>\n",
       "      <th>Outlier</th>\n",
       "      <th>TotalGHGEmissions</th>\n",
       "      <th>GHGEmissionsIntensity</th>\n",
       "    </tr>\n",
       "  </thead>\n",
       "  <tbody>\n",
       "    <tr>\n",
       "      <th>0</th>\n",
       "      <td>1</td>\n",
       "      <td>2016</td>\n",
       "      <td>NonResidential</td>\n",
       "      <td>Hotel</td>\n",
       "      <td>Mayflower park hotel</td>\n",
       "      <td>405 Olive way</td>\n",
       "      <td>Seattle</td>\n",
       "      <td>WA</td>\n",
       "      <td>98101.0</td>\n",
       "      <td>0659000030</td>\n",
       "      <td>...</td>\n",
       "      <td>1.156514e+06</td>\n",
       "      <td>3946027.0</td>\n",
       "      <td>12764.52930</td>\n",
       "      <td>1276453.0</td>\n",
       "      <td>False</td>\n",
       "      <td>NaN</td>\n",
       "      <td>Compliant</td>\n",
       "      <td>NaN</td>\n",
       "      <td>249.98</td>\n",
       "      <td>2.83</td>\n",
       "    </tr>\n",
       "    <tr>\n",
       "      <th>1</th>\n",
       "      <td>2</td>\n",
       "      <td>2016</td>\n",
       "      <td>NonResidential</td>\n",
       "      <td>Hotel</td>\n",
       "      <td>Paramount Hotel</td>\n",
       "      <td>724 Pine street</td>\n",
       "      <td>Seattle</td>\n",
       "      <td>WA</td>\n",
       "      <td>98101.0</td>\n",
       "      <td>0659000220</td>\n",
       "      <td>...</td>\n",
       "      <td>9.504252e+05</td>\n",
       "      <td>3242851.0</td>\n",
       "      <td>51450.81641</td>\n",
       "      <td>5145082.0</td>\n",
       "      <td>False</td>\n",
       "      <td>NaN</td>\n",
       "      <td>Compliant</td>\n",
       "      <td>NaN</td>\n",
       "      <td>295.86</td>\n",
       "      <td>2.86</td>\n",
       "    </tr>\n",
       "    <tr>\n",
       "      <th>2</th>\n",
       "      <td>3</td>\n",
       "      <td>2016</td>\n",
       "      <td>NonResidential</td>\n",
       "      <td>Hotel</td>\n",
       "      <td>5673-The Westin Seattle</td>\n",
       "      <td>1900 5th Avenue</td>\n",
       "      <td>Seattle</td>\n",
       "      <td>WA</td>\n",
       "      <td>98101.0</td>\n",
       "      <td>0659000475</td>\n",
       "      <td>...</td>\n",
       "      <td>1.451544e+07</td>\n",
       "      <td>49526664.0</td>\n",
       "      <td>14938.00000</td>\n",
       "      <td>1493800.0</td>\n",
       "      <td>False</td>\n",
       "      <td>NaN</td>\n",
       "      <td>Compliant</td>\n",
       "      <td>NaN</td>\n",
       "      <td>2089.28</td>\n",
       "      <td>2.19</td>\n",
       "    </tr>\n",
       "  </tbody>\n",
       "</table>\n",
       "<p>3 rows × 46 columns</p>\n",
       "</div>"
      ],
      "text/plain": [
       "   OSEBuildingID  DataYear    BuildingType PrimaryPropertyType  \\\n",
       "0              1      2016  NonResidential               Hotel   \n",
       "1              2      2016  NonResidential               Hotel   \n",
       "2              3      2016  NonResidential               Hotel   \n",
       "\n",
       "              PropertyName          Address     City State  ZipCode  \\\n",
       "0     Mayflower park hotel    405 Olive way  Seattle    WA  98101.0   \n",
       "1          Paramount Hotel  724 Pine street  Seattle    WA  98101.0   \n",
       "2  5673-The Westin Seattle  1900 5th Avenue  Seattle    WA  98101.0   \n",
       "\n",
       "  TaxParcelIdentificationNumber  ...  Electricity(kWh) Electricity(kBtu)  \\\n",
       "0                    0659000030  ...      1.156514e+06         3946027.0   \n",
       "1                    0659000220  ...      9.504252e+05         3242851.0   \n",
       "2                    0659000475  ...      1.451544e+07        49526664.0   \n",
       "\n",
       "   NaturalGas(therms)  NaturalGas(kBtu)  DefaultData  Comments  \\\n",
       "0         12764.52930         1276453.0        False       NaN   \n",
       "1         51450.81641         5145082.0        False       NaN   \n",
       "2         14938.00000         1493800.0        False       NaN   \n",
       "\n",
       "   ComplianceStatus  Outlier  TotalGHGEmissions  GHGEmissionsIntensity  \n",
       "0         Compliant      NaN             249.98                   2.83  \n",
       "1         Compliant      NaN             295.86                   2.86  \n",
       "2         Compliant      NaN            2089.28                   2.19  \n",
       "\n",
       "[3 rows x 46 columns]"
      ]
     },
     "execution_count": 12,
     "metadata": {},
     "output_type": "execute_result"
    }
   ],
   "source": [
    "# Chargement du fichier de 2016\n",
    "filepath_2016 = 'datasets/2016-building-energy-benchmarking.csv'\n",
    "df_2016 = pd.read_csv(filepath_2016)\n",
    "df_2016.head(3)"
   ]
  },
  {
   "cell_type": "code",
   "execution_count": 13,
   "id": "e3aa5d1e",
   "metadata": {},
   "outputs": [],
   "source": [
    "df_2016['PropertyName'] = df_2016[\"PropertyName\"].str.capitalize()\n",
    "df_2016['Neighborhood'] = df_2016[\"Neighborhood\"].str.capitalize()"
   ]
  },
  {
   "cell_type": "code",
   "execution_count": 14,
   "id": "e10ae9ed",
   "metadata": {},
   "outputs": [
    {
     "data": {
      "text/plain": [
       "Low outlier     23\n",
       "High outlier     9\n",
       "Name: Outlier, dtype: int64"
      ]
     },
     "execution_count": 14,
     "metadata": {},
     "output_type": "execute_result"
    }
   ],
   "source": [
    "df_2016[\"Outlier\"].value_counts()"
   ]
  },
  {
   "cell_type": "code",
   "execution_count": 15,
   "id": "882de18c",
   "metadata": {},
   "outputs": [],
   "source": [
    "df_2016 = df_2016.loc[~(df_2016[\"Outlier\"] == \"High Outlier\") |\n",
    "                      ~(df_2016[\"Outlier\"] == \"Low Outlier\")]"
   ]
  },
  {
   "cell_type": "code",
   "execution_count": 16,
   "id": "8642ca1e",
   "metadata": {},
   "outputs": [
    {
     "data": {
      "text/plain": [
       "OSEBuildingID                        0.000000\n",
       "DataYear                             0.000000\n",
       "BuildingType                         0.000000\n",
       "PrimaryPropertyType                  0.000000\n",
       "PropertyName                         0.000000\n",
       "Address                              0.000000\n",
       "City                                 0.000000\n",
       "State                                0.000000\n",
       "ZipCode                              0.473934\n",
       "TaxParcelIdentificationNumber        0.000000\n",
       "CouncilDistrictCode                  0.000000\n",
       "Neighborhood                         0.000000\n",
       "Latitude                             0.000000\n",
       "Longitude                            0.000000\n",
       "YearBuilt                            0.000000\n",
       "NumberofBuildings                    0.236967\n",
       "NumberofFloors                       0.000000\n",
       "PropertyGFATotal                     0.000000\n",
       "PropertyGFAParking                   0.000000\n",
       "PropertyGFABuilding(s)               0.000000\n",
       "ListOfAllPropertyUseTypes            0.266588\n",
       "LargestPropertyUseType               0.592417\n",
       "LargestPropertyUseTypeGFA            0.592417\n",
       "SecondLargestPropertyUseType        50.266588\n",
       "SecondLargestPropertyUseTypeGFA     50.266588\n",
       "ThirdLargestPropertyUseType         82.345972\n",
       "ThirdLargestPropertyUseTypeGFA      82.345972\n",
       "YearsENERGYSTARCertified            96.475118\n",
       "ENERGYSTARScore                     24.970379\n",
       "SiteEUI(kBtu/sf)                     0.207346\n",
       "SiteEUIWN(kBtu/sf)                   0.177725\n",
       "SourceEUI(kBtu/sf)                   0.266588\n",
       "SourceEUIWN(kBtu/sf)                 0.266588\n",
       "SiteEnergyUse(kBtu)                  0.148104\n",
       "SiteEnergyUseWN(kBtu)                0.177725\n",
       "SteamUse(kBtu)                       0.266588\n",
       "Electricity(kWh)                     0.266588\n",
       "Electricity(kBtu)                    0.266588\n",
       "NaturalGas(therms)                   0.266588\n",
       "NaturalGas(kBtu)                     0.266588\n",
       "DefaultData                          0.000000\n",
       "Comments                           100.000000\n",
       "ComplianceStatus                     0.000000\n",
       "Outlier                             99.052133\n",
       "TotalGHGEmissions                    0.266588\n",
       "GHGEmissionsIntensity                0.266588\n",
       "dtype: float64"
      ]
     },
     "execution_count": 16,
     "metadata": {},
     "output_type": "execute_result"
    }
   ],
   "source": [
    "df_2016.isnull().mean() * 100"
   ]
  },
  {
   "cell_type": "code",
   "execution_count": 17,
   "id": "a2a8af76",
   "metadata": {},
   "outputs": [],
   "source": [
    "df_2016 = df_2016.loc[:, df_2016.isnull().mean() <.50]\n",
    "df_2016.dropna(thresh=4, inplace=True) "
   ]
  },
  {
   "cell_type": "code",
   "execution_count": 18,
   "id": "a8d49543",
   "metadata": {},
   "outputs": [],
   "source": [
    "df_2016.drop([\"TaxParcelIdentificationNumber\", \"Address\", \"City\", \"State\", \"Latitude\", \"Longitude\",\"ZipCode\",\"CouncilDistrictCode\",\n",
    "              \"ListOfAllPropertyUseTypes\", \"LargestPropertyUseType\", \"PropertyGFAParking\",\n",
    "              \"DefaultData\", \"ComplianceStatus\"], axis = 1, inplace=True) "
   ]
  },
  {
   "cell_type": "markdown",
   "id": "537ecd9a",
   "metadata": {},
   "source": [
    "## Création d'un dataset avec les données de 2015 & 2016"
   ]
  },
  {
   "cell_type": "code",
   "execution_count": 19,
   "id": "b0fef74d",
   "metadata": {
    "scrolled": true
   },
   "outputs": [
    {
     "data": {
      "text/html": [
       "<div>\n",
       "<style scoped>\n",
       "    .dataframe tbody tr th:only-of-type {\n",
       "        vertical-align: middle;\n",
       "    }\n",
       "\n",
       "    .dataframe tbody tr th {\n",
       "        vertical-align: top;\n",
       "    }\n",
       "\n",
       "    .dataframe thead th {\n",
       "        text-align: right;\n",
       "    }\n",
       "</style>\n",
       "<table border=\"1\" class=\"dataframe\">\n",
       "  <thead>\n",
       "    <tr style=\"text-align: right;\">\n",
       "      <th></th>\n",
       "      <th>OSEBuildingID</th>\n",
       "      <th>DataYear</th>\n",
       "      <th>BuildingType</th>\n",
       "      <th>PrimaryPropertyType</th>\n",
       "      <th>PropertyName</th>\n",
       "      <th>Neighborhood</th>\n",
       "      <th>YearBuilt</th>\n",
       "      <th>NumberofBuildings</th>\n",
       "      <th>NumberofFloors</th>\n",
       "      <th>PropertyGFATotal</th>\n",
       "      <th>...</th>\n",
       "      <th>SiteEnergyUse(kBtu)</th>\n",
       "      <th>SiteEnergyUseWN(kBtu)</th>\n",
       "      <th>SteamUse(kBtu)</th>\n",
       "      <th>Electricity(kWh)</th>\n",
       "      <th>Electricity(kBtu)</th>\n",
       "      <th>NaturalGas(therms)</th>\n",
       "      <th>NaturalGas(kBtu)</th>\n",
       "      <th>OtherFuelUse(kBtu)</th>\n",
       "      <th>TotalGHGEmissions</th>\n",
       "      <th>GHGEmissionsIntensity</th>\n",
       "    </tr>\n",
       "  </thead>\n",
       "  <tbody>\n",
       "    <tr>\n",
       "      <th>0</th>\n",
       "      <td>1</td>\n",
       "      <td>2015</td>\n",
       "      <td>NonResidential</td>\n",
       "      <td>Hotel</td>\n",
       "      <td>Mayflower park hotel</td>\n",
       "      <td>Downtown</td>\n",
       "      <td>1927</td>\n",
       "      <td>1.0</td>\n",
       "      <td>12.0</td>\n",
       "      <td>88434</td>\n",
       "      <td>...</td>\n",
       "      <td>6981428.0</td>\n",
       "      <td>7097539.0</td>\n",
       "      <td>2023032.0</td>\n",
       "      <td>1080307.0</td>\n",
       "      <td>3686160.0</td>\n",
       "      <td>12724.0</td>\n",
       "      <td>1272388.0</td>\n",
       "      <td>0.0</td>\n",
       "      <td>249.43</td>\n",
       "      <td>2.64</td>\n",
       "    </tr>\n",
       "    <tr>\n",
       "      <th>1</th>\n",
       "      <td>2</td>\n",
       "      <td>2015</td>\n",
       "      <td>NonResidential</td>\n",
       "      <td>Hotel</td>\n",
       "      <td>Paramount hotel</td>\n",
       "      <td>Downtown</td>\n",
       "      <td>1996</td>\n",
       "      <td>1.0</td>\n",
       "      <td>11.0</td>\n",
       "      <td>103566</td>\n",
       "      <td>...</td>\n",
       "      <td>8354235.0</td>\n",
       "      <td>8765788.0</td>\n",
       "      <td>0.0</td>\n",
       "      <td>1144563.0</td>\n",
       "      <td>3905411.0</td>\n",
       "      <td>44490.0</td>\n",
       "      <td>4448985.0</td>\n",
       "      <td>0.0</td>\n",
       "      <td>263.51</td>\n",
       "      <td>2.38</td>\n",
       "    </tr>\n",
       "    <tr>\n",
       "      <th>2</th>\n",
       "      <td>3</td>\n",
       "      <td>2015</td>\n",
       "      <td>NonResidential</td>\n",
       "      <td>Hotel</td>\n",
       "      <td>Westin hotel</td>\n",
       "      <td>Downtown</td>\n",
       "      <td>1969</td>\n",
       "      <td>1.0</td>\n",
       "      <td>41.0</td>\n",
       "      <td>961990</td>\n",
       "      <td>...</td>\n",
       "      <td>73130656.0</td>\n",
       "      <td>75506272.0</td>\n",
       "      <td>19660404.0</td>\n",
       "      <td>14583930.0</td>\n",
       "      <td>49762435.0</td>\n",
       "      <td>37099.0</td>\n",
       "      <td>3709900.0</td>\n",
       "      <td>0.0</td>\n",
       "      <td>2061.48</td>\n",
       "      <td>1.92</td>\n",
       "    </tr>\n",
       "  </tbody>\n",
       "</table>\n",
       "<p>3 rows × 27 columns</p>\n",
       "</div>"
      ],
      "text/plain": [
       "   OSEBuildingID  DataYear    BuildingType PrimaryPropertyType  \\\n",
       "0              1      2015  NonResidential               Hotel   \n",
       "1              2      2015  NonResidential               Hotel   \n",
       "2              3      2015  NonResidential               Hotel   \n",
       "\n",
       "           PropertyName Neighborhood  YearBuilt  NumberofBuildings  \\\n",
       "0  Mayflower park hotel     Downtown       1927                1.0   \n",
       "1       Paramount hotel     Downtown       1996                1.0   \n",
       "2          Westin hotel     Downtown       1969                1.0   \n",
       "\n",
       "   NumberofFloors  PropertyGFATotal  ...  SiteEnergyUse(kBtu)  \\\n",
       "0            12.0             88434  ...            6981428.0   \n",
       "1            11.0            103566  ...            8354235.0   \n",
       "2            41.0            961990  ...           73130656.0   \n",
       "\n",
       "   SiteEnergyUseWN(kBtu)  SteamUse(kBtu)  Electricity(kWh)  Electricity(kBtu)  \\\n",
       "0              7097539.0       2023032.0         1080307.0          3686160.0   \n",
       "1              8765788.0             0.0         1144563.0          3905411.0   \n",
       "2             75506272.0      19660404.0        14583930.0         49762435.0   \n",
       "\n",
       "   NaturalGas(therms)  NaturalGas(kBtu)  OtherFuelUse(kBtu)  \\\n",
       "0             12724.0         1272388.0                 0.0   \n",
       "1             44490.0         4448985.0                 0.0   \n",
       "2             37099.0         3709900.0                 0.0   \n",
       "\n",
       "   TotalGHGEmissions  GHGEmissionsIntensity  \n",
       "0             249.43                   2.64  \n",
       "1             263.51                   2.38  \n",
       "2            2061.48                   1.92  \n",
       "\n",
       "[3 rows x 27 columns]"
      ]
     },
     "execution_count": 19,
     "metadata": {},
     "output_type": "execute_result"
    }
   ],
   "source": [
    "# Jointure entre le dataset de 2015 et de 2016\n",
    "df = pd.concat([df_2015,df_2016], join=\"outer\", ignore_index=True, verify_integrity=True)\n",
    "df.head(3)"
   ]
  },
  {
   "cell_type": "markdown",
   "id": "15c52d92",
   "metadata": {},
   "source": [
    "## Traitement du dataset crée"
   ]
  },
  {
   "cell_type": "code",
   "execution_count": 20,
   "id": "5568d8c9",
   "metadata": {},
   "outputs": [],
   "source": [
    "df = df.loc[df[\"DataYear\"] == 2015]"
   ]
  },
  {
   "cell_type": "code",
   "execution_count": 21,
   "id": "6d0fcd4b",
   "metadata": {},
   "outputs": [],
   "source": [
    "# Conservation des bâtiments non résidentiel\n",
    "df = df.loc[(df[\"BuildingType\"] == \"NonResidential\") |\n",
    "            (df[\"BuildingType\"] == \"SPS-District K-12\")| \n",
    "            (df[\"BuildingType\"] == \"Nonresidential COS\")|\n",
    "            (df[\"BuildingType\"] == \"Campus\")]"
   ]
  },
  {
   "cell_type": "code",
   "execution_count": 22,
   "id": "887abf70",
   "metadata": {},
   "outputs": [],
   "source": [
    "# Harmonisation des chaînes de caractères\n",
    "char_correction = {\"Distribution Center\\n\" : \"Distribution Center\",\n",
    "                   \"Self-Storage Facility\\n\" : \"Self-Storage Facility\",\n",
    "                   \"Restaurant\\n\" : \"Restaurant\",\n",
    "                   \"Supermarket / Grocery Store\": \"Supermarket/Grocery Store\",\n",
    "                   \"Residence Hall/Dormitory\" : \"Residence Hall\"}\n",
    "\n",
    "for key, value in char_correction.items():\n",
    "    df['PrimaryPropertyType'].loc[df[\"PrimaryPropertyType\"].str.contains(key, case=False, regex=False)] = value"
   ]
  },
  {
   "cell_type": "code",
   "execution_count": 23,
   "id": "67559785",
   "metadata": {},
   "outputs": [],
   "source": [
    "neighborhood_correction = {\"Delridge neighborhoods\": \"Delridge\"}\n",
    "\n",
    "for key, value in neighborhood_correction.items():\n",
    "    df[\"Neighborhood\"].loc[df[\"Neighborhood\"].str.contains(key, case=False, regex=False)] = value"
   ]
  },
  {
   "cell_type": "code",
   "execution_count": 24,
   "id": "e57b2491",
   "metadata": {},
   "outputs": [],
   "source": [
    "df = df.loc[~(df[\"PrimaryPropertyType\"] == \"Low-Rise Multifamily\")]"
   ]
  },
  {
   "cell_type": "code",
   "execution_count": 25,
   "id": "7602cbca",
   "metadata": {},
   "outputs": [],
   "source": [
    "df = df.loc[~(df[\"NumberofBuildings\"] == 0)]"
   ]
  },
  {
   "cell_type": "code",
   "execution_count": 26,
   "id": "60dbbc59",
   "metadata": {},
   "outputs": [],
   "source": [
    "# Suppression des colonnes redondantes\n",
    "df.drop([\"OSEBuildingID\",\"PropertyName\",\"DataYear\", \"PropertyGFABuilding(s)\",\"LargestPropertyUseTypeGFA\", \"SiteEUI(kBtu/sf)\", \"SourceEUI(kBtu/sf)\", \"SiteEUIWN(kBtu/sf)\",\n",
    "         \"SiteEnergyUse(kBtu)\", \"Electricity(kWh)\", \"NaturalGas(therms)\"], axis=1, inplace=True)"
   ]
  },
  {
   "cell_type": "code",
   "execution_count": 27,
   "id": "9597772c",
   "metadata": {},
   "outputs": [
    {
     "data": {
      "text/plain": [
       "(1648, 16)"
      ]
     },
     "execution_count": 27,
     "metadata": {},
     "output_type": "execute_result"
    }
   ],
   "source": [
    "df.shape"
   ]
  },
  {
   "cell_type": "markdown",
   "id": "e611b76a",
   "metadata": {},
   "source": [
    "Après fusion des deux datasets, un traitement a été effectué pour permettre de ne conserver que les bâtiments qui ne sont pas des bâtiments non résidentiels. Ensuite, une harmonisation des chaînes de caractères a été effectué pour enlever les doublons à cause de différences dans la saisie des données. Enfin, les données énergétiques sont exprimées dans deux unités : en kBtu et en kWh. Pour des raisons pratiques, seules les données exprimées en kBtu sont conservées. Ensuite selon les informations du site energystar.gov, il est conseillé de travailler sur les données de type \"Source\" au lieu des données de type \"Site\". Enfin, les données normalisées sur la météo ont été conservées. "
   ]
  },
  {
   "cell_type": "markdown",
   "id": "ff7b7864",
   "metadata": {},
   "source": [
    "# Feature Engineering"
   ]
  },
  {
   "cell_type": "code",
   "execution_count": 28,
   "id": "cf233f59",
   "metadata": {},
   "outputs": [],
   "source": [
    "property_use = {\"K-12 School\" : \"Educational Building\",\n",
    "                \"University\" : \"Educational Building\",\n",
    "                \"College/University\" : \"Educational Building\",\n",
    "                \"SPS-District K-12\" : \"Educational Building\",\n",
    "                \"Laboratory\" : \"Other\"}\n",
    "\n",
    "for key, value in property_use.items():\n",
    "    df['PrimaryPropertyType'].loc[df[\"PrimaryPropertyType\"].str.contains(key, case=False, regex=False)] = value"
   ]
  },
  {
   "cell_type": "code",
   "execution_count": 29,
   "id": "f8339855",
   "metadata": {},
   "outputs": [],
   "source": [
    "df[\"DecadeBuilt\"] = pd.cut(df[\"YearBuilt\"], 12, \n",
    "labels=['1900s', '1910s', '1920s', '1930s', '1940s', '1950s', '1960s', '1970s', '1980s', '1990s', '2000s', '2010s'], ordered=True)"
   ]
  },
  {
   "cell_type": "code",
   "execution_count": 30,
   "id": "5293aa77",
   "metadata": {},
   "outputs": [],
   "source": [
    "bins = [1, 2, 10, 20, 100]\n",
    "\n",
    "df['NoBuildings'] = pd.cut(df[\"NumberofBuildings\"], bins, \n",
    "                   labels=[\"1-2\", \"2-10\", \"11-20\", \"21+\"], ordered=True)"
   ]
  },
  {
   "cell_type": "code",
   "execution_count": 31,
   "id": "2d6a9821",
   "metadata": {},
   "outputs": [],
   "source": [
    "bins = [0, 1, 5, 10, 15, 20, 30, 40, 50, 100]\n",
    "\n",
    "df[\"NoFloors\"] = pd.cut(df[\"NumberofFloors\"], bins, \n",
    "                 labels=[\"0-1\", \"2-5\", \"6-10\", \"11-15\", \"16-20\", \"21-30\", \"31-40\", \"41-50\", \"50+\"], ordered=True)"
   ]
  },
  {
   "cell_type": "code",
   "execution_count": 32,
   "id": "41cd271d",
   "metadata": {},
   "outputs": [
    {
     "data": {
      "text/plain": [
       "Index(['BuildingType', 'PrimaryPropertyType', 'Neighborhood', 'YearBuilt',\n",
       "       'NumberofBuildings', 'NumberofFloors', 'PropertyGFATotal',\n",
       "       'ENERGYSTARScore', 'SourceEUIWN(kBtu/sf)', 'SiteEnergyUseWN(kBtu)',\n",
       "       'SteamUse(kBtu)', 'Electricity(kBtu)', 'NaturalGas(kBtu)',\n",
       "       'OtherFuelUse(kBtu)', 'TotalGHGEmissions', 'GHGEmissionsIntensity',\n",
       "       'DecadeBuilt', 'NoBuildings', 'NoFloors'],\n",
       "      dtype='object')"
      ]
     },
     "execution_count": 32,
     "metadata": {},
     "output_type": "execute_result"
    }
   ],
   "source": [
    "df.columns"
   ]
  },
  {
   "cell_type": "code",
   "execution_count": 33,
   "id": "e88c3295",
   "metadata": {},
   "outputs": [
    {
     "ename": "KeyError",
     "evalue": "''",
     "output_type": "error",
     "traceback": [
      "\u001b[1;31m---------------------------------------------------------------------------\u001b[0m",
      "\u001b[1;31mKeyError\u001b[0m                                  Traceback (most recent call last)",
      "\u001b[1;32m~\\anaconda3\\lib\\site-packages\\pandas\\core\\indexes\\base.py\u001b[0m in \u001b[0;36mget_loc\u001b[1;34m(self, key, method, tolerance)\u001b[0m\n\u001b[0;32m   3080\u001b[0m             \u001b[1;32mtry\u001b[0m\u001b[1;33m:\u001b[0m\u001b[1;33m\u001b[0m\u001b[1;33m\u001b[0m\u001b[0m\n\u001b[1;32m-> 3081\u001b[1;33m                 \u001b[1;32mreturn\u001b[0m \u001b[0mself\u001b[0m\u001b[1;33m.\u001b[0m\u001b[0m_engine\u001b[0m\u001b[1;33m.\u001b[0m\u001b[0mget_loc\u001b[0m\u001b[1;33m(\u001b[0m\u001b[0mcasted_key\u001b[0m\u001b[1;33m)\u001b[0m\u001b[1;33m\u001b[0m\u001b[1;33m\u001b[0m\u001b[0m\n\u001b[0m\u001b[0;32m   3082\u001b[0m             \u001b[1;32mexcept\u001b[0m \u001b[0mKeyError\u001b[0m \u001b[1;32mas\u001b[0m \u001b[0merr\u001b[0m\u001b[1;33m:\u001b[0m\u001b[1;33m\u001b[0m\u001b[1;33m\u001b[0m\u001b[0m\n",
      "\u001b[1;32mpandas\\_libs\\index.pyx\u001b[0m in \u001b[0;36mpandas._libs.index.IndexEngine.get_loc\u001b[1;34m()\u001b[0m\n",
      "\u001b[1;32mpandas\\_libs\\index.pyx\u001b[0m in \u001b[0;36mpandas._libs.index.IndexEngine.get_loc\u001b[1;34m()\u001b[0m\n",
      "\u001b[1;32mpandas\\_libs\\hashtable_class_helper.pxi\u001b[0m in \u001b[0;36mpandas._libs.hashtable.PyObjectHashTable.get_item\u001b[1;34m()\u001b[0m\n",
      "\u001b[1;32mpandas\\_libs\\hashtable_class_helper.pxi\u001b[0m in \u001b[0;36mpandas._libs.hashtable.PyObjectHashTable.get_item\u001b[1;34m()\u001b[0m\n",
      "\u001b[1;31mKeyError\u001b[0m: ''",
      "\nThe above exception was the direct cause of the following exception:\n",
      "\u001b[1;31mKeyError\u001b[0m                                  Traceback (most recent call last)",
      "\u001b[1;32m<ipython-input-33-5c714c621e71>\u001b[0m in \u001b[0;36m<module>\u001b[1;34m\u001b[0m\n\u001b[1;32m----> 1\u001b[1;33m \u001b[0mdf\u001b[0m\u001b[1;33m[\u001b[0m\u001b[1;34m\"pct_Electricity\"\u001b[0m\u001b[1;33m]\u001b[0m \u001b[1;33m=\u001b[0m \u001b[0mdf\u001b[0m\u001b[1;33m[\u001b[0m\u001b[1;34m\"Electricity(kBtu)\"\u001b[0m\u001b[1;33m]\u001b[0m\u001b[1;33m/\u001b[0m\u001b[0mdf\u001b[0m\u001b[1;33m[\u001b[0m\u001b[1;34m\"\"\u001b[0m\u001b[1;33m]\u001b[0m\u001b[1;33m\u001b[0m\u001b[1;33m\u001b[0m\u001b[0m\n\u001b[0m",
      "\u001b[1;32m~\\anaconda3\\lib\\site-packages\\pandas\\core\\frame.py\u001b[0m in \u001b[0;36m__getitem__\u001b[1;34m(self, key)\u001b[0m\n\u001b[0;32m   3022\u001b[0m             \u001b[1;32mif\u001b[0m \u001b[0mself\u001b[0m\u001b[1;33m.\u001b[0m\u001b[0mcolumns\u001b[0m\u001b[1;33m.\u001b[0m\u001b[0mnlevels\u001b[0m \u001b[1;33m>\u001b[0m \u001b[1;36m1\u001b[0m\u001b[1;33m:\u001b[0m\u001b[1;33m\u001b[0m\u001b[1;33m\u001b[0m\u001b[0m\n\u001b[0;32m   3023\u001b[0m                 \u001b[1;32mreturn\u001b[0m \u001b[0mself\u001b[0m\u001b[1;33m.\u001b[0m\u001b[0m_getitem_multilevel\u001b[0m\u001b[1;33m(\u001b[0m\u001b[0mkey\u001b[0m\u001b[1;33m)\u001b[0m\u001b[1;33m\u001b[0m\u001b[1;33m\u001b[0m\u001b[0m\n\u001b[1;32m-> 3024\u001b[1;33m             \u001b[0mindexer\u001b[0m \u001b[1;33m=\u001b[0m \u001b[0mself\u001b[0m\u001b[1;33m.\u001b[0m\u001b[0mcolumns\u001b[0m\u001b[1;33m.\u001b[0m\u001b[0mget_loc\u001b[0m\u001b[1;33m(\u001b[0m\u001b[0mkey\u001b[0m\u001b[1;33m)\u001b[0m\u001b[1;33m\u001b[0m\u001b[1;33m\u001b[0m\u001b[0m\n\u001b[0m\u001b[0;32m   3025\u001b[0m             \u001b[1;32mif\u001b[0m \u001b[0mis_integer\u001b[0m\u001b[1;33m(\u001b[0m\u001b[0mindexer\u001b[0m\u001b[1;33m)\u001b[0m\u001b[1;33m:\u001b[0m\u001b[1;33m\u001b[0m\u001b[1;33m\u001b[0m\u001b[0m\n\u001b[0;32m   3026\u001b[0m                 \u001b[0mindexer\u001b[0m \u001b[1;33m=\u001b[0m \u001b[1;33m[\u001b[0m\u001b[0mindexer\u001b[0m\u001b[1;33m]\u001b[0m\u001b[1;33m\u001b[0m\u001b[1;33m\u001b[0m\u001b[0m\n",
      "\u001b[1;32m~\\anaconda3\\lib\\site-packages\\pandas\\core\\indexes\\base.py\u001b[0m in \u001b[0;36mget_loc\u001b[1;34m(self, key, method, tolerance)\u001b[0m\n\u001b[0;32m   3081\u001b[0m                 \u001b[1;32mreturn\u001b[0m \u001b[0mself\u001b[0m\u001b[1;33m.\u001b[0m\u001b[0m_engine\u001b[0m\u001b[1;33m.\u001b[0m\u001b[0mget_loc\u001b[0m\u001b[1;33m(\u001b[0m\u001b[0mcasted_key\u001b[0m\u001b[1;33m)\u001b[0m\u001b[1;33m\u001b[0m\u001b[1;33m\u001b[0m\u001b[0m\n\u001b[0;32m   3082\u001b[0m             \u001b[1;32mexcept\u001b[0m \u001b[0mKeyError\u001b[0m \u001b[1;32mas\u001b[0m \u001b[0merr\u001b[0m\u001b[1;33m:\u001b[0m\u001b[1;33m\u001b[0m\u001b[1;33m\u001b[0m\u001b[0m\n\u001b[1;32m-> 3083\u001b[1;33m                 \u001b[1;32mraise\u001b[0m \u001b[0mKeyError\u001b[0m\u001b[1;33m(\u001b[0m\u001b[0mkey\u001b[0m\u001b[1;33m)\u001b[0m \u001b[1;32mfrom\u001b[0m \u001b[0merr\u001b[0m\u001b[1;33m\u001b[0m\u001b[1;33m\u001b[0m\u001b[0m\n\u001b[0m\u001b[0;32m   3084\u001b[0m \u001b[1;33m\u001b[0m\u001b[0m\n\u001b[0;32m   3085\u001b[0m         \u001b[1;32mif\u001b[0m \u001b[0mtolerance\u001b[0m \u001b[1;32mis\u001b[0m \u001b[1;32mnot\u001b[0m \u001b[1;32mNone\u001b[0m\u001b[1;33m:\u001b[0m\u001b[1;33m\u001b[0m\u001b[1;33m\u001b[0m\u001b[0m\n",
      "\u001b[1;31mKeyError\u001b[0m: ''"
     ]
    }
   ],
   "source": [
    "df[\"pct_SteamUse\"] = (df[\"SteamUse(kBtu)\"]/df[\"SiteEnergyUseWN(kBtu)\"]) * 100\n",
    "df[\"pct_Electricity\"] = (df[\"Electricity(kBtu)\"]/df[\"SiteEnergyUseWN(kBtu)\"]) * 100\n",
    "df[\"pct_NaturalGas\"] = (df[\"NaturalGas(kBtu)\"]/df[\"SiteEnergyUseWN(kBtu)\"]) * 100\n",
    "df[\"pct_OtherFuelUse\"] = (df[\"OtherFuelUse(kBtu)\"]/df[\"SiteEnergyUseWN(kBtu)\"]) * 100"
   ]
  },
  {
   "cell_type": "markdown",
   "id": "f0e1461d",
   "metadata": {},
   "source": [
    "# Analyse exploratoire"
   ]
  },
  {
   "cell_type": "markdown",
   "id": "85ae2994",
   "metadata": {},
   "source": [
    "La première étape avant de débuter l'analyse exploratoire est de séparer notre jeu de données en deux parties. Le jeu de test ne sera utilisé que pour tester les performances du modèle choisi. Cette étape est réalisée pour éviter la fuite de données. "
   ]
  },
  {
   "cell_type": "markdown",
   "id": "bc2538ab",
   "metadata": {},
   "source": [
    "## Séparation du jeu de données"
   ]
  },
  {
   "cell_type": "markdown",
   "id": "a66817b5",
   "metadata": {},
   "source": [
    "On crée un jeu de données d'entraînement qui va être celui que l'on va analyser durant l'analyse exploratoire des données. Le jeu de test sera laissé de côté pour valider nos modèles.  Le jeu de test contiendra 20% des données de notre échantillon et sera stratifié sur le type de propriété. Le but est de s'assurer que l'on retrouve bien toutes les valeurs de cette variable dans nos deux échantillons. "
   ]
  },
  {
   "cell_type": "code",
   "execution_count": null,
   "id": "c0983d9f",
   "metadata": {},
   "outputs": [],
   "source": [
    "from sklearn.model_selection import train_test_split\n",
    "\n",
    "test_set, train_set = train_test_split(df, test_size=0.2, random_state=42, stratify=df[\"PrimaryPropertyType\"])"
   ]
  },
  {
   "cell_type": "code",
   "execution_count": null,
   "id": "1aee7002",
   "metadata": {},
   "outputs": [],
   "source": [
    "# Enregistrement des datasets séparés pour pouvoir effectuer les modèles dans un autre notebook\n",
    "test_set.to_csv(\"datasets/test_set.csv\", index=False)\n",
    "train_set.to_csv(\"datasets/train_set.csv\", index=False)"
   ]
  },
  {
   "cell_type": "code",
   "execution_count": null,
   "id": "45c37824",
   "metadata": {},
   "outputs": [],
   "source": [
    "df = test_set.copy()"
   ]
  },
  {
   "cell_type": "markdown",
   "id": "c237ab1f",
   "metadata": {},
   "source": [
    "## Analyses descriptives"
   ]
  },
  {
   "cell_type": "code",
   "execution_count": null,
   "id": "3c7346f5",
   "metadata": {},
   "outputs": [],
   "source": [
    "df.shape"
   ]
  },
  {
   "cell_type": "code",
   "execution_count": null,
   "id": "7fb32ac6",
   "metadata": {},
   "outputs": [],
   "source": [
    "df.columns"
   ]
  },
  {
   "cell_type": "code",
   "execution_count": null,
   "id": "5168a7a0",
   "metadata": {},
   "outputs": [],
   "source": [
    "cat_var = [\"BuildingType\", \"PrimaryPropertyType\", \"Neighborhood\",\n",
    "           \"NumberofBuildings\", \"NoFloors\", \"NoBuildings\", \"DecadeBuilt\"]\n",
    "\n",
    "num_var = [\"YearBuilt\", \"NumberofFloors\", \"PropertyGFATotal\",\n",
    "           \"ENERGYSTARScore\", \"SourceEUIWN(kBtu/sf)\", \"SteamUse(kBtu)\",\n",
    "           \"Electricity(kBtu)\", \"NaturalGas(kBtu)\", \n",
    "           \"OtherFuelUse(kBtu)\",\"TotalGHGEmissions\", \"GHGEmissionsIntensity\"]"
   ]
  },
  {
   "cell_type": "code",
   "execution_count": null,
   "id": "eb6a1e35",
   "metadata": {},
   "outputs": [],
   "source": [
    "for col in num_var : \n",
    "    ind = df.loc[(df[col] < 0)].index.to_list()\n",
    "    df.drop(index=ind, inplace=True)"
   ]
  },
  {
   "cell_type": "code",
   "execution_count": null,
   "id": "593ae719",
   "metadata": {
    "scrolled": false
   },
   "outputs": [],
   "source": [
    "for cols in cat_var:\n",
    "    sns.countplot(y=cols, data=df, order=df[cols].value_counts().index)\n",
    "    plt.title(cols)\n",
    "    plt.show()"
   ]
  },
  {
   "cell_type": "code",
   "execution_count": null,
   "id": "c1e83b35",
   "metadata": {
    "scrolled": false
   },
   "outputs": [],
   "source": [
    "for cols in num_var:\n",
    "    sns.displot(x=cols, data=df, kde=True)\n",
    "    plt.title(cols)\n",
    "    plt.show()"
   ]
  },
  {
   "cell_type": "code",
   "execution_count": null,
   "id": "ce079897",
   "metadata": {
    "scrolled": false
   },
   "outputs": [],
   "source": [
    "for cols in num_var:\n",
    "    sns.boxplot(x=cols, data=df)\n",
    "    plt.title(cols)\n",
    "    plt.show()"
   ]
  },
  {
   "cell_type": "code",
   "execution_count": null,
   "id": "f381477f",
   "metadata": {},
   "outputs": [],
   "source": [
    "pg.normality(df,method=\"shapiro\")"
   ]
  },
  {
   "cell_type": "code",
   "execution_count": null,
   "id": "761644de",
   "metadata": {},
   "outputs": [],
   "source": [
    "pg.homoscedasticity(df, method=\"levene\")"
   ]
  },
  {
   "cell_type": "code",
   "execution_count": null,
   "id": "27e99056",
   "metadata": {
    "scrolled": true
   },
   "outputs": [],
   "source": [
    "df.describe()"
   ]
  },
  {
   "cell_type": "markdown",
   "id": "7f714151",
   "metadata": {},
   "source": [
    "### Analyses bivariées"
   ]
  },
  {
   "cell_type": "code",
   "execution_count": null,
   "id": "8f050734",
   "metadata": {},
   "outputs": [],
   "source": [
    "matrix = df.corr()\n",
    "\n",
    "plt.figure(figsize=(15, 15))\n",
    "sns.heatmap(matrix, square=True, annot=True, cmap=\"coolwarm\")\n",
    "plt.title(\"Matrice de corrélation des variables quantitatives\")\n",
    "plt.show()"
   ]
  },
  {
   "cell_type": "code",
   "execution_count": null,
   "id": "5c935037",
   "metadata": {},
   "outputs": [],
   "source": [
    "matrix['ENERGYSTARScore'].sort_values(ascending=False)"
   ]
  },
  {
   "cell_type": "code",
   "execution_count": null,
   "id": "28e96f96",
   "metadata": {},
   "outputs": [],
   "source": [
    "matrix['SourceEUIWN(kBtu/sf)'].sort_values(ascending=False)"
   ]
  },
  {
   "cell_type": "code",
   "execution_count": null,
   "id": "197059d9",
   "metadata": {},
   "outputs": [],
   "source": [
    "sns.boxplot(x=\"ENERGYSTARScore\", y=\"BuildingType\", data=df)\n",
    "plt.show()"
   ]
  },
  {
   "cell_type": "code",
   "execution_count": null,
   "id": "de3d6d8a",
   "metadata": {},
   "outputs": [],
   "source": [
    "pg.anova(data=df, dv=\"ENERGYSTARScore\", between=\"BuildingType\")"
   ]
  },
  {
   "cell_type": "code",
   "execution_count": null,
   "id": "a803e67e",
   "metadata": {},
   "outputs": [],
   "source": [
    "sns.boxplot(x=\"SourceEUIWN(kBtu/sf)\", y=\"BuildingType\", data=df)\n",
    "plt.show()"
   ]
  },
  {
   "cell_type": "code",
   "execution_count": null,
   "id": "651ff69f",
   "metadata": {},
   "outputs": [],
   "source": [
    "pg.anova(data=df, dv=\"SourceEUIWN(kBtu/sf)\", between=\"BuildingType\")"
   ]
  },
  {
   "cell_type": "code",
   "execution_count": null,
   "id": "09001356",
   "metadata": {
    "scrolled": true
   },
   "outputs": [],
   "source": [
    "sns.boxplot(x=\"ENERGYSTARScore\", y=\"Neighborhood\", data=df)\n",
    "plt.show()"
   ]
  },
  {
   "cell_type": "code",
   "execution_count": null,
   "id": "97c56d80",
   "metadata": {},
   "outputs": [],
   "source": [
    "pg.anova(data=df, dv=\"ENERGYSTARScore\", between=\"Neighborhood\")"
   ]
  },
  {
   "cell_type": "code",
   "execution_count": null,
   "id": "af090f8d",
   "metadata": {},
   "outputs": [],
   "source": [
    "sns.boxplot(x=\"SourceEUIWN(kBtu/sf)\", y=\"Neighborhood\", data=df)\n",
    "plt.show()"
   ]
  },
  {
   "cell_type": "code",
   "execution_count": null,
   "id": "f9a1a62a",
   "metadata": {},
   "outputs": [],
   "source": [
    "pg.anova(data=df, dv=\"SourceEUIWN(kBtu/sf)\", between=\"Neighborhood\")"
   ]
  },
  {
   "cell_type": "code",
   "execution_count": null,
   "id": "cadfa31e",
   "metadata": {},
   "outputs": [],
   "source": [
    "sns.boxplot(x=\"ENERGYSTARScore\", y=\"PrimaryPropertyType\", data=df)\n",
    "plt.show()"
   ]
  },
  {
   "cell_type": "code",
   "execution_count": null,
   "id": "804d3d9e",
   "metadata": {},
   "outputs": [],
   "source": [
    "pg.anova(data=df, dv=\"ENERGYSTARScore\", between=\"PrimaryPropertyType\")"
   ]
  },
  {
   "cell_type": "code",
   "execution_count": null,
   "id": "4901866b",
   "metadata": {},
   "outputs": [],
   "source": [
    "sns.boxplot(x=\"SourceEUIWN(kBtu/sf)\", y=\"PrimaryPropertyType\", data=df)\n",
    "plt.show()"
   ]
  },
  {
   "cell_type": "code",
   "execution_count": null,
   "id": "43b01d7a",
   "metadata": {},
   "outputs": [],
   "source": [
    "pg.anova(data=df, dv=\"SourceEUIWN(kBtu/sf)\", between=\"PrimaryPropertyType\")"
   ]
  }
 ],
 "metadata": {
  "kernelspec": {
   "display_name": "Python 3",
   "language": "python",
   "name": "python3"
  },
  "language_info": {
   "codemirror_mode": {
    "name": "ipython",
    "version": 3
   },
   "file_extension": ".py",
   "mimetype": "text/x-python",
   "name": "python",
   "nbconvert_exporter": "python",
   "pygments_lexer": "ipython3",
   "version": "3.8.10"
  }
 },
 "nbformat": 4,
 "nbformat_minor": 5
}
