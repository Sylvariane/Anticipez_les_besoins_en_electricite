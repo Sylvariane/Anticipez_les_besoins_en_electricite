{
 "cells": [
  {
   "cell_type": "markdown",
   "id": "38f6b41f",
   "metadata": {},
   "source": [
    "# Recherche de modèles pour la prédiction de la consommation d'énergie et des émissions de gaz à effets de serre"
   ]
  },
  {
   "cell_type": "markdown",
   "id": "c8aaa727",
   "metadata": {},
   "source": [
    "## Sommaire\n",
    "\n",
    "* [1 - Préparation du notebook](#chapter1)\n",
    "\n",
    "\n",
    "* [2 - Prédiction de la consommation d'énergie](#chapter2)\n",
    "    * [2.1. Création d'un modèle \"baseline\"](#section_2_1)\n",
    "        * [2.1.1. Préparation des données](#section_2_1_1)\n",
    "        * [2.1.2. Création d'un modèle de base](#section_2_1_2)\n",
    "        * [2.1.3. Evaluation du modèle avec le jeu de test](#section_2_1_3)\n",
    "    * [2.2. Choix du modèle le plus adapté](#section_2_2)\n",
    "    * [2.3. Choix des hyperparamètres](#section_2_3)\n",
    "    * [2.4. Analyses des erreurs](#section_2_4)\n",
    "    * [2.5. Pipeline final](#section_2_5)\n",
    "    \n",
    "    \n",
    "* [3 - Prédiction des émissions de gaz à effets de serre](#chapter3)\n",
    "    * [3.1. Préparation des variables](#section_3_1)\n",
    "    * [3.2. Création d'un modèle \"baseline\"](#section_3_2)\n",
    "    * [3.3. Choix du modèle le plus adapté](#section_3_3)\n",
    "    * [3.4. Choix des hyperparamètres](#section_3_4)\n",
    "    * [3.5. Analyses des erreurs](#section_3_5)\n",
    "    * [3.6. Pipeline finale](#section_3_6)\n",
    "    \n",
    "* [4 - Conclusion](#chapter4)"
   ]
  },
  {
   "cell_type": "markdown",
   "id": "6dec3ebf",
   "metadata": {},
   "source": [
    "# 1) Préparation du notebook <a class=\"anchor\" id=\"chapter1\"></a>"
   ]
  },
  {
   "cell_type": "code",
   "execution_count": 1,
   "id": "d03e588c",
   "metadata": {},
   "outputs": [],
   "source": [
    "# importation des librairies nécessaires aux tests de modèle\n",
    "import warnings\n",
    "warnings.filterwarnings(\"ignore\")\n",
    "\n",
    "import pandas as pd\n",
    "import numpy as np\n",
    "from scipy import stats\n",
    "\n",
    "import matplotlib.pyplot as plt\n",
    "import seaborn as sns\n",
    "import sklearn\n",
    "from sklearn.preprocessing import OneHotEncoder, StandardScaler\n",
    "from sklearn.impute import SimpleImputer\n",
    "from sklearn.metrics import mean_absolute_error, mean_squared_error, r2_score\n",
    "from sklearn.model_selection import train_test_split\n",
    "from sklearn.feature_selection import SelectFromModel\n",
    "from yellowbrick.regressor import ResidualsPlot, prediction_error"
   ]
  },
  {
   "cell_type": "code",
   "execution_count": 2,
   "id": "fa2a74fd",
   "metadata": {},
   "outputs": [],
   "source": [
    "# Paramétrage visuelle de Scikit-Learn\n",
    "sklearn.set_config(display=\"diagram\")"
   ]
  },
  {
   "cell_type": "code",
   "execution_count": 3,
   "id": "9edf29ee",
   "metadata": {},
   "outputs": [],
   "source": [
    "# Fonction créée pour l'évaluation des modèles\n",
    "def regression_metrics(y_test, y_pred):\n",
    "    \"\"\"Function which contains differents metrics about regression\n",
    "    Input: y_test, prediction\n",
    "    \n",
    "    Output: MAE, MSE, RMSE & R² score  \n",
    "    \"\"\"\n",
    "    mae = mean_absolute_error(y_test, y_pred)\n",
    "    mse = mean_squared_error(y_test, y_pred)\n",
    "    rmse = mse ** (1/2)\n",
    "    r_score = r2_score(y_test, y_pred)\n",
    "    print(\"MAE :\",mae.round(5))\n",
    "    print(\"MSE :\", mse.round(5))\n",
    "    print(\"RMSE :\", rmse.round(5))\n",
    "    print(\"R² :\", r_score.round(5))"
   ]
  },
  {
   "cell_type": "code",
   "execution_count": 4,
   "id": "81b931cb",
   "metadata": {},
   "outputs": [
    {
     "data": {
      "text/html": [
       "<div>\n",
       "<style scoped>\n",
       "    .dataframe tbody tr th:only-of-type {\n",
       "        vertical-align: middle;\n",
       "    }\n",
       "\n",
       "    .dataframe tbody tr th {\n",
       "        vertical-align: top;\n",
       "    }\n",
       "\n",
       "    .dataframe thead th {\n",
       "        text-align: right;\n",
       "    }\n",
       "</style>\n",
       "<table border=\"1\" class=\"dataframe\">\n",
       "  <thead>\n",
       "    <tr style=\"text-align: right;\">\n",
       "      <th></th>\n",
       "      <th>PrimaryPropertyType</th>\n",
       "      <th>Neighborhood</th>\n",
       "      <th>YearBuilt</th>\n",
       "      <th>NumberofBuildings</th>\n",
       "      <th>NumberofFloors</th>\n",
       "      <th>PropertyGFATotal</th>\n",
       "      <th>ENERGYSTARScore</th>\n",
       "      <th>SiteEnergyUse(kBtu)</th>\n",
       "      <th>TotalGHGEmissions</th>\n",
       "    </tr>\n",
       "  </thead>\n",
       "  <tbody>\n",
       "    <tr>\n",
       "      <th>0</th>\n",
       "      <td>Hotel</td>\n",
       "      <td>Downtown</td>\n",
       "      <td>1927</td>\n",
       "      <td>1.0</td>\n",
       "      <td>12.0</td>\n",
       "      <td>88434</td>\n",
       "      <td>65.0</td>\n",
       "      <td>6981428.0</td>\n",
       "      <td>249.43</td>\n",
       "    </tr>\n",
       "    <tr>\n",
       "      <th>1</th>\n",
       "      <td>Hotel</td>\n",
       "      <td>Downtown</td>\n",
       "      <td>1996</td>\n",
       "      <td>1.0</td>\n",
       "      <td>11.0</td>\n",
       "      <td>103566</td>\n",
       "      <td>51.0</td>\n",
       "      <td>8354235.0</td>\n",
       "      <td>263.51</td>\n",
       "    </tr>\n",
       "    <tr>\n",
       "      <th>2</th>\n",
       "      <td>Hotel</td>\n",
       "      <td>Downtown</td>\n",
       "      <td>1969</td>\n",
       "      <td>1.0</td>\n",
       "      <td>41.0</td>\n",
       "      <td>961990</td>\n",
       "      <td>18.0</td>\n",
       "      <td>73130656.0</td>\n",
       "      <td>2061.48</td>\n",
       "    </tr>\n",
       "  </tbody>\n",
       "</table>\n",
       "</div>"
      ],
      "text/plain": [
       "  PrimaryPropertyType Neighborhood  YearBuilt  NumberofBuildings  \\\n",
       "0               Hotel     Downtown       1927                1.0   \n",
       "1               Hotel     Downtown       1996                1.0   \n",
       "2               Hotel     Downtown       1969                1.0   \n",
       "\n",
       "   NumberofFloors  PropertyGFATotal  ENERGYSTARScore  SiteEnergyUse(kBtu)  \\\n",
       "0            12.0             88434             65.0            6981428.0   \n",
       "1            11.0            103566             51.0            8354235.0   \n",
       "2            41.0            961990             18.0           73130656.0   \n",
       "\n",
       "   TotalGHGEmissions  \n",
       "0             249.43  \n",
       "1             263.51  \n",
       "2            2061.48  "
      ]
     },
     "execution_count": 4,
     "metadata": {},
     "output_type": "execute_result"
    }
   ],
   "source": [
    "data = pd.read_csv(\"datasets/benchmark_total.csv\")\n",
    "data.head(3)"
   ]
  },
  {
   "cell_type": "code",
   "execution_count": 5,
   "id": "33d05837",
   "metadata": {},
   "outputs": [],
   "source": [
    "y_energy = data[\"SiteEnergyUse(kBtu)\"].values\n",
    "y_ghg = data[\"TotalGHGEmissions\"].values\n",
    "X = data.drop([\"SiteEnergyUse(kBtu)\", \"TotalGHGEmissions\", \"ENERGYSTARScore\"], axis=1)\n",
    "\n",
    "y_energy = np.log1p(y_energy)\n",
    "y_ghg = np.log1p(y_ghg)"
   ]
  },
  {
   "cell_type": "code",
   "execution_count": 6,
   "id": "3af2e278",
   "metadata": {},
   "outputs": [],
   "source": [
    "X_train, X_test, y_train, y_test = train_test_split(X, y_energy, test_size=0.2, random_state=42)\n",
    "\n",
    "y_train = y_train.reshape(-1,1)\n",
    "y_test = y_test.reshape(-1,1)"
   ]
  },
  {
   "cell_type": "markdown",
   "id": "d40ccf5d",
   "metadata": {},
   "source": [
    "# 2) Prédiction de la consommation d'énergie <a class=\"anchor\" id=\"chapter2\"></a>"
   ]
  },
  {
   "cell_type": "markdown",
   "id": "64af3ad3",
   "metadata": {},
   "source": [
    "## 2.1) Création d'un modèle \"baseline\" <a class=\"anchor\" id=\"section_2_1\"></a>"
   ]
  },
  {
   "cell_type": "markdown",
   "id": "5ceeb733",
   "metadata": {},
   "source": [
    "### 2.1.1) Préparation des données <a class=\"anchor\" id=\"section_2_1_1\"></a>"
   ]
  },
  {
   "cell_type": "code",
   "execution_count": 7,
   "id": "f3095f52",
   "metadata": {},
   "outputs": [],
   "source": [
    "# Séparation des variables catégorielles et numériques\n",
    "\n",
    "cat_var = [\"PrimaryPropertyType\", \"Neighborhood\"]\n",
    "num_var = [\"YearBuilt\", \"NumberofBuildings\", \"NumberofFloors\", \"PropertyGFATotal\"]"
   ]
  },
  {
   "cell_type": "code",
   "execution_count": 8,
   "id": "59ddbef3",
   "metadata": {},
   "outputs": [],
   "source": [
    "# Création d'un pipeline de transformation\n",
    "\n",
    "from sklearn.compose import ColumnTransformer\n",
    "from sklearn.pipeline import Pipeline\n",
    "\n",
    "cat_pipe = Pipeline([\n",
    "    ('imputer', SimpleImputer(strategy='most_frequent', fill_value='missing')),\n",
    "    ('encoder', OneHotEncoder(handle_unknown='ignore', sparse=False))\n",
    "])\n",
    "\n",
    "num_pipe = Pipeline([\n",
    "    ('imputer', SimpleImputer(strategy=\"median\", fill_value=\"missing\")),\n",
    "    ('scaler', StandardScaler())\n",
    "])\n",
    "\n",
    "preprocessor = ColumnTransformer(\n",
    "    transformers=[\n",
    "    ('cat', cat_pipe, cat_var),\n",
    "    ('num', num_pipe, num_var)\n",
    "])"
   ]
  },
  {
   "cell_type": "code",
   "execution_count": 9,
   "id": "df881294",
   "metadata": {},
   "outputs": [],
   "source": [
    "X_train = preprocessor.fit_transform(X_train)"
   ]
  },
  {
   "cell_type": "markdown",
   "id": "10b913ba",
   "metadata": {},
   "source": [
    "### 2.1.2) Création du modèle de base <a class=\"anchor\" id=\"section_2_1_2\"></a>"
   ]
  },
  {
   "cell_type": "markdown",
   "id": "4e09d6e3",
   "metadata": {},
   "source": [
    "Le modèle choisi pour obtenir une baseline est un modèle naïf. Ce type de modèle prédit la valeur médiane de la variable cible. Le but étant d'avoir une prédiction proche de ce que ferait un modèle basé sur le hasard. Les métriques qui sortiront de ce modèle serviront de base pour évaluer les performances d'autres modèles. "
   ]
  },
  {
   "cell_type": "code",
   "execution_count": 10,
   "id": "d0e52a88",
   "metadata": {
    "scrolled": true
   },
   "outputs": [
    {
     "data": {
      "text/html": [
       "<style>#sk-0fe4ea3a-43a0-459b-a8b5-724f4d0c7aa3 {color: black;background-color: white;}#sk-0fe4ea3a-43a0-459b-a8b5-724f4d0c7aa3 pre{padding: 0;}#sk-0fe4ea3a-43a0-459b-a8b5-724f4d0c7aa3 div.sk-toggleable {background-color: white;}#sk-0fe4ea3a-43a0-459b-a8b5-724f4d0c7aa3 label.sk-toggleable__label {cursor: pointer;display: block;width: 100%;margin-bottom: 0;padding: 0.2em 0.3em;box-sizing: border-box;text-align: center;}#sk-0fe4ea3a-43a0-459b-a8b5-724f4d0c7aa3 div.sk-toggleable__content {max-height: 0;max-width: 0;overflow: hidden;text-align: left;background-color: #f0f8ff;}#sk-0fe4ea3a-43a0-459b-a8b5-724f4d0c7aa3 div.sk-toggleable__content pre {margin: 0.2em;color: black;border-radius: 0.25em;background-color: #f0f8ff;}#sk-0fe4ea3a-43a0-459b-a8b5-724f4d0c7aa3 input.sk-toggleable__control:checked~div.sk-toggleable__content {max-height: 200px;max-width: 100%;overflow: auto;}#sk-0fe4ea3a-43a0-459b-a8b5-724f4d0c7aa3 div.sk-estimator input.sk-toggleable__control:checked~label.sk-toggleable__label {background-color: #d4ebff;}#sk-0fe4ea3a-43a0-459b-a8b5-724f4d0c7aa3 div.sk-label input.sk-toggleable__control:checked~label.sk-toggleable__label {background-color: #d4ebff;}#sk-0fe4ea3a-43a0-459b-a8b5-724f4d0c7aa3 input.sk-hidden--visually {border: 0;clip: rect(1px 1px 1px 1px);clip: rect(1px, 1px, 1px, 1px);height: 1px;margin: -1px;overflow: hidden;padding: 0;position: absolute;width: 1px;}#sk-0fe4ea3a-43a0-459b-a8b5-724f4d0c7aa3 div.sk-estimator {font-family: monospace;background-color: #f0f8ff;margin: 0.25em 0.25em;border: 1px dotted black;border-radius: 0.25em;box-sizing: border-box;}#sk-0fe4ea3a-43a0-459b-a8b5-724f4d0c7aa3 div.sk-estimator:hover {background-color: #d4ebff;}#sk-0fe4ea3a-43a0-459b-a8b5-724f4d0c7aa3 div.sk-parallel-item::after {content: \"\";width: 100%;border-bottom: 1px solid gray;flex-grow: 1;}#sk-0fe4ea3a-43a0-459b-a8b5-724f4d0c7aa3 div.sk-label:hover label.sk-toggleable__label {background-color: #d4ebff;}#sk-0fe4ea3a-43a0-459b-a8b5-724f4d0c7aa3 div.sk-serial::before {content: \"\";position: absolute;border-left: 1px solid gray;box-sizing: border-box;top: 2em;bottom: 0;left: 50%;}#sk-0fe4ea3a-43a0-459b-a8b5-724f4d0c7aa3 div.sk-serial {display: flex;flex-direction: column;align-items: center;background-color: white;}#sk-0fe4ea3a-43a0-459b-a8b5-724f4d0c7aa3 div.sk-item {z-index: 1;}#sk-0fe4ea3a-43a0-459b-a8b5-724f4d0c7aa3 div.sk-parallel {display: flex;align-items: stretch;justify-content: center;background-color: white;}#sk-0fe4ea3a-43a0-459b-a8b5-724f4d0c7aa3 div.sk-parallel-item {display: flex;flex-direction: column;position: relative;background-color: white;}#sk-0fe4ea3a-43a0-459b-a8b5-724f4d0c7aa3 div.sk-parallel-item:first-child::after {align-self: flex-end;width: 50%;}#sk-0fe4ea3a-43a0-459b-a8b5-724f4d0c7aa3 div.sk-parallel-item:last-child::after {align-self: flex-start;width: 50%;}#sk-0fe4ea3a-43a0-459b-a8b5-724f4d0c7aa3 div.sk-parallel-item:only-child::after {width: 0;}#sk-0fe4ea3a-43a0-459b-a8b5-724f4d0c7aa3 div.sk-dashed-wrapped {border: 1px dashed gray;margin: 0.2em;box-sizing: border-box;padding-bottom: 0.1em;background-color: white;position: relative;}#sk-0fe4ea3a-43a0-459b-a8b5-724f4d0c7aa3 div.sk-label label {font-family: monospace;font-weight: bold;background-color: white;display: inline-block;line-height: 1.2em;}#sk-0fe4ea3a-43a0-459b-a8b5-724f4d0c7aa3 div.sk-label-container {position: relative;z-index: 2;text-align: center;}#sk-0fe4ea3a-43a0-459b-a8b5-724f4d0c7aa3 div.sk-container {display: inline-block;position: relative;}</style><div id=\"sk-0fe4ea3a-43a0-459b-a8b5-724f4d0c7aa3\" class\"sk-top-container\"><div class=\"sk-container\"><div class=\"sk-item\"><div class=\"sk-estimator sk-toggleable\"><input class=\"sk-toggleable__control sk-hidden--visually\" id=\"6612db95-d405-46fd-86f8-e3f0561ea6e5\" type=\"checkbox\" checked><label class=\"sk-toggleable__label\" for=\"6612db95-d405-46fd-86f8-e3f0561ea6e5\">DummyRegressor</label><div class=\"sk-toggleable__content\"><pre>DummyRegressor(strategy='median')</pre></div></div></div></div></div>"
      ],
      "text/plain": [
       "DummyRegressor(strategy='median')"
      ]
     },
     "execution_count": 10,
     "metadata": {},
     "output_type": "execute_result"
    }
   ],
   "source": [
    "from sklearn.dummy import DummyRegressor\n",
    "\n",
    "dummy_reg = DummyRegressor(strategy=\"median\")\n",
    "dummy_reg.fit(X_train, y_train)"
   ]
  },
  {
   "cell_type": "markdown",
   "id": "72c1f17a",
   "metadata": {},
   "source": [
    "### 2.1.3) Evaluation du modèle avec le jeu de test <a class=\"anchor\" id=\"section_2_1_3\"></a>"
   ]
  },
  {
   "cell_type": "code",
   "execution_count": 11,
   "id": "7b4c88e6",
   "metadata": {},
   "outputs": [
    {
     "name": "stdout",
     "output_type": "stream",
     "text": [
      "MAE : 1.04956\n",
      "MSE : 2.02761\n",
      "RMSE : 1.42394\n",
      "R² : -0.03431\n"
     ]
    }
   ],
   "source": [
    "X_test = preprocessor.transform(X_test)\n",
    "y_pred = dummy_reg.predict(X_test)\n",
    "regression_metrics(y_test, y_pred)"
   ]
  },
  {
   "cell_type": "markdown",
   "id": "a8da2c8c",
   "metadata": {},
   "source": [
    "Les métriques choisis sont le (R)MSE, le MAE et le R²."
   ]
  },
  {
   "cell_type": "markdown",
   "id": "feac23ce",
   "metadata": {},
   "source": [
    "## 2.2) Choix du modèle le plus performant <a class=\"anchor\" id=\"section_2_2\"></a>"
   ]
  },
  {
   "cell_type": "markdown",
   "id": "a73f7bcc",
   "metadata": {},
   "source": [
    "Le problème à laquelle nous sommes confrontés est un problème de régression. On va donc choisir des modèles qui peuvent permettre de faire ce type de prédiction. On va choisir des méthodes linéaires : Régression linéaire et ses variantes régularisées (Ridge et Lasso), le Support Vecteur Machine et des méthodes non linéaires : la régression linéaire ridge avec noyau, des méthodes ensemblistes de bagging (Bagging, Random Forest) et de boosting (AdaBoost, Gradient Boosting, XGBoost)."
   ]
  },
  {
   "cell_type": "code",
   "execution_count": 12,
   "id": "02455ae4",
   "metadata": {},
   "outputs": [],
   "source": [
    "from sklearn.linear_model import Ridge, Lasso, LinearRegression\n",
    "from sklearn.tree import DecisionTreeRegressor\n",
    "from sklearn.svm import SVR\n",
    "from sklearn.kernel_ridge import KernelRidge\n",
    "from sklearn.ensemble import AdaBoostRegressor, BaggingRegressor, GradientBoostingRegressor, RandomForestRegressor\n",
    "import xgboost as xgb\n",
    "\n",
    "dummy_reg = DummyRegressor(strategy=\"median\")\n",
    "lin_reg = LinearRegression()\n",
    "ridge = Ridge(random_state=42)\n",
    "lasso = Lasso(random_state=42)\n",
    "dt_reg =  DecisionTreeRegressor(random_state=42)\n",
    "svm_reg = SVR()\n",
    "ridge_kernel = KernelRidge()\n",
    "adaboost = AdaBoostRegressor(random_state=42)\n",
    "bagging = BaggingRegressor(random_state=42)\n",
    "gdboost = GradientBoostingRegressor(random_state=42)\n",
    "rdmforest = RandomForestRegressor(random_state=42)\n",
    "xgboost = xgb.XGBRegressor(random_state=42)"
   ]
  },
  {
   "cell_type": "code",
   "execution_count": 13,
   "id": "fd956402",
   "metadata": {},
   "outputs": [
    {
     "data": {
      "text/html": [
       "<div>\n",
       "<style scoped>\n",
       "    .dataframe tbody tr th:only-of-type {\n",
       "        vertical-align: middle;\n",
       "    }\n",
       "\n",
       "    .dataframe tbody tr th {\n",
       "        vertical-align: top;\n",
       "    }\n",
       "\n",
       "    .dataframe thead th {\n",
       "        text-align: right;\n",
       "    }\n",
       "</style>\n",
       "<table border=\"1\" class=\"dataframe\">\n",
       "  <thead>\n",
       "    <tr style=\"text-align: right;\">\n",
       "      <th></th>\n",
       "      <th>Dummy Regressor</th>\n",
       "      <th>Linear Regression</th>\n",
       "      <th>Ridge</th>\n",
       "      <th>Lasso</th>\n",
       "      <th>DecisionTree</th>\n",
       "      <th>SVM</th>\n",
       "      <th>Ridge Kernel</th>\n",
       "      <th>AdaBoost</th>\n",
       "      <th>Bagging</th>\n",
       "      <th>GradientBoosting</th>\n",
       "      <th>Random Forest</th>\n",
       "      <th>XGBoost</th>\n",
       "    </tr>\n",
       "  </thead>\n",
       "  <tbody>\n",
       "    <tr>\n",
       "      <th>MAE</th>\n",
       "      <td>1.049557</td>\n",
       "      <td>0.724691</td>\n",
       "      <td>0.720841</td>\n",
       "      <td>1.044332</td>\n",
       "      <td>0.360567</td>\n",
       "      <td>0.530556</td>\n",
       "      <td>0.727963</td>\n",
       "      <td>0.734973</td>\n",
       "      <td>0.423250</td>\n",
       "      <td>0.525976</td>\n",
       "      <td>0.403102</td>\n",
       "      <td>0.433459</td>\n",
       "    </tr>\n",
       "    <tr>\n",
       "      <th>MSE</th>\n",
       "      <td>2.027613</td>\n",
       "      <td>1.150799</td>\n",
       "      <td>1.146150</td>\n",
       "      <td>1.974720</td>\n",
       "      <td>0.820299</td>\n",
       "      <td>0.808251</td>\n",
       "      <td>1.155331</td>\n",
       "      <td>1.457198</td>\n",
       "      <td>0.787485</td>\n",
       "      <td>0.758234</td>\n",
       "      <td>0.616690</td>\n",
       "      <td>0.830433</td>\n",
       "    </tr>\n",
       "    <tr>\n",
       "      <th>RMSE</th>\n",
       "      <td>1.423943</td>\n",
       "      <td>1.072753</td>\n",
       "      <td>1.070584</td>\n",
       "      <td>1.405247</td>\n",
       "      <td>0.905704</td>\n",
       "      <td>0.899028</td>\n",
       "      <td>1.074863</td>\n",
       "      <td>1.207145</td>\n",
       "      <td>0.887403</td>\n",
       "      <td>0.870766</td>\n",
       "      <td>0.785296</td>\n",
       "      <td>0.911281</td>\n",
       "    </tr>\n",
       "    <tr>\n",
       "      <th>R²</th>\n",
       "      <td>-0.034307</td>\n",
       "      <td>0.412966</td>\n",
       "      <td>0.415337</td>\n",
       "      <td>-0.007326</td>\n",
       "      <td>0.581557</td>\n",
       "      <td>0.587703</td>\n",
       "      <td>0.410654</td>\n",
       "      <td>0.256668</td>\n",
       "      <td>0.598296</td>\n",
       "      <td>0.613217</td>\n",
       "      <td>0.685420</td>\n",
       "      <td>0.576387</td>\n",
       "    </tr>\n",
       "  </tbody>\n",
       "</table>\n",
       "</div>"
      ],
      "text/plain": [
       "      Dummy Regressor  Linear Regression     Ridge     Lasso  DecisionTree  \\\n",
       "MAE          1.049557           0.724691  0.720841  1.044332      0.360567   \n",
       "MSE          2.027613           1.150799  1.146150  1.974720      0.820299   \n",
       "RMSE         1.423943           1.072753  1.070584  1.405247      0.905704   \n",
       "R²          -0.034307           0.412966  0.415337 -0.007326      0.581557   \n",
       "\n",
       "           SVM  Ridge Kernel  AdaBoost   Bagging  GradientBoosting  \\\n",
       "MAE   0.530556      0.727963  0.734973  0.423250          0.525976   \n",
       "MSE   0.808251      1.155331  1.457198  0.787485          0.758234   \n",
       "RMSE  0.899028      1.074863  1.207145  0.887403          0.870766   \n",
       "R²    0.587703      0.410654  0.256668  0.598296          0.613217   \n",
       "\n",
       "      Random Forest   XGBoost  \n",
       "MAE        0.403102  0.433459  \n",
       "MSE        0.616690  0.830433  \n",
       "RMSE       0.785296  0.911281  \n",
       "R²         0.685420  0.576387  "
      ]
     },
     "execution_count": 13,
     "metadata": {},
     "output_type": "execute_result"
    }
   ],
   "source": [
    "model = [dummy_reg, lin_reg, ridge, lasso, dt_reg, svm_reg, ridge_kernel, adaboost, bagging, gdboost, rdmforest, xgboost]\n",
    "dict_model = {}\n",
    "\n",
    "for model in model:\n",
    "    model.fit(X_train, y_train)\n",
    "    y_pred = model.predict(X_test)\n",
    "    mae = mean_absolute_error(y_test, y_pred)\n",
    "    mse = mean_squared_error(y_test, y_pred)\n",
    "    rmse = mse ** (1/2)\n",
    "    r_score = r2_score(y_test, y_pred)\n",
    "    dict_model[model] = (mae, mse, rmse, r_score)\n",
    "\n",
    "eval_model = pd.DataFrame(dict_model, index=[\"MAE\", \"MSE\", \"RMSE\", \"R²\"])\n",
    "eval_model.columns = [\"Dummy Regressor\", \"Linear Regression\", \"Ridge\", \"Lasso\", \"DecisionTree\", \"SVM\", \"Ridge Kernel\",\n",
    "                      \"AdaBoost\", \"Bagging\", \"GradientBoosting\", \"Random Forest\", \"XGBoost\"]\n",
    "\n",
    "eval_model"
   ]
  },
  {
   "cell_type": "markdown",
   "id": "8ccbe2b6",
   "metadata": {},
   "source": [
    "Le régression naïve apparaît bien comme le modèle le moins performant. On remarque aussi que les modèles linéaires sont légèrement plus performant mais leur précision ne fait par partie des meilleures. Il apparaît que le modèle de forêt aléatoire est le plus performant. Il possède le RMSE le moins élevé et les autres métriques de son modèle sont parmi les plus basses. On va donc choisir d'optimiser ce modèle pour la suite de notre prédiction. \n",
    "\n",
    "\n",
    "**Choix du modèle :** RandomForest"
   ]
  },
  {
   "cell_type": "markdown",
   "id": "6002ae1c",
   "metadata": {},
   "source": [
    "## 2.3) Choix des hyperparamètres <a class=\"anchor\" id=\"section_2_3\"></a>"
   ]
  },
  {
   "cell_type": "markdown",
   "id": "09b89433",
   "metadata": {},
   "source": [
    "Le modèle de Random Forest possède plusieurs hyperparamètres à prendre en compte. On va tout d'abord mettre le nombre de features sur la valeur automatique. Dans notre cas, cela signifie que le paramètre \"max_features\" correspond aux nombre de nos variables (càd 6). Ensuite, on choisit une valeur pour fixer la racine aléatoire de notre algorithme. "
   ]
  },
  {
   "cell_type": "code",
   "execution_count": 14,
   "id": "09f061c3",
   "metadata": {},
   "outputs": [],
   "source": [
    "forest_reg = RandomForestRegressor(max_features=\"auto\", random_state=42)"
   ]
  },
  {
   "cell_type": "markdown",
   "id": "ff8c5018",
   "metadata": {},
   "source": [
    "Pour pouvoir obtenir une estimation grossière de la valeur de nos paramètres, on procède à une recherche via une grille aléatoire. Dans cette grille, on va chercher à avoir un aperçu du nombre d'arbres (*n_estimators*) ; la profondeur de nos arbres (*max_depth*) ; le nombre d'individus (de bâtiments) pour qu'une feuille soit constituée (*min_samples_leaf*) et le nombre de bâtiments minimum pour qu'on puisse séparer un échantillon (*min_samples_split*).\n",
    "\n",
    "Le paramètre *min_samples_leaf* ne possède pas de valeur par défaut (*None*) mais il est important de le modifier pour jouer le rôle de régulateur et empêcher l'overfitting de notre modèle de Random Forest. "
   ]
  },
  {
   "cell_type": "code",
   "execution_count": 15,
   "id": "07d89014",
   "metadata": {},
   "outputs": [
    {
     "data": {
      "text/html": [
       "<style>#sk-67bbeacf-c0a9-4664-a46c-b35da6be8703 {color: black;background-color: white;}#sk-67bbeacf-c0a9-4664-a46c-b35da6be8703 pre{padding: 0;}#sk-67bbeacf-c0a9-4664-a46c-b35da6be8703 div.sk-toggleable {background-color: white;}#sk-67bbeacf-c0a9-4664-a46c-b35da6be8703 label.sk-toggleable__label {cursor: pointer;display: block;width: 100%;margin-bottom: 0;padding: 0.2em 0.3em;box-sizing: border-box;text-align: center;}#sk-67bbeacf-c0a9-4664-a46c-b35da6be8703 div.sk-toggleable__content {max-height: 0;max-width: 0;overflow: hidden;text-align: left;background-color: #f0f8ff;}#sk-67bbeacf-c0a9-4664-a46c-b35da6be8703 div.sk-toggleable__content pre {margin: 0.2em;color: black;border-radius: 0.25em;background-color: #f0f8ff;}#sk-67bbeacf-c0a9-4664-a46c-b35da6be8703 input.sk-toggleable__control:checked~div.sk-toggleable__content {max-height: 200px;max-width: 100%;overflow: auto;}#sk-67bbeacf-c0a9-4664-a46c-b35da6be8703 div.sk-estimator input.sk-toggleable__control:checked~label.sk-toggleable__label {background-color: #d4ebff;}#sk-67bbeacf-c0a9-4664-a46c-b35da6be8703 div.sk-label input.sk-toggleable__control:checked~label.sk-toggleable__label {background-color: #d4ebff;}#sk-67bbeacf-c0a9-4664-a46c-b35da6be8703 input.sk-hidden--visually {border: 0;clip: rect(1px 1px 1px 1px);clip: rect(1px, 1px, 1px, 1px);height: 1px;margin: -1px;overflow: hidden;padding: 0;position: absolute;width: 1px;}#sk-67bbeacf-c0a9-4664-a46c-b35da6be8703 div.sk-estimator {font-family: monospace;background-color: #f0f8ff;margin: 0.25em 0.25em;border: 1px dotted black;border-radius: 0.25em;box-sizing: border-box;}#sk-67bbeacf-c0a9-4664-a46c-b35da6be8703 div.sk-estimator:hover {background-color: #d4ebff;}#sk-67bbeacf-c0a9-4664-a46c-b35da6be8703 div.sk-parallel-item::after {content: \"\";width: 100%;border-bottom: 1px solid gray;flex-grow: 1;}#sk-67bbeacf-c0a9-4664-a46c-b35da6be8703 div.sk-label:hover label.sk-toggleable__label {background-color: #d4ebff;}#sk-67bbeacf-c0a9-4664-a46c-b35da6be8703 div.sk-serial::before {content: \"\";position: absolute;border-left: 1px solid gray;box-sizing: border-box;top: 2em;bottom: 0;left: 50%;}#sk-67bbeacf-c0a9-4664-a46c-b35da6be8703 div.sk-serial {display: flex;flex-direction: column;align-items: center;background-color: white;}#sk-67bbeacf-c0a9-4664-a46c-b35da6be8703 div.sk-item {z-index: 1;}#sk-67bbeacf-c0a9-4664-a46c-b35da6be8703 div.sk-parallel {display: flex;align-items: stretch;justify-content: center;background-color: white;}#sk-67bbeacf-c0a9-4664-a46c-b35da6be8703 div.sk-parallel-item {display: flex;flex-direction: column;position: relative;background-color: white;}#sk-67bbeacf-c0a9-4664-a46c-b35da6be8703 div.sk-parallel-item:first-child::after {align-self: flex-end;width: 50%;}#sk-67bbeacf-c0a9-4664-a46c-b35da6be8703 div.sk-parallel-item:last-child::after {align-self: flex-start;width: 50%;}#sk-67bbeacf-c0a9-4664-a46c-b35da6be8703 div.sk-parallel-item:only-child::after {width: 0;}#sk-67bbeacf-c0a9-4664-a46c-b35da6be8703 div.sk-dashed-wrapped {border: 1px dashed gray;margin: 0.2em;box-sizing: border-box;padding-bottom: 0.1em;background-color: white;position: relative;}#sk-67bbeacf-c0a9-4664-a46c-b35da6be8703 div.sk-label label {font-family: monospace;font-weight: bold;background-color: white;display: inline-block;line-height: 1.2em;}#sk-67bbeacf-c0a9-4664-a46c-b35da6be8703 div.sk-label-container {position: relative;z-index: 2;text-align: center;}#sk-67bbeacf-c0a9-4664-a46c-b35da6be8703 div.sk-container {display: inline-block;position: relative;}</style><div id=\"sk-67bbeacf-c0a9-4664-a46c-b35da6be8703\" class\"sk-top-container\"><div class=\"sk-container\"><div class=\"sk-item sk-dashed-wrapped\"><div class=\"sk-label-container\"><div class=\"sk-label sk-toggleable\"><input class=\"sk-toggleable__control sk-hidden--visually\" id=\"7d9de9e6-bfd8-4a09-a154-8935dc8de084\" type=\"checkbox\" ><label class=\"sk-toggleable__label\" for=\"7d9de9e6-bfd8-4a09-a154-8935dc8de084\">RandomizedSearchCV</label><div class=\"sk-toggleable__content\"><pre>RandomizedSearchCV(cv=5, estimator=RandomForestRegressor(random_state=42),\n",
       "                   param_distributions={'max_depth': <scipy.stats._distn_infrastructure.rv_frozen object at 0x000001C9EB078820>,\n",
       "                                        'min_samples_leaf': <scipy.stats._distn_infrastructure.rv_frozen object at 0x000001C9EB0786A0>,\n",
       "                                        'min_samples_split': <scipy.stats._distn_infrastructure.rv_frozen object at 0x000001C9EB078A90>,\n",
       "                                        'n_estimators': <scipy.stats._distn_infrastructure.rv_frozen object at 0x000001C9EB078310>},\n",
       "                   random_state=42, scoring='neg_mean_squared_error')</pre></div></div></div><div class=\"sk-parallel\"><div class=\"sk-parallel-item\"><div class=\"sk-item\"><div class=\"sk-serial\"><div class=\"sk-item\"><div class=\"sk-estimator sk-toggleable\"><input class=\"sk-toggleable__control sk-hidden--visually\" id=\"98b44f15-03bf-4914-bf89-49ce58bb2c0b\" type=\"checkbox\" ><label class=\"sk-toggleable__label\" for=\"98b44f15-03bf-4914-bf89-49ce58bb2c0b\">RandomForestRegressor</label><div class=\"sk-toggleable__content\"><pre>RandomForestRegressor(random_state=42)</pre></div></div></div></div></div></div></div></div></div></div>"
      ],
      "text/plain": [
       "RandomizedSearchCV(cv=5, estimator=RandomForestRegressor(random_state=42),\n",
       "                   param_distributions={'max_depth': <scipy.stats._distn_infrastructure.rv_frozen object at 0x000001C9EB078820>,\n",
       "                                        'min_samples_leaf': <scipy.stats._distn_infrastructure.rv_frozen object at 0x000001C9EB0786A0>,\n",
       "                                        'min_samples_split': <scipy.stats._distn_infrastructure.rv_frozen object at 0x000001C9EB078A90>,\n",
       "                                        'n_estimators': <scipy.stats._distn_infrastructure.rv_frozen object at 0x000001C9EB078310>},\n",
       "                   random_state=42, scoring='neg_mean_squared_error')"
      ]
     },
     "execution_count": 15,
     "metadata": {},
     "output_type": "execute_result"
    }
   ],
   "source": [
    "from sklearn.model_selection import RandomizedSearchCV\n",
    "from scipy.stats import randint\n",
    "\n",
    "param_distribs = {\n",
    "        'n_estimators': randint(low=100, high=500),\n",
    "        'min_samples_leaf': randint(low=1, high=5),\n",
    "        'max_depth' : randint(low=1, high=3),\n",
    "        \"min_samples_split\" : randint(low=2, high=4)\n",
    "    }\n",
    "\n",
    "random_search = RandomizedSearchCV(forest_reg, param_distributions=param_distribs,\n",
    "                             n_iter=10, cv=5, scoring='neg_mean_squared_error', random_state=42)\n",
    "random_search.fit(X_train, y_train)"
   ]
  },
  {
   "cell_type": "code",
   "execution_count": 16,
   "id": "440cf50d",
   "metadata": {},
   "outputs": [
    {
     "name": "stdout",
     "output_type": "stream",
     "text": [
      "1.181324249747563 {'max_depth': 1, 'min_samples_leaf': 4, 'min_samples_split': 2, 'n_estimators': 370}\n",
      "1.1810006592494744 {'max_depth': 1, 'min_samples_leaf': 4, 'min_samples_split': 2, 'n_estimators': 120}\n",
      "1.181337406342542 {'max_depth': 1, 'min_samples_leaf': 2, 'min_samples_split': 2, 'n_estimators': 314}\n",
      "1.1813300806339657 {'max_depth': 1, 'min_samples_leaf': 3, 'min_samples_split': 3, 'n_estimators': 472}\n",
      "1.0930491952216774 {'max_depth': 2, 'min_samples_leaf': 4, 'min_samples_split': 3, 'n_estimators': 230}\n",
      "1.0926175704649193 {'max_depth': 2, 'min_samples_leaf': 1, 'min_samples_split': 3, 'n_estimators': 443}\n",
      "1.0924581196663217 {'max_depth': 2, 'min_samples_leaf': 2, 'min_samples_split': 3, 'n_estimators': 485}\n",
      "1.0928784287352593 {'max_depth': 2, 'min_samples_leaf': 4, 'min_samples_split': 2, 'n_estimators': 260}\n",
      "1.092823390983601 {'max_depth': 2, 'min_samples_leaf': 2, 'min_samples_split': 3, 'n_estimators': 352}\n",
      "1.0933919511651107 {'max_depth': 2, 'min_samples_leaf': 1, 'min_samples_split': 2, 'n_estimators': 158}\n"
     ]
    }
   ],
   "source": [
    "cvres = random_search.cv_results_\n",
    "for mean_score, params in zip(cvres[\"mean_test_score\"], cvres[\"params\"]):\n",
    "    print(np.sqrt(-mean_score), params)"
   ]
  },
  {
   "cell_type": "markdown",
   "id": "348f5be5",
   "metadata": {},
   "source": [
    "Une fois la recherche randomisée, on va pouvoir sélectionner quelques valeurs pour chacun de nos hyperparamètres pour ensuite les évaluer à l'aide d'une Grid Search. A la fin de cette recherche, nous aurons les valeurs de nos hyperparamètres avec la meilleure performance. "
   ]
  },
  {
   "cell_type": "code",
   "execution_count": 17,
   "id": "a3774fef",
   "metadata": {},
   "outputs": [
    {
     "data": {
      "text/html": [
       "<style>#sk-04483c35-2c93-471b-91aa-050dcc69a773 {color: black;background-color: white;}#sk-04483c35-2c93-471b-91aa-050dcc69a773 pre{padding: 0;}#sk-04483c35-2c93-471b-91aa-050dcc69a773 div.sk-toggleable {background-color: white;}#sk-04483c35-2c93-471b-91aa-050dcc69a773 label.sk-toggleable__label {cursor: pointer;display: block;width: 100%;margin-bottom: 0;padding: 0.2em 0.3em;box-sizing: border-box;text-align: center;}#sk-04483c35-2c93-471b-91aa-050dcc69a773 div.sk-toggleable__content {max-height: 0;max-width: 0;overflow: hidden;text-align: left;background-color: #f0f8ff;}#sk-04483c35-2c93-471b-91aa-050dcc69a773 div.sk-toggleable__content pre {margin: 0.2em;color: black;border-radius: 0.25em;background-color: #f0f8ff;}#sk-04483c35-2c93-471b-91aa-050dcc69a773 input.sk-toggleable__control:checked~div.sk-toggleable__content {max-height: 200px;max-width: 100%;overflow: auto;}#sk-04483c35-2c93-471b-91aa-050dcc69a773 div.sk-estimator input.sk-toggleable__control:checked~label.sk-toggleable__label {background-color: #d4ebff;}#sk-04483c35-2c93-471b-91aa-050dcc69a773 div.sk-label input.sk-toggleable__control:checked~label.sk-toggleable__label {background-color: #d4ebff;}#sk-04483c35-2c93-471b-91aa-050dcc69a773 input.sk-hidden--visually {border: 0;clip: rect(1px 1px 1px 1px);clip: rect(1px, 1px, 1px, 1px);height: 1px;margin: -1px;overflow: hidden;padding: 0;position: absolute;width: 1px;}#sk-04483c35-2c93-471b-91aa-050dcc69a773 div.sk-estimator {font-family: monospace;background-color: #f0f8ff;margin: 0.25em 0.25em;border: 1px dotted black;border-radius: 0.25em;box-sizing: border-box;}#sk-04483c35-2c93-471b-91aa-050dcc69a773 div.sk-estimator:hover {background-color: #d4ebff;}#sk-04483c35-2c93-471b-91aa-050dcc69a773 div.sk-parallel-item::after {content: \"\";width: 100%;border-bottom: 1px solid gray;flex-grow: 1;}#sk-04483c35-2c93-471b-91aa-050dcc69a773 div.sk-label:hover label.sk-toggleable__label {background-color: #d4ebff;}#sk-04483c35-2c93-471b-91aa-050dcc69a773 div.sk-serial::before {content: \"\";position: absolute;border-left: 1px solid gray;box-sizing: border-box;top: 2em;bottom: 0;left: 50%;}#sk-04483c35-2c93-471b-91aa-050dcc69a773 div.sk-serial {display: flex;flex-direction: column;align-items: center;background-color: white;}#sk-04483c35-2c93-471b-91aa-050dcc69a773 div.sk-item {z-index: 1;}#sk-04483c35-2c93-471b-91aa-050dcc69a773 div.sk-parallel {display: flex;align-items: stretch;justify-content: center;background-color: white;}#sk-04483c35-2c93-471b-91aa-050dcc69a773 div.sk-parallel-item {display: flex;flex-direction: column;position: relative;background-color: white;}#sk-04483c35-2c93-471b-91aa-050dcc69a773 div.sk-parallel-item:first-child::after {align-self: flex-end;width: 50%;}#sk-04483c35-2c93-471b-91aa-050dcc69a773 div.sk-parallel-item:last-child::after {align-self: flex-start;width: 50%;}#sk-04483c35-2c93-471b-91aa-050dcc69a773 div.sk-parallel-item:only-child::after {width: 0;}#sk-04483c35-2c93-471b-91aa-050dcc69a773 div.sk-dashed-wrapped {border: 1px dashed gray;margin: 0.2em;box-sizing: border-box;padding-bottom: 0.1em;background-color: white;position: relative;}#sk-04483c35-2c93-471b-91aa-050dcc69a773 div.sk-label label {font-family: monospace;font-weight: bold;background-color: white;display: inline-block;line-height: 1.2em;}#sk-04483c35-2c93-471b-91aa-050dcc69a773 div.sk-label-container {position: relative;z-index: 2;text-align: center;}#sk-04483c35-2c93-471b-91aa-050dcc69a773 div.sk-container {display: inline-block;position: relative;}</style><div id=\"sk-04483c35-2c93-471b-91aa-050dcc69a773\" class\"sk-top-container\"><div class=\"sk-container\"><div class=\"sk-item sk-dashed-wrapped\"><div class=\"sk-label-container\"><div class=\"sk-label sk-toggleable\"><input class=\"sk-toggleable__control sk-hidden--visually\" id=\"c2ef95e7-46bb-41d3-88f3-76850328a52f\" type=\"checkbox\" ><label class=\"sk-toggleable__label\" for=\"c2ef95e7-46bb-41d3-88f3-76850328a52f\">GridSearchCV</label><div class=\"sk-toggleable__content\"><pre>GridSearchCV(cv=5, estimator=RandomForestRegressor(random_state=42),\n",
       "             param_grid=[{'max_depth': [2, 3, 4], 'min_samples_leaf': [2, 3, 4],\n",
       "                          'min_samples_split': [2, 3],\n",
       "                          'n_estimators': [340, 345, 350, 425, 450, 475]}],\n",
       "             scoring='neg_mean_squared_error')</pre></div></div></div><div class=\"sk-parallel\"><div class=\"sk-parallel-item\"><div class=\"sk-item\"><div class=\"sk-serial\"><div class=\"sk-item\"><div class=\"sk-estimator sk-toggleable\"><input class=\"sk-toggleable__control sk-hidden--visually\" id=\"a1016412-07f1-4b38-94b4-da4ddfff2603\" type=\"checkbox\" ><label class=\"sk-toggleable__label\" for=\"a1016412-07f1-4b38-94b4-da4ddfff2603\">RandomForestRegressor</label><div class=\"sk-toggleable__content\"><pre>RandomForestRegressor(random_state=42)</pre></div></div></div></div></div></div></div></div></div></div>"
      ],
      "text/plain": [
       "GridSearchCV(cv=5, estimator=RandomForestRegressor(random_state=42),\n",
       "             param_grid=[{'max_depth': [2, 3, 4], 'min_samples_leaf': [2, 3, 4],\n",
       "                          'min_samples_split': [2, 3],\n",
       "                          'n_estimators': [340, 345, 350, 425, 450, 475]}],\n",
       "             scoring='neg_mean_squared_error')"
      ]
     },
     "execution_count": 17,
     "metadata": {},
     "output_type": "execute_result"
    }
   ],
   "source": [
    "from sklearn.model_selection import GridSearchCV\n",
    "\n",
    "params = [{'n_estimators' : [340, 345, 350, 425, 450, 475],\n",
    "           \"min_samples_leaf\" : [2, 3, 4],\n",
    "           \"max_depth\": [2, 3, 4],\n",
    "           \"min_samples_split\" : [2, 3]}]\n",
    "\n",
    "grid_search = GridSearchCV(forest_reg, params, cv=5,\n",
    "                           scoring='neg_mean_squared_error')\n",
    "\n",
    "grid_search.fit(X_train, y_train)"
   ]
  },
  {
   "cell_type": "code",
   "execution_count": 18,
   "id": "6c4f486a",
   "metadata": {},
   "outputs": [
    {
     "data": {
      "text/plain": [
       "{'max_depth': 4,\n",
       " 'min_samples_leaf': 3,\n",
       " 'min_samples_split': 2,\n",
       " 'n_estimators': 350}"
      ]
     },
     "execution_count": 18,
     "metadata": {},
     "output_type": "execute_result"
    }
   ],
   "source": [
    "grid_search.best_params_"
   ]
  },
  {
   "cell_type": "code",
   "execution_count": 19,
   "id": "46de431f",
   "metadata": {},
   "outputs": [
    {
     "data": {
      "text/html": [
       "<style>#sk-a4b57708-0171-4c05-abd5-12c442277a74 {color: black;background-color: white;}#sk-a4b57708-0171-4c05-abd5-12c442277a74 pre{padding: 0;}#sk-a4b57708-0171-4c05-abd5-12c442277a74 div.sk-toggleable {background-color: white;}#sk-a4b57708-0171-4c05-abd5-12c442277a74 label.sk-toggleable__label {cursor: pointer;display: block;width: 100%;margin-bottom: 0;padding: 0.2em 0.3em;box-sizing: border-box;text-align: center;}#sk-a4b57708-0171-4c05-abd5-12c442277a74 div.sk-toggleable__content {max-height: 0;max-width: 0;overflow: hidden;text-align: left;background-color: #f0f8ff;}#sk-a4b57708-0171-4c05-abd5-12c442277a74 div.sk-toggleable__content pre {margin: 0.2em;color: black;border-radius: 0.25em;background-color: #f0f8ff;}#sk-a4b57708-0171-4c05-abd5-12c442277a74 input.sk-toggleable__control:checked~div.sk-toggleable__content {max-height: 200px;max-width: 100%;overflow: auto;}#sk-a4b57708-0171-4c05-abd5-12c442277a74 div.sk-estimator input.sk-toggleable__control:checked~label.sk-toggleable__label {background-color: #d4ebff;}#sk-a4b57708-0171-4c05-abd5-12c442277a74 div.sk-label input.sk-toggleable__control:checked~label.sk-toggleable__label {background-color: #d4ebff;}#sk-a4b57708-0171-4c05-abd5-12c442277a74 input.sk-hidden--visually {border: 0;clip: rect(1px 1px 1px 1px);clip: rect(1px, 1px, 1px, 1px);height: 1px;margin: -1px;overflow: hidden;padding: 0;position: absolute;width: 1px;}#sk-a4b57708-0171-4c05-abd5-12c442277a74 div.sk-estimator {font-family: monospace;background-color: #f0f8ff;margin: 0.25em 0.25em;border: 1px dotted black;border-radius: 0.25em;box-sizing: border-box;}#sk-a4b57708-0171-4c05-abd5-12c442277a74 div.sk-estimator:hover {background-color: #d4ebff;}#sk-a4b57708-0171-4c05-abd5-12c442277a74 div.sk-parallel-item::after {content: \"\";width: 100%;border-bottom: 1px solid gray;flex-grow: 1;}#sk-a4b57708-0171-4c05-abd5-12c442277a74 div.sk-label:hover label.sk-toggleable__label {background-color: #d4ebff;}#sk-a4b57708-0171-4c05-abd5-12c442277a74 div.sk-serial::before {content: \"\";position: absolute;border-left: 1px solid gray;box-sizing: border-box;top: 2em;bottom: 0;left: 50%;}#sk-a4b57708-0171-4c05-abd5-12c442277a74 div.sk-serial {display: flex;flex-direction: column;align-items: center;background-color: white;}#sk-a4b57708-0171-4c05-abd5-12c442277a74 div.sk-item {z-index: 1;}#sk-a4b57708-0171-4c05-abd5-12c442277a74 div.sk-parallel {display: flex;align-items: stretch;justify-content: center;background-color: white;}#sk-a4b57708-0171-4c05-abd5-12c442277a74 div.sk-parallel-item {display: flex;flex-direction: column;position: relative;background-color: white;}#sk-a4b57708-0171-4c05-abd5-12c442277a74 div.sk-parallel-item:first-child::after {align-self: flex-end;width: 50%;}#sk-a4b57708-0171-4c05-abd5-12c442277a74 div.sk-parallel-item:last-child::after {align-self: flex-start;width: 50%;}#sk-a4b57708-0171-4c05-abd5-12c442277a74 div.sk-parallel-item:only-child::after {width: 0;}#sk-a4b57708-0171-4c05-abd5-12c442277a74 div.sk-dashed-wrapped {border: 1px dashed gray;margin: 0.2em;box-sizing: border-box;padding-bottom: 0.1em;background-color: white;position: relative;}#sk-a4b57708-0171-4c05-abd5-12c442277a74 div.sk-label label {font-family: monospace;font-weight: bold;background-color: white;display: inline-block;line-height: 1.2em;}#sk-a4b57708-0171-4c05-abd5-12c442277a74 div.sk-label-container {position: relative;z-index: 2;text-align: center;}#sk-a4b57708-0171-4c05-abd5-12c442277a74 div.sk-container {display: inline-block;position: relative;}</style><div id=\"sk-a4b57708-0171-4c05-abd5-12c442277a74\" class\"sk-top-container\"><div class=\"sk-container\"><div class=\"sk-item\"><div class=\"sk-estimator sk-toggleable\"><input class=\"sk-toggleable__control sk-hidden--visually\" id=\"179bbbca-8f27-4033-8649-27ea3c34b5f6\" type=\"checkbox\" checked><label class=\"sk-toggleable__label\" for=\"179bbbca-8f27-4033-8649-27ea3c34b5f6\">RandomForestRegressor</label><div class=\"sk-toggleable__content\"><pre>RandomForestRegressor(max_depth=4, min_samples_leaf=3, n_estimators=350,\n",
       "                      random_state=42)</pre></div></div></div></div></div>"
      ],
      "text/plain": [
       "RandomForestRegressor(max_depth=4, min_samples_leaf=3, n_estimators=350,\n",
       "                      random_state=42)"
      ]
     },
     "execution_count": 19,
     "metadata": {},
     "output_type": "execute_result"
    }
   ],
   "source": [
    "grid_search.best_estimator_"
   ]
  },
  {
   "cell_type": "code",
   "execution_count": 20,
   "id": "8dbb95f1",
   "metadata": {},
   "outputs": [
    {
     "data": {
      "text/html": [
       "<style>#sk-12b474f2-c5fc-46c9-8d0a-5c30a01d2056 {color: black;background-color: white;}#sk-12b474f2-c5fc-46c9-8d0a-5c30a01d2056 pre{padding: 0;}#sk-12b474f2-c5fc-46c9-8d0a-5c30a01d2056 div.sk-toggleable {background-color: white;}#sk-12b474f2-c5fc-46c9-8d0a-5c30a01d2056 label.sk-toggleable__label {cursor: pointer;display: block;width: 100%;margin-bottom: 0;padding: 0.2em 0.3em;box-sizing: border-box;text-align: center;}#sk-12b474f2-c5fc-46c9-8d0a-5c30a01d2056 div.sk-toggleable__content {max-height: 0;max-width: 0;overflow: hidden;text-align: left;background-color: #f0f8ff;}#sk-12b474f2-c5fc-46c9-8d0a-5c30a01d2056 div.sk-toggleable__content pre {margin: 0.2em;color: black;border-radius: 0.25em;background-color: #f0f8ff;}#sk-12b474f2-c5fc-46c9-8d0a-5c30a01d2056 input.sk-toggleable__control:checked~div.sk-toggleable__content {max-height: 200px;max-width: 100%;overflow: auto;}#sk-12b474f2-c5fc-46c9-8d0a-5c30a01d2056 div.sk-estimator input.sk-toggleable__control:checked~label.sk-toggleable__label {background-color: #d4ebff;}#sk-12b474f2-c5fc-46c9-8d0a-5c30a01d2056 div.sk-label input.sk-toggleable__control:checked~label.sk-toggleable__label {background-color: #d4ebff;}#sk-12b474f2-c5fc-46c9-8d0a-5c30a01d2056 input.sk-hidden--visually {border: 0;clip: rect(1px 1px 1px 1px);clip: rect(1px, 1px, 1px, 1px);height: 1px;margin: -1px;overflow: hidden;padding: 0;position: absolute;width: 1px;}#sk-12b474f2-c5fc-46c9-8d0a-5c30a01d2056 div.sk-estimator {font-family: monospace;background-color: #f0f8ff;margin: 0.25em 0.25em;border: 1px dotted black;border-radius: 0.25em;box-sizing: border-box;}#sk-12b474f2-c5fc-46c9-8d0a-5c30a01d2056 div.sk-estimator:hover {background-color: #d4ebff;}#sk-12b474f2-c5fc-46c9-8d0a-5c30a01d2056 div.sk-parallel-item::after {content: \"\";width: 100%;border-bottom: 1px solid gray;flex-grow: 1;}#sk-12b474f2-c5fc-46c9-8d0a-5c30a01d2056 div.sk-label:hover label.sk-toggleable__label {background-color: #d4ebff;}#sk-12b474f2-c5fc-46c9-8d0a-5c30a01d2056 div.sk-serial::before {content: \"\";position: absolute;border-left: 1px solid gray;box-sizing: border-box;top: 2em;bottom: 0;left: 50%;}#sk-12b474f2-c5fc-46c9-8d0a-5c30a01d2056 div.sk-serial {display: flex;flex-direction: column;align-items: center;background-color: white;}#sk-12b474f2-c5fc-46c9-8d0a-5c30a01d2056 div.sk-item {z-index: 1;}#sk-12b474f2-c5fc-46c9-8d0a-5c30a01d2056 div.sk-parallel {display: flex;align-items: stretch;justify-content: center;background-color: white;}#sk-12b474f2-c5fc-46c9-8d0a-5c30a01d2056 div.sk-parallel-item {display: flex;flex-direction: column;position: relative;background-color: white;}#sk-12b474f2-c5fc-46c9-8d0a-5c30a01d2056 div.sk-parallel-item:first-child::after {align-self: flex-end;width: 50%;}#sk-12b474f2-c5fc-46c9-8d0a-5c30a01d2056 div.sk-parallel-item:last-child::after {align-self: flex-start;width: 50%;}#sk-12b474f2-c5fc-46c9-8d0a-5c30a01d2056 div.sk-parallel-item:only-child::after {width: 0;}#sk-12b474f2-c5fc-46c9-8d0a-5c30a01d2056 div.sk-dashed-wrapped {border: 1px dashed gray;margin: 0.2em;box-sizing: border-box;padding-bottom: 0.1em;background-color: white;position: relative;}#sk-12b474f2-c5fc-46c9-8d0a-5c30a01d2056 div.sk-label label {font-family: monospace;font-weight: bold;background-color: white;display: inline-block;line-height: 1.2em;}#sk-12b474f2-c5fc-46c9-8d0a-5c30a01d2056 div.sk-label-container {position: relative;z-index: 2;text-align: center;}#sk-12b474f2-c5fc-46c9-8d0a-5c30a01d2056 div.sk-container {display: inline-block;position: relative;}</style><div id=\"sk-12b474f2-c5fc-46c9-8d0a-5c30a01d2056\" class\"sk-top-container\"><div class=\"sk-container\"><div class=\"sk-item\"><div class=\"sk-estimator sk-toggleable\"><input class=\"sk-toggleable__control sk-hidden--visually\" id=\"c2bc07e7-efae-4842-9b38-9c1a7cd55433\" type=\"checkbox\" checked><label class=\"sk-toggleable__label\" for=\"c2bc07e7-efae-4842-9b38-9c1a7cd55433\">RandomForestRegressor</label><div class=\"sk-toggleable__content\"><pre>RandomForestRegressor(max_depth=4, min_samples_leaf=3, n_estimators=350,\n",
       "                      random_state=42)</pre></div></div></div></div></div>"
      ],
      "text/plain": [
       "RandomForestRegressor(max_depth=4, min_samples_leaf=3, n_estimators=350,\n",
       "                      random_state=42)"
      ]
     },
     "execution_count": 20,
     "metadata": {},
     "output_type": "execute_result"
    }
   ],
   "source": [
    "final_model_energy = RandomForestRegressor(max_depth=4, min_samples_leaf=3, n_estimators=350,\n",
    "                                           max_features=\"auto\", random_state=42)\n",
    "final_model_energy.fit(X_train, y_train)"
   ]
  },
  {
   "cell_type": "code",
   "execution_count": 21,
   "id": "7fe5c9ff",
   "metadata": {},
   "outputs": [],
   "source": [
    "feature_importance = final_model_energy.feature_importances_"
   ]
  },
  {
   "cell_type": "code",
   "execution_count": 22,
   "id": "2cf75c98",
   "metadata": {},
   "outputs": [],
   "source": [
    "cat_encoder = preprocessor.named_transformers_[\"cat\"]\n",
    "cat_encoder = preprocessor.transformers_[0]\n",
    "cat_encoder = cat_encoder[1][1]\n",
    "cat_one_hot_attribs = cat_encoder.inverse_transform(X_train[:,:32])\n",
    "cat_one_hot_attribs1 = list(cat_encoder.categories_[0])\n",
    "cat_one_hot_attribs2 = list(cat_encoder.categories_[1])\n",
    "attributes = num_var + cat_one_hot_attribs1 + cat_one_hot_attribs2"
   ]
  },
  {
   "cell_type": "code",
   "execution_count": 23,
   "id": "cbd3abcc",
   "metadata": {},
   "outputs": [
    {
     "data": {
      "text/html": [
       "<div>\n",
       "<style scoped>\n",
       "    .dataframe tbody tr th:only-of-type {\n",
       "        vertical-align: middle;\n",
       "    }\n",
       "\n",
       "    .dataframe tbody tr th {\n",
       "        vertical-align: top;\n",
       "    }\n",
       "\n",
       "    .dataframe thead th {\n",
       "        text-align: right;\n",
       "    }\n",
       "</style>\n",
       "<table border=\"1\" class=\"dataframe\">\n",
       "  <thead>\n",
       "    <tr style=\"text-align: right;\">\n",
       "      <th></th>\n",
       "      <th>Features Importances</th>\n",
       "    </tr>\n",
       "  </thead>\n",
       "  <tbody>\n",
       "    <tr>\n",
       "      <th>Southwest</th>\n",
       "      <td>0.893074</td>\n",
       "    </tr>\n",
       "    <tr>\n",
       "      <th>Restaurant</th>\n",
       "      <td>0.044990</td>\n",
       "    </tr>\n",
       "    <tr>\n",
       "      <th>PropertyGFATotal</th>\n",
       "      <td>0.016968</td>\n",
       "    </tr>\n",
       "    <tr>\n",
       "      <th>Self-Storage Facility</th>\n",
       "      <td>0.010190</td>\n",
       "    </tr>\n",
       "    <tr>\n",
       "      <th>NumberofBuildings</th>\n",
       "      <td>0.007462</td>\n",
       "    </tr>\n",
       "    <tr>\n",
       "      <th>Hotel</th>\n",
       "      <td>0.005776</td>\n",
       "    </tr>\n",
       "    <tr>\n",
       "      <th>Northeast</th>\n",
       "      <td>0.005082</td>\n",
       "    </tr>\n",
       "    <tr>\n",
       "      <th>Refrigerated Warehouse</th>\n",
       "      <td>0.002098</td>\n",
       "    </tr>\n",
       "    <tr>\n",
       "      <th>Delridge</th>\n",
       "      <td>0.002023</td>\n",
       "    </tr>\n",
       "    <tr>\n",
       "      <th>University</th>\n",
       "      <td>0.001703</td>\n",
       "    </tr>\n",
       "    <tr>\n",
       "      <th>Office</th>\n",
       "      <td>0.001672</td>\n",
       "    </tr>\n",
       "    <tr>\n",
       "      <th>Senior Care Community</th>\n",
       "      <td>0.001380</td>\n",
       "    </tr>\n",
       "    <tr>\n",
       "      <th>Laboratory</th>\n",
       "      <td>0.001269</td>\n",
       "    </tr>\n",
       "    <tr>\n",
       "      <th>Central</th>\n",
       "      <td>0.000891</td>\n",
       "    </tr>\n",
       "    <tr>\n",
       "      <th>North</th>\n",
       "      <td>0.000785</td>\n",
       "    </tr>\n",
       "    <tr>\n",
       "      <th>Southeast</th>\n",
       "      <td>0.000765</td>\n",
       "    </tr>\n",
       "    <tr>\n",
       "      <th>K-12 School</th>\n",
       "      <td>0.000753</td>\n",
       "    </tr>\n",
       "    <tr>\n",
       "      <th>Hospital</th>\n",
       "      <td>0.000650</td>\n",
       "    </tr>\n",
       "    <tr>\n",
       "      <th>Greater duwamish</th>\n",
       "      <td>0.000638</td>\n",
       "    </tr>\n",
       "    <tr>\n",
       "      <th>Northwest</th>\n",
       "      <td>0.000521</td>\n",
       "    </tr>\n",
       "    <tr>\n",
       "      <th>Warehouse</th>\n",
       "      <td>0.000361</td>\n",
       "    </tr>\n",
       "    <tr>\n",
       "      <th>Worship Facility</th>\n",
       "      <td>0.000339</td>\n",
       "    </tr>\n",
       "    <tr>\n",
       "      <th>Magnolia / queen anne</th>\n",
       "      <td>0.000274</td>\n",
       "    </tr>\n",
       "    <tr>\n",
       "      <th>YearBuilt</th>\n",
       "      <td>0.000145</td>\n",
       "    </tr>\n",
       "    <tr>\n",
       "      <th>Ballard</th>\n",
       "      <td>0.000092</td>\n",
       "    </tr>\n",
       "    <tr>\n",
       "      <th>Distribution Center</th>\n",
       "      <td>0.000052</td>\n",
       "    </tr>\n",
       "    <tr>\n",
       "      <th>Mixed Use Property</th>\n",
       "      <td>0.000019</td>\n",
       "    </tr>\n",
       "    <tr>\n",
       "      <th>NumberofFloors</th>\n",
       "      <td>0.000018</td>\n",
       "    </tr>\n",
       "    <tr>\n",
       "      <th>Other</th>\n",
       "      <td>0.000009</td>\n",
       "    </tr>\n",
       "    <tr>\n",
       "      <th>East</th>\n",
       "      <td>0.000003</td>\n",
       "    </tr>\n",
       "    <tr>\n",
       "      <th>Non-Refrigerated Warehouse</th>\n",
       "      <td>0.000000</td>\n",
       "    </tr>\n",
       "    <tr>\n",
       "      <th>Downtown</th>\n",
       "      <td>0.000000</td>\n",
       "    </tr>\n",
       "    <tr>\n",
       "      <th>Lake union</th>\n",
       "      <td>0.000000</td>\n",
       "    </tr>\n",
       "    <tr>\n",
       "      <th>Supermarket/Grocery Store</th>\n",
       "      <td>0.000000</td>\n",
       "    </tr>\n",
       "    <tr>\n",
       "      <th>Retail Store</th>\n",
       "      <td>0.000000</td>\n",
       "    </tr>\n",
       "    <tr>\n",
       "      <th>Residence Hall</th>\n",
       "      <td>0.000000</td>\n",
       "    </tr>\n",
       "  </tbody>\n",
       "</table>\n",
       "</div>"
      ],
      "text/plain": [
       "                            Features Importances\n",
       "Southwest                               0.893074\n",
       "Restaurant                              0.044990\n",
       "PropertyGFATotal                        0.016968\n",
       "Self-Storage Facility                   0.010190\n",
       "NumberofBuildings                       0.007462\n",
       "Hotel                                   0.005776\n",
       "Northeast                               0.005082\n",
       "Refrigerated Warehouse                  0.002098\n",
       "Delridge                                0.002023\n",
       "University                              0.001703\n",
       "Office                                  0.001672\n",
       "Senior Care Community                   0.001380\n",
       "Laboratory                              0.001269\n",
       "Central                                 0.000891\n",
       "North                                   0.000785\n",
       "Southeast                               0.000765\n",
       "K-12 School                             0.000753\n",
       "Hospital                                0.000650\n",
       "Greater duwamish                        0.000638\n",
       "Northwest                               0.000521\n",
       "Warehouse                               0.000361\n",
       "Worship Facility                        0.000339\n",
       "Magnolia / queen anne                   0.000274\n",
       "YearBuilt                               0.000145\n",
       "Ballard                                 0.000092\n",
       "Distribution Center                     0.000052\n",
       "Mixed Use Property                      0.000019\n",
       "NumberofFloors                          0.000018\n",
       "Other                                   0.000009\n",
       "East                                    0.000003\n",
       "Non-Refrigerated Warehouse              0.000000\n",
       "Downtown                                0.000000\n",
       "Lake union                              0.000000\n",
       "Supermarket/Grocery Store               0.000000\n",
       "Retail Store                            0.000000\n",
       "Residence Hall                          0.000000"
      ]
     },
     "execution_count": 23,
     "metadata": {},
     "output_type": "execute_result"
    }
   ],
   "source": [
    "df_feature_imp = pd.DataFrame(feature_importance, attributes, columns=['Features Importances'])\n",
    "df_feature_imp.sort_values(\"Features Importances\", ascending=False)"
   ]
  },
  {
   "cell_type": "markdown",
   "id": "22d06608",
   "metadata": {},
   "source": [
    "## 2.4) Analyse des erreurs du modèle <a class=\"anchor\" id=\"section_2_4\"></a>"
   ]
  },
  {
   "cell_type": "markdown",
   "id": "1d880b32",
   "metadata": {},
   "source": [
    "Une fois le modèle sélectionné et les hyperparamètres choisis, on va pouvoir évaluer les performances du modèle sur un jeu qu'il n'a pas encore vu : le jeu de test. "
   ]
  },
  {
   "cell_type": "code",
   "execution_count": 24,
   "id": "339588cf",
   "metadata": {},
   "outputs": [],
   "source": [
    "final_model_energy = grid_search.best_estimator_"
   ]
  },
  {
   "cell_type": "code",
   "execution_count": 25,
   "id": "19dc139e",
   "metadata": {},
   "outputs": [],
   "source": [
    "final_predictions_energy = final_model_energy.predict(X_test)"
   ]
  },
  {
   "cell_type": "code",
   "execution_count": 26,
   "id": "1edfbc6c",
   "metadata": {},
   "outputs": [
    {
     "name": "stdout",
     "output_type": "stream",
     "text": [
      "MAE : 0.60838\n",
      "MSE : 0.90106\n",
      "RMSE : 0.94924\n",
      "R² : 0.54036\n"
     ]
    }
   ],
   "source": [
    "regression_metrics(y_test, final_predictions_energy)"
   ]
  },
  {
   "cell_type": "code",
   "execution_count": 27,
   "id": "42f6a05a",
   "metadata": {},
   "outputs": [
    {
     "data": {
      "image/png": "[encoded data removed]",
      "text/plain": [
       "<Figure size 576x396 with 2 Axes>"
      ]
     },
     "metadata": {},
     "output_type": "display_data"
    }
   ],
   "source": [
    "visualizer = ResidualsPlot(final_model_energy)\n",
    "visualizer.fit(X_train, y_train.reshape(2624,))\n",
    "visualizer.score(X_test, y_test.reshape(657,))\n",
    "visualizer.show();"
   ]
  },
  {
   "cell_type": "markdown",
   "id": "4a17d9b9",
   "metadata": {},
   "source": [
    "Les distributions des résidus du jeu d'entraînement et du jeu de test semblent suivre une loi normale. La distribution des résidus du jeu de test est plus aplatie. Cela peut s'expliquer par le nombre de données moins importants (seulement 20% de l'échantillon). "
   ]
  },
  {
   "cell_type": "code",
   "execution_count": 28,
   "id": "eae225cd",
   "metadata": {},
   "outputs": [
    {
     "data": {
      "image/png": "[encoded data removed]",
      "text/plain": [
       "<Figure size 576x396 with 1 Axes>"
      ]
     },
     "metadata": {},
     "output_type": "display_data"
    }
   ],
   "source": [
    "visualizer = prediction_error(final_model_energy, X_train, y_train, X_test, y_test);"
   ]
  },
  {
   "cell_type": "markdown",
   "id": "95d693ae",
   "metadata": {},
   "source": [
    "## 2.5) Pipeline du modèle pour l'estimation de la consommation d'énergie <a class=\"anchor\" id=\"section_2_5\"></a>"
   ]
  },
  {
   "cell_type": "code",
   "execution_count": 29,
   "id": "9576649b",
   "metadata": {},
   "outputs": [],
   "source": [
    "from sklearn.pipeline import Pipeline\n",
    "\n",
    "full_pipeline_energy = Pipeline([\n",
    "    (\"preprocessing\", preprocessor),\n",
    "    (\"model\", final_model_energy)\n",
    "])"
   ]
  },
  {
   "cell_type": "code",
   "execution_count": 30,
   "id": "8bd67a80",
   "metadata": {},
   "outputs": [
    {
     "data": {
      "text/plain": [
       "['model_prediction_energy.pkl']"
      ]
     },
     "execution_count": 30,
     "metadata": {},
     "output_type": "execute_result"
    }
   ],
   "source": [
    "import joblib\n",
    " \n",
    "# Sauvegarde du modèle\n",
    "joblib.dump(full_pipeline_energy, 'model_prediction_energy.pkl')"
   ]
  },
  {
   "cell_type": "markdown",
   "id": "16790d6e",
   "metadata": {},
   "source": [
    "# 3) Prédiction des émissions de CO2 <a class=\"anchor\" id=\"chapter3\"></a>"
   ]
  },
  {
   "cell_type": "markdown",
   "id": "666ad71b",
   "metadata": {},
   "source": [
    "Pour la prédiction des émissions de CO2, la méthode est la même que pour la prédiction de la consommation d'énergie."
   ]
  },
  {
   "cell_type": "markdown",
   "id": "59098a09",
   "metadata": {},
   "source": [
    "## 3.1) Préparation des variables <a class=\"anchor\" id=\"section_3_1\"></a>"
   ]
  },
  {
   "cell_type": "code",
   "execution_count": 31,
   "id": "ae17c905",
   "metadata": {},
   "outputs": [],
   "source": [
    "X_train, X_test, y_train, y_test = train_test_split(X, y_ghg, test_size=0.2, random_state=42)\n",
    "y_train = y_train.reshape(-1,1)\n",
    "y_test = y_test.reshape(-1,1)"
   ]
  },
  {
   "cell_type": "code",
   "execution_count": 32,
   "id": "fe07be0a",
   "metadata": {},
   "outputs": [],
   "source": [
    "X_train = preprocessor.transform(X_train)\n",
    "X_test = preprocessor.transform(X_test)"
   ]
  },
  {
   "cell_type": "markdown",
   "id": "56e4027d",
   "metadata": {},
   "source": [
    "## 3.2) Création d'un modèle de base <a class=\"anchor\" id=\"section_3_2\"></a>"
   ]
  },
  {
   "cell_type": "code",
   "execution_count": 33,
   "id": "a4ed4385",
   "metadata": {},
   "outputs": [
    {
     "data": {
      "text/html": [
       "<style>#sk-9bfdec29-79f6-48ec-88ae-4f8b624ff1d7 {color: black;background-color: white;}#sk-9bfdec29-79f6-48ec-88ae-4f8b624ff1d7 pre{padding: 0;}#sk-9bfdec29-79f6-48ec-88ae-4f8b624ff1d7 div.sk-toggleable {background-color: white;}#sk-9bfdec29-79f6-48ec-88ae-4f8b624ff1d7 label.sk-toggleable__label {cursor: pointer;display: block;width: 100%;margin-bottom: 0;padding: 0.2em 0.3em;box-sizing: border-box;text-align: center;}#sk-9bfdec29-79f6-48ec-88ae-4f8b624ff1d7 div.sk-toggleable__content {max-height: 0;max-width: 0;overflow: hidden;text-align: left;background-color: #f0f8ff;}#sk-9bfdec29-79f6-48ec-88ae-4f8b624ff1d7 div.sk-toggleable__content pre {margin: 0.2em;color: black;border-radius: 0.25em;background-color: #f0f8ff;}#sk-9bfdec29-79f6-48ec-88ae-4f8b624ff1d7 input.sk-toggleable__control:checked~div.sk-toggleable__content {max-height: 200px;max-width: 100%;overflow: auto;}#sk-9bfdec29-79f6-48ec-88ae-4f8b624ff1d7 div.sk-estimator input.sk-toggleable__control:checked~label.sk-toggleable__label {background-color: #d4ebff;}#sk-9bfdec29-79f6-48ec-88ae-4f8b624ff1d7 div.sk-label input.sk-toggleable__control:checked~label.sk-toggleable__label {background-color: #d4ebff;}#sk-9bfdec29-79f6-48ec-88ae-4f8b624ff1d7 input.sk-hidden--visually {border: 0;clip: rect(1px 1px 1px 1px);clip: rect(1px, 1px, 1px, 1px);height: 1px;margin: -1px;overflow: hidden;padding: 0;position: absolute;width: 1px;}#sk-9bfdec29-79f6-48ec-88ae-4f8b624ff1d7 div.sk-estimator {font-family: monospace;background-color: #f0f8ff;margin: 0.25em 0.25em;border: 1px dotted black;border-radius: 0.25em;box-sizing: border-box;}#sk-9bfdec29-79f6-48ec-88ae-4f8b624ff1d7 div.sk-estimator:hover {background-color: #d4ebff;}#sk-9bfdec29-79f6-48ec-88ae-4f8b624ff1d7 div.sk-parallel-item::after {content: \"\";width: 100%;border-bottom: 1px solid gray;flex-grow: 1;}#sk-9bfdec29-79f6-48ec-88ae-4f8b624ff1d7 div.sk-label:hover label.sk-toggleable__label {background-color: #d4ebff;}#sk-9bfdec29-79f6-48ec-88ae-4f8b624ff1d7 div.sk-serial::before {content: \"\";position: absolute;border-left: 1px solid gray;box-sizing: border-box;top: 2em;bottom: 0;left: 50%;}#sk-9bfdec29-79f6-48ec-88ae-4f8b624ff1d7 div.sk-serial {display: flex;flex-direction: column;align-items: center;background-color: white;}#sk-9bfdec29-79f6-48ec-88ae-4f8b624ff1d7 div.sk-item {z-index: 1;}#sk-9bfdec29-79f6-48ec-88ae-4f8b624ff1d7 div.sk-parallel {display: flex;align-items: stretch;justify-content: center;background-color: white;}#sk-9bfdec29-79f6-48ec-88ae-4f8b624ff1d7 div.sk-parallel-item {display: flex;flex-direction: column;position: relative;background-color: white;}#sk-9bfdec29-79f6-48ec-88ae-4f8b624ff1d7 div.sk-parallel-item:first-child::after {align-self: flex-end;width: 50%;}#sk-9bfdec29-79f6-48ec-88ae-4f8b624ff1d7 div.sk-parallel-item:last-child::after {align-self: flex-start;width: 50%;}#sk-9bfdec29-79f6-48ec-88ae-4f8b624ff1d7 div.sk-parallel-item:only-child::after {width: 0;}#sk-9bfdec29-79f6-48ec-88ae-4f8b624ff1d7 div.sk-dashed-wrapped {border: 1px dashed gray;margin: 0.2em;box-sizing: border-box;padding-bottom: 0.1em;background-color: white;position: relative;}#sk-9bfdec29-79f6-48ec-88ae-4f8b624ff1d7 div.sk-label label {font-family: monospace;font-weight: bold;background-color: white;display: inline-block;line-height: 1.2em;}#sk-9bfdec29-79f6-48ec-88ae-4f8b624ff1d7 div.sk-label-container {position: relative;z-index: 2;text-align: center;}#sk-9bfdec29-79f6-48ec-88ae-4f8b624ff1d7 div.sk-container {display: inline-block;position: relative;}</style><div id=\"sk-9bfdec29-79f6-48ec-88ae-4f8b624ff1d7\" class\"sk-top-container\"><div class=\"sk-container\"><div class=\"sk-item\"><div class=\"sk-estimator sk-toggleable\"><input class=\"sk-toggleable__control sk-hidden--visually\" id=\"a87fab1c-1c65-4297-aa2c-c8022b1f885e\" type=\"checkbox\" checked><label class=\"sk-toggleable__label\" for=\"a87fab1c-1c65-4297-aa2c-c8022b1f885e\">DummyRegressor</label><div class=\"sk-toggleable__content\"><pre>DummyRegressor(strategy='median')</pre></div></div></div></div></div>"
      ],
      "text/plain": [
       "DummyRegressor(strategy='median')"
      ]
     },
     "execution_count": 33,
     "metadata": {},
     "output_type": "execute_result"
    }
   ],
   "source": [
    "dummy_reg = DummyRegressor(strategy=\"median\")\n",
    "dummy_reg.fit(X_train, y_train)"
   ]
  },
  {
   "cell_type": "code",
   "execution_count": 34,
   "id": "3082f4b6",
   "metadata": {},
   "outputs": [],
   "source": [
    "y_pred = dummy_reg.predict(X_test)"
   ]
  },
  {
   "cell_type": "code",
   "execution_count": 35,
   "id": "8a7940a2",
   "metadata": {},
   "outputs": [
    {
     "name": "stdout",
     "output_type": "stream",
     "text": [
      "MAE : 1.13086\n",
      "MSE : 2.03477\n",
      "RMSE : 1.42645\n",
      "R² : -0.00724\n"
     ]
    }
   ],
   "source": [
    "regression_metrics(y_test, y_pred)"
   ]
  },
  {
   "cell_type": "markdown",
   "id": "d9effbf6",
   "metadata": {},
   "source": [
    "## 3.3) Choix du modèle <a class=\"anchor\" id=\"section_3_3\"></a>"
   ]
  },
  {
   "cell_type": "code",
   "execution_count": 36,
   "id": "a0d5d7d3",
   "metadata": {},
   "outputs": [],
   "source": [
    "dummy_reg = DummyRegressor(strategy=\"median\")\n",
    "lin_reg = LinearRegression()\n",
    "ridge = Ridge(random_state=42)\n",
    "lasso = Lasso(random_state=42)\n",
    "dt_reg =  DecisionTreeRegressor(random_state=42)\n",
    "svm_reg = SVR()\n",
    "ridge_kernel = KernelRidge()\n",
    "adaboost = AdaBoostRegressor(random_state=42)\n",
    "bagging = BaggingRegressor(random_state=42)\n",
    "gdboost = GradientBoostingRegressor(random_state=42)\n",
    "rdmforest = RandomForestRegressor(random_state=42)\n",
    "xgboost = xgb.XGBRegressor(random_state=42)"
   ]
  },
  {
   "cell_type": "code",
   "execution_count": 37,
   "id": "75693f85",
   "metadata": {},
   "outputs": [
    {
     "data": {
      "text/html": [
       "<div>\n",
       "<style scoped>\n",
       "    .dataframe tbody tr th:only-of-type {\n",
       "        vertical-align: middle;\n",
       "    }\n",
       "\n",
       "    .dataframe tbody tr th {\n",
       "        vertical-align: top;\n",
       "    }\n",
       "\n",
       "    .dataframe thead th {\n",
       "        text-align: right;\n",
       "    }\n",
       "</style>\n",
       "<table border=\"1\" class=\"dataframe\">\n",
       "  <thead>\n",
       "    <tr style=\"text-align: right;\">\n",
       "      <th></th>\n",
       "      <th>Dummy Regressor</th>\n",
       "      <th>Linear Regression</th>\n",
       "      <th>Ridge</th>\n",
       "      <th>Lasso</th>\n",
       "      <th>DecisionTree</th>\n",
       "      <th>SVM</th>\n",
       "      <th>Ridge Kernel</th>\n",
       "      <th>AdaBoost</th>\n",
       "      <th>Bagging</th>\n",
       "      <th>GradientBoosting</th>\n",
       "      <th>Random Forest</th>\n",
       "      <th>XGBoost</th>\n",
       "    </tr>\n",
       "  </thead>\n",
       "  <tbody>\n",
       "    <tr>\n",
       "      <th>MAE</th>\n",
       "      <td>1.130862</td>\n",
       "      <td>0.886208</td>\n",
       "      <td>0.885764</td>\n",
       "      <td>1.130112</td>\n",
       "      <td>0.436657</td>\n",
       "      <td>0.726861</td>\n",
       "      <td>0.886961</td>\n",
       "      <td>0.876053</td>\n",
       "      <td>0.540135</td>\n",
       "      <td>0.755011</td>\n",
       "      <td>0.513588</td>\n",
       "      <td>0.532232</td>\n",
       "    </tr>\n",
       "    <tr>\n",
       "      <th>MSE</th>\n",
       "      <td>2.034765</td>\n",
       "      <td>1.311345</td>\n",
       "      <td>1.308132</td>\n",
       "      <td>2.022685</td>\n",
       "      <td>0.706261</td>\n",
       "      <td>0.962656</td>\n",
       "      <td>1.308875</td>\n",
       "      <td>1.147742</td>\n",
       "      <td>0.611509</td>\n",
       "      <td>0.919021</td>\n",
       "      <td>0.540426</td>\n",
       "      <td>0.591425</td>\n",
       "    </tr>\n",
       "    <tr>\n",
       "      <th>RMSE</th>\n",
       "      <td>1.426452</td>\n",
       "      <td>1.145140</td>\n",
       "      <td>1.143736</td>\n",
       "      <td>1.422211</td>\n",
       "      <td>0.840394</td>\n",
       "      <td>0.981150</td>\n",
       "      <td>1.144061</td>\n",
       "      <td>1.071327</td>\n",
       "      <td>0.781990</td>\n",
       "      <td>0.958656</td>\n",
       "      <td>0.735137</td>\n",
       "      <td>0.769042</td>\n",
       "    </tr>\n",
       "    <tr>\n",
       "      <th>R²</th>\n",
       "      <td>-0.007240</td>\n",
       "      <td>0.350864</td>\n",
       "      <td>0.352455</td>\n",
       "      <td>-0.001260</td>\n",
       "      <td>0.650390</td>\n",
       "      <td>0.523471</td>\n",
       "      <td>0.352087</td>\n",
       "      <td>0.431850</td>\n",
       "      <td>0.697294</td>\n",
       "      <td>0.545070</td>\n",
       "      <td>0.732481</td>\n",
       "      <td>0.707235</td>\n",
       "    </tr>\n",
       "  </tbody>\n",
       "</table>\n",
       "</div>"
      ],
      "text/plain": [
       "      Dummy Regressor  Linear Regression     Ridge     Lasso  DecisionTree  \\\n",
       "MAE          1.130862           0.886208  0.885764  1.130112      0.436657   \n",
       "MSE          2.034765           1.311345  1.308132  2.022685      0.706261   \n",
       "RMSE         1.426452           1.145140  1.143736  1.422211      0.840394   \n",
       "R²          -0.007240           0.350864  0.352455 -0.001260      0.650390   \n",
       "\n",
       "           SVM  Ridge Kernel  AdaBoost   Bagging  GradientBoosting  \\\n",
       "MAE   0.726861      0.886961  0.876053  0.540135          0.755011   \n",
       "MSE   0.962656      1.308875  1.147742  0.611509          0.919021   \n",
       "RMSE  0.981150      1.144061  1.071327  0.781990          0.958656   \n",
       "R²    0.523471      0.352087  0.431850  0.697294          0.545070   \n",
       "\n",
       "      Random Forest   XGBoost  \n",
       "MAE        0.513588  0.532232  \n",
       "MSE        0.540426  0.591425  \n",
       "RMSE       0.735137  0.769042  \n",
       "R²         0.732481  0.707235  "
      ]
     },
     "execution_count": 37,
     "metadata": {},
     "output_type": "execute_result"
    }
   ],
   "source": [
    "model = [dummy_reg, lin_reg, ridge, lasso, dt_reg, svm_reg, ridge_kernel, adaboost, bagging, gdboost, rdmforest, xgboost]\n",
    "dict_model = {}\n",
    "\n",
    "for model in model:\n",
    "    model.fit(X_train, y_train)\n",
    "    y_pred = model.predict(X_test)\n",
    "    mae = mean_absolute_error(y_test, y_pred)\n",
    "    mse = mean_squared_error(y_test, y_pred)\n",
    "    rmse = mse ** (1/2)\n",
    "    r_score = r2_score(y_test, y_pred)\n",
    "    dict_model[model] = (mae, mse, rmse, r_score)\n",
    "\n",
    "eval_model = pd.DataFrame(dict_model, index=[\"MAE\", \"MSE\", \"RMSE\", \"R²\"])\n",
    "eval_model.columns = [\"Dummy Regressor\", \"Linear Regression\", \"Ridge\", \"Lasso\", \"DecisionTree\", \"SVM\", \"Ridge Kernel\",\n",
    "                      \"AdaBoost\", \"Bagging\", \"GradientBoosting\", \"Random Forest\", \"XGBoost\"]\n",
    "\n",
    "eval_model"
   ]
  },
  {
   "cell_type": "markdown",
   "id": "fe3cac8d",
   "metadata": {},
   "source": [
    "**Modèle choisi :** Random Forest"
   ]
  },
  {
   "cell_type": "markdown",
   "id": "495a4892",
   "metadata": {},
   "source": [
    "## 3.4) Choix des hyperparamètres <a class=\"anchor\" id=\"section_3_4\"></a>"
   ]
  },
  {
   "cell_type": "code",
   "execution_count": 38,
   "id": "04c19bc7",
   "metadata": {},
   "outputs": [],
   "source": [
    "forest_reg = RandomForestRegressor(max_features=\"auto\", random_state=42)"
   ]
  },
  {
   "cell_type": "code",
   "execution_count": 39,
   "id": "22e0e148",
   "metadata": {},
   "outputs": [
    {
     "data": {
      "text/html": [
       "<style>#sk-2c8bba14-1399-4dcf-8a11-bd3b0569914e {color: black;background-color: white;}#sk-2c8bba14-1399-4dcf-8a11-bd3b0569914e pre{padding: 0;}#sk-2c8bba14-1399-4dcf-8a11-bd3b0569914e div.sk-toggleable {background-color: white;}#sk-2c8bba14-1399-4dcf-8a11-bd3b0569914e label.sk-toggleable__label {cursor: pointer;display: block;width: 100%;margin-bottom: 0;padding: 0.2em 0.3em;box-sizing: border-box;text-align: center;}#sk-2c8bba14-1399-4dcf-8a11-bd3b0569914e div.sk-toggleable__content {max-height: 0;max-width: 0;overflow: hidden;text-align: left;background-color: #f0f8ff;}#sk-2c8bba14-1399-4dcf-8a11-bd3b0569914e div.sk-toggleable__content pre {margin: 0.2em;color: black;border-radius: 0.25em;background-color: #f0f8ff;}#sk-2c8bba14-1399-4dcf-8a11-bd3b0569914e input.sk-toggleable__control:checked~div.sk-toggleable__content {max-height: 200px;max-width: 100%;overflow: auto;}#sk-2c8bba14-1399-4dcf-8a11-bd3b0569914e div.sk-estimator input.sk-toggleable__control:checked~label.sk-toggleable__label {background-color: #d4ebff;}#sk-2c8bba14-1399-4dcf-8a11-bd3b0569914e div.sk-label input.sk-toggleable__control:checked~label.sk-toggleable__label {background-color: #d4ebff;}#sk-2c8bba14-1399-4dcf-8a11-bd3b0569914e input.sk-hidden--visually {border: 0;clip: rect(1px 1px 1px 1px);clip: rect(1px, 1px, 1px, 1px);height: 1px;margin: -1px;overflow: hidden;padding: 0;position: absolute;width: 1px;}#sk-2c8bba14-1399-4dcf-8a11-bd3b0569914e div.sk-estimator {font-family: monospace;background-color: #f0f8ff;margin: 0.25em 0.25em;border: 1px dotted black;border-radius: 0.25em;box-sizing: border-box;}#sk-2c8bba14-1399-4dcf-8a11-bd3b0569914e div.sk-estimator:hover {background-color: #d4ebff;}#sk-2c8bba14-1399-4dcf-8a11-bd3b0569914e div.sk-parallel-item::after {content: \"\";width: 100%;border-bottom: 1px solid gray;flex-grow: 1;}#sk-2c8bba14-1399-4dcf-8a11-bd3b0569914e div.sk-label:hover label.sk-toggleable__label {background-color: #d4ebff;}#sk-2c8bba14-1399-4dcf-8a11-bd3b0569914e div.sk-serial::before {content: \"\";position: absolute;border-left: 1px solid gray;box-sizing: border-box;top: 2em;bottom: 0;left: 50%;}#sk-2c8bba14-1399-4dcf-8a11-bd3b0569914e div.sk-serial {display: flex;flex-direction: column;align-items: center;background-color: white;}#sk-2c8bba14-1399-4dcf-8a11-bd3b0569914e div.sk-item {z-index: 1;}#sk-2c8bba14-1399-4dcf-8a11-bd3b0569914e div.sk-parallel {display: flex;align-items: stretch;justify-content: center;background-color: white;}#sk-2c8bba14-1399-4dcf-8a11-bd3b0569914e div.sk-parallel-item {display: flex;flex-direction: column;position: relative;background-color: white;}#sk-2c8bba14-1399-4dcf-8a11-bd3b0569914e div.sk-parallel-item:first-child::after {align-self: flex-end;width: 50%;}#sk-2c8bba14-1399-4dcf-8a11-bd3b0569914e div.sk-parallel-item:last-child::after {align-self: flex-start;width: 50%;}#sk-2c8bba14-1399-4dcf-8a11-bd3b0569914e div.sk-parallel-item:only-child::after {width: 0;}#sk-2c8bba14-1399-4dcf-8a11-bd3b0569914e div.sk-dashed-wrapped {border: 1px dashed gray;margin: 0.2em;box-sizing: border-box;padding-bottom: 0.1em;background-color: white;position: relative;}#sk-2c8bba14-1399-4dcf-8a11-bd3b0569914e div.sk-label label {font-family: monospace;font-weight: bold;background-color: white;display: inline-block;line-height: 1.2em;}#sk-2c8bba14-1399-4dcf-8a11-bd3b0569914e div.sk-label-container {position: relative;z-index: 2;text-align: center;}#sk-2c8bba14-1399-4dcf-8a11-bd3b0569914e div.sk-container {display: inline-block;position: relative;}</style><div id=\"sk-2c8bba14-1399-4dcf-8a11-bd3b0569914e\" class\"sk-top-container\"><div class=\"sk-container\"><div class=\"sk-item sk-dashed-wrapped\"><div class=\"sk-label-container\"><div class=\"sk-label sk-toggleable\"><input class=\"sk-toggleable__control sk-hidden--visually\" id=\"e9b72946-3103-4a3b-b5ce-2902d354616e\" type=\"checkbox\" ><label class=\"sk-toggleable__label\" for=\"e9b72946-3103-4a3b-b5ce-2902d354616e\">RandomizedSearchCV</label><div class=\"sk-toggleable__content\"><pre>RandomizedSearchCV(cv=5, estimator=RandomForestRegressor(random_state=42),\n",
       "                   param_distributions={'max_depth': <scipy.stats._distn_infrastructure.rv_frozen object at 0x000001C9F26AE430>,\n",
       "                                        'min_samples_leaf': <scipy.stats._distn_infrastructure.rv_frozen object at 0x000001C9F26EE2B0>,\n",
       "                                        'min_samples_split': <scipy.stats._distn_infrastructure.rv_frozen object at 0x000001C9F26EE9A0>,\n",
       "                                        'n_estimators': <scipy.stats._distn_infrastructure.rv_frozen object at 0x000001C9F26E7AC0>},\n",
       "                   random_state=42, scoring='neg_mean_squared_error')</pre></div></div></div><div class=\"sk-parallel\"><div class=\"sk-parallel-item\"><div class=\"sk-item\"><div class=\"sk-serial\"><div class=\"sk-item\"><div class=\"sk-estimator sk-toggleable\"><input class=\"sk-toggleable__control sk-hidden--visually\" id=\"ed4f0080-c3a6-444d-9309-246b16af6e17\" type=\"checkbox\" ><label class=\"sk-toggleable__label\" for=\"ed4f0080-c3a6-444d-9309-246b16af6e17\">RandomForestRegressor</label><div class=\"sk-toggleable__content\"><pre>RandomForestRegressor(random_state=42)</pre></div></div></div></div></div></div></div></div></div></div>"
      ],
      "text/plain": [
       "RandomizedSearchCV(cv=5, estimator=RandomForestRegressor(random_state=42),\n",
       "                   param_distributions={'max_depth': <scipy.stats._distn_infrastructure.rv_frozen object at 0x000001C9F26AE430>,\n",
       "                                        'min_samples_leaf': <scipy.stats._distn_infrastructure.rv_frozen object at 0x000001C9F26EE2B0>,\n",
       "                                        'min_samples_split': <scipy.stats._distn_infrastructure.rv_frozen object at 0x000001C9F26EE9A0>,\n",
       "                                        'n_estimators': <scipy.stats._distn_infrastructure.rv_frozen object at 0x000001C9F26E7AC0>},\n",
       "                   random_state=42, scoring='neg_mean_squared_error')"
      ]
     },
     "execution_count": 39,
     "metadata": {},
     "output_type": "execute_result"
    }
   ],
   "source": [
    "param_distribs = {\n",
    "        'n_estimators': randint(low=100, high=500),\n",
    "        'min_samples_leaf': randint(low=1, high=5),\n",
    "        'max_depth' : randint(low=1, high=3),\n",
    "        \"min_samples_split\" : randint(low=2, high=4)\n",
    "    }\n",
    "\n",
    "random_search = RandomizedSearchCV(forest_reg, param_distributions=param_distribs,\n",
    "                             n_iter=10, cv=5, scoring='neg_mean_squared_error', random_state=42)\n",
    "random_search.fit(X_train, y_train)"
   ]
  },
  {
   "cell_type": "code",
   "execution_count": 40,
   "id": "afd8d482",
   "metadata": {},
   "outputs": [
    {
     "name": "stdout",
     "output_type": "stream",
     "text": [
      "1.2013554358325136 {'max_depth': 1, 'min_samples_leaf': 4, 'min_samples_split': 2, 'n_estimators': 370}\n",
      "1.2018832830424095 {'max_depth': 1, 'min_samples_leaf': 4, 'min_samples_split': 2, 'n_estimators': 120}\n",
      "1.201598885955749 {'max_depth': 1, 'min_samples_leaf': 2, 'min_samples_split': 2, 'n_estimators': 314}\n",
      "1.2012683166505869 {'max_depth': 1, 'min_samples_leaf': 3, 'min_samples_split': 3, 'n_estimators': 472}\n",
      "1.1235338968260127 {'max_depth': 2, 'min_samples_leaf': 4, 'min_samples_split': 3, 'n_estimators': 230}\n",
      "1.1226203105349777 {'max_depth': 2, 'min_samples_leaf': 1, 'min_samples_split': 3, 'n_estimators': 443}\n",
      "1.1226094801527136 {'max_depth': 2, 'min_samples_leaf': 2, 'min_samples_split': 3, 'n_estimators': 485}\n",
      "1.1236057978595027 {'max_depth': 2, 'min_samples_leaf': 4, 'min_samples_split': 2, 'n_estimators': 260}\n",
      "1.1229369387319614 {'max_depth': 2, 'min_samples_leaf': 2, 'min_samples_split': 3, 'n_estimators': 352}\n",
      "1.1236040317010543 {'max_depth': 2, 'min_samples_leaf': 1, 'min_samples_split': 2, 'n_estimators': 158}\n"
     ]
    }
   ],
   "source": [
    "cvres = random_search.cv_results_\n",
    "for mean_score, params in zip(cvres[\"mean_test_score\"], cvres[\"params\"]):\n",
    "    print(np.sqrt(-mean_score), params)"
   ]
  },
  {
   "cell_type": "code",
   "execution_count": 41,
   "id": "60d815a1",
   "metadata": {},
   "outputs": [
    {
     "data": {
      "text/html": [
       "<style>#sk-432e70ac-7a51-41e5-aac1-547f6a710254 {color: black;background-color: white;}#sk-432e70ac-7a51-41e5-aac1-547f6a710254 pre{padding: 0;}#sk-432e70ac-7a51-41e5-aac1-547f6a710254 div.sk-toggleable {background-color: white;}#sk-432e70ac-7a51-41e5-aac1-547f6a710254 label.sk-toggleable__label {cursor: pointer;display: block;width: 100%;margin-bottom: 0;padding: 0.2em 0.3em;box-sizing: border-box;text-align: center;}#sk-432e70ac-7a51-41e5-aac1-547f6a710254 div.sk-toggleable__content {max-height: 0;max-width: 0;overflow: hidden;text-align: left;background-color: #f0f8ff;}#sk-432e70ac-7a51-41e5-aac1-547f6a710254 div.sk-toggleable__content pre {margin: 0.2em;color: black;border-radius: 0.25em;background-color: #f0f8ff;}#sk-432e70ac-7a51-41e5-aac1-547f6a710254 input.sk-toggleable__control:checked~div.sk-toggleable__content {max-height: 200px;max-width: 100%;overflow: auto;}#sk-432e70ac-7a51-41e5-aac1-547f6a710254 div.sk-estimator input.sk-toggleable__control:checked~label.sk-toggleable__label {background-color: #d4ebff;}#sk-432e70ac-7a51-41e5-aac1-547f6a710254 div.sk-label input.sk-toggleable__control:checked~label.sk-toggleable__label {background-color: #d4ebff;}#sk-432e70ac-7a51-41e5-aac1-547f6a710254 input.sk-hidden--visually {border: 0;clip: rect(1px 1px 1px 1px);clip: rect(1px, 1px, 1px, 1px);height: 1px;margin: -1px;overflow: hidden;padding: 0;position: absolute;width: 1px;}#sk-432e70ac-7a51-41e5-aac1-547f6a710254 div.sk-estimator {font-family: monospace;background-color: #f0f8ff;margin: 0.25em 0.25em;border: 1px dotted black;border-radius: 0.25em;box-sizing: border-box;}#sk-432e70ac-7a51-41e5-aac1-547f6a710254 div.sk-estimator:hover {background-color: #d4ebff;}#sk-432e70ac-7a51-41e5-aac1-547f6a710254 div.sk-parallel-item::after {content: \"\";width: 100%;border-bottom: 1px solid gray;flex-grow: 1;}#sk-432e70ac-7a51-41e5-aac1-547f6a710254 div.sk-label:hover label.sk-toggleable__label {background-color: #d4ebff;}#sk-432e70ac-7a51-41e5-aac1-547f6a710254 div.sk-serial::before {content: \"\";position: absolute;border-left: 1px solid gray;box-sizing: border-box;top: 2em;bottom: 0;left: 50%;}#sk-432e70ac-7a51-41e5-aac1-547f6a710254 div.sk-serial {display: flex;flex-direction: column;align-items: center;background-color: white;}#sk-432e70ac-7a51-41e5-aac1-547f6a710254 div.sk-item {z-index: 1;}#sk-432e70ac-7a51-41e5-aac1-547f6a710254 div.sk-parallel {display: flex;align-items: stretch;justify-content: center;background-color: white;}#sk-432e70ac-7a51-41e5-aac1-547f6a710254 div.sk-parallel-item {display: flex;flex-direction: column;position: relative;background-color: white;}#sk-432e70ac-7a51-41e5-aac1-547f6a710254 div.sk-parallel-item:first-child::after {align-self: flex-end;width: 50%;}#sk-432e70ac-7a51-41e5-aac1-547f6a710254 div.sk-parallel-item:last-child::after {align-self: flex-start;width: 50%;}#sk-432e70ac-7a51-41e5-aac1-547f6a710254 div.sk-parallel-item:only-child::after {width: 0;}#sk-432e70ac-7a51-41e5-aac1-547f6a710254 div.sk-dashed-wrapped {border: 1px dashed gray;margin: 0.2em;box-sizing: border-box;padding-bottom: 0.1em;background-color: white;position: relative;}#sk-432e70ac-7a51-41e5-aac1-547f6a710254 div.sk-label label {font-family: monospace;font-weight: bold;background-color: white;display: inline-block;line-height: 1.2em;}#sk-432e70ac-7a51-41e5-aac1-547f6a710254 div.sk-label-container {position: relative;z-index: 2;text-align: center;}#sk-432e70ac-7a51-41e5-aac1-547f6a710254 div.sk-container {display: inline-block;position: relative;}</style><div id=\"sk-432e70ac-7a51-41e5-aac1-547f6a710254\" class\"sk-top-container\"><div class=\"sk-container\"><div class=\"sk-item sk-dashed-wrapped\"><div class=\"sk-label-container\"><div class=\"sk-label sk-toggleable\"><input class=\"sk-toggleable__control sk-hidden--visually\" id=\"d42eee6d-cd02-4cb9-ab02-6458a5235691\" type=\"checkbox\" ><label class=\"sk-toggleable__label\" for=\"d42eee6d-cd02-4cb9-ab02-6458a5235691\">GridSearchCV</label><div class=\"sk-toggleable__content\"><pre>GridSearchCV(cv=5, estimator=RandomForestRegressor(random_state=42),\n",
       "             param_grid=[{'max_depth': [1, 2, 3, 4],\n",
       "                          'min_samples_leaf': [2, 3, 4],\n",
       "                          'min_samples_split': [2, 3],\n",
       "                          'n_estimators': [400, 410, 420, 430, 440, 450, 460,\n",
       "                                           470]}],\n",
       "             scoring='neg_mean_squared_error')</pre></div></div></div><div class=\"sk-parallel\"><div class=\"sk-parallel-item\"><div class=\"sk-item\"><div class=\"sk-serial\"><div class=\"sk-item\"><div class=\"sk-estimator sk-toggleable\"><input class=\"sk-toggleable__control sk-hidden--visually\" id=\"90c62770-d026-4b1f-b77f-0ee81cc05396\" type=\"checkbox\" ><label class=\"sk-toggleable__label\" for=\"90c62770-d026-4b1f-b77f-0ee81cc05396\">RandomForestRegressor</label><div class=\"sk-toggleable__content\"><pre>RandomForestRegressor(random_state=42)</pre></div></div></div></div></div></div></div></div></div></div>"
      ],
      "text/plain": [
       "GridSearchCV(cv=5, estimator=RandomForestRegressor(random_state=42),\n",
       "             param_grid=[{'max_depth': [1, 2, 3, 4],\n",
       "                          'min_samples_leaf': [2, 3, 4],\n",
       "                          'min_samples_split': [2, 3],\n",
       "                          'n_estimators': [400, 410, 420, 430, 440, 450, 460,\n",
       "                                           470]}],\n",
       "             scoring='neg_mean_squared_error')"
      ]
     },
     "execution_count": 41,
     "metadata": {},
     "output_type": "execute_result"
    }
   ],
   "source": [
    "params = [{'n_estimators' : [400, 410, 420, 430, 440, 450, 460, 470],\n",
    "           \"min_samples_leaf\" : [2, 3, 4],\n",
    "           \"max_depth\": [1, 2, 3, 4],\n",
    "           \"min_samples_split\" : [2, 3]}]\n",
    "\n",
    "grid_search = GridSearchCV(forest_reg, params, cv=5,\n",
    "                           scoring='neg_mean_squared_error')\n",
    "grid_search.fit(X_train, y_train)"
   ]
  },
  {
   "cell_type": "code",
   "execution_count": 42,
   "id": "ce04704d",
   "metadata": {},
   "outputs": [
    {
     "data": {
      "text/plain": [
       "{'max_depth': 4,\n",
       " 'min_samples_leaf': 2,\n",
       " 'min_samples_split': 2,\n",
       " 'n_estimators': 460}"
      ]
     },
     "execution_count": 42,
     "metadata": {},
     "output_type": "execute_result"
    }
   ],
   "source": [
    "grid_search.best_params_"
   ]
  },
  {
   "cell_type": "code",
   "execution_count": 43,
   "id": "2cde6263",
   "metadata": {},
   "outputs": [
    {
     "data": {
      "text/html": [
       "<style>#sk-7ad363a8-93e6-4333-9283-79e9aaf1e612 {color: black;background-color: white;}#sk-7ad363a8-93e6-4333-9283-79e9aaf1e612 pre{padding: 0;}#sk-7ad363a8-93e6-4333-9283-79e9aaf1e612 div.sk-toggleable {background-color: white;}#sk-7ad363a8-93e6-4333-9283-79e9aaf1e612 label.sk-toggleable__label {cursor: pointer;display: block;width: 100%;margin-bottom: 0;padding: 0.2em 0.3em;box-sizing: border-box;text-align: center;}#sk-7ad363a8-93e6-4333-9283-79e9aaf1e612 div.sk-toggleable__content {max-height: 0;max-width: 0;overflow: hidden;text-align: left;background-color: #f0f8ff;}#sk-7ad363a8-93e6-4333-9283-79e9aaf1e612 div.sk-toggleable__content pre {margin: 0.2em;color: black;border-radius: 0.25em;background-color: #f0f8ff;}#sk-7ad363a8-93e6-4333-9283-79e9aaf1e612 input.sk-toggleable__control:checked~div.sk-toggleable__content {max-height: 200px;max-width: 100%;overflow: auto;}#sk-7ad363a8-93e6-4333-9283-79e9aaf1e612 div.sk-estimator input.sk-toggleable__control:checked~label.sk-toggleable__label {background-color: #d4ebff;}#sk-7ad363a8-93e6-4333-9283-79e9aaf1e612 div.sk-label input.sk-toggleable__control:checked~label.sk-toggleable__label {background-color: #d4ebff;}#sk-7ad363a8-93e6-4333-9283-79e9aaf1e612 input.sk-hidden--visually {border: 0;clip: rect(1px 1px 1px 1px);clip: rect(1px, 1px, 1px, 1px);height: 1px;margin: -1px;overflow: hidden;padding: 0;position: absolute;width: 1px;}#sk-7ad363a8-93e6-4333-9283-79e9aaf1e612 div.sk-estimator {font-family: monospace;background-color: #f0f8ff;margin: 0.25em 0.25em;border: 1px dotted black;border-radius: 0.25em;box-sizing: border-box;}#sk-7ad363a8-93e6-4333-9283-79e9aaf1e612 div.sk-estimator:hover {background-color: #d4ebff;}#sk-7ad363a8-93e6-4333-9283-79e9aaf1e612 div.sk-parallel-item::after {content: \"\";width: 100%;border-bottom: 1px solid gray;flex-grow: 1;}#sk-7ad363a8-93e6-4333-9283-79e9aaf1e612 div.sk-label:hover label.sk-toggleable__label {background-color: #d4ebff;}#sk-7ad363a8-93e6-4333-9283-79e9aaf1e612 div.sk-serial::before {content: \"\";position: absolute;border-left: 1px solid gray;box-sizing: border-box;top: 2em;bottom: 0;left: 50%;}#sk-7ad363a8-93e6-4333-9283-79e9aaf1e612 div.sk-serial {display: flex;flex-direction: column;align-items: center;background-color: white;}#sk-7ad363a8-93e6-4333-9283-79e9aaf1e612 div.sk-item {z-index: 1;}#sk-7ad363a8-93e6-4333-9283-79e9aaf1e612 div.sk-parallel {display: flex;align-items: stretch;justify-content: center;background-color: white;}#sk-7ad363a8-93e6-4333-9283-79e9aaf1e612 div.sk-parallel-item {display: flex;flex-direction: column;position: relative;background-color: white;}#sk-7ad363a8-93e6-4333-9283-79e9aaf1e612 div.sk-parallel-item:first-child::after {align-self: flex-end;width: 50%;}#sk-7ad363a8-93e6-4333-9283-79e9aaf1e612 div.sk-parallel-item:last-child::after {align-self: flex-start;width: 50%;}#sk-7ad363a8-93e6-4333-9283-79e9aaf1e612 div.sk-parallel-item:only-child::after {width: 0;}#sk-7ad363a8-93e6-4333-9283-79e9aaf1e612 div.sk-dashed-wrapped {border: 1px dashed gray;margin: 0.2em;box-sizing: border-box;padding-bottom: 0.1em;background-color: white;position: relative;}#sk-7ad363a8-93e6-4333-9283-79e9aaf1e612 div.sk-label label {font-family: monospace;font-weight: bold;background-color: white;display: inline-block;line-height: 1.2em;}#sk-7ad363a8-93e6-4333-9283-79e9aaf1e612 div.sk-label-container {position: relative;z-index: 2;text-align: center;}#sk-7ad363a8-93e6-4333-9283-79e9aaf1e612 div.sk-container {display: inline-block;position: relative;}</style><div id=\"sk-7ad363a8-93e6-4333-9283-79e9aaf1e612\" class\"sk-top-container\"><div class=\"sk-container\"><div class=\"sk-item\"><div class=\"sk-estimator sk-toggleable\"><input class=\"sk-toggleable__control sk-hidden--visually\" id=\"3a7febf4-f47b-4540-9c69-004e6fceb0c1\" type=\"checkbox\" checked><label class=\"sk-toggleable__label\" for=\"3a7febf4-f47b-4540-9c69-004e6fceb0c1\">RandomForestRegressor</label><div class=\"sk-toggleable__content\"><pre>RandomForestRegressor(max_depth=4, min_samples_leaf=2, n_estimators=260,\n",
       "                      random_state=42)</pre></div></div></div></div></div>"
      ],
      "text/plain": [
       "RandomForestRegressor(max_depth=4, min_samples_leaf=2, n_estimators=260,\n",
       "                      random_state=42)"
      ]
     },
     "execution_count": 43,
     "metadata": {},
     "output_type": "execute_result"
    }
   ],
   "source": [
    "final_model_co2 = RandomForestRegressor(max_depth=4, min_samples_leaf=2, min_samples_split=2, n_estimators=260,\n",
    "                                           max_features=\"auto\", random_state=42)\n",
    "final_model_co2.fit(X_train, y_train)"
   ]
  },
  {
   "cell_type": "code",
   "execution_count": 44,
   "id": "54cc7758",
   "metadata": {},
   "outputs": [],
   "source": [
    "feature_importance = final_model_co2.feature_importances_"
   ]
  },
  {
   "cell_type": "code",
   "execution_count": 45,
   "id": "f41b55f0",
   "metadata": {},
   "outputs": [],
   "source": [
    "cat_encoder = preprocessor.named_transformers_[\"cat\"]\n",
    "cat_encoder = preprocessor.transformers_[0]\n",
    "cat_encoder = cat_encoder[1][1]\n",
    "cat_one_hot_attribs = cat_encoder.inverse_transform(X_train[:,:32])\n",
    "cat_one_hot_attribs1 = list(cat_encoder.categories_[0])\n",
    "cat_one_hot_attribs2 = list(cat_encoder.categories_[1])\n",
    "attributes = num_var + cat_one_hot_attribs1 + cat_one_hot_attribs2"
   ]
  },
  {
   "cell_type": "code",
   "execution_count": 46,
   "id": "00887ebf",
   "metadata": {},
   "outputs": [
    {
     "data": {
      "text/html": [
       "<div>\n",
       "<style scoped>\n",
       "    .dataframe tbody tr th:only-of-type {\n",
       "        vertical-align: middle;\n",
       "    }\n",
       "\n",
       "    .dataframe tbody tr th {\n",
       "        vertical-align: top;\n",
       "    }\n",
       "\n",
       "    .dataframe thead th {\n",
       "        text-align: right;\n",
       "    }\n",
       "</style>\n",
       "<table border=\"1\" class=\"dataframe\">\n",
       "  <thead>\n",
       "    <tr style=\"text-align: right;\">\n",
       "      <th></th>\n",
       "      <th>Features Importances</th>\n",
       "    </tr>\n",
       "  </thead>\n",
       "  <tbody>\n",
       "    <tr>\n",
       "      <th>Southwest</th>\n",
       "      <td>0.819892</td>\n",
       "    </tr>\n",
       "    <tr>\n",
       "      <th>Restaurant</th>\n",
       "      <td>0.055227</td>\n",
       "    </tr>\n",
       "    <tr>\n",
       "      <th>K-12 School</th>\n",
       "      <td>0.033283</td>\n",
       "    </tr>\n",
       "    <tr>\n",
       "      <th>NumberofBuildings</th>\n",
       "      <td>0.017608</td>\n",
       "    </tr>\n",
       "    <tr>\n",
       "      <th>Laboratory</th>\n",
       "      <td>0.013054</td>\n",
       "    </tr>\n",
       "    <tr>\n",
       "      <th>NumberofFloors</th>\n",
       "      <td>0.011572</td>\n",
       "    </tr>\n",
       "    <tr>\n",
       "      <th>Self-Storage Facility</th>\n",
       "      <td>0.011179</td>\n",
       "    </tr>\n",
       "    <tr>\n",
       "      <th>Hotel</th>\n",
       "      <td>0.009474</td>\n",
       "    </tr>\n",
       "    <tr>\n",
       "      <th>Central</th>\n",
       "      <td>0.007665</td>\n",
       "    </tr>\n",
       "    <tr>\n",
       "      <th>Northeast</th>\n",
       "      <td>0.005890</td>\n",
       "    </tr>\n",
       "    <tr>\n",
       "      <th>Southeast</th>\n",
       "      <td>0.004810</td>\n",
       "    </tr>\n",
       "    <tr>\n",
       "      <th>Office</th>\n",
       "      <td>0.003317</td>\n",
       "    </tr>\n",
       "    <tr>\n",
       "      <th>Residence Hall</th>\n",
       "      <td>0.002088</td>\n",
       "    </tr>\n",
       "    <tr>\n",
       "      <th>Ballard</th>\n",
       "      <td>0.001413</td>\n",
       "    </tr>\n",
       "    <tr>\n",
       "      <th>Refrigerated Warehouse</th>\n",
       "      <td>0.000733</td>\n",
       "    </tr>\n",
       "    <tr>\n",
       "      <th>Northwest</th>\n",
       "      <td>0.000533</td>\n",
       "    </tr>\n",
       "    <tr>\n",
       "      <th>Worship Facility</th>\n",
       "      <td>0.000433</td>\n",
       "    </tr>\n",
       "    <tr>\n",
       "      <th>North</th>\n",
       "      <td>0.000420</td>\n",
       "    </tr>\n",
       "    <tr>\n",
       "      <th>Hospital</th>\n",
       "      <td>0.000296</td>\n",
       "    </tr>\n",
       "    <tr>\n",
       "      <th>YearBuilt</th>\n",
       "      <td>0.000296</td>\n",
       "    </tr>\n",
       "    <tr>\n",
       "      <th>Distribution Center</th>\n",
       "      <td>0.000270</td>\n",
       "    </tr>\n",
       "    <tr>\n",
       "      <th>Greater duwamish</th>\n",
       "      <td>0.000107</td>\n",
       "    </tr>\n",
       "    <tr>\n",
       "      <th>University</th>\n",
       "      <td>0.000085</td>\n",
       "    </tr>\n",
       "    <tr>\n",
       "      <th>PropertyGFATotal</th>\n",
       "      <td>0.000068</td>\n",
       "    </tr>\n",
       "    <tr>\n",
       "      <th>Other</th>\n",
       "      <td>0.000065</td>\n",
       "    </tr>\n",
       "    <tr>\n",
       "      <th>Delridge</th>\n",
       "      <td>0.000064</td>\n",
       "    </tr>\n",
       "    <tr>\n",
       "      <th>Supermarket/Grocery Store</th>\n",
       "      <td>0.000051</td>\n",
       "    </tr>\n",
       "    <tr>\n",
       "      <th>Warehouse</th>\n",
       "      <td>0.000045</td>\n",
       "    </tr>\n",
       "    <tr>\n",
       "      <th>Non-Refrigerated Warehouse</th>\n",
       "      <td>0.000039</td>\n",
       "    </tr>\n",
       "    <tr>\n",
       "      <th>Magnolia / queen anne</th>\n",
       "      <td>0.000014</td>\n",
       "    </tr>\n",
       "    <tr>\n",
       "      <th>Downtown</th>\n",
       "      <td>0.000007</td>\n",
       "    </tr>\n",
       "    <tr>\n",
       "      <th>Retail Store</th>\n",
       "      <td>0.000000</td>\n",
       "    </tr>\n",
       "    <tr>\n",
       "      <th>East</th>\n",
       "      <td>0.000000</td>\n",
       "    </tr>\n",
       "    <tr>\n",
       "      <th>Lake union</th>\n",
       "      <td>0.000000</td>\n",
       "    </tr>\n",
       "    <tr>\n",
       "      <th>Mixed Use Property</th>\n",
       "      <td>0.000000</td>\n",
       "    </tr>\n",
       "    <tr>\n",
       "      <th>Senior Care Community</th>\n",
       "      <td>0.000000</td>\n",
       "    </tr>\n",
       "  </tbody>\n",
       "</table>\n",
       "</div>"
      ],
      "text/plain": [
       "                            Features Importances\n",
       "Southwest                               0.819892\n",
       "Restaurant                              0.055227\n",
       "K-12 School                             0.033283\n",
       "NumberofBuildings                       0.017608\n",
       "Laboratory                              0.013054\n",
       "NumberofFloors                          0.011572\n",
       "Self-Storage Facility                   0.011179\n",
       "Hotel                                   0.009474\n",
       "Central                                 0.007665\n",
       "Northeast                               0.005890\n",
       "Southeast                               0.004810\n",
       "Office                                  0.003317\n",
       "Residence Hall                          0.002088\n",
       "Ballard                                 0.001413\n",
       "Refrigerated Warehouse                  0.000733\n",
       "Northwest                               0.000533\n",
       "Worship Facility                        0.000433\n",
       "North                                   0.000420\n",
       "Hospital                                0.000296\n",
       "YearBuilt                               0.000296\n",
       "Distribution Center                     0.000270\n",
       "Greater duwamish                        0.000107\n",
       "University                              0.000085\n",
       "PropertyGFATotal                        0.000068\n",
       "Other                                   0.000065\n",
       "Delridge                                0.000064\n",
       "Supermarket/Grocery Store               0.000051\n",
       "Warehouse                               0.000045\n",
       "Non-Refrigerated Warehouse              0.000039\n",
       "Magnolia / queen anne                   0.000014\n",
       "Downtown                                0.000007\n",
       "Retail Store                            0.000000\n",
       "East                                    0.000000\n",
       "Lake union                              0.000000\n",
       "Mixed Use Property                      0.000000\n",
       "Senior Care Community                   0.000000"
      ]
     },
     "execution_count": 46,
     "metadata": {},
     "output_type": "execute_result"
    }
   ],
   "source": [
    "df_feature_imp = pd.DataFrame(feature_importance, attributes, columns=['Features Importances'])\n",
    "df_feature_imp.sort_values(\"Features Importances\", ascending=False)"
   ]
  },
  {
   "cell_type": "markdown",
   "id": "c3f245f9",
   "metadata": {},
   "source": [
    "## 3.5) Analyse des erreurs du modèle <a class=\"anchor\" id=\"section_3_5\"></a>"
   ]
  },
  {
   "cell_type": "code",
   "execution_count": 47,
   "id": "b888c677",
   "metadata": {},
   "outputs": [],
   "source": [
    "final_model_co2 = grid_search.best_estimator_"
   ]
  },
  {
   "cell_type": "code",
   "execution_count": 48,
   "id": "6c91892b",
   "metadata": {},
   "outputs": [],
   "source": [
    "final_predictions_co2 = final_model_co2.predict(X_test)"
   ]
  },
  {
   "cell_type": "code",
   "execution_count": 49,
   "id": "017635d8",
   "metadata": {},
   "outputs": [
    {
     "name": "stdout",
     "output_type": "stream",
     "text": [
      "MAE : 0.84534\n",
      "MSE : 1.10222\n",
      "RMSE : 1.04987\n",
      "R² : 0.45439\n"
     ]
    }
   ],
   "source": [
    "regression_metrics(y_test, final_predictions_co2)"
   ]
  },
  {
   "cell_type": "code",
   "execution_count": 50,
   "id": "1c3bce66",
   "metadata": {},
   "outputs": [
    {
     "data": {
      "image/png": "[encoded data removed]",
      "text/plain": [
       "<Figure size 576x396 with 2 Axes>"
      ]
     },
     "metadata": {},
     "output_type": "display_data"
    }
   ],
   "source": [
    "visualizer = ResidualsPlot(final_model_co2)\n",
    "visualizer.fit(X_train, y_train.reshape(2624,))\n",
    "visualizer.score(X_test, y_test.reshape(657,))\n",
    "visualizer.show();"
   ]
  },
  {
   "cell_type": "code",
   "execution_count": 51,
   "id": "86702b58",
   "metadata": {},
   "outputs": [
    {
     "data": {
      "image/png": "[encoded data removed]",
      "text/plain": [
       "<Figure size 576x396 with 1 Axes>"
      ]
     },
     "metadata": {},
     "output_type": "display_data"
    }
   ],
   "source": [
    "visualizer = prediction_error(final_model_co2, X_train, y_train, X_test, y_test);"
   ]
  },
  {
   "cell_type": "markdown",
   "id": "e82bcf7c",
   "metadata": {},
   "source": [
    "## 3.6) Pipeline du modèle pour l'estimation des émissions de CO2 <a class=\"anchor\" id=\"section_3_6\"></a>"
   ]
  },
  {
   "cell_type": "code",
   "execution_count": 52,
   "id": "2feacae8",
   "metadata": {},
   "outputs": [],
   "source": [
    "full_pipeline_co2 = Pipeline([\n",
    "    (\"preprocessing\", preprocessor),\n",
    "    (\"model\", final_model_co2)\n",
    "])"
   ]
  },
  {
   "cell_type": "code",
   "execution_count": 53,
   "id": "f725712e",
   "metadata": {},
   "outputs": [
    {
     "data": {
      "text/plain": [
       "['model_prediction_co2.pkl']"
      ]
     },
     "execution_count": 53,
     "metadata": {},
     "output_type": "execute_result"
    }
   ],
   "source": [
    "# Sauvegarde du modèle\n",
    "joblib.dump(full_pipeline_co2, 'model_prediction_co2.pkl')"
   ]
  },
  {
   "cell_type": "markdown",
   "id": "ff195777",
   "metadata": {},
   "source": [
    "# 4 - Conclusion <a class=\"anchor\" id=\"chapter1\"></a>"
   ]
  },
  {
   "cell_type": "markdown",
   "id": "faa89c96",
   "metadata": {},
   "source": [
    "A l'aide des informations dont l'on dispose, il est possible de prédire la consommation d'énergie et les émissions de CO2. Pour effectuer cela, il faudra mettre en place deux modèles de RandomForest. Les deux modèles finaux sont présents dans le script Python fourni. \n",
    "\n",
    "A l'intérieur, on retrouve l'entraînement et l'enregistrement des modèles. L'avantage du choix d'un modèle comme le Random Forest permet de ne pas transformer la variable cible via une transformation logarithmique. Pour les besoins de la recherche d'un modèle le plus performant possible, il était nécessaire de le faire car certains modèles sont influencés par la non-normalité de la variable cible. En revanche une fois l'étude réalisée, cela n'avait plus aucune raison d'être. C'est pourquoi le script Python des deux modèles finaux ne contient pas de transformation logarithme. Ainsi les modèles prédisent directement la consommation en énergie et les émissions de gaz à effets de serre dans l'unité que l'on a identifié dans nos données initiales. "
   ]
  }
 ],
 "metadata": {
  "kernelspec": {
   "display_name": "Python 3",
   "language": "python",
   "name": "python3"
  },
  "language_info": {
   "codemirror_mode": {
    "name": "ipython",
    "version": 3
   },
   "file_extension": ".py",
   "mimetype": "text/x-python",
   "name": "python",
   "nbconvert_exporter": "python",
   "pygments_lexer": "ipython3",
   "version": "3.8.10"
  }
 },
 "nbformat": 4,
 "nbformat_minor": 5
}
