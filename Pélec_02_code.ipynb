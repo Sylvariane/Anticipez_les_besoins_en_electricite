{
 "cells": [
  {
   "cell_type": "code",
   "execution_count": 1,
   "source": [
    "import pandas as pd\r\n",
    "import numpy as np\r\n",
    "\r\n",
    "import matplotlib.pyplot as plt\r\n",
    "import seaborn as sns\r\n",
    "from sklearn.metrics import mean_absolute_error, mean_squared_error, r2_score"
   ],
   "outputs": [],
   "metadata": {}
  },
  {
   "cell_type": "code",
   "execution_count": 2,
   "source": [
    "def regression_metrics(y_pred, y_test):\r\n",
    "    \"\"\"Function which contains differents metrics about regression\r\n",
    "    Input: prediction, test/target\r\n",
    "    \r\n",
    "    Output: MAE, MSE, RMSE & R² score  \r\n",
    "    \"\"\"\r\n",
    "    mae=mean_absolute_error(y_pred, y_test)\r\n",
    "    mse=mean_squared_error(y_pred, y_test)\r\n",
    "    rmse=mse ** (1/2)\r\n",
    "    r_score = r2_score(y_pred, y_test)\r\n",
    "    print(\"MAE :\",mae.round(3))\r\n",
    "    print(\"MSE :\", mse.round(3))\r\n",
    "    print(\"RMSE :\", rmse.round(3))\r\n",
    "    print(\"R² :\", r_score.round(3))"
   ],
   "outputs": [],
   "metadata": {}
  },
  {
   "cell_type": "code",
   "execution_count": 3,
   "source": [
    "test_set =  pd.read_csv(\"datasets/test_set.csv\")\r\n",
    "train_set = pd.read_csv(\"datasets/train_set.csv\")"
   ],
   "outputs": [],
   "metadata": {}
  },
  {
   "cell_type": "code",
   "execution_count": 4,
   "source": [
    "train_set.head(3)"
   ],
   "outputs": [
    {
     "output_type": "execute_result",
     "data": {
      "text/plain": [
       "  PrimaryPropertyType Neighborhood  YearBuilt  NumberofBuildings  \\\n",
       "0              Office   Lake union       1986                1.0   \n",
       "1              Office     Delridge       1988                1.0   \n",
       "2               Other     Downtown       1991                1.0   \n",
       "\n",
       "   NumberofFloors  PropertyGFABuilding(s)  ENERGYSTARScore  \\\n",
       "0             4.0                   35526              NaN   \n",
       "1             2.0                   30659              9.0   \n",
       "2             2.0                   26579              NaN   \n",
       "\n",
       "   SiteEnergyUse(kBtu)  TotalGHGEmissions  %SteamUse  %Electricity  \\\n",
       "0           2520483.25              17.57        0.0        100.00   \n",
       "1           3580035.00              76.48        0.0         68.81   \n",
       "2           8163413.00             298.91        0.0         35.75   \n",
       "\n",
       "   %NaturalGas  %OtherFuelUse  \n",
       "0         0.00            NaN  \n",
       "1        31.19            0.0  \n",
       "2        64.25            NaN  "
      ],
      "text/html": [
       "<div>\n",
       "<style scoped>\n",
       "    .dataframe tbody tr th:only-of-type {\n",
       "        vertical-align: middle;\n",
       "    }\n",
       "\n",
       "    .dataframe tbody tr th {\n",
       "        vertical-align: top;\n",
       "    }\n",
       "\n",
       "    .dataframe thead th {\n",
       "        text-align: right;\n",
       "    }\n",
       "</style>\n",
       "<table border=\"1\" class=\"dataframe\">\n",
       "  <thead>\n",
       "    <tr style=\"text-align: right;\">\n",
       "      <th></th>\n",
       "      <th>PrimaryPropertyType</th>\n",
       "      <th>Neighborhood</th>\n",
       "      <th>YearBuilt</th>\n",
       "      <th>NumberofBuildings</th>\n",
       "      <th>NumberofFloors</th>\n",
       "      <th>PropertyGFABuilding(s)</th>\n",
       "      <th>ENERGYSTARScore</th>\n",
       "      <th>SiteEnergyUse(kBtu)</th>\n",
       "      <th>TotalGHGEmissions</th>\n",
       "      <th>%SteamUse</th>\n",
       "      <th>%Electricity</th>\n",
       "      <th>%NaturalGas</th>\n",
       "      <th>%OtherFuelUse</th>\n",
       "    </tr>\n",
       "  </thead>\n",
       "  <tbody>\n",
       "    <tr>\n",
       "      <th>0</th>\n",
       "      <td>Office</td>\n",
       "      <td>Lake union</td>\n",
       "      <td>1986</td>\n",
       "      <td>1.0</td>\n",
       "      <td>4.0</td>\n",
       "      <td>35526</td>\n",
       "      <td>NaN</td>\n",
       "      <td>2520483.25</td>\n",
       "      <td>17.57</td>\n",
       "      <td>0.0</td>\n",
       "      <td>100.00</td>\n",
       "      <td>0.00</td>\n",
       "      <td>NaN</td>\n",
       "    </tr>\n",
       "    <tr>\n",
       "      <th>1</th>\n",
       "      <td>Office</td>\n",
       "      <td>Delridge</td>\n",
       "      <td>1988</td>\n",
       "      <td>1.0</td>\n",
       "      <td>2.0</td>\n",
       "      <td>30659</td>\n",
       "      <td>9.0</td>\n",
       "      <td>3580035.00</td>\n",
       "      <td>76.48</td>\n",
       "      <td>0.0</td>\n",
       "      <td>68.81</td>\n",
       "      <td>31.19</td>\n",
       "      <td>0.0</td>\n",
       "    </tr>\n",
       "    <tr>\n",
       "      <th>2</th>\n",
       "      <td>Other</td>\n",
       "      <td>Downtown</td>\n",
       "      <td>1991</td>\n",
       "      <td>1.0</td>\n",
       "      <td>2.0</td>\n",
       "      <td>26579</td>\n",
       "      <td>NaN</td>\n",
       "      <td>8163413.00</td>\n",
       "      <td>298.91</td>\n",
       "      <td>0.0</td>\n",
       "      <td>35.75</td>\n",
       "      <td>64.25</td>\n",
       "      <td>NaN</td>\n",
       "    </tr>\n",
       "  </tbody>\n",
       "</table>\n",
       "</div>"
      ]
     },
     "metadata": {},
     "execution_count": 4
    }
   ],
   "metadata": {
    "scrolled": true
   }
  },
  {
   "cell_type": "code",
   "execution_count": 5,
   "source": [
    "train_set.isnull().mean() * 100"
   ],
   "outputs": [
    {
     "output_type": "execute_result",
     "data": {
      "text/plain": [
       "PrimaryPropertyType        0.000000\n",
       "Neighborhood               0.000000\n",
       "YearBuilt                  0.000000\n",
       "NumberofBuildings          0.000000\n",
       "NumberofFloors             0.155280\n",
       "PropertyGFABuilding(s)     0.000000\n",
       "ENERGYSTARScore           31.987578\n",
       "SiteEnergyUse(kBtu)        0.000000\n",
       "TotalGHGEmissions          0.000000\n",
       "%SteamUse                  0.000000\n",
       "%Electricity               0.000000\n",
       "%NaturalGas                0.000000\n",
       "%OtherFuelUse             52.639752\n",
       "dtype: float64"
      ]
     },
     "metadata": {},
     "execution_count": 5
    }
   ],
   "metadata": {}
  },
  {
   "cell_type": "code",
   "execution_count": 6,
   "source": [
    "cat_var = [\"PrimaryPropertyType\", \"Neighborhood\"]\r\n",
    "\r\n",
    "num_var = [\"YearBuilt\", \"NumberofBuildings\", \"NumberofFloors\", \"PropertyGFABuilding(s)\", \"SiteEnergyUse(kBtu)\",\r\n",
    "           \"ENERGYSTARScore\", \"%SteamUse\", \"%Electricity\", \"%NaturalGas\",\r\n",
    "           \"%OtherFuelUse\", \"TotalGHGEmissions\"]"
   ],
   "outputs": [],
   "metadata": {}
  },
  {
   "cell_type": "code",
   "execution_count": 7,
   "source": [
    "from sklearn.impute import SimpleImputer\r\n",
    "\r\n",
    "imputer_num = SimpleImputer(strategy=\"median\")\r\n",
    "imputer_cat = SimpleImputer(strategy=\"most_frequent\")\r\n",
    "imputer_num.fit(train_set[num_var])\r\n",
    "imputer_cat.fit(train_set[cat_var])"
   ],
   "outputs": [
    {
     "output_type": "execute_result",
     "data": {
      "text/plain": [
       "SimpleImputer(strategy='most_frequent')"
      ]
     },
     "metadata": {},
     "execution_count": 7
    }
   ],
   "metadata": {}
  },
  {
   "cell_type": "code",
   "execution_count": 8,
   "source": [
    "train_set[num_var] = imputer_num.transform(train_set[num_var])\r\n",
    "train_set[cat_var] = imputer_cat.transform(train_set[cat_var])"
   ],
   "outputs": [],
   "metadata": {}
  },
  {
   "cell_type": "code",
   "execution_count": 9,
   "source": [
    "train_set.isnull().mean() * 100"
   ],
   "outputs": [
    {
     "output_type": "execute_result",
     "data": {
      "text/plain": [
       "PrimaryPropertyType       0.0\n",
       "Neighborhood              0.0\n",
       "YearBuilt                 0.0\n",
       "NumberofBuildings         0.0\n",
       "NumberofFloors            0.0\n",
       "PropertyGFABuilding(s)    0.0\n",
       "ENERGYSTARScore           0.0\n",
       "SiteEnergyUse(kBtu)       0.0\n",
       "TotalGHGEmissions         0.0\n",
       "%SteamUse                 0.0\n",
       "%Electricity              0.0\n",
       "%NaturalGas               0.0\n",
       "%OtherFuelUse             0.0\n",
       "dtype: float64"
      ]
     },
     "metadata": {},
     "execution_count": 9
    }
   ],
   "metadata": {}
  },
  {
   "cell_type": "code",
   "execution_count": 10,
   "source": [
    "y_train = train_set[[\"SiteEnergyUse(kBtu)\"]].values\r\n",
    "X_train = train_set.drop(\"SiteEnergyUse(kBtu)\", axis=1)\r\n",
    "\r\n",
    "y_train = y_train.reshape(-1, 1)"
   ],
   "outputs": [],
   "metadata": {}
  },
  {
   "cell_type": "code",
   "execution_count": 11,
   "source": [
    "from sklearn.preprocessing import OneHotEncoder\r\n",
    "\r\n",
    "enc = OneHotEncoder()\r\n",
    "enc.fit(X_train[cat_var])\r\n",
    "X_train = enc.transform(X_train[cat_var])"
   ],
   "outputs": [],
   "metadata": {}
  },
  {
   "cell_type": "code",
   "execution_count": 12,
   "source": [
    "from sklearn.linear_model import LinearRegression\r\n",
    "\r\n",
    "linreg = LinearRegression()\r\n",
    "linreg.fit(X_train, y_train)"
   ],
   "outputs": [
    {
     "output_type": "execute_result",
     "data": {
      "text/plain": [
       "LinearRegression()"
      ]
     },
     "metadata": {},
     "execution_count": 12
    }
   ],
   "metadata": {
    "scrolled": true
   }
  },
  {
   "cell_type": "code",
   "execution_count": 13,
   "source": [
    "test_set[num_var] = imputer_num.transform(test_set[num_var])\r\n",
    "test_set[cat_var] = imputer_cat.transform(test_set[cat_var])"
   ],
   "outputs": [],
   "metadata": {}
  },
  {
   "cell_type": "code",
   "execution_count": 14,
   "source": [
    "y_test = test_set[[\"SiteEnergyUse(kBtu)\"]].values\r\n",
    "X_test = test_set.drop(\"SiteEnergyUse(kBtu)\", axis=1)\r\n",
    "\r\n",
    "y_test = y_test.reshape(-1, 1)"
   ],
   "outputs": [],
   "metadata": {}
  },
  {
   "cell_type": "code",
   "execution_count": 15,
   "source": [
    "X_test = enc.transform(X_test[cat_var])"
   ],
   "outputs": [],
   "metadata": {}
  },
  {
   "cell_type": "code",
   "execution_count": 16,
   "source": [
    "y_pred = linreg.predict(X_test)"
   ],
   "outputs": [],
   "metadata": {}
  },
  {
   "cell_type": "code",
   "execution_count": 17,
   "source": [
    "regression_metrics(y_pred, y_test)"
   ],
   "outputs": [
    {
     "output_type": "stream",
     "name": "stdout",
     "text": [
      "MAE : 7680716.516\n",
      "MSE : 632390094062573.2\n",
      "RMSE : 25147367.537\n",
      "R² : -8.273\n"
     ]
    }
   ],
   "metadata": {}
  },
  {
   "cell_type": "code",
   "execution_count": null,
   "source": [],
   "outputs": [],
   "metadata": {}
  }
 ],
 "metadata": {
  "kernelspec": {
   "display_name": "Python 3",
   "language": "python",
   "name": "python3"
  },
  "language_info": {
   "codemirror_mode": {
    "name": "ipython",
    "version": 3
   },
   "file_extension": ".py",
   "mimetype": "text/x-python",
   "name": "python",
   "nbconvert_exporter": "python",
   "pygments_lexer": "ipython3",
   "version": "3.8.10"
  }
 },
 "nbformat": 4,
 "nbformat_minor": 5
}