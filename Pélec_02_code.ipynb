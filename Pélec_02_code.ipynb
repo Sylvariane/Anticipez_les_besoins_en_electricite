{
 "cells": [
  {
   "cell_type": "code",
   "execution_count": 1,
   "id": "d55b907b",
   "metadata": {},
   "outputs": [],
   "source": [
    "import pandas as pd\n",
    "import numpy as np\n",
    "\n",
    "import matplotlib.pyplot as plt\n",
    "import seaborn as sns"
   ]
  },
  {
   "cell_type": "code",
   "execution_count": 2,
   "id": "d138348a",
   "metadata": {},
   "outputs": [],
   "source": [
    "test_set =  pd.read_csv(\"datasets/test_set.csv\")\n",
    "train_set = pd.read_csv(\"datasets/train_set.csv\")"
   ]
  },
  {
   "cell_type": "code",
   "execution_count": 3,
   "id": "973614fa",
   "metadata": {},
   "outputs": [
    {
     "data": {
      "text/html": [
       "<div>\n",
       "<style scoped>\n",
       "    .dataframe tbody tr th:only-of-type {\n",
       "        vertical-align: middle;\n",
       "    }\n",
       "\n",
       "    .dataframe tbody tr th {\n",
       "        vertical-align: top;\n",
       "    }\n",
       "\n",
       "    .dataframe thead th {\n",
       "        text-align: right;\n",
       "    }\n",
       "</style>\n",
       "<table border=\"1\" class=\"dataframe\">\n",
       "  <thead>\n",
       "    <tr style=\"text-align: right;\">\n",
       "      <th></th>\n",
       "      <th>BuildingType</th>\n",
       "      <th>PrimaryPropertyType</th>\n",
       "      <th>Neighborhood</th>\n",
       "      <th>YearBuilt</th>\n",
       "      <th>NumberofBuildings</th>\n",
       "      <th>NumberofFloors</th>\n",
       "      <th>PropertyGFATotal</th>\n",
       "      <th>ENERGYSTARScore</th>\n",
       "      <th>SourceEUIWN(kBtu/sf)</th>\n",
       "      <th>SteamUse(kBtu)</th>\n",
       "      <th>Electricity(kBtu)</th>\n",
       "      <th>NaturalGas(kBtu)</th>\n",
       "      <th>OtherFuelUse(kBtu)</th>\n",
       "      <th>TotalGHGEmissions</th>\n",
       "      <th>GHGEmissionsIntensity</th>\n",
       "    </tr>\n",
       "  </thead>\n",
       "  <tbody>\n",
       "    <tr>\n",
       "      <th>0</th>\n",
       "      <td>NonResidential</td>\n",
       "      <td>Large Office</td>\n",
       "      <td>Downtown</td>\n",
       "      <td>1981</td>\n",
       "      <td>1.0</td>\n",
       "      <td>42.0</td>\n",
       "      <td>1249055</td>\n",
       "      <td>93.0</td>\n",
       "      <td>0.000000</td>\n",
       "      <td>0.0</td>\n",
       "      <td>39875857.0</td>\n",
       "      <td>0.0</td>\n",
       "      <td>1943011.0</td>\n",
       "      <td>277.98</td>\n",
       "      <td>0.09</td>\n",
       "    </tr>\n",
       "    <tr>\n",
       "      <th>1</th>\n",
       "      <td>NonResidential</td>\n",
       "      <td>Large Office</td>\n",
       "      <td>Downtown</td>\n",
       "      <td>1978</td>\n",
       "      <td>1.0</td>\n",
       "      <td>12.0</td>\n",
       "      <td>234000</td>\n",
       "      <td>36.0</td>\n",
       "      <td>283.100000</td>\n",
       "      <td>0.0</td>\n",
       "      <td>18917009.0</td>\n",
       "      <td>259786.0</td>\n",
       "      <td>0.0</td>\n",
       "      <td>145.67</td>\n",
       "      <td>0.27</td>\n",
       "    </tr>\n",
       "    <tr>\n",
       "      <th>2</th>\n",
       "      <td>NonResidential</td>\n",
       "      <td>Distribution Center</td>\n",
       "      <td>Magnolia / queen anne</td>\n",
       "      <td>1968</td>\n",
       "      <td>1.0</td>\n",
       "      <td>1.0</td>\n",
       "      <td>35946</td>\n",
       "      <td>NaN</td>\n",
       "      <td>31.700001</td>\n",
       "      <td>0.0</td>\n",
       "      <td>300259.0</td>\n",
       "      <td>169240.0</td>\n",
       "      <td>NaN</td>\n",
       "      <td>11.08</td>\n",
       "      <td>0.31</td>\n",
       "    </tr>\n",
       "  </tbody>\n",
       "</table>\n",
       "</div>"
      ],
      "text/plain": [
       "     BuildingType  PrimaryPropertyType           Neighborhood  YearBuilt  \\\n",
       "0  NonResidential         Large Office               Downtown       1981   \n",
       "1  NonResidential         Large Office               Downtown       1978   \n",
       "2  NonResidential  Distribution Center  Magnolia / queen anne       1968   \n",
       "\n",
       "   NumberofBuildings  NumberofFloors  PropertyGFATotal  ENERGYSTARScore  \\\n",
       "0                1.0            42.0           1249055             93.0   \n",
       "1                1.0            12.0            234000             36.0   \n",
       "2                1.0             1.0             35946              NaN   \n",
       "\n",
       "   SourceEUIWN(kBtu/sf)  SteamUse(kBtu)  Electricity(kBtu)  NaturalGas(kBtu)  \\\n",
       "0              0.000000             0.0         39875857.0               0.0   \n",
       "1            283.100000             0.0         18917009.0          259786.0   \n",
       "2             31.700001             0.0           300259.0          169240.0   \n",
       "\n",
       "   OtherFuelUse(kBtu)  TotalGHGEmissions  GHGEmissionsIntensity  \n",
       "0           1943011.0             277.98                   0.09  \n",
       "1                 0.0             145.67                   0.27  \n",
       "2                 NaN              11.08                   0.31  "
      ]
     },
     "execution_count": 3,
     "metadata": {},
     "output_type": "execute_result"
    }
   ],
   "source": [
    "train_set.head(3)"
   ]
  },
  {
   "cell_type": "code",
   "execution_count": 4,
   "id": "79c4dce7",
   "metadata": {},
   "outputs": [
    {
     "data": {
      "text/plain": [
       "BuildingType              0.000000\n",
       "PrimaryPropertyType       0.000000\n",
       "Neighborhood              0.000000\n",
       "YearBuilt                 0.000000\n",
       "NumberofBuildings         0.000000\n",
       "NumberofFloors            0.452489\n",
       "PropertyGFATotal          0.000000\n",
       "ENERGYSTARScore          32.579186\n",
       "SourceEUIWN(kBtu/sf)      0.301659\n",
       "SteamUse(kBtu)            0.301659\n",
       "Electricity(kBtu)         0.301659\n",
       "NaturalGas(kBtu)          0.301659\n",
       "OtherFuelUse(kBtu)       51.432881\n",
       "TotalGHGEmissions         0.301659\n",
       "GHGEmissionsIntensity     0.301659\n",
       "dtype: float64"
      ]
     },
     "execution_count": 4,
     "metadata": {},
     "output_type": "execute_result"
    }
   ],
   "source": [
    "train_set.isnull().mean() * 100"
   ]
  },
  {
   "cell_type": "code",
   "execution_count": 5,
   "id": "b46b2eb3",
   "metadata": {},
   "outputs": [],
   "source": [
    "cat_var = [\"PrimaryPropertyType\",\"BuildingType\", \"Neighborhood\"]\n",
    "\n",
    "num_var = [\"YearBuilt\", \"PropertyGFATotal\", \"NumberofBuildings\", \"NumberofFloors\",\n",
    "           \"ENERGYSTARScore\", \"SourceEUIWN(kBtu/sf)\", \"SteamUse(kBtu)\",\n",
    "           \"Electricity(kBtu)\", \"NaturalGas(kBtu)\", \n",
    "           \"OtherFuelUse(kBtu)\",\"TotalGHGEmissions\", \"GHGEmissionsIntensity\"]"
   ]
  },
  {
   "cell_type": "code",
   "execution_count": 6,
   "id": "b9971e8d",
   "metadata": {},
   "outputs": [
    {
     "data": {
      "text/plain": [
       "SimpleImputer(strategy='most_frequent')"
      ]
     },
     "execution_count": 6,
     "metadata": {},
     "output_type": "execute_result"
    }
   ],
   "source": [
    "from sklearn.impute import SimpleImputer\n",
    "\n",
    "imputer_num = SimpleImputer(strategy=\"median\")\n",
    "imputer_cat = SimpleImputer(strategy=\"most_frequent\")\n",
    "imputer_num.fit(train_set[num_var])\n",
    "imputer_cat.fit(train_set[cat_var])"
   ]
  },
  {
   "cell_type": "code",
   "execution_count": 7,
   "id": "9ac4c6e7",
   "metadata": {},
   "outputs": [],
   "source": [
    "train_set[num_var] = imputer_num.transform(train_set[num_var])\n",
    "train_set[cat_var] = imputer_cat.transform(train_set[cat_var])"
   ]
  },
  {
   "cell_type": "code",
   "execution_count": 8,
   "id": "434332a1",
   "metadata": {},
   "outputs": [
    {
     "data": {
      "text/plain": [
       "BuildingType             0.0\n",
       "PrimaryPropertyType      0.0\n",
       "Neighborhood             0.0\n",
       "YearBuilt                0.0\n",
       "NumberofBuildings        0.0\n",
       "NumberofFloors           0.0\n",
       "PropertyGFATotal         0.0\n",
       "ENERGYSTARScore          0.0\n",
       "SourceEUIWN(kBtu/sf)     0.0\n",
       "SteamUse(kBtu)           0.0\n",
       "Electricity(kBtu)        0.0\n",
       "NaturalGas(kBtu)         0.0\n",
       "OtherFuelUse(kBtu)       0.0\n",
       "TotalGHGEmissions        0.0\n",
       "GHGEmissionsIntensity    0.0\n",
       "dtype: float64"
      ]
     },
     "execution_count": 8,
     "metadata": {},
     "output_type": "execute_result"
    }
   ],
   "source": [
    "train_set.isnull().mean() * 100"
   ]
  },
  {
   "cell_type": "code",
   "execution_count": 9,
   "id": "d9b5a8ba",
   "metadata": {},
   "outputs": [],
   "source": [
    "y_train = train_set[[\"ENERGYSTARScore\"]].values\n",
    "X_train = train_set.drop(\"ENERGYSTARScore\", axis=1)\n",
    "\n",
    "y_train = y_train.reshape(-1, 1)"
   ]
  },
  {
   "cell_type": "code",
   "execution_count": 11,
   "id": "74412112",
   "metadata": {},
   "outputs": [],
   "source": [
    "from sklearn.preprocessing import OneHotEncoder\n",
    "\n",
    "enc = OneHotEncoder()\n",
    "enc.fit(X_train[cat_var])\n",
    "X_train = enc.transform(X_train[cat_var])"
   ]
  },
  {
   "cell_type": "code",
   "execution_count": 12,
   "id": "52edd66e",
   "metadata": {
    "scrolled": true
   },
   "outputs": [
    {
     "data": {
      "text/plain": [
       "LinearRegression()"
      ]
     },
     "execution_count": 12,
     "metadata": {},
     "output_type": "execute_result"
    }
   ],
   "source": [
    "from sklearn.linear_model import LinearRegression\n",
    "\n",
    "linreg = LinearRegression()\n",
    "linreg.fit(X_train, y_train)"
   ]
  },
  {
   "cell_type": "code",
   "execution_count": 13,
   "id": "d7afc7c2",
   "metadata": {},
   "outputs": [],
   "source": [
    "test_set[num_var] = imputer_num.transform(test_set[num_var])\n",
    "test_set[cat_var] = imputer_cat.transform(test_set[cat_var])"
   ]
  },
  {
   "cell_type": "code",
   "execution_count": 14,
   "id": "b9125fec",
   "metadata": {},
   "outputs": [],
   "source": [
    "y_test = test_set[[\"ENERGYSTARScore\"]].values\n",
    "X_test = test_set.drop(\"ENERGYSTARScore\", axis=1)\n",
    "\n",
    "y_test = y_test.reshape(-1, 1)"
   ]
  },
  {
   "cell_type": "code",
   "execution_count": 16,
   "id": "fcec549f",
   "metadata": {},
   "outputs": [],
   "source": [
    "X_test = enc.transform(X_test[cat_var])"
   ]
  },
  {
   "cell_type": "code",
   "execution_count": 17,
   "id": "abc67997",
   "metadata": {},
   "outputs": [],
   "source": [
    "y_pred = linreg.predict(X_test)"
   ]
  },
  {
   "cell_type": "code",
   "execution_count": 24,
   "id": "3ac3f6fb",
   "metadata": {},
   "outputs": [
    {
     "name": "stdout",
     "output_type": "stream",
     "text": [
      "MAE : 16.185\n",
      "MSE : 508.736\n",
      "RMSE : 22.555\n",
      "R² : -3.456\n"
     ]
    }
   ],
   "source": [
    "from sklearn.metrics import mean_absolute_error, mean_squared_error, r2_score\n",
    "\n",
    "mae=mean_absolute_error(y_pred, y_test)\n",
    "mse=mean_squared_error(y_pred, y_test)\n",
    "rmse=mse ** (1/2)\n",
    "r_score = r2_score(y_pred, y_test)\n",
    "\n",
    "print(\"MAE :\",mae.round(3))\n",
    "print(\"MSE :\", mse.round(3))\n",
    "print(\"RMSE :\", rmse.round(3))\n",
    "print(\"R² :\", r_score.round(3))"
   ]
  },
  {
   "cell_type": "code",
   "execution_count": null,
   "id": "5953f076",
   "metadata": {},
   "outputs": [],
   "source": []
  }
 ],
 "metadata": {
  "kernelspec": {
   "display_name": "Python 3",
   "language": "python",
   "name": "python3"
  },
  "language_info": {
   "codemirror_mode": {
    "name": "ipython",
    "version": 3
   },
   "file_extension": ".py",
   "mimetype": "text/x-python",
   "name": "python",
   "nbconvert_exporter": "python",
   "pygments_lexer": "ipython3",
   "version": "3.8.10"
  }
 },
 "nbformat": 4,
 "nbformat_minor": 5
}
