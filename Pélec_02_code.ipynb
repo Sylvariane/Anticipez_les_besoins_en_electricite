{
 "cells": [
  {
   "cell_type": "code",
   "execution_count": 1,
   "id": "d55b907b",
   "metadata": {},
   "outputs": [],
   "source": [
    "import pandas as pd\n",
    "import numpy as np\n",
    "\n",
    "import matplotlib.pyplot as plt\n",
    "import seaborn as sns\n",
    "from sklearn.metrics import mean_absolute_error, mean_squared_error, r2_score"
   ]
  },
  {
   "cell_type": "code",
   "execution_count": 2,
   "id": "bba3f615",
   "metadata": {},
   "outputs": [],
   "source": [
    "def regression_metrics(y_pred, y_test):\n",
    "    \"\"\"Function which contains differents metrics about regression\n",
    "    Input: prediction, test/target\n",
    "    \n",
    "    Output: MAE, MSE, RMSE & R² score  \n",
    "    \"\"\"\n",
    "    mae=mean_absolute_error(y_pred, y_test)\n",
    "    mse=mean_squared_error(y_pred, y_test)\n",
    "    rmse=mse ** (1/2)\n",
    "    r_score = r2_score(y_pred, y_test)\n",
    "    print(\"MAE :\",mae.round(3))\n",
    "    print(\"MSE :\", mse.round(3))\n",
    "    print(\"RMSE :\", rmse.round(3))\n",
    "    print(\"R² :\", r_score.round(3))"
   ]
  },
  {
   "cell_type": "code",
   "execution_count": 3,
   "id": "d138348a",
   "metadata": {},
   "outputs": [],
   "source": [
    "test_set =  pd.read_csv(\"datasets/test_set.csv\")\n",
    "train_set = pd.read_csv(\"datasets/train_set.csv\")"
   ]
  },
  {
   "cell_type": "code",
   "execution_count": 4,
   "id": "973614fa",
   "metadata": {},
   "outputs": [
    {
     "data": {
      "text/html": [
       "<div>\n",
       "<style scoped>\n",
       "    .dataframe tbody tr th:only-of-type {\n",
       "        vertical-align: middle;\n",
       "    }\n",
       "\n",
       "    .dataframe tbody tr th {\n",
       "        vertical-align: top;\n",
       "    }\n",
       "\n",
       "    .dataframe thead th {\n",
       "        text-align: right;\n",
       "    }\n",
       "</style>\n",
       "<table border=\"1\" class=\"dataframe\">\n",
       "  <thead>\n",
       "    <tr style=\"text-align: right;\">\n",
       "      <th></th>\n",
       "      <th>BuildingType</th>\n",
       "      <th>PrimaryPropertyType</th>\n",
       "      <th>Neighborhood</th>\n",
       "      <th>YearBuilt</th>\n",
       "      <th>NumberofBuildings</th>\n",
       "      <th>NumberofFloors</th>\n",
       "      <th>PropertyGFATotal</th>\n",
       "      <th>PropertyGFABuilding(s)</th>\n",
       "      <th>ENERGYSTARScore</th>\n",
       "      <th>SourceEUIWN(kBtu/sf)</th>\n",
       "      <th>...</th>\n",
       "      <th>NoBuildings</th>\n",
       "      <th>NoFloors</th>\n",
       "      <th>SteamUse(kBtu/sf)</th>\n",
       "      <th>Electricity(kBtu/sf)</th>\n",
       "      <th>NaturalGas(kBtu/sf)</th>\n",
       "      <th>OtherFuelUse(kBtu/sf)</th>\n",
       "      <th>%SteamUse</th>\n",
       "      <th>%Electricity</th>\n",
       "      <th>%NaturalGas</th>\n",
       "      <th>%OtherFuelUse</th>\n",
       "    </tr>\n",
       "  </thead>\n",
       "  <tbody>\n",
       "    <tr>\n",
       "      <th>0</th>\n",
       "      <td>NonResidential</td>\n",
       "      <td>Other</td>\n",
       "      <td>Downtown</td>\n",
       "      <td>1930</td>\n",
       "      <td>1.0</td>\n",
       "      <td>2.0</td>\n",
       "      <td>67224</td>\n",
       "      <td>67224</td>\n",
       "      <td>NaN</td>\n",
       "      <td>64.900000</td>\n",
       "      <td>...</td>\n",
       "      <td>NaN</td>\n",
       "      <td>2-5</td>\n",
       "      <td>0.0</td>\n",
       "      <td>20.66</td>\n",
       "      <td>0.0</td>\n",
       "      <td>0.0</td>\n",
       "      <td>0.0</td>\n",
       "      <td>100.0</td>\n",
       "      <td>0.0</td>\n",
       "      <td>0.0</td>\n",
       "    </tr>\n",
       "    <tr>\n",
       "      <th>1</th>\n",
       "      <td>NonResidential</td>\n",
       "      <td>Mixed Use Property</td>\n",
       "      <td>Northwest</td>\n",
       "      <td>1996</td>\n",
       "      <td>1.0</td>\n",
       "      <td>3.0</td>\n",
       "      <td>55912</td>\n",
       "      <td>33062</td>\n",
       "      <td>NaN</td>\n",
       "      <td>232.699997</td>\n",
       "      <td>...</td>\n",
       "      <td>NaN</td>\n",
       "      <td>2-5</td>\n",
       "      <td>0.0</td>\n",
       "      <td>74.12</td>\n",
       "      <td>0.0</td>\n",
       "      <td>NaN</td>\n",
       "      <td>0.0</td>\n",
       "      <td>100.0</td>\n",
       "      <td>0.0</td>\n",
       "      <td>NaN</td>\n",
       "    </tr>\n",
       "    <tr>\n",
       "      <th>2</th>\n",
       "      <td>SPS-District K-12</td>\n",
       "      <td>Educational Building</td>\n",
       "      <td>Magnolia / queen anne</td>\n",
       "      <td>1989</td>\n",
       "      <td>1.0</td>\n",
       "      <td>2.0</td>\n",
       "      <td>51582</td>\n",
       "      <td>51582</td>\n",
       "      <td>94.0</td>\n",
       "      <td>95.800000</td>\n",
       "      <td>...</td>\n",
       "      <td>NaN</td>\n",
       "      <td>2-5</td>\n",
       "      <td>0.0</td>\n",
       "      <td>28.55</td>\n",
       "      <td>0.0</td>\n",
       "      <td>0.0</td>\n",
       "      <td>0.0</td>\n",
       "      <td>100.0</td>\n",
       "      <td>0.0</td>\n",
       "      <td>0.0</td>\n",
       "    </tr>\n",
       "  </tbody>\n",
       "</table>\n",
       "<p>3 rows × 28 columns</p>\n",
       "</div>"
      ],
      "text/plain": [
       "        BuildingType   PrimaryPropertyType           Neighborhood  YearBuilt  \\\n",
       "0     NonResidential                 Other               Downtown       1930   \n",
       "1     NonResidential    Mixed Use Property              Northwest       1996   \n",
       "2  SPS-District K-12  Educational Building  Magnolia / queen anne       1989   \n",
       "\n",
       "   NumberofBuildings  NumberofFloors  PropertyGFATotal  \\\n",
       "0                1.0             2.0             67224   \n",
       "1                1.0             3.0             55912   \n",
       "2                1.0             2.0             51582   \n",
       "\n",
       "   PropertyGFABuilding(s)  ENERGYSTARScore  SourceEUIWN(kBtu/sf)  ...  \\\n",
       "0                   67224              NaN             64.900000  ...   \n",
       "1                   33062              NaN            232.699997  ...   \n",
       "2                   51582             94.0             95.800000  ...   \n",
       "\n",
       "   NoBuildings  NoFloors  SteamUse(kBtu/sf)  Electricity(kBtu/sf)  \\\n",
       "0          NaN       2-5                0.0                 20.66   \n",
       "1          NaN       2-5                0.0                 74.12   \n",
       "2          NaN       2-5                0.0                 28.55   \n",
       "\n",
       "   NaturalGas(kBtu/sf)  OtherFuelUse(kBtu/sf)  %SteamUse %Electricity  \\\n",
       "0                  0.0                    0.0        0.0        100.0   \n",
       "1                  0.0                    NaN        0.0        100.0   \n",
       "2                  0.0                    0.0        0.0        100.0   \n",
       "\n",
       "  %NaturalGas %OtherFuelUse  \n",
       "0         0.0           0.0  \n",
       "1         0.0           NaN  \n",
       "2         0.0           0.0  \n",
       "\n",
       "[3 rows x 28 columns]"
      ]
     },
     "execution_count": 4,
     "metadata": {},
     "output_type": "execute_result"
    }
   ],
   "source": [
    "train_set.head(3)"
   ]
  },
  {
   "cell_type": "code",
   "execution_count": 5,
   "id": "79c4dce7",
   "metadata": {},
   "outputs": [
    {
     "data": {
      "text/plain": [
       "BuildingType               0.000000\n",
       "PrimaryPropertyType        0.000000\n",
       "Neighborhood               0.000000\n",
       "YearBuilt                  0.000000\n",
       "NumberofBuildings          0.000000\n",
       "NumberofFloors             0.311526\n",
       "PropertyGFATotal           0.000000\n",
       "PropertyGFABuilding(s)     0.000000\n",
       "ENERGYSTARScore           32.398754\n",
       "SourceEUIWN(kBtu/sf)       0.000000\n",
       "SiteEnergyUse(kBtu)        0.000000\n",
       "SteamUse(kBtu)             0.000000\n",
       "Electricity(kBtu)          0.000000\n",
       "NaturalGas(kBtu)           0.000000\n",
       "OtherFuelUse(kBtu)        49.532710\n",
       "TotalGHGEmissions          0.000000\n",
       "GHGEmissionsIntensity      0.000000\n",
       "DecadeBuilt                0.000000\n",
       "NoBuildings               97.196262\n",
       "NoFloors                   0.934579\n",
       "SteamUse(kBtu/sf)          0.000000\n",
       "Electricity(kBtu/sf)       0.000000\n",
       "NaturalGas(kBtu/sf)        0.000000\n",
       "OtherFuelUse(kBtu/sf)     49.532710\n",
       "%SteamUse                  0.000000\n",
       "%Electricity               0.000000\n",
       "%NaturalGas                0.000000\n",
       "%OtherFuelUse             49.532710\n",
       "dtype: float64"
      ]
     },
     "execution_count": 5,
     "metadata": {},
     "output_type": "execute_result"
    }
   ],
   "source": [
    "train_set.isnull().mean() * 100"
   ]
  },
  {
   "cell_type": "code",
   "execution_count": 6,
   "id": "b46b2eb3",
   "metadata": {},
   "outputs": [],
   "source": [
    "cat_var = [\"PrimaryPropertyType\",\"BuildingType\", \"Neighborhood\", \"DecadeBuilt\"]\n",
    "\n",
    "num_var = [\"YearBuilt\", \"PropertyGFATotal\", \"NumberofBuildings\", \"NumberofFloors\",\n",
    "           \"ENERGYSTARScore\", \"SourceEUIWN(kBtu/sf)\", \"SteamUse(kBtu)\",\n",
    "           \"Electricity(kBtu)\", \"NaturalGas(kBtu)\", \n",
    "           \"OtherFuelUse(kBtu)\",\"TotalGHGEmissions\", \"GHGEmissionsIntensity\"]"
   ]
  },
  {
   "cell_type": "code",
   "execution_count": 7,
   "id": "b9971e8d",
   "metadata": {},
   "outputs": [
    {
     "data": {
      "text/plain": [
       "SimpleImputer(strategy='most_frequent')"
      ]
     },
     "execution_count": 7,
     "metadata": {},
     "output_type": "execute_result"
    }
   ],
   "source": [
    "from sklearn.impute import SimpleImputer\n",
    "\n",
    "imputer_num = SimpleImputer(strategy=\"median\")\n",
    "imputer_cat = SimpleImputer(strategy=\"most_frequent\")\n",
    "imputer_num.fit(train_set[num_var])\n",
    "imputer_cat.fit(train_set[cat_var])"
   ]
  },
  {
   "cell_type": "code",
   "execution_count": 8,
   "id": "9ac4c6e7",
   "metadata": {},
   "outputs": [],
   "source": [
    "train_set[num_var] = imputer_num.transform(train_set[num_var])\n",
    "train_set[cat_var] = imputer_cat.transform(train_set[cat_var])"
   ]
  },
  {
   "cell_type": "code",
   "execution_count": 9,
   "id": "434332a1",
   "metadata": {},
   "outputs": [
    {
     "data": {
      "text/plain": [
       "BuildingType               0.000000\n",
       "PrimaryPropertyType        0.000000\n",
       "Neighborhood               0.000000\n",
       "YearBuilt                  0.000000\n",
       "NumberofBuildings          0.000000\n",
       "NumberofFloors             0.000000\n",
       "PropertyGFATotal           0.000000\n",
       "PropertyGFABuilding(s)     0.000000\n",
       "ENERGYSTARScore            0.000000\n",
       "SourceEUIWN(kBtu/sf)       0.000000\n",
       "SiteEnergyUse(kBtu)        0.000000\n",
       "SteamUse(kBtu)             0.000000\n",
       "Electricity(kBtu)          0.000000\n",
       "NaturalGas(kBtu)           0.000000\n",
       "OtherFuelUse(kBtu)         0.000000\n",
       "TotalGHGEmissions          0.000000\n",
       "GHGEmissionsIntensity      0.000000\n",
       "DecadeBuilt                0.000000\n",
       "NoBuildings               97.196262\n",
       "NoFloors                   0.934579\n",
       "SteamUse(kBtu/sf)          0.000000\n",
       "Electricity(kBtu/sf)       0.000000\n",
       "NaturalGas(kBtu/sf)        0.000000\n",
       "OtherFuelUse(kBtu/sf)     49.532710\n",
       "%SteamUse                  0.000000\n",
       "%Electricity               0.000000\n",
       "%NaturalGas                0.000000\n",
       "%OtherFuelUse             49.532710\n",
       "dtype: float64"
      ]
     },
     "execution_count": 9,
     "metadata": {},
     "output_type": "execute_result"
    }
   ],
   "source": [
    "train_set.isnull().mean() * 100"
   ]
  },
  {
   "cell_type": "code",
   "execution_count": 10,
   "id": "d9b5a8ba",
   "metadata": {},
   "outputs": [],
   "source": [
    "y_train = train_set[[\"ENERGYSTARScore\"]].values\n",
    "X_train = train_set.drop(\"ENERGYSTARScore\", axis=1)\n",
    "\n",
    "y_train = y_train.reshape(-1, 1)"
   ]
  },
  {
   "cell_type": "code",
   "execution_count": 11,
   "id": "74412112",
   "metadata": {},
   "outputs": [],
   "source": [
    "from sklearn.preprocessing import OneHotEncoder\n",
    "\n",
    "enc = OneHotEncoder()\n",
    "enc.fit(X_train[cat_var])\n",
    "X_train = enc.transform(X_train[cat_var])"
   ]
  },
  {
   "cell_type": "code",
   "execution_count": 12,
   "id": "52edd66e",
   "metadata": {
    "scrolled": true
   },
   "outputs": [
    {
     "data": {
      "text/plain": [
       "LinearRegression()"
      ]
     },
     "execution_count": 12,
     "metadata": {},
     "output_type": "execute_result"
    }
   ],
   "source": [
    "from sklearn.linear_model import LinearRegression\n",
    "\n",
    "linreg = LinearRegression()\n",
    "linreg.fit(X_train, y_train)"
   ]
  },
  {
   "cell_type": "code",
   "execution_count": 13,
   "id": "d7afc7c2",
   "metadata": {},
   "outputs": [],
   "source": [
    "test_set[num_var] = imputer_num.transform(test_set[num_var])\n",
    "test_set[cat_var] = imputer_cat.transform(test_set[cat_var])"
   ]
  },
  {
   "cell_type": "code",
   "execution_count": 14,
   "id": "b9125fec",
   "metadata": {},
   "outputs": [],
   "source": [
    "y_test = test_set[[\"ENERGYSTARScore\"]].values\n",
    "X_test = test_set.drop(\"ENERGYSTARScore\", axis=1)\n",
    "\n",
    "y_test = y_test.reshape(-1, 1)"
   ]
  },
  {
   "cell_type": "code",
   "execution_count": 15,
   "id": "fcec549f",
   "metadata": {},
   "outputs": [],
   "source": [
    "X_test = enc.transform(X_test[cat_var])"
   ]
  },
  {
   "cell_type": "code",
   "execution_count": 16,
   "id": "abc67997",
   "metadata": {},
   "outputs": [],
   "source": [
    "y_pred = linreg.predict(X_test)"
   ]
  },
  {
   "cell_type": "code",
   "execution_count": 17,
   "id": "3ac3f6fb",
   "metadata": {},
   "outputs": [
    {
     "name": "stdout",
     "output_type": "stream",
     "text": [
      "MAE : 17.008\n",
      "MSE : 513.933\n",
      "RMSE : 22.67\n",
      "R² : -3.035\n"
     ]
    }
   ],
   "source": [
    "regression_metrics(y_pred, y_test)"
   ]
  },
  {
   "cell_type": "code",
   "execution_count": null,
   "id": "5953f076",
   "metadata": {},
   "outputs": [],
   "source": []
  }
 ],
 "metadata": {
  "kernelspec": {
   "display_name": "Python 3",
   "language": "python",
   "name": "python3"
  },
  "language_info": {
   "codemirror_mode": {
    "name": "ipython",
    "version": 3
   },
   "file_extension": ".py",
   "mimetype": "text/x-python",
   "name": "python",
   "nbconvert_exporter": "python",
   "pygments_lexer": "ipython3",
   "version": "3.8.10"
  }
 },
 "nbformat": 4,
 "nbformat_minor": 5
}
